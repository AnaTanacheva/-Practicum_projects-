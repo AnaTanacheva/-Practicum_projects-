{
 "cells": [
  {
   "cell_type": "markdown",
   "id": "e06910dd",
   "metadata": {
    "id": "e06910dd"
   },
   "source": [
    "# Анализ рынка общепита Москвы\n",
    "\n",
    "- Автор: Анастасия Таначева\n",
    "- Дата: 05.05"
   ]
  },
  {
   "cell_type": "markdown",
   "id": "4149134c",
   "metadata": {
    "id": "4149134c"
   },
   "source": [
    "### Цели и задачи проекта\n",
    "\n",
    "<font color='#777778'>Цель проекта:</font> проведение исследовательского анализа рынка общественного питания Москвы.\n",
    "\n",
    "<font color='#777778'>Задачи проекта:</font>\n",
    "1) ознакомиться с имеющимися данными\n",
    "\n",
    "2) подготовить данные к анализу\n",
    "\n",
    "3) провести исследовательский анализ данных и ответить на поставленные вопросы\n",
    "\n",
    "4) сформулировать на основе полученных сведений общий вывод и рекомендации для коллег"
   ]
  },
  {
   "cell_type": "markdown",
   "id": "728986ea",
   "metadata": {
    "id": "728986ea"
   },
   "source": [
    "### Описание данных\n",
    "\n",
    "1. Файл /datasets/rest_info.csv содержит информацию о заведениях общественного питания:\n",
    "\n",
    "    - name — название заведения;\n",
    "\n",
    "    - address — адрес заведения;\n",
    "\n",
    "    - district — административный район, в котором находится заведение, например Центральный административный округ;\n",
    "\n",
    "    - category — категория заведения, например «кафе», «пиццерия» или «кофейня»;\n",
    "\n",
    "    - hours — информация о днях и часах работы;\n",
    "\n",
    "    - rating — рейтинг заведения по оценкам пользователей в Яндекс Картах (высшая оценка — 5.0);\n",
    "\n",
    "    - chain — число, выраженное 0 или 1, которое показывает, является ли заведение сетевым (для маленьких сетей могут встречаться ошибки):\n",
    "        \n",
    "        - 0 — заведение не является сетевым;\n",
    "        - 1 — заведение является сетевым.\n",
    "\n",
    "    - seats — количество посадочных мест.\n",
    "\n",
    "\n",
    "2. Файл /datasets/rest_price.csv содержит информацию о среднем чеке в заведениях общественного питания:\n",
    "\n",
    "    - price — категория цен в заведении, например «средние», «ниже среднего», «выше среднего» и так далее;\n",
    "\n",
    "    - avg_bill — строка, которая хранит среднюю стоимость заказа в виде диапазона, например:\n",
    "\n",
    "        - «Средний счёт: 1000–1500 ₽»;\n",
    "\n",
    "        - «Цена чашки капучино: 130–220 ₽»;\n",
    "\n",
    "        - «Цена бокала пива: 400–600 ₽».\n",
    "\n",
    "    - middle_avg_bill — число с оценкой среднего чека, которое указано только для значений из столбца avg_bill, начинающихся с подстроки «Средний счёт»:\n",
    "\n",
    "        - Если в строке указан ценовой диапазон из двух значений, в столбец войдёт медиана этих двух значений.\n",
    "\n",
    "        - Если в строке указано одно число — цена без диапазона, то в столбец войдёт это число.\n",
    "\n",
    "        - Если значения нет или оно не начинается с подстроки «Средний счёт», то в столбец ничего не войдёт.\n",
    "\n",
    "    - middle_coffee_cup — число с оценкой одной чашки капучино, которое указано только для значений из столбца avg_bill, начинающихся с подстроки «Цена одной чашки капучино»:\n",
    "\n",
    "        - Если в строке указан ценовой диапазон из двух значений, в столбец войдёт медиана этих двух значений.\n",
    "\n",
    "        - Если в строке указано одно число — цена без диапазона, то в столбец войдёт это число.\n",
    "\n",
    "        - Если значения нет или оно не начинается с подстроки «Цена одной чашки капучино», то в столбец ничего не войдёт.\n"
   ]
  },
  {
   "cell_type": "markdown",
   "id": "4fecaf95",
   "metadata": {
    "id": "4fecaf95"
   },
   "source": [
    "### Содержимое проекта\n",
    "\n",
    "- загрузка данных и знакомство с ними\n",
    "- предобработка данных\n",
    "- анализ данных\n",
    "- выводы и рекомендации"
   ]
  },
  {
   "cell_type": "markdown",
   "id": "6f7d21d6",
   "metadata": {
    "id": "6f7d21d6"
   },
   "source": [
    "## 1. Загрузка данных и знакомство с ними\n",
    "\n",
    "- Загрузите данные о заведениях общественного питания Москвы. Путь к файлам: `/datasets/rest_info.csv` и `/datasets/rest_price.csv`."
   ]
  },
  {
   "cell_type": "code",
   "execution_count": 1,
   "id": "05faf34b",
   "metadata": {
    "id": "05faf34b"
   },
   "outputs": [
    {
     "name": "stdout",
     "output_type": "stream",
     "text": [
      "Collecting missingno\n",
      "  Downloading missingno-0.5.2-py3-none-any.whl (8.7 kB)\n",
      "Requirement already satisfied: seaborn in /opt/conda/lib/python3.9/site-packages (from missingno) (0.11.1)\n",
      "Requirement already satisfied: numpy in /opt/conda/lib/python3.9/site-packages (from missingno) (1.21.1)\n",
      "Requirement already satisfied: scipy in /opt/conda/lib/python3.9/site-packages (from missingno) (1.9.1)\n",
      "Requirement already satisfied: matplotlib in /opt/conda/lib/python3.9/site-packages (from missingno) (3.3.4)\n",
      "Requirement already satisfied: cycler>=0.10 in /opt/conda/lib/python3.9/site-packages (from matplotlib->missingno) (0.11.0)\n",
      "Requirement already satisfied: python-dateutil>=2.1 in /opt/conda/lib/python3.9/site-packages (from matplotlib->missingno) (2.8.1)\n",
      "Requirement already satisfied: pillow>=6.2.0 in /opt/conda/lib/python3.9/site-packages (from matplotlib->missingno) (8.4.0)\n",
      "Requirement already satisfied: pyparsing!=2.0.4,!=2.1.2,!=2.1.6,>=2.0.3 in /opt/conda/lib/python3.9/site-packages (from matplotlib->missingno) (2.4.7)\n",
      "Requirement already satisfied: kiwisolver>=1.0.1 in /opt/conda/lib/python3.9/site-packages (from matplotlib->missingno) (1.4.4)\n",
      "Requirement already satisfied: six>=1.5 in /opt/conda/lib/python3.9/site-packages (from python-dateutil>=2.1->matplotlib->missingno) (1.16.0)\n",
      "Requirement already satisfied: pandas>=0.23 in /opt/conda/lib/python3.9/site-packages (from seaborn->missingno) (1.2.4)\n",
      "Requirement already satisfied: pytz>=2017.3 in /opt/conda/lib/python3.9/site-packages (from pandas>=0.23->seaborn->missingno) (2021.1)\n",
      "Installing collected packages: missingno\n",
      "Successfully installed missingno-0.5.2\n",
      "Collecting phik==0.11.1\n",
      "  Downloading phik-0.11.1.tar.gz (596 kB)\n",
      "\u001b[K     |████████████████████████████████| 596 kB 2.7 MB/s eta 0:00:01\n",
      "\u001b[?25hRequirement already satisfied: numpy>=1.18.0 in /opt/conda/lib/python3.9/site-packages (from phik==0.11.1) (1.21.1)\n",
      "Requirement already satisfied: scipy>=1.5.2 in /opt/conda/lib/python3.9/site-packages (from phik==0.11.1) (1.9.1)\n",
      "Requirement already satisfied: pandas>=0.25.1 in /opt/conda/lib/python3.9/site-packages (from phik==0.11.1) (1.2.4)\n",
      "Requirement already satisfied: matplotlib>=2.2.3 in /opt/conda/lib/python3.9/site-packages (from phik==0.11.1) (3.3.4)\n",
      "Requirement already satisfied: joblib>=0.14.1 in /opt/conda/lib/python3.9/site-packages (from phik==0.11.1) (1.1.0)\n",
      "Requirement already satisfied: pillow>=6.2.0 in /opt/conda/lib/python3.9/site-packages (from matplotlib>=2.2.3->phik==0.11.1) (8.4.0)\n",
      "Requirement already satisfied: kiwisolver>=1.0.1 in /opt/conda/lib/python3.9/site-packages (from matplotlib>=2.2.3->phik==0.11.1) (1.4.4)\n",
      "Requirement already satisfied: python-dateutil>=2.1 in /opt/conda/lib/python3.9/site-packages (from matplotlib>=2.2.3->phik==0.11.1) (2.8.1)\n",
      "Requirement already satisfied: cycler>=0.10 in /opt/conda/lib/python3.9/site-packages (from matplotlib>=2.2.3->phik==0.11.1) (0.11.0)\n",
      "Requirement already satisfied: pyparsing!=2.0.4,!=2.1.2,!=2.1.6,>=2.0.3 in /opt/conda/lib/python3.9/site-packages (from matplotlib>=2.2.3->phik==0.11.1) (2.4.7)\n",
      "Requirement already satisfied: pytz>=2017.3 in /opt/conda/lib/python3.9/site-packages (from pandas>=0.25.1->phik==0.11.1) (2021.1)\n",
      "Requirement already satisfied: six>=1.5 in /opt/conda/lib/python3.9/site-packages (from python-dateutil>=2.1->matplotlib>=2.2.3->phik==0.11.1) (1.16.0)\n",
      "Building wheels for collected packages: phik\n",
      "  Building wheel for phik (setup.py) ... \u001b[?25ldone\n",
      "\u001b[?25h  Created wheel for phik: filename=phik-0.11.1-py3-none-any.whl size=599822 sha256=d488923d921ba4372b56abd735ed97390bfbd5ae4eed9b8c2a6b3ba628f106eb\n",
      "  Stored in directory: /home/jovyan/.cache/pip/wheels/47/a3/a2/54f05f62f6f8c5532fab1bb745f1bad3b5f1d53267efde761d\n",
      "Successfully built phik\n",
      "Installing collected packages: phik\n",
      "Successfully installed phik-0.11.1\n"
     ]
    }
   ],
   "source": [
    "!pip install missingno\n",
    "import pandas as pd\n",
    "import missingno as msno\n",
    "import matplotlib.pyplot as plt\n",
    "import seaborn as sns\n",
    "!pip install phik==0.11.1\n",
    "from phik import phik_matrix"
   ]
  },
  {
   "cell_type": "code",
   "execution_count": 2,
   "id": "ce87c1db",
   "metadata": {
    "id": "ce87c1db",
    "scrolled": true
   },
   "outputs": [
    {
     "data": {
      "text/html": [
       "<div>\n",
       "<style scoped>\n",
       "    .dataframe tbody tr th:only-of-type {\n",
       "        vertical-align: middle;\n",
       "    }\n",
       "\n",
       "    .dataframe tbody tr th {\n",
       "        vertical-align: top;\n",
       "    }\n",
       "\n",
       "    .dataframe thead th {\n",
       "        text-align: right;\n",
       "    }\n",
       "</style>\n",
       "<table border=\"1\" class=\"dataframe\">\n",
       "  <thead>\n",
       "    <tr style=\"text-align: right;\">\n",
       "      <th></th>\n",
       "      <th>id</th>\n",
       "      <th>name</th>\n",
       "      <th>category</th>\n",
       "      <th>address</th>\n",
       "      <th>district</th>\n",
       "      <th>hours</th>\n",
       "      <th>rating</th>\n",
       "      <th>chain</th>\n",
       "      <th>seats</th>\n",
       "    </tr>\n",
       "  </thead>\n",
       "  <tbody>\n",
       "    <tr>\n",
       "      <th>0</th>\n",
       "      <td>0c3e3439a8c64ea5bf6ecd6ca6ae19f0</td>\n",
       "      <td>WoWфли</td>\n",
       "      <td>кафе</td>\n",
       "      <td>Москва, улица Дыбенко, 7/1</td>\n",
       "      <td>Северный административный округ</td>\n",
       "      <td>ежедневно, 10:00–22:00</td>\n",
       "      <td>5.0</td>\n",
       "      <td>0</td>\n",
       "      <td>NaN</td>\n",
       "    </tr>\n",
       "    <tr>\n",
       "      <th>1</th>\n",
       "      <td>045780ada3474c57a2112e505d74b633</td>\n",
       "      <td>Четыре комнаты</td>\n",
       "      <td>ресторан</td>\n",
       "      <td>Москва, улица Дыбенко, 36, корп. 1</td>\n",
       "      <td>Северный административный округ</td>\n",
       "      <td>ежедневно, 10:00–22:00</td>\n",
       "      <td>4.5</td>\n",
       "      <td>0</td>\n",
       "      <td>4.0</td>\n",
       "    </tr>\n",
       "    <tr>\n",
       "      <th>2</th>\n",
       "      <td>1070b6b59144425896c65889347fcff6</td>\n",
       "      <td>Хазри</td>\n",
       "      <td>кафе</td>\n",
       "      <td>Москва, Клязьминская улица, 15</td>\n",
       "      <td>Северный административный округ</td>\n",
       "      <td>пн-чт 11:00–02:00; пт,сб 11:00–05:00; вс 11:00...</td>\n",
       "      <td>4.6</td>\n",
       "      <td>0</td>\n",
       "      <td>45.0</td>\n",
       "    </tr>\n",
       "    <tr>\n",
       "      <th>3</th>\n",
       "      <td>03ac7cd772104f65b58b349dc59f03ee</td>\n",
       "      <td>Dormouse Coffee Shop</td>\n",
       "      <td>кофейня</td>\n",
       "      <td>Москва, улица Маршала Федоренко, 12</td>\n",
       "      <td>Северный административный округ</td>\n",
       "      <td>ежедневно, 09:00–22:00</td>\n",
       "      <td>5.0</td>\n",
       "      <td>0</td>\n",
       "      <td>NaN</td>\n",
       "    </tr>\n",
       "    <tr>\n",
       "      <th>4</th>\n",
       "      <td>a163aada139c4c7f87b0b1c0b466a50f</td>\n",
       "      <td>Иль Марко</td>\n",
       "      <td>пиццерия</td>\n",
       "      <td>Москва, Правобережная улица, 1Б</td>\n",
       "      <td>Северный административный округ</td>\n",
       "      <td>ежедневно, 10:00–22:00</td>\n",
       "      <td>5.0</td>\n",
       "      <td>1</td>\n",
       "      <td>148.0</td>\n",
       "    </tr>\n",
       "    <tr>\n",
       "      <th>...</th>\n",
       "      <td>...</td>\n",
       "      <td>...</td>\n",
       "      <td>...</td>\n",
       "      <td>...</td>\n",
       "      <td>...</td>\n",
       "      <td>...</td>\n",
       "      <td>...</td>\n",
       "      <td>...</td>\n",
       "      <td>...</td>\n",
       "    </tr>\n",
       "    <tr>\n",
       "      <th>8401</th>\n",
       "      <td>0342ad1a45ed41ba89dcba246a8267e5</td>\n",
       "      <td>Суши Мания</td>\n",
       "      <td>кафе</td>\n",
       "      <td>Москва, Профсоюзная улица, 56</td>\n",
       "      <td>Юго-Западный административный округ</td>\n",
       "      <td>ежедневно, 09:00–02:00</td>\n",
       "      <td>4.4</td>\n",
       "      <td>0</td>\n",
       "      <td>86.0</td>\n",
       "    </tr>\n",
       "    <tr>\n",
       "      <th>8402</th>\n",
       "      <td>ee6bb7c3650e47bd8186fca08eda1091</td>\n",
       "      <td>Миславнес</td>\n",
       "      <td>кафе</td>\n",
       "      <td>Москва, Пролетарский проспект, 19, корп. 1</td>\n",
       "      <td>Южный административный округ</td>\n",
       "      <td>ежедневно, 08:00–22:00</td>\n",
       "      <td>4.8</td>\n",
       "      <td>0</td>\n",
       "      <td>150.0</td>\n",
       "    </tr>\n",
       "    <tr>\n",
       "      <th>8403</th>\n",
       "      <td>62e8c64d4c89467aba608e39ef87616b</td>\n",
       "      <td>Самовар</td>\n",
       "      <td>кафе</td>\n",
       "      <td>Москва, Люблинская улица, 112А, стр. 1</td>\n",
       "      <td>Юго-Восточный административный округ</td>\n",
       "      <td>ежедневно, круглосуточно</td>\n",
       "      <td>3.9</td>\n",
       "      <td>0</td>\n",
       "      <td>150.0</td>\n",
       "    </tr>\n",
       "    <tr>\n",
       "      <th>8404</th>\n",
       "      <td>06a0db5ecd4842d48cd6350aa923e297</td>\n",
       "      <td>Чайхана Sabr</td>\n",
       "      <td>кафе</td>\n",
       "      <td>Москва, Люблинская улица, 112А, стр. 1</td>\n",
       "      <td>Юго-Восточный административный округ</td>\n",
       "      <td>ежедневно, круглосуточно</td>\n",
       "      <td>4.2</td>\n",
       "      <td>1</td>\n",
       "      <td>150.0</td>\n",
       "    </tr>\n",
       "    <tr>\n",
       "      <th>8405</th>\n",
       "      <td>9d56f8f7a7f74df1a925bc0fd2de8aae</td>\n",
       "      <td>Kebab Time</td>\n",
       "      <td>кафе</td>\n",
       "      <td>Москва, Россошанский проезд, 6</td>\n",
       "      <td>Южный административный округ</td>\n",
       "      <td>ежедневно, круглосуточно</td>\n",
       "      <td>3.9</td>\n",
       "      <td>0</td>\n",
       "      <td>12.0</td>\n",
       "    </tr>\n",
       "  </tbody>\n",
       "</table>\n",
       "<p>8406 rows × 9 columns</p>\n",
       "</div>"
      ],
      "text/plain": [
       "                                    id                  name  category  \\\n",
       "0     0c3e3439a8c64ea5bf6ecd6ca6ae19f0                WoWфли      кафе   \n",
       "1     045780ada3474c57a2112e505d74b633        Четыре комнаты  ресторан   \n",
       "2     1070b6b59144425896c65889347fcff6                 Хазри      кафе   \n",
       "3     03ac7cd772104f65b58b349dc59f03ee  Dormouse Coffee Shop   кофейня   \n",
       "4     a163aada139c4c7f87b0b1c0b466a50f             Иль Марко  пиццерия   \n",
       "...                                ...                   ...       ...   \n",
       "8401  0342ad1a45ed41ba89dcba246a8267e5            Суши Мания      кафе   \n",
       "8402  ee6bb7c3650e47bd8186fca08eda1091             Миславнес      кафе   \n",
       "8403  62e8c64d4c89467aba608e39ef87616b               Самовар      кафе   \n",
       "8404  06a0db5ecd4842d48cd6350aa923e297          Чайхана Sabr      кафе   \n",
       "8405  9d56f8f7a7f74df1a925bc0fd2de8aae            Kebab Time      кафе   \n",
       "\n",
       "                                         address  \\\n",
       "0                     Москва, улица Дыбенко, 7/1   \n",
       "1             Москва, улица Дыбенко, 36, корп. 1   \n",
       "2                 Москва, Клязьминская улица, 15   \n",
       "3            Москва, улица Маршала Федоренко, 12   \n",
       "4                Москва, Правобережная улица, 1Б   \n",
       "...                                          ...   \n",
       "8401               Москва, Профсоюзная улица, 56   \n",
       "8402  Москва, Пролетарский проспект, 19, корп. 1   \n",
       "8403      Москва, Люблинская улица, 112А, стр. 1   \n",
       "8404      Москва, Люблинская улица, 112А, стр. 1   \n",
       "8405              Москва, Россошанский проезд, 6   \n",
       "\n",
       "                                  district  \\\n",
       "0          Северный административный округ   \n",
       "1          Северный административный округ   \n",
       "2          Северный административный округ   \n",
       "3          Северный административный округ   \n",
       "4          Северный административный округ   \n",
       "...                                    ...   \n",
       "8401   Юго-Западный административный округ   \n",
       "8402          Южный административный округ   \n",
       "8403  Юго-Восточный административный округ   \n",
       "8404  Юго-Восточный административный округ   \n",
       "8405          Южный административный округ   \n",
       "\n",
       "                                                  hours  rating  chain  seats  \n",
       "0                                ежедневно, 10:00–22:00     5.0      0    NaN  \n",
       "1                                ежедневно, 10:00–22:00     4.5      0    4.0  \n",
       "2     пн-чт 11:00–02:00; пт,сб 11:00–05:00; вс 11:00...     4.6      0   45.0  \n",
       "3                                ежедневно, 09:00–22:00     5.0      0    NaN  \n",
       "4                                ежедневно, 10:00–22:00     5.0      1  148.0  \n",
       "...                                                 ...     ...    ...    ...  \n",
       "8401                             ежедневно, 09:00–02:00     4.4      0   86.0  \n",
       "8402                             ежедневно, 08:00–22:00     4.8      0  150.0  \n",
       "8403                           ежедневно, круглосуточно     3.9      0  150.0  \n",
       "8404                           ежедневно, круглосуточно     4.2      1  150.0  \n",
       "8405                           ежедневно, круглосуточно     3.9      0   12.0  \n",
       "\n",
       "[8406 rows x 9 columns]"
      ]
     },
     "metadata": {},
     "output_type": "display_data"
    }
   ],
   "source": [
    "file_path = 'https://code.s3.yandex.net/datasets/'\n",
    "df_1 = pd.read_csv(f'{file_path}rest_info.csv')\n",
    "\n",
    "display(df_1)"
   ]
  },
  {
   "cell_type": "code",
   "execution_count": 3,
   "id": "90fee493",
   "metadata": {
    "id": "90fee493"
   },
   "outputs": [
    {
     "data": {
      "text/html": [
       "<div>\n",
       "<style scoped>\n",
       "    .dataframe tbody tr th:only-of-type {\n",
       "        vertical-align: middle;\n",
       "    }\n",
       "\n",
       "    .dataframe tbody tr th {\n",
       "        vertical-align: top;\n",
       "    }\n",
       "\n",
       "    .dataframe thead th {\n",
       "        text-align: right;\n",
       "    }\n",
       "</style>\n",
       "<table border=\"1\" class=\"dataframe\">\n",
       "  <thead>\n",
       "    <tr style=\"text-align: right;\">\n",
       "      <th></th>\n",
       "      <th>id</th>\n",
       "      <th>price</th>\n",
       "      <th>avg_bill</th>\n",
       "      <th>middle_avg_bill</th>\n",
       "      <th>middle_coffee_cup</th>\n",
       "    </tr>\n",
       "  </thead>\n",
       "  <tbody>\n",
       "    <tr>\n",
       "      <th>0</th>\n",
       "      <td>045780ada3474c57a2112e505d74b633</td>\n",
       "      <td>выше среднего</td>\n",
       "      <td>Средний счёт:1500–1600 ₽</td>\n",
       "      <td>1550.0</td>\n",
       "      <td>NaN</td>\n",
       "    </tr>\n",
       "    <tr>\n",
       "      <th>1</th>\n",
       "      <td>1070b6b59144425896c65889347fcff6</td>\n",
       "      <td>средние</td>\n",
       "      <td>Средний счёт:от 1000 ₽</td>\n",
       "      <td>1000.0</td>\n",
       "      <td>NaN</td>\n",
       "    </tr>\n",
       "    <tr>\n",
       "      <th>2</th>\n",
       "      <td>03ac7cd772104f65b58b349dc59f03ee</td>\n",
       "      <td>NaN</td>\n",
       "      <td>Цена чашки капучино:155–185 ₽</td>\n",
       "      <td>NaN</td>\n",
       "      <td>170.0</td>\n",
       "    </tr>\n",
       "    <tr>\n",
       "      <th>3</th>\n",
       "      <td>a163aada139c4c7f87b0b1c0b466a50f</td>\n",
       "      <td>средние</td>\n",
       "      <td>Средний счёт:400–600 ₽</td>\n",
       "      <td>500.0</td>\n",
       "      <td>NaN</td>\n",
       "    </tr>\n",
       "    <tr>\n",
       "      <th>4</th>\n",
       "      <td>8a343546b24e4a499ad96eb7d0797a8a</td>\n",
       "      <td>средние</td>\n",
       "      <td>NaN</td>\n",
       "      <td>NaN</td>\n",
       "      <td>NaN</td>\n",
       "    </tr>\n",
       "    <tr>\n",
       "      <th>...</th>\n",
       "      <td>...</td>\n",
       "      <td>...</td>\n",
       "      <td>...</td>\n",
       "      <td>...</td>\n",
       "      <td>...</td>\n",
       "    </tr>\n",
       "    <tr>\n",
       "      <th>4053</th>\n",
       "      <td>962800540173458486f3c465437c2d8b</td>\n",
       "      <td>средние</td>\n",
       "      <td>Цена бокала пива:от 140 ₽</td>\n",
       "      <td>NaN</td>\n",
       "      <td>NaN</td>\n",
       "    </tr>\n",
       "    <tr>\n",
       "      <th>4054</th>\n",
       "      <td>4277890d659341848d7051cbf2e51f51</td>\n",
       "      <td>выше среднего</td>\n",
       "      <td>Средний счёт:1000–1500 ₽</td>\n",
       "      <td>1250.0</td>\n",
       "      <td>NaN</td>\n",
       "    </tr>\n",
       "    <tr>\n",
       "      <th>4055</th>\n",
       "      <td>026cbc478f9b4c3294a83458dcd89982</td>\n",
       "      <td>средние</td>\n",
       "      <td>NaN</td>\n",
       "      <td>NaN</td>\n",
       "      <td>NaN</td>\n",
       "    </tr>\n",
       "    <tr>\n",
       "      <th>4056</th>\n",
       "      <td>71cc394927204d45b81c3a91edb47955</td>\n",
       "      <td>NaN</td>\n",
       "      <td>Средний счёт:50–250 ₽</td>\n",
       "      <td>150.0</td>\n",
       "      <td>NaN</td>\n",
       "    </tr>\n",
       "    <tr>\n",
       "      <th>4057</th>\n",
       "      <td>62e8c64d4c89467aba608e39ef87616b</td>\n",
       "      <td>NaN</td>\n",
       "      <td>Средний счёт:от 150 ₽</td>\n",
       "      <td>150.0</td>\n",
       "      <td>NaN</td>\n",
       "    </tr>\n",
       "  </tbody>\n",
       "</table>\n",
       "<p>4058 rows × 5 columns</p>\n",
       "</div>"
      ],
      "text/plain": [
       "                                    id          price  \\\n",
       "0     045780ada3474c57a2112e505d74b633  выше среднего   \n",
       "1     1070b6b59144425896c65889347fcff6        средние   \n",
       "2     03ac7cd772104f65b58b349dc59f03ee            NaN   \n",
       "3     a163aada139c4c7f87b0b1c0b466a50f        средние   \n",
       "4     8a343546b24e4a499ad96eb7d0797a8a        средние   \n",
       "...                                ...            ...   \n",
       "4053  962800540173458486f3c465437c2d8b        средние   \n",
       "4054  4277890d659341848d7051cbf2e51f51  выше среднего   \n",
       "4055  026cbc478f9b4c3294a83458dcd89982        средние   \n",
       "4056  71cc394927204d45b81c3a91edb47955            NaN   \n",
       "4057  62e8c64d4c89467aba608e39ef87616b            NaN   \n",
       "\n",
       "                           avg_bill  middle_avg_bill  middle_coffee_cup  \n",
       "0          Средний счёт:1500–1600 ₽           1550.0                NaN  \n",
       "1            Средний счёт:от 1000 ₽           1000.0                NaN  \n",
       "2     Цена чашки капучино:155–185 ₽              NaN              170.0  \n",
       "3            Средний счёт:400–600 ₽            500.0                NaN  \n",
       "4                               NaN              NaN                NaN  \n",
       "...                             ...              ...                ...  \n",
       "4053      Цена бокала пива:от 140 ₽              NaN                NaN  \n",
       "4054       Средний счёт:1000–1500 ₽           1250.0                NaN  \n",
       "4055                            NaN              NaN                NaN  \n",
       "4056          Средний счёт:50–250 ₽            150.0                NaN  \n",
       "4057          Средний счёт:от 150 ₽            150.0                NaN  \n",
       "\n",
       "[4058 rows x 5 columns]"
      ]
     },
     "metadata": {},
     "output_type": "display_data"
    }
   ],
   "source": [
    "file_path = 'https://code.s3.yandex.net/datasets/'\n",
    "df_2 = pd.read_csv(f'{file_path}rest_price.csv')\n",
    "\n",
    "display(df_2)"
   ]
  },
  {
   "cell_type": "markdown",
   "id": "18b5dfff",
   "metadata": {
    "id": "18b5dfff"
   },
   "source": [
    "- Познакомьтесь с данными и изучите общую информацию о них."
   ]
  },
  {
   "cell_type": "code",
   "execution_count": 4,
   "id": "f68a7419",
   "metadata": {
    "id": "f68a7419"
   },
   "outputs": [
    {
     "name": "stdout",
     "output_type": "stream",
     "text": [
      "<class 'pandas.core.frame.DataFrame'>\n",
      "RangeIndex: 8406 entries, 0 to 8405\n",
      "Data columns (total 9 columns):\n",
      " #   Column    Non-Null Count  Dtype  \n",
      "---  ------    --------------  -----  \n",
      " 0   id        8406 non-null   object \n",
      " 1   name      8406 non-null   object \n",
      " 2   category  8406 non-null   object \n",
      " 3   address   8406 non-null   object \n",
      " 4   district  8406 non-null   object \n",
      " 5   hours     7870 non-null   object \n",
      " 6   rating    8406 non-null   float64\n",
      " 7   chain     8406 non-null   int64  \n",
      " 8   seats     4795 non-null   float64\n",
      "dtypes: float64(2), int64(1), object(6)\n",
      "memory usage: 591.2+ KB\n"
     ]
    },
    {
     "data": {
      "text/plain": [
       "None"
      ]
     },
     "metadata": {},
     "output_type": "display_data"
    }
   ],
   "source": [
    "display(df_1.info())"
   ]
  },
  {
   "cell_type": "code",
   "execution_count": 5,
   "id": "dd415c80",
   "metadata": {
    "id": "dd415c80"
   },
   "outputs": [
    {
     "name": "stdout",
     "output_type": "stream",
     "text": [
      "<class 'pandas.core.frame.DataFrame'>\n",
      "RangeIndex: 4058 entries, 0 to 4057\n",
      "Data columns (total 5 columns):\n",
      " #   Column             Non-Null Count  Dtype  \n",
      "---  ------             --------------  -----  \n",
      " 0   id                 4058 non-null   object \n",
      " 1   price              3315 non-null   object \n",
      " 2   avg_bill           3816 non-null   object \n",
      " 3   middle_avg_bill    3149 non-null   float64\n",
      " 4   middle_coffee_cup  535 non-null    float64\n",
      "dtypes: float64(2), object(3)\n",
      "memory usage: 158.6+ KB\n"
     ]
    },
    {
     "data": {
      "text/plain": [
       "None"
      ]
     },
     "metadata": {},
     "output_type": "display_data"
    }
   ],
   "source": [
    "display(df_2.info())"
   ]
  },
  {
   "cell_type": "markdown",
   "id": "6a6a8926",
   "metadata": {
    "id": "3593b7d5"
   },
   "source": [
    "### Проанализировав предоставленный фрагмент данных, можно сделать следующие выводы:\n",
    "\n",
    "<font color='#777778'>Объём данных:</font> в первом из предоставленных датасетов содержится 8406 строк и 9 столбцов. На мой взгляд, это хороший объем, который позволит провести статистический анализ и выявить некоторые закономерности. \n",
    "\n",
    "Во втором из представленных датасетов содержится 4058 строк и 5 столбцов. Этот датасетов меньше первого, однако и его данных должно быть достаточно для проведения качественного анализа. \n",
    "\n",
    "<font color='#777778'>Соответствие описания содержанию:</font> названия столбцов в первом датасете в целом соответствуют содержанию:\n",
    "- name — название заведения;\n",
    "- address — адрес заведения;\n",
    "- district — административный район, в котором находится заведение, например Центральный административный округ;\n",
    "- category — категория заведения, например «кафе», «пиццерия» или «кофейня»;\n",
    "- hours — информация о днях и часах работы;\n",
    "- rating — рейтинг заведения по оценкам пользователей в Яндекс Картах;\n",
    "- chain — число, выраженное 0 или 1, которое показывает, является ли заведение сетевым;\n",
    "- seats — количество посадочных мест.\n",
    "\n",
    "Названия столбцов во втором датасете также соответствуют их содержанию:\n",
    "- price — категория цен в заведении, например «средние», «ниже среднего», «выше среднего» и так далее;\n",
    "- avg_bill — строка, которая хранит среднюю стоимость заказа в виде диапазона, например:\n",
    "- middle_avg_bill — число с оценкой среднего чека, которое указано только для значений из столбца avg_bill, начинающихся с подстроки «Средний счёт»;\n",
    "- middle_coffee_cup — число с оценкой одной чашки капучино, которое указано только для значений из столбца avg_bill, начинающихся с подстроки «Цена одной чашки капучино»:\n",
    "\n",
    "<font color='#777778'>Пропуски в первом датасете:</font> в данных присутствуют пропуски, однако большинство столбцов их не содержат. Пропуски встречаются в столбцах hours и seats.\n",
    "\n",
    "<font color='#777778'>Пропуски во втором датасете:</font> в данных явно присутствуют пропуски. Они встречаются в столбцах price, avg_bill, middle_avg_bill, middle_coffee_cup. Отметим, впрочем, что в двух последних часть пропусков объясняется условиями заполнения этих столбцов. Так, в столбце middle_avg_bill может быть пропуск, если в столбце avg_bill значения нет или оно не начинается с подстроки «Средний счёт». В столбце middle_coffee_cup пропуск может возникнуть, если в стобце avg_bill значения нет или оно не начинается с подстроки «Цена одной чашки капучино».\n",
    "\n",
    "<font color='#777778'>Типы данных:</font>\n",
    "Типы данных, на мой взгляд, соответствуют содержанию ячеек, а значит их можно будет не менять далее. Можно было бы попробовать поменять тип данных в столбце seats на целочисленый (int), поскольку сейчас он float, что несколько странно, ведь у нас не среднее количество мест. Однако для этого нужно заполнить пропуски в этом столбце. Но заполнять их чем бы то ни было кажется мне некорректным, поскольку сильно исказит картину предоставленных данных.  \n",
    "\n",
    "<font color='#777778'>Особенности данных и предобработка:</font>\n",
    "\n",
    "1. Названия столбцов: названия столбцов хорошо отражают суть данных.\n",
    "2. Пропуски: обработка пропусков критически важна. Необходимо решить, чем вызваны пропуски, как их заполнить (например, средним, или медианой, или модой), удалить строки с пропусками и оставить так, как есть. \n",
    "3. Дубликаты: стоит проверить данные на наличие явных и неявных дубликатов строк, которые могут исказить результаты анализа."
   ]
  },
  {
   "cell_type": "markdown",
   "id": "8a8d1491",
   "metadata": {
    "id": "8a8d1491"
   },
   "source": [
    "### Подготовка единого датафрейма\n",
    "\n",
    "- Объедините данные двух датасетов в один, с которым вы и продолжите работу."
   ]
  },
  {
   "cell_type": "code",
   "execution_count": 6,
   "id": "3408e303",
   "metadata": {
    "id": "3408e303",
    "scrolled": true
   },
   "outputs": [
    {
     "data": {
      "text/html": [
       "<div>\n",
       "<style scoped>\n",
       "    .dataframe tbody tr th:only-of-type {\n",
       "        vertical-align: middle;\n",
       "    }\n",
       "\n",
       "    .dataframe tbody tr th {\n",
       "        vertical-align: top;\n",
       "    }\n",
       "\n",
       "    .dataframe thead th {\n",
       "        text-align: right;\n",
       "    }\n",
       "</style>\n",
       "<table border=\"1\" class=\"dataframe\">\n",
       "  <thead>\n",
       "    <tr style=\"text-align: right;\">\n",
       "      <th></th>\n",
       "      <th>id</th>\n",
       "      <th>name</th>\n",
       "      <th>category</th>\n",
       "      <th>address</th>\n",
       "      <th>district</th>\n",
       "      <th>hours</th>\n",
       "      <th>rating</th>\n",
       "      <th>chain</th>\n",
       "      <th>seats</th>\n",
       "      <th>price</th>\n",
       "      <th>avg_bill</th>\n",
       "      <th>middle_avg_bill</th>\n",
       "      <th>middle_coffee_cup</th>\n",
       "    </tr>\n",
       "  </thead>\n",
       "  <tbody>\n",
       "    <tr>\n",
       "      <th>0</th>\n",
       "      <td>0c3e3439a8c64ea5bf6ecd6ca6ae19f0</td>\n",
       "      <td>WoWфли</td>\n",
       "      <td>кафе</td>\n",
       "      <td>Москва, улица Дыбенко, 7/1</td>\n",
       "      <td>Северный административный округ</td>\n",
       "      <td>ежедневно, 10:00–22:00</td>\n",
       "      <td>5.0</td>\n",
       "      <td>0</td>\n",
       "      <td>NaN</td>\n",
       "      <td>NaN</td>\n",
       "      <td>NaN</td>\n",
       "      <td>NaN</td>\n",
       "      <td>NaN</td>\n",
       "    </tr>\n",
       "    <tr>\n",
       "      <th>1</th>\n",
       "      <td>045780ada3474c57a2112e505d74b633</td>\n",
       "      <td>Четыре комнаты</td>\n",
       "      <td>ресторан</td>\n",
       "      <td>Москва, улица Дыбенко, 36, корп. 1</td>\n",
       "      <td>Северный административный округ</td>\n",
       "      <td>ежедневно, 10:00–22:00</td>\n",
       "      <td>4.5</td>\n",
       "      <td>0</td>\n",
       "      <td>4.0</td>\n",
       "      <td>выше среднего</td>\n",
       "      <td>Средний счёт:1500–1600 ₽</td>\n",
       "      <td>1550.0</td>\n",
       "      <td>NaN</td>\n",
       "    </tr>\n",
       "    <tr>\n",
       "      <th>2</th>\n",
       "      <td>1070b6b59144425896c65889347fcff6</td>\n",
       "      <td>Хазри</td>\n",
       "      <td>кафе</td>\n",
       "      <td>Москва, Клязьминская улица, 15</td>\n",
       "      <td>Северный административный округ</td>\n",
       "      <td>пн-чт 11:00–02:00; пт,сб 11:00–05:00; вс 11:00...</td>\n",
       "      <td>4.6</td>\n",
       "      <td>0</td>\n",
       "      <td>45.0</td>\n",
       "      <td>средние</td>\n",
       "      <td>Средний счёт:от 1000 ₽</td>\n",
       "      <td>1000.0</td>\n",
       "      <td>NaN</td>\n",
       "    </tr>\n",
       "    <tr>\n",
       "      <th>3</th>\n",
       "      <td>03ac7cd772104f65b58b349dc59f03ee</td>\n",
       "      <td>Dormouse Coffee Shop</td>\n",
       "      <td>кофейня</td>\n",
       "      <td>Москва, улица Маршала Федоренко, 12</td>\n",
       "      <td>Северный административный округ</td>\n",
       "      <td>ежедневно, 09:00–22:00</td>\n",
       "      <td>5.0</td>\n",
       "      <td>0</td>\n",
       "      <td>NaN</td>\n",
       "      <td>NaN</td>\n",
       "      <td>Цена чашки капучино:155–185 ₽</td>\n",
       "      <td>NaN</td>\n",
       "      <td>170.0</td>\n",
       "    </tr>\n",
       "    <tr>\n",
       "      <th>4</th>\n",
       "      <td>a163aada139c4c7f87b0b1c0b466a50f</td>\n",
       "      <td>Иль Марко</td>\n",
       "      <td>пиццерия</td>\n",
       "      <td>Москва, Правобережная улица, 1Б</td>\n",
       "      <td>Северный административный округ</td>\n",
       "      <td>ежедневно, 10:00–22:00</td>\n",
       "      <td>5.0</td>\n",
       "      <td>1</td>\n",
       "      <td>148.0</td>\n",
       "      <td>средние</td>\n",
       "      <td>Средний счёт:400–600 ₽</td>\n",
       "      <td>500.0</td>\n",
       "      <td>NaN</td>\n",
       "    </tr>\n",
       "    <tr>\n",
       "      <th>...</th>\n",
       "      <td>...</td>\n",
       "      <td>...</td>\n",
       "      <td>...</td>\n",
       "      <td>...</td>\n",
       "      <td>...</td>\n",
       "      <td>...</td>\n",
       "      <td>...</td>\n",
       "      <td>...</td>\n",
       "      <td>...</td>\n",
       "      <td>...</td>\n",
       "      <td>...</td>\n",
       "      <td>...</td>\n",
       "      <td>...</td>\n",
       "    </tr>\n",
       "    <tr>\n",
       "      <th>8401</th>\n",
       "      <td>0342ad1a45ed41ba89dcba246a8267e5</td>\n",
       "      <td>Суши Мания</td>\n",
       "      <td>кафе</td>\n",
       "      <td>Москва, Профсоюзная улица, 56</td>\n",
       "      <td>Юго-Западный административный округ</td>\n",
       "      <td>ежедневно, 09:00–02:00</td>\n",
       "      <td>4.4</td>\n",
       "      <td>0</td>\n",
       "      <td>86.0</td>\n",
       "      <td>NaN</td>\n",
       "      <td>NaN</td>\n",
       "      <td>NaN</td>\n",
       "      <td>NaN</td>\n",
       "    </tr>\n",
       "    <tr>\n",
       "      <th>8402</th>\n",
       "      <td>ee6bb7c3650e47bd8186fca08eda1091</td>\n",
       "      <td>Миславнес</td>\n",
       "      <td>кафе</td>\n",
       "      <td>Москва, Пролетарский проспект, 19, корп. 1</td>\n",
       "      <td>Южный административный округ</td>\n",
       "      <td>ежедневно, 08:00–22:00</td>\n",
       "      <td>4.8</td>\n",
       "      <td>0</td>\n",
       "      <td>150.0</td>\n",
       "      <td>NaN</td>\n",
       "      <td>NaN</td>\n",
       "      <td>NaN</td>\n",
       "      <td>NaN</td>\n",
       "    </tr>\n",
       "    <tr>\n",
       "      <th>8403</th>\n",
       "      <td>62e8c64d4c89467aba608e39ef87616b</td>\n",
       "      <td>Самовар</td>\n",
       "      <td>кафе</td>\n",
       "      <td>Москва, Люблинская улица, 112А, стр. 1</td>\n",
       "      <td>Юго-Восточный административный округ</td>\n",
       "      <td>ежедневно, круглосуточно</td>\n",
       "      <td>3.9</td>\n",
       "      <td>0</td>\n",
       "      <td>150.0</td>\n",
       "      <td>NaN</td>\n",
       "      <td>Средний счёт:от 150 ₽</td>\n",
       "      <td>150.0</td>\n",
       "      <td>NaN</td>\n",
       "    </tr>\n",
       "    <tr>\n",
       "      <th>8404</th>\n",
       "      <td>06a0db5ecd4842d48cd6350aa923e297</td>\n",
       "      <td>Чайхана Sabr</td>\n",
       "      <td>кафе</td>\n",
       "      <td>Москва, Люблинская улица, 112А, стр. 1</td>\n",
       "      <td>Юго-Восточный административный округ</td>\n",
       "      <td>ежедневно, круглосуточно</td>\n",
       "      <td>4.2</td>\n",
       "      <td>1</td>\n",
       "      <td>150.0</td>\n",
       "      <td>NaN</td>\n",
       "      <td>NaN</td>\n",
       "      <td>NaN</td>\n",
       "      <td>NaN</td>\n",
       "    </tr>\n",
       "    <tr>\n",
       "      <th>8405</th>\n",
       "      <td>9d56f8f7a7f74df1a925bc0fd2de8aae</td>\n",
       "      <td>Kebab Time</td>\n",
       "      <td>кафе</td>\n",
       "      <td>Москва, Россошанский проезд, 6</td>\n",
       "      <td>Южный административный округ</td>\n",
       "      <td>ежедневно, круглосуточно</td>\n",
       "      <td>3.9</td>\n",
       "      <td>0</td>\n",
       "      <td>12.0</td>\n",
       "      <td>NaN</td>\n",
       "      <td>NaN</td>\n",
       "      <td>NaN</td>\n",
       "      <td>NaN</td>\n",
       "    </tr>\n",
       "  </tbody>\n",
       "</table>\n",
       "<p>8406 rows × 13 columns</p>\n",
       "</div>"
      ],
      "text/plain": [
       "                                    id                  name  category  \\\n",
       "0     0c3e3439a8c64ea5bf6ecd6ca6ae19f0                WoWфли      кафе   \n",
       "1     045780ada3474c57a2112e505d74b633        Четыре комнаты  ресторан   \n",
       "2     1070b6b59144425896c65889347fcff6                 Хазри      кафе   \n",
       "3     03ac7cd772104f65b58b349dc59f03ee  Dormouse Coffee Shop   кофейня   \n",
       "4     a163aada139c4c7f87b0b1c0b466a50f             Иль Марко  пиццерия   \n",
       "...                                ...                   ...       ...   \n",
       "8401  0342ad1a45ed41ba89dcba246a8267e5            Суши Мания      кафе   \n",
       "8402  ee6bb7c3650e47bd8186fca08eda1091             Миславнес      кафе   \n",
       "8403  62e8c64d4c89467aba608e39ef87616b               Самовар      кафе   \n",
       "8404  06a0db5ecd4842d48cd6350aa923e297          Чайхана Sabr      кафе   \n",
       "8405  9d56f8f7a7f74df1a925bc0fd2de8aae            Kebab Time      кафе   \n",
       "\n",
       "                                         address  \\\n",
       "0                     Москва, улица Дыбенко, 7/1   \n",
       "1             Москва, улица Дыбенко, 36, корп. 1   \n",
       "2                 Москва, Клязьминская улица, 15   \n",
       "3            Москва, улица Маршала Федоренко, 12   \n",
       "4                Москва, Правобережная улица, 1Б   \n",
       "...                                          ...   \n",
       "8401               Москва, Профсоюзная улица, 56   \n",
       "8402  Москва, Пролетарский проспект, 19, корп. 1   \n",
       "8403      Москва, Люблинская улица, 112А, стр. 1   \n",
       "8404      Москва, Люблинская улица, 112А, стр. 1   \n",
       "8405              Москва, Россошанский проезд, 6   \n",
       "\n",
       "                                  district  \\\n",
       "0          Северный административный округ   \n",
       "1          Северный административный округ   \n",
       "2          Северный административный округ   \n",
       "3          Северный административный округ   \n",
       "4          Северный административный округ   \n",
       "...                                    ...   \n",
       "8401   Юго-Западный административный округ   \n",
       "8402          Южный административный округ   \n",
       "8403  Юго-Восточный административный округ   \n",
       "8404  Юго-Восточный административный округ   \n",
       "8405          Южный административный округ   \n",
       "\n",
       "                                                  hours  rating  chain  seats  \\\n",
       "0                                ежедневно, 10:00–22:00     5.0      0    NaN   \n",
       "1                                ежедневно, 10:00–22:00     4.5      0    4.0   \n",
       "2     пн-чт 11:00–02:00; пт,сб 11:00–05:00; вс 11:00...     4.6      0   45.0   \n",
       "3                                ежедневно, 09:00–22:00     5.0      0    NaN   \n",
       "4                                ежедневно, 10:00–22:00     5.0      1  148.0   \n",
       "...                                                 ...     ...    ...    ...   \n",
       "8401                             ежедневно, 09:00–02:00     4.4      0   86.0   \n",
       "8402                             ежедневно, 08:00–22:00     4.8      0  150.0   \n",
       "8403                           ежедневно, круглосуточно     3.9      0  150.0   \n",
       "8404                           ежедневно, круглосуточно     4.2      1  150.0   \n",
       "8405                           ежедневно, круглосуточно     3.9      0   12.0   \n",
       "\n",
       "              price                       avg_bill  middle_avg_bill  \\\n",
       "0               NaN                            NaN              NaN   \n",
       "1     выше среднего       Средний счёт:1500–1600 ₽           1550.0   \n",
       "2           средние         Средний счёт:от 1000 ₽           1000.0   \n",
       "3               NaN  Цена чашки капучино:155–185 ₽              NaN   \n",
       "4           средние         Средний счёт:400–600 ₽            500.0   \n",
       "...             ...                            ...              ...   \n",
       "8401            NaN                            NaN              NaN   \n",
       "8402            NaN                            NaN              NaN   \n",
       "8403            NaN          Средний счёт:от 150 ₽            150.0   \n",
       "8404            NaN                            NaN              NaN   \n",
       "8405            NaN                            NaN              NaN   \n",
       "\n",
       "      middle_coffee_cup  \n",
       "0                   NaN  \n",
       "1                   NaN  \n",
       "2                   NaN  \n",
       "3                 170.0  \n",
       "4                   NaN  \n",
       "...                 ...  \n",
       "8401                NaN  \n",
       "8402                NaN  \n",
       "8403                NaN  \n",
       "8404                NaN  \n",
       "8405                NaN  \n",
       "\n",
       "[8406 rows x 13 columns]"
      ]
     },
     "metadata": {},
     "output_type": "display_data"
    }
   ],
   "source": [
    "df = df_1.merge(df_2, how='left', on='id')\n",
    "\n",
    "display(df)"
   ]
  },
  {
   "cell_type": "markdown",
   "id": "956e82e2",
   "metadata": {
    "id": "956e82e2"
   },
   "source": [
    "## 2. Предобработка данных\n",
    "\n",
    "Подготовьте данные к исследовательскому анализу:\n",
    "\n",
    "- Изучите корректность типов данных и при необходимости проведите их преобразование."
   ]
  },
  {
   "cell_type": "markdown",
   "id": "7d9b9018",
   "metadata": {
    "id": "67956690"
   },
   "source": [
    "#### Тип данных во всех столбцах кажется мне корректным."
   ]
  },
  {
   "cell_type": "markdown",
   "id": "4b7ee469",
   "metadata": {
    "id": "4b7ee469"
   },
   "source": [
    "- Изучите пропущенные значения в данных: посчитайте их количество в каждом столбце датафрейме, изучите данные с пропущенными значениями и предположите гипотезы их появления. Проведите обработку пропущенных значений: вы можете заменить пропуски на определённое значение, удалить строки с пропусками или оставить их как есть."
   ]
  },
  {
   "cell_type": "code",
   "execution_count": 7,
   "id": "3d8840ca",
   "metadata": {
    "id": "3d8840ca",
    "scrolled": false
   },
   "outputs": [
    {
     "data": {
      "text/html": [
       "<style  type=\"text/css\" >\n",
       "#T_84790_row0_col0,#T_84790_row0_col1{\n",
       "            background-color:  #b40426;\n",
       "            color:  #f1f1f1;\n",
       "        }#T_84790_row1_col0,#T_84790_row1_col1{\n",
       "            background-color:  #f7b89c;\n",
       "            color:  #000000;\n",
       "        }#T_84790_row2_col0,#T_84790_row2_col1{\n",
       "            background-color:  #f6bea4;\n",
       "            color:  #000000;\n",
       "        }#T_84790_row3_col0,#T_84790_row3_col1{\n",
       "            background-color:  #efcebd;\n",
       "            color:  #000000;\n",
       "        }#T_84790_row4_col0,#T_84790_row4_col1{\n",
       "            background-color:  #d2dbe8;\n",
       "            color:  #000000;\n",
       "        }#T_84790_row5_col0,#T_84790_row5_col1{\n",
       "            background-color:  #4f69d9;\n",
       "            color:  #000000;\n",
       "        }#T_84790_row6_col0,#T_84790_row6_col1,#T_84790_row7_col0,#T_84790_row7_col1,#T_84790_row8_col0,#T_84790_row8_col1,#T_84790_row9_col0,#T_84790_row9_col1,#T_84790_row10_col0,#T_84790_row10_col1,#T_84790_row11_col0,#T_84790_row11_col1,#T_84790_row12_col0,#T_84790_row12_col1{\n",
       "            background-color:  #3b4cc0;\n",
       "            color:  #f1f1f1;\n",
       "        }</style><table id=\"T_84790_\" ><thead>    <tr>        <th class=\"blank level0\" ></th>        <th class=\"col_heading level0 col0\" >Кол-во пропусков</th>        <th class=\"col_heading level0 col1\" >Доля пропусков</th>    </tr></thead><tbody>\n",
       "                <tr>\n",
       "                        <th id=\"T_84790_level0_row0\" class=\"row_heading level0 row0\" >middle_coffee_cup</th>\n",
       "                        <td id=\"T_84790_row0_col0\" class=\"data row0 col0\" >7871</td>\n",
       "                        <td id=\"T_84790_row0_col1\" class=\"data row0 col1\" >93.635498</td>\n",
       "            </tr>\n",
       "            <tr>\n",
       "                        <th id=\"T_84790_level0_row1\" class=\"row_heading level0 row1\" >middle_avg_bill</th>\n",
       "                        <td id=\"T_84790_row1_col0\" class=\"data row1 col0\" >5257</td>\n",
       "                        <td id=\"T_84790_row1_col1\" class=\"data row1 col1\" >62.538663</td>\n",
       "            </tr>\n",
       "            <tr>\n",
       "                        <th id=\"T_84790_level0_row2\" class=\"row_heading level0 row2\" >price</th>\n",
       "                        <td id=\"T_84790_row2_col0\" class=\"data row2 col0\" >5091</td>\n",
       "                        <td id=\"T_84790_row2_col1\" class=\"data row2 col1\" >60.563883</td>\n",
       "            </tr>\n",
       "            <tr>\n",
       "                        <th id=\"T_84790_level0_row3\" class=\"row_heading level0 row3\" >avg_bill</th>\n",
       "                        <td id=\"T_84790_row3_col0\" class=\"data row3 col0\" >4590</td>\n",
       "                        <td id=\"T_84790_row3_col1\" class=\"data row3 col1\" >54.603854</td>\n",
       "            </tr>\n",
       "            <tr>\n",
       "                        <th id=\"T_84790_level0_row4\" class=\"row_heading level0 row4\" >seats</th>\n",
       "                        <td id=\"T_84790_row4_col0\" class=\"data row4 col0\" >3611</td>\n",
       "                        <td id=\"T_84790_row4_col1\" class=\"data row4 col1\" >42.957411</td>\n",
       "            </tr>\n",
       "            <tr>\n",
       "                        <th id=\"T_84790_level0_row5\" class=\"row_heading level0 row5\" >hours</th>\n",
       "                        <td id=\"T_84790_row5_col0\" class=\"data row5 col0\" >536</td>\n",
       "                        <td id=\"T_84790_row5_col1\" class=\"data row5 col1\" >6.376398</td>\n",
       "            </tr>\n",
       "            <tr>\n",
       "                        <th id=\"T_84790_level0_row6\" class=\"row_heading level0 row6\" >id</th>\n",
       "                        <td id=\"T_84790_row6_col0\" class=\"data row6 col0\" >0</td>\n",
       "                        <td id=\"T_84790_row6_col1\" class=\"data row6 col1\" >0.000000</td>\n",
       "            </tr>\n",
       "            <tr>\n",
       "                        <th id=\"T_84790_level0_row7\" class=\"row_heading level0 row7\" >name</th>\n",
       "                        <td id=\"T_84790_row7_col0\" class=\"data row7 col0\" >0</td>\n",
       "                        <td id=\"T_84790_row7_col1\" class=\"data row7 col1\" >0.000000</td>\n",
       "            </tr>\n",
       "            <tr>\n",
       "                        <th id=\"T_84790_level0_row8\" class=\"row_heading level0 row8\" >category</th>\n",
       "                        <td id=\"T_84790_row8_col0\" class=\"data row8 col0\" >0</td>\n",
       "                        <td id=\"T_84790_row8_col1\" class=\"data row8 col1\" >0.000000</td>\n",
       "            </tr>\n",
       "            <tr>\n",
       "                        <th id=\"T_84790_level0_row9\" class=\"row_heading level0 row9\" >address</th>\n",
       "                        <td id=\"T_84790_row9_col0\" class=\"data row9 col0\" >0</td>\n",
       "                        <td id=\"T_84790_row9_col1\" class=\"data row9 col1\" >0.000000</td>\n",
       "            </tr>\n",
       "            <tr>\n",
       "                        <th id=\"T_84790_level0_row10\" class=\"row_heading level0 row10\" >district</th>\n",
       "                        <td id=\"T_84790_row10_col0\" class=\"data row10 col0\" >0</td>\n",
       "                        <td id=\"T_84790_row10_col1\" class=\"data row10 col1\" >0.000000</td>\n",
       "            </tr>\n",
       "            <tr>\n",
       "                        <th id=\"T_84790_level0_row11\" class=\"row_heading level0 row11\" >rating</th>\n",
       "                        <td id=\"T_84790_row11_col0\" class=\"data row11 col0\" >0</td>\n",
       "                        <td id=\"T_84790_row11_col1\" class=\"data row11 col1\" >0.000000</td>\n",
       "            </tr>\n",
       "            <tr>\n",
       "                        <th id=\"T_84790_level0_row12\" class=\"row_heading level0 row12\" >chain</th>\n",
       "                        <td id=\"T_84790_row12_col0\" class=\"data row12 col0\" >0</td>\n",
       "                        <td id=\"T_84790_row12_col1\" class=\"data row12 col1\" >0.000000</td>\n",
       "            </tr>\n",
       "    </tbody></table>"
      ],
      "text/plain": [
       "<pandas.io.formats.style.Styler at 0x7f01e45dcc10>"
      ]
     },
     "metadata": {},
     "output_type": "display_data"
    }
   ],
   "source": [
    "param_param = (pd.DataFrame({'Кол-во пропусков': df.isnull().sum(), 'Доля пропусков': df.isnull().mean()*100})\n",
    "           .sort_values(by='Кол-во пропусков', ascending=False)\n",
    "           .style.background_gradient(cmap='coolwarm'))\n",
    "\n",
    "display(param_param)"
   ]
  },
  {
   "cell_type": "markdown",
   "id": "e7e0c91f",
   "metadata": {
    "id": "3d8840ca"
   },
   "source": [
    "<font color='#777778'>Краткое пояснение:</font> попробуем визуализировать коррелляцию пропусков с помощью библиотеки Missingno.   "
   ]
  },
  {
   "cell_type": "code",
   "execution_count": 8,
   "id": "71f31a7e",
   "metadata": {
    "id": "3d8840ca"
   },
   "outputs": [
    {
     "data": {
      "text/plain": [
       "<AxesSubplot:>"
      ]
     },
     "execution_count": 8,
     "metadata": {},
     "output_type": "execute_result"
    },
    {
     "data": {
      "image/png": "[encoded data removed]",
      "text/plain": [
       "<Figure size 1440x864 with 2 Axes>"
      ]
     },
     "metadata": {
      "needs_background": "light"
     },
     "output_type": "display_data"
    }
   ],
   "source": [
    "msno.heatmap(df)"
   ]
  },
  {
   "cell_type": "markdown",
   "id": "9ce7602f",
   "metadata": {
    "id": "2ea145ca"
   },
   "source": [
    "<font color='#777778'>Комментарий:</font> \n",
    "Как я и указывала ранее, больше всего пропусков в столбцах middle_avg_bill и middle_coffee_cup, что может быть обусловлено тем, по какому принципу заполняются эти столбцы. Помимо этого, значительный процент пропусков наблюдается в столбцах seats (42,9%), price (60,6%), avg_bill (54,6%), а также незначительный в столбце hours (6,4%). Однако заполнять эти пропуски не кажется мне корректным, поскольку это может существенно исказить данные. \n",
    "\n",
    "Добавлю, что пропуски могут быть обусловлены менеджеры или руководители заведений не указывали некоторую информацию о своих заведениях, либо заполнили ее некорректно (это могло привести к пропускам в столбцах middle_avg_bill и middle_coffee_cup).  "
   ]
  },
  {
   "cell_type": "markdown",
   "id": "c4d5f04d",
   "metadata": {
    "id": "c4d5f04d"
   },
   "source": [
    "- Проверьте данные на явные и неявные дубликаты, например поля с названием и адресом заведения. Для оптимизации проверки нормализуйте данные в текстовых столбцах, например с названием заведения."
   ]
  },
  {
   "cell_type": "markdown",
   "id": "2ae3991a",
   "metadata": {
    "id": "0769b681"
   },
   "source": [
    "- Сначала изучим уникальные значения в категориальных данных и нормализуем их (с названием заведения). При нормализации избавимся от неявных дубликатов."
   ]
  },
  {
   "cell_type": "code",
   "execution_count": 9,
   "id": "95b15cd0",
   "metadata": {
    "id": "95b15cd0",
    "scrolled": true
   },
   "outputs": [],
   "source": [
    "df[['name', 'address']] = df[['name', 'address']].apply(lambda x: x.str.lower())"
   ]
  },
  {
   "cell_type": "markdown",
   "id": "978b173f",
   "metadata": {
    "id": "0769b681"
   },
   "source": [
    "- Теперь посчитаем явные дубликаты в столбцах с названием заведения и его адресом."
   ]
  },
  {
   "cell_type": "code",
   "execution_count": 10,
   "id": "da5f6cac",
   "metadata": {
    "id": "95b15cd0"
   },
   "outputs": [
    {
     "data": {
      "text/plain": [
       "4"
      ]
     },
     "metadata": {},
     "output_type": "display_data"
    }
   ],
   "source": [
    "duplicates = df.duplicated(subset=['name', 'address'], keep = 'first')\n",
    "num_duplicates = duplicates.sum()\n",
    "\n",
    "display(num_duplicates)"
   ]
  },
  {
   "cell_type": "markdown",
   "id": "830d828e",
   "metadata": {
    "id": "95b15cd0"
   },
   "source": [
    "Удалим явные дубликаты:"
   ]
  },
  {
   "cell_type": "code",
   "execution_count": 11,
   "id": "b92abb53",
   "metadata": {
    "id": "95b15cd0"
   },
   "outputs": [],
   "source": [
    "df = df[duplicates == False]"
   ]
  },
  {
   "cell_type": "markdown",
   "id": "4c0563f2",
   "metadata": {
    "id": "4c0563f2"
   },
   "source": [
    "- Для дальнейшей работы создайте столбец `is_24_7` с обозначением того, что заведение работает ежедневно и круглосуточно, то есть 24/7:\n",
    "  - логическое значение `True` — если заведение работает ежедневно и круглосуточно;\n",
    "  - логическое значение `False` — в противоположном случае."
   ]
  },
  {
   "cell_type": "code",
   "execution_count": 12,
   "id": "a5a94437",
   "metadata": {
    "id": "4c0563f2",
    "scrolled": true
   },
   "outputs": [
    {
     "data": {
      "text/html": [
       "<div>\n",
       "<style scoped>\n",
       "    .dataframe tbody tr th:only-of-type {\n",
       "        vertical-align: middle;\n",
       "    }\n",
       "\n",
       "    .dataframe tbody tr th {\n",
       "        vertical-align: top;\n",
       "    }\n",
       "\n",
       "    .dataframe thead th {\n",
       "        text-align: right;\n",
       "    }\n",
       "</style>\n",
       "<table border=\"1\" class=\"dataframe\">\n",
       "  <thead>\n",
       "    <tr style=\"text-align: right;\">\n",
       "      <th></th>\n",
       "      <th>name</th>\n",
       "      <th>hours</th>\n",
       "      <th>is_24_7</th>\n",
       "    </tr>\n",
       "  </thead>\n",
       "  <tbody>\n",
       "    <tr>\n",
       "      <th>0</th>\n",
       "      <td>wowфли</td>\n",
       "      <td>ежедневно, 10:00–22:00</td>\n",
       "      <td>False</td>\n",
       "    </tr>\n",
       "    <tr>\n",
       "      <th>1</th>\n",
       "      <td>четыре комнаты</td>\n",
       "      <td>ежедневно, 10:00–22:00</td>\n",
       "      <td>False</td>\n",
       "    </tr>\n",
       "    <tr>\n",
       "      <th>2</th>\n",
       "      <td>хазри</td>\n",
       "      <td>пн-чт 11:00–02:00; пт,сб 11:00–05:00; вс 11:00...</td>\n",
       "      <td>False</td>\n",
       "    </tr>\n",
       "    <tr>\n",
       "      <th>3</th>\n",
       "      <td>dormouse coffee shop</td>\n",
       "      <td>ежедневно, 09:00–22:00</td>\n",
       "      <td>False</td>\n",
       "    </tr>\n",
       "    <tr>\n",
       "      <th>4</th>\n",
       "      <td>иль марко</td>\n",
       "      <td>ежедневно, 10:00–22:00</td>\n",
       "      <td>False</td>\n",
       "    </tr>\n",
       "    <tr>\n",
       "      <th>5</th>\n",
       "      <td>sergio pizza</td>\n",
       "      <td>ежедневно, 10:00–23:00</td>\n",
       "      <td>False</td>\n",
       "    </tr>\n",
       "    <tr>\n",
       "      <th>6</th>\n",
       "      <td>огни города</td>\n",
       "      <td>пн 15:00–04:00; вт-вс 15:00–05:00</td>\n",
       "      <td>False</td>\n",
       "    </tr>\n",
       "    <tr>\n",
       "      <th>7</th>\n",
       "      <td>mr. уголёк</td>\n",
       "      <td>пн-чт 10:00–22:00; пт,сб 10:00–23:00; вс 10:00...</td>\n",
       "      <td>False</td>\n",
       "    </tr>\n",
       "    <tr>\n",
       "      <th>8</th>\n",
       "      <td>donna maria</td>\n",
       "      <td>ежедневно, 10:00–22:00</td>\n",
       "      <td>False</td>\n",
       "    </tr>\n",
       "    <tr>\n",
       "      <th>9</th>\n",
       "      <td>готика</td>\n",
       "      <td>ежедневно, 12:00–00:00</td>\n",
       "      <td>False</td>\n",
       "    </tr>\n",
       "    <tr>\n",
       "      <th>10</th>\n",
       "      <td>great room bar</td>\n",
       "      <td>ежедневно, круглосуточно</td>\n",
       "      <td>True</td>\n",
       "    </tr>\n",
       "    <tr>\n",
       "      <th>11</th>\n",
       "      <td>шашлык шефф</td>\n",
       "      <td>ежедневно, 10:00–21:00</td>\n",
       "      <td>False</td>\n",
       "    </tr>\n",
       "    <tr>\n",
       "      <th>12</th>\n",
       "      <td>заправка</td>\n",
       "      <td>вт-сб 09:00–18:00</td>\n",
       "      <td>False</td>\n",
       "    </tr>\n",
       "    <tr>\n",
       "      <th>13</th>\n",
       "      <td>буханка</td>\n",
       "      <td>ежедневно, 08:00–22:00</td>\n",
       "      <td>False</td>\n",
       "    </tr>\n",
       "    <tr>\n",
       "      <th>14</th>\n",
       "      <td>у сильвы</td>\n",
       "      <td>ежедневно, 13:00–00:00</td>\n",
       "      <td>False</td>\n",
       "    </tr>\n",
       "    <tr>\n",
       "      <th>15</th>\n",
       "      <td>дом обеда</td>\n",
       "      <td>пн-пт 08:30–18:30; сб 10:00–20:00</td>\n",
       "      <td>False</td>\n",
       "    </tr>\n",
       "    <tr>\n",
       "      <th>16</th>\n",
       "      <td>база стритфуд</td>\n",
       "      <td>ежедневно, 10:00–23:00</td>\n",
       "      <td>False</td>\n",
       "    </tr>\n",
       "    <tr>\n",
       "      <th>17</th>\n",
       "      <td>чайхана беш-бармак</td>\n",
       "      <td>ежедневно, круглосуточно</td>\n",
       "      <td>True</td>\n",
       "    </tr>\n",
       "    <tr>\n",
       "      <th>18</th>\n",
       "      <td>час-пик</td>\n",
       "      <td>ежедневно, 09:00–21:00</td>\n",
       "      <td>False</td>\n",
       "    </tr>\n",
       "    <tr>\n",
       "      <th>19</th>\n",
       "      <td>пекарня</td>\n",
       "      <td>ежедневно, круглосуточно</td>\n",
       "      <td>True</td>\n",
       "    </tr>\n",
       "    <tr>\n",
       "      <th>20</th>\n",
       "      <td>чебуреки манты</td>\n",
       "      <td>ежедневно, 10:00–22:00</td>\n",
       "      <td>False</td>\n",
       "    </tr>\n",
       "    <tr>\n",
       "      <th>21</th>\n",
       "      <td>7/12</td>\n",
       "      <td>ежедневно, 10:00–22:00</td>\n",
       "      <td>False</td>\n",
       "    </tr>\n",
       "    <tr>\n",
       "      <th>22</th>\n",
       "      <td>крымские чебуреки</td>\n",
       "      <td>пн-пт 09:00–21:00</td>\n",
       "      <td>False</td>\n",
       "    </tr>\n",
       "    <tr>\n",
       "      <th>23</th>\n",
       "      <td>буханка</td>\n",
       "      <td>ежедневно, 08:00–22:00</td>\n",
       "      <td>False</td>\n",
       "    </tr>\n",
       "    <tr>\n",
       "      <th>24</th>\n",
       "      <td>drive café</td>\n",
       "      <td>ежедневно, круглосуточно</td>\n",
       "      <td>True</td>\n",
       "    </tr>\n",
       "  </tbody>\n",
       "</table>\n",
       "</div>"
      ],
      "text/plain": [
       "                    name                                              hours  \\\n",
       "0                 wowфли                             ежедневно, 10:00–22:00   \n",
       "1         четыре комнаты                             ежедневно, 10:00–22:00   \n",
       "2                  хазри  пн-чт 11:00–02:00; пт,сб 11:00–05:00; вс 11:00...   \n",
       "3   dormouse coffee shop                             ежедневно, 09:00–22:00   \n",
       "4              иль марко                             ежедневно, 10:00–22:00   \n",
       "5           sergio pizza                             ежедневно, 10:00–23:00   \n",
       "6            огни города                  пн 15:00–04:00; вт-вс 15:00–05:00   \n",
       "7             mr. уголёк  пн-чт 10:00–22:00; пт,сб 10:00–23:00; вс 10:00...   \n",
       "8            donna maria                             ежедневно, 10:00–22:00   \n",
       "9                 готика                             ежедневно, 12:00–00:00   \n",
       "10        great room bar                           ежедневно, круглосуточно   \n",
       "11           шашлык шефф                             ежедневно, 10:00–21:00   \n",
       "12              заправка                                  вт-сб 09:00–18:00   \n",
       "13               буханка                             ежедневно, 08:00–22:00   \n",
       "14              у сильвы                             ежедневно, 13:00–00:00   \n",
       "15             дом обеда                  пн-пт 08:30–18:30; сб 10:00–20:00   \n",
       "16         база стритфуд                             ежедневно, 10:00–23:00   \n",
       "17    чайхана беш-бармак                           ежедневно, круглосуточно   \n",
       "18               час-пик                             ежедневно, 09:00–21:00   \n",
       "19               пекарня                           ежедневно, круглосуточно   \n",
       "20        чебуреки манты                             ежедневно, 10:00–22:00   \n",
       "21                  7/12                             ежедневно, 10:00–22:00   \n",
       "22     крымские чебуреки                                  пн-пт 09:00–21:00   \n",
       "23               буханка                             ежедневно, 08:00–22:00   \n",
       "24            drive café                           ежедневно, круглосуточно   \n",
       "\n",
       "    is_24_7  \n",
       "0     False  \n",
       "1     False  \n",
       "2     False  \n",
       "3     False  \n",
       "4     False  \n",
       "5     False  \n",
       "6     False  \n",
       "7     False  \n",
       "8     False  \n",
       "9     False  \n",
       "10     True  \n",
       "11    False  \n",
       "12    False  \n",
       "13    False  \n",
       "14    False  \n",
       "15    False  \n",
       "16    False  \n",
       "17     True  \n",
       "18    False  \n",
       "19     True  \n",
       "20    False  \n",
       "21    False  \n",
       "22    False  \n",
       "23    False  \n",
       "24     True  "
      ]
     },
     "execution_count": 12,
     "metadata": {},
     "output_type": "execute_result"
    }
   ],
   "source": [
    "def check_24_7(hours):\n",
    "    if pd.isna(hours):\n",
    "        return False\n",
    "    elif 'ежедневно' in hours and 'круглосуточно' in hours:\n",
    "        return True\n",
    "    else: \n",
    "        return False \n",
    "df['is_24_7'] = df['hours'].apply(check_24_7)\n",
    "\n",
    "df[['name', 'hours', 'is_24_7']].head(25)"
   ]
  },
  {
   "cell_type": "code",
   "execution_count": 13,
   "id": "cd00f7fb",
   "metadata": {
    "id": "4c0563f2"
   },
   "outputs": [
    {
     "data": {
      "text/plain": [
       "False    7672\n",
       "True      730\n",
       "Name: is_24_7, dtype: int64"
      ]
     },
     "metadata": {},
     "output_type": "display_data"
    }
   ],
   "source": [
    "value_counts = df['is_24_7'].value_counts()\n",
    "\n",
    "display(value_counts)"
   ]
  },
  {
   "cell_type": "markdown",
   "id": "562f30ab",
   "metadata": {
    "id": "562f30ab"
   },
   "source": [
    "---\n",
    "\n",
    "### Промежуточный вывод\n",
    "\n",
    "После предобработки данных напишите промежуточный вывод о проведённой работе. Отразите количество или долю отфильтрованных данных, если вы что-то удаляли."
   ]
  },
  {
   "cell_type": "markdown",
   "id": "a706529a",
   "metadata": {
    "id": "4e587ce1"
   },
   "source": [
    "<font color='#777778'>Про пропуски:</font> проведя предобработку данных, я выявила, что больше всего пропусков в столбцах middle_avg_bill и middle_coffee_cup, что может быть обусловлено тем, по какому принципу заполняются эти столбцы. Помимо этого, значительный процент пропусков наблюдается в столбцах seats (42,9%), price (60,6%), avg_bill (54,6%), а также незначительный в столбце hours (6,4%). Я решила оставить эти пропуски, поскольку их не представляется верным заполнить. \n",
    "\n",
    "<font color='#777778'>Про тип данных:</font> я решила оставить изначальный тип данных, поскольку а) он кажется мне оптимальным почти для всех столбцов, б) я заменила бы тип данных в столбце seats, но для этого нужно заполнить пропуски, что некорректно.\n",
    "\n",
    "<font color='#777778'>Про дубликаты:</font> выявлено 4 явных дубликата, позже они были удалены для более корректной дальнейшей работы с данными. Также значения столбцов name и address были приведены к единому стилю (нижнему регистру), чтобы избавиться от неявных дубликатов.\n",
    "\n",
    "<font color='#777778'>Про работу заведений:</font> после добавления столбца is_24_7 и подсчета значений стало понятно, что лишь 730 из 8406 заведений работают круглосуточно. Эта информация может понадобиться коллегам при выборе режима работы их заведения. "
   ]
  },
  {
   "cell_type": "markdown",
   "id": "6953e84c",
   "metadata": {
    "id": "6953e84c"
   },
   "source": [
    "## 3. Исследовательский анализ данных\n",
    "Проведите исследовательский анализ исходных данных.\n",
    "\n",
    "При исследовании данных используйте визуализации. Проверьте, что для каждого случая подобран оптимальный тип визуализации с корректным оформлением. У графика должен быть заголовок, понятные подписи по осям, при необходимости легенда, а его размер является оптимальным для изучения.\n",
    "\n",
    "После исследования каждого пункта оставляйте небольшой комментарий с выводом или обсуждением результата. В конце шага обобщите результаты, выделив, по вашему мнению, самые важные."
   ]
  },
  {
   "cell_type": "markdown",
   "id": "8555d840",
   "metadata": {
    "id": "8555d840"
   },
   "source": [
    "\n",
    "\n",
    "### Задача 1\n",
    "\n",
    "Какие категории заведений представлены в данных? Исследуйте количество объектов общественного питания по каждой категории.Результат сопроводите подходящей визуализацией."
   ]
  },
  {
   "cell_type": "code",
   "execution_count": 14,
   "id": "b98066c1",
   "metadata": {
    "id": "b98066c1"
   },
   "outputs": [],
   "source": [
    "replace_dict = {'административный округ': 'АО'}\n",
    "df['district'] = df['district'].replace(replace_dict, regex=True)"
   ]
  },
  {
   "cell_type": "code",
   "execution_count": 15,
   "id": "23f203de",
   "metadata": {
    "id": "ef2bffe9"
   },
   "outputs": [
    {
     "data": {
      "text/plain": [
       "кафе               2376\n",
       "ресторан           2042\n",
       "кофейня            1413\n",
       "бар,паб             764\n",
       "пиццерия            633\n",
       "быстрое питание     603\n",
       "столовая            315\n",
       "булочная            256\n",
       "Name: category, dtype: int64"
      ]
     },
     "metadata": {},
     "output_type": "display_data"
    }
   ],
   "source": [
    "# Вычисление доли по категориям\n",
    "category_network_ratio = df['category'].value_counts()\n",
    "\n",
    "display(category_network_ratio)"
   ]
  },
  {
   "cell_type": "code",
   "execution_count": 16,
   "id": "0f25ca65",
   "metadata": {
    "id": "ef2bffe9"
   },
   "outputs": [
    {
     "data": {
      "image/png": "[encoded data removed]",
      "text/plain": [
       "<Figure size 504x216 with 1 Axes>"
      ]
     },
     "metadata": {
      "needs_background": "light"
     },
     "output_type": "display_data"
    }
   ],
   "source": [
    "# Создаём контейнер графика matplotlib и задаём его размер\n",
    "plt.figure(figsize=(7, 3))\n",
    "\n",
    "# Строим столбчатую диаграмму с помощью pandas через plot(kind='bar')\n",
    "df['category'].value_counts().plot(\n",
    "               kind='barh',\n",
    "               rot=0,\n",
    "               legend=False, \n",
    "               color='lightblue',\n",
    "               title=f'Количество заведений по категориям'\n",
    ")\n",
    "\n",
    "# Настраиваем оформление графика\n",
    "plt.xlabel('Категория')\n",
    "plt.ylabel('Количество заведений')\n",
    "\n",
    "# Добавляем сетку графика\n",
    "plt.grid()\n",
    "\n",
    "# Выводим график\n",
    "plt.show()"
   ]
  },
  {
   "cell_type": "markdown",
   "id": "a96fe0c9",
   "metadata": {
    "id": "71ab5e91"
   },
   "source": [
    "<font color='#777778'>Краткое пояснение:</font> визуализация помогает нам с легкостью увидеть, что больше всего таких заведений, как кафе (2376 точек), на втором месте по количеству - ресторан (2042 точек), на третьем - кофейня (1413 точек). Меньше всего на карте Москвы можно встретить булочных (256 точек)."
   ]
  },
  {
   "cell_type": "markdown",
   "id": "6821e1d0",
   "metadata": {
    "id": "6821e1d0"
   },
   "source": [
    "---\n",
    "\n",
    "### Задача 2\n",
    "\n",
    "Какие административные районы Москвы присутствуют в данных? Исследуйте распределение количества заведений по административным районам Москвы, а также отдельно распределение заведений каждой категории в Центральном административном округе Москвы. Результат сопроводите подходящими визуализациями."
   ]
  },
  {
   "cell_type": "code",
   "execution_count": 17,
   "id": "b8838e8a",
   "metadata": {
    "id": "e62f31be"
   },
   "outputs": [
    {
     "data": {
      "text/plain": [
       "Центральный АО         2242\n",
       "Северный АО             898\n",
       "Южный АО                892\n",
       "Северо-Восточный АО     890\n",
       "Западный АО             850\n",
       "Восточный АО            798\n",
       "Юго-Восточный АО        714\n",
       "Юго-Западный АО         709\n",
       "Северо-Западный АО      409\n",
       "Name: district, dtype: int64"
      ]
     },
     "metadata": {},
     "output_type": "display_data"
    }
   ],
   "source": [
    "category_network_ratio_1 = df['district'].value_counts()\n",
    "\n",
    "display(category_network_ratio_1)"
   ]
  },
  {
   "cell_type": "code",
   "execution_count": 18,
   "id": "d99042b3",
   "metadata": {
    "id": "e62f31be"
   },
   "outputs": [
    {
     "data": {
      "image/png": "[encoded data removed]",
      "text/plain": [
       "<Figure size 720x504 with 1 Axes>"
      ]
     },
     "metadata": {
      "needs_background": "light"
     },
     "output_type": "display_data"
    }
   ],
   "source": [
    "# Создаём контейнер графика matplotlib и задаём его размер\n",
    "plt.figure(figsize=(10, 7))\n",
    "\n",
    "# Строим столбчатую диаграмму с помощью pandas через plot(kind='bar')\n",
    "df['district'].value_counts().plot(\n",
    "               kind='barh',\n",
    "               rot=0,\n",
    "               legend=False, \n",
    "               color='darkturquoise',\n",
    "               title=f'Количество заведений по районам'\n",
    ")\n",
    "\n",
    "# Настраиваем оформление графика\n",
    "plt.xlabel('Количество заведений')\n",
    "plt.ylabel('Район')\n",
    "\n",
    "# Добавляем сетку графика\n",
    "plt.grid()\n",
    "\n",
    "# Выводим график\n",
    "plt.show()"
   ]
  },
  {
   "cell_type": "markdown",
   "id": "f52a5516",
   "metadata": {
    "id": "0a290cd1"
   },
   "source": [
    "<font color='#777778'>Краткое пояснение:</font> как и предполагалось, больше всего заведений общепита можно встретить в Центральном административном районе (2242 точки общепита), меньше всего - в Северо-Западном административном округе (409 точек)."
   ]
  },
  {
   "cell_type": "code",
   "execution_count": 19,
   "id": "41f1654a",
   "metadata": {
    "id": "41f1654a"
   },
   "outputs": [],
   "source": [
    "df_cao=df[df['district'] == 'Центральный АО']\n"
   ]
  },
  {
   "cell_type": "code",
   "execution_count": 20,
   "id": "263c796b",
   "metadata": {
    "id": "41f1654a"
   },
   "outputs": [
    {
     "data": {
      "text/plain": [
       "ресторан           670\n",
       "кафе               464\n",
       "кофейня            428\n",
       "бар,паб            364\n",
       "пиццерия           113\n",
       "быстрое питание     87\n",
       "столовая            66\n",
       "булочная            50\n",
       "Name: category, dtype: int64"
      ]
     },
     "metadata": {},
     "output_type": "display_data"
    }
   ],
   "source": [
    "category_network_ratio_2 = df_cao['category'].value_counts()\n",
    "\n",
    "display(category_network_ratio_2)\n"
   ]
  },
  {
   "cell_type": "code",
   "execution_count": 21,
   "id": "09073624",
   "metadata": {
    "id": "41f1654a"
   },
   "outputs": [
    {
     "data": {
      "image/png": "[encoded data removed]",
      "text/plain": [
       "<Figure size 504x216 with 1 Axes>"
      ]
     },
     "metadata": {
      "needs_background": "light"
     },
     "output_type": "display_data"
    }
   ],
   "source": [
    "# Создаём контейнер графика matplotlib и задаём его размер\n",
    "plt.figure(figsize=(7, 3))\n",
    "\n",
    "# Строим столбчатую диаграмму с помощью pandas через plot(kind='bar')\n",
    "df_cao['category'].value_counts().plot(\n",
    "               kind='barh',\n",
    "               rot=0,\n",
    "               legend=False, \n",
    "               color='orchid',\n",
    "               title=f'Количество заведений в Центральном АО'\n",
    ")\n",
    "\n",
    "# Настраиваем оформление графика\n",
    "plt.xlabel('Категория заведения')\n",
    "plt.ylabel('Количество точек')\n",
    "\n",
    "# Добавляем сетку графика\n",
    "plt.grid()\n",
    "\n",
    "# Выводим график\n",
    "plt.show()\n"
   ]
  },
  {
   "cell_type": "markdown",
   "id": "15b585b3",
   "metadata": {
    "id": "41f1654a"
   },
   "source": [
    "<font color='#777778'>Краткое пояснение:</font> чаще всего в центре Москвы можно увидеть рестораны (их насчитывается 670), кафе (464 точки) и кофейни (428 точек). А вот столовую (66 точек) или булочную (50 точек) лучше поискать в других районах)"
   ]
  },
  {
   "cell_type": "markdown",
   "id": "7c824f58",
   "metadata": {
    "id": "7c824f58"
   },
   "source": [
    "---\n",
    "\n",
    "### Задача 3\n",
    "\n",
    "Изучите соотношение сетевых и несетевых заведений в целом по всем данным и в разрезе категорий заведения. Каких заведений больше — сетевых или несетевых? Какие категории заведений чаще являются сетевыми? Исследуйте данные, ответьте на вопросы и постройте необходимые визуализации."
   ]
  },
  {
   "cell_type": "code",
   "execution_count": 22,
   "id": "ef442d1a",
   "metadata": {
    "id": "ef442d1a"
   },
   "outputs": [
    {
     "name": "stdout",
     "output_type": "stream",
     "text": [
      "Соотношение сетевых и несетевых заведений:\n",
      "0    5199\n",
      "1    3203\n",
      "Name: chain, dtype: int64\n",
      "\n",
      "Доля сетевых и несетевых заведений:\n",
      "0    61.878124\n",
      "1    38.121876\n",
      "Name: chain, dtype: float64\n",
      "\n",
      "Соотношение сетевых и несетевых заведений по категориям:\n",
      "chain               0    1\n",
      "category                  \n",
      "бар,паб           596  168\n",
      "булочная           99  157\n",
      "быстрое питание   371  232\n",
      "кафе             1597  779\n",
      "кофейня           693  720\n",
      "пиццерия          303  330\n",
      "ресторан         1313  729\n",
      "столовая          227   88\n"
     ]
    },
    {
     "data": {
      "text/plain": [
       "'\\nДоля сетевых и несетевых заведений по категориям:'"
      ]
     },
     "metadata": {},
     "output_type": "display_data"
    },
    {
     "data": {
      "text/html": [
       "<div>\n",
       "<style scoped>\n",
       "    .dataframe tbody tr th:only-of-type {\n",
       "        vertical-align: middle;\n",
       "    }\n",
       "\n",
       "    .dataframe tbody tr th {\n",
       "        vertical-align: top;\n",
       "    }\n",
       "\n",
       "    .dataframe thead th {\n",
       "        text-align: right;\n",
       "    }\n",
       "</style>\n",
       "<table border=\"1\" class=\"dataframe\">\n",
       "  <thead>\n",
       "    <tr style=\"text-align: right;\">\n",
       "      <th>chain</th>\n",
       "      <th>0</th>\n",
       "      <th>1</th>\n",
       "    </tr>\n",
       "    <tr>\n",
       "      <th>category</th>\n",
       "      <th></th>\n",
       "      <th></th>\n",
       "    </tr>\n",
       "  </thead>\n",
       "  <tbody>\n",
       "    <tr>\n",
       "      <th>бар,паб</th>\n",
       "      <td>78.010471</td>\n",
       "      <td>21.989529</td>\n",
       "    </tr>\n",
       "    <tr>\n",
       "      <th>булочная</th>\n",
       "      <td>38.671875</td>\n",
       "      <td>61.328125</td>\n",
       "    </tr>\n",
       "    <tr>\n",
       "      <th>быстрое питание</th>\n",
       "      <td>61.525705</td>\n",
       "      <td>38.474295</td>\n",
       "    </tr>\n",
       "    <tr>\n",
       "      <th>кафе</th>\n",
       "      <td>67.213805</td>\n",
       "      <td>32.786195</td>\n",
       "    </tr>\n",
       "    <tr>\n",
       "      <th>кофейня</th>\n",
       "      <td>49.044586</td>\n",
       "      <td>50.955414</td>\n",
       "    </tr>\n",
       "    <tr>\n",
       "      <th>пиццерия</th>\n",
       "      <td>47.867299</td>\n",
       "      <td>52.132701</td>\n",
       "    </tr>\n",
       "    <tr>\n",
       "      <th>ресторан</th>\n",
       "      <td>64.299706</td>\n",
       "      <td>35.700294</td>\n",
       "    </tr>\n",
       "    <tr>\n",
       "      <th>столовая</th>\n",
       "      <td>72.063492</td>\n",
       "      <td>27.936508</td>\n",
       "    </tr>\n",
       "  </tbody>\n",
       "</table>\n",
       "</div>"
      ],
      "text/plain": [
       "chain                    0          1\n",
       "category                             \n",
       "бар,паб          78.010471  21.989529\n",
       "булочная         38.671875  61.328125\n",
       "быстрое питание  61.525705  38.474295\n",
       "кафе             67.213805  32.786195\n",
       "кофейня          49.044586  50.955414\n",
       "пиццерия         47.867299  52.132701\n",
       "ресторан         64.299706  35.700294\n",
       "столовая         72.063492  27.936508"
      ]
     },
     "metadata": {},
     "output_type": "display_data"
    }
   ],
   "source": [
    "network_counts = df['chain'].value_counts()\n",
    "print(\"Соотношение сетевых и несетевых заведений:\")\n",
    "print(network_counts)\n",
    "\n",
    "# Вычисление доли\n",
    "network_ratio = df['chain'].value_counts(normalize=True) * 100\n",
    "print(\"\\nДоля сетевых и несетевых заведений:\")\n",
    "print(network_ratio)\n",
    "\n",
    "\n",
    "# 2. Соотношение сетевых и несетевых заведений в разрезе категорий\n",
    "network_by_category = df.groupby(['category', 'chain']).size().unstack()\n",
    "network_by_category.fillna(0, inplace=True)\n",
    "print(\"\\nСоотношение сетевых и несетевых заведений по категориям:\")\n",
    "print(network_by_category)\n",
    "\n",
    "# Вычисление доли по категориям\n",
    "category_network_ratio = df.groupby('category')['chain'].value_counts(normalize=True).unstack() * 100\n",
    "category_network_ratio.fillna(0, inplace=True)\n",
    "display(\"\\nДоля сетевых и несетевых заведений по категориям:\")\n",
    "display(category_network_ratio)\n"
   ]
  },
  {
   "cell_type": "code",
   "execution_count": 23,
   "id": "7dd1df05",
   "metadata": {
    "id": "ef442d1a"
   },
   "outputs": [
    {
     "data": {
      "image/png": "[encoded data removed]",
      "text/plain": [
       "<Figure size 1008x576 with 1 Axes>"
      ]
     },
     "metadata": {
      "needs_background": "light"
     },
     "output_type": "display_data"
    }
   ],
   "source": [
    "category_network_ratio.rename(columns={0: 'Несетевые', 1: 'Сетевые'}, inplace=True)\n",
    "\n",
    "# Построение графика\n",
    "ax = category_network_ratio.plot(kind='bar', stacked=True, figsize=(14, 8), color=['y', 'g'])\n",
    "plt.title('Доля сетевых и несетевых заведений по категориям')\n",
    "plt.xlabel('Категория заведения')\n",
    "plt.ylabel('Доля (%)')\n",
    "plt.xticks(rotation=45, ha='right')\n",
    "plt.legend(title='Тип заведения')\n",
    "plt.grid(axis='y', linestyle='--', alpha=0.7) \n",
    "\n",
    "# Добавление подписей значений на столбцы\n",
    "for i, category in enumerate(category_network_ratio.index):\n",
    "    cumulative_height = 0\n",
    "    for j, chain_type in enumerate(category_network_ratio.columns):\n",
    "        height = category_network_ratio.loc[category, chain_type]\n",
    "        if height > 0:\n",
    "            ax.annotate(f'{height:.2f}%', (i, cumulative_height + height / 2), ha='center', va='center', fontsize=14, color='w')\n",
    "        cumulative_height += height\n",
    "\n",
    "\n",
    "plt.tight_layout()\n",
    "plt.show()"
   ]
  },
  {
   "cell_type": "markdown",
   "id": "0c3dab8f",
   "metadata": {
    "id": "0de29fa2"
   },
   "source": [
    "<font color='#777778'>Краткое пояснение:</font> больше всего на карте Москвы можно встретить несетевых заведений - их 5199 точки, тогда как сетевых - 3203. Чаще всего сетевыми являются булочные (61,33% из всех заведений - сетевые), пиццерии (52,13%), кофейни (50,96%), реже - столовые (27,94%), кафе (32,79%), бары, пабы (21,99%). "
   ]
  },
  {
   "cell_type": "markdown",
   "id": "5913c3e3",
   "metadata": {
    "id": "5913c3e3"
   },
   "source": [
    "---\n",
    "\n",
    "### Задача 4\n",
    "\n",
    "Исследуйте количество посадочных мест в заведениях. Встречаются ли в данных аномальные значения или выбросы? Если да, то с чем они могут быть связаны? Приведите для каждой категории заведений наиболее типичное для него количество посадочных мест. Результат сопроводите подходящими визуализациями.\n"
   ]
  },
  {
   "cell_type": "code",
   "execution_count": 24,
   "id": "c9007d8d",
   "metadata": {
    "id": "6cb238d2"
   },
   "outputs": [],
   "source": [
    "sorted_categories = df.groupby('category')['seats'].median().sort_values().index"
   ]
  },
  {
   "cell_type": "code",
   "execution_count": 25,
   "id": "bcb0d441",
   "metadata": {
    "id": "6cb238d2"
   },
   "outputs": [
    {
     "data": {
      "text/plain": [
       "category  seats \n",
       "бар,паб   60.0      31\n",
       "          40.0      27\n",
       "          120.0     20\n",
       "          90.0      18\n",
       "          100.0     18\n",
       "                    ..\n",
       "столовая  310.0      1\n",
       "          320.0      1\n",
       "          428.0      1\n",
       "          625.0      1\n",
       "          1200.0     1\n",
       "Name: seats, Length: 943, dtype: int64"
      ]
     },
     "metadata": {},
     "output_type": "display_data"
    }
   ],
   "source": [
    "sorted_categories_1 = df.groupby('category')['seats'].value_counts()\n",
    "\n",
    "display(sorted_categories_1)"
   ]
  },
  {
   "cell_type": "code",
   "execution_count": 26,
   "id": "100ee368",
   "metadata": {
    "id": "6cb238d2"
   },
   "outputs": [
    {
     "data": {
      "image/png": "[encoded data removed]",
      "text/plain": [
       "<Figure size 720x432 with 1 Axes>"
      ]
     },
     "metadata": {
      "needs_background": "light"
     },
     "output_type": "display_data"
    }
   ],
   "source": [
    "# Построение диаграммы размаха с выбросами\n",
    "plt.figure(figsize=(10,6))\n",
    "sns.boxplot(x= df['seats'], y= df['category'], flierprops=dict(markerfacecolor='r', marker='o'), color=\"skyblue\")\n",
    "plt.title('Количество посадочных мест в заведениях по категориям')\n",
    "plt.ylabel('Категория заведений')\n",
    "plt.xlabel('Количество посадочных мест')\n",
    "plt.xticks(rotation=45)\n",
    "\n",
    "plt.show()"
   ]
  },
  {
   "cell_type": "markdown",
   "id": "0a2cf7be",
   "metadata": {
    "id": "062b55d8"
   },
   "source": [
    "<font color='#777778'>Краткое пояснение:</font> судя по визуализации, аномальные значения встречаются в заведениях таких категорий, как кафе, ресторан, кофейня, пиццерия, бар и паб. Можно увидеть, что встречаются такие данные, будто в перечисленных категориях заведений может быть больше 1,2 тыс. посадочных мест."
   ]
  },
  {
   "cell_type": "code",
   "execution_count": 27,
   "id": "ceadf25b",
   "metadata": {
    "id": "ceadf25b"
   },
   "outputs": [
    {
     "data": {
      "image/png": "[encoded data removed]",
      "text/plain": [
       "<Figure size 720x432 with 1 Axes>"
      ]
     },
     "metadata": {
      "needs_background": "light"
     },
     "output_type": "display_data"
    }
   ],
   "source": [
    "# Построение диаграммы размаха без выбросов с одним цветом и сортировкой\n",
    "plt.figure(figsize=(10, 6))\n",
    "sns.boxplot(x=df['seats'], y=df['category'], showfliers=False, color=\"skyblue\", order = sorted_categories)\n",
    "plt.title('Количество посадочных мест в заведениях по категориям')\n",
    "plt.ylabel('Категория заведений')\n",
    "plt.xlabel('Количество посадочных мест')\n",
    "plt.xticks(rotation=45)\n",
    "plt.show()"
   ]
  },
  {
   "cell_type": "markdown",
   "id": "69e0c1a7",
   "metadata": {
    "id": "ceadf25b"
   },
   "source": [
    "<font color='#777778'>Краткое пояснение:</font> исходя из проанализированных данных, можно увидеть, что наиболее характерное количество посадочных мест:\n",
    " - для кафе - от 40 до 120;\n",
    " - для ресторана - от 50 до 150;\n",
    " - для кофейни - от 40 до 140;\n",
    " - для пиццерии - от 40 до 120;\n",
    " - для бара, паба - от 50 до 150;\n",
    " - для заведений быстрого питания - от 30 до 140;\n",
    " - для булочной - от 30 до 120;\n",
    " - для столовой - от 40 до 120."
   ]
  },
  {
   "cell_type": "markdown",
   "id": "8ed065ea",
   "metadata": {
    "id": "8ed065ea"
   },
   "source": [
    "---\n",
    "\n",
    "### Задача 5\n",
    "\n",
    "Исследуйте рейтинг заведений. Визуализируйте распределение средних рейтингов по категориям заведений. Сильно ли различаются усреднённые рейтинги для разных типов общепита?"
   ]
  },
  {
   "cell_type": "code",
   "execution_count": 28,
   "id": "cc5206f8",
   "metadata": {
    "id": "cc5206f8",
    "scrolled": true
   },
   "outputs": [
    {
     "data": {
      "text/html": [
       "<div>\n",
       "<style scoped>\n",
       "    .dataframe tbody tr th:only-of-type {\n",
       "        vertical-align: middle;\n",
       "    }\n",
       "\n",
       "    .dataframe tbody tr th {\n",
       "        vertical-align: top;\n",
       "    }\n",
       "\n",
       "    .dataframe thead th {\n",
       "        text-align: right;\n",
       "    }\n",
       "</style>\n",
       "<table border=\"1\" class=\"dataframe\">\n",
       "  <thead>\n",
       "    <tr style=\"text-align: right;\">\n",
       "      <th></th>\n",
       "      <th>rating</th>\n",
       "    </tr>\n",
       "    <tr>\n",
       "      <th>category</th>\n",
       "      <th></th>\n",
       "    </tr>\n",
       "  </thead>\n",
       "  <tbody>\n",
       "    <tr>\n",
       "      <th>бар,паб</th>\n",
       "      <td>4.387696</td>\n",
       "    </tr>\n",
       "    <tr>\n",
       "      <th>булочная</th>\n",
       "      <td>4.268359</td>\n",
       "    </tr>\n",
       "    <tr>\n",
       "      <th>быстрое питание</th>\n",
       "      <td>4.050249</td>\n",
       "    </tr>\n",
       "    <tr>\n",
       "      <th>кафе</th>\n",
       "      <td>4.124285</td>\n",
       "    </tr>\n",
       "    <tr>\n",
       "      <th>кофейня</th>\n",
       "      <td>4.277282</td>\n",
       "    </tr>\n",
       "    <tr>\n",
       "      <th>пиццерия</th>\n",
       "      <td>4.301264</td>\n",
       "    </tr>\n",
       "    <tr>\n",
       "      <th>ресторан</th>\n",
       "      <td>4.290402</td>\n",
       "    </tr>\n",
       "    <tr>\n",
       "      <th>столовая</th>\n",
       "      <td>4.211429</td>\n",
       "    </tr>\n",
       "  </tbody>\n",
       "</table>\n",
       "</div>"
      ],
      "text/plain": [
       "                   rating\n",
       "category                 \n",
       "бар,паб          4.387696\n",
       "булочная         4.268359\n",
       "быстрое питание  4.050249\n",
       "кафе             4.124285\n",
       "кофейня          4.277282\n",
       "пиццерия         4.301264\n",
       "ресторан         4.290402\n",
       "столовая         4.211429"
      ]
     },
     "metadata": {},
     "output_type": "display_data"
    }
   ],
   "source": [
    "df_agg = df.groupby('category').agg({'rating':'mean'})\n",
    "display(df_agg)"
   ]
  },
  {
   "cell_type": "code",
   "execution_count": 29,
   "id": "e1aa232e",
   "metadata": {
    "id": "cc5206f8"
   },
   "outputs": [
    {
     "data": {
      "text/plain": [
       "<Figure size 504x216 with 0 Axes>"
      ]
     },
     "metadata": {},
     "output_type": "display_data"
    },
    {
     "data": {
      "image/png": "[encoded data removed]",
      "text/plain": [
       "<Figure size 432x288 with 1 Axes>"
      ]
     },
     "metadata": {
      "needs_background": "light"
     },
     "output_type": "display_data"
    }
   ],
   "source": [
    "# Создаём контейнер графика matplotlib и задаём его размер\n",
    "plt.figure(figsize=(7, 3))\n",
    "\n",
    "# Строим столбчатую диаграмму с помощью pandas через plot(kind='bar')\n",
    "df_agg = df.groupby('category').agg({'rating':'mean'})\n",
    "# Настраиваем график\n",
    "df_agg.plot.barh(legend=False,\n",
    "                title='Средний рейтинг по категориям заведений',\n",
    "                ylabel='Средний балл рейтинга',\n",
    "                xlabel='Категория заведения',\n",
    "                rot=0,\n",
    "                color='cornflowerblue')\n",
    "# Отображаем график\n",
    "plt.show()"
   ]
  },
  {
   "cell_type": "markdown",
   "id": "0342fd89",
   "metadata": {
    "id": "3e0ec5d7"
   },
   "source": [
    "<font color='#777778'>Краткое пояснение:</font> по диаграмме видно, что усредненные рейтинги не сильно отличаются для разных типов общепита, находясь в среднем на уровне выше 4. В частности, у баров и пабов рейтинг 4,4, у булочных - 4,3, у кофеен - 4,2, кафе - 4,1. Однако можно заметить, что средний рейтинг заведений быстрого питания чуть ниже, чем у остальных категорий (4,05). Самый высокий средний рейтинг - у баров и пабов, кофеен, пиццерий и ресторанов."
   ]
  },
  {
   "cell_type": "markdown",
   "id": "dd9702d9",
   "metadata": {
    "id": "dd9702d9"
   },
   "source": [
    "---\n",
    "\n",
    "### Задача 6\n",
    "\n",
    "Изучите, с какими данными показывают самую сильную корреляцию рейтинги заведений? Постройте и визуализируйте матрицу корреляции рейтинга заведения с разными данными: его категория, положение (административный район Москвы), статус сетевого заведения, количество мест, ценовая категория и признак, является ли заведения круглосуточным. Выберите самую сильную связь и проверьте её."
   ]
  },
  {
   "cell_type": "code",
   "execution_count": 30,
   "id": "1008d1bb",
   "metadata": {
    "id": "15400eb9"
   },
   "outputs": [
    {
     "name": "stdout",
     "output_type": "stream",
     "text": [
      "interval columns not set, guessing: ['chain', 'seats', 'rating']\n",
      "Корреляционная матрица с коэффициентом phi_k для переменной rating\n"
     ]
    },
    {
     "data": {
      "text/html": [
       "<div>\n",
       "<style scoped>\n",
       "    .dataframe tbody tr th:only-of-type {\n",
       "        vertical-align: middle;\n",
       "    }\n",
       "\n",
       "    .dataframe tbody tr th {\n",
       "        vertical-align: top;\n",
       "    }\n",
       "\n",
       "    .dataframe thead th {\n",
       "        text-align: right;\n",
       "    }\n",
       "</style>\n",
       "<table border=\"1\" class=\"dataframe\">\n",
       "  <thead>\n",
       "    <tr style=\"text-align: right;\">\n",
       "      <th></th>\n",
       "      <th>rating</th>\n",
       "    </tr>\n",
       "  </thead>\n",
       "  <tbody>\n",
       "    <tr>\n",
       "      <th>price</th>\n",
       "      <td>0.220295</td>\n",
       "    </tr>\n",
       "    <tr>\n",
       "      <th>district</th>\n",
       "      <td>0.200761</td>\n",
       "    </tr>\n",
       "    <tr>\n",
       "      <th>category</th>\n",
       "      <td>0.189716</td>\n",
       "    </tr>\n",
       "    <tr>\n",
       "      <th>is_24_7</th>\n",
       "      <td>0.150365</td>\n",
       "    </tr>\n",
       "    <tr>\n",
       "      <th>chain</th>\n",
       "      <td>0.107833</td>\n",
       "    </tr>\n",
       "    <tr>\n",
       "      <th>seats</th>\n",
       "      <td>0.000000</td>\n",
       "    </tr>\n",
       "  </tbody>\n",
       "</table>\n",
       "</div>"
      ],
      "text/plain": [
       "            rating\n",
       "price     0.220295\n",
       "district  0.200761\n",
       "category  0.189716\n",
       "is_24_7   0.150365\n",
       "chain     0.107833\n",
       "seats     0.000000"
      ]
     },
     "execution_count": 30,
     "metadata": {},
     "output_type": "execute_result"
    }
   ],
   "source": [
    "# Вычисляем корреляционную матрицу с использованием phi_k\n",
    "correlation_matrix = df[['category', 'district', 'chain', 'seats', 'price',\n",
    "                        'is_24_7', 'rating']].phik_matrix()\n",
    "\n",
    "# Выводим результат\n",
    "print('Корреляционная матрица с коэффициентом phi_k для переменной rating')\n",
    "correlation_matrix.loc[correlation_matrix.index != 'rating'][['rating']].sort_values(by='rating', ascending=False)"
   ]
  },
  {
   "cell_type": "code",
   "execution_count": 31,
   "id": "68b0cfa0",
   "metadata": {
    "id": "1a65a84d"
   },
   "outputs": [
    {
     "data": {
      "image/png": "[encoded data removed]",
      "text/plain": [
       "<Figure size 144x432 with 2 Axes>"
      ]
     },
     "metadata": {
      "needs_background": "light"
     },
     "output_type": "display_data"
    }
   ],
   "source": [
    "# Строим тепловую карту\n",
    "plt.figure(figsize=(2, 6))\n",
    "\n",
    "# Сохраняем матрицу корреляции признака churn с другими признаками клиента\n",
    "data_heatmap = correlation_matrix.loc[correlation_matrix.index != 'rating'][['rating']].sort_values(by='rating', ascending=False)\n",
    "sns.heatmap(data_heatmap,\n",
    "            annot=True,\n",
    "            fmt='.2f',\n",
    "            cmap='coolwarm',\n",
    "            linewidths=0.5\n",
    "           )\n",
    "\n",
    "# Добавляем заголовок и подпись по оси Х\n",
    "plt.title('Тепловая карта коэффициента phi_k \\n для данных rating')\n",
    "plt.xlabel('Коррелляция')\n",
    "\n",
    "# Выводим график\n",
    "plt.show()"
   ]
  },
  {
   "cell_type": "markdown",
   "id": "aba1961f",
   "metadata": {
    "id": "1a65a84d"
   },
   "source": [
    "<font color='#777778'>Краткое пояснение:</font> Наибольшая корреляция рейтинга наблюдается с ценовой категорией (0,22), расположением (0,2) и категорией заведения (0,19). Корреляция рейтинга с ценовой категорией говорит о том, что у заведений с более высоким средним чеком выше и рейтинг. Корреляция с расположением говорит о том, что в чем более удобной локации расположено заведение, тем выше рейтинг. А вот корреляция с категорией наиболее интересна и, вероятно, говорит о предпочтениях отдельных пользователей."
   ]
  },
  {
   "cell_type": "markdown",
   "id": "370de703",
   "metadata": {
    "id": "370de703"
   },
   "source": [
    "---\n",
    "\n",
    "### Задача 7\n",
    "\n",
    "Сгруппируйте данные по названиям заведений и найдите топ-15 популярных сетей в Москве. Для них посчитайте значения среднего рейтинга. Под популярностью понимается количество заведений этой сети в регионе. К какой категории заведений они относятся? Результат сопроводите подходящими визуализациями."
   ]
  },
  {
   "cell_type": "code",
   "execution_count": 32,
   "id": "5d828a9a",
   "metadata": {
    "id": "5d828a9a"
   },
   "outputs": [
    {
     "data": {
      "text/html": [
       "<div>\n",
       "<style scoped>\n",
       "    .dataframe tbody tr th:only-of-type {\n",
       "        vertical-align: middle;\n",
       "    }\n",
       "\n",
       "    .dataframe tbody tr th {\n",
       "        vertical-align: top;\n",
       "    }\n",
       "\n",
       "    .dataframe thead th {\n",
       "        text-align: right;\n",
       "    }\n",
       "</style>\n",
       "<table border=\"1\" class=\"dataframe\">\n",
       "  <thead>\n",
       "    <tr style=\"text-align: right;\">\n",
       "      <th></th>\n",
       "      <th>name</th>\n",
       "      <th>count</th>\n",
       "      <th>rating</th>\n",
       "      <th>category</th>\n",
       "    </tr>\n",
       "  </thead>\n",
       "  <tbody>\n",
       "    <tr>\n",
       "      <th>13</th>\n",
       "      <td>шоколадница</td>\n",
       "      <td>120</td>\n",
       "      <td>4.177500</td>\n",
       "      <td>кофейня</td>\n",
       "    </tr>\n",
       "    <tr>\n",
       "      <th>6</th>\n",
       "      <td>домино'с пицца</td>\n",
       "      <td>76</td>\n",
       "      <td>4.169737</td>\n",
       "      <td>пиццерия</td>\n",
       "    </tr>\n",
       "    <tr>\n",
       "      <th>5</th>\n",
       "      <td>додо пицца</td>\n",
       "      <td>74</td>\n",
       "      <td>4.286486</td>\n",
       "      <td>пиццерия</td>\n",
       "    </tr>\n",
       "    <tr>\n",
       "      <th>2</th>\n",
       "      <td>one price coffee</td>\n",
       "      <td>71</td>\n",
       "      <td>4.064789</td>\n",
       "      <td>кофейня</td>\n",
       "    </tr>\n",
       "    <tr>\n",
       "      <th>14</th>\n",
       "      <td>яндекс лавка</td>\n",
       "      <td>69</td>\n",
       "      <td>3.872464</td>\n",
       "      <td>ресторан</td>\n",
       "    </tr>\n",
       "    <tr>\n",
       "      <th>1</th>\n",
       "      <td>cofix</td>\n",
       "      <td>65</td>\n",
       "      <td>4.075385</td>\n",
       "      <td>кофейня</td>\n",
       "    </tr>\n",
       "    <tr>\n",
       "      <th>3</th>\n",
       "      <td>prime</td>\n",
       "      <td>50</td>\n",
       "      <td>4.116000</td>\n",
       "      <td>ресторан</td>\n",
       "    </tr>\n",
       "    <tr>\n",
       "      <th>11</th>\n",
       "      <td>хинкальная</td>\n",
       "      <td>44</td>\n",
       "      <td>4.322727</td>\n",
       "      <td>быстрое питание</td>\n",
       "    </tr>\n",
       "    <tr>\n",
       "      <th>7</th>\n",
       "      <td>кофепорт</td>\n",
       "      <td>42</td>\n",
       "      <td>4.147619</td>\n",
       "      <td>кофейня</td>\n",
       "    </tr>\n",
       "    <tr>\n",
       "      <th>8</th>\n",
       "      <td>кулинарная лавка братьев караваевых</td>\n",
       "      <td>39</td>\n",
       "      <td>4.394872</td>\n",
       "      <td>кафе</td>\n",
       "    </tr>\n",
       "    <tr>\n",
       "      <th>10</th>\n",
       "      <td>теремок</td>\n",
       "      <td>38</td>\n",
       "      <td>4.123684</td>\n",
       "      <td>ресторан</td>\n",
       "    </tr>\n",
       "    <tr>\n",
       "      <th>12</th>\n",
       "      <td>чайхана</td>\n",
       "      <td>37</td>\n",
       "      <td>3.924324</td>\n",
       "      <td>кафе</td>\n",
       "    </tr>\n",
       "    <tr>\n",
       "      <th>0</th>\n",
       "      <td>cofefest</td>\n",
       "      <td>32</td>\n",
       "      <td>3.984375</td>\n",
       "      <td>кофейня</td>\n",
       "    </tr>\n",
       "    <tr>\n",
       "      <th>4</th>\n",
       "      <td>буханка</td>\n",
       "      <td>32</td>\n",
       "      <td>4.396875</td>\n",
       "      <td>булочная</td>\n",
       "    </tr>\n",
       "    <tr>\n",
       "      <th>9</th>\n",
       "      <td>му-му</td>\n",
       "      <td>27</td>\n",
       "      <td>4.229630</td>\n",
       "      <td>кафе</td>\n",
       "    </tr>\n",
       "  </tbody>\n",
       "</table>\n",
       "</div>"
      ],
      "text/plain": [
       "                                   name  count    rating         category\n",
       "13                          шоколадница    120  4.177500          кофейня\n",
       "6                        домино'с пицца     76  4.169737         пиццерия\n",
       "5                            додо пицца     74  4.286486         пиццерия\n",
       "2                      one price coffee     71  4.064789          кофейня\n",
       "14                         яндекс лавка     69  3.872464         ресторан\n",
       "1                                 cofix     65  4.075385          кофейня\n",
       "3                                 prime     50  4.116000         ресторан\n",
       "11                           хинкальная     44  4.322727  быстрое питание\n",
       "7                              кофепорт     42  4.147619          кофейня\n",
       "8   кулинарная лавка братьев караваевых     39  4.394872             кафе\n",
       "10                              теремок     38  4.123684         ресторан\n",
       "12                              чайхана     37  3.924324             кафе\n",
       "0                              cofefest     32  3.984375          кофейня\n",
       "4                               буханка     32  4.396875         булочная\n",
       "9                                 му-му     27  4.229630             кафе"
      ]
     },
     "metadata": {},
     "output_type": "display_data"
    }
   ],
   "source": [
    "# Фильтрация сетевых заведений\n",
    "chain_df = df[df['chain'] == 1]\n",
    "\n",
    "# Группировка по названиям сетевых заведений и подсчет количества\n",
    "chain_counts = chain_df.groupby('name')['id'].count().reset_index()\n",
    "chain_counts.columns = ['name', 'count']\n",
    "\n",
    "# Выбор топ-15 сетевых заведений по популярности\n",
    "top_15_chains = chain_counts.sort_values(by='count', ascending=False).head(15)\n",
    "\n",
    "# Объединение с исходным DataFrame (сетевых заведений) для получения рейтинга и категории\n",
    "top_15_chains_info = top_15_chains.merge(chain_df[['name', 'rating', 'category']], on='name', how='left')\n",
    "\n",
    "# Группировка по названию сети и расчет среднего рейтинга\n",
    "top_15_chains_avg_rating = top_15_chains_info.groupby('name').agg({'count': 'first', 'rating': 'mean', 'category': 'first'}).reset_index()\n",
    "\n",
    "# Сортировка по count для корректного порядка в визуализациях\n",
    "top_15_chains_avg_rating_sorted = top_15_chains_avg_rating.sort_values('count', ascending=False)\n",
    "\n",
    "display(top_15_chains_avg_rating_sorted)"
   ]
  },
  {
   "cell_type": "code",
   "execution_count": 33,
   "id": "d013c598",
   "metadata": {
    "id": "d013c598"
   },
   "outputs": [
    {
     "data": {
      "image/png": "[encoded data removed]",
      "text/plain": [
       "<Figure size 864x432 with 1 Axes>"
      ]
     },
     "metadata": {
      "needs_background": "light"
     },
     "output_type": "display_data"
    }
   ],
   "source": [
    "# Визуализация: столбчатая диаграмма среднего рейтинга\n",
    "plt.figure(figsize=(12, 6))\n",
    "sns.barplot(x='name', y='rating', data=top_15_chains_avg_rating, palette='plasma')\n",
    "plt.title('Средний рейтинг топ-15 популярных сетей')\n",
    "plt.xlabel('Название сети')\n",
    "plt.ylabel('Средний рейтинг')\n",
    "plt.xticks(rotation=45, ha='right')\n",
    "plt.tight_layout()\n",
    "plt.show()"
   ]
  },
  {
   "cell_type": "code",
   "execution_count": 34,
   "id": "774348d5",
   "metadata": {
    "id": "774348d5"
   },
   "outputs": [
    {
     "data": {
      "text/plain": [
       "кофейня            5\n",
       "кафе               3\n",
       "ресторан           3\n",
       "пиццерия           2\n",
       "булочная           1\n",
       "быстрое питание    1\n",
       "Name: category, dtype: int64"
      ]
     },
     "metadata": {},
     "output_type": "display_data"
    }
   ],
   "source": [
    "category_counts = top_15_chains_avg_rating['category'].value_counts()\n",
    "display(category_counts)"
   ]
  },
  {
   "cell_type": "code",
   "execution_count": 35,
   "id": "56100d4d",
   "metadata": {
    "id": "774348d5"
   },
   "outputs": [
    {
     "data": {
      "image/png": "[encoded data removed]",
      "text/plain": [
       "<Figure size 576x576 with 1 Axes>"
      ]
     },
     "metadata": {},
     "output_type": "display_data"
    }
   ],
   "source": [
    "# Визуализация: распределение категорий в топ-15\n",
    "category_counts = top_15_chains_avg_rating['category'].value_counts()\n",
    "plt.figure(figsize=(8, 8))\n",
    "plt.pie(category_counts, labels=category_counts.index, autopct='%1.1f%%', startangle=90)\n",
    "plt.title('Распределение категорий в топ-15 популярных сетей')\n",
    "plt.show()"
   ]
  },
  {
   "cell_type": "markdown",
   "id": "f788f41c",
   "metadata": {
    "id": "774348d5"
   },
   "source": [
    "<font color='#777778'>Краткое пояснение:</font> больше всего в топ-15 заведений вошло тех, которые относятся к кофейням (33,3% или 5 точек из представленного топ-15), ресторанам и кафе (по 20% или по 3 точки). На третьем месте в топе - пиццерии (13,3%, или 2 точки). На четвертом - заведения быстрого питания и булочные (по 6,7%, или по 1 точке)."
   ]
  },
  {
   "cell_type": "markdown",
   "id": "58afc553",
   "metadata": {
    "id": "774348d5"
   },
   "source": [
    "#### Промежуточные выводы: \n",
    "Обобщим, что больше всего топ-15 заведений представлен кофейнями (33,3% или 5 точек из представленного топ-15), ресторанам и кафе (по 20% или по 3 точки). На третьем месте в топе - пиццерии (13,3%, или 2 точки). На четвертом - заведения быстрого питания и булочные (по 6,7%, или по 1 точке).\n",
    "\n",
    "- Если посмотреть на топ-3, то его составили такие заведения, как \"Шоколадница\", точек в сети которой насчитывается 120 (заведение относится к такой категории, как кофейня), \"Домино'с Пицца\" (76; пиццерия) и \"Додо Пицца\" (74; пиццерия). \n",
    "\n",
    "\n",
    "- Однако, если посмотреть на значение среднего рейтинга, то в топ-3 лидирует \"Додо Пицца\" со значением рейтинга 4,29, на втором месте - \"Шоколадница\" (4,18) и \"Домино'с Пицца\" (4,17). \n",
    "\n",
    "\n",
    "- Если смотреть шире. Обратим внимание на топ-15. Его, помимо перечисленных заведений, составили \"One price coffee\" (71 заведений сети), \"Яндекс Лавка\"\t(69), \"Cofix\" (65), \"Prime\"\t(50), \"Хинкальная\" (44), \"Кофепорт\"\t(42), \"Кулинарная лавка братьев Караваевых\" (39), \"Теремок\"\t(38), \"Чайхана\"\t(37), \"Cofefest\" (32), \"Буханка\" (32) и \"Му-Му\"\t(27). "
   ]
  },
  {
   "cell_type": "markdown",
   "id": "85a90a94",
   "metadata": {
    "id": "85a90a94"
   },
   "source": [
    "---\n",
    "\n",
    "### Задача 8\n",
    "\n",
    "Изучите вариацию среднего чека заведения (столбец `middle_avg_bill`) в зависимости от района Москвы. Проанализируйте цены в Центральном административном округе и других. Как удалённость от центра влияет на цены в заведениях? Результат сопроводите подходящими визуализациями.\n"
   ]
  },
  {
   "cell_type": "code",
   "execution_count": 36,
   "id": "52ec7d11",
   "metadata": {
    "id": "b98066c1"
   },
   "outputs": [
    {
     "data": {
      "text/html": [
       "<div>\n",
       "<style scoped>\n",
       "    .dataframe tbody tr th:only-of-type {\n",
       "        vertical-align: middle;\n",
       "    }\n",
       "\n",
       "    .dataframe tbody tr th {\n",
       "        vertical-align: top;\n",
       "    }\n",
       "\n",
       "    .dataframe thead tr th {\n",
       "        text-align: left;\n",
       "    }\n",
       "\n",
       "    .dataframe thead tr:last-of-type th {\n",
       "        text-align: right;\n",
       "    }\n",
       "</style>\n",
       "<table border=\"1\" class=\"dataframe\">\n",
       "  <thead>\n",
       "    <tr>\n",
       "      <th></th>\n",
       "      <th>mean</th>\n",
       "      <th>median</th>\n",
       "    </tr>\n",
       "    <tr>\n",
       "      <th></th>\n",
       "      <th>middle_avg_bill</th>\n",
       "      <th>middle_avg_bill</th>\n",
       "    </tr>\n",
       "    <tr>\n",
       "      <th>district</th>\n",
       "      <th></th>\n",
       "      <th></th>\n",
       "    </tr>\n",
       "  </thead>\n",
       "  <tbody>\n",
       "    <tr>\n",
       "      <th>Центральный АО</th>\n",
       "      <td>1191.057547</td>\n",
       "      <td>1000.0</td>\n",
       "    </tr>\n",
       "    <tr>\n",
       "      <th>Западный АО</th>\n",
       "      <td>1053.225490</td>\n",
       "      <td>1000.0</td>\n",
       "    </tr>\n",
       "    <tr>\n",
       "      <th>Северный АО</th>\n",
       "      <td>927.959627</td>\n",
       "      <td>650.0</td>\n",
       "    </tr>\n",
       "    <tr>\n",
       "      <th>Южный АО</th>\n",
       "      <td>834.398089</td>\n",
       "      <td>500.0</td>\n",
       "    </tr>\n",
       "    <tr>\n",
       "      <th>Северо-Западный АО</th>\n",
       "      <td>822.222930</td>\n",
       "      <td>700.0</td>\n",
       "    </tr>\n",
       "    <tr>\n",
       "      <th>Восточный АО</th>\n",
       "      <td>820.626923</td>\n",
       "      <td>575.0</td>\n",
       "    </tr>\n",
       "    <tr>\n",
       "      <th>Юго-Западный АО</th>\n",
       "      <td>792.561702</td>\n",
       "      <td>600.0</td>\n",
       "    </tr>\n",
       "    <tr>\n",
       "      <th>Северо-Восточный АО</th>\n",
       "      <td>716.611296</td>\n",
       "      <td>500.0</td>\n",
       "    </tr>\n",
       "    <tr>\n",
       "      <th>Юго-Восточный АО</th>\n",
       "      <td>654.097938</td>\n",
       "      <td>450.0</td>\n",
       "    </tr>\n",
       "  </tbody>\n",
       "</table>\n",
       "</div>"
      ],
      "text/plain": [
       "                               mean          median\n",
       "                    middle_avg_bill middle_avg_bill\n",
       "district                                           \n",
       "Центральный АО          1191.057547          1000.0\n",
       "Западный АО             1053.225490          1000.0\n",
       "Северный АО              927.959627           650.0\n",
       "Южный АО                 834.398089           500.0\n",
       "Северо-Западный АО       822.222930           700.0\n",
       "Восточный АО             820.626923           575.0\n",
       "Юго-Западный АО          792.561702           600.0\n",
       "Северо-Восточный АО      716.611296           500.0\n",
       "Юго-Восточный АО         654.097938           450.0"
      ]
     },
     "metadata": {},
     "output_type": "display_data"
    }
   ],
   "source": [
    "pivot_district_double=df.pivot_table(values='middle_avg_bill', index='district', aggfunc=['mean','median'])\n",
    "pivot_district_double=pivot_district_double.sort_values(by=[('mean', 'middle_avg_bill'), ('median', 'middle_avg_bill')], ascending=False)\n",
    "\n",
    "display(pivot_district_double)"
   ]
  },
  {
   "cell_type": "code",
   "execution_count": 37,
   "id": "9b5e00a5",
   "metadata": {
    "id": "9b5e00a5"
   },
   "outputs": [
    {
     "data": {
      "image/png": "[encoded data removed]",
      "text/plain": [
       "<Figure size 1008x432 with 1 Axes>"
      ]
     },
     "metadata": {
      "needs_background": "light"
     },
     "output_type": "display_data"
    }
   ],
   "source": [
    "pivot_district_double.plot(kind='barh',\n",
    "                          rot=0,\n",
    "                          figsize=(14,6),\n",
    "                          legend=False,\n",
    "                          color=['deepskyblue', 'paleturquoise'])\n",
    "\n",
    "plt.xlabel('Округ Москвы')\n",
    "plt.ylabel('Усредненное значение среднего чека')\n",
    "plt.legend(title='Чек объекта', labels=['Средний чек', 'Медиана чека'], loc='upper right', bbox_to_anchor=(1.20, 1))\n",
    "plt.title('Распределение усредненных значений среднего чека в разрезе АО')\n",
    "\n",
    "plt.show()"
   ]
  },
  {
   "cell_type": "markdown",
   "id": "418913ae",
   "metadata": {
    "id": "9b5e00a5"
   },
   "source": [
    "<font color='#777778'>Краткое пояснение:</font> как следует из диаграммы, самый высокий средний чек - в Центральном АО (1,19 тыс.руб.). На втором месте - в Западном АО (1,05 тыс.руб.), на третьем - в Северном АО (927 руб.). "
   ]
  },
  {
   "cell_type": "code",
   "execution_count": 38,
   "id": "ae5aa713",
   "metadata": {
    "id": "9b5e00a5"
   },
   "outputs": [
    {
     "data": {
      "text/html": [
       "<div>\n",
       "<style scoped>\n",
       "    .dataframe tbody tr th:only-of-type {\n",
       "        vertical-align: middle;\n",
       "    }\n",
       "\n",
       "    .dataframe tbody tr th {\n",
       "        vertical-align: top;\n",
       "    }\n",
       "\n",
       "    .dataframe thead tr th {\n",
       "        text-align: left;\n",
       "    }\n",
       "\n",
       "    .dataframe thead tr:last-of-type th {\n",
       "        text-align: right;\n",
       "    }\n",
       "</style>\n",
       "<table border=\"1\" class=\"dataframe\">\n",
       "  <thead>\n",
       "    <tr>\n",
       "      <th></th>\n",
       "      <th>mean</th>\n",
       "      <th>median</th>\n",
       "    </tr>\n",
       "    <tr>\n",
       "      <th></th>\n",
       "      <th>middle_avg_bill</th>\n",
       "      <th>middle_avg_bill</th>\n",
       "    </tr>\n",
       "    <tr>\n",
       "      <th>category</th>\n",
       "      <th></th>\n",
       "      <th></th>\n",
       "    </tr>\n",
       "  </thead>\n",
       "  <tbody>\n",
       "    <tr>\n",
       "      <th>бар,паб</th>\n",
       "      <td>1479.739884</td>\n",
       "      <td>1250.0</td>\n",
       "    </tr>\n",
       "    <tr>\n",
       "      <th>булочная</th>\n",
       "      <td>1237.916667</td>\n",
       "      <td>962.5</td>\n",
       "    </tr>\n",
       "    <tr>\n",
       "      <th>быстрое питание</th>\n",
       "      <td>532.081633</td>\n",
       "      <td>450.0</td>\n",
       "    </tr>\n",
       "    <tr>\n",
       "      <th>кафе</th>\n",
       "      <td>765.176190</td>\n",
       "      <td>700.0</td>\n",
       "    </tr>\n",
       "    <tr>\n",
       "      <th>кофейня</th>\n",
       "      <td>794.764706</td>\n",
       "      <td>500.0</td>\n",
       "    </tr>\n",
       "    <tr>\n",
       "      <th>пиццерия</th>\n",
       "      <td>1104.839506</td>\n",
       "      <td>1000.0</td>\n",
       "    </tr>\n",
       "    <tr>\n",
       "      <th>ресторан</th>\n",
       "      <td>1561.059113</td>\n",
       "      <td>1250.0</td>\n",
       "    </tr>\n",
       "    <tr>\n",
       "      <th>столовая</th>\n",
       "      <td>319.886364</td>\n",
       "      <td>300.0</td>\n",
       "    </tr>\n",
       "  </tbody>\n",
       "</table>\n",
       "</div>"
      ],
      "text/plain": [
       "                           mean          median\n",
       "                middle_avg_bill middle_avg_bill\n",
       "category                                       \n",
       "бар,паб             1479.739884          1250.0\n",
       "булочная            1237.916667           962.5\n",
       "быстрое питание      532.081633           450.0\n",
       "кафе                 765.176190           700.0\n",
       "кофейня              794.764706           500.0\n",
       "пиццерия            1104.839506          1000.0\n",
       "ресторан            1561.059113          1250.0\n",
       "столовая             319.886364           300.0"
      ]
     },
     "metadata": {},
     "output_type": "display_data"
    }
   ],
   "source": [
    "central_ao_df = df[df['district'] == 'Центральный АО']\n",
    "pivot_category_bill = central_ao_df.pivot_table(values='middle_avg_bill', index='category', aggfunc=['mean', 'median'])\n",
    "\n",
    "display(pivot_category_bill)\n"
   ]
  },
  {
   "cell_type": "code",
   "execution_count": 39,
   "id": "685da901",
   "metadata": {
    "id": "9b5e00a5",
    "scrolled": false
   },
   "outputs": [
    {
     "data": {
      "image/png": "[encoded data removed]",
      "text/plain": [
       "<Figure size 1008x432 with 1 Axes>"
      ]
     },
     "metadata": {
      "needs_background": "light"
     },
     "output_type": "display_data"
    }
   ],
   "source": [
    "pivot_category_bill.plot(kind='barh',\n",
    "                          rot=0,\n",
    "                          figsize=(14,6),\n",
    "                          legend=False,\n",
    "                          color=['limegreen', 'lightgreen'])\n",
    "\n",
    "plt.xlabel('Центральный АО')\n",
    "plt.ylabel('Усредненное значение среднего чека')\n",
    "plt.legend(title='Чек объекта', labels=['Средний чек', 'Медиана чека'], loc='upper right', bbox_to_anchor=(1.20, 1))\n",
    "plt.title('Средний чек в разрезе категорий заведений общепита в Центральном АО')\n",
    "\n",
    "plt.show()"
   ]
  },
  {
   "cell_type": "markdown",
   "id": "430b1496",
   "metadata": {
    "id": "9b5e00a5",
    "scrolled": false
   },
   "source": [
    "<font color='#777778'>Краткое пояснение:</font> отдельно я решила вывести распределение усредненного значения среднего чека по категориям общепита в Центральном АО Москвы. Так, видно, что самый высокий средний чек - в ресторанах (1,56 тыс.руб.), на втором месте - в барах и пабах (1,48 тыс.руб.), на третьем - в булочных (1,24 тыс.руб.). "
   ]
  },
  {
   "cell_type": "markdown",
   "id": "c150bd4f",
   "metadata": {
    "id": "c150bd4f"
   },
   "source": [
    "---\n"
   ]
  },
  {
   "cell_type": "markdown",
   "id": "a0e1c469",
   "metadata": {
    "id": "3313cfd6"
   },
   "source": [
    "### Промежуточный вывод:\n",
    "\n",
    "<font color='#777778'>Про режим работы:</font> Из больше чем 8 тыс. проанализированных заведений общественного питания лишь 730 работают круглосуточно. Скорее всего такой формат интересен клиентам, но если они и ходят в определенную точку общепита, то явно не только потому, что та работает круглосуточно:) Возможно, коллегам не стоит выбирать круглосуточный режим работы, поскольку лучше сосредоточиться на других услугах и продуктах. \n",
    "\n",
    "<font color='#777778'>Про категории заведений:</font> Больше всего на карте Москвы можно встретить как кафе (2376 точек), на втором месте по количеству - ресторан (2042 точек), на третьем - кофейня (1413 точек). Меньше всего на карте Москвы можно встретить булочных (256 точек). Больше всего заведений общепита можно встретить в Центральном административном округе (далее - АО) (2242 точки общепита), меньше всего - в Северо-Западном административном округе (409 точек).\n",
    "\n",
    "        - При этом в самом плотном по числу заведений АО — Центральном — преобладают рестораны (их насчитывается 670), кафе (464 точки) и кофейни (428 точек). А вот столовую (66 точек) или булочную (50 точек) можно встретить реже.\n",
    "\n",
    "<font color='#777778'>Про сетевые/несетевые точки:</font> Для всех АО Москвы характерно преобладание сетевых булочных, кофеен и пиццерий (61,3%, 51% и 52,1% сетевых заведений в каждой категории соответственно). Это можно объяснить тем, что маленькие заведения за счет сетевого формата пытаются конкурировать на рынке с большими игроками (такими, как рестораны, например). Как раз среди ресторанов, кафе и пабов (последние выигрывают, вероятно, за счет дорогого и качественного алкоголя) можно не так часто встретить сетевые заведения (35,7%, 32,8% и 22% сетевых заведений в каждой категории соответственно).  \n",
    "\n",
    "<font color='#777778'>Про места в заведениях:</font>По количеству посадочных мест лидируют рестораны, бары и пабы — в каждой точке их примерно от 50 до 150, кофейни (от 40 до 140 мест), кафе, пиццерии (от 40 до 120 мест). Более маленькие — булочные и заведения быстрого питания (от 30 мест). \n",
    "\n",
    "<font color='#777778'>Про рейтинг:</font>По рейтингу лидируют бары и пабы, кофейни, пиццерии и рестораны. В частности, у баров и пабов рейтинг 4,4, у булочных - 4,3, у кофеен - 4,2, кафе - 4,1. Однако можно заметить, что средний рейтинг заведений быстрого питания чуть ниже, чем у остальных категорий (4,05). Самый высокий средний рейтинг - у баров и пабов, кофеен, пиццерий и ресторанов.\n",
    "\n",
    "    - Наибольшая корреляция рейтинга наблюдается с ценовой категорией (0,22), расположением (0,2) и категорией заведения (0,19). Корреляция рейтинга с ценовой категорией говорит о том, что у заведений с более высоким средним чеком выше и рейтинг. Корреляция с расположением говорит о том, что в чем более удобной локации расположено заведение, тем выше рейтинг. А вот корреляция с категорией наиболее интересна и, вероятно, говорит о предпочтениях отдельных пользователей.\n",
    "\n",
    "<font color='#777778'>Про топ-15:</font> В топ-15 популярных сетей Москвы вошли такие заведения, как \"Шоколадница\", \"Домино'с пицца\", \"Додо Пицца\", \"One price coffee\", \"Яндекс Лавка\" и \"Cofix\". В целом, чаще всего в топе можно увидеть кофейни (33,3% или 5 точек из представленного топ-15), ресторанам и кафе (по 20% или по 3 точки). На третьем месте в топе - пиццерии (13,3%, или 2 точки). На четвертом - заведения быстрого питания и булочные (по 6,7%, или по 1 точке).\n",
    "\n",
    "<font color='#777778'>Про средний чек:</font>\n",
    "- Самый высокий средний чек — в Центральном АО (1,19 тыс.руб.). На втором месте - в Западном АО (1,05 тыс.руб.), на третьем - в Северном АО (927 руб.).\n",
    "\n",
    "- Если смотреть на средний чек в разрезе категорий заведений в Центральном АО, то можно увидеть, что самый высокий средний чек — в ресторанах (1,56 тыс.руб.), на втором месте - в барах и пабах (1,48 тыс.руб.), на третьем - в булочных (1,24 тыс.руб.). "
   ]
  },
  {
   "cell_type": "markdown",
   "id": "480f3422",
   "metadata": {
    "id": "480f3422"
   },
   "source": [
    "## 4. Итоговый вывод и рекомендации\n",
    "\n",
    "По результатам проведённого исследовательского анализа данных сформулируйте итоговый вывод и рекомендации для заказчика. Старайтесь акцентировать внимание на ключевых моментах исследования.\n",
    "\n",
    "При составлении вывода придерживайтесь такой структуры:\n",
    "\n",
    "1. Общий обзор проделанной работы.\n",
    "2. Ответы на исследовательские вопросы, или главные выводы.\n",
    "3. Рекомендации на основе анализа данных."
   ]
  },
  {
   "cell_type": "markdown",
   "id": "54b71b02",
   "metadata": {
    "id": "480f3422"
   },
   "source": [
    "##### Общий обзор проделанной работы\n",
    "В ходе исследования проанализировали данные 8406 заведений общественного питания, расположенных во всех (девяти) административных округах Москвы. Данные включали информацию об особенностях работы точек общепита, а также информацию о среднем чеке заведения и его рейтинг. Акцент исследования был сделан на том, чтобы выявить ключевые особенности рынка общепита столицы, взаимосвязи между средним чеком заведений и их рейтингом, а также выяснить, какая ниша рынка наиболее выгодна для открытия новой точки. "
   ]
  },
  {
   "cell_type": "markdown",
   "id": "d4d2855b",
   "metadata": {
    "id": "480f3422"
   },
   "source": [
    "##### Ответы на исследовательские вопросы, или главные выводы\n",
    "Основная задача исследования состояла в том, чтобы проанализировать рынок общественного питания Москвы и понять, какая из ниш является наиболее выгодной для открытия новой точки общепита. Исследовательский анализ данных позволил сформировать ключевые особенности рынка:\n",
    "\n",
    "- Из 8406 проанализированных заведений чаще всего можно встретить кафе (2376 точек), на втором месте по количеству - ресторан (2042 точек), на третьем - кофейня (1413 точек). Меньше всего на карте Москвы можно встретить булочных (256 точек). При этом в самом плотном по числу заведений административном округе (далее — АО) — Центральном — преобладают рестораны (их насчитывается 670), кафе (464 точки) и кофейни (428 точек). При этом среди сетевых преобладают булочные (61,3% из всех представленных заведений сетевые), пиццерии (52,1%) и кофейни (51%);\n",
    "\n",
    "\n",
    "- Самый высокий средний чек — в Центральном АО (1,19 тыс.руб.). На втором месте - в Западном АО (1,05 тыс.руб.), на третьем - в Северном АО (927 руб.);\n",
    "\n",
    "\n",
    "    - Если смотреть на средний чек в разрезе категорий заведений в Центральном АО, то можно увидеть, что самый высокий средний чек — в ресторанах (1,6 тыс.руб.), на втором месте — в барах и пабах (1,5 тыс.руб.), на третьем, что неожиданно, — в булочных (1,3 тыс.руб.). \n",
    "    - Большинство заведений общественного питания в Москве не работают круглосуточно;\n",
    "\n",
    "\n",
    "- В топ-15 популярных сетей Москвы (по количеству точек сети) вошли такие заведения, как \"Шоколадница\" (120 точек сети), \"Домино'с Пицца\" (76), \"Додо Пицца\" (74), \"One price coffee\" (71), \"Яндекс Лавка\" (69), \"Cofix\" (65), \"Prime\"\t(50), \"Хинкальная\" (44), \"Кофепорт\"\t(42), \"Кулинарная лавка братьев Караваевых\" (39), \"Теремок\"\t(38), \"Чайхана\"\t(37), \"Cofefest\" (32), \"Буханка\" (32) и \"Му-Му\"\t(27). В целом, чаще всего в топе можно увидеть кофейни (33,3% или 5 точек из представленного топ-15), ресторанам и кафе (по 20% или по 3 точки). На третьем месте в топе - пиццерии (13,3%, или 2 точки). На четвертом - заведения быстрого питания и булочные (по 6,7%, или по 1 точке); \n",
    "\n",
    "\n",
    "- По рейтингу лидируют бары и пабы, кофейни, пиццерии и рестораны. В частности, у баров и пабов рейтинг 4,4, у булочных - 4,3, у кофеен - 4,2, кафе - 4,1. Однако можно заметить, что средний рейтинг заведений быстрого питания чуть ниже, чем у остальных категорий (4,05). Самый высокий средний рейтинг - у баров и пабов, кофеен, пиццерий и ресторанов.\n",
    "\n",
    "\n",
    "- Как правило, чаще всего в заведениях общепита от 40 до 150 посадочных мест. Более маленькие — булочные и заведения быстрого питания (от 30 мест)."
   ]
  },
  {
   "cell_type": "markdown",
   "id": "249de586",
   "metadata": {
    "id": "480f3422"
   },
   "source": [
    "##### Рекомендации на основе анализа данных\n",
    "\n",
    "1. Выбор ниши:\n",
    "\n",
    "⦁ <font color='#777778'>Ресторан:</font> высокий средний чек в Центральном АО (около 1,6 тыс.руб.) делает рестораны привлекательными с точки зрения потенциальной прибыли. Но в этом сегменте наблюдается довольно высокая конкуренция, а значит требуется тщательная проработка концепции и позиционирования.\n",
    "\n",
    "⦁ <font color='#777778'>Бар/Паб:</font> второй по величине средний чек в Центральном АО (1,5 тыс.руб.) и высокий средний рейтинг делают бары/пабы перспективным направлением. Возможно, стоит обратить внимание на некруглосуточный режим работы большинства заведений и рассмотреть возможность работы в ночное время для увеличения прибыли.\n",
    "\n",
    "⦁ <font color='#777778'>Булочная:</font> неожиданно высокий средний чек в Центральном АО (1,3 тыс.руб.) и высокая доля сетевых заведений (61,3%) указывают на потенциал этого сегмента. Формат \"булочная-кафе\" может быть особенно привлекательным, сочетая продажу выпечки с возможностью потребления на месте.\n",
    "\n",
    "⦁ <font color='#777778'>Кофейня:</font> высокая популярность кофеен (3 место по количеству в Центральном АО, высокая представленность в топ-15 сетей, высокий средний рейтинг) делает эту нишу привлекательной, но требует выделения среди конкурентов. Можно рассмотреть специализацию (например, кофе класса specialty) или уникальную атмосферу.\n",
    "\n",
    "    - Не рекомендуется: заведения быстрого питания, несмотря на присутствие в топ-15 сетей, имеют более низкий средний рейтинг и чек.\n",
    "\n",
    "2. Расположение:\n",
    "\n",
    "⦁<font color='#777778'>Центральный АО:</font> наибольший средний чек и высокая концентрация ресторанов, кафе и кофеен делают его привлекательным, но конкуренция здесь очень высока. Требуется тщательный выбор места и уникальная концепция.\n",
    "\n",
    "⦁ <font color='#777778'>Западный и Северный АО:</font> второй и третий по величине средние чеки. Могут быть интересны с точки зрения баланса между потенциалом прибыли и уровнем конкуренции.\n",
    "\n",
    "3. Ценовая политика:\n",
    "\n",
    "- Стоит ориентироваться на средний чек в выбранном АО и категории заведения. Для ресторанов и баров/пабов в Центральном АО это 1,5-1,6 тыс.руб., для булочных — 1,3 тыс.руб.\n",
    "\n",
    "4. Формат:\n",
    "\n",
    "⦁ <font color='#777778'>Сетевое заведение:</font> франшиза может упростить запуск и дать доступ к готовой бизнес-модели, но потребует дополнительных вложений.\n",
    "\n",
    "⦁ <font color='#777778'>Уникальное заведение:</font> позволит создать уникальное предложение и выделиться на фоне конкурентов, но потребует больших усилий по разработке концепции и продвижению.\n",
    "\n",
    "5. Вместимость:\n",
    "\n",
    "- Стоит ориентироваться на 40-150 посадочных мест, если выбран формат ресторана, бара/паба или кафе. Для булочных и заведений быстрого питания можно рассматривать меньшую вместимость (от 30 мест)."
   ]
  },
  {
   "cell_type": "markdown",
   "id": "3dc0295d",
   "metadata": {},
   "source": [
    "##### Перед открытием также нужно:\n",
    "\n",
    "⦁ Детально проанализировать конкурентов. Тщательно изучить меню, цены, акции, отзывы посетителей конкурентов в выбранной нише и районе.\n",
    "\n",
    "⦁ Провести маркетинговое исследование. Определить целевую аудиторию и разработать стратегию привлечения клиентов.\n",
    "\n",
    "⦁ Провести консультации с экспертами. Нужны советы от опытных рестораторов и специалистов по маркетингу в сфере общественного питания."
   ]
  }
 ],
 "metadata": {
  "ExecuteTimeLog": [
   {
    "duration": 372,
    "start_time": "2025-04-30T05:10:57.887Z"
   },
   {
    "duration": 193,
    "start_time": "2025-04-30T05:11:31.670Z"
   },
   {
    "duration": 156,
    "start_time": "2025-04-30T05:11:48.608Z"
   },
   {
    "duration": 51,
    "start_time": "2025-04-30T05:12:57.977Z"
   },
   {
    "duration": 151,
    "start_time": "2025-04-30T05:13:09.552Z"
   },
   {
    "duration": 107,
    "start_time": "2025-04-30T05:14:29.072Z"
   },
   {
    "duration": 103,
    "start_time": "2025-04-30T05:14:32.577Z"
   },
   {
    "duration": 141,
    "start_time": "2025-04-30T05:14:40.848Z"
   },
   {
    "duration": 47,
    "start_time": "2025-04-30T05:15:01.635Z"
   },
   {
    "duration": 11,
    "start_time": "2025-04-30T05:15:13.443Z"
   },
   {
    "duration": 111,
    "start_time": "2025-04-30T05:15:26.115Z"
   },
   {
    "duration": 53,
    "start_time": "2025-04-30T05:15:34.225Z"
   },
   {
    "duration": 13,
    "start_time": "2025-04-30T05:15:40.953Z"
   },
   {
    "duration": 14,
    "start_time": "2025-04-30T05:15:48.345Z"
   },
   {
    "duration": 11,
    "start_time": "2025-04-30T05:16:51.522Z"
   },
   {
    "duration": 113,
    "start_time": "2025-04-30T05:19:59.801Z"
   },
   {
    "duration": 130,
    "start_time": "2025-04-30T06:05:04.744Z"
   },
   {
    "duration": 89,
    "start_time": "2025-04-30T06:05:08.277Z"
   },
   {
    "duration": 228,
    "start_time": "2025-04-30T06:07:52.741Z"
   },
   {
    "duration": 166,
    "start_time": "2025-04-30T06:13:12.937Z"
   },
   {
    "duration": 149,
    "start_time": "2025-04-30T06:13:27.346Z"
   },
   {
    "duration": 229,
    "start_time": "2025-04-30T06:15:50.081Z"
   },
   {
    "duration": 72,
    "start_time": "2025-04-30T06:21:22.236Z"
   },
   {
    "duration": 17,
    "start_time": "2025-04-30T06:26:05.588Z"
   },
   {
    "duration": 194,
    "start_time": "2025-04-30T06:30:31.843Z"
   },
   {
    "duration": 15,
    "start_time": "2025-04-30T06:30:35.115Z"
   },
   {
    "duration": 51,
    "start_time": "2025-04-30T06:43:12.685Z"
   },
   {
    "duration": 28,
    "start_time": "2025-04-30T06:43:36.348Z"
   },
   {
    "duration": 11,
    "start_time": "2025-04-30T06:45:36.076Z"
   },
   {
    "duration": 27,
    "start_time": "2025-04-30T06:49:56.312Z"
   },
   {
    "duration": 19,
    "start_time": "2025-04-30T06:50:17.243Z"
   },
   {
    "duration": 22,
    "start_time": "2025-04-30T06:50:53.522Z"
   },
   {
    "duration": 18,
    "start_time": "2025-04-30T06:51:05.291Z"
   },
   {
    "duration": 20,
    "start_time": "2025-04-30T06:51:10.227Z"
   },
   {
    "duration": 18,
    "start_time": "2025-04-30T06:54:33.837Z"
   },
   {
    "duration": 19,
    "start_time": "2025-04-30T06:58:59.125Z"
   },
   {
    "duration": 32,
    "start_time": "2025-04-30T07:01:49.657Z"
   },
   {
    "duration": 20,
    "start_time": "2025-04-30T07:14:41.060Z"
   },
   {
    "duration": 9,
    "start_time": "2025-04-30T07:15:12.574Z"
   },
   {
    "duration": 14,
    "start_time": "2025-04-30T07:19:05.879Z"
   },
   {
    "duration": 14,
    "start_time": "2025-04-30T07:19:09.203Z"
   },
   {
    "duration": 23,
    "start_time": "2025-04-30T07:19:17.588Z"
   },
   {
    "duration": 7,
    "start_time": "2025-04-30T07:22:26.041Z"
   },
   {
    "duration": 8,
    "start_time": "2025-04-30T07:23:41.214Z"
   },
   {
    "duration": 12,
    "start_time": "2025-04-30T07:23:51.789Z"
   },
   {
    "duration": 326,
    "start_time": "2025-04-30T07:23:57.005Z"
   },
   {
    "duration": 10,
    "start_time": "2025-04-30T07:24:16.381Z"
   },
   {
    "duration": 8,
    "start_time": "2025-04-30T07:25:03.959Z"
   },
   {
    "duration": 16,
    "start_time": "2025-04-30T07:26:03.700Z"
   },
   {
    "duration": 12,
    "start_time": "2025-04-30T07:26:34.699Z"
   },
   {
    "duration": 9,
    "start_time": "2025-04-30T07:30:53.700Z"
   },
   {
    "duration": 16,
    "start_time": "2025-04-30T07:31:47.134Z"
   },
   {
    "duration": 20,
    "start_time": "2025-04-30T07:32:12.934Z"
   },
   {
    "duration": 17,
    "start_time": "2025-04-30T07:32:29.394Z"
   },
   {
    "duration": 17,
    "start_time": "2025-04-30T07:32:44.025Z"
   },
   {
    "duration": 6,
    "start_time": "2025-04-30T07:40:05.918Z"
   },
   {
    "duration": 7,
    "start_time": "2025-04-30T07:40:09.719Z"
   },
   {
    "duration": 7,
    "start_time": "2025-04-30T07:40:26.070Z"
   },
   {
    "duration": 12,
    "start_time": "2025-04-30T07:40:55.661Z"
   },
   {
    "duration": 5,
    "start_time": "2025-04-30T07:41:30.624Z"
   },
   {
    "duration": 10,
    "start_time": "2025-04-30T07:41:32.078Z"
   },
   {
    "duration": 5,
    "start_time": "2025-04-30T07:41:35.926Z"
   },
   {
    "duration": 9,
    "start_time": "2025-04-30T07:41:36.658Z"
   },
   {
    "duration": 17,
    "start_time": "2025-04-30T07:41:42.235Z"
   },
   {
    "duration": 11,
    "start_time": "2025-04-30T07:43:37.252Z"
   },
   {
    "duration": 18,
    "start_time": "2025-04-30T07:43:49.584Z"
   },
   {
    "duration": 5,
    "start_time": "2025-04-30T07:44:03.764Z"
   },
   {
    "duration": 3,
    "start_time": "2025-04-30T07:47:59.653Z"
   },
   {
    "duration": 147,
    "start_time": "2025-04-30T07:48:00.757Z"
   },
   {
    "duration": 66,
    "start_time": "2025-04-30T07:48:02.353Z"
   },
   {
    "duration": 14,
    "start_time": "2025-04-30T07:48:03.733Z"
   },
   {
    "duration": 11,
    "start_time": "2025-04-30T07:48:04.445Z"
   },
   {
    "duration": 203,
    "start_time": "2025-04-30T07:48:06.725Z"
   },
   {
    "duration": 26,
    "start_time": "2025-04-30T07:48:11.146Z"
   },
   {
    "duration": 13,
    "start_time": "2025-04-30T07:48:15.077Z"
   },
   {
    "duration": 13,
    "start_time": "2025-04-30T07:48:16.239Z"
   },
   {
    "duration": 7,
    "start_time": "2025-04-30T07:48:17.908Z"
   },
   {
    "duration": 9,
    "start_time": "2025-04-30T07:48:20.856Z"
   },
   {
    "duration": 18,
    "start_time": "2025-04-30T07:48:30.398Z"
   },
   {
    "duration": 6,
    "start_time": "2025-04-30T07:48:32.934Z"
   },
   {
    "duration": 49,
    "start_time": "2025-05-03T16:10:39.999Z"
   },
   {
    "duration": 778,
    "start_time": "2025-05-03T16:11:40.239Z"
   },
   {
    "duration": 48,
    "start_time": "2025-05-03T16:11:41.351Z"
   },
   {
    "duration": 15,
    "start_time": "2025-05-03T16:12:40.560Z"
   },
   {
    "duration": 10,
    "start_time": "2025-05-03T16:12:41.609Z"
   },
   {
    "duration": 3,
    "start_time": "2025-05-03T16:13:22.441Z"
   },
   {
    "duration": 175,
    "start_time": "2025-05-03T16:13:23.105Z"
   },
   {
    "duration": 209,
    "start_time": "2025-05-03T16:13:23.897Z"
   },
   {
    "duration": 12,
    "start_time": "2025-05-03T16:13:25.177Z"
   },
   {
    "duration": 11,
    "start_time": "2025-05-03T16:13:25.505Z"
   },
   {
    "duration": 19,
    "start_time": "2025-05-03T16:13:37.641Z"
   },
   {
    "duration": 19,
    "start_time": "2025-05-03T16:13:41.641Z"
   },
   {
    "duration": 15,
    "start_time": "2025-05-03T16:13:46.783Z"
   },
   {
    "duration": 14,
    "start_time": "2025-05-03T16:13:49.088Z"
   },
   {
    "duration": 10,
    "start_time": "2025-05-03T16:13:53.336Z"
   },
   {
    "duration": 8,
    "start_time": "2025-05-03T16:13:54.283Z"
   },
   {
    "duration": 16,
    "start_time": "2025-05-03T16:13:55.033Z"
   },
   {
    "duration": 5,
    "start_time": "2025-05-03T16:13:56.657Z"
   },
   {
    "duration": 2,
    "start_time": "2025-05-03T16:14:01.497Z"
   },
   {
    "duration": 162,
    "start_time": "2025-05-03T16:14:02.216Z"
   },
   {
    "duration": 163,
    "start_time": "2025-05-03T16:14:13.346Z"
   },
   {
    "duration": 90,
    "start_time": "2025-05-03T16:14:30.586Z"
   },
   {
    "duration": 199,
    "start_time": "2025-05-03T16:14:38.105Z"
   },
   {
    "duration": 144,
    "start_time": "2025-05-03T16:16:41.983Z"
   },
   {
    "duration": 151,
    "start_time": "2025-05-03T16:17:03.805Z"
   },
   {
    "duration": 137,
    "start_time": "2025-05-03T16:17:31.119Z"
   },
   {
    "duration": 3,
    "start_time": "2025-05-03T16:18:51.183Z"
   },
   {
    "duration": 139,
    "start_time": "2025-05-03T16:18:51.776Z"
   },
   {
    "duration": 13,
    "start_time": "2025-05-03T17:28:33.804Z"
   },
   {
    "duration": 14,
    "start_time": "2025-05-03T17:28:48.285Z"
   },
   {
    "duration": 560,
    "start_time": "2025-05-03T17:29:40.904Z"
   },
   {
    "duration": 134,
    "start_time": "2025-05-03T17:29:41.465Z"
   },
   {
    "duration": 97,
    "start_time": "2025-05-03T17:32:32.014Z"
   },
   {
    "duration": 402,
    "start_time": "2025-05-03T17:36:09.576Z"
   },
   {
    "duration": 371,
    "start_time": "2025-05-03T17:36:24.945Z"
   },
   {
    "duration": 14,
    "start_time": "2025-05-03T17:37:29.640Z"
   },
   {
    "duration": 382,
    "start_time": "2025-05-03T17:37:37.719Z"
   },
   {
    "duration": 13,
    "start_time": "2025-05-03T17:42:42.602Z"
   },
   {
    "duration": 280,
    "start_time": "2025-05-03T17:42:57.969Z"
   },
   {
    "duration": 334,
    "start_time": "2025-05-03T17:43:20.705Z"
   },
   {
    "duration": 16,
    "start_time": "2025-05-03T17:45:16.509Z"
   },
   {
    "duration": 249,
    "start_time": "2025-05-03T17:45:31.240Z"
   },
   {
    "duration": 106,
    "start_time": "2025-05-03T17:48:31.513Z"
   },
   {
    "duration": 20,
    "start_time": "2025-05-03T17:51:27.315Z"
   },
   {
    "duration": 137,
    "start_time": "2025-05-03T17:57:33.515Z"
   },
   {
    "duration": 177,
    "start_time": "2025-05-03T17:57:46.791Z"
   },
   {
    "duration": 177,
    "start_time": "2025-05-03T17:58:19.597Z"
   },
   {
    "duration": 179,
    "start_time": "2025-05-03T17:58:53.487Z"
   },
   {
    "duration": 176,
    "start_time": "2025-05-03T17:59:16.886Z"
   },
   {
    "duration": 185,
    "start_time": "2025-05-03T17:59:37.061Z"
   },
   {
    "duration": 22,
    "start_time": "2025-05-03T18:04:27.965Z"
   },
   {
    "duration": 5,
    "start_time": "2025-05-03T18:05:31.524Z"
   },
   {
    "duration": 168,
    "start_time": "2025-05-03T18:05:32.330Z"
   },
   {
    "duration": 192,
    "start_time": "2025-05-03T18:05:49.116Z"
   },
   {
    "duration": 261,
    "start_time": "2025-05-03T18:06:01.565Z"
   },
   {
    "duration": 114,
    "start_time": "2025-05-03T18:06:23.429Z"
   },
   {
    "duration": 160,
    "start_time": "2025-05-03T18:06:56.398Z"
   },
   {
    "duration": 153,
    "start_time": "2025-05-03T18:07:21.317Z"
   },
   {
    "duration": 158,
    "start_time": "2025-05-03T18:07:29.363Z"
   },
   {
    "duration": 6,
    "start_time": "2025-05-03T18:08:37.539Z"
   },
   {
    "duration": 153,
    "start_time": "2025-05-03T18:08:38.268Z"
   },
   {
    "duration": 9,
    "start_time": "2025-05-03T18:13:48.115Z"
   },
   {
    "duration": 13,
    "start_time": "2025-05-03T18:14:05.722Z"
   },
   {
    "duration": 16,
    "start_time": "2025-05-03T18:14:15.890Z"
   },
   {
    "duration": 17,
    "start_time": "2025-05-03T18:16:22.315Z"
   },
   {
    "duration": 18,
    "start_time": "2025-05-03T18:23:07.900Z"
   },
   {
    "duration": 14,
    "start_time": "2025-05-03T18:23:24.637Z"
   },
   {
    "duration": 467,
    "start_time": "2025-05-03T18:23:45.868Z"
   },
   {
    "duration": 13,
    "start_time": "2025-05-03T18:25:48.779Z"
   },
   {
    "duration": 11,
    "start_time": "2025-05-03T18:25:54.808Z"
   },
   {
    "duration": 9,
    "start_time": "2025-05-03T18:26:02.630Z"
   },
   {
    "duration": 9,
    "start_time": "2025-05-03T18:26:16.748Z"
   },
   {
    "duration": 381,
    "start_time": "2025-05-03T18:31:01.226Z"
   },
   {
    "duration": 139,
    "start_time": "2025-05-03T18:32:52.857Z"
   },
   {
    "duration": 298,
    "start_time": "2025-05-03T18:33:29.019Z"
   },
   {
    "duration": 206,
    "start_time": "2025-05-03T18:33:53.851Z"
   },
   {
    "duration": 213,
    "start_time": "2025-05-03T18:34:06.070Z"
   },
   {
    "duration": 217,
    "start_time": "2025-05-03T18:34:21.863Z"
   },
   {
    "duration": 9,
    "start_time": "2025-05-03T18:34:26.661Z"
   },
   {
    "duration": 242,
    "start_time": "2025-05-03T18:34:27.944Z"
   },
   {
    "duration": 369,
    "start_time": "2025-05-03T18:34:41.360Z"
   },
   {
    "duration": 443,
    "start_time": "2025-05-03T18:35:47.670Z"
   },
   {
    "duration": 416,
    "start_time": "2025-05-03T18:36:02.078Z"
   },
   {
    "duration": 406,
    "start_time": "2025-05-03T18:37:08.304Z"
   },
   {
    "duration": 424,
    "start_time": "2025-05-03T18:37:17.964Z"
   },
   {
    "duration": 420,
    "start_time": "2025-05-03T18:37:49.592Z"
   },
   {
    "duration": 10,
    "start_time": "2025-05-03T18:39:22.561Z"
   },
   {
    "duration": 22,
    "start_time": "2025-05-03T18:41:47.284Z"
   },
   {
    "duration": 20,
    "start_time": "2025-05-03T18:42:03.255Z"
   },
   {
    "duration": 513,
    "start_time": "2025-05-03T18:42:55.694Z"
   },
   {
    "duration": 18,
    "start_time": "2025-05-03T18:43:03.375Z"
   },
   {
    "duration": 380,
    "start_time": "2025-05-03T18:43:04.558Z"
   },
   {
    "duration": 379,
    "start_time": "2025-05-03T18:47:02.143Z"
   },
   {
    "duration": 19,
    "start_time": "2025-05-03T18:47:27.185Z"
   },
   {
    "duration": 411,
    "start_time": "2025-05-03T18:47:29.600Z"
   },
   {
    "duration": 59,
    "start_time": "2025-05-04T16:40:33.500Z"
   },
   {
    "duration": 9,
    "start_time": "2025-05-04T16:40:40.773Z"
   },
   {
    "duration": 400,
    "start_time": "2025-05-04T16:40:52.747Z"
   },
   {
    "duration": 194,
    "start_time": "2025-05-04T16:40:53.149Z"
   },
   {
    "duration": 53,
    "start_time": "2025-05-04T16:40:53.345Z"
   },
   {
    "duration": 13,
    "start_time": "2025-05-04T16:40:53.962Z"
   },
   {
    "duration": 11,
    "start_time": "2025-05-04T16:40:54.409Z"
   },
   {
    "duration": 20,
    "start_time": "2025-05-04T16:40:55.503Z"
   },
   {
    "duration": 16,
    "start_time": "2025-05-04T16:40:57.028Z"
   },
   {
    "duration": 15,
    "start_time": "2025-05-04T16:40:58.568Z"
   },
   {
    "duration": 16,
    "start_time": "2025-05-04T16:40:59.245Z"
   },
   {
    "duration": 8,
    "start_time": "2025-05-04T16:41:00.020Z"
   },
   {
    "duration": 19,
    "start_time": "2025-05-04T16:41:00.775Z"
   },
   {
    "duration": 5,
    "start_time": "2025-05-04T16:41:01.187Z"
   },
   {
    "duration": 408,
    "start_time": "2025-05-04T16:41:03.839Z"
   },
   {
    "duration": 160,
    "start_time": "2025-05-04T16:41:04.401Z"
   },
   {
    "duration": 199,
    "start_time": "2025-05-04T16:41:05.858Z"
   },
   {
    "duration": 6,
    "start_time": "2025-05-04T16:41:07.390Z"
   },
   {
    "duration": 159,
    "start_time": "2025-05-04T16:41:08.188Z"
   },
   {
    "duration": 76,
    "start_time": "2025-05-04T16:41:10.069Z"
   },
   {
    "duration": 485,
    "start_time": "2025-05-04T16:41:10.892Z"
   },
   {
    "duration": 41,
    "start_time": "2025-05-04T16:56:10.027Z"
   },
   {
    "duration": 3,
    "start_time": "2025-05-04T16:56:28.390Z"
   },
   {
    "duration": 174,
    "start_time": "2025-05-04T16:56:28.534Z"
   },
   {
    "duration": 64,
    "start_time": "2025-05-04T16:56:28.710Z"
   },
   {
    "duration": 14,
    "start_time": "2025-05-04T16:56:28.978Z"
   },
   {
    "duration": 11,
    "start_time": "2025-05-04T16:56:29.122Z"
   },
   {
    "duration": 19,
    "start_time": "2025-05-04T16:56:29.612Z"
   },
   {
    "duration": 17,
    "start_time": "2025-05-04T16:56:30.266Z"
   },
   {
    "duration": 22,
    "start_time": "2025-05-04T16:56:31.584Z"
   },
   {
    "duration": 12,
    "start_time": "2025-05-04T16:56:32.498Z"
   },
   {
    "duration": 7,
    "start_time": "2025-05-04T16:56:33.258Z"
   },
   {
    "duration": 18,
    "start_time": "2025-05-04T16:56:33.766Z"
   },
   {
    "duration": 5,
    "start_time": "2025-05-04T16:56:33.990Z"
   },
   {
    "duration": 3,
    "start_time": "2025-05-04T16:56:36.316Z"
   },
   {
    "duration": 160,
    "start_time": "2025-05-04T16:56:36.321Z"
   },
   {
    "duration": 202,
    "start_time": "2025-05-04T16:56:36.874Z"
   },
   {
    "duration": 5,
    "start_time": "2025-05-04T16:56:37.610Z"
   },
   {
    "duration": 166,
    "start_time": "2025-05-04T16:56:38.066Z"
   },
   {
    "duration": 20,
    "start_time": "2025-05-04T16:56:46.023Z"
   },
   {
    "duration": 401,
    "start_time": "2025-05-04T16:56:46.747Z"
   },
   {
    "duration": 11,
    "start_time": "2025-05-04T16:56:48.770Z"
   },
   {
    "duration": 552,
    "start_time": "2025-05-04T16:57:45.487Z"
   },
   {
    "duration": 156,
    "start_time": "2025-05-04T16:57:46.110Z"
   },
   {
    "duration": 227,
    "start_time": "2025-05-04T16:58:12.936Z"
   },
   {
    "duration": 230,
    "start_time": "2025-05-04T17:04:58.262Z"
   },
   {
    "duration": 143,
    "start_time": "2025-05-04T17:39:46.607Z"
   },
   {
    "duration": 140,
    "start_time": "2025-05-04T17:39:52.064Z"
   },
   {
    "duration": 151,
    "start_time": "2025-05-04T17:39:57.080Z"
   },
   {
    "duration": 82,
    "start_time": "2025-05-04T17:42:46.872Z"
   },
   {
    "duration": 147,
    "start_time": "2025-05-04T17:42:53.333Z"
   },
   {
    "duration": 14,
    "start_time": "2025-05-04T18:04:56.230Z"
   },
   {
    "duration": 12,
    "start_time": "2025-05-04T18:06:01.986Z"
   },
   {
    "duration": 63,
    "start_time": "2025-05-04T18:07:02.563Z"
   },
   {
    "duration": 11,
    "start_time": "2025-05-04T18:07:03.275Z"
   },
   {
    "duration": 3349,
    "start_time": "2025-05-04T18:07:42.636Z"
   },
   {
    "duration": 9,
    "start_time": "2025-05-04T18:07:49.547Z"
   },
   {
    "duration": 8,
    "start_time": "2025-05-04T18:09:59.453Z"
   },
   {
    "duration": 8,
    "start_time": "2025-05-04T18:10:00.543Z"
   },
   {
    "duration": 381,
    "start_time": "2025-05-04T18:10:12.233Z"
   },
   {
    "duration": 126,
    "start_time": "2025-05-04T18:10:12.615Z"
   },
   {
    "duration": 44,
    "start_time": "2025-05-04T18:10:12.743Z"
   },
   {
    "duration": 14,
    "start_time": "2025-05-04T18:10:12.789Z"
   },
   {
    "duration": 29,
    "start_time": "2025-05-04T18:10:12.804Z"
   },
   {
    "duration": 20,
    "start_time": "2025-05-04T18:10:12.834Z"
   },
   {
    "duration": 29,
    "start_time": "2025-05-04T18:10:12.855Z"
   },
   {
    "duration": 13,
    "start_time": "2025-05-04T18:10:12.885Z"
   },
   {
    "duration": 22,
    "start_time": "2025-05-04T18:10:12.900Z"
   },
   {
    "duration": 7,
    "start_time": "2025-05-04T18:10:12.925Z"
   },
   {
    "duration": 17,
    "start_time": "2025-05-04T18:10:12.934Z"
   },
   {
    "duration": 26,
    "start_time": "2025-05-04T18:10:12.952Z"
   },
   {
    "duration": 237,
    "start_time": "2025-05-04T18:10:12.980Z"
   },
   {
    "duration": 167,
    "start_time": "2025-05-04T18:10:13.218Z"
   },
   {
    "duration": 197,
    "start_time": "2025-05-04T18:10:13.386Z"
   },
   {
    "duration": 5,
    "start_time": "2025-05-04T18:10:13.585Z"
   },
   {
    "duration": 186,
    "start_time": "2025-05-04T18:10:13.592Z"
   },
   {
    "duration": 19,
    "start_time": "2025-05-04T18:10:13.779Z"
   },
   {
    "duration": 440,
    "start_time": "2025-05-04T18:10:13.800Z"
   },
   {
    "duration": 534,
    "start_time": "2025-05-04T18:10:14.242Z"
   },
   {
    "duration": 241,
    "start_time": "2025-05-04T18:10:14.778Z"
   },
   {
    "duration": 234,
    "start_time": "2025-05-04T18:10:15.020Z"
   },
   {
    "duration": 163,
    "start_time": "2025-05-04T18:10:15.256Z"
   },
   {
    "duration": 114,
    "start_time": "2025-05-04T18:10:15.421Z"
   },
   {
    "duration": 12,
    "start_time": "2025-05-04T18:11:30.274Z"
   },
   {
    "duration": 145,
    "start_time": "2025-05-04T18:13:17.478Z"
   },
   {
    "duration": 416,
    "start_time": "2025-05-04T18:14:45.082Z"
   },
   {
    "duration": 124,
    "start_time": "2025-05-04T18:14:45.500Z"
   },
   {
    "duration": 50,
    "start_time": "2025-05-04T18:14:45.626Z"
   },
   {
    "duration": 14,
    "start_time": "2025-05-04T18:14:45.678Z"
   },
   {
    "duration": 91,
    "start_time": "2025-05-04T18:14:45.694Z"
   },
   {
    "duration": 21,
    "start_time": "2025-05-04T18:14:45.787Z"
   },
   {
    "duration": 21,
    "start_time": "2025-05-04T18:14:45.810Z"
   },
   {
    "duration": 14,
    "start_time": "2025-05-04T18:14:45.832Z"
   },
   {
    "duration": 106,
    "start_time": "2025-05-04T18:14:45.876Z"
   },
   {
    "duration": 10,
    "start_time": "2025-05-04T18:14:45.984Z"
   },
   {
    "duration": 19,
    "start_time": "2025-05-04T18:14:45.995Z"
   },
   {
    "duration": 5,
    "start_time": "2025-05-04T18:14:46.016Z"
   },
   {
    "duration": 269,
    "start_time": "2025-05-04T18:14:46.022Z"
   },
   {
    "duration": 167,
    "start_time": "2025-05-04T18:14:46.293Z"
   },
   {
    "duration": 198,
    "start_time": "2025-05-04T18:14:46.462Z"
   },
   {
    "duration": 4,
    "start_time": "2025-05-04T18:14:46.662Z"
   },
   {
    "duration": 298,
    "start_time": "2025-05-04T18:14:46.676Z"
   },
   {
    "duration": 18,
    "start_time": "2025-05-04T18:14:46.975Z"
   },
   {
    "duration": 467,
    "start_time": "2025-05-04T18:14:46.995Z"
   },
   {
    "duration": 546,
    "start_time": "2025-05-04T18:14:47.464Z"
   },
   {
    "duration": 232,
    "start_time": "2025-05-04T18:14:48.012Z"
   },
   {
    "duration": 223,
    "start_time": "2025-05-04T18:14:48.246Z"
   },
   {
    "duration": 154,
    "start_time": "2025-05-04T18:14:48.471Z"
   },
   {
    "duration": 233,
    "start_time": "2025-05-04T18:14:48.627Z"
   },
   {
    "duration": 0,
    "start_time": "2025-05-04T18:14:48.862Z"
   },
   {
    "duration": 5,
    "start_time": "2025-05-04T18:15:45.877Z"
   },
   {
    "duration": 388,
    "start_time": "2025-05-04T18:17:34.111Z"
   },
   {
    "duration": 134,
    "start_time": "2025-05-04T18:17:34.501Z"
   },
   {
    "duration": 50,
    "start_time": "2025-05-04T18:17:34.636Z"
   },
   {
    "duration": 14,
    "start_time": "2025-05-04T18:17:34.687Z"
   },
   {
    "duration": 144,
    "start_time": "2025-05-04T18:17:34.704Z"
   },
   {
    "duration": 28,
    "start_time": "2025-05-04T18:17:34.850Z"
   },
   {
    "duration": 25,
    "start_time": "2025-05-04T18:17:34.880Z"
   },
   {
    "duration": 14,
    "start_time": "2025-05-04T18:17:34.906Z"
   },
   {
    "duration": 30,
    "start_time": "2025-05-04T18:17:34.921Z"
   },
   {
    "duration": 7,
    "start_time": "2025-05-04T18:17:34.953Z"
   },
   {
    "duration": 36,
    "start_time": "2025-05-04T18:17:34.961Z"
   },
   {
    "duration": 5,
    "start_time": "2025-05-04T18:17:34.998Z"
   },
   {
    "duration": 250,
    "start_time": "2025-05-04T18:17:35.004Z"
   },
   {
    "duration": 175,
    "start_time": "2025-05-04T18:17:35.257Z"
   },
   {
    "duration": 201,
    "start_time": "2025-05-04T18:17:35.433Z"
   },
   {
    "duration": 5,
    "start_time": "2025-05-04T18:17:35.636Z"
   },
   {
    "duration": 210,
    "start_time": "2025-05-04T18:17:35.643Z"
   },
   {
    "duration": 36,
    "start_time": "2025-05-04T18:17:35.855Z"
   },
   {
    "duration": 533,
    "start_time": "2025-05-04T18:17:35.893Z"
   },
   {
    "duration": 521,
    "start_time": "2025-05-04T18:17:36.428Z"
   },
   {
    "duration": 233,
    "start_time": "2025-05-04T18:17:36.951Z"
   },
   {
    "duration": 243,
    "start_time": "2025-05-04T18:17:37.186Z"
   },
   {
    "duration": 154,
    "start_time": "2025-05-04T18:17:37.431Z"
   },
   {
    "duration": 137,
    "start_time": "2025-05-04T18:17:37.587Z"
   },
   {
    "duration": 78,
    "start_time": "2025-05-04T18:17:37.726Z"
   },
   {
    "duration": 1116,
    "start_time": "2025-05-04T18:17:46.813Z"
   },
   {
    "duration": 1258,
    "start_time": "2025-05-04T18:18:24.072Z"
   },
   {
    "duration": 1209,
    "start_time": "2025-05-04T18:18:30.207Z"
   },
   {
    "duration": 3,
    "start_time": "2025-05-04T18:18:56.742Z"
   },
   {
    "duration": 50,
    "start_time": "2025-05-04T18:22:56.997Z"
   },
   {
    "duration": 389,
    "start_time": "2025-05-04T18:23:04.006Z"
   },
   {
    "duration": 131,
    "start_time": "2025-05-04T18:23:04.397Z"
   },
   {
    "duration": 51,
    "start_time": "2025-05-04T18:23:04.529Z"
   },
   {
    "duration": 15,
    "start_time": "2025-05-04T18:23:04.581Z"
   },
   {
    "duration": 31,
    "start_time": "2025-05-04T18:23:04.598Z"
   },
   {
    "duration": 69,
    "start_time": "2025-05-04T18:23:04.630Z"
   },
   {
    "duration": 178,
    "start_time": "2025-05-04T18:23:04.701Z"
   },
   {
    "duration": 17,
    "start_time": "2025-05-04T18:23:04.881Z"
   },
   {
    "duration": 37,
    "start_time": "2025-05-04T18:23:04.900Z"
   },
   {
    "duration": 23,
    "start_time": "2025-05-04T18:23:04.938Z"
   },
   {
    "duration": 29,
    "start_time": "2025-05-04T18:23:04.963Z"
   },
   {
    "duration": 9,
    "start_time": "2025-05-04T18:23:04.993Z"
   },
   {
    "duration": 265,
    "start_time": "2025-05-04T18:23:05.003Z"
   },
   {
    "duration": 177,
    "start_time": "2025-05-04T18:23:05.271Z"
   },
   {
    "duration": 200,
    "start_time": "2025-05-04T18:23:05.450Z"
   },
   {
    "duration": 5,
    "start_time": "2025-05-04T18:23:05.651Z"
   },
   {
    "duration": 178,
    "start_time": "2025-05-04T18:23:05.657Z"
   },
   {
    "duration": 21,
    "start_time": "2025-05-04T18:23:05.837Z"
   },
   {
    "duration": 468,
    "start_time": "2025-05-04T18:23:05.859Z"
   },
   {
    "duration": 513,
    "start_time": "2025-05-04T18:23:06.329Z"
   },
   {
    "duration": 240,
    "start_time": "2025-05-04T18:23:06.843Z"
   },
   {
    "duration": 232,
    "start_time": "2025-05-04T18:23:07.085Z"
   },
   {
    "duration": 159,
    "start_time": "2025-05-04T18:23:07.318Z"
   },
   {
    "duration": 153,
    "start_time": "2025-05-04T18:23:07.478Z"
   },
   {
    "duration": 87,
    "start_time": "2025-05-04T18:26:27.946Z"
   },
   {
    "duration": 2361,
    "start_time": "2025-05-04T18:26:43.610Z"
   },
   {
    "duration": 427,
    "start_time": "2025-05-04T18:26:53.562Z"
   },
   {
    "duration": 149,
    "start_time": "2025-05-04T18:26:53.991Z"
   },
   {
    "duration": 45,
    "start_time": "2025-05-04T18:26:54.141Z"
   },
   {
    "duration": 13,
    "start_time": "2025-05-04T18:26:54.189Z"
   },
   {
    "duration": 12,
    "start_time": "2025-05-04T18:26:54.204Z"
   },
   {
    "duration": 19,
    "start_time": "2025-05-04T18:26:54.218Z"
   },
   {
    "duration": 45,
    "start_time": "2025-05-04T18:26:54.239Z"
   },
   {
    "duration": 16,
    "start_time": "2025-05-04T18:26:54.286Z"
   },
   {
    "duration": 16,
    "start_time": "2025-05-04T18:26:54.304Z"
   },
   {
    "duration": 7,
    "start_time": "2025-05-04T18:26:54.322Z"
   },
   {
    "duration": 17,
    "start_time": "2025-05-04T18:26:54.331Z"
   },
   {
    "duration": 64,
    "start_time": "2025-05-04T18:26:54.377Z"
   },
   {
    "duration": 243,
    "start_time": "2025-05-04T18:26:54.443Z"
   },
   {
    "duration": 165,
    "start_time": "2025-05-04T18:26:54.687Z"
   },
   {
    "duration": 201,
    "start_time": "2025-05-04T18:26:54.854Z"
   },
   {
    "duration": 6,
    "start_time": "2025-05-04T18:26:55.057Z"
   },
   {
    "duration": 185,
    "start_time": "2025-05-04T18:26:55.065Z"
   },
   {
    "duration": 27,
    "start_time": "2025-05-04T18:26:55.252Z"
   },
   {
    "duration": 454,
    "start_time": "2025-05-04T18:26:55.281Z"
   },
   {
    "duration": 511,
    "start_time": "2025-05-04T18:26:55.737Z"
   },
   {
    "duration": 239,
    "start_time": "2025-05-04T18:26:56.249Z"
   },
   {
    "duration": 255,
    "start_time": "2025-05-04T18:26:56.489Z"
   },
   {
    "duration": 159,
    "start_time": "2025-05-04T18:26:56.746Z"
   },
   {
    "duration": 2466,
    "start_time": "2025-05-04T18:26:56.906Z"
   },
   {
    "duration": 118,
    "start_time": "2025-05-04T18:26:59.374Z"
   },
   {
    "duration": 82,
    "start_time": "2025-05-04T18:28:11.612Z"
   },
   {
    "duration": 78,
    "start_time": "2025-05-04T18:28:39.196Z"
   },
   {
    "duration": 1316,
    "start_time": "2025-05-04T18:28:46.290Z"
   },
   {
    "duration": 4076,
    "start_time": "2025-05-04T18:28:55.516Z"
   },
   {
    "duration": 2796,
    "start_time": "2025-05-04T18:29:04.996Z"
   },
   {
    "duration": 49,
    "start_time": "2025-05-04T18:30:36.312Z"
   },
   {
    "duration": 414,
    "start_time": "2025-05-04T18:31:00.419Z"
   },
   {
    "duration": 119,
    "start_time": "2025-05-04T18:31:00.835Z"
   },
   {
    "duration": 46,
    "start_time": "2025-05-04T18:31:00.956Z"
   },
   {
    "duration": 15,
    "start_time": "2025-05-04T18:31:01.004Z"
   },
   {
    "duration": 37,
    "start_time": "2025-05-04T18:31:01.021Z"
   },
   {
    "duration": 26,
    "start_time": "2025-05-04T18:31:01.060Z"
   },
   {
    "duration": 42,
    "start_time": "2025-05-04T18:31:01.087Z"
   },
   {
    "duration": 83,
    "start_time": "2025-05-04T18:31:01.131Z"
   },
   {
    "duration": 115,
    "start_time": "2025-05-04T18:31:01.216Z"
   },
   {
    "duration": 43,
    "start_time": "2025-05-04T18:31:01.333Z"
   },
   {
    "duration": 19,
    "start_time": "2025-05-04T18:31:01.378Z"
   },
   {
    "duration": 24,
    "start_time": "2025-05-04T18:31:01.399Z"
   },
   {
    "duration": 307,
    "start_time": "2025-05-04T18:31:01.425Z"
   },
   {
    "duration": 184,
    "start_time": "2025-05-04T18:31:01.735Z"
   },
   {
    "duration": 239,
    "start_time": "2025-05-04T18:31:01.922Z"
   },
   {
    "duration": 16,
    "start_time": "2025-05-04T18:31:02.163Z"
   },
   {
    "duration": 176,
    "start_time": "2025-05-04T18:31:02.181Z"
   },
   {
    "duration": 33,
    "start_time": "2025-05-04T18:31:02.359Z"
   },
   {
    "duration": 551,
    "start_time": "2025-05-04T18:31:02.394Z"
   },
   {
    "duration": 544,
    "start_time": "2025-05-04T18:31:02.947Z"
   },
   {
    "duration": 241,
    "start_time": "2025-05-04T18:31:03.492Z"
   },
   {
    "duration": 231,
    "start_time": "2025-05-04T18:31:03.735Z"
   },
   {
    "duration": 157,
    "start_time": "2025-05-04T18:31:03.968Z"
   },
   {
    "duration": 2826,
    "start_time": "2025-05-04T18:31:04.127Z"
   },
   {
    "duration": 33853,
    "start_time": "2025-05-04T18:31:06.955Z"
   },
   {
    "duration": 60,
    "start_time": "2025-05-04T18:33:28.496Z"
   },
   {
    "duration": 58,
    "start_time": "2025-05-04T18:34:40.464Z"
   },
   {
    "duration": 48,
    "start_time": "2025-05-04T18:35:45.921Z"
   },
   {
    "duration": 443,
    "start_time": "2025-05-04T18:39:40.563Z"
   },
   {
    "duration": 17,
    "start_time": "2025-05-04T18:40:28.488Z"
   },
   {
    "duration": 15,
    "start_time": "2025-05-04T18:41:50.842Z"
   },
   {
    "duration": 446,
    "start_time": "2025-05-04T18:43:02.003Z"
   },
   {
    "duration": 13,
    "start_time": "2025-05-04T18:47:41.674Z"
   },
   {
    "duration": 13,
    "start_time": "2025-05-04T18:47:55.548Z"
   },
   {
    "duration": 18,
    "start_time": "2025-05-04T18:48:47.504Z"
   },
   {
    "duration": 411,
    "start_time": "2025-05-04T18:49:00.991Z"
   },
   {
    "duration": 123,
    "start_time": "2025-05-04T18:49:01.404Z"
   },
   {
    "duration": 83,
    "start_time": "2025-05-04T18:49:01.529Z"
   },
   {
    "duration": 14,
    "start_time": "2025-05-04T18:49:01.614Z"
   },
   {
    "duration": 38,
    "start_time": "2025-05-04T18:49:01.630Z"
   },
   {
    "duration": 20,
    "start_time": "2025-05-04T18:49:01.670Z"
   },
   {
    "duration": 21,
    "start_time": "2025-05-04T18:49:01.691Z"
   },
   {
    "duration": 14,
    "start_time": "2025-05-04T18:49:01.713Z"
   },
   {
    "duration": 45,
    "start_time": "2025-05-04T18:49:01.728Z"
   },
   {
    "duration": 10,
    "start_time": "2025-05-04T18:49:01.776Z"
   },
   {
    "duration": 39,
    "start_time": "2025-05-04T18:49:01.788Z"
   },
   {
    "duration": 93,
    "start_time": "2025-05-04T18:49:01.829Z"
   },
   {
    "duration": 287,
    "start_time": "2025-05-04T18:49:01.924Z"
   },
   {
    "duration": 169,
    "start_time": "2025-05-04T18:49:02.212Z"
   },
   {
    "duration": 211,
    "start_time": "2025-05-04T18:49:02.383Z"
   },
   {
    "duration": 6,
    "start_time": "2025-05-04T18:49:02.596Z"
   },
   {
    "duration": 180,
    "start_time": "2025-05-04T18:49:02.603Z"
   },
   {
    "duration": 23,
    "start_time": "2025-05-04T18:49:02.785Z"
   },
   {
    "duration": 619,
    "start_time": "2025-05-04T18:49:02.810Z"
   },
   {
    "duration": 541,
    "start_time": "2025-05-04T18:49:03.431Z"
   },
   {
    "duration": 238,
    "start_time": "2025-05-04T18:49:03.975Z"
   },
   {
    "duration": 231,
    "start_time": "2025-05-04T18:49:04.215Z"
   },
   {
    "duration": 156,
    "start_time": "2025-05-04T18:49:04.448Z"
   },
   {
    "duration": 2805,
    "start_time": "2025-05-04T18:49:04.606Z"
   },
   {
    "duration": 9993,
    "start_time": "2025-05-04T18:49:07.413Z"
   },
   {
    "duration": 821,
    "start_time": "2025-05-04T18:52:52.558Z"
   },
   {
    "duration": 75,
    "start_time": "2025-05-04T18:53:01.575Z"
   },
   {
    "duration": 290,
    "start_time": "2025-05-04T18:53:09.569Z"
   },
   {
    "duration": 119,
    "start_time": "2025-05-04T19:04:02.740Z"
   },
   {
    "duration": 23,
    "start_time": "2025-05-04T19:04:19.012Z"
   },
   {
    "duration": 23,
    "start_time": "2025-05-04T19:04:33.229Z"
   },
   {
    "duration": 23,
    "start_time": "2025-05-04T19:05:58.957Z"
   },
   {
    "duration": 27,
    "start_time": "2025-05-04T19:06:37.166Z"
   },
   {
    "duration": 24,
    "start_time": "2025-05-04T19:06:47.958Z"
   },
   {
    "duration": 23,
    "start_time": "2025-05-04T19:07:14.574Z"
   },
   {
    "duration": 23,
    "start_time": "2025-05-04T19:08:03.270Z"
   },
   {
    "duration": 25,
    "start_time": "2025-05-04T19:08:11.150Z"
   },
   {
    "duration": 105,
    "start_time": "2025-05-04T19:09:08.894Z"
   },
   {
    "duration": 22,
    "start_time": "2025-05-04T19:09:18.440Z"
   },
   {
    "duration": 24,
    "start_time": "2025-05-04T19:10:45.088Z"
   },
   {
    "duration": 424,
    "start_time": "2025-05-04T19:10:51.686Z"
   },
   {
    "duration": 107,
    "start_time": "2025-05-04T19:10:52.112Z"
   },
   {
    "duration": 50,
    "start_time": "2025-05-04T19:10:52.221Z"
   },
   {
    "duration": 22,
    "start_time": "2025-05-04T19:10:52.272Z"
   },
   {
    "duration": 10,
    "start_time": "2025-05-04T19:10:52.297Z"
   },
   {
    "duration": 49,
    "start_time": "2025-05-04T19:10:52.309Z"
   },
   {
    "duration": 20,
    "start_time": "2025-05-04T19:10:52.359Z"
   },
   {
    "duration": 14,
    "start_time": "2025-05-04T19:10:52.380Z"
   },
   {
    "duration": 25,
    "start_time": "2025-05-04T19:10:52.396Z"
   },
   {
    "duration": 24,
    "start_time": "2025-05-04T19:10:52.423Z"
   },
   {
    "duration": 48,
    "start_time": "2025-05-04T19:10:52.448Z"
   },
   {
    "duration": 4,
    "start_time": "2025-05-04T19:10:52.497Z"
   },
   {
    "duration": 245,
    "start_time": "2025-05-04T19:10:52.503Z"
   },
   {
    "duration": 161,
    "start_time": "2025-05-04T19:10:52.750Z"
   },
   {
    "duration": 198,
    "start_time": "2025-05-04T19:10:52.913Z"
   },
   {
    "duration": 6,
    "start_time": "2025-05-04T19:10:53.113Z"
   },
   {
    "duration": 316,
    "start_time": "2025-05-04T19:10:53.121Z"
   },
   {
    "duration": 20,
    "start_time": "2025-05-04T19:10:53.439Z"
   },
   {
    "duration": 462,
    "start_time": "2025-05-04T19:10:53.461Z"
   },
   {
    "duration": 515,
    "start_time": "2025-05-04T19:10:53.925Z"
   },
   {
    "duration": 239,
    "start_time": "2025-05-04T19:10:54.442Z"
   },
   {
    "duration": 226,
    "start_time": "2025-05-04T19:10:54.683Z"
   },
   {
    "duration": 156,
    "start_time": "2025-05-04T19:10:54.911Z"
   },
   {
    "duration": 2756,
    "start_time": "2025-05-04T19:10:55.069Z"
   },
   {
    "duration": 9672,
    "start_time": "2025-05-04T19:10:57.827Z"
   },
   {
    "duration": 354,
    "start_time": "2025-05-04T19:11:07.501Z"
   },
   {
    "duration": 38,
    "start_time": "2025-05-04T19:11:07.856Z"
   },
   {
    "duration": 113,
    "start_time": "2025-05-04T19:13:34.414Z"
   },
   {
    "duration": 25,
    "start_time": "2025-05-04T19:13:47.046Z"
   },
   {
    "duration": 484,
    "start_time": "2025-05-04T19:14:45.471Z"
   },
   {
    "duration": 482,
    "start_time": "2025-05-04T19:15:35.847Z"
   },
   {
    "duration": 128,
    "start_time": "2025-05-04T19:16:40.998Z"
   },
   {
    "duration": 456,
    "start_time": "2025-05-04T19:16:44.429Z"
   },
   {
    "duration": 368,
    "start_time": "2025-05-04T19:16:56.290Z"
   },
   {
    "duration": 118,
    "start_time": "2025-05-04T19:17:02.460Z"
   },
   {
    "duration": 17,
    "start_time": "2025-05-04T19:23:37.344Z"
   },
   {
    "duration": 18,
    "start_time": "2025-05-04T19:23:52.347Z"
   },
   {
    "duration": 17,
    "start_time": "2025-05-04T19:24:03.195Z"
   },
   {
    "duration": 19,
    "start_time": "2025-05-04T19:24:13.515Z"
   },
   {
    "duration": 18,
    "start_time": "2025-05-04T19:24:28.911Z"
   },
   {
    "duration": 419,
    "start_time": "2025-05-04T19:24:33.975Z"
   },
   {
    "duration": 177,
    "start_time": "2025-05-04T19:24:34.396Z"
   },
   {
    "duration": 43,
    "start_time": "2025-05-04T19:24:34.574Z"
   },
   {
    "duration": 17,
    "start_time": "2025-05-04T19:24:34.618Z"
   },
   {
    "duration": 11,
    "start_time": "2025-05-04T19:24:34.637Z"
   },
   {
    "duration": 26,
    "start_time": "2025-05-04T19:24:34.649Z"
   },
   {
    "duration": 17,
    "start_time": "2025-05-04T19:24:34.677Z"
   },
   {
    "duration": 14,
    "start_time": "2025-05-04T19:24:34.695Z"
   },
   {
    "duration": 23,
    "start_time": "2025-05-04T19:24:34.710Z"
   },
   {
    "duration": 19,
    "start_time": "2025-05-04T19:24:34.734Z"
   },
   {
    "duration": 30,
    "start_time": "2025-05-04T19:24:34.755Z"
   },
   {
    "duration": 4,
    "start_time": "2025-05-04T19:24:34.787Z"
   },
   {
    "duration": 244,
    "start_time": "2025-05-04T19:24:34.792Z"
   },
   {
    "duration": 172,
    "start_time": "2025-05-04T19:24:35.039Z"
   },
   {
    "duration": 204,
    "start_time": "2025-05-04T19:24:35.213Z"
   },
   {
    "duration": 6,
    "start_time": "2025-05-04T19:24:35.418Z"
   },
   {
    "duration": 194,
    "start_time": "2025-05-04T19:24:35.425Z"
   },
   {
    "duration": 19,
    "start_time": "2025-05-04T19:24:35.621Z"
   },
   {
    "duration": 468,
    "start_time": "2025-05-04T19:24:35.642Z"
   },
   {
    "duration": 550,
    "start_time": "2025-05-04T19:24:36.112Z"
   },
   {
    "duration": 243,
    "start_time": "2025-05-04T19:24:36.664Z"
   },
   {
    "duration": 235,
    "start_time": "2025-05-04T19:24:36.908Z"
   },
   {
    "duration": 158,
    "start_time": "2025-05-04T19:24:37.145Z"
   },
   {
    "duration": 2689,
    "start_time": "2025-05-04T19:24:37.305Z"
   },
   {
    "duration": 9597,
    "start_time": "2025-05-04T19:24:39.995Z"
   },
   {
    "duration": 369,
    "start_time": "2025-05-04T19:24:49.594Z"
   },
   {
    "duration": 26,
    "start_time": "2025-05-04T19:24:49.965Z"
   },
   {
    "duration": 142,
    "start_time": "2025-05-04T19:24:49.992Z"
   },
   {
    "duration": 0,
    "start_time": "2025-05-04T19:24:50.136Z"
   },
   {
    "duration": 17,
    "start_time": "2025-05-04T19:25:39.726Z"
   },
   {
    "duration": 18,
    "start_time": "2025-05-04T19:25:44.524Z"
   },
   {
    "duration": 22,
    "start_time": "2025-05-04T19:26:39.613Z"
   },
   {
    "duration": 348,
    "start_time": "2025-05-04T19:26:47.428Z"
   },
   {
    "duration": 121,
    "start_time": "2025-05-04T19:26:53.316Z"
   },
   {
    "duration": 351,
    "start_time": "2025-05-05T03:55:18.220Z"
   },
   {
    "duration": 183,
    "start_time": "2025-05-05T03:55:18.573Z"
   },
   {
    "duration": 101,
    "start_time": "2025-05-05T03:55:18.758Z"
   },
   {
    "duration": 12,
    "start_time": "2025-05-05T03:55:18.861Z"
   },
   {
    "duration": 11,
    "start_time": "2025-05-05T03:55:19.008Z"
   },
   {
    "duration": 19,
    "start_time": "2025-05-05T03:55:19.514Z"
   },
   {
    "duration": 16,
    "start_time": "2025-05-05T03:55:20.260Z"
   },
   {
    "duration": 14,
    "start_time": "2025-05-05T03:55:21.597Z"
   },
   {
    "duration": 15,
    "start_time": "2025-05-05T03:55:21.996Z"
   },
   {
    "duration": 6,
    "start_time": "2025-05-05T03:55:22.451Z"
   },
   {
    "duration": 19,
    "start_time": "2025-05-05T03:55:22.871Z"
   },
   {
    "duration": 5,
    "start_time": "2025-05-05T03:55:24.277Z"
   },
   {
    "duration": 408,
    "start_time": "2025-05-05T03:55:30.164Z"
   },
   {
    "duration": 159,
    "start_time": "2025-05-05T03:55:30.607Z"
   },
   {
    "duration": 185,
    "start_time": "2025-05-05T03:55:32.046Z"
   },
   {
    "duration": 5,
    "start_time": "2025-05-05T03:55:32.983Z"
   },
   {
    "duration": 168,
    "start_time": "2025-05-05T03:55:33.419Z"
   },
   {
    "duration": 77,
    "start_time": "2025-05-05T03:55:38.022Z"
   },
   {
    "duration": 468,
    "start_time": "2025-05-05T03:55:38.586Z"
   },
   {
    "duration": 492,
    "start_time": "2025-05-05T03:55:47.654Z"
   },
   {
    "duration": 243,
    "start_time": "2025-05-05T03:55:49.800Z"
   },
   {
    "duration": 216,
    "start_time": "2025-05-05T03:55:50.867Z"
   },
   {
    "duration": 202,
    "start_time": "2025-05-05T03:55:52.819Z"
   },
   {
    "duration": 4303,
    "start_time": "2025-05-05T03:55:55.078Z"
   },
   {
    "duration": 9286,
    "start_time": "2025-05-05T03:55:59.383Z"
   },
   {
    "duration": 253,
    "start_time": "2025-05-05T03:56:08.937Z"
   },
   {
    "duration": 330,
    "start_time": "2025-05-05T03:56:39.021Z"
   },
   {
    "duration": 110,
    "start_time": "2025-05-05T03:56:46.924Z"
   },
   {
    "duration": 375,
    "start_time": "2025-05-05T03:56:54.389Z"
   },
   {
    "duration": 360,
    "start_time": "2025-05-05T03:56:58.188Z"
   },
   {
    "duration": 122,
    "start_time": "2025-05-05T03:56:59.917Z"
   },
   {
    "duration": 388,
    "start_time": "2025-05-05T04:00:15.177Z"
   },
   {
    "duration": 146,
    "start_time": "2025-05-05T04:00:15.567Z"
   },
   {
    "duration": 69,
    "start_time": "2025-05-05T04:00:15.715Z"
   },
   {
    "duration": 13,
    "start_time": "2025-05-05T04:00:15.786Z"
   },
   {
    "duration": 20,
    "start_time": "2025-05-05T04:00:15.800Z"
   },
   {
    "duration": 22,
    "start_time": "2025-05-05T04:00:15.821Z"
   },
   {
    "duration": 20,
    "start_time": "2025-05-05T04:00:15.845Z"
   },
   {
    "duration": 13,
    "start_time": "2025-05-05T04:00:15.866Z"
   },
   {
    "duration": 48,
    "start_time": "2025-05-05T04:00:15.881Z"
   },
   {
    "duration": 7,
    "start_time": "2025-05-05T04:00:15.932Z"
   },
   {
    "duration": 17,
    "start_time": "2025-05-05T04:00:15.940Z"
   },
   {
    "duration": 5,
    "start_time": "2025-05-05T04:00:15.958Z"
   },
   {
    "duration": 244,
    "start_time": "2025-05-05T04:00:15.964Z"
   },
   {
    "duration": 161,
    "start_time": "2025-05-05T04:00:16.209Z"
   },
   {
    "duration": 195,
    "start_time": "2025-05-05T04:00:16.372Z"
   },
   {
    "duration": 4,
    "start_time": "2025-05-05T04:00:16.569Z"
   },
   {
    "duration": 179,
    "start_time": "2025-05-05T04:00:16.574Z"
   },
   {
    "duration": 21,
    "start_time": "2025-05-05T04:00:16.754Z"
   },
   {
    "duration": 454,
    "start_time": "2025-05-05T04:00:16.776Z"
   },
   {
    "duration": 481,
    "start_time": "2025-05-05T04:00:17.231Z"
   },
   {
    "duration": 251,
    "start_time": "2025-05-05T04:00:17.714Z"
   },
   {
    "duration": 223,
    "start_time": "2025-05-05T04:00:17.967Z"
   },
   {
    "duration": 148,
    "start_time": "2025-05-05T04:00:18.191Z"
   },
   {
    "duration": 2600,
    "start_time": "2025-05-05T04:00:18.340Z"
   },
   {
    "duration": 9529,
    "start_time": "2025-05-05T04:00:20.942Z"
   },
   {
    "duration": 377,
    "start_time": "2025-05-05T04:00:30.473Z"
   },
   {
    "duration": 27,
    "start_time": "2025-05-05T04:00:30.852Z"
   },
   {
    "duration": 371,
    "start_time": "2025-05-05T04:00:30.882Z"
   },
   {
    "duration": 125,
    "start_time": "2025-05-05T04:00:31.262Z"
   },
   {
    "duration": 0,
    "start_time": "2025-05-05T04:02:31.351Z"
   },
   {
    "duration": 142,
    "start_time": "2025-05-05T04:02:53.524Z"
   },
   {
    "duration": 10,
    "start_time": "2025-05-05T04:12:12.779Z"
   },
   {
    "duration": 23,
    "start_time": "2025-05-05T04:12:24.003Z"
   },
   {
    "duration": 390,
    "start_time": "2025-05-05T04:12:42.472Z"
   },
   {
    "duration": 157,
    "start_time": "2025-05-05T04:12:42.864Z"
   },
   {
    "duration": 70,
    "start_time": "2025-05-05T04:12:43.023Z"
   },
   {
    "duration": 13,
    "start_time": "2025-05-05T04:12:43.096Z"
   },
   {
    "duration": 10,
    "start_time": "2025-05-05T04:12:43.110Z"
   },
   {
    "duration": 19,
    "start_time": "2025-05-05T04:12:43.121Z"
   },
   {
    "duration": 31,
    "start_time": "2025-05-05T04:12:43.142Z"
   },
   {
    "duration": 13,
    "start_time": "2025-05-05T04:12:43.175Z"
   },
   {
    "duration": 16,
    "start_time": "2025-05-05T04:12:43.190Z"
   },
   {
    "duration": 7,
    "start_time": "2025-05-05T04:12:43.210Z"
   },
   {
    "duration": 45,
    "start_time": "2025-05-05T04:12:43.218Z"
   },
   {
    "duration": 5,
    "start_time": "2025-05-05T04:12:43.265Z"
   },
   {
    "duration": 232,
    "start_time": "2025-05-05T04:12:43.272Z"
   },
   {
    "duration": 164,
    "start_time": "2025-05-05T04:12:43.506Z"
   },
   {
    "duration": 201,
    "start_time": "2025-05-05T04:12:43.672Z"
   },
   {
    "duration": 6,
    "start_time": "2025-05-05T04:12:43.875Z"
   },
   {
    "duration": 177,
    "start_time": "2025-05-05T04:12:43.883Z"
   },
   {
    "duration": 21,
    "start_time": "2025-05-05T04:12:44.063Z"
   },
   {
    "duration": 449,
    "start_time": "2025-05-05T04:12:44.086Z"
   },
   {
    "duration": 477,
    "start_time": "2025-05-05T04:12:44.537Z"
   },
   {
    "duration": 240,
    "start_time": "2025-05-05T04:12:45.016Z"
   },
   {
    "duration": 232,
    "start_time": "2025-05-05T04:12:45.261Z"
   },
   {
    "duration": 160,
    "start_time": "2025-05-05T04:12:45.494Z"
   },
   {
    "duration": 2754,
    "start_time": "2025-05-05T04:12:45.656Z"
   },
   {
    "duration": 9583,
    "start_time": "2025-05-05T04:12:48.412Z"
   },
   {
    "duration": 405,
    "start_time": "2025-05-05T04:12:57.997Z"
   },
   {
    "duration": 23,
    "start_time": "2025-05-05T04:12:58.403Z"
   },
   {
    "duration": 364,
    "start_time": "2025-05-05T04:12:58.429Z"
   },
   {
    "duration": 135,
    "start_time": "2025-05-05T04:12:58.795Z"
   },
   {
    "duration": 31,
    "start_time": "2025-05-05T04:12:58.932Z"
   },
   {
    "duration": 133,
    "start_time": "2025-05-05T04:17:51.252Z"
   },
   {
    "duration": 1585,
    "start_time": "2025-05-05T04:20:06.903Z"
   },
   {
    "duration": 2886,
    "start_time": "2025-05-05T04:20:12.874Z"
   },
   {
    "duration": 15,
    "start_time": "2025-05-05T04:21:01.957Z"
   },
   {
    "duration": 3,
    "start_time": "2025-05-05T04:21:07.297Z"
   },
   {
    "duration": 377,
    "start_time": "2025-05-05T04:21:47.835Z"
   },
   {
    "duration": 563,
    "start_time": "2025-05-05T04:22:18.658Z"
   },
   {
    "duration": 11,
    "start_time": "2025-05-05T04:23:03.676Z"
   },
   {
    "duration": 281,
    "start_time": "2025-05-05T04:23:12.819Z"
   },
   {
    "duration": 451,
    "start_time": "2025-05-05T04:23:23.011Z"
   },
   {
    "duration": 2518,
    "start_time": "2025-05-05T04:27:48.329Z"
   },
   {
    "duration": 2,
    "start_time": "2025-05-05T04:27:50.850Z"
   },
   {
    "duration": 541,
    "start_time": "2025-05-05T04:27:56.426Z"
   },
   {
    "duration": 16,
    "start_time": "2025-05-05T04:27:58.744Z"
   },
   {
    "duration": 11,
    "start_time": "2025-05-05T04:28:01.456Z"
   },
   {
    "duration": 5,
    "start_time": "2025-05-05T04:28:02.810Z"
   },
   {
    "duration": 11,
    "start_time": "2025-05-05T04:28:18.033Z"
   },
   {
    "duration": 10,
    "start_time": "2025-05-05T04:28:52.026Z"
   },
   {
    "duration": 15,
    "start_time": "2025-05-05T04:29:02.370Z"
   },
   {
    "duration": 19,
    "start_time": "2025-05-05T04:29:03.459Z"
   },
   {
    "duration": 5,
    "start_time": "2025-05-05T04:29:04.802Z"
   },
   {
    "duration": 17,
    "start_time": "2025-05-05T04:29:08.962Z"
   },
   {
    "duration": 13,
    "start_time": "2025-05-05T04:29:09.880Z"
   },
   {
    "duration": 6,
    "start_time": "2025-05-05T04:29:18.953Z"
   },
   {
    "duration": 21,
    "start_time": "2025-05-05T04:29:23.466Z"
   },
   {
    "duration": 9,
    "start_time": "2025-05-05T04:29:34.779Z"
   },
   {
    "duration": 429,
    "start_time": "2025-05-05T04:29:54.664Z"
   },
   {
    "duration": 137,
    "start_time": "2025-05-05T04:29:55.095Z"
   },
   {
    "duration": 75,
    "start_time": "2025-05-05T04:29:55.233Z"
   },
   {
    "duration": 13,
    "start_time": "2025-05-05T04:29:55.309Z"
   },
   {
    "duration": 54,
    "start_time": "2025-05-05T04:29:55.323Z"
   },
   {
    "duration": 44,
    "start_time": "2025-05-05T04:29:55.378Z"
   },
   {
    "duration": 62,
    "start_time": "2025-05-05T04:29:55.424Z"
   },
   {
    "duration": 2391,
    "start_time": "2025-05-05T04:29:55.488Z"
   },
   {
    "duration": 827,
    "start_time": "2025-05-05T04:29:57.881Z"
   },
   {
    "duration": 565,
    "start_time": "2025-05-05T04:29:58.711Z"
   },
   {
    "duration": 13,
    "start_time": "2025-05-05T04:29:59.278Z"
   },
   {
    "duration": 26,
    "start_time": "2025-05-05T04:29:59.292Z"
   },
   {
    "duration": 13,
    "start_time": "2025-05-05T04:29:59.320Z"
   },
   {
    "duration": 23,
    "start_time": "2025-05-05T04:29:59.334Z"
   },
   {
    "duration": 14,
    "start_time": "2025-05-05T04:29:59.358Z"
   },
   {
    "duration": 18,
    "start_time": "2025-05-05T04:29:59.374Z"
   },
   {
    "duration": 157,
    "start_time": "2025-05-05T04:29:59.394Z"
   },
   {
    "duration": 207,
    "start_time": "2025-05-05T04:29:59.553Z"
   },
   {
    "duration": 11,
    "start_time": "2025-05-05T04:29:59.762Z"
   },
   {
    "duration": 220,
    "start_time": "2025-05-05T04:29:59.776Z"
   },
   {
    "duration": 19,
    "start_time": "2025-05-05T04:29:59.997Z"
   },
   {
    "duration": 513,
    "start_time": "2025-05-05T04:30:00.018Z"
   },
   {
    "duration": 3,
    "start_time": "2025-05-05T04:30:00.533Z"
   },
   {
    "duration": 256,
    "start_time": "2025-05-05T04:30:00.537Z"
   },
   {
    "duration": 233,
    "start_time": "2025-05-05T04:30:00.795Z"
   },
   {
    "duration": 242,
    "start_time": "2025-05-05T04:30:01.030Z"
   },
   {
    "duration": 2711,
    "start_time": "2025-05-05T04:30:01.274Z"
   },
   {
    "duration": 10275,
    "start_time": "2025-05-05T04:30:03.989Z"
   },
   {
    "duration": 346,
    "start_time": "2025-05-05T04:30:14.266Z"
   },
   {
    "duration": 35,
    "start_time": "2025-05-05T04:30:14.614Z"
   },
   {
    "duration": 415,
    "start_time": "2025-05-05T04:30:14.662Z"
   },
   {
    "duration": 133,
    "start_time": "2025-05-05T04:30:15.079Z"
   },
   {
    "duration": 24,
    "start_time": "2025-05-05T04:30:15.214Z"
   },
   {
    "duration": 24,
    "start_time": "2025-05-05T04:31:39.343Z"
   },
   {
    "duration": 477,
    "start_time": "2025-05-05T04:34:59.816Z"
   },
   {
    "duration": 279,
    "start_time": "2025-05-05T04:35:36.612Z"
   },
   {
    "duration": 283,
    "start_time": "2025-05-05T04:40:32.962Z"
   },
   {
    "duration": 277,
    "start_time": "2025-05-05T04:42:17.001Z"
   },
   {
    "duration": 268,
    "start_time": "2025-05-05T04:42:31.090Z"
   },
   {
    "duration": 10,
    "start_time": "2025-05-05T04:43:02.922Z"
   },
   {
    "duration": 2,
    "start_time": "2025-05-05T04:43:04.293Z"
   },
   {
    "duration": 152,
    "start_time": "2025-05-05T04:43:04.958Z"
   },
   {
    "duration": 166,
    "start_time": "2025-05-05T04:43:06.454Z"
   },
   {
    "duration": 5,
    "start_time": "2025-05-05T04:43:07.253Z"
   },
   {
    "duration": 129,
    "start_time": "2025-05-05T04:43:07.701Z"
   },
   {
    "duration": 4,
    "start_time": "2025-05-05T04:43:29.301Z"
   },
   {
    "duration": 160,
    "start_time": "2025-05-05T04:43:29.846Z"
   },
   {
    "duration": 172,
    "start_time": "2025-05-05T04:43:31.282Z"
   },
   {
    "duration": 4,
    "start_time": "2025-05-05T04:43:32.077Z"
   },
   {
    "duration": 123,
    "start_time": "2025-05-05T04:43:32.499Z"
   },
   {
    "duration": 409,
    "start_time": "2025-05-05T04:43:41.774Z"
   },
   {
    "duration": 151,
    "start_time": "2025-05-05T04:43:42.185Z"
   },
   {
    "duration": 70,
    "start_time": "2025-05-05T04:43:42.338Z"
   },
   {
    "duration": 12,
    "start_time": "2025-05-05T04:43:42.410Z"
   },
   {
    "duration": 10,
    "start_time": "2025-05-05T04:43:42.423Z"
   },
   {
    "duration": 22,
    "start_time": "2025-05-05T04:43:42.434Z"
   },
   {
    "duration": 27,
    "start_time": "2025-05-05T04:43:42.458Z"
   },
   {
    "duration": 2419,
    "start_time": "2025-05-05T04:43:42.486Z"
   },
   {
    "duration": 778,
    "start_time": "2025-05-05T04:43:44.908Z"
   },
   {
    "duration": 530,
    "start_time": "2025-05-05T04:43:45.689Z"
   },
   {
    "duration": 14,
    "start_time": "2025-05-05T04:43:46.221Z"
   },
   {
    "duration": 28,
    "start_time": "2025-05-05T04:43:46.237Z"
   },
   {
    "duration": 13,
    "start_time": "2025-05-05T04:43:46.267Z"
   },
   {
    "duration": 21,
    "start_time": "2025-05-05T04:43:46.282Z"
   },
   {
    "duration": 7,
    "start_time": "2025-05-05T04:43:46.305Z"
   },
   {
    "duration": 17,
    "start_time": "2025-05-05T04:43:46.314Z"
   },
   {
    "duration": 157,
    "start_time": "2025-05-05T04:43:46.333Z"
   },
   {
    "duration": 208,
    "start_time": "2025-05-05T04:43:46.492Z"
   },
   {
    "duration": 4,
    "start_time": "2025-05-05T04:43:46.702Z"
   },
   {
    "duration": 185,
    "start_time": "2025-05-05T04:43:46.708Z"
   },
   {
    "duration": 18,
    "start_time": "2025-05-05T04:43:46.895Z"
   },
   {
    "duration": 435,
    "start_time": "2025-05-05T04:43:46.915Z"
   },
   {
    "duration": 2,
    "start_time": "2025-05-05T04:43:47.352Z"
   },
   {
    "duration": 235,
    "start_time": "2025-05-05T04:43:47.362Z"
   },
   {
    "duration": 235,
    "start_time": "2025-05-05T04:43:47.598Z"
   },
   {
    "duration": 267,
    "start_time": "2025-05-05T04:43:47.835Z"
   },
   {
    "duration": 2697,
    "start_time": "2025-05-05T04:43:48.103Z"
   },
   {
    "duration": 10594,
    "start_time": "2025-05-05T04:43:50.803Z"
   },
   {
    "duration": 343,
    "start_time": "2025-05-05T04:44:01.463Z"
   },
   {
    "duration": 23,
    "start_time": "2025-05-05T04:44:01.808Z"
   },
   {
    "duration": 435,
    "start_time": "2025-05-05T04:44:01.833Z"
   },
   {
    "duration": 127,
    "start_time": "2025-05-05T04:44:02.270Z"
   },
   {
    "duration": 24,
    "start_time": "2025-05-05T04:44:02.399Z"
   },
   {
    "duration": 388,
    "start_time": "2025-05-05T04:44:02.425Z"
   },
   {
    "duration": 32,
    "start_time": "2025-05-05T04:44:17.746Z"
   },
   {
    "duration": 23,
    "start_time": "2025-05-05T04:44:18.514Z"
   },
   {
    "duration": 241,
    "start_time": "2025-05-05T04:44:19.974Z"
   },
   {
    "duration": 14,
    "start_time": "2025-05-05T04:44:34.962Z"
   },
   {
    "duration": 32,
    "start_time": "2025-05-05T04:44:36.443Z"
   },
   {
    "duration": 241,
    "start_time": "2025-05-05T04:44:37.658Z"
   },
   {
    "duration": 214,
    "start_time": "2025-05-05T04:45:05.585Z"
   },
   {
    "duration": 230,
    "start_time": "2025-05-05T04:45:14.082Z"
   },
   {
    "duration": 224,
    "start_time": "2025-05-05T04:45:20.311Z"
   },
   {
    "duration": 232,
    "start_time": "2025-05-05T04:45:26.459Z"
   },
   {
    "duration": 233,
    "start_time": "2025-05-05T04:45:32.075Z"
   },
   {
    "duration": 233,
    "start_time": "2025-05-05T04:45:40.355Z"
   },
   {
    "duration": 235,
    "start_time": "2025-05-05T04:49:11.421Z"
   },
   {
    "duration": 300,
    "start_time": "2025-05-05T04:49:47.783Z"
   },
   {
    "duration": 382,
    "start_time": "2025-05-05T04:50:49.672Z"
   },
   {
    "duration": 139,
    "start_time": "2025-05-05T04:50:55.873Z"
   },
   {
    "duration": 241,
    "start_time": "2025-05-05T04:51:34.963Z"
   },
   {
    "duration": 237,
    "start_time": "2025-05-05T04:52:21.282Z"
   },
   {
    "duration": 144,
    "start_time": "2025-05-05T04:52:59.669Z"
   },
   {
    "duration": 444,
    "start_time": "2025-05-05T04:53:40.883Z"
   },
   {
    "duration": 426,
    "start_time": "2025-05-05T04:54:05.723Z"
   },
   {
    "duration": 163,
    "start_time": "2025-05-05T04:54:19.043Z"
   },
   {
    "duration": 155,
    "start_time": "2025-05-05T04:54:46.379Z"
   },
   {
    "duration": 153,
    "start_time": "2025-05-05T04:54:58.508Z"
   },
   {
    "duration": 111,
    "start_time": "2025-05-05T04:55:19.453Z"
   },
   {
    "duration": 139,
    "start_time": "2025-05-05T04:55:23.036Z"
   },
   {
    "duration": 401,
    "start_time": "2025-05-05T04:56:53.812Z"
   },
   {
    "duration": 332,
    "start_time": "2025-05-05T04:57:52.206Z"
   },
   {
    "duration": 231,
    "start_time": "2025-05-05T04:58:08.874Z"
   },
   {
    "duration": 1592,
    "start_time": "2025-05-05T05:02:31.291Z"
   },
   {
    "duration": 25,
    "start_time": "2025-05-05T05:03:56.996Z"
   },
   {
    "duration": 26,
    "start_time": "2025-05-05T05:04:20.452Z"
   },
   {
    "duration": 22,
    "start_time": "2025-05-05T05:04:45.045Z"
   },
   {
    "duration": 144,
    "start_time": "2025-05-05T05:06:15.309Z"
   },
   {
    "duration": 23,
    "start_time": "2025-05-05T05:07:51.875Z"
   },
   {
    "duration": 22,
    "start_time": "2025-05-05T05:08:15.010Z"
   },
   {
    "duration": 166,
    "start_time": "2025-05-05T05:08:27.250Z"
   },
   {
    "duration": 20,
    "start_time": "2025-05-05T05:09:23.819Z"
   },
   {
    "duration": 19,
    "start_time": "2025-05-05T05:09:28.971Z"
   },
   {
    "duration": 20,
    "start_time": "2025-05-05T05:09:43.972Z"
   },
   {
    "duration": 212,
    "start_time": "2025-05-05T05:09:58.612Z"
   },
   {
    "duration": 217,
    "start_time": "2025-05-05T05:11:01.076Z"
   },
   {
    "duration": 224,
    "start_time": "2025-05-05T05:11:42.038Z"
   },
   {
    "duration": 332,
    "start_time": "2025-05-05T05:12:56.791Z"
   },
   {
    "duration": 1393,
    "start_time": "2025-05-05T05:20:40.241Z"
   },
   {
    "duration": 4,
    "start_time": "2025-05-05T05:20:53.529Z"
   },
   {
    "duration": 115,
    "start_time": "2025-05-05T05:20:55.776Z"
   },
   {
    "duration": 112,
    "start_time": "2025-05-05T05:21:15.682Z"
   },
   {
    "duration": 385,
    "start_time": "2025-05-05T05:21:21.701Z"
   },
   {
    "duration": 170,
    "start_time": "2025-05-05T05:21:22.088Z"
   },
   {
    "duration": 106,
    "start_time": "2025-05-05T05:21:22.260Z"
   },
   {
    "duration": 14,
    "start_time": "2025-05-05T05:21:22.368Z"
   },
   {
    "duration": 65,
    "start_time": "2025-05-05T05:21:22.383Z"
   },
   {
    "duration": 22,
    "start_time": "2025-05-05T05:21:22.450Z"
   },
   {
    "duration": 15,
    "start_time": "2025-05-05T05:21:22.474Z"
   },
   {
    "duration": 2392,
    "start_time": "2025-05-05T05:21:22.491Z"
   },
   {
    "duration": 788,
    "start_time": "2025-05-05T05:21:24.885Z"
   },
   {
    "duration": 530,
    "start_time": "2025-05-05T05:21:25.676Z"
   },
   {
    "duration": 15,
    "start_time": "2025-05-05T05:21:26.207Z"
   },
   {
    "duration": 12,
    "start_time": "2025-05-05T05:21:26.224Z"
   },
   {
    "duration": 27,
    "start_time": "2025-05-05T05:21:26.239Z"
   },
   {
    "duration": 20,
    "start_time": "2025-05-05T05:21:26.267Z"
   },
   {
    "duration": 4,
    "start_time": "2025-05-05T05:21:26.289Z"
   },
   {
    "duration": 2,
    "start_time": "2025-05-05T05:21:26.295Z"
   },
   {
    "duration": 181,
    "start_time": "2025-05-05T05:21:26.298Z"
   },
   {
    "duration": 203,
    "start_time": "2025-05-05T05:21:26.481Z"
   },
   {
    "duration": 5,
    "start_time": "2025-05-05T05:21:26.685Z"
   },
   {
    "duration": 171,
    "start_time": "2025-05-05T05:21:26.691Z"
   },
   {
    "duration": 19,
    "start_time": "2025-05-05T05:21:26.864Z"
   },
   {
    "duration": 441,
    "start_time": "2025-05-05T05:21:26.884Z"
   },
   {
    "duration": 3,
    "start_time": "2025-05-05T05:21:27.326Z"
   },
   {
    "duration": 223,
    "start_time": "2025-05-05T05:21:27.330Z"
   },
   {
    "duration": 210,
    "start_time": "2025-05-05T05:21:27.561Z"
   },
   {
    "duration": 260,
    "start_time": "2025-05-05T05:21:27.772Z"
   },
   {
    "duration": 2603,
    "start_time": "2025-05-05T05:21:28.034Z"
   },
   {
    "duration": 9762,
    "start_time": "2025-05-05T05:21:30.640Z"
   },
   {
    "duration": 343,
    "start_time": "2025-05-05T05:21:40.462Z"
   },
   {
    "duration": 20,
    "start_time": "2025-05-05T05:21:40.807Z"
   },
   {
    "duration": 345,
    "start_time": "2025-05-05T05:21:40.829Z"
   },
   {
    "duration": 124,
    "start_time": "2025-05-05T05:21:41.175Z"
   },
   {
    "duration": 7,
    "start_time": "2025-05-05T05:21:41.301Z"
   },
   {
    "duration": 47,
    "start_time": "2025-05-05T05:21:41.309Z"
   },
   {
    "duration": 312,
    "start_time": "2025-05-05T05:21:41.357Z"
   },
   {
    "duration": 20,
    "start_time": "2025-05-05T05:21:41.671Z"
   },
   {
    "duration": 235,
    "start_time": "2025-05-05T05:21:41.693Z"
   },
   {
    "duration": 158,
    "start_time": "2025-05-05T05:22:03.988Z"
   },
   {
    "duration": 147,
    "start_time": "2025-05-05T05:27:51.862Z"
   },
   {
    "duration": 154,
    "start_time": "2025-05-05T05:28:02.326Z"
   },
   {
    "duration": 411,
    "start_time": "2025-05-05T06:29:36.956Z"
   },
   {
    "duration": 136,
    "start_time": "2025-05-05T06:29:37.368Z"
   },
   {
    "duration": 215,
    "start_time": "2025-05-05T06:29:37.940Z"
   },
   {
    "duration": 13,
    "start_time": "2025-05-05T06:29:47.020Z"
   },
   {
    "duration": 11,
    "start_time": "2025-05-05T06:29:48.025Z"
   },
   {
    "duration": 18,
    "start_time": "2025-05-05T06:29:54.683Z"
   },
   {
    "duration": 16,
    "start_time": "2025-05-05T06:30:00.212Z"
   },
   {
    "duration": 2304,
    "start_time": "2025-05-05T06:30:01.947Z"
   },
   {
    "duration": 727,
    "start_time": "2025-05-05T06:30:04.254Z"
   },
   {
    "duration": 539,
    "start_time": "2025-05-05T06:30:05.828Z"
   },
   {
    "duration": 13,
    "start_time": "2025-05-05T06:30:10.125Z"
   },
   {
    "duration": 11,
    "start_time": "2025-05-05T06:30:12.228Z"
   },
   {
    "duration": 5,
    "start_time": "2025-05-05T06:30:13.708Z"
   },
   {
    "duration": 18,
    "start_time": "2025-05-05T06:30:15.557Z"
   },
   {
    "duration": 5,
    "start_time": "2025-05-05T06:30:16.364Z"
   },
   {
    "duration": 3,
    "start_time": "2025-05-05T06:30:19.939Z"
   },
   {
    "duration": 160,
    "start_time": "2025-05-05T06:30:20.756Z"
   },
   {
    "duration": 186,
    "start_time": "2025-05-05T06:30:22.652Z"
   },
   {
    "duration": 6,
    "start_time": "2025-05-05T06:30:24.103Z"
   },
   {
    "duration": 157,
    "start_time": "2025-05-05T06:30:24.892Z"
   },
   {
    "duration": 21,
    "start_time": "2025-05-05T06:30:26.780Z"
   },
   {
    "duration": 437,
    "start_time": "2025-05-05T06:30:27.981Z"
   },
   {
    "duration": 2,
    "start_time": "2025-05-05T06:30:29.824Z"
   },
   {
    "duration": 224,
    "start_time": "2025-05-05T06:30:30.477Z"
   },
   {
    "duration": 212,
    "start_time": "2025-05-05T06:30:32.084Z"
   },
   {
    "duration": 213,
    "start_time": "2025-05-05T06:30:34.312Z"
   },
   {
    "duration": 2583,
    "start_time": "2025-05-05T06:30:36.581Z"
   },
   {
    "duration": 9145,
    "start_time": "2025-05-05T06:30:39.166Z"
   },
   {
    "duration": 395,
    "start_time": "2025-05-05T06:30:48.313Z"
   },
   {
    "duration": 25,
    "start_time": "2025-05-05T06:30:48.710Z"
   },
   {
    "duration": 363,
    "start_time": "2025-05-05T06:30:48.737Z"
   },
   {
    "duration": 132,
    "start_time": "2025-05-05T06:30:49.101Z"
   },
   {
    "duration": 28,
    "start_time": "2025-05-05T06:30:49.234Z"
   },
   {
    "duration": 23,
    "start_time": "2025-05-05T06:30:49.264Z"
   },
   {
    "duration": 351,
    "start_time": "2025-05-05T06:30:49.289Z"
   },
   {
    "duration": 34,
    "start_time": "2025-05-05T06:30:49.641Z"
   },
   {
    "duration": 235,
    "start_time": "2025-05-05T06:30:49.676Z"
   },
   {
    "duration": 459,
    "start_time": "2025-05-05T09:49:17.791Z"
   },
   {
    "duration": 197,
    "start_time": "2025-05-05T09:49:18.252Z"
   },
   {
    "duration": 48,
    "start_time": "2025-05-05T09:49:18.451Z"
   },
   {
    "duration": 130,
    "start_time": "2025-05-05T09:49:18.500Z"
   },
   {
    "duration": 53,
    "start_time": "2025-05-05T09:49:18.633Z"
   },
   {
    "duration": 45,
    "start_time": "2025-05-05T09:49:18.688Z"
   },
   {
    "duration": 46,
    "start_time": "2025-05-05T09:49:18.735Z"
   },
   {
    "duration": 3389,
    "start_time": "2025-05-05T09:49:18.783Z"
   },
   {
    "duration": 1002,
    "start_time": "2025-05-05T09:49:22.174Z"
   },
   {
    "duration": 559,
    "start_time": "2025-05-05T09:49:23.178Z"
   },
   {
    "duration": 14,
    "start_time": "2025-05-05T09:49:23.739Z"
   },
   {
    "duration": 53,
    "start_time": "2025-05-05T09:49:23.755Z"
   },
   {
    "duration": 6,
    "start_time": "2025-05-05T09:49:23.809Z"
   },
   {
    "duration": 27,
    "start_time": "2025-05-05T09:49:23.818Z"
   },
   {
    "duration": 4,
    "start_time": "2025-05-05T09:49:23.847Z"
   },
   {
    "duration": 4,
    "start_time": "2025-05-05T09:49:23.853Z"
   },
   {
    "duration": 192,
    "start_time": "2025-05-05T09:49:23.858Z"
   },
   {
    "duration": 215,
    "start_time": "2025-05-05T09:49:24.051Z"
   },
   {
    "duration": 5,
    "start_time": "2025-05-05T09:49:24.268Z"
   },
   {
    "duration": 295,
    "start_time": "2025-05-05T09:49:24.274Z"
   },
   {
    "duration": 34,
    "start_time": "2025-05-05T09:49:24.571Z"
   },
   {
    "duration": 548,
    "start_time": "2025-05-05T09:49:24.607Z"
   },
   {
    "duration": 3,
    "start_time": "2025-05-05T09:49:25.157Z"
   },
   {
    "duration": 269,
    "start_time": "2025-05-05T09:49:25.161Z"
   },
   {
    "duration": 321,
    "start_time": "2025-05-05T09:49:25.432Z"
   },
   {
    "duration": 171,
    "start_time": "2025-05-05T09:49:25.755Z"
   },
   {
    "duration": 4458,
    "start_time": "2025-05-05T09:49:25.928Z"
   },
   {
    "duration": 12520,
    "start_time": "2025-05-05T09:49:30.388Z"
   },
   {
    "duration": 395,
    "start_time": "2025-05-05T09:49:42.910Z"
   },
   {
    "duration": 24,
    "start_time": "2025-05-05T09:49:43.307Z"
   },
   {
    "duration": 383,
    "start_time": "2025-05-05T09:49:43.333Z"
   },
   {
    "duration": 259,
    "start_time": "2025-05-05T09:49:43.718Z"
   },
   {
    "duration": 28,
    "start_time": "2025-05-05T09:49:43.979Z"
   },
   {
    "duration": 37,
    "start_time": "2025-05-05T09:49:44.009Z"
   },
   {
    "duration": 284,
    "start_time": "2025-05-05T09:49:44.048Z"
   },
   {
    "duration": 22,
    "start_time": "2025-05-05T09:49:44.334Z"
   },
   {
    "duration": 282,
    "start_time": "2025-05-05T09:49:44.357Z"
   },
   {
    "duration": 4,
    "start_time": "2025-05-05T09:53:33.566Z"
   },
   {
    "duration": 76,
    "start_time": "2025-05-05T09:56:33.606Z"
   },
   {
    "duration": 3293,
    "start_time": "2025-05-05T14:06:16.474Z"
   },
   {
    "duration": 1477,
    "start_time": "2025-05-05T14:06:19.770Z"
   },
   {
    "duration": 127,
    "start_time": "2025-05-05T14:06:22.376Z"
   },
   {
    "duration": 53,
    "start_time": "2025-05-05T14:06:25.016Z"
   },
   {
    "duration": 145,
    "start_time": "2025-05-05T14:06:45.472Z"
   },
   {
    "duration": 57,
    "start_time": "2025-05-05T14:06:52.298Z"
   },
   {
    "duration": 16,
    "start_time": "2025-05-05T14:06:57.337Z"
   },
   {
    "duration": 15,
    "start_time": "2025-05-05T14:07:00.146Z"
   },
   {
    "duration": 2647,
    "start_time": "2025-05-05T14:08:35.250Z"
   },
   {
    "duration": 4,
    "start_time": "2025-05-05T14:08:37.900Z"
   },
   {
    "duration": 419,
    "start_time": "2025-05-05T14:08:38.702Z"
   },
   {
    "duration": 112,
    "start_time": "2025-05-05T14:08:42.747Z"
   },
   {
    "duration": 16,
    "start_time": "2025-05-05T14:08:44.097Z"
   },
   {
    "duration": 13,
    "start_time": "2025-05-05T14:08:44.644Z"
   },
   {
    "duration": 35,
    "start_time": "2025-05-05T14:08:55.953Z"
   },
   {
    "duration": 20,
    "start_time": "2025-05-05T14:09:16.747Z"
   },
   {
    "duration": 21,
    "start_time": "2025-05-05T14:09:19.356Z"
   },
   {
    "duration": 84,
    "start_time": "2025-05-05T14:09:56.802Z"
   },
   {
    "duration": 575,
    "start_time": "2025-05-05T14:10:44.041Z"
   },
   {
    "duration": 16,
    "start_time": "2025-05-05T14:10:51.286Z"
   },
   {
    "duration": 19,
    "start_time": "2025-05-05T14:11:04.816Z"
   },
   {
    "duration": 12,
    "start_time": "2025-05-05T14:11:26.128Z"
   },
   {
    "duration": 6,
    "start_time": "2025-05-05T14:11:27.663Z"
   },
   {
    "duration": 18,
    "start_time": "2025-05-05T14:11:29.781Z"
   },
   {
    "duration": 6,
    "start_time": "2025-05-05T14:11:52.330Z"
   },
   {
    "duration": 217,
    "start_time": "2025-05-05T14:14:21.385Z"
   },
   {
    "duration": 305,
    "start_time": "2025-05-05T14:15:18.501Z"
   },
   {
    "duration": 201,
    "start_time": "2025-05-05T14:15:44.379Z"
   },
   {
    "duration": 215,
    "start_time": "2025-05-05T14:15:55.902Z"
   },
   {
    "duration": 4351,
    "start_time": "2025-05-05T14:17:01.169Z"
   },
   {
    "duration": 5231,
    "start_time": "2025-05-05T14:17:20.193Z"
   },
   {
    "duration": 129,
    "start_time": "2025-05-05T14:17:30.188Z"
   },
   {
    "duration": 46,
    "start_time": "2025-05-05T14:17:33.768Z"
   },
   {
    "duration": 60,
    "start_time": "2025-05-05T14:17:33.816Z"
   },
   {
    "duration": 15,
    "start_time": "2025-05-05T14:17:33.936Z"
   },
   {
    "duration": 33,
    "start_time": "2025-05-05T14:17:36.046Z"
   },
   {
    "duration": 26,
    "start_time": "2025-05-05T14:17:36.917Z"
   },
   {
    "duration": 611,
    "start_time": "2025-05-05T14:17:37.507Z"
   },
   {
    "duration": 16,
    "start_time": "2025-05-05T14:17:39.666Z"
   },
   {
    "duration": 12,
    "start_time": "2025-05-05T14:17:41.493Z"
   },
   {
    "duration": 7,
    "start_time": "2025-05-05T14:17:42.043Z"
   },
   {
    "duration": 20,
    "start_time": "2025-05-05T14:17:42.494Z"
   },
   {
    "duration": 7,
    "start_time": "2025-05-05T14:17:42.794Z"
   },
   {
    "duration": 165,
    "start_time": "2025-05-05T14:17:51.092Z"
   },
   {
    "duration": 25,
    "start_time": "2025-05-05T14:18:49.048Z"
   },
   {
    "duration": 163,
    "start_time": "2025-05-05T14:18:49.626Z"
   },
   {
    "duration": 171,
    "start_time": "2025-05-05T14:18:53.486Z"
   },
   {
    "duration": 6,
    "start_time": "2025-05-05T14:23:24.001Z"
   },
   {
    "duration": 168,
    "start_time": "2025-05-05T15:31:56.446Z"
   },
   {
    "duration": 6,
    "start_time": "2025-05-05T15:32:13.028Z"
   },
   {
    "duration": 289,
    "start_time": "2025-05-05T15:32:13.714Z"
   },
   {
    "duration": 24,
    "start_time": "2025-05-05T15:33:22.143Z"
   },
   {
    "duration": 473,
    "start_time": "2025-05-05T15:33:26.114Z"
   },
   {
    "duration": 455,
    "start_time": "2025-05-05T15:34:21.722Z"
   },
   {
    "duration": 481,
    "start_time": "2025-05-05T15:34:41.708Z"
   },
   {
    "duration": 258,
    "start_time": "2025-05-05T15:38:31.277Z"
   },
   {
    "duration": 245,
    "start_time": "2025-05-05T15:42:35.867Z"
   },
   {
    "duration": 256,
    "start_time": "2025-05-05T15:43:07.357Z"
   },
   {
    "duration": 246,
    "start_time": "2025-05-05T15:43:47.368Z"
   },
   {
    "duration": 10138,
    "start_time": "2025-05-05T15:53:53.391Z"
   },
   {
    "duration": 402,
    "start_time": "2025-05-05T15:54:03.532Z"
   },
   {
    "duration": 27,
    "start_time": "2025-05-05T15:55:15.920Z"
   },
   {
    "duration": 394,
    "start_time": "2025-05-05T15:55:20.297Z"
   },
   {
    "duration": 284,
    "start_time": "2025-05-05T15:55:20.863Z"
   },
   {
    "duration": 8,
    "start_time": "2025-05-05T15:57:24.460Z"
   },
   {
    "duration": 23,
    "start_time": "2025-05-05T15:59:56.589Z"
   },
   {
    "duration": 27,
    "start_time": "2025-05-05T16:00:06.750Z"
   },
   {
    "duration": 351,
    "start_time": "2025-05-05T16:00:10.552Z"
   },
   {
    "duration": 27,
    "start_time": "2025-05-05T16:10:19.509Z"
   },
   {
    "duration": 261,
    "start_time": "2025-05-05T16:10:19.927Z"
   },
   {
    "duration": 24,
    "start_time": "2025-05-05T16:10:30.091Z"
   },
   {
    "duration": 263,
    "start_time": "2025-05-05T16:10:31.532Z"
   },
   {
    "duration": 5055,
    "start_time": "2025-05-05T16:20:32.314Z"
   },
   {
    "duration": 161,
    "start_time": "2025-05-05T16:20:37.372Z"
   },
   {
    "duration": 168,
    "start_time": "2025-05-05T16:20:37.874Z"
   },
   {
    "duration": 48,
    "start_time": "2025-05-05T16:20:40.266Z"
   },
   {
    "duration": 17,
    "start_time": "2025-05-05T16:20:43.049Z"
   },
   {
    "duration": 14,
    "start_time": "2025-05-05T16:20:44.150Z"
   },
   {
    "duration": 37,
    "start_time": "2025-05-05T16:20:49.097Z"
   },
   {
    "duration": 29,
    "start_time": "2025-05-05T16:20:54.849Z"
   },
   {
    "duration": 515,
    "start_time": "2025-05-05T16:20:57.681Z"
   },
   {
    "duration": 24,
    "start_time": "2025-05-05T16:21:00.753Z"
   },
   {
    "duration": 13,
    "start_time": "2025-05-05T16:21:03.417Z"
   },
   {
    "duration": 6,
    "start_time": "2025-05-05T16:21:04.929Z"
   },
   {
    "duration": 18,
    "start_time": "2025-05-05T16:21:06.306Z"
   },
   {
    "duration": 6,
    "start_time": "2025-05-05T16:21:10.481Z"
   },
   {
    "duration": 26,
    "start_time": "2025-05-05T16:21:27.921Z"
   },
   {
    "duration": 164,
    "start_time": "2025-05-05T16:21:28.714Z"
   },
   {
    "duration": 177,
    "start_time": "2025-05-05T16:21:32.282Z"
   },
   {
    "duration": 6,
    "start_time": "2025-05-05T16:21:37.897Z"
   },
   {
    "duration": 172,
    "start_time": "2025-05-05T16:21:38.306Z"
   },
   {
    "duration": 24,
    "start_time": "2025-05-05T16:21:42.603Z"
   },
   {
    "duration": 451,
    "start_time": "2025-05-05T16:21:43.522Z"
   },
   {
    "duration": 253,
    "start_time": "2025-05-05T16:22:02.938Z"
   },
   {
    "duration": 237,
    "start_time": "2025-05-05T16:22:04.908Z"
   },
   {
    "duration": 397,
    "start_time": "2025-05-05T16:22:23.403Z"
   },
   {
    "duration": 248,
    "start_time": "2025-05-05T16:22:30.411Z"
   },
   {
    "duration": 263,
    "start_time": "2025-05-05T16:22:53.194Z"
   },
   {
    "duration": 9128,
    "start_time": "2025-05-06T07:32:45.234Z"
   },
   {
    "duration": 139,
    "start_time": "2025-05-06T07:32:54.364Z"
   },
   {
    "duration": 169,
    "start_time": "2025-05-06T07:32:54.505Z"
   },
   {
    "duration": 16,
    "start_time": "2025-05-06T07:32:54.676Z"
   },
   {
    "duration": 42,
    "start_time": "2025-05-06T07:32:54.693Z"
   },
   {
    "duration": 38,
    "start_time": "2025-05-06T07:32:54.737Z"
   },
   {
    "duration": 60,
    "start_time": "2025-05-06T07:32:54.776Z"
   },
   {
    "duration": 528,
    "start_time": "2025-05-06T07:32:54.837Z"
   },
   {
    "duration": 17,
    "start_time": "2025-05-06T07:32:55.366Z"
   },
   {
    "duration": 11,
    "start_time": "2025-05-06T07:32:55.385Z"
   },
   {
    "duration": 7,
    "start_time": "2025-05-06T07:32:55.398Z"
   },
   {
    "duration": 119,
    "start_time": "2025-05-06T07:32:55.407Z"
   },
   {
    "duration": 6,
    "start_time": "2025-05-06T07:32:55.527Z"
   },
   {
    "duration": 29,
    "start_time": "2025-05-06T07:32:55.535Z"
   },
   {
    "duration": 167,
    "start_time": "2025-05-06T07:32:55.566Z"
   },
   {
    "duration": 156,
    "start_time": "2025-05-06T07:32:55.734Z"
   },
   {
    "duration": 4,
    "start_time": "2025-05-06T07:32:55.892Z"
   },
   {
    "duration": 173,
    "start_time": "2025-05-06T07:32:55.898Z"
   },
   {
    "duration": 23,
    "start_time": "2025-05-06T07:32:56.072Z"
   },
   {
    "duration": 430,
    "start_time": "2025-05-06T07:32:56.096Z"
   },
   {
    "duration": 237,
    "start_time": "2025-05-06T07:32:56.528Z"
   },
   {
    "duration": 246,
    "start_time": "2025-05-06T07:32:56.767Z"
   },
   {
    "duration": 127,
    "start_time": "2025-05-06T07:32:57.015Z"
   },
   {
    "duration": 0,
    "start_time": "2025-05-06T07:32:57.144Z"
   },
   {
    "duration": 0,
    "start_time": "2025-05-06T07:32:57.145Z"
   },
   {
    "duration": 0,
    "start_time": "2025-05-06T07:32:57.146Z"
   },
   {
    "duration": 0,
    "start_time": "2025-05-06T07:32:57.147Z"
   },
   {
    "duration": 0,
    "start_time": "2025-05-06T07:32:57.148Z"
   },
   {
    "duration": 0,
    "start_time": "2025-05-06T07:32:57.149Z"
   },
   {
    "duration": 0,
    "start_time": "2025-05-06T07:32:57.161Z"
   },
   {
    "duration": 0,
    "start_time": "2025-05-06T07:32:57.162Z"
   },
   {
    "duration": 0,
    "start_time": "2025-05-06T07:32:57.163Z"
   },
   {
    "duration": 0,
    "start_time": "2025-05-06T07:32:57.164Z"
   },
   {
    "duration": 87,
    "start_time": "2025-05-06T07:33:22.808Z"
   },
   {
    "duration": 162,
    "start_time": "2025-05-06T07:38:22.980Z"
   },
   {
    "duration": 6034,
    "start_time": "2025-05-06T07:39:25.355Z"
   },
   {
    "duration": 137,
    "start_time": "2025-05-06T07:39:31.391Z"
   },
   {
    "duration": 82,
    "start_time": "2025-05-06T07:39:31.530Z"
   },
   {
    "duration": 16,
    "start_time": "2025-05-06T07:39:31.615Z"
   },
   {
    "duration": 11,
    "start_time": "2025-05-06T07:39:31.633Z"
   },
   {
    "duration": 39,
    "start_time": "2025-05-06T07:39:31.645Z"
   },
   {
    "duration": 61,
    "start_time": "2025-05-06T07:39:31.686Z"
   },
   {
    "duration": 515,
    "start_time": "2025-05-06T07:39:31.749Z"
   },
   {
    "duration": 16,
    "start_time": "2025-05-06T07:39:32.266Z"
   },
   {
    "duration": 19,
    "start_time": "2025-05-06T07:39:32.285Z"
   },
   {
    "duration": 5,
    "start_time": "2025-05-06T07:39:32.305Z"
   },
   {
    "duration": 115,
    "start_time": "2025-05-06T07:39:32.311Z"
   },
   {
    "duration": 6,
    "start_time": "2025-05-06T07:39:32.428Z"
   },
   {
    "duration": 37,
    "start_time": "2025-05-06T07:39:32.435Z"
   },
   {
    "duration": 210,
    "start_time": "2025-05-06T07:39:32.474Z"
   },
   {
    "duration": 162,
    "start_time": "2025-05-06T07:39:32.686Z"
   },
   {
    "duration": 5,
    "start_time": "2025-05-06T07:39:32.849Z"
   },
   {
    "duration": 161,
    "start_time": "2025-05-06T07:39:32.862Z"
   },
   {
    "duration": 22,
    "start_time": "2025-05-06T07:39:33.024Z"
   },
   {
    "duration": 431,
    "start_time": "2025-05-06T07:39:33.047Z"
   },
   {
    "duration": 227,
    "start_time": "2025-05-06T07:39:33.480Z"
   },
   {
    "duration": 235,
    "start_time": "2025-05-06T07:39:33.708Z"
   },
   {
    "duration": 123,
    "start_time": "2025-05-06T07:39:33.945Z"
   },
   {
    "duration": 0,
    "start_time": "2025-05-06T07:39:34.069Z"
   },
   {
    "duration": 0,
    "start_time": "2025-05-06T07:39:34.071Z"
   },
   {
    "duration": 0,
    "start_time": "2025-05-06T07:39:34.072Z"
   },
   {
    "duration": 0,
    "start_time": "2025-05-06T07:39:34.073Z"
   },
   {
    "duration": 0,
    "start_time": "2025-05-06T07:39:34.074Z"
   },
   {
    "duration": 0,
    "start_time": "2025-05-06T07:39:34.075Z"
   },
   {
    "duration": 0,
    "start_time": "2025-05-06T07:39:34.077Z"
   },
   {
    "duration": 0,
    "start_time": "2025-05-06T07:39:34.078Z"
   },
   {
    "duration": 0,
    "start_time": "2025-05-06T07:39:34.079Z"
   },
   {
    "duration": 0,
    "start_time": "2025-05-06T07:39:34.080Z"
   },
   {
    "duration": 60,
    "start_time": "2025-05-06T08:33:57.040Z"
   },
   {
    "duration": 7,
    "start_time": "2025-05-06T08:34:16.757Z"
   },
   {
    "duration": 10380,
    "start_time": "2025-05-06T08:34:42.172Z"
   },
   {
    "duration": 286,
    "start_time": "2025-05-06T08:34:52.555Z"
   },
   {
    "duration": 102,
    "start_time": "2025-05-06T08:34:52.844Z"
   },
   {
    "duration": 17,
    "start_time": "2025-05-06T08:34:52.948Z"
   },
   {
    "duration": 21,
    "start_time": "2025-05-06T08:34:52.967Z"
   },
   {
    "duration": 29,
    "start_time": "2025-05-06T08:34:52.989Z"
   },
   {
    "duration": 72,
    "start_time": "2025-05-06T08:34:53.040Z"
   },
   {
    "duration": 683,
    "start_time": "2025-05-06T08:34:53.113Z"
   },
   {
    "duration": 16,
    "start_time": "2025-05-06T08:34:53.798Z"
   },
   {
    "duration": 28,
    "start_time": "2025-05-06T08:34:53.817Z"
   },
   {
    "duration": 11,
    "start_time": "2025-05-06T08:34:53.847Z"
   },
   {
    "duration": 18,
    "start_time": "2025-05-06T08:34:53.860Z"
   },
   {
    "duration": 34,
    "start_time": "2025-05-06T08:34:53.880Z"
   },
   {
    "duration": 24,
    "start_time": "2025-05-06T08:34:53.916Z"
   },
   {
    "duration": 181,
    "start_time": "2025-05-06T08:34:53.943Z"
   },
   {
    "duration": 200,
    "start_time": "2025-05-06T08:34:54.125Z"
   },
   {
    "duration": 15,
    "start_time": "2025-05-06T08:34:54.327Z"
   },
   {
    "duration": 186,
    "start_time": "2025-05-06T08:34:54.345Z"
   },
   {
    "duration": 34,
    "start_time": "2025-05-06T08:34:54.532Z"
   },
   {
    "duration": 496,
    "start_time": "2025-05-06T08:34:54.567Z"
   },
   {
    "duration": 258,
    "start_time": "2025-05-06T08:34:55.064Z"
   },
   {
    "duration": 265,
    "start_time": "2025-05-06T08:34:55.324Z"
   },
   {
    "duration": 136,
    "start_time": "2025-05-06T08:34:55.591Z"
   },
   {
    "duration": 0,
    "start_time": "2025-05-06T08:34:55.729Z"
   },
   {
    "duration": 0,
    "start_time": "2025-05-06T08:34:55.731Z"
   },
   {
    "duration": 0,
    "start_time": "2025-05-06T08:34:55.740Z"
   },
   {
    "duration": 0,
    "start_time": "2025-05-06T08:34:55.741Z"
   },
   {
    "duration": 0,
    "start_time": "2025-05-06T08:34:55.743Z"
   },
   {
    "duration": 0,
    "start_time": "2025-05-06T08:34:55.745Z"
   },
   {
    "duration": 0,
    "start_time": "2025-05-06T08:34:55.746Z"
   },
   {
    "duration": 0,
    "start_time": "2025-05-06T08:34:55.748Z"
   },
   {
    "duration": 0,
    "start_time": "2025-05-06T08:34:55.750Z"
   },
   {
    "duration": 0,
    "start_time": "2025-05-06T08:34:55.752Z"
   },
   {
    "duration": 6,
    "start_time": "2025-05-06T08:38:48.733Z"
   },
   {
    "duration": 265,
    "start_time": "2025-05-06T08:38:49.573Z"
   },
   {
    "duration": 354,
    "start_time": "2025-05-06T08:38:55.573Z"
   },
   {
    "duration": 171,
    "start_time": "2025-05-06T08:44:07.237Z"
   },
   {
    "duration": 188,
    "start_time": "2025-05-06T08:44:44.836Z"
   },
   {
    "duration": 194,
    "start_time": "2025-05-06T08:45:11.636Z"
   },
   {
    "duration": 189,
    "start_time": "2025-05-06T08:45:28.163Z"
   },
   {
    "duration": 26,
    "start_time": "2025-05-06T08:46:36.790Z"
   },
   {
    "duration": 346,
    "start_time": "2025-05-06T08:46:40.421Z"
   },
   {
    "duration": 130,
    "start_time": "2025-05-06T08:46:41.837Z"
   },
   {
    "duration": 407,
    "start_time": "2025-05-06T08:47:10.039Z"
   },
   {
    "duration": 810,
    "start_time": "2025-05-06T08:47:10.448Z"
   },
   {
    "duration": 18,
    "start_time": "2025-05-06T08:48:49.838Z"
   },
   {
    "duration": 11,
    "start_time": "2025-05-06T08:49:58.940Z"
   },
   {
    "duration": 12,
    "start_time": "2025-05-06T08:50:10.280Z"
   },
   {
    "duration": 84,
    "start_time": "2025-05-06T08:50:27.930Z"
   },
   {
    "duration": 16,
    "start_time": "2025-05-06T08:50:35.762Z"
   },
   {
    "duration": 152,
    "start_time": "2025-05-06T08:51:59.052Z"
   },
   {
    "duration": 161,
    "start_time": "2025-05-06T08:52:28.355Z"
   },
   {
    "duration": 12,
    "start_time": "2025-05-06T08:54:26.988Z"
   },
   {
    "duration": 21,
    "start_time": "2025-05-06T08:54:27.580Z"
   },
   {
    "duration": 7,
    "start_time": "2025-05-06T08:54:49.964Z"
   },
   {
    "duration": 151,
    "start_time": "2025-05-06T08:54:58.677Z"
   },
   {
    "duration": 1234,
    "start_time": "2025-05-06T08:55:41.310Z"
   },
   {
    "duration": 291,
    "start_time": "2025-05-06T08:55:48.981Z"
   },
   {
    "duration": 7,
    "start_time": "2025-05-06T08:56:30.621Z"
   },
   {
    "duration": 162,
    "start_time": "2025-05-06T08:56:32.271Z"
   },
   {
    "duration": 14,
    "start_time": "2025-05-06T08:58:35.001Z"
   },
   {
    "duration": 7,
    "start_time": "2025-05-06T08:58:35.418Z"
   },
   {
    "duration": 149,
    "start_time": "2025-05-06T08:58:36.268Z"
   },
   {
    "duration": 11,
    "start_time": "2025-05-06T09:00:06.883Z"
   },
   {
    "duration": 9,
    "start_time": "2025-05-06T09:00:22.141Z"
   },
   {
    "duration": 15,
    "start_time": "2025-05-06T09:00:40.891Z"
   },
   {
    "duration": 10,
    "start_time": "2025-05-06T09:00:48.866Z"
   },
   {
    "duration": 13,
    "start_time": "2025-05-06T09:02:51.326Z"
   },
   {
    "duration": 6,
    "start_time": "2025-05-06T09:03:34.156Z"
   },
   {
    "duration": 5089,
    "start_time": "2025-05-06T09:06:26.834Z"
   },
   {
    "duration": 891,
    "start_time": "2025-05-06T09:06:34.134Z"
   },
   {
    "duration": 26,
    "start_time": "2025-05-06T09:06:35.027Z"
   },
   {
    "duration": 26,
    "start_time": "2025-05-06T09:06:35.055Z"
   },
   {
    "duration": 3156,
    "start_time": "2025-05-06T09:06:35.083Z"
   },
   {
    "duration": 6075,
    "start_time": "2025-05-06T09:06:48.728Z"
   },
   {
    "duration": 5977,
    "start_time": "2025-05-06T09:07:57.279Z"
   },
   {
    "duration": 2170,
    "start_time": "2025-05-06T09:08:13.079Z"
   },
   {
    "duration": 4987,
    "start_time": "2025-05-06T09:11:47.625Z"
   },
   {
    "duration": 752,
    "start_time": "2025-05-06T09:12:07.520Z"
   },
   {
    "duration": 2167,
    "start_time": "2025-05-06T09:12:33.019Z"
   },
   {
    "duration": 736,
    "start_time": "2025-05-06T09:12:47.422Z"
   },
   {
    "duration": 15,
    "start_time": "2025-05-06T09:12:53.941Z"
   },
   {
    "duration": 13,
    "start_time": "2025-05-06T09:12:55.114Z"
   },
   {
    "duration": 38,
    "start_time": "2025-05-06T09:14:19.469Z"
   },
   {
    "duration": 36,
    "start_time": "2025-05-06T09:14:44.007Z"
   },
   {
    "duration": 13,
    "start_time": "2025-05-06T09:16:52.919Z"
   },
   {
    "duration": 167,
    "start_time": "2025-05-06T09:20:00.722Z"
   },
   {
    "duration": 10,
    "start_time": "2025-05-06T09:20:39.151Z"
   },
   {
    "duration": 163,
    "start_time": "2025-05-06T09:20:43.350Z"
   },
   {
    "duration": 7,
    "start_time": "2025-05-06T09:22:40.823Z"
   },
   {
    "duration": 5010,
    "start_time": "2025-05-06T09:24:46.177Z"
   },
   {
    "duration": 2260,
    "start_time": "2025-05-06T09:24:59.153Z"
   },
   {
    "duration": 42,
    "start_time": "2025-05-06T09:29:17.586Z"
   },
   {
    "duration": 22,
    "start_time": "2025-05-06T09:29:36.687Z"
   },
   {
    "duration": 7,
    "start_time": "2025-05-06T09:29:40.078Z"
   },
   {
    "duration": 154,
    "start_time": "2025-05-06T09:29:42.806Z"
   },
   {
    "duration": 11,
    "start_time": "2025-05-06T09:31:05.521Z"
   },
   {
    "duration": 10,
    "start_time": "2025-05-06T09:31:19.406Z"
   },
   {
    "duration": 180,
    "start_time": "2025-05-06T09:31:21.726Z"
   },
   {
    "duration": 7,
    "start_time": "2025-05-06T09:31:51.447Z"
   },
   {
    "duration": 8,
    "start_time": "2025-05-06T09:32:01.527Z"
   },
   {
    "duration": 6,
    "start_time": "2025-05-06T09:32:54.361Z"
   },
   {
    "duration": 6,
    "start_time": "2025-05-06T09:32:56.020Z"
   },
   {
    "duration": 5,
    "start_time": "2025-05-06T09:34:52.951Z"
   },
   {
    "duration": 302,
    "start_time": "2025-05-06T09:34:53.821Z"
   },
   {
    "duration": 298,
    "start_time": "2025-05-06T09:34:57.335Z"
   },
   {
    "duration": 36,
    "start_time": "2025-05-06T09:36:40.175Z"
   },
   {
    "duration": 13,
    "start_time": "2025-05-06T09:37:04.743Z"
   },
   {
    "duration": 68,
    "start_time": "2025-05-06T09:38:10.152Z"
   },
   {
    "duration": 5,
    "start_time": "2025-05-06T09:38:38.769Z"
   },
   {
    "duration": 438,
    "start_time": "2025-05-06T09:38:41.863Z"
   },
   {
    "duration": 285,
    "start_time": "2025-05-06T09:38:49.497Z"
   },
   {
    "duration": 10,
    "start_time": "2025-05-06T09:39:47.017Z"
   },
   {
    "duration": 151,
    "start_time": "2025-05-06T09:39:49.691Z"
   },
   {
    "duration": 17,
    "start_time": "2025-05-06T09:40:43.091Z"
   },
   {
    "duration": 14,
    "start_time": "2025-05-06T09:40:50.739Z"
   },
   {
    "duration": 14,
    "start_time": "2025-05-06T09:41:07.902Z"
   },
   {
    "duration": 367,
    "start_time": "2025-05-06T09:41:16.525Z"
   },
   {
    "duration": 26,
    "start_time": "2025-05-06T09:41:22.029Z"
   },
   {
    "duration": 354,
    "start_time": "2025-05-06T09:41:25.405Z"
   },
   {
    "duration": 131,
    "start_time": "2025-05-06T09:41:27.356Z"
   },
   {
    "duration": 25,
    "start_time": "2025-05-06T09:41:37.742Z"
   },
   {
    "duration": 246,
    "start_time": "2025-05-06T09:41:39.085Z"
   },
   {
    "duration": 26,
    "start_time": "2025-05-06T09:41:50.887Z"
   },
   {
    "duration": 241,
    "start_time": "2025-05-06T09:41:51.989Z"
   },
   {
    "duration": 22,
    "start_time": "2025-05-06T09:50:17.583Z"
   },
   {
    "duration": 10,
    "start_time": "2025-05-06T09:50:25.976Z"
   },
   {
    "duration": 187,
    "start_time": "2025-05-06T09:50:27.558Z"
   },
   {
    "duration": 16,
    "start_time": "2025-05-06T09:50:30.273Z"
   },
   {
    "duration": 6879,
    "start_time": "2025-05-06T09:51:31.705Z"
   },
   {
    "duration": 183,
    "start_time": "2025-05-06T09:51:38.586Z"
   },
   {
    "duration": 93,
    "start_time": "2025-05-06T09:51:38.771Z"
   },
   {
    "duration": 16,
    "start_time": "2025-05-06T09:51:38.866Z"
   },
   {
    "duration": 41,
    "start_time": "2025-05-06T09:51:38.884Z"
   },
   {
    "duration": 108,
    "start_time": "2025-05-06T09:51:38.926Z"
   },
   {
    "duration": 67,
    "start_time": "2025-05-06T09:51:39.035Z"
   },
   {
    "duration": 574,
    "start_time": "2025-05-06T09:51:39.104Z"
   },
   {
    "duration": 17,
    "start_time": "2025-05-06T09:51:39.680Z"
   },
   {
    "duration": 17,
    "start_time": "2025-05-06T09:51:39.700Z"
   },
   {
    "duration": 20,
    "start_time": "2025-05-06T09:51:39.719Z"
   },
   {
    "duration": 123,
    "start_time": "2025-05-06T09:51:39.742Z"
   },
   {
    "duration": 6,
    "start_time": "2025-05-06T09:51:39.867Z"
   },
   {
    "duration": 25,
    "start_time": "2025-05-06T09:51:39.874Z"
   },
   {
    "duration": 9,
    "start_time": "2025-05-06T09:51:39.901Z"
   },
   {
    "duration": 186,
    "start_time": "2025-05-06T09:51:39.911Z"
   },
   {
    "duration": 8,
    "start_time": "2025-05-06T09:51:40.099Z"
   },
   {
    "duration": 207,
    "start_time": "2025-05-06T09:51:40.109Z"
   },
   {
    "duration": 5,
    "start_time": "2025-05-06T09:51:40.318Z"
   },
   {
    "duration": 16,
    "start_time": "2025-05-06T09:51:40.325Z"
   },
   {
    "duration": 179,
    "start_time": "2025-05-06T09:51:40.343Z"
   },
   {
    "duration": 33,
    "start_time": "2025-05-06T09:51:40.524Z"
   },
   {
    "duration": 477,
    "start_time": "2025-05-06T09:51:40.559Z"
   },
   {
    "duration": 6,
    "start_time": "2025-05-06T09:51:41.039Z"
   },
   {
    "duration": 280,
    "start_time": "2025-05-06T09:51:41.047Z"
   },
   {
    "duration": 247,
    "start_time": "2025-05-06T09:51:41.329Z"
   },
   {
    "duration": 12,
    "start_time": "2025-05-06T09:51:41.577Z"
   },
   {
    "duration": 196,
    "start_time": "2025-05-06T09:51:41.592Z"
   },
   {
    "duration": 10863,
    "start_time": "2025-05-06T09:51:41.790Z"
   },
   {
    "duration": 443,
    "start_time": "2025-05-06T09:51:52.656Z"
   },
   {
    "duration": 38,
    "start_time": "2025-05-06T09:51:53.100Z"
   },
   {
    "duration": 427,
    "start_time": "2025-05-06T09:51:53.141Z"
   },
   {
    "duration": 145,
    "start_time": "2025-05-06T09:51:53.570Z"
   },
   {
    "duration": 46,
    "start_time": "2025-05-06T09:51:53.718Z"
   },
   {
    "duration": 417,
    "start_time": "2025-05-06T09:51:53.767Z"
   },
   {
    "duration": 28,
    "start_time": "2025-05-06T09:51:54.186Z"
   },
   {
    "duration": 291,
    "start_time": "2025-05-06T09:51:54.216Z"
   },
   {
    "duration": 7,
    "start_time": "2025-05-06T09:53:04.695Z"
   },
   {
    "duration": 12,
    "start_time": "2025-05-06T09:53:16.430Z"
   },
   {
    "duration": 6,
    "start_time": "2025-05-06T09:53:54.998Z"
   },
   {
    "duration": 11,
    "start_time": "2025-05-06T09:53:55.574Z"
   },
   {
    "duration": 6807,
    "start_time": "2025-05-06T09:54:04.655Z"
   },
   {
    "duration": 131,
    "start_time": "2025-05-06T09:54:11.464Z"
   },
   {
    "duration": 128,
    "start_time": "2025-05-06T09:54:11.597Z"
   },
   {
    "duration": 16,
    "start_time": "2025-05-06T09:54:11.728Z"
   },
   {
    "duration": 12,
    "start_time": "2025-05-06T09:54:11.746Z"
   },
   {
    "duration": 32,
    "start_time": "2025-05-06T09:54:11.761Z"
   },
   {
    "duration": 88,
    "start_time": "2025-05-06T09:54:11.795Z"
   },
   {
    "duration": 579,
    "start_time": "2025-05-06T09:54:11.885Z"
   },
   {
    "duration": 18,
    "start_time": "2025-05-06T09:54:12.467Z"
   },
   {
    "duration": 24,
    "start_time": "2025-05-06T09:54:12.489Z"
   },
   {
    "duration": 6,
    "start_time": "2025-05-06T09:54:12.515Z"
   },
   {
    "duration": 124,
    "start_time": "2025-05-06T09:54:12.538Z"
   },
   {
    "duration": 25,
    "start_time": "2025-05-06T09:54:12.664Z"
   },
   {
    "duration": 42,
    "start_time": "2025-05-06T09:54:12.692Z"
   },
   {
    "duration": 7,
    "start_time": "2025-05-06T09:54:12.736Z"
   },
   {
    "duration": 180,
    "start_time": "2025-05-06T09:54:12.745Z"
   },
   {
    "duration": 15,
    "start_time": "2025-05-06T09:54:12.926Z"
   },
   {
    "duration": 262,
    "start_time": "2025-05-06T09:54:12.942Z"
   },
   {
    "duration": 7,
    "start_time": "2025-05-06T09:54:13.206Z"
   },
   {
    "duration": 8,
    "start_time": "2025-05-06T09:54:13.214Z"
   },
   {
    "duration": 183,
    "start_time": "2025-05-06T09:54:13.223Z"
   },
   {
    "duration": 32,
    "start_time": "2025-05-06T09:54:13.408Z"
   },
   {
    "duration": 483,
    "start_time": "2025-05-06T09:54:13.442Z"
   },
   {
    "duration": 12,
    "start_time": "2025-05-06T09:54:13.927Z"
   },
   {
    "duration": 12,
    "start_time": "2025-05-06T09:54:13.941Z"
   },
   {
    "duration": 267,
    "start_time": "2025-05-06T09:54:13.955Z"
   },
   {
    "duration": 250,
    "start_time": "2025-05-06T09:54:14.224Z"
   },
   {
    "duration": 15,
    "start_time": "2025-05-06T09:54:14.479Z"
   },
   {
    "duration": 176,
    "start_time": "2025-05-06T09:54:14.496Z"
   },
   {
    "duration": 11367,
    "start_time": "2025-05-06T09:54:14.674Z"
   },
   {
    "duration": 451,
    "start_time": "2025-05-06T09:54:26.044Z"
   },
   {
    "duration": 29,
    "start_time": "2025-05-06T09:54:26.496Z"
   },
   {
    "duration": 428,
    "start_time": "2025-05-06T09:54:26.539Z"
   },
   {
    "duration": 148,
    "start_time": "2025-05-06T09:54:26.969Z"
   },
   {
    "duration": 43,
    "start_time": "2025-05-06T09:54:27.119Z"
   },
   {
    "duration": 464,
    "start_time": "2025-05-06T09:54:27.164Z"
   },
   {
    "duration": 36,
    "start_time": "2025-05-06T09:54:27.632Z"
   },
   {
    "duration": 307,
    "start_time": "2025-05-06T09:54:27.670Z"
   },
   {
    "duration": 12,
    "start_time": "2025-05-06T09:57:29.383Z"
   },
   {
    "duration": 281,
    "start_time": "2025-05-06T09:58:08.168Z"
   },
   {
    "duration": 6,
    "start_time": "2025-05-06T09:58:10.592Z"
   },
   {
    "duration": 266,
    "start_time": "2025-05-06T09:58:12.352Z"
   },
   {
    "duration": 262,
    "start_time": "2025-05-06T09:58:14.336Z"
   },
   {
    "duration": 10,
    "start_time": "2025-05-06T09:58:19.250Z"
   },
   {
    "duration": 167,
    "start_time": "2025-05-06T09:58:19.825Z"
   },
   {
    "duration": 152,
    "start_time": "2025-05-06T09:58:36.184Z"
   },
   {
    "duration": 949,
    "start_time": "2025-05-06T09:58:42.417Z"
   },
   {
    "duration": 298,
    "start_time": "2025-05-06T09:58:43.872Z"
   },
   {
    "duration": 38,
    "start_time": "2025-05-06T09:58:47.578Z"
   },
   {
    "duration": 393,
    "start_time": "2025-05-06T09:58:48.105Z"
   },
   {
    "duration": 269,
    "start_time": "2025-05-06T09:58:48.705Z"
   },
   {
    "duration": 26,
    "start_time": "2025-05-06T09:58:52.280Z"
   },
   {
    "duration": 270,
    "start_time": "2025-05-06T09:58:53.097Z"
   },
   {
    "duration": 280,
    "start_time": "2025-05-06T09:59:00.914Z"
   },
   {
    "duration": 28,
    "start_time": "2025-05-06T09:59:15.025Z"
   },
   {
    "duration": 254,
    "start_time": "2025-05-06T09:59:22.099Z"
   },
   {
    "duration": 5628,
    "start_time": "2025-05-06T10:03:06.487Z"
   },
   {
    "duration": 193,
    "start_time": "2025-05-06T10:03:12.118Z"
   },
   {
    "duration": 122,
    "start_time": "2025-05-06T10:03:15.800Z"
   },
   {
    "duration": 16,
    "start_time": "2025-05-06T10:03:21.583Z"
   },
   {
    "duration": 15,
    "start_time": "2025-05-06T10:03:22.480Z"
   },
   {
    "duration": 45,
    "start_time": "2025-05-06T10:03:25.272Z"
   },
   {
    "duration": 27,
    "start_time": "2025-05-06T10:03:29.980Z"
   },
   {
    "duration": 537,
    "start_time": "2025-05-06T10:03:36.153Z"
   },
   {
    "duration": 18,
    "start_time": "2025-05-06T10:03:41.975Z"
   },
   {
    "duration": 13,
    "start_time": "2025-05-06T10:03:44.095Z"
   },
   {
    "duration": 6,
    "start_time": "2025-05-06T10:03:45.431Z"
   },
   {
    "duration": 19,
    "start_time": "2025-05-06T10:03:46.415Z"
   },
   {
    "duration": 9,
    "start_time": "2025-05-06T10:03:47.583Z"
   },
   {
    "duration": 24,
    "start_time": "2025-05-06T10:03:51.608Z"
   },
   {
    "duration": 7,
    "start_time": "2025-05-06T10:03:52.320Z"
   },
   {
    "duration": 172,
    "start_time": "2025-05-06T10:03:53.928Z"
   },
   {
    "duration": 7,
    "start_time": "2025-05-06T10:03:55.880Z"
   },
   {
    "duration": 201,
    "start_time": "2025-05-06T10:04:01.889Z"
   },
   {
    "duration": 6,
    "start_time": "2025-05-06T10:04:05.064Z"
   },
   {
    "duration": 7,
    "start_time": "2025-05-06T10:04:05.400Z"
   },
   {
    "duration": 186,
    "start_time": "2025-05-06T10:04:06.626Z"
   },
   {
    "duration": 26,
    "start_time": "2025-05-06T10:04:15.576Z"
   },
   {
    "duration": 456,
    "start_time": "2025-05-06T10:04:19.408Z"
   },
   {
    "duration": 7,
    "start_time": "2025-05-06T10:04:22.110Z"
   },
   {
    "duration": 267,
    "start_time": "2025-05-06T10:04:23.272Z"
   },
   {
    "duration": 245,
    "start_time": "2025-05-06T10:04:24.936Z"
   },
   {
    "duration": 12,
    "start_time": "2025-05-06T10:04:33.656Z"
   },
   {
    "duration": 294,
    "start_time": "2025-05-06T10:04:34.224Z"
   },
   {
    "duration": 11497,
    "start_time": "2025-05-06T10:04:36.464Z"
   },
   {
    "duration": 430,
    "start_time": "2025-05-06T10:04:47.968Z"
   },
   {
    "duration": 27,
    "start_time": "2025-05-06T10:04:48.450Z"
   },
   {
    "duration": 27,
    "start_time": "2025-05-06T10:04:50.785Z"
   },
   {
    "duration": 442,
    "start_time": "2025-05-06T10:04:52.545Z"
   },
   {
    "duration": 143,
    "start_time": "2025-05-06T10:04:54.051Z"
   },
   {
    "duration": 6,
    "start_time": "2025-05-06T10:09:04.961Z"
   },
   {
    "duration": 131,
    "start_time": "2025-05-06T10:09:11.119Z"
   },
   {
    "duration": 32,
    "start_time": "2025-05-06T10:12:22.421Z"
   },
   {
    "duration": 438,
    "start_time": "2025-05-06T10:12:24.337Z"
   },
   {
    "duration": 6,
    "start_time": "2025-05-06T10:12:24.952Z"
   },
   {
    "duration": 134,
    "start_time": "2025-05-06T10:12:26.681Z"
   },
   {
    "duration": 31,
    "start_time": "2025-05-06T10:12:34.227Z"
   },
   {
    "duration": 246,
    "start_time": "2025-05-06T10:12:51.585Z"
   },
   {
    "duration": 38,
    "start_time": "2025-05-06T10:12:57.529Z"
   },
   {
    "duration": 258,
    "start_time": "2025-05-06T10:12:58.393Z"
   },
   {
    "duration": 11,
    "start_time": "2025-05-06T10:14:59.452Z"
   },
   {
    "duration": 10,
    "start_time": "2025-05-06T10:15:11.331Z"
   },
   {
    "duration": 250,
    "start_time": "2025-05-06T10:15:24.131Z"
   },
   {
    "duration": 6,
    "start_time": "2025-05-06T10:15:28.591Z"
   },
   {
    "duration": 11,
    "start_time": "2025-05-06T10:15:31.224Z"
   },
   {
    "duration": 8,
    "start_time": "2025-05-06T10:15:39.786Z"
   },
   {
    "duration": 11,
    "start_time": "2025-05-06T10:15:41.699Z"
   },
   {
    "duration": 376,
    "start_time": "2025-05-06T10:15:43.602Z"
   },
   {
    "duration": 238,
    "start_time": "2025-05-06T10:15:45.762Z"
   },
   {
    "duration": 9480,
    "start_time": "2025-05-06T16:52:52.381Z"
   },
   {
    "duration": 157,
    "start_time": "2025-05-06T16:53:01.863Z"
   },
   {
    "duration": 48,
    "start_time": "2025-05-06T16:53:02.022Z"
   },
   {
    "duration": 16,
    "start_time": "2025-05-06T16:53:02.072Z"
   },
   {
    "duration": 26,
    "start_time": "2025-05-06T16:53:02.090Z"
   },
   {
    "duration": 35,
    "start_time": "2025-05-06T16:53:02.118Z"
   },
   {
    "duration": 65,
    "start_time": "2025-05-06T16:53:02.155Z"
   },
   {
    "duration": 556,
    "start_time": "2025-05-06T16:53:02.221Z"
   },
   {
    "duration": 18,
    "start_time": "2025-05-06T16:53:02.779Z"
   },
   {
    "duration": 10,
    "start_time": "2025-05-06T16:53:02.800Z"
   },
   {
    "duration": 24,
    "start_time": "2025-05-06T16:53:02.812Z"
   },
   {
    "duration": 111,
    "start_time": "2025-05-06T16:53:02.837Z"
   },
   {
    "duration": 15,
    "start_time": "2025-05-06T16:53:02.950Z"
   },
   {
    "duration": 44,
    "start_time": "2025-05-06T16:53:02.967Z"
   },
   {
    "duration": 88,
    "start_time": "2025-05-06T16:53:03.012Z"
   },
   {
    "duration": 170,
    "start_time": "2025-05-06T16:53:03.102Z"
   },
   {
    "duration": 8,
    "start_time": "2025-05-06T16:53:03.274Z"
   },
   {
    "duration": 231,
    "start_time": "2025-05-06T16:53:03.284Z"
   },
   {
    "duration": 5,
    "start_time": "2025-05-06T16:53:03.516Z"
   },
   {
    "duration": 18,
    "start_time": "2025-05-06T16:53:03.523Z"
   },
   {
    "duration": 164,
    "start_time": "2025-05-06T16:53:03.542Z"
   },
   {
    "duration": 33,
    "start_time": "2025-05-06T16:53:03.708Z"
   },
   {
    "duration": 474,
    "start_time": "2025-05-06T16:53:03.743Z"
   },
   {
    "duration": 5,
    "start_time": "2025-05-06T16:53:04.219Z"
   },
   {
    "duration": 11,
    "start_time": "2025-05-06T16:53:04.235Z"
   },
   {
    "duration": 249,
    "start_time": "2025-05-06T16:53:04.248Z"
   },
   {
    "duration": 238,
    "start_time": "2025-05-06T16:53:04.498Z"
   },
   {
    "duration": 10,
    "start_time": "2025-05-06T16:53:04.739Z"
   },
   {
    "duration": 160,
    "start_time": "2025-05-06T16:53:04.751Z"
   },
   {
    "duration": 13741,
    "start_time": "2025-05-06T16:53:04.913Z"
   },
   {
    "duration": 455,
    "start_time": "2025-05-06T16:53:18.736Z"
   },
   {
    "duration": 28,
    "start_time": "2025-05-06T16:53:19.193Z"
   },
   {
    "duration": 388,
    "start_time": "2025-05-06T16:53:19.235Z"
   },
   {
    "duration": 11,
    "start_time": "2025-05-06T16:53:19.625Z"
   },
   {
    "duration": 145,
    "start_time": "2025-05-06T16:53:19.637Z"
   },
   {
    "duration": 25,
    "start_time": "2025-05-06T16:53:19.784Z"
   },
   {
    "duration": 371,
    "start_time": "2025-05-06T16:53:19.810Z"
   },
   {
    "duration": 23,
    "start_time": "2025-05-06T16:53:20.183Z"
   },
   {
    "duration": 247,
    "start_time": "2025-05-06T16:53:20.207Z"
   },
   {
    "duration": 156,
    "start_time": "2025-05-06T16:57:55.656Z"
   },
   {
    "duration": 150,
    "start_time": "2025-05-06T16:58:10.023Z"
   },
   {
    "duration": 175,
    "start_time": "2025-05-06T16:58:17.321Z"
   },
   {
    "duration": 49,
    "start_time": "2025-05-15T04:11:34.272Z"
   },
   {
    "duration": 8665,
    "start_time": "2025-09-10T09:26:44.994Z"
   },
   {
    "duration": 128,
    "start_time": "2025-09-10T09:26:53.661Z"
   },
   {
    "duration": 48,
    "start_time": "2025-09-10T09:26:53.790Z"
   },
   {
    "duration": 15,
    "start_time": "2025-09-10T09:26:53.840Z"
   },
   {
    "duration": 23,
    "start_time": "2025-09-10T09:26:53.856Z"
   },
   {
    "duration": 34,
    "start_time": "2025-09-10T09:26:53.880Z"
   },
   {
    "duration": 62,
    "start_time": "2025-09-10T09:26:53.916Z"
   },
   {
    "duration": 637,
    "start_time": "2025-09-10T09:26:53.980Z"
   },
   {
    "duration": 16,
    "start_time": "2025-09-10T09:26:54.619Z"
   },
   {
    "duration": 10,
    "start_time": "2025-09-10T09:26:54.637Z"
   },
   {
    "duration": 23,
    "start_time": "2025-09-10T09:26:54.649Z"
   },
   {
    "duration": 16,
    "start_time": "2025-09-10T09:26:54.674Z"
   },
   {
    "duration": 15,
    "start_time": "2025-09-10T09:26:54.692Z"
   },
   {
    "duration": 25,
    "start_time": "2025-09-10T09:26:54.709Z"
   },
   {
    "duration": 6,
    "start_time": "2025-09-10T09:26:54.735Z"
   },
   {
    "duration": 169,
    "start_time": "2025-09-10T09:26:54.743Z"
   },
   {
    "duration": 54,
    "start_time": "2025-09-10T09:26:54.914Z"
   },
   {
    "duration": 196,
    "start_time": "2025-09-10T09:26:54.969Z"
   },
   {
    "duration": 5,
    "start_time": "2025-09-10T09:26:55.167Z"
   },
   {
    "duration": 24,
    "start_time": "2025-09-10T09:26:55.173Z"
   },
   {
    "duration": 164,
    "start_time": "2025-09-10T09:26:55.198Z"
   },
   {
    "duration": 23,
    "start_time": "2025-09-10T09:26:55.364Z"
   },
   {
    "duration": 494,
    "start_time": "2025-09-10T09:26:55.388Z"
   },
   {
    "duration": 5,
    "start_time": "2025-09-10T09:26:55.884Z"
   },
   {
    "duration": 20,
    "start_time": "2025-09-10T09:26:55.891Z"
   },
   {
    "duration": 244,
    "start_time": "2025-09-10T09:26:55.913Z"
   },
   {
    "duration": 235,
    "start_time": "2025-09-10T09:26:56.159Z"
   },
   {
    "duration": 10,
    "start_time": "2025-09-10T09:26:56.403Z"
   },
   {
    "duration": 156,
    "start_time": "2025-09-10T09:26:56.414Z"
   },
   {
    "duration": 9863,
    "start_time": "2025-09-10T09:26:56.571Z"
   },
   {
    "duration": 431,
    "start_time": "2025-09-10T09:27:06.435Z"
   },
   {
    "duration": 36,
    "start_time": "2025-09-10T09:27:06.869Z"
   },
   {
    "duration": 404,
    "start_time": "2025-09-10T09:27:06.907Z"
   },
   {
    "duration": 6,
    "start_time": "2025-09-10T09:27:07.314Z"
   },
   {
    "duration": 280,
    "start_time": "2025-09-10T09:27:07.322Z"
   },
   {
    "duration": 25,
    "start_time": "2025-09-10T09:27:07.604Z"
   },
   {
    "duration": 258,
    "start_time": "2025-09-10T09:27:07.631Z"
   },
   {
    "duration": 30,
    "start_time": "2025-09-10T09:27:07.891Z"
   },
   {
    "duration": 247,
    "start_time": "2025-09-10T09:27:07.923Z"
   }
  ],
  "colab": {
   "provenance": []
  },
  "kernelspec": {
   "display_name": "Python 3 (ipykernel)",
   "language": "python",
   "name": "python3"
  },
  "language_info": {
   "codemirror_mode": {
    "name": "ipython",
    "version": 3
   },
   "file_extension": ".py",
   "mimetype": "text/x-python",
   "name": "python",
   "nbconvert_exporter": "python",
   "pygments_lexer": "ipython3",
   "version": "3.9.5"
  },
  "toc": {
   "base_numbering": 1,
   "nav_menu": {},
   "number_sections": true,
   "sideBar": true,
   "skip_h1_title": true,
   "title_cell": "Table of Contents",
   "title_sidebar": "Contents",
   "toc_cell": false,
   "toc_position": {
    "height": "calc(100% - 180px)",
    "left": "10px",
    "top": "150px",
    "width": "165px"
   },
   "toc_section_display": true,
   "toc_window_display": true
  }
 },
 "nbformat": 4,
 "nbformat_minor": 5
}
