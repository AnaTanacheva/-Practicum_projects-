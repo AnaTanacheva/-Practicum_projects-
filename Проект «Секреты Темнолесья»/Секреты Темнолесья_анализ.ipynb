{
 "cells": [
  {
   "cell_type": "markdown",
   "id": "8b1ebe8b",
   "metadata": {
    "id": "e06910dd"
   },
   "source": [
    "# Анализ данных для статьи об играх\n",
    "\n",
    "- Автор: Анастасия Таначева\n",
    "- Дата: 04.04.2025"
   ]
  },
  {
   "cell_type": "markdown",
   "id": "4149134c",
   "metadata": {
    "id": "4149134c"
   },
   "source": [
    "### Цели и задачи проекта\n",
    "\n",
    "<font color='#777778'>Цель:</font>\n",
    "Изучение развития игровой индустрии за 2000-2013 годы.\n",
    "\n",
    "<font color='#777778'>Задачи:</font>\n",
    "- познакомиться с данными\n",
    "- проверить их корректность\n",
    "- провести предобработку, получив необходимый срез данных\n",
    "- поделиться полученными результатами с коллегами"
   ]
  },
  {
   "cell_type": "markdown",
   "id": "728986ea",
   "metadata": {
    "id": "728986ea"
   },
   "source": [
    "### Описание данных\n",
    "\n",
    "<font color='#777778'>\n",
    "    \n",
    "Данные /datasets/new_games.csv содержат информацию о продажах игр разных жанров и платформ, а также пользовательские и экспертные оценки игр:</font>\n",
    "    \n",
    "- Name — название игры.\n",
    "- Platform — название платформы.\n",
    "- Year of Release — год выпуска игры.\n",
    "- Genre — жанр игры.\n",
    "- NA sales — продажи в Северной Америке (в миллионах проданных копий).\n",
    "- EU sales — продажи в Европе (в миллионах проданных копий).\n",
    "- JP sales — продажи в Японии (в миллионах проданных копий).\n",
    "- Other sales — продажи в других странах (в миллионах проданных копий).\n",
    "- Critic Score — оценка критиков (от 0 до 100).\n",
    "- User Score — оценка пользователей (от 0 до 10).\n",
    "- Rating — рейтинг организации ESRB (англ. Entertainment Software Rating Board). Эта ассоциация определяет рейтинг компьютерных игр и присваивает им подходящую возрастную категорию."
   ]
  },
  {
   "cell_type": "markdown",
   "id": "4fecaf95",
   "metadata": {
    "id": "4fecaf95"
   },
   "source": [
    "### Содержимое проекта\n",
    "\n",
    "- загрузка данных и знакомство с ними\n",
    "- преобработка данных\n",
    "- фильтрация данных\n",
    "- категоризация данных"
   ]
  },
  {
   "cell_type": "markdown",
   "id": "6f7d21d6",
   "metadata": {
    "id": "6f7d21d6"
   },
   "source": [
    "### Загрузка данных и знакомство с ними\n",
    "\n",
    "- Загрузите необходимые библиотеки Python и данные датасета `/datasets/new_games.csv`.\n"
   ]
  },
  {
   "cell_type": "code",
   "execution_count": 1,
   "id": "f3664602",
   "metadata": {
    "id": "3937acf7"
   },
   "outputs": [],
   "source": [
    "import pandas as pd"
   ]
  },
  {
   "cell_type": "code",
   "execution_count": 2,
   "id": "e7ee39c2",
   "metadata": {
    "id": "3937acf7"
   },
   "outputs": [
    {
     "name": "stdout",
     "output_type": "stream",
     "text": [
      "                                Name Platform  Year of Release         Genre  \\\n",
      "0                         Wii Sports      Wii           2006.0        Sports   \n",
      "1                  Super Mario Bros.      NES           1985.0      Platform   \n",
      "2                     Mario Kart Wii      Wii           2008.0        Racing   \n",
      "3                  Wii Sports Resort      Wii           2009.0        Sports   \n",
      "4           Pokemon Red/Pokemon Blue       GB           1996.0  Role-Playing   \n",
      "...                              ...      ...              ...           ...   \n",
      "16951  Samurai Warriors: Sanada Maru      PS3           2016.0        Action   \n",
      "16952               LMA Manager 2007     X360           2006.0        Sports   \n",
      "16953        Haitaka no Psychedelica      PSV           2016.0     Adventure   \n",
      "16954               Spirits & Spells      GBA           2003.0      Platform   \n",
      "16955            Winning Post 8 2016      PSV           2016.0    Simulation   \n",
      "\n",
      "       NA sales EU sales JP sales  Other sales  Critic Score User Score Rating  \n",
      "0         41.36    28.96     3.77         8.45          76.0          8      E  \n",
      "1         29.08     3.58     6.81         0.77           NaN        NaN    NaN  \n",
      "2         15.68    12.76     3.79         3.29          82.0        8.3      E  \n",
      "3         15.61    10.93     3.28         2.95          80.0          8      E  \n",
      "4         11.27     8.89    10.22         1.00           NaN        NaN    NaN  \n",
      "...         ...      ...      ...          ...           ...        ...    ...  \n",
      "16951      0.00      0.0     0.01         0.00           NaN        NaN    NaN  \n",
      "16952      0.00     0.01      0.0         0.00           NaN        NaN    NaN  \n",
      "16953      0.00      0.0     0.01         0.00           NaN        NaN    NaN  \n",
      "16954      0.01      0.0      0.0         0.00           NaN        NaN    NaN  \n",
      "16955      0.00      0.0     0.01         0.00           NaN        NaN    NaN  \n",
      "\n",
      "[16956 rows x 11 columns]\n"
     ]
    }
   ],
   "source": [
    "a = pd.read_csv('https://code.s3.yandex.net/datasets/new_games.csv')\n",
    "df = a\n",
    "\n",
    "print(df)"
   ]
  },
  {
   "cell_type": "code",
   "execution_count": 3,
   "id": "dde8ff0f",
   "metadata": {
    "id": "3937acf7"
   },
   "outputs": [
    {
     "name": "stdout",
     "output_type": "stream",
     "text": [
      "<class 'pandas.core.frame.DataFrame'>\n",
      "RangeIndex: 16956 entries, 0 to 16955\n",
      "Data columns (total 11 columns):\n",
      " #   Column           Non-Null Count  Dtype  \n",
      "---  ------           --------------  -----  \n",
      " 0   Name             16954 non-null  object \n",
      " 1   Platform         16956 non-null  object \n",
      " 2   Year of Release  16681 non-null  float64\n",
      " 3   Genre            16954 non-null  object \n",
      " 4   NA sales         16956 non-null  float64\n",
      " 5   EU sales         16956 non-null  object \n",
      " 6   JP sales         16956 non-null  object \n",
      " 7   Other sales      16956 non-null  float64\n",
      " 8   Critic Score     8242 non-null   float64\n",
      " 9   User Score       10152 non-null  object \n",
      " 10  Rating           10085 non-null  object \n",
      "dtypes: float64(4), object(7)\n",
      "memory usage: 1.4+ MB\n",
      "None\n"
     ]
    }
   ],
   "source": [
    "print(df.info())"
   ]
  },
  {
   "cell_type": "markdown",
   "id": "bcde7441",
   "metadata": {
    "id": "fc561cac"
   },
   "source": [
    "### Проанализировав предоставленный фрагмент данных, можно сделать следующие выводы:\n",
    "\n",
    "<font color='#777778'>Объём данных:</font> в предоставленном датасете содержится 16956 строк и 11 столбцов. На мой взгляд, это хороший объем, который позволит провести статистический анализ и выявить некоторые закономерности. \n",
    "\n",
    "<font color='#777778'>Соответствие описания содержанию:</font> названия столбцов в целом соответствуют содержанию:\n",
    "- Name: название игры\n",
    "- Platform: платформа, на которой выпущена игра\n",
    "- Year of Release: год выпуска\n",
    "- Genre: жанр игры\n",
    "- NA_sales: продажи в Северной Америке\n",
    "- EU_sales: продажи в Европе\n",
    "- JP_sales: продажи в Японии\n",
    "- Other_sales: продажи в других регионах\n",
    "- Critic_Score: оценка критиков\n",
    "- User_Score: оценка пользователей\n",
    "- Rating: возрастной рейтинг\n",
    "\n",
    "<font color='#777778'>Пропуски:</font> в данных явно присутствуют пропуски. Особенно много их в столбцах Critic_Score, User_Score и Rating. Также вероятно наличие пропусков в столбце Year of Release, который содержит значения типа float.\n",
    "\n",
    "<font color='#777778'>Типы данных:</font>\n",
    "- Year of Release имеет тип float, что несколько не логично для года. Год должен быть целочисленным значением (int). Это может указывать на пропуски, представленные как NaN (которые приводят к типу float).\n",
    "- User_Score имеет тип object, что может указывать на смешанные типы данных в столбце (например, числовые значения и строковые).\n",
    "\n",
    "<font color='#777778'>Особенности данных и предобработка:</font>\n",
    "\n",
    "1. Названия столбцов: названия столбцов хорошо отражают суть данных.\n",
    "2. Пропуски: обработка пропусков критически важна. Необходимо решить, как их заполнить (например, средним, или медианой, или модой) или удалить строки с пропусками. \n",
    "3. Тип данных Year of Release: необходимо привести тип данных в этом столбце к целочисленному (int) после обработки пропусков.\n",
    "4. Тип данных User_Score: необходимо привести тип данных в этом столбце к числу с плавающей запятой (float).\n",
    "5. Дубликаты: стоит проверить данные на наличие явных и неявных дубликатов строк, которые могут исказить результаты анализа."
   ]
  },
  {
   "cell_type": "markdown",
   "id": "774bf76e",
   "metadata": {
    "id": "774bf76e"
   },
   "source": [
    "---\n",
    "\n",
    "## 2.  Проверка ошибок в данных и их предобработка\n",
    "\n",
    "\n",
    "### Названия, или метки, столбцов датафрейма\n",
    "\n",
    "- Выведите на экран названия всех столбцов датафрейма и проверьте их стиль написания.\n",
    "- Приведите все столбцы к стилю snake case. Названия должны быть в нижнем регистре, а вместо пробелов — подчёркивания."
   ]
  },
  {
   "cell_type": "code",
   "execution_count": 4,
   "id": "b9276a2b",
   "metadata": {
    "id": "b9276a2b"
   },
   "outputs": [
    {
     "name": "stdout",
     "output_type": "stream",
     "text": [
      "Исходные названия столбцов:\n",
      "Index(['Name', 'Platform', 'Year of Release', 'Genre', 'NA sales', 'EU sales',\n",
      "       'JP sales', 'Other sales', 'Critic Score', 'User Score', 'Rating'],\n",
      "      dtype='object')\n",
      "\n",
      "Обновленные названия столбцов:\n",
      "Index(['name', 'platform', 'year_of_release', 'genre', 'na_sales', 'eu_sales',\n",
      "       'jp_sales', 'other_sales', 'critic_score', 'user_score', 'rating'],\n",
      "      dtype='object')\n"
     ]
    }
   ],
   "source": [
    "# 1. Выведем исходные названия столбцов\n",
    "print(\"Исходные названия столбцов:\")\n",
    "print(df.columns)\n",
    "\n",
    "# 2. Приведем столбцы к стилю snake_case\n",
    "def to_snake_case(name):\n",
    "    return name.lower().replace(' ', '_')\n",
    "\n",
    "# 3. Применим функцию к столбцам\n",
    "df.columns = [to_snake_case(col) for col in df.columns]\n",
    "\n",
    "# 4. Выведем новые названия столбцов\n",
    "print(\"\\nОбновленные названия столбцов:\")\n",
    "print(df.columns)\n"
   ]
  },
  {
   "cell_type": "markdown",
   "id": "41bc6bf8",
   "metadata": {
    "id": "41bc6bf8"
   },
   "source": [
    "### Типы данных\n",
    "\n",
    "- Если встречаются некорректные типы данных, предположите их причины.\n",
    "- При необходимости проведите преобразование типов данных. Помните, что столбцы с числовыми данными и пропусками нельзя преобразовать к типу `int64`. Сначала вам понадобится обработать пропуски, а затем преобразовать типы данных."
   ]
  },
  {
   "cell_type": "code",
   "execution_count": 5,
   "id": "8adaac81",
   "metadata": {
    "id": "8adaac81"
   },
   "outputs": [
    {
     "name": "stdout",
     "output_type": "stream",
     "text": [
      "<class 'pandas.core.frame.DataFrame'>\n",
      "RangeIndex: 16956 entries, 0 to 16955\n",
      "Data columns (total 11 columns):\n",
      " #   Column           Non-Null Count  Dtype  \n",
      "---  ------           --------------  -----  \n",
      " 0   name             16954 non-null  object \n",
      " 1   platform         16956 non-null  object \n",
      " 2   year_of_release  16681 non-null  float64\n",
      " 3   genre            16954 non-null  object \n",
      " 4   na_sales         16956 non-null  float64\n",
      " 5   eu_sales         16950 non-null  float64\n",
      " 6   jp_sales         16952 non-null  float64\n",
      " 7   other_sales      16956 non-null  float64\n",
      " 8   critic_score     8242 non-null   float64\n",
      " 9   user_score       7688 non-null   float64\n",
      " 10  rating           10085 non-null  object \n",
      "dtypes: float64(7), object(4)\n",
      "memory usage: 1.4+ MB\n",
      "None\n"
     ]
    }
   ],
   "source": [
    "df['eu_sales'] = pd.to_numeric(df['eu_sales'], errors = 'coerce').astype('float64')\n",
    "df['jp_sales'] = pd.to_numeric(df['jp_sales'], errors = 'coerce').astype('float64')\n",
    "df['user_score'] = pd.to_numeric(df['user_score'], errors = 'coerce').astype('float64')\n",
    "\n",
    "print(df.info())"
   ]
  },
  {
   "cell_type": "markdown",
   "id": "4ab9df9e",
   "metadata": {
    "id": "e8412c01"
   },
   "source": [
    "### Наличие пропусков в данных\n",
    "\n",
    "- Посчитайте количество пропусков в каждом столбце в абсолютных и относительных значениях."
   ]
  },
  {
   "cell_type": "code",
   "execution_count": 6,
   "id": "009585fa",
   "metadata": {
    "id": "3a26fb26"
   },
   "outputs": [
    {
     "name": "stdout",
     "output_type": "stream",
     "text": [
      "                 Абсолютное число пропусков  Относительное число пропусков (%)\n",
      "name                                      2                           0.011795\n",
      "platform                                  0                           0.000000\n",
      "year_of_release                         275                           1.621845\n",
      "genre                                     2                           0.011795\n",
      "na_sales                                  0                           0.000000\n",
      "eu_sales                                  6                           0.035386\n",
      "jp_sales                                  4                           0.023590\n",
      "other_sales                               0                           0.000000\n",
      "critic_score                           8714                          51.391838\n",
      "user_score                             9268                          54.659118\n",
      "rating                                 6871                          40.522529\n"
     ]
    }
   ],
   "source": [
    "param_param = pd.DataFrame({\n",
    "    'Абсолютное число пропусков': df.isna().sum(),\n",
    "    'Относительное число пропусков (%)': df.isna().sum() / len(df) * 100\n",
    "})\n",
    "\n",
    "print(param_param)"
   ]
  },
  {
   "cell_type": "markdown",
   "id": "4fee1bdf",
   "metadata": {
    "id": "bd69e642"
   },
   "source": [
    "###### Краткий вывод:\n",
    "- Как видно из выведенных данных, пропуски характерны для столбцов critic_score (8714 пропусков или 51,39%), user_score (9268 пропусков или 54,66%) и rating (6871 пропусков или 40,52%). Помимо этого, изначально было 275 пропусков в столбце year_of_release, но мы их предварительно обработали, чтобы преобразовать к нужному типу данных. В трех последних из перечисленных столбцов (critic_score, user_score, rating) количество пропусков значительно. Просто удалять их нельзя, это может серьезно сказать на качестве анализа. Стоит заменить пропуски медианным или средним значением, как и будет сделано далее.  \n",
    "\n",
    "- Как мне кажется, пропуски могли возникнуть из-за того, что некоторые критики и пользователи не стали выставлять оценки, поскольку могли не увидеть формы для выставления оценок или не захотели этого делать. В любом случае, пропуски нужно обработать, чем мы и займемся дальше:)  "
   ]
  },
  {
   "cell_type": "markdown",
   "id": "336413d0",
   "metadata": {
    "id": "b6965b19"
   },
   "source": [
    "### Обработайте пропущенные значения. Для каждого случая вы можете выбрать оптимальный, на ваш взгляд, вариант: заменить на определённое значение, оставить как есть или удалить."
   ]
  },
  {
   "cell_type": "code",
   "execution_count": 7,
   "id": "154be65d",
   "metadata": {
    "id": "154be65d"
   },
   "outputs": [
    {
     "name": "stdout",
     "output_type": "stream",
     "text": [
      "                                name platform  year_of_release         genre  \\\n",
      "0                         Wii Sports      Wii           2006.0        Sports   \n",
      "1                  Super Mario Bros.      NES           1985.0      Platform   \n",
      "2                     Mario Kart Wii      Wii           2008.0        Racing   \n",
      "3                  Wii Sports Resort      Wii           2009.0        Sports   \n",
      "4           Pokemon Red/Pokemon Blue       GB           1996.0  Role-Playing   \n",
      "...                              ...      ...              ...           ...   \n",
      "16951  Samurai Warriors: Sanada Maru      PS3           2016.0        Action   \n",
      "16952               LMA Manager 2007     X360           2006.0        Sports   \n",
      "16953        Haitaka no Psychedelica      PSV           2016.0     Adventure   \n",
      "16954               Spirits & Spells      GBA           2003.0      Platform   \n",
      "16955            Winning Post 8 2016      PSV           2016.0    Simulation   \n",
      "\n",
      "       na_sales  eu_sales  jp_sales  other_sales  critic_score  user_score  \\\n",
      "0         41.36     28.96      3.77         8.45          76.0         8.0   \n",
      "1         29.08      3.58      6.81         0.77          71.0         7.5   \n",
      "2         15.68     12.76      3.79         3.29          82.0         8.3   \n",
      "3         15.61     10.93      3.28         2.95          80.0         8.0   \n",
      "4         11.27      8.89     10.22         1.00          71.0         7.5   \n",
      "...         ...       ...       ...          ...           ...         ...   \n",
      "16951      0.00      0.00      0.01         0.00          71.0         7.5   \n",
      "16952      0.00      0.01      0.00         0.00          71.0         7.5   \n",
      "16953      0.00      0.00      0.01         0.00          71.0         7.5   \n",
      "16954      0.01      0.00      0.00         0.00          71.0         7.5   \n",
      "16955      0.00      0.00      0.01         0.00          71.0         7.5   \n",
      "\n",
      "      rating  \n",
      "0          E  \n",
      "1        NaN  \n",
      "2          E  \n",
      "3          E  \n",
      "4        NaN  \n",
      "...      ...  \n",
      "16951    NaN  \n",
      "16952    NaN  \n",
      "16953    NaN  \n",
      "16954    NaN  \n",
      "16955    NaN  \n",
      "\n",
      "[16956 rows x 11 columns]\n"
     ]
    }
   ],
   "source": [
    "df = df.fillna({'critic_score': df['critic_score'].median(), 'user_score': df['user_score'].median()})\n",
    "\n",
    "print(df)"
   ]
  },
  {
   "cell_type": "markdown",
   "id": "4bbe2f58",
   "metadata": {
    "id": "a63363fd"
   },
   "source": [
    "### 2.4. Явные и неявные дубликаты в данных\n",
    "\n",
    "- Изучите уникальные значения в категориальных данных, например с названиями жанра игры, платформы, рейтинга и года выпуска. Проверьте, встречаются ли среди данных неявные дубликаты, связанные с опечатками или разным способом написания.\n",
    "- При необходимости проведите нормализацию данных с текстовыми значениями. Названия или жанры игр можно привести к нижнему регистру, а названия рейтинга — к верхнему."
   ]
  },
  {
   "cell_type": "code",
   "execution_count": 8,
   "id": "491c9c39",
   "metadata": {
    "id": "491c9c39"
   },
   "outputs": [
    {
     "name": "stdout",
     "output_type": "stream",
     "text": [
      "Уникальные жанры: ['sports', 'platform', 'racing', 'role-playing', 'puzzle', 'misc', 'shooter', 'simulation', 'action', 'fighting', 'adventure', 'strategy', nan, 'misc', 'role-playing', 'racing', 'action', 'shooter', 'fighting', 'sports', 'platform', 'adventure', 'simulation', 'puzzle', 'strategy']\n",
      "Число уникальных жанров: 24\n",
      "\n",
      "Уникальные значения рейтинга: ['E' nan 'M' 'T' 'E10+' 'K-A' 'AO' 'EC' 'RP']\n",
      "Число уникальных платформ: 8\n",
      "\n",
      "Уникальные платформы: ['Wii' 'NES' 'GB' 'DS' 'X360' 'PS3' 'PS2' 'SNES' 'GBA' 'PS4' '3DS' 'N64'\n",
      " 'PS' 'XB' 'PC' '2600' 'PSP' 'XOne' 'WiiU' 'GC' 'GEN' 'DC' 'PSV' 'SAT'\n",
      " 'SCD' 'WS' 'NG' 'TG16' '3DO' 'GG' 'PCFX']\n",
      "Число уникальных платформов: 31\n",
      "\n",
      "Уникальные года выпуска: [2006. 1985. 2008. 2009. 1996. 1989. 1984. 2005. 1999. 2007. 2010. 2013.\n",
      " 2004. 1990. 1988. 2002. 2001. 2011. 1998. 2015. 2012. 2014. 1992. 1997.\n",
      " 1993. 1994. 1982. 2016. 2003. 1986. 2000.   nan 1995. 1991. 1981. 1987.\n",
      " 1980. 1983.]\n",
      "Число уникальных годов выпуска: 37\n"
     ]
    }
   ],
   "source": [
    "# Применяем метод unique() к столбцу name\n",
    "unique_genres = df['genre'].unique()\n",
    "unique_genres = [genre.lower() if isinstance(genre, str) else genre for genre in unique_genres]\n",
    "unique_genres_1 = df['genre'].nunique()\n",
    "\n",
    "unique_rating = df['rating'].unique()\n",
    "unique_rating_1 = df['rating'].nunique()\n",
    "unique_platforms = df['platform'].unique()\n",
    "unique_platforms_1 = df['platform'].nunique()\n",
    "unique_year_of_release = df['year_of_release'].unique()\n",
    "unique_year_of_release_1 = df['year_of_release'].nunique()\n",
    "\n",
    "# Выводим результат\n",
    "print(f'Уникальные жанры: {unique_genres}')\n",
    "print(f'Число уникальных жанров: {unique_genres_1}')\n",
    "print() # Пустая строка для пробела\n",
    "print(f'Уникальные значения рейтинга: {unique_rating}')\n",
    "print(f'Число уникальных платформ: {unique_rating_1}')\n",
    "print() # Пустая строка для пробела\n",
    "print(f'Уникальные платформы: {unique_platforms}')\n",
    "print(f'Число уникальных платформов: {unique_platforms_1}')\n",
    "print() # Пустая строка для пробела\n",
    "print(f'Уникальные года выпуска: {unique_year_of_release}')\n",
    "print(f'Число уникальных годов выпуска: {unique_year_of_release_1}')\n"
   ]
  },
  {
   "cell_type": "markdown",
   "id": "cece3d36",
   "metadata": {
    "id": "f1627198"
   },
   "source": [
    "- После того как нормализуете данные и устраните неявные дубликаты, проверьте наличие явных дубликатов в данных."
   ]
  },
  {
   "cell_type": "code",
   "execution_count": 9,
   "id": "fc5c91b5",
   "metadata": {
    "id": "fc5c91b5"
   },
   "outputs": [
    {
     "name": "stdout",
     "output_type": "stream",
     "text": [
      "Количество строк до удаления дубликатов: 16956\n",
      "Дублирующиеся строки:\n",
      "                                                name platform  \\\n",
      "268                            Batman: Arkham Asylum      PS3   \n",
      "368                 James Bond 007: Agent Under Fire      PS2   \n",
      "717                            God of War: Ascension      PS3   \n",
      "848                  Rayman Raving Rabbids: TV Party      Wii   \n",
      "963                                       Diablo III      PS4   \n",
      "...                                              ...      ...   \n",
      "16543             Bunmei Kaika: Aoiza Ibunroku Saien      PSP   \n",
      "16671        Fullmetal Alchemist: Prince of the Dawn      Wii   \n",
      "16799                            Transformers: Prime      Wii   \n",
      "16912  Metal Gear Solid V: The Definitive Experience     XOne   \n",
      "16940                          The Longest 5 Minutes      PSV   \n",
      "\n",
      "       year_of_release         genre  na_sales  eu_sales  jp_sales  \\\n",
      "268             2009.0        Action      2.24      1.31      0.07   \n",
      "368             2001.0       Shooter      1.90      1.13      0.10   \n",
      "717             2013.0        Action      1.23      0.63      0.04   \n",
      "848             2008.0          Misc      0.72      1.08      0.00   \n",
      "963             2014.0  Role-Playing      0.51      0.98      0.06   \n",
      "...                ...           ...       ...       ...       ...   \n",
      "16543           2012.0        Action      0.00      0.00      0.01   \n",
      "16671           2009.0     Adventure      0.00      0.00      0.01   \n",
      "16799           2012.0        Action      0.00      0.01      0.00   \n",
      "16912           2016.0        Action      0.01      0.00      0.00   \n",
      "16940           2016.0        Action      0.00      0.00      0.01   \n",
      "\n",
      "       other_sales  critic_score  user_score rating  \n",
      "268           0.61          91.0         8.9      T  \n",
      "368           0.41          72.0         7.9      T  \n",
      "717           0.35          80.0         7.5      M  \n",
      "848           0.23          73.0         7.7   E10+  \n",
      "963           0.28          71.0         7.5      M  \n",
      "...            ...           ...         ...    ...  \n",
      "16543         0.00          71.0         7.5    NaN  \n",
      "16671         0.00          71.0         7.5    NaN  \n",
      "16799         0.00          71.0         7.5    NaN  \n",
      "16912         0.00          71.0         7.5      M  \n",
      "16940         0.00          71.0         7.5    NaN  \n",
      "\n",
      "[182 rows x 11 columns]\n",
      "Количество строк после удаления дубликатов: 16774\n"
     ]
    }
   ],
   "source": [
    "# Определяем количество строк до удаления дубликатов\n",
    "initial_row_count = len(df)\n",
    "print(f'Количество строк до удаления дубликатов: {initial_row_count}')\n",
    "\n",
    "# Находим дублирующиеся строки\n",
    "duplicates = df[df.duplicated()]\n",
    "print(\"Дублирующиеся строки:\")\n",
    "print(duplicates)\n",
    "\n",
    "# Удаляем дублирующиеся строки\n",
    "games_cleaned = df.drop_duplicates()\n",
    "\n",
    "# Определяем количество строк после удаления дубликатов\n",
    "final_row_count = len(games_cleaned)\n",
    "print(f'Количество строк после удаления дубликатов: {final_row_count}')\n"
   ]
  },
  {
   "cell_type": "markdown",
   "id": "54616bae",
   "metadata": {
    "id": "54616bae"
   },
   "source": [
    "- Напишите промежуточный вывод: укажите количество найденных дубликатов и действия по их обработке."
   ]
  },
  {
   "cell_type": "markdown",
   "id": "62fb63f4",
   "metadata": {
    "id": "8548f894"
   },
   "source": [
    "###### Промежуточный вывод:\n",
    "\n",
    "- Количество найденных дубликатов: в датасете было обнаружено 182 дублирующиеся строки. Их было решено удалить, так как необходимо корректно проанализировать данные. \n",
    "- Изучив для начала уникальные значения, мы посчитали общее количество строк, выявили неявные и явные дубликаты, затем удалили их. После удаления дубликатов в датасете осталось 16774 строки."
   ]
  },
  {
   "cell_type": "markdown",
   "id": "ea99b3a8",
   "metadata": {
    "id": "72645ae9"
   },
   "source": [
    "- В процессе подготовки данных вы могли что-либо удалять, например строки с пропусками или ошибками, дубликаты и прочее. В этом случае посчитайте количество удалённых строк в абсолютном и относительном значениях."
   ]
  },
  {
   "cell_type": "code",
   "execution_count": 10,
   "id": "f9d8ee19",
   "metadata": {
    "id": "f9d8ee19"
   },
   "outputs": [
    {
     "name": "stdout",
     "output_type": "stream",
     "text": [
      "Абсолютное количество удаленных дубликатов: 182\n",
      "Относительное количество удаленных дубликатов:  1.07\n"
     ]
    }
   ],
   "source": [
    "# Определяем количество строк до удаления дубликатов\n",
    "initial_count = len(df)\n",
    "\n",
    "# Удаляем дублирующиеся строки\n",
    "games_cleaned = df.drop_duplicates()\n",
    "\n",
    "# Сохраняем количество строк после удаления\n",
    "games_cleaned_1 = len(games_cleaned)\n",
    "\n",
    "# Вычисляем количество удаленных дубликатов\n",
    "final_row_count = initial_count - games_cleaned_1\n",
    "\n",
    "# Вычисляем относительное число удаленных дубликатов\n",
    "relative_removed = (final_row_count/initial_count) * 100\n",
    "\n",
    "print(f'Абсолютное количество удаленных дубликатов: {final_row_count}')\n",
    "print(f'Относительное количество удаленных дубликатов: {relative_removed: .2f}')"
   ]
  },
  {
   "cell_type": "markdown",
   "id": "64a7cc44",
   "metadata": {
    "id": "5166fdf8"
   },
   "source": [
    "###### Общий промежуточный вывод\n",
    "- Привели данные к соответствующим типам и сразу заполнили пропуски в столбце year_of_release, чтобы привести его к типу int64. Пропуски в этом столбце были заполнены медианным значением.\n",
    "- Обнаружили в столбцах critic_score,user_score, rating довольно большое количество пропусков, которые было решено заменить медианным значением, поскольку оно более точное и близкое к имеющимся данным.\n",
    "- Выявили явные и неявные дубликаты, которых получилось 182, их было решено удалить для корректного анализа."
   ]
  },
  {
   "cell_type": "markdown",
   "id": "613f0eb0",
   "metadata": {
    "id": "613f0eb0"
   },
   "source": [
    "---\n",
    "\n",
    "## 3. Фильтрация данных\n",
    "\n",
    "Коллеги хотят изучить историю продаж игр в начале XXI века, и их интересует период с 2000 по 2013 год включительно. Отберите данные по этому показателю. Сохраните новый срез данных в отдельном датафрейме, например `df_actual`."
   ]
  },
  {
   "cell_type": "code",
   "execution_count": 11,
   "id": "44d7529f",
   "metadata": {
    "id": "44d7529f"
   },
   "outputs": [
    {
     "name": "stdout",
     "output_type": "stream",
     "text": [
      "                                                   name platform  \\\n",
      "0                                            Wii Sports      Wii   \n",
      "2                                        Mario Kart Wii      Wii   \n",
      "3                                     Wii Sports Resort      Wii   \n",
      "6                                 New Super Mario Bros.       DS   \n",
      "7                                              Wii Play      Wii   \n",
      "...                                                 ...      ...   \n",
      "16947                     Men in Black II: Alien Escape       GC   \n",
      "16949                Woody Woodpecker in Crazy Castle 5      GBA   \n",
      "16950  SCORE International Baja 1000: The Official Game      PS2   \n",
      "16952                                  LMA Manager 2007     X360   \n",
      "16954                                  Spirits & Spells      GBA   \n",
      "\n",
      "       year_of_release     genre  na_sales  eu_sales  jp_sales  other_sales  \\\n",
      "0               2006.0    Sports     41.36     28.96      3.77         8.45   \n",
      "2               2008.0    Racing     15.68     12.76      3.79         3.29   \n",
      "3               2009.0    Sports     15.61     10.93      3.28         2.95   \n",
      "6               2006.0  Platform     11.28      9.14      6.50         2.88   \n",
      "7               2006.0      Misc     13.96      9.18      2.93         2.84   \n",
      "...                ...       ...       ...       ...       ...          ...   \n",
      "16947           2003.0   Shooter      0.01      0.00      0.00         0.00   \n",
      "16949           2002.0  Platform      0.01      0.00      0.00         0.00   \n",
      "16950           2008.0    Racing      0.00      0.00      0.00         0.00   \n",
      "16952           2006.0    Sports      0.00      0.01      0.00         0.00   \n",
      "16954           2003.0  Platform      0.01      0.00      0.00         0.00   \n",
      "\n",
      "       critic_score  user_score rating  \n",
      "0              76.0         8.0      E  \n",
      "2              82.0         8.3      E  \n",
      "3              80.0         8.0      E  \n",
      "6              89.0         8.5      E  \n",
      "7              58.0         6.6      E  \n",
      "...             ...         ...    ...  \n",
      "16947          71.0         7.5      T  \n",
      "16949          71.0         7.5    NaN  \n",
      "16950          71.0         7.5    NaN  \n",
      "16952          71.0         7.5    NaN  \n",
      "16954          71.0         7.5    NaN  \n",
      "\n",
      "[12980 rows x 11 columns]\n"
     ]
    }
   ],
   "source": [
    "df_actual = df[(df['year_of_release'] >= 2000) & (df['year_of_release'] <= 2013)]\n",
    "\n",
    "print(df_actual)"
   ]
  },
  {
   "cell_type": "markdown",
   "id": "a6f10b01",
   "metadata": {
    "id": "a6f10b01"
   },
   "source": [
    "---\n",
    "\n",
    "## 4. Категоризация данных\n",
    "    \n",
    "Проведите категоризацию данных:\n",
    "- Разделите все игры по оценкам пользователей и выделите такие категории: высокая оценка (от 8 до 10 включительно), средняя оценка (от 3 до 8, не включая правую границу интервала) и низкая оценка (от 0 до 3, не включая правую границу интервала)."
   ]
  },
  {
   "cell_type": "markdown",
   "id": "f8f34b40",
   "metadata": {
    "id": "f8f34b40"
   },
   "source": [
    "- Разделите все игры по оценкам критиков и выделите такие категории: высокая оценка (от 80 до 100 включительно), средняя оценка (от 30 до 80, не включая правую границу интервала) и низкая оценка (от 0 до 30, не включая правую границу интервала)."
   ]
  },
  {
   "cell_type": "code",
   "execution_count": 12,
   "id": "e3f7acb0",
   "metadata": {
    "id": "e3f7acb0",
    "scrolled": false
   },
   "outputs": [
    {
     "name": "stdout",
     "output_type": "stream",
     "text": [
      "                                                   name platform  \\\n",
      "0                                            Wii Sports      Wii   \n",
      "2                                        Mario Kart Wii      Wii   \n",
      "3                                     Wii Sports Resort      Wii   \n",
      "6                                 New Super Mario Bros.       DS   \n",
      "7                                              Wii Play      Wii   \n",
      "...                                                 ...      ...   \n",
      "16947                     Men in Black II: Alien Escape       GC   \n",
      "16949                Woody Woodpecker in Crazy Castle 5      GBA   \n",
      "16950  SCORE International Baja 1000: The Official Game      PS2   \n",
      "16952                                  LMA Manager 2007     X360   \n",
      "16954                                  Spirits & Spells      GBA   \n",
      "\n",
      "       year_of_release     genre  na_sales  eu_sales  jp_sales  other_sales  \\\n",
      "0               2006.0    Sports     41.36     28.96      3.77         8.45   \n",
      "2               2008.0    Racing     15.68     12.76      3.79         3.29   \n",
      "3               2009.0    Sports     15.61     10.93      3.28         2.95   \n",
      "6               2006.0  Platform     11.28      9.14      6.50         2.88   \n",
      "7               2006.0      Misc     13.96      9.18      2.93         2.84   \n",
      "...                ...       ...       ...       ...       ...          ...   \n",
      "16947           2003.0   Shooter      0.01      0.00      0.00         0.00   \n",
      "16949           2002.0  Platform      0.01      0.00      0.00         0.00   \n",
      "16950           2008.0    Racing      0.00      0.00      0.00         0.00   \n",
      "16952           2006.0    Sports      0.00      0.01      0.00         0.00   \n",
      "16954           2003.0  Platform      0.01      0.00      0.00         0.00   \n",
      "\n",
      "       critic_score  user_score rating  \n",
      "0              76.0         8.0      E  \n",
      "2              82.0         8.3      E  \n",
      "3              80.0         8.0      E  \n",
      "6              89.0         8.5      E  \n",
      "7              58.0         6.6      E  \n",
      "...             ...         ...    ...  \n",
      "16947          71.0         7.5      T  \n",
      "16949          71.0         7.5    NaN  \n",
      "16950          71.0         7.5    NaN  \n",
      "16952          71.0         7.5    NaN  \n",
      "16954          71.0         7.5    NaN  \n",
      "\n",
      "[12980 rows x 11 columns]\n"
     ]
    }
   ],
   "source": [
    "def categorize_score(score):\n",
    "    if pd.isna(score): # Проверка на NaN или другие пропущенные значения\n",
    "        return 'нет оценки'\n",
    "    elif 8 <= score <= 10 or 80 <= score <= 100:\n",
    "        return 'высокая оценка'\n",
    "    elif 3 <= score < 8 or 30 <= score < 80:\n",
    "        return 'средняя оценка'\n",
    "    elif 0 <= score < 3 or 0 <= score < 30:\n",
    "        return 'низкая оценка'\n",
    "    else:\n",
    "        return 'нет оценки'\n",
    "\n",
    "\n",
    "df['critic_score'] = pd.to_numeric(df['critic_score'], errors='coerce') # Преобразуем в числа, нечисловые значения станут NaN\n",
    "df['user_score'] = pd.to_numeric(df['user_score'], errors='coerce')\n",
    "\n",
    "df['critic_score_category'] = df['critic_score'].apply(categorize_score)\n",
    "df['user_score_category'] = df['user_score'].apply(categorize_score)\n",
    "\n",
    "print(df_actual)"
   ]
  },
  {
   "cell_type": "markdown",
   "id": "olkTlTlAUDR9",
   "metadata": {
    "id": "olkTlTlAUDR9"
   },
   "source": [
    "- После категоризации данных проверьте результат: сгруппируйте данные по выделенным категориям и посчитайте количество игр в каждой категории."
   ]
  },
  {
   "cell_type": "code",
   "execution_count": 13,
   "id": "HW0Nsp-4UMSL",
   "metadata": {
    "id": "HW0Nsp-4UMSL",
    "scrolled": false
   },
   "outputs": [
    {
     "name": "stdout",
     "output_type": "stream",
     "text": [
      "Количество игр по категориям оценок критиков:\n",
      "critic_score_category\n",
      "высокая оценка     2033\n",
      "низкая оценка        62\n",
      "средняя оценка    14859\n",
      "Name: name, dtype: int64\n",
      "\n",
      "Количество игр по категориям оценок пользователей:\n",
      "user_score_category\n",
      "высокая оценка     2610\n",
      "низкая оценка       146\n",
      "средняя оценка    14198\n",
      "Name: name, dtype: int64\n"
     ]
    }
   ],
   "source": [
    "# Группируем данные по категориям оценок критиков и считаем количество игр\n",
    "critic_score_counts = df.groupby('critic_score_category')['name'].count()\n",
    "\n",
    "# Группируем данные по категориям оценок пользователей и считаем количество игр\n",
    "user_score_counts = df.groupby('user_score_category')['name'].count()\n",
    "\n",
    "print(\"Количество игр по категориям оценок критиков:\")\n",
    "print(critic_score_counts)\n",
    "print()\n",
    "\n",
    "print(\"Количество игр по категориям оценок пользователей:\")\n",
    "print(user_score_counts)\n"
   ]
  },
  {
   "cell_type": "markdown",
   "id": "49452529",
   "metadata": {
    "id": "6a98444c"
   },
   "source": [
    "- Выделите топ-7 платформ по количеству игр, выпущенных за весь актуальный период."
   ]
  },
  {
   "cell_type": "code",
   "execution_count": 14,
   "id": "003caa2c",
   "metadata": {
    "id": "003caa2c"
   },
   "outputs": [
    {
     "name": "stdout",
     "output_type": "stream",
     "text": [
      "PS2     2189\n",
      "DS      2177\n",
      "PS3     1355\n",
      "Wii     1340\n",
      "X360    1281\n",
      "PSP     1229\n",
      "PS      1215\n",
      "Name: platform, dtype: int64\n"
     ]
    }
   ],
   "source": [
    "# Топ-7 платформ по количеству игр\n",
    "top_platforms = df['platform'].value_counts().head(7).index\n",
    "\n",
    "# Фильтрация данных по топ-7 платформам\n",
    "df_top_platforms = df[df['platform'].isin(top_platforms)]\n",
    "\n",
    "print(df_top_platforms['platform'].value_counts())"
   ]
  },
  {
   "cell_type": "markdown",
   "id": "c0158881",
   "metadata": {
    "id": "c0158881"
   },
   "source": [
    "---\n",
    "\n",
    "## 5. Итоговый вывод\n",
    "\n",
    "В конце напишите основной вывод и отразите, какую работу проделали. Не забудьте указать описание среза данных и новых полей, которые добавили в исходный датасет."
   ]
  },
  {
   "cell_type": "markdown",
   "id": "8e718e5f",
   "metadata": {
    "id": "20175f5b"
   },
   "source": [
    "##### Проделанная работа:\n",
    "- Названия столбцов приведены к единому формату, более удобному для восприятия;\n",
    "- Типы данных приведены в соответствие с содержанием столбца;\n",
    "- Пропуски в столбцах critic_score и user_score заполнены медианным значением. Пропуски в столбце rating заменены на Unkhown, поскольку содержание столбца не позволяет привести данные к числового формату;\n",
    "- Дублирующиеся строки (таких было 182) удалены для корретного анализа."
   ]
  },
  {
   "cell_type": "markdown",
   "id": "29d1296b",
   "metadata": {
    "id": "0c1afc40"
   },
   "source": [
    "###### Проанализированные данные:\n",
    "- Поскольку коллеги попросили сделать анализ по современным играм, мы провели срез данных, выбрав года выпуска игры с 2000 по 2013;\n",
    "- После фильтрации по годам играм были присвоены категории в зависимости от оценки пользователей и критиков: игры с низкой оценкой, средней и высокой."
   ]
  },
  {
   "cell_type": "markdown",
   "id": "562842cd",
   "metadata": {
    "id": "9fe570b3"
   },
   "source": [
    "###### В топ-7 платформ по количеству выпущенных игр вошли:\n",
    "<font color='#777778'>Платформа:</font> PS2, DS, PS3, Wii, X360, PSP, PS.            "
   ]
  }
 ],
 "metadata": {
  "ExecuteTimeLog": [
   {
    "duration": 94,
    "start_time": "2025-04-02T16:26:20.179Z"
   },
   {
    "duration": 70,
    "start_time": "2025-04-02T16:27:36.333Z"
   },
   {
    "duration": 75,
    "start_time": "2025-04-02T16:28:06.439Z"
   },
   {
    "duration": 550,
    "start_time": "2025-04-02T16:28:18.422Z"
   },
   {
    "duration": 85,
    "start_time": "2025-04-02T16:29:29.458Z"
   },
   {
    "duration": 97,
    "start_time": "2025-04-02T16:29:32.523Z"
   },
   {
    "duration": 113,
    "start_time": "2025-04-02T16:29:36.794Z"
   },
   {
    "duration": 172,
    "start_time": "2025-04-02T16:29:39.690Z"
   },
   {
    "duration": 84,
    "start_time": "2025-04-02T16:30:09.114Z"
   },
   {
    "duration": 564,
    "start_time": "2025-04-02T16:30:28.765Z"
   },
   {
    "duration": 80,
    "start_time": "2025-04-02T16:30:33.724Z"
   },
   {
    "duration": 81,
    "start_time": "2025-04-02T16:30:40.242Z"
   },
   {
    "duration": 450,
    "start_time": "2025-04-02T16:30:50.504Z"
   },
   {
    "duration": 153,
    "start_time": "2025-04-02T16:31:22.790Z"
   },
   {
    "duration": 77,
    "start_time": "2025-04-02T16:31:31.679Z"
   },
   {
    "duration": 112,
    "start_time": "2025-04-02T16:31:36.711Z"
   },
   {
    "duration": 81,
    "start_time": "2025-04-02T16:31:39.846Z"
   },
   {
    "duration": 99,
    "start_time": "2025-04-02T16:32:33.128Z"
   },
   {
    "duration": 82,
    "start_time": "2025-04-02T16:32:41.720Z"
   },
   {
    "duration": 89,
    "start_time": "2025-04-02T16:34:44.596Z"
   },
   {
    "duration": 162,
    "start_time": "2025-04-02T16:37:48.868Z"
   },
   {
    "duration": 525,
    "start_time": "2025-04-02T16:42:22.569Z"
   },
   {
    "duration": 148,
    "start_time": "2025-04-02T16:44:07.931Z"
   },
   {
    "duration": 73,
    "start_time": "2025-04-02T16:44:20.779Z"
   },
   {
    "duration": 950,
    "start_time": "2025-04-03T12:42:39.808Z"
   },
   {
    "duration": 1093,
    "start_time": "2025-04-03T12:43:13.863Z"
   },
   {
    "duration": 67,
    "start_time": "2025-04-03T12:47:29.124Z"
   },
   {
    "duration": 444,
    "start_time": "2025-04-03T12:47:49.727Z"
   },
   {
    "duration": 174,
    "start_time": "2025-04-03T12:51:08.447Z"
   },
   {
    "duration": 297,
    "start_time": "2025-04-03T12:55:53.582Z"
   },
   {
    "duration": 113,
    "start_time": "2025-04-03T13:00:07.046Z"
   },
   {
    "duration": 184,
    "start_time": "2025-04-03T13:01:05.610Z"
   },
   {
    "duration": 1621,
    "start_time": "2025-04-03T13:14:30.978Z"
   },
   {
    "duration": 1667,
    "start_time": "2025-04-03T13:14:52.340Z"
   },
   {
    "duration": 1350,
    "start_time": "2025-04-03T13:23:41.716Z"
   },
   {
    "duration": 198,
    "start_time": "2025-04-03T13:24:30.717Z"
   },
   {
    "duration": 87,
    "start_time": "2025-04-03T13:24:57.412Z"
   },
   {
    "duration": 102,
    "start_time": "2025-04-03T13:26:38.667Z"
   },
   {
    "duration": 90,
    "start_time": "2025-04-03T13:27:43.055Z"
   },
   {
    "duration": 127,
    "start_time": "2025-04-03T13:29:22.250Z"
   },
   {
    "duration": 184,
    "start_time": "2025-04-03T13:29:56.410Z"
   },
   {
    "duration": 130,
    "start_time": "2025-04-03T13:31:20.291Z"
   },
   {
    "duration": 75,
    "start_time": "2025-04-03T13:32:07.499Z"
   },
   {
    "duration": 77,
    "start_time": "2025-04-03T13:32:16.147Z"
   },
   {
    "duration": 250,
    "start_time": "2025-04-03T13:32:34.836Z"
   },
   {
    "duration": 147,
    "start_time": "2025-04-03T13:33:06.339Z"
   },
   {
    "duration": 132,
    "start_time": "2025-04-03T13:41:34.350Z"
   },
   {
    "duration": 98,
    "start_time": "2025-04-03T13:41:42.818Z"
   },
   {
    "duration": 202,
    "start_time": "2025-04-03T13:43:45.257Z"
   },
   {
    "duration": 81,
    "start_time": "2025-04-03T13:44:36.656Z"
   },
   {
    "duration": 138,
    "start_time": "2025-04-03T13:44:48.350Z"
   },
   {
    "duration": 157,
    "start_time": "2025-04-03T13:47:00.984Z"
   },
   {
    "duration": 112,
    "start_time": "2025-04-03T13:47:16.689Z"
   },
   {
    "duration": 152,
    "start_time": "2025-04-03T13:55:08.103Z"
   },
   {
    "duration": 105,
    "start_time": "2025-04-03T13:55:19.684Z"
   },
   {
    "duration": 130,
    "start_time": "2025-04-03T13:55:57.548Z"
   },
   {
    "duration": 103,
    "start_time": "2025-04-03T13:58:00.478Z"
   },
   {
    "duration": 126,
    "start_time": "2025-04-03T13:58:52.316Z"
   },
   {
    "duration": 128,
    "start_time": "2025-04-03T14:04:37.030Z"
   },
   {
    "duration": 119,
    "start_time": "2025-04-03T14:05:19.847Z"
   },
   {
    "duration": 124,
    "start_time": "2025-04-03T14:05:59.159Z"
   },
   {
    "duration": 103,
    "start_time": "2025-04-03T14:07:18.904Z"
   },
   {
    "duration": 117,
    "start_time": "2025-04-03T14:07:44.344Z"
   },
   {
    "duration": 117,
    "start_time": "2025-04-03T14:10:16.917Z"
   },
   {
    "duration": 199,
    "start_time": "2025-04-03T14:14:29.576Z"
   },
   {
    "duration": 123,
    "start_time": "2025-04-03T14:16:11.165Z"
   },
   {
    "duration": 143,
    "start_time": "2025-04-03T14:16:48.414Z"
   },
   {
    "duration": 149,
    "start_time": "2025-04-03T14:17:24.582Z"
   },
   {
    "duration": 119,
    "start_time": "2025-04-03T14:17:38.050Z"
   },
   {
    "duration": 120,
    "start_time": "2025-04-03T14:18:22.110Z"
   },
   {
    "duration": 146,
    "start_time": "2025-04-03T14:20:22.321Z"
   },
   {
    "duration": 118,
    "start_time": "2025-04-03T14:21:08.028Z"
   },
   {
    "duration": 140,
    "start_time": "2025-04-03T14:21:45.704Z"
   },
   {
    "duration": 308,
    "start_time": "2025-04-03T14:22:10.532Z"
   },
   {
    "duration": 130,
    "start_time": "2025-04-03T14:24:34.261Z"
   },
   {
    "duration": 88,
    "start_time": "2025-04-03T14:25:15.757Z"
   },
   {
    "duration": 90,
    "start_time": "2025-04-03T14:25:44.854Z"
   },
   {
    "duration": 117,
    "start_time": "2025-04-03T14:27:06.919Z"
   },
   {
    "duration": 81,
    "start_time": "2025-04-03T14:29:08.699Z"
   },
   {
    "duration": 100,
    "start_time": "2025-04-03T14:29:41.652Z"
   },
   {
    "duration": 109,
    "start_time": "2025-04-03T14:29:50.228Z"
   },
   {
    "duration": 90,
    "start_time": "2025-04-03T14:30:00.020Z"
   },
   {
    "duration": 104,
    "start_time": "2025-04-03T14:30:51.469Z"
   },
   {
    "duration": 91,
    "start_time": "2025-04-03T14:32:16.478Z"
   },
   {
    "duration": 112,
    "start_time": "2025-04-03T14:33:02.830Z"
   },
   {
    "duration": 107,
    "start_time": "2025-04-03T14:34:32.480Z"
   },
   {
    "duration": 124,
    "start_time": "2025-04-03T14:34:53.684Z"
   },
   {
    "duration": 164,
    "start_time": "2025-04-03T14:40:44.935Z"
   },
   {
    "duration": 182,
    "start_time": "2025-04-03T14:43:48.113Z"
   },
   {
    "duration": 166,
    "start_time": "2025-04-03T14:44:27.085Z"
   },
   {
    "duration": 183,
    "start_time": "2025-04-03T14:45:12.774Z"
   },
   {
    "duration": 188,
    "start_time": "2025-04-03T14:45:32.197Z"
   },
   {
    "duration": 164,
    "start_time": "2025-04-03T14:46:54.798Z"
   },
   {
    "duration": 216,
    "start_time": "2025-04-03T14:47:19.193Z"
   },
   {
    "duration": 170,
    "start_time": "2025-04-03T14:47:37.462Z"
   },
   {
    "duration": 117,
    "start_time": "2025-04-03T14:49:41.971Z"
   },
   {
    "duration": 125,
    "start_time": "2025-04-03T14:50:27.756Z"
   },
   {
    "duration": 574,
    "start_time": "2025-04-03T14:51:26.092Z"
   },
   {
    "duration": 137,
    "start_time": "2025-04-03T14:51:42.637Z"
   },
   {
    "duration": 161,
    "start_time": "2025-04-03T14:52:46.269Z"
   },
   {
    "duration": 129,
    "start_time": "2025-04-03T14:53:34.189Z"
   },
   {
    "duration": 120,
    "start_time": "2025-04-03T14:55:11.818Z"
   },
   {
    "duration": 156,
    "start_time": "2025-04-03T14:58:57.420Z"
   },
   {
    "duration": 105,
    "start_time": "2025-04-03T14:59:07.236Z"
   },
   {
    "duration": 98,
    "start_time": "2025-04-03T15:02:25.898Z"
   },
   {
    "duration": 97,
    "start_time": "2025-04-03T15:02:54.584Z"
   },
   {
    "duration": 128,
    "start_time": "2025-04-03T15:03:22.319Z"
   },
   {
    "duration": 110,
    "start_time": "2025-04-03T15:04:53.828Z"
   },
   {
    "duration": 108,
    "start_time": "2025-04-03T15:06:40.414Z"
   },
   {
    "duration": 91,
    "start_time": "2025-04-03T15:06:50.597Z"
   },
   {
    "duration": 155,
    "start_time": "2025-04-03T15:10:17.500Z"
   },
   {
    "duration": 138,
    "start_time": "2025-04-03T15:10:40.885Z"
   },
   {
    "duration": 162,
    "start_time": "2025-04-03T15:16:02.871Z"
   },
   {
    "duration": 153,
    "start_time": "2025-04-03T15:19:39.309Z"
   },
   {
    "duration": 188,
    "start_time": "2025-04-03T15:20:16.357Z"
   },
   {
    "duration": 118,
    "start_time": "2025-04-03T15:23:58.388Z"
   },
   {
    "duration": 465,
    "start_time": "2025-04-03T15:24:07.667Z"
   },
   {
    "duration": 89,
    "start_time": "2025-04-03T15:24:08.133Z"
   },
   {
    "duration": 100,
    "start_time": "2025-04-03T15:24:08.227Z"
   },
   {
    "duration": 122,
    "start_time": "2025-04-03T15:24:08.329Z"
   },
   {
    "duration": 144,
    "start_time": "2025-04-03T15:24:08.453Z"
   },
   {
    "duration": 136,
    "start_time": "2025-04-03T15:24:08.599Z"
   },
   {
    "duration": 86,
    "start_time": "2025-04-03T15:24:08.737Z"
   },
   {
    "duration": 175,
    "start_time": "2025-04-03T15:24:08.824Z"
   },
   {
    "duration": 0,
    "start_time": "2025-04-03T15:24:09.000Z"
   },
   {
    "duration": 0,
    "start_time": "2025-04-03T15:24:09.001Z"
   },
   {
    "duration": 515,
    "start_time": "2025-04-03T15:24:28.094Z"
   },
   {
    "duration": 82,
    "start_time": "2025-04-03T15:24:28.611Z"
   },
   {
    "duration": 71,
    "start_time": "2025-04-03T15:24:28.695Z"
   },
   {
    "duration": 130,
    "start_time": "2025-04-03T15:24:28.768Z"
   },
   {
    "duration": 101,
    "start_time": "2025-04-03T15:24:28.899Z"
   },
   {
    "duration": 112,
    "start_time": "2025-04-03T15:24:29.001Z"
   },
   {
    "duration": 90,
    "start_time": "2025-04-03T15:24:29.115Z"
   },
   {
    "duration": 205,
    "start_time": "2025-04-03T15:24:29.206Z"
   },
   {
    "duration": 0,
    "start_time": "2025-04-03T15:24:29.412Z"
   },
   {
    "duration": 0,
    "start_time": "2025-04-03T15:24:29.414Z"
   },
   {
    "duration": 140,
    "start_time": "2025-04-03T15:25:06.662Z"
   },
   {
    "duration": 118,
    "start_time": "2025-04-03T15:25:11.813Z"
   },
   {
    "duration": 816,
    "start_time": "2025-04-03T15:25:24.724Z"
   },
   {
    "duration": 101,
    "start_time": "2025-04-03T15:28:06.763Z"
   },
   {
    "duration": 76,
    "start_time": "2025-04-03T15:28:52.278Z"
   },
   {
    "duration": 287,
    "start_time": "2025-04-03T15:29:29.460Z"
   },
   {
    "duration": 148,
    "start_time": "2025-04-03T15:35:46.542Z"
   },
   {
    "duration": 195,
    "start_time": "2025-04-03T16:04:03.362Z"
   },
   {
    "duration": 152,
    "start_time": "2025-04-03T16:05:58.331Z"
   },
   {
    "duration": 155,
    "start_time": "2025-04-03T16:06:38.564Z"
   },
   {
    "duration": 165,
    "start_time": "2025-04-03T16:08:53.358Z"
   },
   {
    "duration": 521,
    "start_time": "2025-04-04T16:42:34.068Z"
   },
   {
    "duration": 73,
    "start_time": "2025-04-04T16:42:41.400Z"
   },
   {
    "duration": 403,
    "start_time": "2025-04-04T16:57:16.016Z"
   },
   {
    "duration": 135,
    "start_time": "2025-04-04T17:00:58.622Z"
   },
   {
    "duration": 107,
    "start_time": "2025-04-04T17:01:54.982Z"
   },
   {
    "duration": 91,
    "start_time": "2025-04-04T17:01:56.303Z"
   },
   {
    "duration": 83,
    "start_time": "2025-04-04T17:02:31.289Z"
   },
   {
    "duration": 115,
    "start_time": "2025-04-04T17:02:48.694Z"
   },
   {
    "duration": 119,
    "start_time": "2025-04-04T17:02:55.048Z"
   },
   {
    "duration": 128,
    "start_time": "2025-04-04T17:23:37.155Z"
   },
   {
    "duration": 120,
    "start_time": "2025-04-04T17:23:41.747Z"
   },
   {
    "duration": 118,
    "start_time": "2025-04-04T17:23:48.628Z"
   },
   {
    "duration": 141,
    "start_time": "2025-04-04T17:28:55.800Z"
   },
   {
    "duration": 5,
    "start_time": "2025-04-04T17:31:04.481Z"
   },
   {
    "duration": 125,
    "start_time": "2025-04-04T17:31:17.249Z"
   },
   {
    "duration": 140,
    "start_time": "2025-04-04T17:31:34.948Z"
   },
   {
    "duration": 123,
    "start_time": "2025-04-04T17:32:22.889Z"
   },
   {
    "duration": 115,
    "start_time": "2025-04-04T17:32:58.355Z"
   },
   {
    "duration": 152,
    "start_time": "2025-04-04T17:33:11.739Z"
   },
   {
    "duration": 123,
    "start_time": "2025-04-04T17:33:39.173Z"
   },
   {
    "duration": 90,
    "start_time": "2025-04-04T17:35:04.852Z"
   },
   {
    "duration": 138,
    "start_time": "2025-04-04T17:35:16.691Z"
   },
   {
    "duration": 193,
    "start_time": "2025-04-04T17:36:11.442Z"
   },
   {
    "duration": 117,
    "start_time": "2025-04-04T17:36:37.352Z"
   },
   {
    "duration": 168,
    "start_time": "2025-04-04T17:36:47.856Z"
   },
   {
    "duration": 109,
    "start_time": "2025-04-04T17:37:46.160Z"
   },
   {
    "duration": 93,
    "start_time": "2025-04-04T17:38:34.137Z"
   },
   {
    "duration": 109,
    "start_time": "2025-04-04T17:38:58.379Z"
   },
   {
    "duration": 167,
    "start_time": "2025-04-04T17:39:09.989Z"
   },
   {
    "duration": 180,
    "start_time": "2025-04-04T17:40:31.338Z"
   },
   {
    "duration": 137,
    "start_time": "2025-04-04T17:43:32.843Z"
   },
   {
    "duration": 105,
    "start_time": "2025-04-04T17:43:46.449Z"
   },
   {
    "duration": 99,
    "start_time": "2025-04-04T17:46:52.090Z"
   },
   {
    "duration": 101,
    "start_time": "2025-04-04T17:47:35.537Z"
   },
   {
    "duration": 111,
    "start_time": "2025-04-04T17:48:45.881Z"
   },
   {
    "duration": 164,
    "start_time": "2025-04-04T17:50:20.403Z"
   },
   {
    "duration": 93,
    "start_time": "2025-04-04T17:51:42.323Z"
   },
   {
    "duration": 244,
    "start_time": "2025-04-04T17:51:51.764Z"
   },
   {
    "duration": 184,
    "start_time": "2025-04-04T17:52:45.221Z"
   },
   {
    "duration": 105,
    "start_time": "2025-04-04T17:54:30.599Z"
   },
   {
    "duration": 122,
    "start_time": "2025-04-04T17:55:19.326Z"
   },
   {
    "duration": 126,
    "start_time": "2025-04-04T17:57:46.840Z"
   },
   {
    "duration": 122,
    "start_time": "2025-04-04T17:58:03.545Z"
   },
   {
    "duration": 110,
    "start_time": "2025-04-04T17:58:33.961Z"
   },
   {
    "duration": 1258,
    "start_time": "2025-04-04T17:58:51.240Z"
   },
   {
    "duration": 111,
    "start_time": "2025-04-04T17:59:19.753Z"
   },
   {
    "duration": 123,
    "start_time": "2025-04-04T17:59:28.809Z"
   },
   {
    "duration": 1275,
    "start_time": "2025-04-04T17:59:32.320Z"
   },
   {
    "duration": 114,
    "start_time": "2025-04-04T17:59:40.972Z"
   },
   {
    "duration": 152,
    "start_time": "2025-04-04T18:00:04.437Z"
   },
   {
    "duration": 125,
    "start_time": "2025-04-04T18:00:41.669Z"
   },
   {
    "duration": 131,
    "start_time": "2025-04-04T18:00:48.018Z"
   },
   {
    "duration": 140,
    "start_time": "2025-04-04T18:01:10.134Z"
   },
   {
    "duration": 152,
    "start_time": "2025-04-04T18:03:10.294Z"
   },
   {
    "duration": 140,
    "start_time": "2025-04-04T18:06:45.464Z"
   },
   {
    "duration": 157,
    "start_time": "2025-04-04T18:07:17.970Z"
   },
   {
    "duration": 151,
    "start_time": "2025-04-04T18:07:36.701Z"
   },
   {
    "duration": 194,
    "start_time": "2025-04-04T18:07:59.421Z"
   },
   {
    "duration": 67,
    "start_time": "2025-04-04T18:19:20.686Z"
   },
   {
    "duration": 547,
    "start_time": "2025-04-05T16:44:20.553Z"
   },
   {
    "duration": 115,
    "start_time": "2025-04-05T16:44:21.102Z"
   },
   {
    "duration": 90,
    "start_time": "2025-04-05T16:44:21.219Z"
   },
   {
    "duration": 112,
    "start_time": "2025-04-05T16:44:21.312Z"
   },
   {
    "duration": 117,
    "start_time": "2025-04-05T16:44:21.426Z"
   },
   {
    "duration": 116,
    "start_time": "2025-04-05T16:44:21.546Z"
   },
   {
    "duration": 151,
    "start_time": "2025-04-05T16:44:21.665Z"
   },
   {
    "duration": 161,
    "start_time": "2025-04-05T16:44:21.818Z"
   },
   {
    "duration": 134,
    "start_time": "2025-04-05T16:44:21.981Z"
   },
   {
    "duration": 131,
    "start_time": "2025-04-05T16:44:22.116Z"
   },
   {
    "duration": 156,
    "start_time": "2025-04-05T16:44:22.249Z"
   },
   {
    "duration": 195,
    "start_time": "2025-04-05T16:44:22.407Z"
   },
   {
    "duration": 143,
    "start_time": "2025-04-05T16:44:22.604Z"
   },
   {
    "duration": 513,
    "start_time": "2025-04-05T17:54:29.665Z"
   },
   {
    "duration": 120,
    "start_time": "2025-04-05T17:54:30.180Z"
   },
   {
    "duration": 73,
    "start_time": "2025-04-05T17:54:30.302Z"
   },
   {
    "duration": 178,
    "start_time": "2025-04-05T17:54:30.378Z"
   },
   {
    "duration": 173,
    "start_time": "2025-04-05T17:54:30.558Z"
   },
   {
    "duration": 232,
    "start_time": "2025-04-05T17:54:30.733Z"
   },
   {
    "duration": 116,
    "start_time": "2025-04-05T17:54:30.968Z"
   },
   {
    "duration": 173,
    "start_time": "2025-04-05T17:54:31.086Z"
   },
   {
    "duration": 125,
    "start_time": "2025-04-05T17:54:31.261Z"
   },
   {
    "duration": 151,
    "start_time": "2025-04-05T17:54:31.388Z"
   },
   {
    "duration": 163,
    "start_time": "2025-04-05T17:54:31.541Z"
   },
   {
    "duration": 182,
    "start_time": "2025-04-05T17:54:31.706Z"
   },
   {
    "duration": 152,
    "start_time": "2025-04-05T17:54:31.891Z"
   },
   {
    "duration": 727,
    "start_time": "2025-04-06T05:21:52.112Z"
   },
   {
    "duration": 69,
    "start_time": "2025-04-06T05:27:17.001Z"
   },
   {
    "duration": 94,
    "start_time": "2025-04-06T05:27:29.872Z"
   },
   {
    "duration": 3,
    "start_time": "2025-04-06T05:27:51.011Z"
   },
   {
    "duration": 101,
    "start_time": "2025-04-06T05:27:53.047Z"
   },
   {
    "duration": 2,
    "start_time": "2025-04-06T05:27:55.427Z"
   },
   {
    "duration": 11,
    "start_time": "2025-04-06T05:28:38.796Z"
   },
   {
    "duration": 4,
    "start_time": "2025-04-06T05:29:01.348Z"
   },
   {
    "duration": 161,
    "start_time": "2025-04-06T05:30:15.521Z"
   },
   {
    "duration": 4,
    "start_time": "2025-04-06T05:30:24.223Z"
   },
   {
    "duration": 128,
    "start_time": "2025-04-06T05:30:30.838Z"
   },
   {
    "duration": 19,
    "start_time": "2025-04-06T05:31:07.008Z"
   },
   {
    "duration": 19,
    "start_time": "2025-04-06T05:32:06.403Z"
   },
   {
    "duration": 6,
    "start_time": "2025-04-06T05:32:21.263Z"
   },
   {
    "duration": 35,
    "start_time": "2025-04-06T05:36:23.318Z"
   },
   {
    "duration": 20,
    "start_time": "2025-04-06T05:37:41.903Z"
   },
   {
    "duration": 18,
    "start_time": "2025-04-06T05:39:39.496Z"
   },
   {
    "duration": 19,
    "start_time": "2025-04-06T05:39:56.085Z"
   },
   {
    "duration": 16,
    "start_time": "2025-04-06T05:40:53.842Z"
   },
   {
    "duration": 21,
    "start_time": "2025-04-06T05:41:14.702Z"
   },
   {
    "duration": 27,
    "start_time": "2025-04-06T05:41:26.588Z"
   },
   {
    "duration": 50,
    "start_time": "2025-04-06T05:41:43.677Z"
   },
   {
    "duration": 22,
    "start_time": "2025-04-06T05:41:58.997Z"
   },
   {
    "duration": 35,
    "start_time": "2025-04-06T05:42:08.428Z"
   },
   {
    "duration": 1257,
    "start_time": "2025-04-06T05:42:52.013Z"
   },
   {
    "duration": 50,
    "start_time": "2025-04-06T05:44:03.736Z"
   },
   {
    "duration": 12,
    "start_time": "2025-04-06T05:44:20.802Z"
   },
   {
    "duration": 12,
    "start_time": "2025-04-06T05:45:21.102Z"
   },
   {
    "duration": 45,
    "start_time": "2025-04-06T05:46:40.507Z"
   },
   {
    "duration": 33,
    "start_time": "2025-04-06T05:47:57.077Z"
   },
   {
    "duration": 25,
    "start_time": "2025-04-06T05:48:14.282Z"
   },
   {
    "duration": 11,
    "start_time": "2025-04-06T05:49:24.792Z"
   },
   {
    "duration": 25,
    "start_time": "2025-04-06T05:52:34.717Z"
   },
   {
    "duration": 46,
    "start_time": "2025-04-06T05:52:46.307Z"
   },
   {
    "duration": 424,
    "start_time": "2025-04-06T05:57:46.059Z"
   },
   {
    "duration": 142,
    "start_time": "2025-04-06T05:57:46.485Z"
   },
   {
    "duration": 18,
    "start_time": "2025-04-06T05:57:46.629Z"
   },
   {
    "duration": 6,
    "start_time": "2025-04-06T05:57:46.650Z"
   },
   {
    "duration": 38,
    "start_time": "2025-04-06T05:57:46.658Z"
   },
   {
    "duration": 91,
    "start_time": "2025-04-06T05:57:46.698Z"
   },
   {
    "duration": 18,
    "start_time": "2025-04-06T05:57:46.792Z"
   },
   {
    "duration": 23,
    "start_time": "2025-04-06T05:57:46.812Z"
   },
   {
    "duration": 48,
    "start_time": "2025-04-06T05:57:46.837Z"
   },
   {
    "duration": 49,
    "start_time": "2025-04-06T05:57:46.889Z"
   },
   {
    "duration": 18,
    "start_time": "2025-04-06T05:57:46.940Z"
   },
   {
    "duration": 79,
    "start_time": "2025-04-06T05:57:46.960Z"
   },
   {
    "duration": 101,
    "start_time": "2025-04-06T05:57:47.041Z"
   },
   {
    "duration": 0,
    "start_time": "2025-04-06T05:57:47.145Z"
   },
   {
    "duration": 12,
    "start_time": "2025-04-06T05:58:15.479Z"
   },
   {
    "duration": 42,
    "start_time": "2025-04-06T05:58:40.444Z"
   },
   {
    "duration": 43,
    "start_time": "2025-04-06T06:00:42.164Z"
   },
   {
    "duration": 14,
    "start_time": "2025-04-06T06:00:47.534Z"
   },
   {
    "duration": 14,
    "start_time": "2025-04-06T06:01:03.630Z"
   },
   {
    "duration": 11,
    "start_time": "2025-04-06T06:01:26.744Z"
   },
   {
    "duration": 39,
    "start_time": "2025-04-06T06:01:59.665Z"
   },
   {
    "duration": 34,
    "start_time": "2025-04-06T06:02:24.829Z"
   },
   {
    "duration": 42,
    "start_time": "2025-04-06T06:02:33.089Z"
   },
   {
    "duration": 13,
    "start_time": "2025-04-06T06:02:50.530Z"
   },
   {
    "duration": 15,
    "start_time": "2025-04-06T06:02:54.429Z"
   },
   {
    "duration": 19,
    "start_time": "2025-04-06T06:03:32.524Z"
   },
   {
    "duration": 20,
    "start_time": "2025-04-06T06:03:37.864Z"
   },
   {
    "duration": 45,
    "start_time": "2025-04-06T06:03:43.819Z"
   },
   {
    "duration": 22,
    "start_time": "2025-04-06T06:03:56.549Z"
   },
   {
    "duration": 25,
    "start_time": "2025-04-06T06:04:08.549Z"
   },
   {
    "duration": 51,
    "start_time": "2025-04-06T06:04:17.905Z"
   },
   {
    "duration": 40,
    "start_time": "2025-04-06T06:04:32.524Z"
   },
   {
    "duration": 11,
    "start_time": "2025-04-06T06:04:46.679Z"
   },
   {
    "duration": 13,
    "start_time": "2025-04-06T06:04:51.044Z"
   },
   {
    "duration": 14,
    "start_time": "2025-04-06T06:04:55.149Z"
   },
   {
    "duration": 442,
    "start_time": "2025-04-06T06:05:04.865Z"
   },
   {
    "duration": 142,
    "start_time": "2025-04-06T06:05:05.309Z"
   },
   {
    "duration": 31,
    "start_time": "2025-04-06T06:05:05.454Z"
   },
   {
    "duration": 8,
    "start_time": "2025-04-06T06:05:05.487Z"
   },
   {
    "duration": 59,
    "start_time": "2025-04-06T06:05:05.498Z"
   },
   {
    "duration": 18,
    "start_time": "2025-04-06T06:05:05.559Z"
   },
   {
    "duration": 33,
    "start_time": "2025-04-06T06:05:05.579Z"
   },
   {
    "duration": 32,
    "start_time": "2025-04-06T06:05:05.614Z"
   },
   {
    "duration": 71,
    "start_time": "2025-04-06T06:05:05.649Z"
   },
   {
    "duration": 27,
    "start_time": "2025-04-06T06:05:05.723Z"
   },
   {
    "duration": 15,
    "start_time": "2025-04-06T06:05:05.753Z"
   },
   {
    "duration": 68,
    "start_time": "2025-04-06T06:05:05.770Z"
   },
   {
    "duration": 83,
    "start_time": "2025-04-06T06:05:05.840Z"
   },
   {
    "duration": 0,
    "start_time": "2025-04-06T06:05:05.925Z"
   },
   {
    "duration": 15,
    "start_time": "2025-04-06T06:05:39.826Z"
   },
   {
    "duration": 49,
    "start_time": "2025-04-06T06:05:44.106Z"
   },
   {
    "duration": 12,
    "start_time": "2025-04-06T06:05:47.091Z"
   },
   {
    "duration": 54,
    "start_time": "2025-04-06T06:05:53.511Z"
   },
   {
    "duration": 17,
    "start_time": "2025-04-06T06:06:07.360Z"
   },
   {
    "duration": 39,
    "start_time": "2025-04-06T06:06:13.905Z"
   },
   {
    "duration": 41,
    "start_time": "2025-04-06T06:06:22.066Z"
   },
   {
    "duration": 14,
    "start_time": "2025-04-06T06:06:26.811Z"
   },
   {
    "duration": 42,
    "start_time": "2025-04-06T06:06:40.895Z"
   },
   {
    "duration": 14,
    "start_time": "2025-04-06T06:07:30.655Z"
   },
   {
    "duration": 13,
    "start_time": "2025-04-06T06:07:36.831Z"
   },
   {
    "duration": 41,
    "start_time": "2025-04-06T06:09:19.661Z"
   },
   {
    "duration": 39,
    "start_time": "2025-04-06T06:09:42.421Z"
   },
   {
    "duration": 42,
    "start_time": "2025-04-06T06:10:31.731Z"
   },
   {
    "duration": 14,
    "start_time": "2025-04-06T06:10:56.481Z"
   },
   {
    "duration": 49,
    "start_time": "2025-04-06T06:11:54.185Z"
   },
   {
    "duration": 8,
    "start_time": "2025-04-06T06:12:50.977Z"
   },
   {
    "duration": 16,
    "start_time": "2025-04-06T06:13:11.855Z"
   },
   {
    "duration": 42,
    "start_time": "2025-04-06T06:13:28.252Z"
   },
   {
    "duration": 17,
    "start_time": "2025-04-06T06:13:42.867Z"
   },
   {
    "duration": 15,
    "start_time": "2025-04-06T06:13:53.931Z"
   },
   {
    "duration": 23,
    "start_time": "2025-04-06T06:14:25.131Z"
   },
   {
    "duration": 48,
    "start_time": "2025-04-06T06:15:10.141Z"
   },
   {
    "duration": 44,
    "start_time": "2025-04-06T06:15:43.836Z"
   },
   {
    "duration": 12,
    "start_time": "2025-04-06T06:16:12.841Z"
   },
   {
    "duration": 391,
    "start_time": "2025-04-06T06:16:22.484Z"
   },
   {
    "duration": 151,
    "start_time": "2025-04-06T06:16:22.877Z"
   },
   {
    "duration": 17,
    "start_time": "2025-04-06T06:16:23.031Z"
   },
   {
    "duration": 10,
    "start_time": "2025-04-06T06:16:23.050Z"
   },
   {
    "duration": 45,
    "start_time": "2025-04-06T06:16:23.062Z"
   },
   {
    "duration": 29,
    "start_time": "2025-04-06T06:16:23.108Z"
   },
   {
    "duration": 17,
    "start_time": "2025-04-06T06:16:23.140Z"
   },
   {
    "duration": 21,
    "start_time": "2025-04-06T06:16:23.160Z"
   },
   {
    "duration": 83,
    "start_time": "2025-04-06T06:16:23.183Z"
   },
   {
    "duration": 22,
    "start_time": "2025-04-06T06:16:23.269Z"
   },
   {
    "duration": 110,
    "start_time": "2025-04-06T06:16:23.293Z"
   },
   {
    "duration": 0,
    "start_time": "2025-04-06T06:16:23.405Z"
   },
   {
    "duration": 0,
    "start_time": "2025-04-06T06:16:23.407Z"
   },
   {
    "duration": 0,
    "start_time": "2025-04-06T06:16:23.408Z"
   },
   {
    "duration": 39,
    "start_time": "2025-04-06T06:17:05.559Z"
   },
   {
    "duration": 49,
    "start_time": "2025-04-06T06:17:24.245Z"
   },
   {
    "duration": 45,
    "start_time": "2025-04-06T06:17:55.699Z"
   },
   {
    "duration": 17,
    "start_time": "2025-04-06T06:18:00.439Z"
   },
   {
    "duration": 18,
    "start_time": "2025-04-06T06:18:08.196Z"
   },
   {
    "duration": 15,
    "start_time": "2025-04-06T06:18:11.685Z"
   },
   {
    "duration": 395,
    "start_time": "2025-04-06T06:18:18.775Z"
   },
   {
    "duration": 107,
    "start_time": "2025-04-06T06:18:19.172Z"
   },
   {
    "duration": 18,
    "start_time": "2025-04-06T06:18:19.281Z"
   },
   {
    "duration": 11,
    "start_time": "2025-04-06T06:18:19.302Z"
   },
   {
    "duration": 49,
    "start_time": "2025-04-06T06:18:19.316Z"
   },
   {
    "duration": 18,
    "start_time": "2025-04-06T06:18:19.367Z"
   },
   {
    "duration": 16,
    "start_time": "2025-04-06T06:18:19.387Z"
   },
   {
    "duration": 49,
    "start_time": "2025-04-06T06:18:19.404Z"
   },
   {
    "duration": 42,
    "start_time": "2025-04-06T06:18:19.455Z"
   },
   {
    "duration": 45,
    "start_time": "2025-04-06T06:18:19.499Z"
   },
   {
    "duration": 73,
    "start_time": "2025-04-06T06:18:19.545Z"
   },
   {
    "duration": 0,
    "start_time": "2025-04-06T06:18:19.619Z"
   },
   {
    "duration": 0,
    "start_time": "2025-04-06T06:18:19.621Z"
   },
   {
    "duration": 0,
    "start_time": "2025-04-06T06:18:19.637Z"
   },
   {
    "duration": 16,
    "start_time": "2025-04-06T06:18:33.554Z"
   },
   {
    "duration": 18,
    "start_time": "2025-04-06T06:18:39.544Z"
   },
   {
    "duration": 42,
    "start_time": "2025-04-06T06:18:43.805Z"
   },
   {
    "duration": 18,
    "start_time": "2025-04-06T06:18:45.850Z"
   },
   {
    "duration": 16,
    "start_time": "2025-04-06T06:18:59.729Z"
   },
   {
    "duration": 42,
    "start_time": "2025-04-06T06:19:22.050Z"
   },
   {
    "duration": 41,
    "start_time": "2025-04-06T06:19:34.554Z"
   },
   {
    "duration": 38,
    "start_time": "2025-04-06T06:20:14.499Z"
   },
   {
    "duration": 12,
    "start_time": "2025-04-06T06:20:19.035Z"
   },
   {
    "duration": 45,
    "start_time": "2025-04-06T06:21:18.361Z"
   },
   {
    "duration": 12,
    "start_time": "2025-04-06T06:21:23.390Z"
   },
   {
    "duration": 12,
    "start_time": "2025-04-06T06:21:30.470Z"
   },
   {
    "duration": 46,
    "start_time": "2025-04-06T06:21:50.045Z"
   },
   {
    "duration": 20,
    "start_time": "2025-04-06T06:21:54.684Z"
   },
   {
    "duration": 42,
    "start_time": "2025-04-06T06:22:03.700Z"
   },
   {
    "duration": 46,
    "start_time": "2025-04-06T06:22:53.535Z"
   },
   {
    "duration": 41,
    "start_time": "2025-04-06T06:23:19.381Z"
   },
   {
    "duration": 16,
    "start_time": "2025-04-06T06:23:24.280Z"
   },
   {
    "duration": 12,
    "start_time": "2025-04-06T06:23:36.325Z"
   },
   {
    "duration": 11,
    "start_time": "2025-04-06T06:24:15.415Z"
   },
   {
    "duration": 15,
    "start_time": "2025-04-06T06:24:20.199Z"
   },
   {
    "duration": 42,
    "start_time": "2025-04-06T06:24:38.455Z"
   },
   {
    "duration": 14,
    "start_time": "2025-04-06T06:24:42.404Z"
   },
   {
    "duration": 362,
    "start_time": "2025-04-07T04:33:10.468Z"
   },
   {
    "duration": 142,
    "start_time": "2025-04-07T04:33:10.832Z"
   },
   {
    "duration": 15,
    "start_time": "2025-04-07T04:33:10.976Z"
   },
   {
    "duration": 21,
    "start_time": "2025-04-07T04:33:10.993Z"
   },
   {
    "duration": 32,
    "start_time": "2025-04-07T04:33:11.016Z"
   },
   {
    "duration": 15,
    "start_time": "2025-04-07T04:33:11.050Z"
   },
   {
    "duration": 14,
    "start_time": "2025-04-07T04:33:11.066Z"
   },
   {
    "duration": 17,
    "start_time": "2025-04-07T04:33:11.082Z"
   },
   {
    "duration": 59,
    "start_time": "2025-04-07T04:33:11.101Z"
   },
   {
    "duration": 15,
    "start_time": "2025-04-07T04:33:11.162Z"
   },
   {
    "duration": 12,
    "start_time": "2025-04-07T04:33:11.178Z"
   },
   {
    "duration": 60,
    "start_time": "2025-04-07T04:33:11.192Z"
   },
   {
    "duration": 10,
    "start_time": "2025-04-07T04:33:11.254Z"
   },
   {
    "duration": 11,
    "start_time": "2025-04-07T04:33:11.266Z"
   }
  ],
  "colab": {
   "provenance": []
  },
  "kernelspec": {
   "display_name": "Python 3 (ipykernel)",
   "language": "python",
   "name": "python3"
  },
  "language_info": {
   "codemirror_mode": {
    "name": "ipython",
    "version": 3
   },
   "file_extension": ".py",
   "mimetype": "text/x-python",
   "name": "python",
   "nbconvert_exporter": "python",
   "pygments_lexer": "ipython3",
   "version": "3.9.5"
  },
  "toc": {
   "base_numbering": 1,
   "nav_menu": {},
   "number_sections": true,
   "sideBar": true,
   "skip_h1_title": true,
   "title_cell": "Table of Contents",
   "title_sidebar": "Contents",
   "toc_cell": false,
   "toc_position": {},
   "toc_section_display": true,
   "toc_window_display": false
  }
 },
 "nbformat": 4,
 "nbformat_minor": 5
}
