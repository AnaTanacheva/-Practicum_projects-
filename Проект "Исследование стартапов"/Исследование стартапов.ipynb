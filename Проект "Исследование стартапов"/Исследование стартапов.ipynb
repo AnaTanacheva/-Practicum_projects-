{
 "cells": [
  {
   "cell_type": "markdown",
   "metadata": {
    "id": "4mJbK1knrJgz"
   },
   "source": [
    "# Проект: Исследование стартапов\n",
    "\n",
    "- Автор: Анастасия Таначева\n",
    "- Дата: 14.05"
   ]
  },
  {
   "cell_type": "markdown",
   "metadata": {
    "id": "P6j0r3worJg0"
   },
   "source": [
    "## Введение"
   ]
  },
  {
   "cell_type": "markdown",
   "metadata": {
    "id": "8lQtbsIUyFG6"
   },
   "source": [
    "<font color='#777778'>Цель проекта:</font> подготовка датасета, данные в котором будут релевантны и корректны для ответа на вопросы заказчика о значении данных для бизнеса. \n",
    "\n",
    "<font color='#777778'>Задачи проекта:</font>\n",
    "1) ознакомиться с имеющимися данными\n",
    "\n",
    "2) предобработать их и подготовить к анализу\n",
    "\n",
    "3) провести исследовательский анализ данных и ответить на вопросы заказчика\n",
    "\n",
    "4) сформулировать на основе полученных сведений общий вывод и рекомендации для коллег"
   ]
  },
  {
   "cell_type": "markdown",
   "metadata": {
    "id": "8lQtbsIUyFG6"
   },
   "source": [
    "## Содержимое проекта\n",
    "\n",
    "- загрузка данных и знакомство с ними\n",
    "- предобработка данных\n",
    "- анализ данных\n",
    "- выводы и рекомендации"
   ]
  },
  {
   "cell_type": "markdown",
   "metadata": {
    "id": "xqr6uttCrJg0"
   },
   "source": [
    "\n",
    "## Шаг 1. Знакомство с данными: загрузка и первичная предобработка\n",
    "\n",
    "Названия файлов:\n",
    "* acquisition.csv (содержит информацию о покупках компаниями других компаний)\n",
    "* company_and_rounds.csv (содержит информацию о компаниях и раундах финансирования)\n",
    "* people.csv (содержит информацию о сотрудниках)\n",
    "* education.csv (содержит информацию об образовании сотрудника)\n",
    "* degrees.csv (содержит информацию о типе образования сотрудника)\n",
    "\n",
    "Опциональные датасеты:\n",
    "* fund.csv (содержит информацию о фондах)\n",
    "* investment.csv (содержит информацию о раундах инвестирования)\n",
    "\n",
    "\n",
    "Они находятся в папке datasets, если вы выполняете работу на платформе. В случае, если вы делаете работу локально, доступ к файлам в папке можно получить по адресу `https://code.s3.yandex.net/datasets/` + имя файла.\n",
    "\n",
    "### 1.1. Вывод общей информации, исправление названия столбцов\n",
    "\n",
    "- Загрузите все данные по проекту.\n",
    "- Проверьте названия столбцов.\n",
    "- Выведите информацию, которая необходима вам для принятия решений о предобработке, для каждого из датасетов."
   ]
  },
  {
   "cell_type": "code",
   "execution_count": 151,
   "metadata": {
    "id": "2Tm4Pk__Felf"
   },
   "outputs": [
    {
     "name": "stdout",
     "output_type": "stream",
     "text": [
      "Requirement already satisfied: missingno in /opt/conda/lib/python3.9/site-packages (0.5.2)\n",
      "Requirement already satisfied: numpy in /opt/conda/lib/python3.9/site-packages (from missingno) (1.21.1)\n",
      "Requirement already satisfied: scipy in /opt/conda/lib/python3.9/site-packages (from missingno) (1.9.1)\n",
      "Requirement already satisfied: seaborn in /opt/conda/lib/python3.9/site-packages (from missingno) (0.11.1)\n",
      "Requirement already satisfied: matplotlib in /opt/conda/lib/python3.9/site-packages (from missingno) (3.3.4)\n",
      "Requirement already satisfied: pyparsing!=2.0.4,!=2.1.2,!=2.1.6,>=2.0.3 in /opt/conda/lib/python3.9/site-packages (from matplotlib->missingno) (2.4.7)\n",
      "Requirement already satisfied: cycler>=0.10 in /opt/conda/lib/python3.9/site-packages (from matplotlib->missingno) (0.11.0)\n",
      "Requirement already satisfied: python-dateutil>=2.1 in /opt/conda/lib/python3.9/site-packages (from matplotlib->missingno) (2.8.1)\n",
      "Requirement already satisfied: kiwisolver>=1.0.1 in /opt/conda/lib/python3.9/site-packages (from matplotlib->missingno) (1.4.4)\n",
      "Requirement already satisfied: pillow>=6.2.0 in /opt/conda/lib/python3.9/site-packages (from matplotlib->missingno) (8.4.0)\n",
      "Requirement already satisfied: six>=1.5 in /opt/conda/lib/python3.9/site-packages (from python-dateutil>=2.1->matplotlib->missingno) (1.16.0)\n",
      "Requirement already satisfied: pandas>=0.23 in /opt/conda/lib/python3.9/site-packages (from seaborn->missingno) (1.2.4)\n",
      "Requirement already satisfied: pytz>=2017.3 in /opt/conda/lib/python3.9/site-packages (from pandas>=0.23->seaborn->missingno) (2021.1)\n"
     ]
    }
   ],
   "source": [
    "import pandas as pd\n",
    "!pip install missingno\n",
    "import missingno as msno\n",
    "import numpy as np\n",
    "import matplotlib.pyplot as plt\n",
    "import seaborn as sns\n",
    "\n",
    "!pip install matplotlib-venn -q\n",
    "from matplotlib_venn import venn2, venn3\n",
    "import matplotlib.pyplot as plt"
   ]
  },
  {
   "cell_type": "code",
   "execution_count": 153,
   "metadata": {
    "id": "oNqJ2qpRFebv",
    "scrolled": true
   },
   "outputs": [
    {
     "data": {
      "text/html": [
       "<div>\n",
       "<style scoped>\n",
       "    .dataframe tbody tr th:only-of-type {\n",
       "        vertical-align: middle;\n",
       "    }\n",
       "\n",
       "    .dataframe tbody tr th {\n",
       "        vertical-align: top;\n",
       "    }\n",
       "\n",
       "    .dataframe thead th {\n",
       "        text-align: right;\n",
       "    }\n",
       "</style>\n",
       "<table border=\"1\" class=\"dataframe\">\n",
       "  <thead>\n",
       "    <tr style=\"text-align: right;\">\n",
       "      <th></th>\n",
       "      <th>id</th>\n",
       "      <th>acquiring_company_id</th>\n",
       "      <th>acquired_company_id</th>\n",
       "      <th>term_code</th>\n",
       "      <th>price_amount</th>\n",
       "      <th>acquired_at</th>\n",
       "    </tr>\n",
       "  </thead>\n",
       "  <tbody>\n",
       "    <tr>\n",
       "      <th>0</th>\n",
       "      <td>1</td>\n",
       "      <td>11</td>\n",
       "      <td>10</td>\n",
       "      <td>NaN</td>\n",
       "      <td>20000000</td>\n",
       "      <td>2007-05-30</td>\n",
       "    </tr>\n",
       "    <tr>\n",
       "      <th>1</th>\n",
       "      <td>7</td>\n",
       "      <td>59</td>\n",
       "      <td>72</td>\n",
       "      <td>cash</td>\n",
       "      <td>60000000</td>\n",
       "      <td>2007-07-01</td>\n",
       "    </tr>\n",
       "    <tr>\n",
       "      <th>2</th>\n",
       "      <td>8</td>\n",
       "      <td>24</td>\n",
       "      <td>132</td>\n",
       "      <td>cash</td>\n",
       "      <td>280000000</td>\n",
       "      <td>2007-05-01</td>\n",
       "    </tr>\n",
       "    <tr>\n",
       "      <th>3</th>\n",
       "      <td>9</td>\n",
       "      <td>59</td>\n",
       "      <td>155</td>\n",
       "      <td>cash</td>\n",
       "      <td>100000000</td>\n",
       "      <td>2007-06-01</td>\n",
       "    </tr>\n",
       "    <tr>\n",
       "      <th>4</th>\n",
       "      <td>10</td>\n",
       "      <td>212</td>\n",
       "      <td>215</td>\n",
       "      <td>cash</td>\n",
       "      <td>25000000</td>\n",
       "      <td>2007-07-01</td>\n",
       "    </tr>\n",
       "    <tr>\n",
       "      <th>...</th>\n",
       "      <td>...</td>\n",
       "      <td>...</td>\n",
       "      <td>...</td>\n",
       "      <td>...</td>\n",
       "      <td>...</td>\n",
       "      <td>...</td>\n",
       "    </tr>\n",
       "    <tr>\n",
       "      <th>9402</th>\n",
       "      <td>10525</td>\n",
       "      <td>267859</td>\n",
       "      <td>285995</td>\n",
       "      <td>stock</td>\n",
       "      <td>222000000</td>\n",
       "      <td>2013-12-11</td>\n",
       "    </tr>\n",
       "    <tr>\n",
       "      <th>9403</th>\n",
       "      <td>10526</td>\n",
       "      <td>285493</td>\n",
       "      <td>286006</td>\n",
       "      <td>NaN</td>\n",
       "      <td>0</td>\n",
       "      <td>2013-12-09</td>\n",
       "    </tr>\n",
       "    <tr>\n",
       "      <th>9404</th>\n",
       "      <td>10527</td>\n",
       "      <td>223792</td>\n",
       "      <td>220208</td>\n",
       "      <td>NaN</td>\n",
       "      <td>26000000000</td>\n",
       "      <td>2007-07-03</td>\n",
       "    </tr>\n",
       "    <tr>\n",
       "      <th>9405</th>\n",
       "      <td>10528</td>\n",
       "      <td>227620</td>\n",
       "      <td>286176</td>\n",
       "      <td>cash</td>\n",
       "      <td>52400000</td>\n",
       "      <td>2013-12-12</td>\n",
       "    </tr>\n",
       "    <tr>\n",
       "      <th>9406</th>\n",
       "      <td>10529</td>\n",
       "      <td>53</td>\n",
       "      <td>92846</td>\n",
       "      <td>NaN</td>\n",
       "      <td>42600000</td>\n",
       "      <td>2013-12-12</td>\n",
       "    </tr>\n",
       "  </tbody>\n",
       "</table>\n",
       "<p>9407 rows × 6 columns</p>\n",
       "</div>"
      ],
      "text/plain": [
       "         id  acquiring_company_id  acquired_company_id term_code  \\\n",
       "0         1                    11                   10       NaN   \n",
       "1         7                    59                   72      cash   \n",
       "2         8                    24                  132      cash   \n",
       "3         9                    59                  155      cash   \n",
       "4        10                   212                  215      cash   \n",
       "...     ...                   ...                  ...       ...   \n",
       "9402  10525                267859               285995     stock   \n",
       "9403  10526                285493               286006       NaN   \n",
       "9404  10527                223792               220208       NaN   \n",
       "9405  10528                227620               286176      cash   \n",
       "9406  10529                    53                92846       NaN   \n",
       "\n",
       "      price_amount acquired_at  \n",
       "0         20000000  2007-05-30  \n",
       "1         60000000  2007-07-01  \n",
       "2        280000000  2007-05-01  \n",
       "3        100000000  2007-06-01  \n",
       "4         25000000  2007-07-01  \n",
       "...            ...         ...  \n",
       "9402     222000000  2013-12-11  \n",
       "9403             0  2013-12-09  \n",
       "9404   26000000000  2007-07-03  \n",
       "9405      52400000  2013-12-12  \n",
       "9406      42600000  2013-12-12  \n",
       "\n",
       "[9407 rows x 6 columns]"
      ]
     },
     "metadata": {},
     "output_type": "display_data"
    }
   ],
   "source": [
    "file_path = 'https://code.s3.yandex.net/datasets/'\n",
    "acquisition_df = pd.read_csv(f'{file_path}acquisition.csv')\n",
    "\n",
    "display(acquisition_df)"
   ]
  },
  {
   "cell_type": "code",
   "execution_count": 154,
   "metadata": {
    "id": "FsL0A8RBrJg1",
    "scrolled": false,
    "vscode": {
     "languageId": "plaintext"
    }
   },
   "outputs": [
    {
     "name": "stdout",
     "output_type": "stream",
     "text": [
      "<class 'pandas.core.frame.DataFrame'>\n",
      "RangeIndex: 9407 entries, 0 to 9406\n",
      "Data columns (total 6 columns):\n",
      " #   Column                Non-Null Count  Dtype \n",
      "---  ------                --------------  ----- \n",
      " 0   id                    9407 non-null   int64 \n",
      " 1   acquiring_company_id  9407 non-null   int64 \n",
      " 2   acquired_company_id   9407 non-null   int64 \n",
      " 3   term_code             1831 non-null   object\n",
      " 4   price_amount          9407 non-null   int64 \n",
      " 5   acquired_at           9378 non-null   object\n",
      "dtypes: int64(4), object(2)\n",
      "memory usage: 441.1+ KB\n"
     ]
    },
    {
     "data": {
      "text/plain": [
       "None"
      ]
     },
     "metadata": {},
     "output_type": "display_data"
    }
   ],
   "source": [
    "display(acquisition_df.info())"
   ]
  },
  {
   "cell_type": "markdown",
   "metadata": {
    "id": "FsL0A8RBrJg1",
    "vscode": {
     "languageId": "plaintext"
    }
   },
   "source": [
    "<font color='#777778'>Пояснение:</font> название столбцов соответствуют их содержанию. Тип данных также релевантен (кроме столбца с датой)."
   ]
  },
  {
   "cell_type": "code",
   "execution_count": 155,
   "metadata": {
    "id": "oNqJ2qpRFebv",
    "scrolled": true
   },
   "outputs": [
    {
     "data": {
      "text/html": [
       "<div>\n",
       "<style scoped>\n",
       "    .dataframe tbody tr th:only-of-type {\n",
       "        vertical-align: middle;\n",
       "    }\n",
       "\n",
       "    .dataframe tbody tr th {\n",
       "        vertical-align: top;\n",
       "    }\n",
       "\n",
       "    .dataframe thead th {\n",
       "        text-align: right;\n",
       "    }\n",
       "</style>\n",
       "<table border=\"1\" class=\"dataframe\">\n",
       "  <thead>\n",
       "    <tr style=\"text-align: right;\">\n",
       "      <th></th>\n",
       "      <th>company  ID</th>\n",
       "      <th>name</th>\n",
       "      <th>category  code</th>\n",
       "      <th>status</th>\n",
       "      <th>founded  at</th>\n",
       "      <th>closed  at</th>\n",
       "      <th>domain</th>\n",
       "      <th>network  username</th>\n",
       "      <th>country  code</th>\n",
       "      <th>investment  rounds</th>\n",
       "      <th>...</th>\n",
       "      <th>milestones</th>\n",
       "      <th>funding  round  id</th>\n",
       "      <th>company  id</th>\n",
       "      <th>funded  at</th>\n",
       "      <th>funding  round  type</th>\n",
       "      <th>raised  amount</th>\n",
       "      <th>pre  money  valuation</th>\n",
       "      <th>participants</th>\n",
       "      <th>is  first  round</th>\n",
       "      <th>is  last  round</th>\n",
       "    </tr>\n",
       "  </thead>\n",
       "  <tbody>\n",
       "    <tr>\n",
       "      <th>0</th>\n",
       "      <td>1.0</td>\n",
       "      <td>Wetpaint</td>\n",
       "      <td>web</td>\n",
       "      <td>operating</td>\n",
       "      <td>2005-10-17</td>\n",
       "      <td>NaN</td>\n",
       "      <td>wetpaint-inc.com</td>\n",
       "      <td>BachelrWetpaint</td>\n",
       "      <td>USA</td>\n",
       "      <td>0.0</td>\n",
       "      <td>...</td>\n",
       "      <td>5.0</td>\n",
       "      <td>888.0</td>\n",
       "      <td>1.0</td>\n",
       "      <td>2005-10-01</td>\n",
       "      <td>series-a</td>\n",
       "      <td>5250000.0</td>\n",
       "      <td>0.0</td>\n",
       "      <td>2.0</td>\n",
       "      <td>0.0</td>\n",
       "      <td>1.0</td>\n",
       "    </tr>\n",
       "    <tr>\n",
       "      <th>1</th>\n",
       "      <td>1.0</td>\n",
       "      <td>Wetpaint</td>\n",
       "      <td>web</td>\n",
       "      <td>operating</td>\n",
       "      <td>2005-10-17</td>\n",
       "      <td>NaN</td>\n",
       "      <td>wetpaint-inc.com</td>\n",
       "      <td>BachelrWetpaint</td>\n",
       "      <td>USA</td>\n",
       "      <td>0.0</td>\n",
       "      <td>...</td>\n",
       "      <td>5.0</td>\n",
       "      <td>889.0</td>\n",
       "      <td>1.0</td>\n",
       "      <td>2007-01-01</td>\n",
       "      <td>series-b</td>\n",
       "      <td>9500000.0</td>\n",
       "      <td>0.0</td>\n",
       "      <td>3.0</td>\n",
       "      <td>0.0</td>\n",
       "      <td>0.0</td>\n",
       "    </tr>\n",
       "    <tr>\n",
       "      <th>2</th>\n",
       "      <td>1.0</td>\n",
       "      <td>Wetpaint</td>\n",
       "      <td>web</td>\n",
       "      <td>operating</td>\n",
       "      <td>2005-10-17</td>\n",
       "      <td>NaN</td>\n",
       "      <td>wetpaint-inc.com</td>\n",
       "      <td>BachelrWetpaint</td>\n",
       "      <td>USA</td>\n",
       "      <td>0.0</td>\n",
       "      <td>...</td>\n",
       "      <td>5.0</td>\n",
       "      <td>2312.0</td>\n",
       "      <td>1.0</td>\n",
       "      <td>2008-05-19</td>\n",
       "      <td>series-c+</td>\n",
       "      <td>25000000.0</td>\n",
       "      <td>0.0</td>\n",
       "      <td>4.0</td>\n",
       "      <td>1.0</td>\n",
       "      <td>0.0</td>\n",
       "    </tr>\n",
       "    <tr>\n",
       "      <th>3</th>\n",
       "      <td>10.0</td>\n",
       "      <td>Flektor</td>\n",
       "      <td>games_video</td>\n",
       "      <td>acquired</td>\n",
       "      <td>NaN</td>\n",
       "      <td>NaN</td>\n",
       "      <td>flektor.com</td>\n",
       "      <td>NaN</td>\n",
       "      <td>USA</td>\n",
       "      <td>0.0</td>\n",
       "      <td>...</td>\n",
       "      <td>0.0</td>\n",
       "      <td>NaN</td>\n",
       "      <td>NaN</td>\n",
       "      <td>NaN</td>\n",
       "      <td>NaN</td>\n",
       "      <td>NaN</td>\n",
       "      <td>NaN</td>\n",
       "      <td>NaN</td>\n",
       "      <td>NaN</td>\n",
       "      <td>NaN</td>\n",
       "    </tr>\n",
       "    <tr>\n",
       "      <th>4</th>\n",
       "      <td>100.0</td>\n",
       "      <td>There</td>\n",
       "      <td>games_video</td>\n",
       "      <td>acquired</td>\n",
       "      <td>NaN</td>\n",
       "      <td>NaN</td>\n",
       "      <td>there.com</td>\n",
       "      <td>NaN</td>\n",
       "      <td>USA</td>\n",
       "      <td>0.0</td>\n",
       "      <td>...</td>\n",
       "      <td>4.0</td>\n",
       "      <td>NaN</td>\n",
       "      <td>NaN</td>\n",
       "      <td>NaN</td>\n",
       "      <td>NaN</td>\n",
       "      <td>NaN</td>\n",
       "      <td>NaN</td>\n",
       "      <td>NaN</td>\n",
       "      <td>NaN</td>\n",
       "      <td>NaN</td>\n",
       "    </tr>\n",
       "    <tr>\n",
       "      <th>...</th>\n",
       "      <td>...</td>\n",
       "      <td>...</td>\n",
       "      <td>...</td>\n",
       "      <td>...</td>\n",
       "      <td>...</td>\n",
       "      <td>...</td>\n",
       "      <td>...</td>\n",
       "      <td>...</td>\n",
       "      <td>...</td>\n",
       "      <td>...</td>\n",
       "      <td>...</td>\n",
       "      <td>...</td>\n",
       "      <td>...</td>\n",
       "      <td>...</td>\n",
       "      <td>...</td>\n",
       "      <td>...</td>\n",
       "      <td>...</td>\n",
       "      <td>...</td>\n",
       "      <td>...</td>\n",
       "      <td>...</td>\n",
       "      <td>...</td>\n",
       "    </tr>\n",
       "    <tr>\n",
       "      <th>217769</th>\n",
       "      <td>NaN</td>\n",
       "      <td>NaN</td>\n",
       "      <td>NaN</td>\n",
       "      <td>NaN</td>\n",
       "      <td>NaN</td>\n",
       "      <td>NaN</td>\n",
       "      <td>NaN</td>\n",
       "      <td>NaN</td>\n",
       "      <td>NaN</td>\n",
       "      <td>NaN</td>\n",
       "      <td>...</td>\n",
       "      <td>NaN</td>\n",
       "      <td>56454.0</td>\n",
       "      <td>282847.0</td>\n",
       "      <td>2011-01-31</td>\n",
       "      <td>other</td>\n",
       "      <td>5500000.0</td>\n",
       "      <td>0.0</td>\n",
       "      <td>0.0</td>\n",
       "      <td>1.0</td>\n",
       "      <td>1.0</td>\n",
       "    </tr>\n",
       "    <tr>\n",
       "      <th>217770</th>\n",
       "      <td>NaN</td>\n",
       "      <td>NaN</td>\n",
       "      <td>NaN</td>\n",
       "      <td>NaN</td>\n",
       "      <td>NaN</td>\n",
       "      <td>NaN</td>\n",
       "      <td>NaN</td>\n",
       "      <td>NaN</td>\n",
       "      <td>NaN</td>\n",
       "      <td>NaN</td>\n",
       "      <td>...</td>\n",
       "      <td>NaN</td>\n",
       "      <td>56542.0</td>\n",
       "      <td>55477.0</td>\n",
       "      <td>2011-01-13</td>\n",
       "      <td>venture</td>\n",
       "      <td>10633300.0</td>\n",
       "      <td>0.0</td>\n",
       "      <td>0.0</td>\n",
       "      <td>0.0</td>\n",
       "      <td>1.0</td>\n",
       "    </tr>\n",
       "    <tr>\n",
       "      <th>217771</th>\n",
       "      <td>NaN</td>\n",
       "      <td>NaN</td>\n",
       "      <td>NaN</td>\n",
       "      <td>NaN</td>\n",
       "      <td>NaN</td>\n",
       "      <td>NaN</td>\n",
       "      <td>NaN</td>\n",
       "      <td>NaN</td>\n",
       "      <td>NaN</td>\n",
       "      <td>NaN</td>\n",
       "      <td>...</td>\n",
       "      <td>NaN</td>\n",
       "      <td>56543.0</td>\n",
       "      <td>55477.0</td>\n",
       "      <td>2012-05-31</td>\n",
       "      <td>venture</td>\n",
       "      <td>2125720.0</td>\n",
       "      <td>0.0</td>\n",
       "      <td>0.0</td>\n",
       "      <td>1.0</td>\n",
       "      <td>0.0</td>\n",
       "    </tr>\n",
       "    <tr>\n",
       "      <th>217772</th>\n",
       "      <td>NaN</td>\n",
       "      <td>NaN</td>\n",
       "      <td>NaN</td>\n",
       "      <td>NaN</td>\n",
       "      <td>NaN</td>\n",
       "      <td>NaN</td>\n",
       "      <td>NaN</td>\n",
       "      <td>NaN</td>\n",
       "      <td>NaN</td>\n",
       "      <td>NaN</td>\n",
       "      <td>...</td>\n",
       "      <td>NaN</td>\n",
       "      <td>56928.0</td>\n",
       "      <td>283492.0</td>\n",
       "      <td>2013-12-03</td>\n",
       "      <td>venture</td>\n",
       "      <td>3602480.0</td>\n",
       "      <td>0.0</td>\n",
       "      <td>5.0</td>\n",
       "      <td>1.0</td>\n",
       "      <td>1.0</td>\n",
       "    </tr>\n",
       "    <tr>\n",
       "      <th>217773</th>\n",
       "      <td>NaN</td>\n",
       "      <td>NaN</td>\n",
       "      <td>NaN</td>\n",
       "      <td>NaN</td>\n",
       "      <td>NaN</td>\n",
       "      <td>NaN</td>\n",
       "      <td>NaN</td>\n",
       "      <td>NaN</td>\n",
       "      <td>NaN</td>\n",
       "      <td>NaN</td>\n",
       "      <td>...</td>\n",
       "      <td>NaN</td>\n",
       "      <td>57063.0</td>\n",
       "      <td>284191.0</td>\n",
       "      <td>2013-12-04</td>\n",
       "      <td>venture</td>\n",
       "      <td>7000000.0</td>\n",
       "      <td>0.0</td>\n",
       "      <td>4.0</td>\n",
       "      <td>1.0</td>\n",
       "      <td>1.0</td>\n",
       "    </tr>\n",
       "  </tbody>\n",
       "</table>\n",
       "<p>217774 rows × 22 columns</p>\n",
       "</div>"
      ],
      "text/plain": [
       "        company  ID      name category  code     status founded  at  \\\n",
       "0               1.0  Wetpaint            web  operating  2005-10-17   \n",
       "1               1.0  Wetpaint            web  operating  2005-10-17   \n",
       "2               1.0  Wetpaint            web  operating  2005-10-17   \n",
       "3              10.0   Flektor    games_video   acquired         NaN   \n",
       "4             100.0     There    games_video   acquired         NaN   \n",
       "...             ...       ...            ...        ...         ...   \n",
       "217769          NaN       NaN            NaN        NaN         NaN   \n",
       "217770          NaN       NaN            NaN        NaN         NaN   \n",
       "217771          NaN       NaN            NaN        NaN         NaN   \n",
       "217772          NaN       NaN            NaN        NaN         NaN   \n",
       "217773          NaN       NaN            NaN        NaN         NaN   \n",
       "\n",
       "       closed  at            domain network  username country  code  \\\n",
       "0             NaN  wetpaint-inc.com   BachelrWetpaint           USA   \n",
       "1             NaN  wetpaint-inc.com   BachelrWetpaint           USA   \n",
       "2             NaN  wetpaint-inc.com   BachelrWetpaint           USA   \n",
       "3             NaN       flektor.com               NaN           USA   \n",
       "4             NaN         there.com               NaN           USA   \n",
       "...           ...               ...               ...           ...   \n",
       "217769        NaN               NaN               NaN           NaN   \n",
       "217770        NaN               NaN               NaN           NaN   \n",
       "217771        NaN               NaN               NaN           NaN   \n",
       "217772        NaN               NaN               NaN           NaN   \n",
       "217773        NaN               NaN               NaN           NaN   \n",
       "\n",
       "        investment  rounds  ...  milestones  funding  round  id  company  id  \\\n",
       "0                      0.0  ...         5.0               888.0          1.0   \n",
       "1                      0.0  ...         5.0               889.0          1.0   \n",
       "2                      0.0  ...         5.0              2312.0          1.0   \n",
       "3                      0.0  ...         0.0                 NaN          NaN   \n",
       "4                      0.0  ...         4.0                 NaN          NaN   \n",
       "...                    ...  ...         ...                 ...          ...   \n",
       "217769                 NaN  ...         NaN             56454.0     282847.0   \n",
       "217770                 NaN  ...         NaN             56542.0      55477.0   \n",
       "217771                 NaN  ...         NaN             56543.0      55477.0   \n",
       "217772                 NaN  ...         NaN             56928.0     283492.0   \n",
       "217773                 NaN  ...         NaN             57063.0     284191.0   \n",
       "\n",
       "        funded  at  funding  round  type raised  amount pre  money  valuation  \\\n",
       "0       2005-10-01              series-a      5250000.0                   0.0   \n",
       "1       2007-01-01              series-b      9500000.0                   0.0   \n",
       "2       2008-05-19             series-c+     25000000.0                   0.0   \n",
       "3              NaN                   NaN            NaN                   NaN   \n",
       "4              NaN                   NaN            NaN                   NaN   \n",
       "...            ...                   ...            ...                   ...   \n",
       "217769  2011-01-31                 other      5500000.0                   0.0   \n",
       "217770  2011-01-13               venture     10633300.0                   0.0   \n",
       "217771  2012-05-31               venture      2125720.0                   0.0   \n",
       "217772  2013-12-03               venture      3602480.0                   0.0   \n",
       "217773  2013-12-04               venture      7000000.0                   0.0   \n",
       "\n",
       "        participants  is  first  round  is  last  round  \n",
       "0                2.0               0.0              1.0  \n",
       "1                3.0               0.0              0.0  \n",
       "2                4.0               1.0              0.0  \n",
       "3                NaN               NaN              NaN  \n",
       "4                NaN               NaN              NaN  \n",
       "...              ...               ...              ...  \n",
       "217769           0.0               1.0              1.0  \n",
       "217770           0.0               0.0              1.0  \n",
       "217771           0.0               1.0              0.0  \n",
       "217772           5.0               1.0              1.0  \n",
       "217773           4.0               1.0              1.0  \n",
       "\n",
       "[217774 rows x 22 columns]"
      ]
     },
     "metadata": {},
     "output_type": "display_data"
    }
   ],
   "source": [
    "company_and_rounds_df = pd.read_csv(f'{file_path}company_and_rounds.csv')\n",
    "\n",
    "display(company_and_rounds_df)"
   ]
  },
  {
   "cell_type": "code",
   "execution_count": 156,
   "metadata": {
    "id": "FsL0A8RBrJg1",
    "scrolled": true,
    "vscode": {
     "languageId": "plaintext"
    }
   },
   "outputs": [
    {
     "name": "stdout",
     "output_type": "stream",
     "text": [
      "<class 'pandas.core.frame.DataFrame'>\n",
      "RangeIndex: 217774 entries, 0 to 217773\n",
      "Data columns (total 22 columns):\n",
      " #   Column                 Non-Null Count   Dtype  \n",
      "---  ------                 --------------   -----  \n",
      " 0   company  ID            217472 non-null  float64\n",
      " 1   name                   217472 non-null  object \n",
      " 2   category  code         143886 non-null  object \n",
      " 3   status                 217472 non-null  object \n",
      " 4   founded  at            109956 non-null  object \n",
      " 5   closed  at             3449 non-null    object \n",
      " 6   domain                 147159 non-null  object \n",
      " 7   network  username      95534 non-null   object \n",
      " 8   country  code          108607 non-null  object \n",
      " 9   investment  rounds     217472 non-null  float64\n",
      " 10  funding  rounds        217472 non-null  float64\n",
      " 11  funding  total         217472 non-null  float64\n",
      " 12  milestones             217472 non-null  float64\n",
      " 13  funding  round  id     52928 non-null   float64\n",
      " 14  company  id            52928 non-null   float64\n",
      " 15  funded  at             52680 non-null   object \n",
      " 16  funding  round  type   52928 non-null   object \n",
      " 17  raised  amount         52928 non-null   float64\n",
      " 18  pre  money  valuation  52928 non-null   float64\n",
      " 19  participants           52928 non-null   float64\n",
      " 20  is  first  round       52928 non-null   float64\n",
      " 21  is  last  round        52928 non-null   float64\n",
      "dtypes: float64(12), object(10)\n",
      "memory usage: 36.6+ MB\n"
     ]
    },
    {
     "data": {
      "text/plain": [
       "None"
      ]
     },
     "metadata": {},
     "output_type": "display_data"
    }
   ],
   "source": [
    "display(company_and_rounds_df.info())"
   ]
  },
  {
   "cell_type": "code",
   "execution_count": 157,
   "metadata": {
    "id": "FsL0A8RBrJg1",
    "scrolled": true,
    "vscode": {
     "languageId": "plaintext"
    }
   },
   "outputs": [
    {
     "data": {
      "text/html": [
       "<div>\n",
       "<style scoped>\n",
       "    .dataframe tbody tr th:only-of-type {\n",
       "        vertical-align: middle;\n",
       "    }\n",
       "\n",
       "    .dataframe tbody tr th {\n",
       "        vertical-align: top;\n",
       "    }\n",
       "\n",
       "    .dataframe thead th {\n",
       "        text-align: right;\n",
       "    }\n",
       "</style>\n",
       "<table border=\"1\" class=\"dataframe\">\n",
       "  <thead>\n",
       "    <tr style=\"text-align: right;\">\n",
       "      <th></th>\n",
       "      <th>company_id_1</th>\n",
       "      <th>name</th>\n",
       "      <th>category_code</th>\n",
       "      <th>status</th>\n",
       "      <th>founded_at</th>\n",
       "      <th>closed_at</th>\n",
       "      <th>domain</th>\n",
       "      <th>network_username</th>\n",
       "      <th>country_code</th>\n",
       "      <th>investment_rounds</th>\n",
       "      <th>...</th>\n",
       "      <th>milestones</th>\n",
       "      <th>funding_round_id</th>\n",
       "      <th>company_id</th>\n",
       "      <th>funded_at</th>\n",
       "      <th>funding_round_type</th>\n",
       "      <th>raised_amount</th>\n",
       "      <th>pre_money_valuation</th>\n",
       "      <th>participants</th>\n",
       "      <th>is_first_round</th>\n",
       "      <th>is_last_round</th>\n",
       "    </tr>\n",
       "  </thead>\n",
       "  <tbody>\n",
       "    <tr>\n",
       "      <th>0</th>\n",
       "      <td>1.0</td>\n",
       "      <td>Wetpaint</td>\n",
       "      <td>web</td>\n",
       "      <td>operating</td>\n",
       "      <td>2005-10-17</td>\n",
       "      <td>NaN</td>\n",
       "      <td>wetpaint-inc.com</td>\n",
       "      <td>BachelrWetpaint</td>\n",
       "      <td>USA</td>\n",
       "      <td>0.0</td>\n",
       "      <td>...</td>\n",
       "      <td>5.0</td>\n",
       "      <td>888.0</td>\n",
       "      <td>1.0</td>\n",
       "      <td>2005-10-01</td>\n",
       "      <td>series-a</td>\n",
       "      <td>5250000.0</td>\n",
       "      <td>0.0</td>\n",
       "      <td>2.0</td>\n",
       "      <td>0.0</td>\n",
       "      <td>1.0</td>\n",
       "    </tr>\n",
       "    <tr>\n",
       "      <th>1</th>\n",
       "      <td>1.0</td>\n",
       "      <td>Wetpaint</td>\n",
       "      <td>web</td>\n",
       "      <td>operating</td>\n",
       "      <td>2005-10-17</td>\n",
       "      <td>NaN</td>\n",
       "      <td>wetpaint-inc.com</td>\n",
       "      <td>BachelrWetpaint</td>\n",
       "      <td>USA</td>\n",
       "      <td>0.0</td>\n",
       "      <td>...</td>\n",
       "      <td>5.0</td>\n",
       "      <td>889.0</td>\n",
       "      <td>1.0</td>\n",
       "      <td>2007-01-01</td>\n",
       "      <td>series-b</td>\n",
       "      <td>9500000.0</td>\n",
       "      <td>0.0</td>\n",
       "      <td>3.0</td>\n",
       "      <td>0.0</td>\n",
       "      <td>0.0</td>\n",
       "    </tr>\n",
       "    <tr>\n",
       "      <th>2</th>\n",
       "      <td>1.0</td>\n",
       "      <td>Wetpaint</td>\n",
       "      <td>web</td>\n",
       "      <td>operating</td>\n",
       "      <td>2005-10-17</td>\n",
       "      <td>NaN</td>\n",
       "      <td>wetpaint-inc.com</td>\n",
       "      <td>BachelrWetpaint</td>\n",
       "      <td>USA</td>\n",
       "      <td>0.0</td>\n",
       "      <td>...</td>\n",
       "      <td>5.0</td>\n",
       "      <td>2312.0</td>\n",
       "      <td>1.0</td>\n",
       "      <td>2008-05-19</td>\n",
       "      <td>series-c+</td>\n",
       "      <td>25000000.0</td>\n",
       "      <td>0.0</td>\n",
       "      <td>4.0</td>\n",
       "      <td>1.0</td>\n",
       "      <td>0.0</td>\n",
       "    </tr>\n",
       "    <tr>\n",
       "      <th>3</th>\n",
       "      <td>10.0</td>\n",
       "      <td>Flektor</td>\n",
       "      <td>games_video</td>\n",
       "      <td>acquired</td>\n",
       "      <td>NaN</td>\n",
       "      <td>NaN</td>\n",
       "      <td>flektor.com</td>\n",
       "      <td>NaN</td>\n",
       "      <td>USA</td>\n",
       "      <td>0.0</td>\n",
       "      <td>...</td>\n",
       "      <td>0.0</td>\n",
       "      <td>NaN</td>\n",
       "      <td>NaN</td>\n",
       "      <td>NaN</td>\n",
       "      <td>NaN</td>\n",
       "      <td>NaN</td>\n",
       "      <td>NaN</td>\n",
       "      <td>NaN</td>\n",
       "      <td>NaN</td>\n",
       "      <td>NaN</td>\n",
       "    </tr>\n",
       "    <tr>\n",
       "      <th>4</th>\n",
       "      <td>100.0</td>\n",
       "      <td>There</td>\n",
       "      <td>games_video</td>\n",
       "      <td>acquired</td>\n",
       "      <td>NaN</td>\n",
       "      <td>NaN</td>\n",
       "      <td>there.com</td>\n",
       "      <td>NaN</td>\n",
       "      <td>USA</td>\n",
       "      <td>0.0</td>\n",
       "      <td>...</td>\n",
       "      <td>4.0</td>\n",
       "      <td>NaN</td>\n",
       "      <td>NaN</td>\n",
       "      <td>NaN</td>\n",
       "      <td>NaN</td>\n",
       "      <td>NaN</td>\n",
       "      <td>NaN</td>\n",
       "      <td>NaN</td>\n",
       "      <td>NaN</td>\n",
       "      <td>NaN</td>\n",
       "    </tr>\n",
       "    <tr>\n",
       "      <th>...</th>\n",
       "      <td>...</td>\n",
       "      <td>...</td>\n",
       "      <td>...</td>\n",
       "      <td>...</td>\n",
       "      <td>...</td>\n",
       "      <td>...</td>\n",
       "      <td>...</td>\n",
       "      <td>...</td>\n",
       "      <td>...</td>\n",
       "      <td>...</td>\n",
       "      <td>...</td>\n",
       "      <td>...</td>\n",
       "      <td>...</td>\n",
       "      <td>...</td>\n",
       "      <td>...</td>\n",
       "      <td>...</td>\n",
       "      <td>...</td>\n",
       "      <td>...</td>\n",
       "      <td>...</td>\n",
       "      <td>...</td>\n",
       "      <td>...</td>\n",
       "    </tr>\n",
       "    <tr>\n",
       "      <th>217769</th>\n",
       "      <td>NaN</td>\n",
       "      <td>NaN</td>\n",
       "      <td>NaN</td>\n",
       "      <td>NaN</td>\n",
       "      <td>NaN</td>\n",
       "      <td>NaN</td>\n",
       "      <td>NaN</td>\n",
       "      <td>NaN</td>\n",
       "      <td>NaN</td>\n",
       "      <td>NaN</td>\n",
       "      <td>...</td>\n",
       "      <td>NaN</td>\n",
       "      <td>56454.0</td>\n",
       "      <td>282847.0</td>\n",
       "      <td>2011-01-31</td>\n",
       "      <td>other</td>\n",
       "      <td>5500000.0</td>\n",
       "      <td>0.0</td>\n",
       "      <td>0.0</td>\n",
       "      <td>1.0</td>\n",
       "      <td>1.0</td>\n",
       "    </tr>\n",
       "    <tr>\n",
       "      <th>217770</th>\n",
       "      <td>NaN</td>\n",
       "      <td>NaN</td>\n",
       "      <td>NaN</td>\n",
       "      <td>NaN</td>\n",
       "      <td>NaN</td>\n",
       "      <td>NaN</td>\n",
       "      <td>NaN</td>\n",
       "      <td>NaN</td>\n",
       "      <td>NaN</td>\n",
       "      <td>NaN</td>\n",
       "      <td>...</td>\n",
       "      <td>NaN</td>\n",
       "      <td>56542.0</td>\n",
       "      <td>55477.0</td>\n",
       "      <td>2011-01-13</td>\n",
       "      <td>venture</td>\n",
       "      <td>10633300.0</td>\n",
       "      <td>0.0</td>\n",
       "      <td>0.0</td>\n",
       "      <td>0.0</td>\n",
       "      <td>1.0</td>\n",
       "    </tr>\n",
       "    <tr>\n",
       "      <th>217771</th>\n",
       "      <td>NaN</td>\n",
       "      <td>NaN</td>\n",
       "      <td>NaN</td>\n",
       "      <td>NaN</td>\n",
       "      <td>NaN</td>\n",
       "      <td>NaN</td>\n",
       "      <td>NaN</td>\n",
       "      <td>NaN</td>\n",
       "      <td>NaN</td>\n",
       "      <td>NaN</td>\n",
       "      <td>...</td>\n",
       "      <td>NaN</td>\n",
       "      <td>56543.0</td>\n",
       "      <td>55477.0</td>\n",
       "      <td>2012-05-31</td>\n",
       "      <td>venture</td>\n",
       "      <td>2125720.0</td>\n",
       "      <td>0.0</td>\n",
       "      <td>0.0</td>\n",
       "      <td>1.0</td>\n",
       "      <td>0.0</td>\n",
       "    </tr>\n",
       "    <tr>\n",
       "      <th>217772</th>\n",
       "      <td>NaN</td>\n",
       "      <td>NaN</td>\n",
       "      <td>NaN</td>\n",
       "      <td>NaN</td>\n",
       "      <td>NaN</td>\n",
       "      <td>NaN</td>\n",
       "      <td>NaN</td>\n",
       "      <td>NaN</td>\n",
       "      <td>NaN</td>\n",
       "      <td>NaN</td>\n",
       "      <td>...</td>\n",
       "      <td>NaN</td>\n",
       "      <td>56928.0</td>\n",
       "      <td>283492.0</td>\n",
       "      <td>2013-12-03</td>\n",
       "      <td>venture</td>\n",
       "      <td>3602480.0</td>\n",
       "      <td>0.0</td>\n",
       "      <td>5.0</td>\n",
       "      <td>1.0</td>\n",
       "      <td>1.0</td>\n",
       "    </tr>\n",
       "    <tr>\n",
       "      <th>217773</th>\n",
       "      <td>NaN</td>\n",
       "      <td>NaN</td>\n",
       "      <td>NaN</td>\n",
       "      <td>NaN</td>\n",
       "      <td>NaN</td>\n",
       "      <td>NaN</td>\n",
       "      <td>NaN</td>\n",
       "      <td>NaN</td>\n",
       "      <td>NaN</td>\n",
       "      <td>NaN</td>\n",
       "      <td>...</td>\n",
       "      <td>NaN</td>\n",
       "      <td>57063.0</td>\n",
       "      <td>284191.0</td>\n",
       "      <td>2013-12-04</td>\n",
       "      <td>venture</td>\n",
       "      <td>7000000.0</td>\n",
       "      <td>0.0</td>\n",
       "      <td>4.0</td>\n",
       "      <td>1.0</td>\n",
       "      <td>1.0</td>\n",
       "    </tr>\n",
       "  </tbody>\n",
       "</table>\n",
       "<p>217774 rows × 22 columns</p>\n",
       "</div>"
      ],
      "text/plain": [
       "        company_id_1      name category_code     status  founded_at closed_at  \\\n",
       "0                1.0  Wetpaint           web  operating  2005-10-17       NaN   \n",
       "1                1.0  Wetpaint           web  operating  2005-10-17       NaN   \n",
       "2                1.0  Wetpaint           web  operating  2005-10-17       NaN   \n",
       "3               10.0   Flektor   games_video   acquired         NaN       NaN   \n",
       "4              100.0     There   games_video   acquired         NaN       NaN   \n",
       "...              ...       ...           ...        ...         ...       ...   \n",
       "217769           NaN       NaN           NaN        NaN         NaN       NaN   \n",
       "217770           NaN       NaN           NaN        NaN         NaN       NaN   \n",
       "217771           NaN       NaN           NaN        NaN         NaN       NaN   \n",
       "217772           NaN       NaN           NaN        NaN         NaN       NaN   \n",
       "217773           NaN       NaN           NaN        NaN         NaN       NaN   \n",
       "\n",
       "                  domain network_username country_code  investment_rounds  \\\n",
       "0       wetpaint-inc.com  BachelrWetpaint          USA                0.0   \n",
       "1       wetpaint-inc.com  BachelrWetpaint          USA                0.0   \n",
       "2       wetpaint-inc.com  BachelrWetpaint          USA                0.0   \n",
       "3            flektor.com              NaN          USA                0.0   \n",
       "4              there.com              NaN          USA                0.0   \n",
       "...                  ...              ...          ...                ...   \n",
       "217769               NaN              NaN          NaN                NaN   \n",
       "217770               NaN              NaN          NaN                NaN   \n",
       "217771               NaN              NaN          NaN                NaN   \n",
       "217772               NaN              NaN          NaN                NaN   \n",
       "217773               NaN              NaN          NaN                NaN   \n",
       "\n",
       "        ...  milestones  funding_round_id  company_id   funded_at  \\\n",
       "0       ...         5.0             888.0         1.0  2005-10-01   \n",
       "1       ...         5.0             889.0         1.0  2007-01-01   \n",
       "2       ...         5.0            2312.0         1.0  2008-05-19   \n",
       "3       ...         0.0               NaN         NaN         NaN   \n",
       "4       ...         4.0               NaN         NaN         NaN   \n",
       "...     ...         ...               ...         ...         ...   \n",
       "217769  ...         NaN           56454.0    282847.0  2011-01-31   \n",
       "217770  ...         NaN           56542.0     55477.0  2011-01-13   \n",
       "217771  ...         NaN           56543.0     55477.0  2012-05-31   \n",
       "217772  ...         NaN           56928.0    283492.0  2013-12-03   \n",
       "217773  ...         NaN           57063.0    284191.0  2013-12-04   \n",
       "\n",
       "        funding_round_type raised_amount pre_money_valuation  participants  \\\n",
       "0                 series-a     5250000.0                 0.0           2.0   \n",
       "1                 series-b     9500000.0                 0.0           3.0   \n",
       "2                series-c+    25000000.0                 0.0           4.0   \n",
       "3                      NaN           NaN                 NaN           NaN   \n",
       "4                      NaN           NaN                 NaN           NaN   \n",
       "...                    ...           ...                 ...           ...   \n",
       "217769               other     5500000.0                 0.0           0.0   \n",
       "217770             venture    10633300.0                 0.0           0.0   \n",
       "217771             venture     2125720.0                 0.0           0.0   \n",
       "217772             venture     3602480.0                 0.0           5.0   \n",
       "217773             venture     7000000.0                 0.0           4.0   \n",
       "\n",
       "        is_first_round  is_last_round  \n",
       "0                  0.0            1.0  \n",
       "1                  0.0            0.0  \n",
       "2                  1.0            0.0  \n",
       "3                  NaN            NaN  \n",
       "4                  NaN            NaN  \n",
       "...                ...            ...  \n",
       "217769             1.0            1.0  \n",
       "217770             0.0            1.0  \n",
       "217771             1.0            0.0  \n",
       "217772             1.0            1.0  \n",
       "217773             1.0            1.0  \n",
       "\n",
       "[217774 rows x 22 columns]"
      ]
     },
     "metadata": {},
     "output_type": "display_data"
    }
   ],
   "source": [
    "current_columns = company_and_rounds_df.columns\n",
    "new_columns = current_columns.str.replace(' +', '_', regex=True).str.lower()\n",
    "new_columns.values[0] = new_columns.values[0] + '_1'\n",
    "company_and_rounds_df.columns = new_columns\n",
    "\n",
    "display(company_and_rounds_df)\n"
   ]
  },
  {
   "cell_type": "code",
   "execution_count": 158,
   "metadata": {
    "id": "FsL0A8RBrJg1",
    "scrolled": true,
    "vscode": {
     "languageId": "plaintext"
    }
   },
   "outputs": [
    {
     "data": {
      "text/plain": [
       "0"
      ]
     },
     "metadata": {},
     "output_type": "display_data"
    }
   ],
   "source": [
    "duplicates = company_and_rounds_df.duplicated(keep='first')\n",
    "num_duplicates = duplicates.sum()\n",
    "\n",
    "\n",
    "display(num_duplicates)"
   ]
  },
  {
   "cell_type": "markdown",
   "metadata": {
    "id": "FsL0A8RBrJg1",
    "vscode": {
     "languageId": "plaintext"
    }
   },
   "source": [
    "<font color='#777778'>Пояснение:</font> название столбцов соответствуют их содержанию, привели их к одинаковому со всеми остальными датасетами виду. Тип данных релевантен во всех случаях, кроме столбцов: founded  at и closed  at. Дубликатов в датасете не обнаружено."
   ]
  },
  {
   "cell_type": "code",
   "execution_count": 159,
   "metadata": {
    "id": "oNqJ2qpRFebv",
    "scrolled": false
   },
   "outputs": [
    {
     "data": {
      "text/html": [
       "<div>\n",
       "<style scoped>\n",
       "    .dataframe tbody tr th:only-of-type {\n",
       "        vertical-align: middle;\n",
       "    }\n",
       "\n",
       "    .dataframe tbody tr th {\n",
       "        vertical-align: top;\n",
       "    }\n",
       "\n",
       "    .dataframe thead th {\n",
       "        text-align: right;\n",
       "    }\n",
       "</style>\n",
       "<table border=\"1\" class=\"dataframe\">\n",
       "  <thead>\n",
       "    <tr style=\"text-align: right;\">\n",
       "      <th></th>\n",
       "      <th>id</th>\n",
       "      <th>person_id</th>\n",
       "      <th>instituition</th>\n",
       "      <th>graduated_at</th>\n",
       "    </tr>\n",
       "  </thead>\n",
       "  <tbody>\n",
       "    <tr>\n",
       "      <th>0</th>\n",
       "      <td>1</td>\n",
       "      <td>6117</td>\n",
       "      <td>NaN</td>\n",
       "      <td>NaN</td>\n",
       "    </tr>\n",
       "    <tr>\n",
       "      <th>1</th>\n",
       "      <td>2</td>\n",
       "      <td>6136</td>\n",
       "      <td>Washington University, St. Louis</td>\n",
       "      <td>1990-01-01</td>\n",
       "    </tr>\n",
       "    <tr>\n",
       "      <th>2</th>\n",
       "      <td>3</td>\n",
       "      <td>6136</td>\n",
       "      <td>Boston University</td>\n",
       "      <td>1992-01-01</td>\n",
       "    </tr>\n",
       "    <tr>\n",
       "      <th>3</th>\n",
       "      <td>4</td>\n",
       "      <td>6005</td>\n",
       "      <td>University of Greenwich</td>\n",
       "      <td>2006-01-01</td>\n",
       "    </tr>\n",
       "    <tr>\n",
       "      <th>4</th>\n",
       "      <td>5</td>\n",
       "      <td>5832</td>\n",
       "      <td>Rice University</td>\n",
       "      <td>NaN</td>\n",
       "    </tr>\n",
       "    <tr>\n",
       "      <th>...</th>\n",
       "      <td>...</td>\n",
       "      <td>...</td>\n",
       "      <td>...</td>\n",
       "      <td>...</td>\n",
       "    </tr>\n",
       "    <tr>\n",
       "      <th>109605</th>\n",
       "      <td>109606</td>\n",
       "      <td>268589</td>\n",
       "      <td>American Institute of Certtified Public Accoun...</td>\n",
       "      <td>NaN</td>\n",
       "    </tr>\n",
       "    <tr>\n",
       "      <th>109606</th>\n",
       "      <td>109607</td>\n",
       "      <td>268527</td>\n",
       "      <td>South China University of Technology</td>\n",
       "      <td>NaN</td>\n",
       "    </tr>\n",
       "    <tr>\n",
       "      <th>109607</th>\n",
       "      <td>109608</td>\n",
       "      <td>268527</td>\n",
       "      <td>Clarkson University</td>\n",
       "      <td>NaN</td>\n",
       "    </tr>\n",
       "    <tr>\n",
       "      <th>109608</th>\n",
       "      <td>109609</td>\n",
       "      <td>268528</td>\n",
       "      <td>Colorado State University</td>\n",
       "      <td>NaN</td>\n",
       "    </tr>\n",
       "    <tr>\n",
       "      <th>109609</th>\n",
       "      <td>109610</td>\n",
       "      <td>268528</td>\n",
       "      <td>University of San Diego School of Law</td>\n",
       "      <td>NaN</td>\n",
       "    </tr>\n",
       "  </tbody>\n",
       "</table>\n",
       "<p>109610 rows × 4 columns</p>\n",
       "</div>"
      ],
      "text/plain": [
       "            id  person_id                                       instituition  \\\n",
       "0            1       6117                                                NaN   \n",
       "1            2       6136                   Washington University, St. Louis   \n",
       "2            3       6136                                  Boston University   \n",
       "3            4       6005                            University of Greenwich   \n",
       "4            5       5832                                    Rice University   \n",
       "...        ...        ...                                                ...   \n",
       "109605  109606     268589  American Institute of Certtified Public Accoun...   \n",
       "109606  109607     268527               South China University of Technology   \n",
       "109607  109608     268527                                Clarkson University   \n",
       "109608  109609     268528                          Colorado State University   \n",
       "109609  109610     268528              University of San Diego School of Law   \n",
       "\n",
       "       graduated_at  \n",
       "0               NaN  \n",
       "1        1990-01-01  \n",
       "2        1992-01-01  \n",
       "3        2006-01-01  \n",
       "4               NaN  \n",
       "...             ...  \n",
       "109605          NaN  \n",
       "109606          NaN  \n",
       "109607          NaN  \n",
       "109608          NaN  \n",
       "109609          NaN  \n",
       "\n",
       "[109610 rows x 4 columns]"
      ]
     },
     "metadata": {},
     "output_type": "display_data"
    }
   ],
   "source": [
    "education_df = pd.read_csv(f'{file_path}education.csv')\n",
    "\n",
    "display(education_df)"
   ]
  },
  {
   "cell_type": "code",
   "execution_count": 160,
   "metadata": {
    "id": "FsL0A8RBrJg1",
    "scrolled": true,
    "vscode": {
     "languageId": "plaintext"
    }
   },
   "outputs": [
    {
     "name": "stdout",
     "output_type": "stream",
     "text": [
      "<class 'pandas.core.frame.DataFrame'>\n",
      "RangeIndex: 109610 entries, 0 to 109609\n",
      "Data columns (total 4 columns):\n",
      " #   Column        Non-Null Count   Dtype \n",
      "---  ------        --------------   ----- \n",
      " 0   id            109610 non-null  int64 \n",
      " 1   person_id     109610 non-null  int64 \n",
      " 2   instituition  109555 non-null  object\n",
      " 3   graduated_at  58054 non-null   object\n",
      "dtypes: int64(2), object(2)\n",
      "memory usage: 3.3+ MB\n"
     ]
    },
    {
     "data": {
      "text/plain": [
       "None"
      ]
     },
     "metadata": {},
     "output_type": "display_data"
    }
   ],
   "source": [
    "display(education_df.info())"
   ]
  },
  {
   "cell_type": "code",
   "execution_count": 161,
   "metadata": {
    "id": "FsL0A8RBrJg1",
    "scrolled": true,
    "vscode": {
     "languageId": "plaintext"
    }
   },
   "outputs": [
    {
     "data": {
      "text/plain": [
       "0"
      ]
     },
     "metadata": {},
     "output_type": "display_data"
    }
   ],
   "source": [
    "duplicates = education_df.duplicated(keep='first')\n",
    "num_duplicates = duplicates.sum()\n",
    "\n",
    "\n",
    "display(num_duplicates)"
   ]
  },
  {
   "cell_type": "markdown",
   "metadata": {
    "id": "FsL0A8RBrJg1",
    "vscode": {
     "languageId": "plaintext"
    }
   },
   "source": [
    "<font color='#777778'>Пояснение:</font> название столбцов соответствуют их содержанию. Тип данных также релевантен. Дубликатов в датасете не обнаружено."
   ]
  },
  {
   "cell_type": "code",
   "execution_count": 162,
   "metadata": {
    "id": "oNqJ2qpRFebv",
    "scrolled": false
   },
   "outputs": [
    {
     "data": {
      "text/html": [
       "<div>\n",
       "<style scoped>\n",
       "    .dataframe tbody tr th:only-of-type {\n",
       "        vertical-align: middle;\n",
       "    }\n",
       "\n",
       "    .dataframe tbody tr th {\n",
       "        vertical-align: top;\n",
       "    }\n",
       "\n",
       "    .dataframe thead th {\n",
       "        text-align: right;\n",
       "    }\n",
       "</style>\n",
       "<table border=\"1\" class=\"dataframe\">\n",
       "  <thead>\n",
       "    <tr style=\"text-align: right;\">\n",
       "      <th></th>\n",
       "      <th>id</th>\n",
       "      <th>first_name</th>\n",
       "      <th>last_name</th>\n",
       "      <th>company_id</th>\n",
       "      <th>network_username</th>\n",
       "    </tr>\n",
       "  </thead>\n",
       "  <tbody>\n",
       "    <tr>\n",
       "      <th>0</th>\n",
       "      <td>10</td>\n",
       "      <td>Mark</td>\n",
       "      <td>Zuckerberg</td>\n",
       "      <td>5.0</td>\n",
       "      <td>NaN</td>\n",
       "    </tr>\n",
       "    <tr>\n",
       "      <th>1</th>\n",
       "      <td>100</td>\n",
       "      <td>Peter</td>\n",
       "      <td>Lester</td>\n",
       "      <td>27.0</td>\n",
       "      <td>NaN</td>\n",
       "    </tr>\n",
       "    <tr>\n",
       "      <th>2</th>\n",
       "      <td>1000</td>\n",
       "      <td>Dr. Steven</td>\n",
       "      <td>E. Saunders</td>\n",
       "      <td>292.0</td>\n",
       "      <td>NaN</td>\n",
       "    </tr>\n",
       "    <tr>\n",
       "      <th>3</th>\n",
       "      <td>10000</td>\n",
       "      <td>Neil</td>\n",
       "      <td>Capel</td>\n",
       "      <td>2526.0</td>\n",
       "      <td>NaN</td>\n",
       "    </tr>\n",
       "    <tr>\n",
       "      <th>4</th>\n",
       "      <td>100000</td>\n",
       "      <td>Sue</td>\n",
       "      <td>Pilsch</td>\n",
       "      <td>NaN</td>\n",
       "      <td>NaN</td>\n",
       "    </tr>\n",
       "    <tr>\n",
       "      <th>...</th>\n",
       "      <td>...</td>\n",
       "      <td>...</td>\n",
       "      <td>...</td>\n",
       "      <td>...</td>\n",
       "      <td>...</td>\n",
       "    </tr>\n",
       "    <tr>\n",
       "      <th>226704</th>\n",
       "      <td>99999</td>\n",
       "      <td>Ramon</td>\n",
       "      <td>Peypoch</td>\n",
       "      <td>NaN</td>\n",
       "      <td>NaN</td>\n",
       "    </tr>\n",
       "    <tr>\n",
       "      <th>226705</th>\n",
       "      <td>174088</td>\n",
       "      <td>Dr. Ray</td>\n",
       "      <td>Woods</td>\n",
       "      <td>188200.0</td>\n",
       "      <td>network</td>\n",
       "    </tr>\n",
       "    <tr>\n",
       "      <th>226706</th>\n",
       "      <td>118386</td>\n",
       "      <td>Ricardo</td>\n",
       "      <td>Durand</td>\n",
       "      <td>143419.0</td>\n",
       "      <td>itechsocialnet</td>\n",
       "    </tr>\n",
       "    <tr>\n",
       "      <th>226707</th>\n",
       "      <td>175827</td>\n",
       "      <td>mahesh</td>\n",
       "      <td>kumar</td>\n",
       "      <td>NaN</td>\n",
       "      <td>socialnethubs</td>\n",
       "    </tr>\n",
       "    <tr>\n",
       "      <th>226708</th>\n",
       "      <td>178190</td>\n",
       "      <td>Alex</td>\n",
       "      <td>Smith</td>\n",
       "      <td>NaN</td>\n",
       "      <td>esocialnetlike</td>\n",
       "    </tr>\n",
       "  </tbody>\n",
       "</table>\n",
       "<p>226709 rows × 5 columns</p>\n",
       "</div>"
      ],
      "text/plain": [
       "            id  first_name    last_name  company_id network_username\n",
       "0           10        Mark   Zuckerberg         5.0              NaN\n",
       "1          100       Peter       Lester        27.0              NaN\n",
       "2         1000  Dr. Steven  E. Saunders       292.0              NaN\n",
       "3        10000        Neil        Capel      2526.0              NaN\n",
       "4       100000         Sue       Pilsch         NaN              NaN\n",
       "...        ...         ...          ...         ...              ...\n",
       "226704   99999       Ramon      Peypoch         NaN              NaN\n",
       "226705  174088     Dr. Ray        Woods    188200.0          network\n",
       "226706  118386     Ricardo       Durand    143419.0   itechsocialnet\n",
       "226707  175827      mahesh        kumar         NaN    socialnethubs\n",
       "226708  178190        Alex        Smith         NaN   esocialnetlike\n",
       "\n",
       "[226709 rows x 5 columns]"
      ]
     },
     "metadata": {},
     "output_type": "display_data"
    }
   ],
   "source": [
    "people_df = pd.read_csv(f'{file_path}people.csv')\n",
    "\n",
    "display(people_df)"
   ]
  },
  {
   "cell_type": "markdown",
   "metadata": {
    "id": "FsL0A8RBrJg1",
    "vscode": {
     "languageId": "plaintext"
    }
   },
   "source": [
    "<font color='#777778'>Пояснение:</font> название столбцов соответствуют их содержанию. Дубликатов не обнаружено."
   ]
  },
  {
   "cell_type": "code",
   "execution_count": 163,
   "metadata": {
    "id": "FsL0A8RBrJg1",
    "scrolled": true,
    "vscode": {
     "languageId": "plaintext"
    }
   },
   "outputs": [
    {
     "data": {
      "text/plain": [
       "0"
      ]
     },
     "metadata": {},
     "output_type": "display_data"
    }
   ],
   "source": [
    "duplicates = people_df.duplicated(keep='first')\n",
    "num_duplicates = duplicates.sum()\n",
    "\n",
    "\n",
    "display(num_duplicates)"
   ]
  },
  {
   "cell_type": "markdown",
   "metadata": {
    "id": "FsL0A8RBrJg1",
    "vscode": {
     "languageId": "plaintext"
    }
   },
   "source": [
    "<font color='#777778'>Пояснение:</font> название столбцов соответствуют их содержанию. Тип данных релевантен во всех случаях. Дубликатов не обнаружено."
   ]
  },
  {
   "cell_type": "code",
   "execution_count": 164,
   "metadata": {
    "id": "oNqJ2qpRFebv",
    "scrolled": false
   },
   "outputs": [
    {
     "data": {
      "text/html": [
       "<div>\n",
       "<style scoped>\n",
       "    .dataframe tbody tr th:only-of-type {\n",
       "        vertical-align: middle;\n",
       "    }\n",
       "\n",
       "    .dataframe tbody tr th {\n",
       "        vertical-align: top;\n",
       "    }\n",
       "\n",
       "    .dataframe thead th {\n",
       "        text-align: right;\n",
       "    }\n",
       "</style>\n",
       "<table border=\"1\" class=\"dataframe\">\n",
       "  <thead>\n",
       "    <tr style=\"text-align: right;\">\n",
       "      <th></th>\n",
       "      <th>id</th>\n",
       "      <th>object_id</th>\n",
       "      <th>degree_type</th>\n",
       "      <th>subject</th>\n",
       "    </tr>\n",
       "  </thead>\n",
       "  <tbody>\n",
       "    <tr>\n",
       "      <th>0</th>\n",
       "      <td>1</td>\n",
       "      <td>p:6117</td>\n",
       "      <td>MBA</td>\n",
       "      <td>NaN</td>\n",
       "    </tr>\n",
       "    <tr>\n",
       "      <th>1</th>\n",
       "      <td>2</td>\n",
       "      <td>p:6136</td>\n",
       "      <td>BA</td>\n",
       "      <td>English, French</td>\n",
       "    </tr>\n",
       "    <tr>\n",
       "      <th>2</th>\n",
       "      <td>3</td>\n",
       "      <td>p:6136</td>\n",
       "      <td>MS</td>\n",
       "      <td>Mass Communication</td>\n",
       "    </tr>\n",
       "    <tr>\n",
       "      <th>3</th>\n",
       "      <td>4</td>\n",
       "      <td>p:6005</td>\n",
       "      <td>MS</td>\n",
       "      <td>Internet Technology</td>\n",
       "    </tr>\n",
       "    <tr>\n",
       "      <th>4</th>\n",
       "      <td>5</td>\n",
       "      <td>p:5832</td>\n",
       "      <td>BCS</td>\n",
       "      <td>Computer Science, Psychology</td>\n",
       "    </tr>\n",
       "    <tr>\n",
       "      <th>...</th>\n",
       "      <td>...</td>\n",
       "      <td>...</td>\n",
       "      <td>...</td>\n",
       "      <td>...</td>\n",
       "    </tr>\n",
       "    <tr>\n",
       "      <th>109605</th>\n",
       "      <td>109606</td>\n",
       "      <td>p:268589</td>\n",
       "      <td>CPA</td>\n",
       "      <td>NaN</td>\n",
       "    </tr>\n",
       "    <tr>\n",
       "      <th>109606</th>\n",
       "      <td>109607</td>\n",
       "      <td>p:268527</td>\n",
       "      <td>MS &amp; BS</td>\n",
       "      <td>Engineering</td>\n",
       "    </tr>\n",
       "    <tr>\n",
       "      <th>109607</th>\n",
       "      <td>109608</td>\n",
       "      <td>p:268527</td>\n",
       "      <td>PhD</td>\n",
       "      <td>Engineering</td>\n",
       "    </tr>\n",
       "    <tr>\n",
       "      <th>109608</th>\n",
       "      <td>109609</td>\n",
       "      <td>p:268528</td>\n",
       "      <td>B.S.</td>\n",
       "      <td>Electrical Engineering</td>\n",
       "    </tr>\n",
       "    <tr>\n",
       "      <th>109609</th>\n",
       "      <td>109610</td>\n",
       "      <td>p:268528</td>\n",
       "      <td>J.D.</td>\n",
       "      <td>NaN</td>\n",
       "    </tr>\n",
       "  </tbody>\n",
       "</table>\n",
       "<p>109610 rows × 4 columns</p>\n",
       "</div>"
      ],
      "text/plain": [
       "            id object_id degree_type                       subject\n",
       "0            1    p:6117         MBA                           NaN\n",
       "1            2    p:6136          BA               English, French\n",
       "2            3    p:6136          MS            Mass Communication\n",
       "3            4    p:6005          MS           Internet Technology\n",
       "4            5    p:5832         BCS  Computer Science, Psychology\n",
       "...        ...       ...         ...                           ...\n",
       "109605  109606  p:268589         CPA                           NaN\n",
       "109606  109607  p:268527     MS & BS                   Engineering\n",
       "109607  109608  p:268527         PhD                   Engineering\n",
       "109608  109609  p:268528        B.S.        Electrical Engineering\n",
       "109609  109610  p:268528        J.D.                           NaN\n",
       "\n",
       "[109610 rows x 4 columns]"
      ]
     },
     "metadata": {},
     "output_type": "display_data"
    }
   ],
   "source": [
    "file_path = 'https://code.s3.yandex.net/datasets/'\n",
    "degrees_df = pd.read_csv(f'{file_path}degrees.csv')\n",
    "\n",
    "display(degrees_df)"
   ]
  },
  {
   "cell_type": "code",
   "execution_count": 165,
   "metadata": {
    "id": "FsL0A8RBrJg1",
    "scrolled": true,
    "vscode": {
     "languageId": "plaintext"
    }
   },
   "outputs": [
    {
     "name": "stdout",
     "output_type": "stream",
     "text": [
      "<class 'pandas.core.frame.DataFrame'>\n",
      "RangeIndex: 109610 entries, 0 to 109609\n",
      "Data columns (total 4 columns):\n",
      " #   Column       Non-Null Count   Dtype \n",
      "---  ------       --------------   ----- \n",
      " 0   id           109610 non-null  int64 \n",
      " 1   object_id    109610 non-null  object\n",
      " 2   degree_type  98392 non-null   object\n",
      " 3   subject      81298 non-null   object\n",
      "dtypes: int64(1), object(3)\n",
      "memory usage: 3.3+ MB\n"
     ]
    },
    {
     "data": {
      "text/plain": [
       "None"
      ]
     },
     "metadata": {},
     "output_type": "display_data"
    }
   ],
   "source": [
    "display(degrees_df.info())"
   ]
  },
  {
   "cell_type": "code",
   "execution_count": 166,
   "metadata": {
    "id": "FsL0A8RBrJg1",
    "scrolled": true,
    "vscode": {
     "languageId": "plaintext"
    }
   },
   "outputs": [
    {
     "data": {
      "text/plain": [
       "0"
      ]
     },
     "metadata": {},
     "output_type": "display_data"
    }
   ],
   "source": [
    "duplicates = degrees_df.duplicated(keep='first')\n",
    "num_duplicates = duplicates.sum()\n",
    "\n",
    "\n",
    "display(num_duplicates)"
   ]
  },
  {
   "cell_type": "markdown",
   "metadata": {
    "id": "FsL0A8RBrJg1",
    "vscode": {
     "languageId": "plaintext"
    }
   },
   "source": [
    "<font color='#777778'>Пояснение:</font> название столбцов соответствуют их содержанию. Дубликатов не обнаружено."
   ]
  },
  {
   "cell_type": "code",
   "execution_count": 167,
   "metadata": {
    "id": "FsL0A8RBrJg1",
    "vscode": {
     "languageId": "plaintext"
    }
   },
   "outputs": [
    {
     "data": {
      "image/png": "[encoded data removed]",
      "text/plain": [
       "<Figure size 432x288 with 1 Axes>"
      ]
     },
     "metadata": {},
     "output_type": "display_data"
    }
   ],
   "source": [
    "first_id = set(company_and_rounds_df['company_id_1'].dropna().unique())\n",
    "second_id = set(company_and_rounds_df['company_id'].dropna().unique())\n",
    "\n",
    "# Строим диаграмму Венна\n",
    "venn2([first_id, second_id], set_labels=('company_id_1', 'company_id'))\n",
    "\n",
    "# Отображаем график\n",
    "plt.title(\"Пересечение \")\n",
    "plt.show() "
   ]
  },
  {
   "cell_type": "markdown",
   "metadata": {
    "id": "mg2gEwh0rJg0"
   },
   "source": [
    "### 1.2. Смена типов и анализ пропусков\n",
    "\n",
    "- Обработайте типы данных в столбцах, которые хранят значения даты и времени, если это необходимо.\n",
    "- Оцените полноту данных — сделайте предварительный вывод, достаточно ли данных для решения задач проекта."
   ]
  },
  {
   "cell_type": "markdown",
   "metadata": {
    "id": "FsL0A8RBrJg1",
    "vscode": {
     "languageId": "plaintext"
    }
   },
   "source": [
    "<font color='#777778'>Пояснение:</font> дата во всех датасетах имеет тип object. Преобразуем в datetime для корректности."
   ]
  },
  {
   "cell_type": "code",
   "execution_count": 168,
   "metadata": {
    "id": "46VskrGyFeJ-"
   },
   "outputs": [],
   "source": [
    "column_name = 'acquired_at'\n",
    "\n",
    "acquisition_df[column_name] = pd.to_datetime(acquisition_df[column_name], format='%Y-%m-%d', errors='coerce')"
   ]
  },
  {
   "cell_type": "code",
   "execution_count": 169,
   "metadata": {
    "id": "46VskrGyFeJ-"
   },
   "outputs": [],
   "source": [
    "date_columns = ['founded_at', 'closed_at']\n",
    "\n",
    "for col in date_columns:\n",
    "\n",
    "    company_and_rounds_df[col] = pd.to_datetime(company_and_rounds_df[col], format='%Y-%m-%d', errors='coerce')"
   ]
  },
  {
   "cell_type": "code",
   "execution_count": 170,
   "metadata": {
    "id": "46VskrGyFeJ-"
   },
   "outputs": [],
   "source": [
    "column_name = 'graduated_at'\n",
    "\n",
    "education_df[column_name] = pd.to_datetime(education_df[column_name], format='%Y-%m-%d', errors='coerce')"
   ]
  },
  {
   "cell_type": "markdown",
   "metadata": {
    "id": "46VskrGyFeJ-"
   },
   "source": [
    "<font color='#777778'>Пояснение:</font> теперь проанализируем пропуски в каждом датасете."
   ]
  },
  {
   "cell_type": "code",
   "execution_count": 171,
   "metadata": {
    "id": "46VskrGyFeJ-"
   },
   "outputs": [
    {
     "data": {
      "text/html": [
       "<style  type=\"text/css\" >\n",
       "#T_8e75f_row0_col0,#T_8e75f_row0_col1{\n",
       "            background-color:  #b40426;\n",
       "            color:  #f1f1f1;\n",
       "        }#T_8e75f_row1_col0,#T_8e75f_row1_col1,#T_8e75f_row2_col0,#T_8e75f_row2_col1,#T_8e75f_row3_col0,#T_8e75f_row3_col1,#T_8e75f_row4_col0,#T_8e75f_row4_col1,#T_8e75f_row5_col0,#T_8e75f_row5_col1{\n",
       "            background-color:  #3b4cc0;\n",
       "            color:  #f1f1f1;\n",
       "        }</style><table id=\"T_8e75f_\" ><thead>    <tr>        <th class=\"blank level0\" ></th>        <th class=\"col_heading level0 col0\" >Кол-во пропусков</th>        <th class=\"col_heading level0 col1\" >Доля пропусков</th>    </tr></thead><tbody>\n",
       "                <tr>\n",
       "                        <th id=\"T_8e75f_level0_row0\" class=\"row_heading level0 row0\" >term_code</th>\n",
       "                        <td id=\"T_8e75f_row0_col0\" class=\"data row0 col0\" >7576</td>\n",
       "                        <td id=\"T_8e75f_row0_col1\" class=\"data row0 col1\" >80.535771</td>\n",
       "            </tr>\n",
       "            <tr>\n",
       "                        <th id=\"T_8e75f_level0_row1\" class=\"row_heading level0 row1\" >acquired_at</th>\n",
       "                        <td id=\"T_8e75f_row1_col0\" class=\"data row1 col0\" >29</td>\n",
       "                        <td id=\"T_8e75f_row1_col1\" class=\"data row1 col1\" >0.308281</td>\n",
       "            </tr>\n",
       "            <tr>\n",
       "                        <th id=\"T_8e75f_level0_row2\" class=\"row_heading level0 row2\" >id</th>\n",
       "                        <td id=\"T_8e75f_row2_col0\" class=\"data row2 col0\" >0</td>\n",
       "                        <td id=\"T_8e75f_row2_col1\" class=\"data row2 col1\" >0.000000</td>\n",
       "            </tr>\n",
       "            <tr>\n",
       "                        <th id=\"T_8e75f_level0_row3\" class=\"row_heading level0 row3\" >acquiring_company_id</th>\n",
       "                        <td id=\"T_8e75f_row3_col0\" class=\"data row3 col0\" >0</td>\n",
       "                        <td id=\"T_8e75f_row3_col1\" class=\"data row3 col1\" >0.000000</td>\n",
       "            </tr>\n",
       "            <tr>\n",
       "                        <th id=\"T_8e75f_level0_row4\" class=\"row_heading level0 row4\" >acquired_company_id</th>\n",
       "                        <td id=\"T_8e75f_row4_col0\" class=\"data row4 col0\" >0</td>\n",
       "                        <td id=\"T_8e75f_row4_col1\" class=\"data row4 col1\" >0.000000</td>\n",
       "            </tr>\n",
       "            <tr>\n",
       "                        <th id=\"T_8e75f_level0_row5\" class=\"row_heading level0 row5\" >price_amount</th>\n",
       "                        <td id=\"T_8e75f_row5_col0\" class=\"data row5 col0\" >0</td>\n",
       "                        <td id=\"T_8e75f_row5_col1\" class=\"data row5 col1\" >0.000000</td>\n",
       "            </tr>\n",
       "    </tbody></table>"
      ],
      "text/plain": [
       "<pandas.io.formats.style.Styler at 0x7f20712f4af0>"
      ]
     },
     "execution_count": 171,
     "metadata": {},
     "output_type": "execute_result"
    }
   ],
   "source": [
    "(pd.DataFrame({'Кол-во пропусков': acquisition_df.isnull().sum(), 'Доля пропусков': acquisition_df.isnull().mean()*100})\n",
    "           .sort_values(by='Кол-во пропусков', ascending=False)\n",
    "           .style.background_gradient(cmap='coolwarm'))"
   ]
  },
  {
   "cell_type": "code",
   "execution_count": 172,
   "metadata": {
    "id": "46VskrGyFeJ-"
   },
   "outputs": [
    {
     "data": {
      "text/html": [
       "<style  type=\"text/css\" >\n",
       "#T_d0031_row0_col0,#T_d0031_row0_col1{\n",
       "            background-color:  #b40426;\n",
       "            color:  #f1f1f1;\n",
       "        }#T_d0031_row1_col0,#T_d0031_row1_col1{\n",
       "            background-color:  #f29072;\n",
       "            color:  #000000;\n",
       "        }#T_d0031_row2_col0,#T_d0031_row2_col1,#T_d0031_row3_col0,#T_d0031_row3_col1,#T_d0031_row4_col0,#T_d0031_row4_col1,#T_d0031_row5_col0,#T_d0031_row5_col1,#T_d0031_row6_col0,#T_d0031_row6_col1,#T_d0031_row7_col0,#T_d0031_row7_col1,#T_d0031_row8_col0,#T_d0031_row8_col1,#T_d0031_row9_col0,#T_d0031_row9_col1{\n",
       "            background-color:  #f29274;\n",
       "            color:  #000000;\n",
       "        }#T_d0031_row10_col0,#T_d0031_row10_col1{\n",
       "            background-color:  #edd2c3;\n",
       "            color:  #000000;\n",
       "        }#T_d0031_row11_col0,#T_d0031_row11_col1{\n",
       "            background-color:  #dfdbd9;\n",
       "            color:  #000000;\n",
       "        }#T_d0031_row12_col0,#T_d0031_row12_col1{\n",
       "            background-color:  #dddcdc;\n",
       "            color:  #000000;\n",
       "        }#T_d0031_row13_col0,#T_d0031_row13_col1{\n",
       "            background-color:  #aec9fc;\n",
       "            color:  #000000;\n",
       "        }#T_d0031_row14_col0,#T_d0031_row14_col1{\n",
       "            background-color:  #a9c6fd;\n",
       "            color:  #000000;\n",
       "        }#T_d0031_row15_col0,#T_d0031_row15_col1,#T_d0031_row16_col0,#T_d0031_row16_col1,#T_d0031_row17_col0,#T_d0031_row17_col1,#T_d0031_row18_col0,#T_d0031_row18_col1,#T_d0031_row19_col0,#T_d0031_row19_col1,#T_d0031_row20_col0,#T_d0031_row20_col1,#T_d0031_row21_col0,#T_d0031_row21_col1{\n",
       "            background-color:  #3b4cc0;\n",
       "            color:  #f1f1f1;\n",
       "        }</style><table id=\"T_d0031_\" ><thead>    <tr>        <th class=\"blank level0\" ></th>        <th class=\"col_heading level0 col0\" >Кол-во пропусков</th>        <th class=\"col_heading level0 col1\" >Доля пропусков</th>    </tr></thead><tbody>\n",
       "                <tr>\n",
       "                        <th id=\"T_d0031_level0_row0\" class=\"row_heading level0 row0\" >closed_at</th>\n",
       "                        <td id=\"T_d0031_row0_col0\" class=\"data row0 col0\" >214325</td>\n",
       "                        <td id=\"T_d0031_row0_col1\" class=\"data row0 col1\" >98.416248</td>\n",
       "            </tr>\n",
       "            <tr>\n",
       "                        <th id=\"T_d0031_level0_row1\" class=\"row_heading level0 row1\" >funded_at</th>\n",
       "                        <td id=\"T_d0031_row1_col0\" class=\"data row1 col0\" >165094</td>\n",
       "                        <td id=\"T_d0031_row1_col1\" class=\"data row1 col1\" >75.809784</td>\n",
       "            </tr>\n",
       "            <tr>\n",
       "                        <th id=\"T_d0031_level0_row2\" class=\"row_heading level0 row2\" >is_last_round</th>\n",
       "                        <td id=\"T_d0031_row2_col0\" class=\"data row2 col0\" >164846</td>\n",
       "                        <td id=\"T_d0031_row2_col1\" class=\"data row2 col1\" >75.695905</td>\n",
       "            </tr>\n",
       "            <tr>\n",
       "                        <th id=\"T_d0031_level0_row3\" class=\"row_heading level0 row3\" >is_first_round</th>\n",
       "                        <td id=\"T_d0031_row3_col0\" class=\"data row3 col0\" >164846</td>\n",
       "                        <td id=\"T_d0031_row3_col1\" class=\"data row3 col1\" >75.695905</td>\n",
       "            </tr>\n",
       "            <tr>\n",
       "                        <th id=\"T_d0031_level0_row4\" class=\"row_heading level0 row4\" >participants</th>\n",
       "                        <td id=\"T_d0031_row4_col0\" class=\"data row4 col0\" >164846</td>\n",
       "                        <td id=\"T_d0031_row4_col1\" class=\"data row4 col1\" >75.695905</td>\n",
       "            </tr>\n",
       "            <tr>\n",
       "                        <th id=\"T_d0031_level0_row5\" class=\"row_heading level0 row5\" >pre_money_valuation</th>\n",
       "                        <td id=\"T_d0031_row5_col0\" class=\"data row5 col0\" >164846</td>\n",
       "                        <td id=\"T_d0031_row5_col1\" class=\"data row5 col1\" >75.695905</td>\n",
       "            </tr>\n",
       "            <tr>\n",
       "                        <th id=\"T_d0031_level0_row6\" class=\"row_heading level0 row6\" >raised_amount</th>\n",
       "                        <td id=\"T_d0031_row6_col0\" class=\"data row6 col0\" >164846</td>\n",
       "                        <td id=\"T_d0031_row6_col1\" class=\"data row6 col1\" >75.695905</td>\n",
       "            </tr>\n",
       "            <tr>\n",
       "                        <th id=\"T_d0031_level0_row7\" class=\"row_heading level0 row7\" >funding_round_type</th>\n",
       "                        <td id=\"T_d0031_row7_col0\" class=\"data row7 col0\" >164846</td>\n",
       "                        <td id=\"T_d0031_row7_col1\" class=\"data row7 col1\" >75.695905</td>\n",
       "            </tr>\n",
       "            <tr>\n",
       "                        <th id=\"T_d0031_level0_row8\" class=\"row_heading level0 row8\" >funding_round_id</th>\n",
       "                        <td id=\"T_d0031_row8_col0\" class=\"data row8 col0\" >164846</td>\n",
       "                        <td id=\"T_d0031_row8_col1\" class=\"data row8 col1\" >75.695905</td>\n",
       "            </tr>\n",
       "            <tr>\n",
       "                        <th id=\"T_d0031_level0_row9\" class=\"row_heading level0 row9\" >company_id</th>\n",
       "                        <td id=\"T_d0031_row9_col0\" class=\"data row9 col0\" >164846</td>\n",
       "                        <td id=\"T_d0031_row9_col1\" class=\"data row9 col1\" >75.695905</td>\n",
       "            </tr>\n",
       "            <tr>\n",
       "                        <th id=\"T_d0031_level0_row10\" class=\"row_heading level0 row10\" >network_username</th>\n",
       "                        <td id=\"T_d0031_row10_col0\" class=\"data row10 col0\" >122240</td>\n",
       "                        <td id=\"T_d0031_row10_col1\" class=\"data row10 col1\" >56.131586</td>\n",
       "            </tr>\n",
       "            <tr>\n",
       "                        <th id=\"T_d0031_level0_row11\" class=\"row_heading level0 row11\" >country_code</th>\n",
       "                        <td id=\"T_d0031_row11_col0\" class=\"data row11 col0\" >109167</td>\n",
       "                        <td id=\"T_d0031_row11_col1\" class=\"data row11 col1\" >50.128574</td>\n",
       "            </tr>\n",
       "            <tr>\n",
       "                        <th id=\"T_d0031_level0_row12\" class=\"row_heading level0 row12\" >founded_at</th>\n",
       "                        <td id=\"T_d0031_row12_col0\" class=\"data row12 col0\" >107818</td>\n",
       "                        <td id=\"T_d0031_row12_col1\" class=\"data row12 col1\" >49.509124</td>\n",
       "            </tr>\n",
       "            <tr>\n",
       "                        <th id=\"T_d0031_level0_row13\" class=\"row_heading level0 row13\" >category_code</th>\n",
       "                        <td id=\"T_d0031_row13_col0\" class=\"data row13 col0\" >73888</td>\n",
       "                        <td id=\"T_d0031_row13_col1\" class=\"data row13 col1\" >33.928752</td>\n",
       "            </tr>\n",
       "            <tr>\n",
       "                        <th id=\"T_d0031_level0_row14\" class=\"row_heading level0 row14\" >domain</th>\n",
       "                        <td id=\"T_d0031_row14_col0\" class=\"data row14 col0\" >70615</td>\n",
       "                        <td id=\"T_d0031_row14_col1\" class=\"data row14 col1\" >32.425818</td>\n",
       "            </tr>\n",
       "            <tr>\n",
       "                        <th id=\"T_d0031_level0_row15\" class=\"row_heading level0 row15\" >company_id_1</th>\n",
       "                        <td id=\"T_d0031_row15_col0\" class=\"data row15 col0\" >302</td>\n",
       "                        <td id=\"T_d0031_row15_col1\" class=\"data row15 col1\" >0.138676</td>\n",
       "            </tr>\n",
       "            <tr>\n",
       "                        <th id=\"T_d0031_level0_row16\" class=\"row_heading level0 row16\" >milestones</th>\n",
       "                        <td id=\"T_d0031_row16_col0\" class=\"data row16 col0\" >302</td>\n",
       "                        <td id=\"T_d0031_row16_col1\" class=\"data row16 col1\" >0.138676</td>\n",
       "            </tr>\n",
       "            <tr>\n",
       "                        <th id=\"T_d0031_level0_row17\" class=\"row_heading level0 row17\" >name</th>\n",
       "                        <td id=\"T_d0031_row17_col0\" class=\"data row17 col0\" >302</td>\n",
       "                        <td id=\"T_d0031_row17_col1\" class=\"data row17 col1\" >0.138676</td>\n",
       "            </tr>\n",
       "            <tr>\n",
       "                        <th id=\"T_d0031_level0_row18\" class=\"row_heading level0 row18\" >funding_rounds</th>\n",
       "                        <td id=\"T_d0031_row18_col0\" class=\"data row18 col0\" >302</td>\n",
       "                        <td id=\"T_d0031_row18_col1\" class=\"data row18 col1\" >0.138676</td>\n",
       "            </tr>\n",
       "            <tr>\n",
       "                        <th id=\"T_d0031_level0_row19\" class=\"row_heading level0 row19\" >investment_rounds</th>\n",
       "                        <td id=\"T_d0031_row19_col0\" class=\"data row19 col0\" >302</td>\n",
       "                        <td id=\"T_d0031_row19_col1\" class=\"data row19 col1\" >0.138676</td>\n",
       "            </tr>\n",
       "            <tr>\n",
       "                        <th id=\"T_d0031_level0_row20\" class=\"row_heading level0 row20\" >status</th>\n",
       "                        <td id=\"T_d0031_row20_col0\" class=\"data row20 col0\" >302</td>\n",
       "                        <td id=\"T_d0031_row20_col1\" class=\"data row20 col1\" >0.138676</td>\n",
       "            </tr>\n",
       "            <tr>\n",
       "                        <th id=\"T_d0031_level0_row21\" class=\"row_heading level0 row21\" >funding_total</th>\n",
       "                        <td id=\"T_d0031_row21_col0\" class=\"data row21 col0\" >302</td>\n",
       "                        <td id=\"T_d0031_row21_col1\" class=\"data row21 col1\" >0.138676</td>\n",
       "            </tr>\n",
       "    </tbody></table>"
      ],
      "text/plain": [
       "<pandas.io.formats.style.Styler at 0x7f20b3059280>"
      ]
     },
     "execution_count": 172,
     "metadata": {},
     "output_type": "execute_result"
    }
   ],
   "source": [
    "(pd.DataFrame({'Кол-во пропусков': company_and_rounds_df.isnull().sum(), 'Доля пропусков': company_and_rounds_df.isnull().mean()*100})\n",
    "           .sort_values(by='Кол-во пропусков', ascending=False)\n",
    "           .style.background_gradient(cmap='coolwarm'))"
   ]
  },
  {
   "cell_type": "code",
   "execution_count": 173,
   "metadata": {
    "id": "46VskrGyFeJ-"
   },
   "outputs": [
    {
     "data": {
      "text/html": [
       "<style  type=\"text/css\" >\n",
       "#T_83fe0_row0_col0,#T_83fe0_row0_col1{\n",
       "            background-color:  #b40426;\n",
       "            color:  #f1f1f1;\n",
       "        }#T_83fe0_row1_col0,#T_83fe0_row1_col1,#T_83fe0_row2_col0,#T_83fe0_row2_col1,#T_83fe0_row3_col0,#T_83fe0_row3_col1{\n",
       "            background-color:  #3b4cc0;\n",
       "            color:  #f1f1f1;\n",
       "        }</style><table id=\"T_83fe0_\" ><thead>    <tr>        <th class=\"blank level0\" ></th>        <th class=\"col_heading level0 col0\" >Кол-во пропусков</th>        <th class=\"col_heading level0 col1\" >Доля пропусков</th>    </tr></thead><tbody>\n",
       "                <tr>\n",
       "                        <th id=\"T_83fe0_level0_row0\" class=\"row_heading level0 row0\" >graduated_at</th>\n",
       "                        <td id=\"T_83fe0_row0_col0\" class=\"data row0 col0\" >51556</td>\n",
       "                        <td id=\"T_83fe0_row0_col1\" class=\"data row0 col1\" >47.035854</td>\n",
       "            </tr>\n",
       "            <tr>\n",
       "                        <th id=\"T_83fe0_level0_row1\" class=\"row_heading level0 row1\" >instituition</th>\n",
       "                        <td id=\"T_83fe0_row1_col0\" class=\"data row1 col0\" >55</td>\n",
       "                        <td id=\"T_83fe0_row1_col1\" class=\"data row1 col1\" >0.050178</td>\n",
       "            </tr>\n",
       "            <tr>\n",
       "                        <th id=\"T_83fe0_level0_row2\" class=\"row_heading level0 row2\" >id</th>\n",
       "                        <td id=\"T_83fe0_row2_col0\" class=\"data row2 col0\" >0</td>\n",
       "                        <td id=\"T_83fe0_row2_col1\" class=\"data row2 col1\" >0.000000</td>\n",
       "            </tr>\n",
       "            <tr>\n",
       "                        <th id=\"T_83fe0_level0_row3\" class=\"row_heading level0 row3\" >person_id</th>\n",
       "                        <td id=\"T_83fe0_row3_col0\" class=\"data row3 col0\" >0</td>\n",
       "                        <td id=\"T_83fe0_row3_col1\" class=\"data row3 col1\" >0.000000</td>\n",
       "            </tr>\n",
       "    </tbody></table>"
      ],
      "text/plain": [
       "<pandas.io.formats.style.Styler at 0x7f20aac36b20>"
      ]
     },
     "execution_count": 173,
     "metadata": {},
     "output_type": "execute_result"
    }
   ],
   "source": [
    "(pd.DataFrame({'Кол-во пропусков': education_df.isnull().sum(), 'Доля пропусков': education_df.isnull().mean()*100})\n",
    "           .sort_values(by='Кол-во пропусков', ascending=False)\n",
    "           .style.background_gradient(cmap='coolwarm'))"
   ]
  },
  {
   "cell_type": "code",
   "execution_count": 174,
   "metadata": {
    "id": "46VskrGyFeJ-"
   },
   "outputs": [
    {
     "data": {
      "text/html": [
       "<style  type=\"text/css\" >\n",
       "#T_7aa36_row0_col0,#T_7aa36_row0_col1{\n",
       "            background-color:  #b40426;\n",
       "            color:  #f1f1f1;\n",
       "        }#T_7aa36_row1_col0,#T_7aa36_row1_col1{\n",
       "            background-color:  #bb1b2c;\n",
       "            color:  #f1f1f1;\n",
       "        }#T_7aa36_row2_col0,#T_7aa36_row2_col1,#T_7aa36_row3_col0,#T_7aa36_row3_col1,#T_7aa36_row4_col0,#T_7aa36_row4_col1{\n",
       "            background-color:  #3b4cc0;\n",
       "            color:  #f1f1f1;\n",
       "        }</style><table id=\"T_7aa36_\" ><thead>    <tr>        <th class=\"blank level0\" ></th>        <th class=\"col_heading level0 col0\" >Кол-во пропусков</th>        <th class=\"col_heading level0 col1\" >Доля пропусков</th>    </tr></thead><tbody>\n",
       "                <tr>\n",
       "                        <th id=\"T_7aa36_level0_row0\" class=\"row_heading level0 row0\" >company_id</th>\n",
       "                        <td id=\"T_7aa36_row0_col0\" class=\"data row0 col0\" >192094</td>\n",
       "                        <td id=\"T_7aa36_row0_col1\" class=\"data row0 col1\" >84.731528</td>\n",
       "            </tr>\n",
       "            <tr>\n",
       "                        <th id=\"T_7aa36_level0_row1\" class=\"row_heading level0 row1\" >network_username</th>\n",
       "                        <td id=\"T_7aa36_row1_col0\" class=\"data row1 col0\" >187842</td>\n",
       "                        <td id=\"T_7aa36_row1_col1\" class=\"data row1 col1\" >82.855996</td>\n",
       "            </tr>\n",
       "            <tr>\n",
       "                        <th id=\"T_7aa36_level0_row2\" class=\"row_heading level0 row2\" >first_name</th>\n",
       "                        <td id=\"T_7aa36_row2_col0\" class=\"data row2 col0\" >5</td>\n",
       "                        <td id=\"T_7aa36_row2_col1\" class=\"data row2 col1\" >0.002205</td>\n",
       "            </tr>\n",
       "            <tr>\n",
       "                        <th id=\"T_7aa36_level0_row3\" class=\"row_heading level0 row3\" >last_name</th>\n",
       "                        <td id=\"T_7aa36_row3_col0\" class=\"data row3 col0\" >1</td>\n",
       "                        <td id=\"T_7aa36_row3_col1\" class=\"data row3 col1\" >0.000441</td>\n",
       "            </tr>\n",
       "            <tr>\n",
       "                        <th id=\"T_7aa36_level0_row4\" class=\"row_heading level0 row4\" >id</th>\n",
       "                        <td id=\"T_7aa36_row4_col0\" class=\"data row4 col0\" >0</td>\n",
       "                        <td id=\"T_7aa36_row4_col1\" class=\"data row4 col1\" >0.000000</td>\n",
       "            </tr>\n",
       "    </tbody></table>"
      ],
      "text/plain": [
       "<pandas.io.formats.style.Styler at 0x7f2071fce670>"
      ]
     },
     "execution_count": 174,
     "metadata": {},
     "output_type": "execute_result"
    }
   ],
   "source": [
    "(pd.DataFrame({'Кол-во пропусков': people_df.isnull().sum(), 'Доля пропусков': people_df.isnull().mean()*100})\n",
    "           .sort_values(by='Кол-во пропусков', ascending=False)\n",
    "           .style.background_gradient(cmap='coolwarm'))"
   ]
  },
  {
   "cell_type": "code",
   "execution_count": 175,
   "metadata": {
    "id": "46VskrGyFeJ-"
   },
   "outputs": [
    {
     "data": {
      "text/html": [
       "<style  type=\"text/css\" >\n",
       "#T_dc7b3_row0_col0,#T_dc7b3_row0_col1{\n",
       "            background-color:  #b40426;\n",
       "            color:  #f1f1f1;\n",
       "        }#T_dc7b3_row1_col0,#T_dc7b3_row1_col1{\n",
       "            background-color:  #bfd3f6;\n",
       "            color:  #000000;\n",
       "        }#T_dc7b3_row2_col0,#T_dc7b3_row2_col1,#T_dc7b3_row3_col0,#T_dc7b3_row3_col1{\n",
       "            background-color:  #3b4cc0;\n",
       "            color:  #f1f1f1;\n",
       "        }</style><table id=\"T_dc7b3_\" ><thead>    <tr>        <th class=\"blank level0\" ></th>        <th class=\"col_heading level0 col0\" >Кол-во пропусков</th>        <th class=\"col_heading level0 col1\" >Доля пропусков</th>    </tr></thead><tbody>\n",
       "                <tr>\n",
       "                        <th id=\"T_dc7b3_level0_row0\" class=\"row_heading level0 row0\" >subject</th>\n",
       "                        <td id=\"T_dc7b3_row0_col0\" class=\"data row0 col0\" >28312</td>\n",
       "                        <td id=\"T_dc7b3_row0_col1\" class=\"data row0 col1\" >25.829760</td>\n",
       "            </tr>\n",
       "            <tr>\n",
       "                        <th id=\"T_dc7b3_level0_row1\" class=\"row_heading level0 row1\" >degree_type</th>\n",
       "                        <td id=\"T_dc7b3_row1_col0\" class=\"data row1 col0\" >11218</td>\n",
       "                        <td id=\"T_dc7b3_row1_col1\" class=\"data row1 col1\" >10.234468</td>\n",
       "            </tr>\n",
       "            <tr>\n",
       "                        <th id=\"T_dc7b3_level0_row2\" class=\"row_heading level0 row2\" >id</th>\n",
       "                        <td id=\"T_dc7b3_row2_col0\" class=\"data row2 col0\" >0</td>\n",
       "                        <td id=\"T_dc7b3_row2_col1\" class=\"data row2 col1\" >0.000000</td>\n",
       "            </tr>\n",
       "            <tr>\n",
       "                        <th id=\"T_dc7b3_level0_row3\" class=\"row_heading level0 row3\" >object_id</th>\n",
       "                        <td id=\"T_dc7b3_row3_col0\" class=\"data row3 col0\" >0</td>\n",
       "                        <td id=\"T_dc7b3_row3_col1\" class=\"data row3 col1\" >0.000000</td>\n",
       "            </tr>\n",
       "    </tbody></table>"
      ],
      "text/plain": [
       "<pandas.io.formats.style.Styler at 0x7f20719903d0>"
      ]
     },
     "execution_count": 175,
     "metadata": {},
     "output_type": "execute_result"
    }
   ],
   "source": [
    "(pd.DataFrame({'Кол-во пропусков': degrees_df.isnull().sum(), 'Доля пропусков': degrees_df.isnull().mean()*100})\n",
    "           .sort_values(by='Кол-во пропусков', ascending=False)\n",
    "           .style.background_gradient(cmap='coolwarm'))"
   ]
  },
  {
   "cell_type": "markdown",
   "metadata": {
    "id": "FsL0A8RBrJg1",
    "vscode": {
     "languageId": "plaintext"
    }
   },
   "source": [
    "<font color='#777778'>Предварительный вывод:</font> \n",
    "- Для первого датасета, содержащего 9407 строк, пропуски характерны для столбцов term_code (только 1831 значений) и acquired_at (9378 значений);\n",
    "\n",
    "- Для второго датасета, содержащего 217472 строк, пропуски встречаются в столбцах category_code (только 143886 значений), founded_at (109956 значений), closed_at (лишь 3449 значений), domain (147159), network_username (95534), country_code (108607), funding_round_id (52928), company_id (52928), funded_at (52680), funding_round_type (52928), raised_amount (52928), pre_money_valuation (52928), participants (52928), is_first_round (52928) и is_last_round (52928). Конечно, количество пропусков в этом датасете достаточно значительно, но их заменить не получится;\n",
    "\n",
    "- Для третьего датасета, содержащего  109610 строк, пропуски характерны для столбцов instituition (109555 не NaN значений) и graduated_at (58054);\n",
    "\n",
    "- Для четвертого датасета, содержащего 226708 строк, пропуск характерны для столбцов company_id (34615), network_username (38867), а также для first_name и last_name;\n",
    "\n",
    "- Для пятого датасета, содержащего 109610 строк, пропуски характерны для столбцов degree_type (только 98392 не NaN значений) и subject (81298).\n",
    "\n",
    "Отметим, что будет невозможно заменить пропуски адекватными значениями, поскольку для указанных столбцов некорректно использовать медианные или средние значения. Поэтому столбцы мы оставляем в том виде, в каком они дошли до нас:)\n",
    "\n",
    "В целом, для решения задач и достижения цели проекта данных достаточно, поскольку все датасеты достаточно объемны. "
   ]
  },
  {
   "cell_type": "code",
   "execution_count": 176,
   "metadata": {
    "id": "FsL0A8RBrJg1",
    "vscode": {
     "languageId": "plaintext"
    }
   },
   "outputs": [
    {
     "data": {
      "text/plain": [
       "<AxesSubplot:>"
      ]
     },
     "execution_count": 176,
     "metadata": {},
     "output_type": "execute_result"
    },
    {
     "data": {
      "image/png": "[encoded data removed]",
      "text/plain": [
       "<Figure size 1440x864 with 2 Axes>"
      ]
     },
     "metadata": {
      "needs_background": "light"
     },
     "output_type": "display_data"
    }
   ],
   "source": [
    "msno.heatmap(company_and_rounds_df)"
   ]
  },
  {
   "cell_type": "code",
   "execution_count": 177,
   "metadata": {
    "id": "FsL0A8RBrJg1",
    "vscode": {
     "languageId": "plaintext"
    }
   },
   "outputs": [
    {
     "data": {
      "text/plain": [
       "<AxesSubplot:>"
      ]
     },
     "execution_count": 177,
     "metadata": {},
     "output_type": "execute_result"
    },
    {
     "data": {
      "image/png": "[encoded data removed]",
      "text/plain": [
       "<Figure size 1800x720 with 2 Axes>"
      ]
     },
     "metadata": {
      "needs_background": "light"
     },
     "output_type": "display_data"
    }
   ],
   "source": [
    "msno.matrix(company_and_rounds_df)"
   ]
  },
  {
   "cell_type": "markdown",
   "metadata": {
    "id": "g2bHIIjcrJg1"
   },
   "source": [
    "\n",
    "### 2.1. Раунды финансирования по годам\n",
    "\n",
    "Задание необходимо выполнить без объединения и дополнительной предобработки на основе датасета `company_and_rounds.csv`.\n",
    "\n",
    "- Составьте сводную таблицу по годам, в которой на основании столбца `raised_amount` для каждого года указан:\n",
    "    - типичный размер средств, выделяемый в рамках одного раунда;\n",
    "    - общее количество раундов финансирования за этот год.\n",
    "    \n",
    "- Оставьте в таблице информацию только для тех лет, для которых есть информация о более чем 50 раундах финансирования.\n",
    "- На основе получившейся таблицы постройте график, который будет отражать динамику типичного размера средств, которые стартапы получали в рамках одного раунда финансирования.\n",
    "\n",
    "На основе полученных данных ответьте на вопросы:\n",
    "\n",
    "- В каком году типичный размер собранных в рамках одного раунда средств был максимален?\n",
    "- Какая тенденция по количеству раундов и выделяемых в рамках каждого раунда средств наблюдалась в 2013 году?"
   ]
  },
  {
   "cell_type": "code",
   "execution_count": 178,
   "metadata": {
    "id": "Cf5IjfOQrJg1",
    "vscode": {
     "languageId": "plaintext"
    }
   },
   "outputs": [
    {
     "data": {
      "text/plain": [
       "'Сводная таблица по годам (более 50 раундов):'"
      ]
     },
     "metadata": {},
     "output_type": "display_data"
    },
    {
     "data": {
      "text/html": [
       "<div>\n",
       "<style scoped>\n",
       "    .dataframe tbody tr th:only-of-type {\n",
       "        vertical-align: middle;\n",
       "    }\n",
       "\n",
       "    .dataframe tbody tr th {\n",
       "        vertical-align: top;\n",
       "    }\n",
       "\n",
       "    .dataframe thead th {\n",
       "        text-align: right;\n",
       "    }\n",
       "</style>\n",
       "<table border=\"1\" class=\"dataframe\">\n",
       "  <thead>\n",
       "    <tr style=\"text-align: right;\">\n",
       "      <th></th>\n",
       "      <th>Typical Raised Amount (Median)</th>\n",
       "      <th>Total Rounds Count</th>\n",
       "    </tr>\n",
       "    <tr>\n",
       "      <th>Year</th>\n",
       "      <th></th>\n",
       "      <th></th>\n",
       "    </tr>\n",
       "  </thead>\n",
       "  <tbody>\n",
       "    <tr>\n",
       "      <th>1999.0</th>\n",
       "      <td>2000000.0</td>\n",
       "      <td>76</td>\n",
       "    </tr>\n",
       "    <tr>\n",
       "      <th>2000.0</th>\n",
       "      <td>4200000.0</td>\n",
       "      <td>125</td>\n",
       "    </tr>\n",
       "    <tr>\n",
       "      <th>2001.0</th>\n",
       "      <td>3000000.0</td>\n",
       "      <td>96</td>\n",
       "    </tr>\n",
       "    <tr>\n",
       "      <th>2002.0</th>\n",
       "      <td>4200000.0</td>\n",
       "      <td>116</td>\n",
       "    </tr>\n",
       "    <tr>\n",
       "      <th>2003.0</th>\n",
       "      <td>3000000.0</td>\n",
       "      <td>159</td>\n",
       "    </tr>\n",
       "    <tr>\n",
       "      <th>2004.0</th>\n",
       "      <td>5000000.0</td>\n",
       "      <td>291</td>\n",
       "    </tr>\n",
       "    <tr>\n",
       "      <th>2005.0</th>\n",
       "      <td>5500000.0</td>\n",
       "      <td>1633</td>\n",
       "    </tr>\n",
       "    <tr>\n",
       "      <th>2006.0</th>\n",
       "      <td>5000000.0</td>\n",
       "      <td>2436</td>\n",
       "    </tr>\n",
       "    <tr>\n",
       "      <th>2007.0</th>\n",
       "      <td>3973320.0</td>\n",
       "      <td>3279</td>\n",
       "    </tr>\n",
       "    <tr>\n",
       "      <th>2008.0</th>\n",
       "      <td>3110000.0</td>\n",
       "      <td>3774</td>\n",
       "    </tr>\n",
       "    <tr>\n",
       "      <th>2009.0</th>\n",
       "      <td>2000000.0</td>\n",
       "      <td>4151</td>\n",
       "    </tr>\n",
       "    <tr>\n",
       "      <th>2010.0</th>\n",
       "      <td>1602500.0</td>\n",
       "      <td>6221</td>\n",
       "    </tr>\n",
       "    <tr>\n",
       "      <th>2011.0</th>\n",
       "      <td>1200000.0</td>\n",
       "      <td>9204</td>\n",
       "    </tr>\n",
       "    <tr>\n",
       "      <th>2012.0</th>\n",
       "      <td>1000000.0</td>\n",
       "      <td>9970</td>\n",
       "    </tr>\n",
       "    <tr>\n",
       "      <th>2013.0</th>\n",
       "      <td>1200000.0</td>\n",
       "      <td>11072</td>\n",
       "    </tr>\n",
       "  </tbody>\n",
       "</table>\n",
       "</div>"
      ],
      "text/plain": [
       "        Typical Raised Amount (Median)  Total Rounds Count\n",
       "Year                                                      \n",
       "1999.0                       2000000.0                  76\n",
       "2000.0                       4200000.0                 125\n",
       "2001.0                       3000000.0                  96\n",
       "2002.0                       4200000.0                 116\n",
       "2003.0                       3000000.0                 159\n",
       "2004.0                       5000000.0                 291\n",
       "2005.0                       5500000.0                1633\n",
       "2006.0                       5000000.0                2436\n",
       "2007.0                       3973320.0                3279\n",
       "2008.0                       3110000.0                3774\n",
       "2009.0                       2000000.0                4151\n",
       "2010.0                       1602500.0                6221\n",
       "2011.0                       1200000.0                9204\n",
       "2012.0                       1000000.0                9970\n",
       "2013.0                       1200000.0               11072"
      ]
     },
     "metadata": {},
     "output_type": "display_data"
    }
   ],
   "source": [
    "company_and_rounds_df['funded_at'] = pd.to_datetime(company_and_rounds_df['funded_at'], format='%Y-%m-%d', errors='coerce')\n",
    "company_and_rounds_df['Year'] = company_and_rounds_df['funded_at'].dt.year\n",
    "company_and_rounds_df['raised_amount'] = pd.to_numeric(company_and_rounds_df['raised_amount'], errors='coerce')\n",
    "\n",
    "pivot_table = company_and_rounds_df.groupby('Year')['raised_amount'].agg(['median', 'count'])\n",
    "\n",
    "pivot_table.rename(columns={'median': 'Typical Raised Amount (Median)',\n",
    "                            'count': 'Total Rounds Count'}, inplace=True)\n",
    "\n",
    "# Фильтрация таблицы: оставляем только года с более чем 50 раундами\n",
    "filtered_pivot_table = pivot_table[pivot_table['Total Rounds Count'] > 50]\n",
    "\n",
    "display(\"Сводная таблица по годам (более 50 раундов):\")\n",
    "display(filtered_pivot_table)"
   ]
  },
  {
   "cell_type": "code",
   "execution_count": 179,
   "metadata": {
    "id": "8Fbz6KmzFdYP",
    "scrolled": false
   },
   "outputs": [
    {
     "name": "stderr",
     "output_type": "stream",
     "text": [
      "/tmp/ipykernel_31/2895281261.py:8: SettingWithCopyWarning: \n",
      "A value is trying to be set on a copy of a slice from a DataFrame.\n",
      "Try using .loc[row_indexer,col_indexer] = value instead\n",
      "\n",
      "See the caveats in the documentation: https://pandas.pydata.org/pandas-docs/stable/user_guide/indexing.html#returning-a-view-versus-a-copy\n",
      "  filtered_pivot_table['Moving Average'] = filtered_pivot_table[amount_col_to_plot].rolling(window=window, center=True).mean()\n"
     ]
    },
    {
     "data": {
      "text/plain": [
       "<Figure size 864x432 with 0 Axes>"
      ]
     },
     "metadata": {},
     "output_type": "display_data"
    },
    {
     "data": {
      "image/png": "[encoded data removed]",
      "text/plain": [
       "<Figure size 864x432 with 1 Axes>"
      ]
     },
     "metadata": {
      "needs_background": "light"
     },
     "output_type": "display_data"
    }
   ],
   "source": [
    "# Построение графика динамики типичного размера средств\n",
    "plt.figure(figsize=(12, 6))\n",
    "\n",
    "amount_col_to_plot = 'Typical Raised Amount (Median)'\n",
    "\n",
    "# Расчет скользящей средней\n",
    "window = 3\n",
    "filtered_pivot_table['Moving Average'] = filtered_pivot_table[amount_col_to_plot].rolling(window=window, center=True).mean()\n",
    "\n",
    "# Построение графика динамики типичного размера средств\n",
    "plt.figure(figsize=(12, 6))\n",
    "\n",
    "# Используем plot для линии по годам\n",
    "plt.plot(filtered_pivot_table.index, filtered_pivot_table[amount_col_to_plot] / 1000000, marker='o', linestyle='-', label='Медианный размер раунда')\n",
    "\n",
    "# Накладываем скользящую среднюю\n",
    "if 'Moving Average' in filtered_pivot_table.columns and not filtered_pivot_table['Moving Average'].isnull().all():\n",
    "    plt.plot(filtered_pivot_table.index, filtered_pivot_table['Moving Average'] / 1000000, linestyle='--', color='red', label=f'Скользящая средняя (окно={window})')\n",
    "\n",
    "plt.title('Динамика типичного размера средств (медиана) по годам (годы > 50 раундов)', fontsize=14)\n",
    "plt.xlabel('Год', fontsize=12)\n",
    "plt.ylabel('Типичный размер средств, млн $ (медиана)', fontsize=12)\n",
    "plt.grid(True, which='both', linestyle='--', linewidth=0.5)\n",
    "plt.xticks(filtered_pivot_table.index) # Показать все года на оси X\n",
    "plt.ticklabel_format(axis='y', style='plain')\n",
    "plt.show()"
   ]
  },
  {
   "cell_type": "markdown",
   "metadata": {
    "id": "Z92DzKMMFdKW"
   },
   "source": [
    "<font color='#777778'>Пояснение:</font> \n",
    "- год, в котором типичный размер собранных средств (медиана) был максимален - 2005. Максимальное медианное значение - 5,500,000;\n",
    "\n",
    "- в 2013 году было проведено 11072 раундов финансирования, что превышает значение предыдущего года на 1102 (в 2012 году - 9970 раундов). Типичный размер средств (медиана) в 2013 году составил 1,200,000, тогда как в 2012 году - 1,000,000."
   ]
  },
  {
   "cell_type": "markdown",
   "metadata": {
    "id": "45if1en1rJg2"
   },
   "source": [
    "\n",
    "### 2.2. Люди и их образование\n",
    "\n",
    "Заказчик хочет понять, зависит ли полнота сведений о сотрудниках (например, об их образовании) от размера компаний.\n",
    "\n",
    "- Оцените, насколько информация об образовании сотрудников полна. Используя датасеты `people.csv` и `education.csv`, разделите все компании на несколько групп по количеству сотрудников и оцените среднюю долю сотрудников без информации об образовании в каждой из групп. Обоснуйте выбранные границы групп.\n",
    "- Оцените, возможно ли для выполнения задания присоединить к этим таблицам ещё и таблицу `degrees.csv`."
   ]
  },
  {
   "cell_type": "code",
   "execution_count": 180,
   "metadata": {
    "id": "psPO7C4MrJg2",
    "scrolled": true,
    "vscode": {
     "languageId": "plaintext"
    }
   },
   "outputs": [
    {
     "data": {
      "text/plain": [
       "'\\nСредняя доля сотрудников без информации об образовании по группам компаний:'"
      ]
     },
     "metadata": {},
     "output_type": "display_data"
    },
    {
     "data": {
      "text/plain": [
       "size_group\n",
       "(0.999, 2.0]    46.31%\n",
       "(2.0, 3.0]      48.68%\n",
       "(3.0, 4.0]      48.50%\n",
       "(4.0, 5.0]      52.07%\n",
       "(5.0, 6.0]      52.54%\n",
       "(6.0, 7.0]      51.86%\n",
       "(7.0, 9.0]      54.34%\n",
       "(9.0, 244.0]    45.30%\n",
       "Name: proportion_no_education, dtype: object"
      ]
     },
     "metadata": {},
     "output_type": "display_data"
    }
   ],
   "source": [
    "# Найдем сотрудников с образованием\n",
    "employees_with_education_ids = education_df['person_id'].unique()\n",
    "employees_with_education_set = set(employees_with_education_ids)\n",
    "\n",
    "# Найдем сотрудников без образования в датасете people\n",
    "# Добавим булев столбец, True если у сотрудника нет записи в education_df\n",
    "people_df['has_no_education'] = ~people_df['id'].isin(employees_with_education_set)\n",
    "\n",
    "# Посчитаем число сотрудников на компанию\n",
    "# Группируем по company_id и считаем количество строк (сотрудников)\n",
    "total_employees_per_company = people_df.groupby('company_id')['id'].count().rename('total_employees')\n",
    "\n",
    "# Посчитаем число сотрудников без образования на компанию\n",
    "employees_without_education_per_company = people_df[people_df['has_no_education']]\\\n",
    "                                                .groupby('company_id')['id'].count()\\\n",
    "                                                .rename('employees_without_education')\n",
    "\n",
    "company_education_completeness = pd.merge(total_employees_per_company,\n",
    "                                              employees_without_education_per_company,\n",
    "                                              left_index=True,\n",
    "                                              right_index=True,\n",
    "                                              how='left')\n",
    "\n",
    "company_education_completeness['proportion_no_education'] = \\\n",
    "company_education_completeness['employees_without_education'] / company_education_completeness['total_employees']\n",
    "\n",
    "# Заполняем NaN значения нулями\n",
    "company_education_completeness['proportion_no_education'] = company_education_completeness['proportion_no_education'].fillna(0)\n",
    "\n",
    "# Удаляем компании с 0 сотрудниками, если такие попали (хотя groupby count >= 1)\n",
    "company_education_completeness = company_education_completeness[company_education_completeness['total_employees'] > 0]\n",
    "\n",
    "num_bins = 150\n",
    "\n",
    "company_education_completeness['size_group'] = pd.qcut(\n",
    "    company_education_completeness['total_employees'],\n",
    "    q=num_bins,\n",
    "    duplicates='drop'\n",
    ")\n",
    "\n",
    "# Посчитаем среднюю долю сотрудников без образования по группам\n",
    "average_proportion_by_group = company_education_completeness.groupby('size_group')['proportion_no_education'].mean()\n",
    "\n",
    "display(\"\\nСредняя доля сотрудников без информации об образовании по группам компаний:\")\n",
    "display(average_proportion_by_group.apply(lambda x: f'{x:.2%}'))"
   ]
  },
  {
   "cell_type": "code",
   "execution_count": 181,
   "metadata": {
    "scrolled": false
   },
   "outputs": [
    {
     "data": {
      "image/png": "[encoded data removed]",
      "text/plain": [
       "<Figure size 720x432 with 1 Axes>"
      ]
     },
     "metadata": {
      "needs_background": "light"
     },
     "output_type": "display_data"
    }
   ],
   "source": [
    "plt.figure(figsize=(10, 6))  # Уменьшим размер графика для лучшего отображения\n",
    "\n",
    "# Используем countplot для визуализации распределения по группам\n",
    "sns.countplot(x='size_group', data=company_education_completeness, palette=\"viridis\")\n",
    "\n",
    "# Добавляем заголовок и подписи\n",
    "plt.title(\"Распределение компаний по размеру (группам)\")\n",
    "plt.xlabel(\"Размер компании (группа)\")\n",
    "plt.ylabel(\"Количество компаний\")\n",
    "\n",
    "# Поворачиваем метки на оси X для читаемости\n",
    "plt.xticks(rotation=45)\n",
    "\n",
    "# Подгоняем размещение элементов для предотвращения наложения\n",
    "plt.tight_layout()\n",
    "\n",
    "# Отображаем график\n",
    "plt.show()"
   ]
  },
  {
   "cell_type": "markdown",
   "metadata": {
    "id": "4mJbK1knrJgz"
   },
   "source": [
    "<div class=\"alert alert-info\"> <b>Комментарии студентаV1:</b> Сделала с q=150, чтобы было 8 корзин.  </div>    "
   ]
  },
  {
   "cell_type": "markdown",
   "metadata": {
    "id": "BThTjpLqFcsm"
   },
   "source": [
    "<font color='#777778'>Пояснения:</font> на основании полученных результатов можно сделать вывод о том, что полнота информации о сотрудниках зависит от размера компании, поскольку, вероятно, для более крупных компаний принципиально важно заполнять эти данные, тогда как для небольших фирм это не является основополагающим.  \n",
    "\n",
    "• Малые компании: компании с 1-2 сотрудниками имеют значительно более высокую долю сотрудников, для которых нет данных об образовании. Это может быть связано с тем, что в малых компаниях, особенно стартапах, формальное образование может не иметь такого значения, как опыт и навыки. Также, сбор данных об образовании может быть менее приоритетным для малых компаний.\n",
    "\n",
    "• Средние компании: доля сотрудников без информации об образовании стабилизируется в диапазоне от 48,68% до 54,34% для групп компаний среднего размера (от 2-3 до 7-9 сотрудников).\n",
    "\n",
    "• Крупные компании: в группе самых крупных компаний (9-244 сотрудника) доля сотрудников без информации об образовании существенно снижается (45.30%). Это может свидетельствовать о том, что крупные компании более тщательно собирают информацию о своих сотрудниках, в том числе об образовании, и что образование играет более важную роль при найме в крупных компаниях. Либо то, что крупным компаниям банально проще вести кадровую отчетность."
   ]
  },
  {
   "cell_type": "markdown",
   "metadata": {
    "id": "4FC98Pd-FcmG"
   },
   "source": [
    "<font color='#777778'>Пояснение_2:</font> таблицу degrees.csv можно присоединить к таблицам people.csv и education.csv, общая колонка для присоединения - идентификатор сотрудника: people.id <--> education.person_id <--> degrees.object_id.\n",
    "\n",
    "Но для поиска ответа на вопрос о зависимости полноты сведений о сотруднике от размера компании таблица degrees.csv не понадобится, поскольку таблица education.csv уже содержит информацию о факте наличия образования. А таблица degrees.csv предоставляет более детальную информацию (тип степени, специальность) для тех, у кого образование есть, т.е. она не помогает определить тех, у кого нет никакой информации об образовании."
   ]
  },
  {
   "cell_type": "markdown",
   "metadata": {
    "id": "Lz7qjM32xglW"
   },
   "source": [
    "### 2.3. Объединять или не объединять — вот в чём вопрос\n",
    "\n",
    "Некоторые названия столбцов встречаются в датасетах чаще других. В результате предварительной проверки датасетов было выяснено, что столбец `company_id` подходит для объединения данных.\n",
    "\n",
    "- Установите, подходит ли для объединения данных столбец `network_username`, который встречается в нескольких датасетах. Нам необходимо понимать, дублируется ли для разных датасетов информация в столбцах с таким названием, и если да — то насколько часто.\n",
    "- Оцените, можно ли использовать столбцы с именем `network_username` для объединения данных."
   ]
  },
  {
   "cell_type": "code",
   "execution_count": 182,
   "metadata": {
    "id": "zyI3rt0rxg1O"
   },
   "outputs": [
    {
     "data": {
      "text/plain": [
       "'Всего уникальных network_username в таблице company_and_rounds: 79374'"
      ]
     },
     "metadata": {},
     "output_type": "display_data"
    },
    {
     "data": {
      "text/plain": [
       "'Всего уникальных network_username в таблице people: 38384'"
      ]
     },
     "metadata": {},
     "output_type": "display_data"
    },
    {
     "data": {
      "text/plain": [
       "'Количество уникальных network_username, присутствующих одновременно в списках ников компаний и сотрудников: 2503'"
      ]
     },
     "metadata": {},
     "output_type": "display_data"
    },
    {
     "data": {
      "text/plain": [
       "'Относительное число уникальных network_username, присутствующих одновременно в списках ников компаний и сотрудников: 2.17%'"
      ]
     },
     "metadata": {},
     "output_type": "display_data"
    },
    {
     "data": {
      "text/plain": [
       "'Количество строк в таблице company_and_rounds,содержащих эти общие network_username: 2864'"
      ]
     },
     "metadata": {},
     "output_type": "display_data"
    },
    {
     "data": {
      "text/plain": [
       "'Количество строк в таблице people,содержащих эти общие network_username: 2584'"
      ]
     },
     "metadata": {},
     "output_type": "display_data"
    }
   ],
   "source": [
    "# Нормализация: приводим network_username к нижнему регистру в обоих DataFrame\n",
    "company_and_rounds_df['network_username'] = company_and_rounds_df['network_username'].str.lower()\n",
    "people_df['network_username'] = people_df['network_username'].str.lower()\n",
    "\n",
    "company_usernames = company_and_rounds_df['network_username'].dropna().unique()\n",
    "company_usernames_set = set(company_usernames)\n",
    "\n",
    "people_usernames = people_df['network_username'].dropna().unique()\n",
    "people_usernames_set = set(people_usernames)\n",
    "\n",
    "company_usernames = company_and_rounds_df['network_username'].dropna().unique()\n",
    "company_usernames_set = set(company_usernames)\n",
    "\n",
    "people_usernames = people_df['network_username'].dropna().unique()\n",
    "people_usernames_set = set(people_usernames)\n",
    "\n",
    "# Находим пересечение этих двух множеств - usernames, которые есть и у компаний, и у людей\n",
    "common_usernames = company_usernames_set.intersection(people_usernames_set)\n",
    "\n",
    "# Считаем количество уникальных общих usernames\n",
    "num_common_unique_usernames = len(common_usernames)\n",
    "\n",
    "# Считаем количество строк в каждом DataFrame, где встречается один из общих usernames\n",
    "# Это покажет, сколько раз эти \"проблемные\" usernames появляются в каждом датасете\n",
    "rows_in_df2_with_common_username = company_and_rounds_df[company_and_rounds_df['network_username'].isin(common_usernames)].shape[0]\n",
    "rows_in_df4_with_common_username = people_df[people_df['network_username'].isin(common_usernames)].shape[0]\n",
    "\n",
    "# Объединяем множества уникальных username из обеих таблиц\n",
    "all_unique_usernames = company_usernames_set.union(people_usernames_set)\n",
    "\n",
    "# Считаем относительную долю пересечения\n",
    "relative_common_unique = len(common_usernames) / len(all_unique_usernames) if len(all_unique_usernames) > 0 else 0\n",
    "\n",
    "# Выводим результаты\n",
    "display(f\"Всего уникальных network_username в таблице company_and_rounds: {len(company_usernames)}\")\n",
    "display(f\"Всего уникальных network_username в таблице people: {len(people_usernames)}\")\n",
    "display()\n",
    "display(f\"Количество уникальных network_username, присутствующих одновременно в списках ников компаний и сотрудников: {num_common_unique_usernames}\")\n",
    "display(f\"Относительное число уникальных network_username, присутствующих одновременно в списках ников компаний и сотрудников: {relative_common_unique:.2%}\")\n",
    "display()\n",
    "display(f\"Количество строк в таблице company_and_rounds,содержащих эти общие network_username: {rows_in_df2_with_common_username}\")\n",
    "display(f\"Количество строк в таблице people,содержащих эти общие network_username: {rows_in_df4_with_common_username}\")"
   ]
  },
  {
   "cell_type": "code",
   "execution_count": 183,
   "metadata": {
    "id": "zyI3rt0rxg1O"
   },
   "outputs": [
    {
     "data": {
      "image/png": "[encoded data removed]",
      "text/plain": [
       "<Figure size 432x288 with 1 Axes>"
      ]
     },
     "metadata": {},
     "output_type": "display_data"
    }
   ],
   "source": [
    "# Множества уникальных network_username для компаний и людей\n",
    "company_usernames_set = set(company_and_rounds_df['network_username'].dropna().unique())\n",
    "people_usernames_set = set(people_df['network_username'].dropna().unique())\n",
    "\n",
    "# Строим диаграмму Венна\n",
    "venn2([company_usernames_set, people_usernames_set], set_labels=('Company Users', 'Fund Users'))\n",
    "\n",
    "# Заголовок и отображение\n",
    "plt.title(\"Пересечение пользователей Company Users и Fund Users\")\n",
    "plt.show()"
   ]
  },
  {
   "cell_type": "markdown",
   "metadata": {
    "id": "RxOS5rwmFcNW"
   },
   "source": [
    "<font color='#777778'>Пояснение:</font> на основании полученных результатов можно сделать вывод о том, что есть ники, которые используются и компаниями, и сотрудниками. В этом случае столбец network_username не подходит для объединения, потому что одно и то же значение ника может относиться к разным типам сущностей (компания vs сотрудник).  "
   ]
  },
  {
   "cell_type": "markdown",
   "metadata": {
    "id": "EHcODomVrJg1"
   },
   "source": [
    "\n",
    "### 2.4. Проблемный датасет и причина возникновения пропусков\n",
    "\n",
    "Во время собственного анализа данных у заказчика больше всего вопросов возникло к датасету `company_and_rounds.csv`. В нём много пропусков как раз в информации о раундах, которая заказчику важна.\n",
    "\n",
    "- Любым удобным способом приведите данные в вид, который позволит в дальнейшем проводить анализ в разрезе отдельных компаний. Обратите внимание на структуру датасета, порядок и названия столбцов, проанализируйте значения.\n",
    "\n",
    "По гипотезе заказчика данные по компаниям из этой таблицы раньше хранились иначе, более удобным для исследования образом.\n",
    "\n",
    "- Максимальным образом сохраняя данные, сохранив их связность и исключив возможные возникающие при этом ошибки, подготовьте данные так, чтобы удобно было отобрать компании по параметрам и рассчитать показатели из расчёта на одну компанию без промежуточных агрегаций."
   ]
  },
  {
   "cell_type": "markdown",
   "metadata": {
    "id": "oSk7xqu_FbaN"
   },
   "source": [
    "<font color='#777778'>Пояснение:</font> в датасете company_and_rounds действительно смешана информация о компаниях (которая должна быть уникальной для каждой компании) с информацией о раундах финансирования (которых у одной компании может быть много). В датасете два столбца с похожими названиями (company_ID и company_id), которые содержат информацию об идентификаторе компании в основной части данных и об идентификаторе компании для отдельных раундов. \n",
    "\n",
    "В этом случае, чтобы максимально сохранить данные и их связность, а также подготовить их для анализа \"в разрезе отдельных компаний\", наиболее логичным подходом будет создание двух связанных датафреймов."
   ]
  },
  {
   "cell_type": "code",
   "execution_count": 184,
   "metadata": {
    "id": "9BY9lTUcFbJ-",
    "scrolled": true
   },
   "outputs": [
    {
     "data": {
      "text/html": [
       "<div>\n",
       "<style scoped>\n",
       "    .dataframe tbody tr th:only-of-type {\n",
       "        vertical-align: middle;\n",
       "    }\n",
       "\n",
       "    .dataframe tbody tr th {\n",
       "        vertical-align: top;\n",
       "    }\n",
       "\n",
       "    .dataframe thead th {\n",
       "        text-align: right;\n",
       "    }\n",
       "</style>\n",
       "<table border=\"1\" class=\"dataframe\">\n",
       "  <thead>\n",
       "    <tr style=\"text-align: right;\">\n",
       "      <th></th>\n",
       "      <th>company_id_1</th>\n",
       "      <th>name</th>\n",
       "      <th>category_code</th>\n",
       "      <th>status</th>\n",
       "      <th>founded_at</th>\n",
       "      <th>closed_at</th>\n",
       "      <th>domain</th>\n",
       "      <th>network_username</th>\n",
       "      <th>country_code</th>\n",
       "      <th>investment_rounds</th>\n",
       "      <th>funding_rounds</th>\n",
       "      <th>funding_total</th>\n",
       "      <th>milestones</th>\n",
       "    </tr>\n",
       "  </thead>\n",
       "  <tbody>\n",
       "    <tr>\n",
       "      <th>0</th>\n",
       "      <td>1.0</td>\n",
       "      <td>Wetpaint</td>\n",
       "      <td>web</td>\n",
       "      <td>operating</td>\n",
       "      <td>2005-10-17</td>\n",
       "      <td>NaT</td>\n",
       "      <td>wetpaint-inc.com</td>\n",
       "      <td>bachelrwetpaint</td>\n",
       "      <td>USA</td>\n",
       "      <td>0.0</td>\n",
       "      <td>3.0</td>\n",
       "      <td>39750000.0</td>\n",
       "      <td>5.0</td>\n",
       "    </tr>\n",
       "    <tr>\n",
       "      <th>1</th>\n",
       "      <td>1.0</td>\n",
       "      <td>Wetpaint</td>\n",
       "      <td>web</td>\n",
       "      <td>operating</td>\n",
       "      <td>2005-10-17</td>\n",
       "      <td>NaT</td>\n",
       "      <td>wetpaint-inc.com</td>\n",
       "      <td>bachelrwetpaint</td>\n",
       "      <td>USA</td>\n",
       "      <td>0.0</td>\n",
       "      <td>3.0</td>\n",
       "      <td>39750000.0</td>\n",
       "      <td>5.0</td>\n",
       "    </tr>\n",
       "    <tr>\n",
       "      <th>2</th>\n",
       "      <td>1.0</td>\n",
       "      <td>Wetpaint</td>\n",
       "      <td>web</td>\n",
       "      <td>operating</td>\n",
       "      <td>2005-10-17</td>\n",
       "      <td>NaT</td>\n",
       "      <td>wetpaint-inc.com</td>\n",
       "      <td>bachelrwetpaint</td>\n",
       "      <td>USA</td>\n",
       "      <td>0.0</td>\n",
       "      <td>3.0</td>\n",
       "      <td>39750000.0</td>\n",
       "      <td>5.0</td>\n",
       "    </tr>\n",
       "    <tr>\n",
       "      <th>3</th>\n",
       "      <td>10.0</td>\n",
       "      <td>Flektor</td>\n",
       "      <td>games_video</td>\n",
       "      <td>acquired</td>\n",
       "      <td>NaT</td>\n",
       "      <td>NaT</td>\n",
       "      <td>flektor.com</td>\n",
       "      <td>NaN</td>\n",
       "      <td>USA</td>\n",
       "      <td>0.0</td>\n",
       "      <td>0.0</td>\n",
       "      <td>0.0</td>\n",
       "      <td>0.0</td>\n",
       "    </tr>\n",
       "    <tr>\n",
       "      <th>4</th>\n",
       "      <td>100.0</td>\n",
       "      <td>There</td>\n",
       "      <td>games_video</td>\n",
       "      <td>acquired</td>\n",
       "      <td>NaT</td>\n",
       "      <td>NaT</td>\n",
       "      <td>there.com</td>\n",
       "      <td>NaN</td>\n",
       "      <td>USA</td>\n",
       "      <td>0.0</td>\n",
       "      <td>0.0</td>\n",
       "      <td>0.0</td>\n",
       "      <td>4.0</td>\n",
       "    </tr>\n",
       "    <tr>\n",
       "      <th>...</th>\n",
       "      <td>...</td>\n",
       "      <td>...</td>\n",
       "      <td>...</td>\n",
       "      <td>...</td>\n",
       "      <td>...</td>\n",
       "      <td>...</td>\n",
       "      <td>...</td>\n",
       "      <td>...</td>\n",
       "      <td>...</td>\n",
       "      <td>...</td>\n",
       "      <td>...</td>\n",
       "      <td>...</td>\n",
       "      <td>...</td>\n",
       "    </tr>\n",
       "    <tr>\n",
       "      <th>217769</th>\n",
       "      <td>NaN</td>\n",
       "      <td>NaN</td>\n",
       "      <td>NaN</td>\n",
       "      <td>NaN</td>\n",
       "      <td>NaT</td>\n",
       "      <td>NaT</td>\n",
       "      <td>NaN</td>\n",
       "      <td>NaN</td>\n",
       "      <td>NaN</td>\n",
       "      <td>NaN</td>\n",
       "      <td>NaN</td>\n",
       "      <td>NaN</td>\n",
       "      <td>NaN</td>\n",
       "    </tr>\n",
       "    <tr>\n",
       "      <th>217770</th>\n",
       "      <td>NaN</td>\n",
       "      <td>NaN</td>\n",
       "      <td>NaN</td>\n",
       "      <td>NaN</td>\n",
       "      <td>NaT</td>\n",
       "      <td>NaT</td>\n",
       "      <td>NaN</td>\n",
       "      <td>NaN</td>\n",
       "      <td>NaN</td>\n",
       "      <td>NaN</td>\n",
       "      <td>NaN</td>\n",
       "      <td>NaN</td>\n",
       "      <td>NaN</td>\n",
       "    </tr>\n",
       "    <tr>\n",
       "      <th>217771</th>\n",
       "      <td>NaN</td>\n",
       "      <td>NaN</td>\n",
       "      <td>NaN</td>\n",
       "      <td>NaN</td>\n",
       "      <td>NaT</td>\n",
       "      <td>NaT</td>\n",
       "      <td>NaN</td>\n",
       "      <td>NaN</td>\n",
       "      <td>NaN</td>\n",
       "      <td>NaN</td>\n",
       "      <td>NaN</td>\n",
       "      <td>NaN</td>\n",
       "      <td>NaN</td>\n",
       "    </tr>\n",
       "    <tr>\n",
       "      <th>217772</th>\n",
       "      <td>NaN</td>\n",
       "      <td>NaN</td>\n",
       "      <td>NaN</td>\n",
       "      <td>NaN</td>\n",
       "      <td>NaT</td>\n",
       "      <td>NaT</td>\n",
       "      <td>NaN</td>\n",
       "      <td>NaN</td>\n",
       "      <td>NaN</td>\n",
       "      <td>NaN</td>\n",
       "      <td>NaN</td>\n",
       "      <td>NaN</td>\n",
       "      <td>NaN</td>\n",
       "    </tr>\n",
       "    <tr>\n",
       "      <th>217773</th>\n",
       "      <td>NaN</td>\n",
       "      <td>NaN</td>\n",
       "      <td>NaN</td>\n",
       "      <td>NaN</td>\n",
       "      <td>NaT</td>\n",
       "      <td>NaT</td>\n",
       "      <td>NaN</td>\n",
       "      <td>NaN</td>\n",
       "      <td>NaN</td>\n",
       "      <td>NaN</td>\n",
       "      <td>NaN</td>\n",
       "      <td>NaN</td>\n",
       "      <td>NaN</td>\n",
       "    </tr>\n",
       "  </tbody>\n",
       "</table>\n",
       "<p>217774 rows × 13 columns</p>\n",
       "</div>"
      ],
      "text/plain": [
       "        company_id_1      name category_code     status founded_at closed_at  \\\n",
       "0                1.0  Wetpaint           web  operating 2005-10-17       NaT   \n",
       "1                1.0  Wetpaint           web  operating 2005-10-17       NaT   \n",
       "2                1.0  Wetpaint           web  operating 2005-10-17       NaT   \n",
       "3               10.0   Flektor   games_video   acquired        NaT       NaT   \n",
       "4              100.0     There   games_video   acquired        NaT       NaT   \n",
       "...              ...       ...           ...        ...        ...       ...   \n",
       "217769           NaN       NaN           NaN        NaN        NaT       NaT   \n",
       "217770           NaN       NaN           NaN        NaN        NaT       NaT   \n",
       "217771           NaN       NaN           NaN        NaN        NaT       NaT   \n",
       "217772           NaN       NaN           NaN        NaN        NaT       NaT   \n",
       "217773           NaN       NaN           NaN        NaN        NaT       NaT   \n",
       "\n",
       "                  domain network_username country_code  investment_rounds  \\\n",
       "0       wetpaint-inc.com  bachelrwetpaint          USA                0.0   \n",
       "1       wetpaint-inc.com  bachelrwetpaint          USA                0.0   \n",
       "2       wetpaint-inc.com  bachelrwetpaint          USA                0.0   \n",
       "3            flektor.com              NaN          USA                0.0   \n",
       "4              there.com              NaN          USA                0.0   \n",
       "...                  ...              ...          ...                ...   \n",
       "217769               NaN              NaN          NaN                NaN   \n",
       "217770               NaN              NaN          NaN                NaN   \n",
       "217771               NaN              NaN          NaN                NaN   \n",
       "217772               NaN              NaN          NaN                NaN   \n",
       "217773               NaN              NaN          NaN                NaN   \n",
       "\n",
       "        funding_rounds  funding_total  milestones  \n",
       "0                  3.0     39750000.0         5.0  \n",
       "1                  3.0     39750000.0         5.0  \n",
       "2                  3.0     39750000.0         5.0  \n",
       "3                  0.0            0.0         0.0  \n",
       "4                  0.0            0.0         4.0  \n",
       "...                ...            ...         ...  \n",
       "217769             NaN            NaN         NaN  \n",
       "217770             NaN            NaN         NaN  \n",
       "217771             NaN            NaN         NaN  \n",
       "217772             NaN            NaN         NaN  \n",
       "217773             NaN            NaN         NaN  \n",
       "\n",
       "[217774 rows x 13 columns]"
      ]
     },
     "metadata": {},
     "output_type": "display_data"
    }
   ],
   "source": [
    "company_cols_original = [\n",
    "    'company_id_1',\n",
    "    'name',\n",
    "    'category_code',\n",
    "    'status',\n",
    "    'founded_at',\n",
    "    'closed_at',\n",
    "    'domain',\n",
    "    'network_username',\n",
    "    'country_code',\n",
    "    'investment_rounds',\n",
    "    'funding_rounds',\n",
    "    'funding_total',\n",
    "    'milestones',\n",
    "]\n",
    "\n",
    "round_cols_original = [\n",
    "    'funding_round_id',\n",
    "    'company_id',\n",
    "    'funded_at',\n",
    "    'funding_round_type',\n",
    "    'raised_amount',\n",
    "    'pre_money_valuation',\n",
    "    'participants',\n",
    "    'is_first_round',\n",
    "    'is_last_round',\n",
    "]\n",
    "\n",
    "# Создаем первый датафрейм, выбирая только нужные колонки\n",
    "companies_df_simple = company_and_rounds_df[company_cols_original].copy()\n",
    "\n",
    "# Создаем второй датафрейм, выбирая только нужные колонки\n",
    "rounds_df_simple = company_and_rounds_df[round_cols_original].copy()\n",
    "\n",
    "display(companies_df_simple)"
   ]
  },
  {
   "cell_type": "code",
   "execution_count": 185,
   "metadata": {
    "id": "tJ6Sl6MKrJg1",
    "vscode": {
     "languageId": "plaintext"
    }
   },
   "outputs": [
    {
     "data": {
      "text/plain": [
       "'Количество полных дубликатов: 21220'"
      ]
     },
     "metadata": {},
     "output_type": "display_data"
    }
   ],
   "source": [
    "duplicates = companies_df_simple.duplicated(keep='first')\n",
    "num_duplicates = duplicates.sum()\n",
    "\n",
    "display(f\"Количество полных дубликатов: {num_duplicates}\")"
   ]
  },
  {
   "cell_type": "code",
   "execution_count": 186,
   "metadata": {
    "id": "tJ6Sl6MKrJg1",
    "scrolled": true,
    "vscode": {
     "languageId": "plaintext"
    }
   },
   "outputs": [
    {
     "data": {
      "text/html": [
       "<div>\n",
       "<style scoped>\n",
       "    .dataframe tbody tr th:only-of-type {\n",
       "        vertical-align: middle;\n",
       "    }\n",
       "\n",
       "    .dataframe tbody tr th {\n",
       "        vertical-align: top;\n",
       "    }\n",
       "\n",
       "    .dataframe thead th {\n",
       "        text-align: right;\n",
       "    }\n",
       "</style>\n",
       "<table border=\"1\" class=\"dataframe\">\n",
       "  <thead>\n",
       "    <tr style=\"text-align: right;\">\n",
       "      <th></th>\n",
       "      <th>company_id_1</th>\n",
       "      <th>name</th>\n",
       "      <th>category_code</th>\n",
       "      <th>status</th>\n",
       "      <th>founded_at</th>\n",
       "      <th>closed_at</th>\n",
       "      <th>domain</th>\n",
       "      <th>network_username</th>\n",
       "      <th>country_code</th>\n",
       "      <th>investment_rounds</th>\n",
       "      <th>funding_rounds</th>\n",
       "      <th>funding_total</th>\n",
       "      <th>milestones</th>\n",
       "    </tr>\n",
       "  </thead>\n",
       "  <tbody>\n",
       "    <tr>\n",
       "      <th>0</th>\n",
       "      <td>1.0</td>\n",
       "      <td>Wetpaint</td>\n",
       "      <td>web</td>\n",
       "      <td>operating</td>\n",
       "      <td>2005-10-17</td>\n",
       "      <td>NaT</td>\n",
       "      <td>wetpaint-inc.com</td>\n",
       "      <td>bachelrwetpaint</td>\n",
       "      <td>USA</td>\n",
       "      <td>0.0</td>\n",
       "      <td>3.0</td>\n",
       "      <td>39750000.0</td>\n",
       "      <td>5.0</td>\n",
       "    </tr>\n",
       "    <tr>\n",
       "      <th>1</th>\n",
       "      <td>1.0</td>\n",
       "      <td>Wetpaint</td>\n",
       "      <td>web</td>\n",
       "      <td>operating</td>\n",
       "      <td>2005-10-17</td>\n",
       "      <td>NaT</td>\n",
       "      <td>wetpaint-inc.com</td>\n",
       "      <td>bachelrwetpaint</td>\n",
       "      <td>USA</td>\n",
       "      <td>0.0</td>\n",
       "      <td>3.0</td>\n",
       "      <td>39750000.0</td>\n",
       "      <td>5.0</td>\n",
       "    </tr>\n",
       "    <tr>\n",
       "      <th>2</th>\n",
       "      <td>1.0</td>\n",
       "      <td>Wetpaint</td>\n",
       "      <td>web</td>\n",
       "      <td>operating</td>\n",
       "      <td>2005-10-17</td>\n",
       "      <td>NaT</td>\n",
       "      <td>wetpaint-inc.com</td>\n",
       "      <td>bachelrwetpaint</td>\n",
       "      <td>USA</td>\n",
       "      <td>0.0</td>\n",
       "      <td>3.0</td>\n",
       "      <td>39750000.0</td>\n",
       "      <td>5.0</td>\n",
       "    </tr>\n",
       "    <tr>\n",
       "      <th>3</th>\n",
       "      <td>10.0</td>\n",
       "      <td>Flektor</td>\n",
       "      <td>games_video</td>\n",
       "      <td>acquired</td>\n",
       "      <td>NaT</td>\n",
       "      <td>NaT</td>\n",
       "      <td>flektor.com</td>\n",
       "      <td>NaN</td>\n",
       "      <td>USA</td>\n",
       "      <td>0.0</td>\n",
       "      <td>0.0</td>\n",
       "      <td>0.0</td>\n",
       "      <td>0.0</td>\n",
       "    </tr>\n",
       "    <tr>\n",
       "      <th>4</th>\n",
       "      <td>100.0</td>\n",
       "      <td>There</td>\n",
       "      <td>games_video</td>\n",
       "      <td>acquired</td>\n",
       "      <td>NaT</td>\n",
       "      <td>NaT</td>\n",
       "      <td>there.com</td>\n",
       "      <td>NaN</td>\n",
       "      <td>USA</td>\n",
       "      <td>0.0</td>\n",
       "      <td>0.0</td>\n",
       "      <td>0.0</td>\n",
       "      <td>4.0</td>\n",
       "    </tr>\n",
       "  </tbody>\n",
       "</table>\n",
       "</div>"
      ],
      "text/plain": [
       "   company_id_1      name category_code     status founded_at closed_at  \\\n",
       "0           1.0  Wetpaint           web  operating 2005-10-17       NaT   \n",
       "1           1.0  Wetpaint           web  operating 2005-10-17       NaT   \n",
       "2           1.0  Wetpaint           web  operating 2005-10-17       NaT   \n",
       "3          10.0   Flektor   games_video   acquired        NaT       NaT   \n",
       "4         100.0     There   games_video   acquired        NaT       NaT   \n",
       "\n",
       "             domain network_username country_code  investment_rounds  \\\n",
       "0  wetpaint-inc.com  bachelrwetpaint          USA                0.0   \n",
       "1  wetpaint-inc.com  bachelrwetpaint          USA                0.0   \n",
       "2  wetpaint-inc.com  bachelrwetpaint          USA                0.0   \n",
       "3       flektor.com              NaN          USA                0.0   \n",
       "4         there.com              NaN          USA                0.0   \n",
       "\n",
       "   funding_rounds  funding_total  milestones  \n",
       "0             3.0     39750000.0         5.0  \n",
       "1             3.0     39750000.0         5.0  \n",
       "2             3.0     39750000.0         5.0  \n",
       "3             0.0            0.0         0.0  \n",
       "4             0.0            0.0         4.0  "
      ]
     },
     "metadata": {},
     "output_type": "display_data"
    },
    {
     "data": {
      "text/plain": [
       "'\\nКоличество строк после удаления дубликатов: 196554'"
      ]
     },
     "metadata": {},
     "output_type": "display_data"
    }
   ],
   "source": [
    "duplicates = companies_df_simple.duplicated(keep='first')\n",
    "companies_df_simple_cleaned = companies_df_simple[~duplicates].reset_index(drop=True)\n",
    "num_rows_after = companies_df_simple_cleaned.shape[0]\n",
    "\n",
    "display(companies_df_simple.head())\n",
    "display(f\"\\nКоличество строк после удаления дубликатов: {num_rows_after}\")\n"
   ]
  },
  {
   "cell_type": "code",
   "execution_count": 187,
   "metadata": {
    "id": "tJ6Sl6MKrJg1",
    "vscode": {
     "languageId": "plaintext"
    }
   },
   "outputs": [
    {
     "data": {
      "text/plain": [
       "164845"
      ]
     },
     "metadata": {},
     "output_type": "display_data"
    }
   ],
   "source": [
    "duplicates = rounds_df_simple.duplicated(keep='first')\n",
    "num_duplicates = duplicates.sum()\n",
    "\n",
    "\n",
    "display(num_duplicates)"
   ]
  },
  {
   "cell_type": "code",
   "execution_count": 188,
   "metadata": {
    "id": "tJ6Sl6MKrJg1",
    "scrolled": false,
    "vscode": {
     "languageId": "plaintext"
    }
   },
   "outputs": [
    {
     "data": {
      "text/html": [
       "<div>\n",
       "<style scoped>\n",
       "    .dataframe tbody tr th:only-of-type {\n",
       "        vertical-align: middle;\n",
       "    }\n",
       "\n",
       "    .dataframe tbody tr th {\n",
       "        vertical-align: top;\n",
       "    }\n",
       "\n",
       "    .dataframe thead th {\n",
       "        text-align: right;\n",
       "    }\n",
       "</style>\n",
       "<table border=\"1\" class=\"dataframe\">\n",
       "  <thead>\n",
       "    <tr style=\"text-align: right;\">\n",
       "      <th></th>\n",
       "      <th>funding_round_id</th>\n",
       "      <th>company_id</th>\n",
       "      <th>funded_at</th>\n",
       "      <th>funding_round_type</th>\n",
       "      <th>raised_amount</th>\n",
       "      <th>pre_money_valuation</th>\n",
       "      <th>participants</th>\n",
       "      <th>is_first_round</th>\n",
       "      <th>is_last_round</th>\n",
       "    </tr>\n",
       "  </thead>\n",
       "  <tbody>\n",
       "    <tr>\n",
       "      <th>0</th>\n",
       "      <td>888.0</td>\n",
       "      <td>1.0</td>\n",
       "      <td>2005-10-01</td>\n",
       "      <td>series-a</td>\n",
       "      <td>5250000.0</td>\n",
       "      <td>0.0</td>\n",
       "      <td>2.0</td>\n",
       "      <td>0.0</td>\n",
       "      <td>1.0</td>\n",
       "    </tr>\n",
       "    <tr>\n",
       "      <th>1</th>\n",
       "      <td>889.0</td>\n",
       "      <td>1.0</td>\n",
       "      <td>2007-01-01</td>\n",
       "      <td>series-b</td>\n",
       "      <td>9500000.0</td>\n",
       "      <td>0.0</td>\n",
       "      <td>3.0</td>\n",
       "      <td>0.0</td>\n",
       "      <td>0.0</td>\n",
       "    </tr>\n",
       "    <tr>\n",
       "      <th>2</th>\n",
       "      <td>2312.0</td>\n",
       "      <td>1.0</td>\n",
       "      <td>2008-05-19</td>\n",
       "      <td>series-c+</td>\n",
       "      <td>25000000.0</td>\n",
       "      <td>0.0</td>\n",
       "      <td>4.0</td>\n",
       "      <td>1.0</td>\n",
       "      <td>0.0</td>\n",
       "    </tr>\n",
       "    <tr>\n",
       "      <th>3</th>\n",
       "      <td>NaN</td>\n",
       "      <td>NaN</td>\n",
       "      <td>NaT</td>\n",
       "      <td>NaN</td>\n",
       "      <td>NaN</td>\n",
       "      <td>NaN</td>\n",
       "      <td>NaN</td>\n",
       "      <td>NaN</td>\n",
       "      <td>NaN</td>\n",
       "    </tr>\n",
       "    <tr>\n",
       "      <th>4</th>\n",
       "      <td>NaN</td>\n",
       "      <td>NaN</td>\n",
       "      <td>NaT</td>\n",
       "      <td>NaN</td>\n",
       "      <td>NaN</td>\n",
       "      <td>NaN</td>\n",
       "      <td>NaN</td>\n",
       "      <td>NaN</td>\n",
       "      <td>NaN</td>\n",
       "    </tr>\n",
       "  </tbody>\n",
       "</table>\n",
       "</div>"
      ],
      "text/plain": [
       "   funding_round_id  company_id  funded_at funding_round_type  raised_amount  \\\n",
       "0             888.0         1.0 2005-10-01           series-a      5250000.0   \n",
       "1             889.0         1.0 2007-01-01           series-b      9500000.0   \n",
       "2            2312.0         1.0 2008-05-19          series-c+     25000000.0   \n",
       "3               NaN         NaN        NaT                NaN            NaN   \n",
       "4               NaN         NaN        NaT                NaN            NaN   \n",
       "\n",
       "   pre_money_valuation  participants  is_first_round  is_last_round  \n",
       "0                  0.0           2.0             0.0            1.0  \n",
       "1                  0.0           3.0             0.0            0.0  \n",
       "2                  0.0           4.0             1.0            0.0  \n",
       "3                  NaN           NaN             NaN            NaN  \n",
       "4                  NaN           NaN             NaN            NaN  "
      ]
     },
     "metadata": {},
     "output_type": "display_data"
    },
    {
     "data": {
      "text/plain": [
       "'\\nКоличество строк в rounds_df_simple после удаления дубликатов: 52929'"
      ]
     },
     "metadata": {},
     "output_type": "display_data"
    }
   ],
   "source": [
    "rounds_df_simple_cleaned = rounds_df_simple.drop_duplicates(keep='first').copy()\n",
    "num_rows_after = rounds_df_simple_cleaned.shape[0]\n",
    "\n",
    "display(rounds_df_simple.head())\n",
    "display(f\"\\nКоличество строк в rounds_df_simple после удаления дубликатов: {num_rows_after}\")"
   ]
  },
  {
   "cell_type": "markdown",
   "metadata": {
    "id": "tJ6Sl6MKrJg1",
    "scrolled": true,
    "vscode": {
     "languageId": "plaintext"
    }
   },
   "source": [
    "<font color='#777778'>Пояснение:</font> для удобства мы разделили исходный датасет company_and_rounds.csv на два, чтобы в дальнейшем проводить анализ в разрезе отдельных компаний. Получилось два датасета: companies_df_simple и rounds_df_simple. \n",
    "\n",
    "Первый из них содержал 217774 строк (до удаления явных дубликатов). В нем было обнаружено 21220 явных дубликатов, после удаления которых осталось 196554 строк. \n",
    "\n",
    "Второй датасет содержал 217774 строк (до удаления явных дубликатов). В нем было обнаружено 164845 явных дубликатов, после удаления которых осталось 52929 строк. \n",
    "\n",
    "Теперь эти датасеты более функциональны для последующего анализа в разрезе отдельных компаний. "
   ]
  },
  {
   "cell_type": "markdown",
   "metadata": {
    "id": "bmVYhphNrJg2"
   },
   "source": [
    "\n",
    "## Шаг 3. Исследовательский анализ объединённых таблиц\n",
    "\n",
    "> Приступите к шагу 3 после проверки ревьюера.\n",
    "\n",
    "<big>Студентам нужно чётко сказать - проверять дальше или не проверять.</big>"
   ]
  },
  {
   "cell_type": "markdown",
   "metadata": {
    "id": "3Di6tCT3rJg2"
   },
   "source": [
    "\n",
    "### 3.1. Объединение данных\n",
    "\n",
    "Объедините данные для ответа на вопросы заказчика, которые касаются интересующих его компаний. Заказчика прежде всего интересуют те компании, которые меняли или готовы менять владельцев. Получение инвестиций или финансирования, по мнению заказчика, означает интерес к покупке или продаже компании.\n",
    "\n",
    "В качестве основы для объединённой таблицы возьмите данные из обработанного датасета `company_and_rounds.csv` — выберите только те компании, у которых указаны значения `funding_rounds` или `investment_rounds` больше нуля, или те, у которых в колонке `status` указано `acquired`. В результирующей таблице должно получиться порядка 40 тысяч компаний.\n",
    "\n",
    "Проверьте полноту и корректность получившейся таблицы. Далее работайте только с этими данными."
   ]
  },
  {
   "cell_type": "code",
   "execution_count": 194,
   "metadata": {
    "id": "kuV1b5MXFg3_"
   },
   "outputs": [
    {
     "name": "stdout",
     "output_type": "stream",
     "text": [
      "Отфильтровано компаний: 40747\n"
     ]
    },
    {
     "data": {
      "text/html": [
       "<div>\n",
       "<style scoped>\n",
       "    .dataframe tbody tr th:only-of-type {\n",
       "        vertical-align: middle;\n",
       "    }\n",
       "\n",
       "    .dataframe tbody tr th {\n",
       "        vertical-align: top;\n",
       "    }\n",
       "\n",
       "    .dataframe thead th {\n",
       "        text-align: right;\n",
       "    }\n",
       "</style>\n",
       "<table border=\"1\" class=\"dataframe\">\n",
       "  <thead>\n",
       "    <tr style=\"text-align: right;\">\n",
       "      <th></th>\n",
       "      <th>company_id_1</th>\n",
       "      <th>name</th>\n",
       "      <th>category_code</th>\n",
       "      <th>status</th>\n",
       "      <th>founded_at</th>\n",
       "      <th>closed_at</th>\n",
       "      <th>domain</th>\n",
       "      <th>network_username</th>\n",
       "      <th>country_code</th>\n",
       "      <th>investment_rounds</th>\n",
       "      <th>funding_rounds</th>\n",
       "      <th>funding_total</th>\n",
       "      <th>milestones</th>\n",
       "    </tr>\n",
       "  </thead>\n",
       "  <tbody>\n",
       "    <tr>\n",
       "      <th>0</th>\n",
       "      <td>1.0</td>\n",
       "      <td>Wetpaint</td>\n",
       "      <td>web</td>\n",
       "      <td>operating</td>\n",
       "      <td>2005-10-17</td>\n",
       "      <td>NaT</td>\n",
       "      <td>wetpaint-inc.com</td>\n",
       "      <td>bachelrwetpaint</td>\n",
       "      <td>USA</td>\n",
       "      <td>0.0</td>\n",
       "      <td>3.0</td>\n",
       "      <td>39750000.0</td>\n",
       "      <td>5.0</td>\n",
       "    </tr>\n",
       "    <tr>\n",
       "      <th>1</th>\n",
       "      <td>10.0</td>\n",
       "      <td>Flektor</td>\n",
       "      <td>games_video</td>\n",
       "      <td>acquired</td>\n",
       "      <td>NaT</td>\n",
       "      <td>NaT</td>\n",
       "      <td>flektor.com</td>\n",
       "      <td>NaN</td>\n",
       "      <td>USA</td>\n",
       "      <td>0.0</td>\n",
       "      <td>0.0</td>\n",
       "      <td>0.0</td>\n",
       "      <td>0.0</td>\n",
       "    </tr>\n",
       "    <tr>\n",
       "      <th>2</th>\n",
       "      <td>100.0</td>\n",
       "      <td>There</td>\n",
       "      <td>games_video</td>\n",
       "      <td>acquired</td>\n",
       "      <td>NaT</td>\n",
       "      <td>NaT</td>\n",
       "      <td>there.com</td>\n",
       "      <td>NaN</td>\n",
       "      <td>USA</td>\n",
       "      <td>0.0</td>\n",
       "      <td>0.0</td>\n",
       "      <td>0.0</td>\n",
       "      <td>4.0</td>\n",
       "    </tr>\n",
       "    <tr>\n",
       "      <th>13</th>\n",
       "      <td>1001.0</td>\n",
       "      <td>FriendFeed</td>\n",
       "      <td>web</td>\n",
       "      <td>acquired</td>\n",
       "      <td>2007-10-01</td>\n",
       "      <td>NaT</td>\n",
       "      <td>friendfeed.com</td>\n",
       "      <td>friendfeed</td>\n",
       "      <td>USA</td>\n",
       "      <td>0.0</td>\n",
       "      <td>1.0</td>\n",
       "      <td>5000000.0</td>\n",
       "      <td>3.0</td>\n",
       "    </tr>\n",
       "    <tr>\n",
       "      <th>18</th>\n",
       "      <td>10014.0</td>\n",
       "      <td>Mobclix</td>\n",
       "      <td>mobile</td>\n",
       "      <td>acquired</td>\n",
       "      <td>2008-03-01</td>\n",
       "      <td>NaT</td>\n",
       "      <td>mobclix.com</td>\n",
       "      <td>mobclix</td>\n",
       "      <td>USA</td>\n",
       "      <td>0.0</td>\n",
       "      <td>1.0</td>\n",
       "      <td>0.0</td>\n",
       "      <td>4.0</td>\n",
       "    </tr>\n",
       "  </tbody>\n",
       "</table>\n",
       "</div>"
      ],
      "text/plain": [
       "    company_id_1        name category_code     status founded_at closed_at  \\\n",
       "0            1.0    Wetpaint           web  operating 2005-10-17       NaT   \n",
       "1           10.0     Flektor   games_video   acquired        NaT       NaT   \n",
       "2          100.0       There   games_video   acquired        NaT       NaT   \n",
       "13        1001.0  FriendFeed           web   acquired 2007-10-01       NaT   \n",
       "18       10014.0     Mobclix        mobile   acquired 2008-03-01       NaT   \n",
       "\n",
       "              domain network_username country_code  investment_rounds  \\\n",
       "0   wetpaint-inc.com  bachelrwetpaint          USA                0.0   \n",
       "1        flektor.com              NaN          USA                0.0   \n",
       "2          there.com              NaN          USA                0.0   \n",
       "13    friendfeed.com       friendfeed          USA                0.0   \n",
       "18       mobclix.com          mobclix          USA                0.0   \n",
       "\n",
       "    funding_rounds  funding_total  milestones  \n",
       "0              3.0     39750000.0         5.0  \n",
       "1              0.0            0.0         0.0  \n",
       "2              0.0            0.0         4.0  \n",
       "13             1.0      5000000.0         3.0  \n",
       "18             1.0            0.0         4.0  "
      ]
     },
     "metadata": {},
     "output_type": "display_data"
    }
   ],
   "source": [
    "# Фильтруем компании по условию\n",
    "filtered_companies = companies_df_simple_cleaned [\n",
    "    (companies_df_simple_cleaned['funding_rounds'] > 0) |\n",
    "    (companies_df_simple_cleaned['investment_rounds'] > 0) |\n",
    "    (companies_df_simple_cleaned['status'] == 'acquired')\n",
    "     ].copy()\n",
    "\n",
    "# Отбираем нужные колонки (если каких-то нет в данных — проверяем и оставляем доступные)\n",
    "cols_to_use = [col for col in company_cols_original if col in filtered_companies.columns]\n",
    "filtered_companies = filtered_companies[cols_to_use]\n",
    "\n",
    "print(f\"Отфильтровано компаний: {filtered_companies.shape[0]}\")\n",
    "\n",
    "display(filtered_companies.head())"
   ]
  },
  {
   "cell_type": "markdown",
   "metadata": {
    "id": "kuV1b5MXFg3_"
   },
   "source": [
    "<font color='#777778'>Пояснение:</font> После фильтрафии получилась таблица с 40747 компаниями, у которых либо funding_rounds или investment_rounds больше нуля, или те, у которых в колонке status указано acquired. По первым строкам таблицы видно, что фильтрация успешно применилась."
   ]
  },
  {
   "cell_type": "markdown",
   "metadata": {
    "id": "DFHINkV3rJg2"
   },
   "source": [
    "\n",
    "### 3.2. Анализ выбросов\n",
    "\n",
    "Заказчика интересует обычный для рассматриваемого периода размер средств, который предоставлялся компаниям.\n",
    "\n",
    "- По предобработанному столбцу `funding_total` графическим способом оцените, какой размер общего финансирования для одной компании будет типичным, а какой — выбивающимся.\n",
    "- В процессе расчёта значений обратите внимание, например, на показатели, возвращаемые методом `.describe()`, — объясните их. Применимы ли к таким данным обычные способы нахождения типичных значений?"
   ]
  },
  {
   "cell_type": "code",
   "execution_count": 196,
   "metadata": {
    "id": "8jm75fKXrJg2",
    "vscode": {
     "languageId": "plaintext"
    }
   },
   "outputs": [
    {
     "name": "stdout",
     "output_type": "stream",
     "text": [
      "count    4.074700e+04\n",
      "mean     1.013561e+07\n",
      "std      5.646436e+07\n",
      "min      0.000000e+00\n",
      "25%      0.000000e+00\n",
      "50%      6.000000e+05\n",
      "75%      5.650650e+06\n",
      "max      5.700000e+09\n",
      "Name: funding_total, dtype: float64\n"
     ]
    },
    {
     "data": {
      "image/png": "[encoded data removed]",
      "text/plain": [
       "<Figure size 432x288 with 1 Axes>"
      ]
     },
     "metadata": {
      "needs_background": "light"
     },
     "output_type": "display_data"
    }
   ],
   "source": [
    "print(filtered_companies['funding_total'].describe())\n",
    "\n",
    "filtered_companies['funding_total'].plot(kind='box')\n",
    "plt.show()"
   ]
  },
  {
   "cell_type": "code",
   "execution_count": 197,
   "metadata": {
    "id": "8jm75fKXrJg2",
    "scrolled": false,
    "vscode": {
     "languageId": "plaintext"
    }
   },
   "outputs": [
    {
     "data": {
      "image/png": "[encoded data removed]",
      "text/plain": [
       "<Figure size 432x288 with 1 Axes>"
      ]
     },
     "metadata": {
      "needs_background": "light"
     },
     "output_type": "display_data"
    }
   ],
   "source": [
    "sns.boxplot(x=filtered_companies['funding_total'], showfliers=False)\n",
    "plt.title('Boxplot funding_total без выбросов')\n",
    "plt.show()"
   ]
  },
  {
   "cell_type": "code",
   "execution_count": 198,
   "metadata": {
    "id": "wJHXCBwwrJg2",
    "vscode": {
     "languageId": "plaintext"
    }
   },
   "outputs": [
    {
     "data": {
      "image/png": "[encoded data removed]",
      "text/plain": [
       "<Figure size 864x504 with 1 Axes>"
      ]
     },
     "metadata": {
      "needs_background": "light"
     },
     "output_type": "display_data"
    }
   ],
   "source": [
    "plt.figure(figsize=(12, 7)) # Увеличим размер для лучшей видимости\n",
    "\n",
    "# Строим гистограмму для filtered_companies['funding_total']\n",
    "plt.hist(filtered_companies['funding_total'], bins=50, color='skyblue', edgecolor='black', log=True)\n",
    "\n",
    "# Добавляем вертикальные линии для границ выбросов\n",
    "# Учитываем, что ось X логарифмическая, plt.axvline правильно обрабатывает это\n",
    "plt.axvline(lower_bound, color='red', linestyle='--', label=f'Нижняя граница IQR ({lower_bound:.2f})')\n",
    "plt.axvline(upper_bound, color='green', linestyle='--', label=f'Верхняя граница IQR ({upper_bound:.2f})')\n",
    "\n",
    "plt.xscale('log') # Логарифмическая шкала по оси X\n",
    "plt.xlabel('Общее финансирование (логарифмическая шкала)')\n",
    "plt.ylabel('Количество компаний (логарифмическая шкала)') # Уточняем, что ось Y тоже логарифмическая\n",
    "plt.title('Распределение общего финансирования с границами выбросов по IQR')\n",
    "plt.legend() # Добавляем легенду для обозначения линий\n",
    "plt.grid(True, which=\"both\", linestyle='--', linewidth=0.5) # Добавляем сетку, полезно для лог. шкал\n",
    "plt.show()"
   ]
  },
  {
   "cell_type": "markdown",
   "metadata": {
    "id": "S1jrfr7rFhcw"
   },
   "source": [
    "<font color='#777778'>Пояснения:</font>\n",
    "- mean = 10,135,610 — средняя сумма финансирования — около 10 млн долларов;\n",
    "- std = 56,464,360 — большое стандартное отклонение, что говорит о сильном разбросе данных;\n",
    "- min = 0 — есть компании с нулевым финансированием;\n",
    "- 25% = 0 — 25-й процентиль равен нулю, то есть четверть компаний получила финансирование 0 или очень близкое к нулю;\n",
    "- 50% = 600,000 — медиана (50-й процентиль) равна 600 тыс. долларов, то есть половина компаний получила финансирование меньше или около этого значения.\n",
    "- 75% = 5,650,650 — 75-й процентиль около 5.65 млн долларов: три четверти компаний получили финансирование не больше этого.\n",
    "- max = 5,700,000,000 — максимальное финансирование 5.7 млрд долларов — явно выбивающееся, очень большое значение.\n",
    "\n",
    "<font color='#777778'>Вывод:</font>\n",
    "- Распределение общего финансирования для одной компании сильно скошено вправо: большую часть компаний получили относительно небольшое финансирование (большинство до ~5-6 млн), но есть несколько \"гигантов\" с очень крупными суммами, которые смещают среднее вверх. Из-за этого медиана слишком завышена. Наличие 0 и очень низких значений у четверти компаний показывает, что многие компании могли не получать финансирования в принципе или в очень малых объёмах."
   ]
  },
  {
   "cell_type": "markdown",
   "metadata": {
    "id": "JqkRAQrIrJg2"
   },
   "source": [
    "\n",
    "### 3.3. Куплены забесплатно?\n",
    "\n",
    "- Исследуйте компании, которые были проданы за ноль или за один доллар, и при этом известно, что у них был ненулевой общий объём финансирования.\n",
    "\n",
    "- Рассчитайте аналитически верхнюю и нижнюю границу выбросов для столбца `funding_total` и укажите, каким процентилям границы соответствуют."
   ]
  },
  {
   "cell_type": "code",
   "execution_count": 199,
   "metadata": {
    "id": "8jm75fKXrJg2",
    "scrolled": false,
    "vscode": {
     "languageId": "plaintext"
    }
   },
   "outputs": [
    {
     "data": {
      "text/html": [
       "<div>\n",
       "<style scoped>\n",
       "    .dataframe tbody tr th:only-of-type {\n",
       "        vertical-align: middle;\n",
       "    }\n",
       "\n",
       "    .dataframe tbody tr th {\n",
       "        vertical-align: top;\n",
       "    }\n",
       "\n",
       "    .dataframe thead th {\n",
       "        text-align: right;\n",
       "    }\n",
       "</style>\n",
       "<table border=\"1\" class=\"dataframe\">\n",
       "  <thead>\n",
       "    <tr style=\"text-align: right;\">\n",
       "      <th></th>\n",
       "      <th>company_id_1</th>\n",
       "      <th>name</th>\n",
       "      <th>category_code</th>\n",
       "      <th>status</th>\n",
       "      <th>founded_at</th>\n",
       "      <th>closed_at</th>\n",
       "      <th>domain</th>\n",
       "      <th>network_username</th>\n",
       "      <th>country_code</th>\n",
       "      <th>investment_rounds</th>\n",
       "      <th>funding_rounds</th>\n",
       "      <th>funding_total</th>\n",
       "      <th>milestones</th>\n",
       "      <th>acquired_company_id</th>\n",
       "      <th>price_amount</th>\n",
       "    </tr>\n",
       "  </thead>\n",
       "  <tbody>\n",
       "    <tr>\n",
       "      <th>7</th>\n",
       "      <td>10054.0</td>\n",
       "      <td>Jumptap</td>\n",
       "      <td>mobile</td>\n",
       "      <td>acquired</td>\n",
       "      <td>2005-01-01</td>\n",
       "      <td>NaT</td>\n",
       "      <td>jumptap.com</td>\n",
       "      <td>jumptap</td>\n",
       "      <td>USA</td>\n",
       "      <td>0.0</td>\n",
       "      <td>7.0</td>\n",
       "      <td>121500000.0</td>\n",
       "      <td>3.0</td>\n",
       "      <td>10054</td>\n",
       "      <td>0</td>\n",
       "    </tr>\n",
       "    <tr>\n",
       "      <th>17</th>\n",
       "      <td>101312.0</td>\n",
       "      <td>SideTour</td>\n",
       "      <td>web</td>\n",
       "      <td>acquired</td>\n",
       "      <td>2011-06-01</td>\n",
       "      <td>NaT</td>\n",
       "      <td>sidetour.com</td>\n",
       "      <td>sidetour</td>\n",
       "      <td>USA</td>\n",
       "      <td>0.0</td>\n",
       "      <td>3.0</td>\n",
       "      <td>4000000.0</td>\n",
       "      <td>2.0</td>\n",
       "      <td>101312</td>\n",
       "      <td>0</td>\n",
       "    </tr>\n",
       "    <tr>\n",
       "      <th>18</th>\n",
       "      <td>101340.0</td>\n",
       "      <td>ChoicePass</td>\n",
       "      <td>enterprise</td>\n",
       "      <td>acquired</td>\n",
       "      <td>2011-07-01</td>\n",
       "      <td>NaT</td>\n",
       "      <td>choicepass.com</td>\n",
       "      <td>choicepass</td>\n",
       "      <td>USA</td>\n",
       "      <td>0.0</td>\n",
       "      <td>1.0</td>\n",
       "      <td>250000.0</td>\n",
       "      <td>1.0</td>\n",
       "      <td>101340</td>\n",
       "      <td>0</td>\n",
       "    </tr>\n",
       "    <tr>\n",
       "      <th>19</th>\n",
       "      <td>10137.0</td>\n",
       "      <td>Producteev</td>\n",
       "      <td>software</td>\n",
       "      <td>acquired</td>\n",
       "      <td>2008-07-08</td>\n",
       "      <td>NaT</td>\n",
       "      <td>producteev.com</td>\n",
       "      <td>producteev</td>\n",
       "      <td>USA</td>\n",
       "      <td>0.0</td>\n",
       "      <td>3.0</td>\n",
       "      <td>1310000.0</td>\n",
       "      <td>2.0</td>\n",
       "      <td>10137</td>\n",
       "      <td>0</td>\n",
       "    </tr>\n",
       "    <tr>\n",
       "      <th>20</th>\n",
       "      <td>10139.0</td>\n",
       "      <td>TradeCard</td>\n",
       "      <td>enterprise</td>\n",
       "      <td>acquired</td>\n",
       "      <td>1999-01-01</td>\n",
       "      <td>NaT</td>\n",
       "      <td>tradecard.com</td>\n",
       "      <td>tradecard</td>\n",
       "      <td>USA</td>\n",
       "      <td>0.0</td>\n",
       "      <td>2.0</td>\n",
       "      <td>44925000.0</td>\n",
       "      <td>1.0</td>\n",
       "      <td>10139</td>\n",
       "      <td>0</td>\n",
       "    </tr>\n",
       "    <tr>\n",
       "      <th>...</th>\n",
       "      <td>...</td>\n",
       "      <td>...</td>\n",
       "      <td>...</td>\n",
       "      <td>...</td>\n",
       "      <td>...</td>\n",
       "      <td>...</td>\n",
       "      <td>...</td>\n",
       "      <td>...</td>\n",
       "      <td>...</td>\n",
       "      <td>...</td>\n",
       "      <td>...</td>\n",
       "      <td>...</td>\n",
       "      <td>...</td>\n",
       "      <td>...</td>\n",
       "      <td>...</td>\n",
       "    </tr>\n",
       "    <tr>\n",
       "      <th>9374</th>\n",
       "      <td>99.0</td>\n",
       "      <td>Amie Street</td>\n",
       "      <td>web</td>\n",
       "      <td>acquired</td>\n",
       "      <td>2011-07-04</td>\n",
       "      <td>NaT</td>\n",
       "      <td>amiestreet.com</td>\n",
       "      <td>amiestreet_logs</td>\n",
       "      <td>USA</td>\n",
       "      <td>0.0</td>\n",
       "      <td>2.0</td>\n",
       "      <td>3900000.0</td>\n",
       "      <td>0.0</td>\n",
       "      <td>99</td>\n",
       "      <td>0</td>\n",
       "    </tr>\n",
       "    <tr>\n",
       "      <th>9375</th>\n",
       "      <td>9905.0</td>\n",
       "      <td>UBmatrix</td>\n",
       "      <td>software</td>\n",
       "      <td>acquired</td>\n",
       "      <td>2005-01-01</td>\n",
       "      <td>NaT</td>\n",
       "      <td>ubmatrix.com</td>\n",
       "      <td>NaN</td>\n",
       "      <td>USA</td>\n",
       "      <td>0.0</td>\n",
       "      <td>2.0</td>\n",
       "      <td>5172350.0</td>\n",
       "      <td>0.0</td>\n",
       "      <td>9905</td>\n",
       "      <td>0</td>\n",
       "    </tr>\n",
       "    <tr>\n",
       "      <th>9377</th>\n",
       "      <td>992.0</td>\n",
       "      <td>wunderloop</td>\n",
       "      <td>advertising</td>\n",
       "      <td>acquired</td>\n",
       "      <td>1999-01-01</td>\n",
       "      <td>NaT</td>\n",
       "      <td>wunderloop.com</td>\n",
       "      <td>NaN</td>\n",
       "      <td>USA</td>\n",
       "      <td>0.0</td>\n",
       "      <td>1.0</td>\n",
       "      <td>10000000.0</td>\n",
       "      <td>1.0</td>\n",
       "      <td>992</td>\n",
       "      <td>0</td>\n",
       "    </tr>\n",
       "    <tr>\n",
       "      <th>9381</th>\n",
       "      <td>997.0</td>\n",
       "      <td>Zimbra</td>\n",
       "      <td>enterprise</td>\n",
       "      <td>acquired</td>\n",
       "      <td>2003-01-01</td>\n",
       "      <td>NaT</td>\n",
       "      <td>zimbra.com</td>\n",
       "      <td>zimbra</td>\n",
       "      <td>USA</td>\n",
       "      <td>0.0</td>\n",
       "      <td>1.0</td>\n",
       "      <td>14500000.0</td>\n",
       "      <td>3.0</td>\n",
       "      <td>997</td>\n",
       "      <td>0</td>\n",
       "    </tr>\n",
       "    <tr>\n",
       "      <th>9386</th>\n",
       "      <td>153326.0</td>\n",
       "      <td>Yoke</td>\n",
       "      <td>web</td>\n",
       "      <td>acquired</td>\n",
       "      <td>NaT</td>\n",
       "      <td>NaT</td>\n",
       "      <td>apps.socialnet.com::yokeapp</td>\n",
       "      <td>NaN</td>\n",
       "      <td>NaN</td>\n",
       "      <td>0.0</td>\n",
       "      <td>1.0</td>\n",
       "      <td>500000.0</td>\n",
       "      <td>1.0</td>\n",
       "      <td>153326</td>\n",
       "      <td>0</td>\n",
       "    </tr>\n",
       "  </tbody>\n",
       "</table>\n",
       "<p>1618 rows × 15 columns</p>\n",
       "</div>"
      ],
      "text/plain": [
       "      company_id_1         name category_code    status founded_at closed_at  \\\n",
       "7          10054.0      Jumptap        mobile  acquired 2005-01-01       NaT   \n",
       "17        101312.0     SideTour           web  acquired 2011-06-01       NaT   \n",
       "18        101340.0   ChoicePass    enterprise  acquired 2011-07-01       NaT   \n",
       "19         10137.0   Producteev      software  acquired 2008-07-08       NaT   \n",
       "20         10139.0    TradeCard    enterprise  acquired 1999-01-01       NaT   \n",
       "...            ...          ...           ...       ...        ...       ...   \n",
       "9374          99.0  Amie Street           web  acquired 2011-07-04       NaT   \n",
       "9375        9905.0     UBmatrix      software  acquired 2005-01-01       NaT   \n",
       "9377         992.0   wunderloop   advertising  acquired 1999-01-01       NaT   \n",
       "9381         997.0       Zimbra    enterprise  acquired 2003-01-01       NaT   \n",
       "9386      153326.0         Yoke           web  acquired        NaT       NaT   \n",
       "\n",
       "                           domain network_username country_code  \\\n",
       "7                     jumptap.com          jumptap          USA   \n",
       "17                   sidetour.com         sidetour          USA   \n",
       "18                 choicepass.com       choicepass          USA   \n",
       "19                 producteev.com       producteev          USA   \n",
       "20                  tradecard.com        tradecard          USA   \n",
       "...                           ...              ...          ...   \n",
       "9374               amiestreet.com  amiestreet_logs          USA   \n",
       "9375                 ubmatrix.com              NaN          USA   \n",
       "9377               wunderloop.com              NaN          USA   \n",
       "9381                   zimbra.com           zimbra          USA   \n",
       "9386  apps.socialnet.com::yokeapp              NaN          NaN   \n",
       "\n",
       "      investment_rounds  funding_rounds  funding_total  milestones  \\\n",
       "7                   0.0             7.0    121500000.0         3.0   \n",
       "17                  0.0             3.0      4000000.0         2.0   \n",
       "18                  0.0             1.0       250000.0         1.0   \n",
       "19                  0.0             3.0      1310000.0         2.0   \n",
       "20                  0.0             2.0     44925000.0         1.0   \n",
       "...                 ...             ...            ...         ...   \n",
       "9374                0.0             2.0      3900000.0         0.0   \n",
       "9375                0.0             2.0      5172350.0         0.0   \n",
       "9377                0.0             1.0     10000000.0         1.0   \n",
       "9381                0.0             1.0     14500000.0         3.0   \n",
       "9386                0.0             1.0       500000.0         1.0   \n",
       "\n",
       "      acquired_company_id  price_amount  \n",
       "7                   10054             0  \n",
       "17                 101312             0  \n",
       "18                 101340             0  \n",
       "19                  10137             0  \n",
       "20                  10139             0  \n",
       "...                   ...           ...  \n",
       "9374                   99             0  \n",
       "9375                 9905             0  \n",
       "9377                  992             0  \n",
       "9381                  997             0  \n",
       "9386               153326             0  \n",
       "\n",
       "[1618 rows x 15 columns]"
      ]
     },
     "metadata": {},
     "output_type": "display_data"
    }
   ],
   "source": [
    "acquisition_price_info = acquisition_df[['acquired_company_id', 'price_amount']].copy()\n",
    "\n",
    "merged_acquisition_funding = pd.merge(\n",
    "    filtered_companies,\n",
    "    acquisition_price_info,\n",
    "    left_on='company_id_1',\n",
    "    right_on='acquired_company_id',\n",
    "    how='inner'\n",
    ")\n",
    "\n",
    "sold_zero_one = merged_acquisition_funding[\n",
    "    (merged_acquisition_funding.status == \"acquired\") & (merged_acquisition_funding.price_amount < 2) & (merged_acquisition_funding.funding_total != 0)] \n",
    "\n",
    "display(sold_zero_one)"
   ]
  },
  {
   "cell_type": "code",
   "execution_count": 200,
   "metadata": {
    "id": "8jm75fKXrJg2",
    "scrolled": false,
    "vscode": {
     "languageId": "plaintext"
    }
   },
   "outputs": [
    {
     "name": "stdout",
     "output_type": "stream",
     "text": [
      "Общее количество строк в объединенном датафрейме: 9390\n",
      "Количество строк с дублирующимися id_1 компаний: 270\n",
      "Количество уникальных компаний, имеющих дублирующиеся записи: 127\n"
     ]
    }
   ],
   "source": [
    "duplicate_uuids = merged_acquisition_funding['company_id_1'].duplicated(keep=False)\n",
    "\n",
    "# Считаем количество строк, где uuid продублирован\n",
    "num_duplicate_rows = duplicate_uuids.sum()\n",
    "\n",
    "# Считаем количество уникальных компаний, которые имеют дублирующиеся записи\n",
    "num_companies_with_duplicates = merged_acquisition_funding['company_id_1'][duplicate_uuids].nunique()\n",
    "\n",
    "print(f\"Общее количество строк в объединенном датафрейме: {merged_acquisition_funding.shape[0]}\")\n",
    "print(f\"Количество строк с дублирующимися id_1 компаний: {num_duplicate_rows}\")\n",
    "print(f\"Количество уникальных компаний, имеющих дублирующиеся записи: {num_companies_with_duplicates}\")"
   ]
  },
  {
   "cell_type": "code",
   "execution_count": 201,
   "metadata": {
    "id": "wJHXCBwwrJg2",
    "vscode": {
     "languageId": "plaintext"
    }
   },
   "outputs": [
    {
     "name": "stdout",
     "output_type": "stream",
     "text": [
      "Нижняя граница выбросов: -8475975.0\n",
      "Верхняя граница выбросов: 14126625.0\n",
      "Процент компаний с funding_total ниже нижней границы: 0.00%\n",
      "Процент компаний с funding_total выше верхней границы: 14.38%\n"
     ]
    }
   ],
   "source": [
    "sold_zero_one = filtered_companies[\n",
    "    ((filtered_companies['closed_at'] == 0) | (filtered_companies['closed_at'] == 1)) & \n",
    "    (filtered_companies['funding_total'] > 0)\n",
    "]\n",
    "\n",
    "# Расчёт квартилей и IQR для funding_total всего набора\n",
    "Q1 = filtered_companies['funding_total'].quantile(0.25)\n",
    "Q3 = filtered_companies['funding_total'].quantile(0.75)\n",
    "IQR = Q3 - Q1\n",
    "\n",
    "lower_bound = Q1 - 1.5 * IQR\n",
    "upper_bound = Q3 + 1.5 * IQR\n",
    "\n",
    "# Процентили, которым соответствуют границы\n",
    "percentile_lower = (filtered_companies['funding_total'] <= lower_bound).mean() * 100\n",
    "percentile_upper = (filtered_companies['funding_total'] >= upper_bound).mean() * 100\n",
    "\n",
    "print(f\"Нижняя граница выбросов: {lower_bound}\")\n",
    "print(f\"Верхняя граница выбросов: {upper_bound}\")\n",
    "print(f\"Процент компаний с funding_total ниже нижней границы: {percentile_lower:.2f}%\")\n",
    "print(f\"Процент компаний с funding_total выше верхней границы: {percentile_upper:.2f}%\")"
   ]
  },
  {
   "cell_type": "code",
   "execution_count": 202,
   "metadata": {
    "id": "wJHXCBwwrJg2",
    "vscode": {
     "languageId": "plaintext"
    }
   },
   "outputs": [
    {
     "name": "stdout",
     "output_type": "stream",
     "text": [
      "Нижняя граница выбросов: 0\n",
      "Верхняя граница выбросов: 14126625.0\n",
      "Процент компаний с funding_total ниже нижней границы: 31.59%\n",
      "Процент компаний с funding_total выше верхней границы: 14.38%\n"
     ]
    }
   ],
   "source": [
    "sold_zero_one = filtered_companies[\n",
    "    ((filtered_companies['closed_at'] == 0) | (filtered_companies['closed_at'] == 1)) & \n",
    "    (filtered_companies['funding_total'] > 0)\n",
    "]\n",
    "\n",
    "# Расчёт квартилей и IQR для funding_total всего набора\n",
    "Q1 = filtered_companies['funding_total'].quantile(0.25)\n",
    "Q3 = filtered_companies['funding_total'].quantile(0.75)\n",
    "IQR = Q3 - Q1\n",
    "\n",
    "lower_bound = Q1 - 1.5 * IQR\n",
    "upper_bound = Q3 + 1.5 * IQR\n",
    "\n",
    "lower_bound = max(0, lower_bound)\n",
    "\n",
    "# Процентили, которым соответствуют границы\n",
    "percentile_lower = (filtered_companies['funding_total'] <= lower_bound).mean() * 100\n",
    "percentile_upper = (filtered_companies['funding_total'] >= upper_bound).mean() * 100\n",
    "\n",
    "print(f\"Нижняя граница выбросов: {lower_bound}\")\n",
    "print(f\"Верхняя граница выбросов: {upper_bound}\")\n",
    "print(f\"Процент компаний с funding_total ниже нижней границы: {percentile_lower:.2f}%\")\n",
    "print(f\"Процент компаний с funding_total выше верхней границы: {percentile_upper:.2f}%\")"
   ]
  },
  {
   "cell_type": "code",
   "execution_count": 203,
   "metadata": {
    "id": "8jm75fKXrJg2",
    "vscode": {
     "languageId": "plaintext"
    }
   },
   "outputs": [
    {
     "data": {
      "image/png": "[encoded data removed]",
      "text/plain": [
       "<Figure size 720x432 with 1 Axes>"
      ]
     },
     "metadata": {
      "needs_background": "light"
     },
     "output_type": "display_data"
    }
   ],
   "source": [
    "plt.figure(figsize=(10, 6))\n",
    "plt.hist(filtered_companies['funding_total'], bins=150, color='skyblue', edgecolor='black', log=True)\n",
    "plt.xscale('log')  # Логарифмическая шкала по оси X\n",
    "plt.xlabel('Общее финансирование (логарифмическая шкала)')\n",
    "plt.ylabel('Количество компаний')\n",
    "plt.title('Распределение общего финансирования (логарифмическая шкала)')\n",
    "plt.show()"
   ]
  },
  {
   "cell_type": "code",
   "execution_count": 204,
   "metadata": {
    "id": "9IDTHfYQFhuX"
   },
   "outputs": [
    {
     "data": {
      "image/png": "[encoded data removed]",
      "text/plain": [
       "<Figure size 720x432 with 1 Axes>"
      ]
     },
     "metadata": {
      "needs_background": "light"
     },
     "output_type": "display_data"
    }
   ],
   "source": [
    "plt.figure(figsize=(10, 6))\n",
    "plt.boxplot(filtered_companies['funding_total'], vert=False, flierprops=dict(marker='o', color='red', markersize=5))\n",
    "plt.title('Boxplot распределения funding_total с выделением выбросов')\n",
    "plt.xlabel('Funding Total')\n",
    "plt.show()"
   ]
  },
  {
   "cell_type": "markdown",
   "metadata": {
    "id": "S1jrfr7rFhcw"
   },
   "source": [
    "<font color='#777778'>Пояснения:</font>\n",
    "- Нижняя граница выбросов отрицательная (-8,475,975), а funding_total — сумма финансирования, которая не может быть отрицательной;\n",
    "- Верхняя граница выбросов примерно 14,126,625. Значения funding_total, превышающие эту сумму, считаются выбросами.\n",
    "- Около 14.38% компаний имеют funding_total выше этой верхней границы — это довольно высокая доля выбросов, указывающая, что большой процент компаний получил необычно крупное финансирование.\n",
    "- Эта ситуация подтверждает, что распределение funding_total сильно скошено вправо, с многочисленными большими значениями, которые выбиваются из общего ряда.\n",
    "- В таких случаях среднее значение funding_total будет менее информативным, лучше ориентироваться на медиану и учитывать наличие выбросов при анализе.\n",
    "\n",
    "<font color='#777778'>Вывод:</font> данные содержат значительное количество компаний с очень высоким финансированием (выбросами), что важно учитывать при дальнейшей работе. "
   ]
  },
  {
   "cell_type": "markdown",
   "metadata": {
    "id": "mEiWpROjrJg2"
   },
   "source": [
    "\n",
    "### 3.4. Цены стартапов по категориям\n",
    "\n",
    "Категории стартапов с типично высокими ценами покупки стартапов и значительным разбросом цен могут быть привлекательными для крупных инвесторов, которые готовы к высоким рискам ради потенциально больших доходов. Среди категорий стартапов выделите категории стартапов, характеризующиеся:\n",
    "\n",
    "- типично высокими ценами;\n",
    "- и наибольшим разбросом цен за стартап.\n",
    "\n",
    "Объясните, почему решили составить топ именно из такого числа категорий и почему рассчитывали именно так."
   ]
  },
  {
   "cell_type": "code",
   "execution_count": 205,
   "metadata": {
    "id": "jQ09dYUWrJg2",
    "vscode": {
     "languageId": "plaintext"
    }
   },
   "outputs": [
    {
     "name": "stdout",
     "output_type": "stream",
     "text": [
      "Количество строк после удаления price_amount = 0: 2473\n",
      "90-й квантиль price_amount (для price_amount > 0): 797000000.00\n",
      "Количество строк после удаления значений выше 90-го квантиля: 2225\n",
      "Количество категорий с числом компаний >= 10 после фильтрации: 19\n",
      "\n",
      "Топ-10 категорий по медианной цене приобретения (после фильтрации), отсортированные по std:\n",
      "      category_code     median           std  count\n",
      "16    manufacturing   97200000  2.176823e+08     14\n",
      "29         security  148500000  2.149933e+08     31\n",
      "3           biotech  120750000  2.138114e+08    226\n",
      "10          finance  131500000  1.912827e+08     16\n",
      "22  network_hosting   64115000  1.804666e+08     56\n",
      "6         ecommerce  105000000  1.800376e+08     46\n",
      "24            other   50000000  1.652277e+08     72\n",
      "4         cleantech  162500000  1.444089e+08     34\n",
      "30    semiconductor   75000000  1.350668e+08     64\n",
      "28           search   72500000  1.293638e+08     17\n",
      "      category_code     median           std  count\n",
      "24         nanotech  5115960.0  9.596109e+07     60\n",
      "19    manufacturing  1895040.0  9.304530e+07    394\n",
      "4         cleantech  6000000.0  9.215550e+07   1145\n",
      "25  network_hosting  2000000.0  6.288838e+07    634\n",
      "3           biotech  4000000.0  5.465791e+07   3597\n",
      "34         security  2024640.0  4.497966e+07    495\n",
      "35    semiconductor  8100000.0  3.992461e+07    551\n",
      "9        enterprise  1617100.0  3.662222e+07   1878\n",
      "20          medical  5400000.0  3.354983e+07    703\n",
      "1         analytics  2000000.0  2.893465e+07    701\n"
     ]
    }
   ],
   "source": [
    "# Убираем компании с price_amount = 0\n",
    "# Используем .copy() для избежания SettingWithCopyWarning при последующих операциях\n",
    "filtered_by_price_zero = merged_acquisition_funding[merged_acquisition_funding['price_amount'] > 0].copy()\n",
    "print(f\"Количество строк после удаления price_amount = 0: {filtered_by_price_zero.shape[0]}\")\n",
    "\n",
    "# Убираем price_amount выше 90-го квантиля\n",
    "# Рассчитываем 90-й квантиль на данных, где price_amount > 0\n",
    "percentile_90 = filtered_by_price_zero['price_amount'].quantile(0.90)\n",
    "print(f\"90-й квантиль price_amount (для price_amount > 0): {percentile_90:.2f}\")\n",
    "\n",
    "# Фильтруем данные, оставляя только те, где price_amount <= 90-го квантиля\n",
    "filtered_by_price_outliers = filtered_by_price_zero[filtered_by_price_zero['price_amount'] <= percentile_90].copy()\n",
    "print(f\"Количество строк после удаления значений выше 90-го квантиля: {filtered_by_price_outliers.shape[0]}\")\n",
    "\n",
    "# Группируем по категории и агрегируем статистику для отфильтрованного price_amount\n",
    "grouped_price = filtered_by_price_outliers.groupby('category_code')['price_amount'].agg(['median', 'std', 'count']).reset_index()\n",
    "\n",
    "# Убираем категории с очень малым числом компаний (например, меньше 10)\n",
    "# Обратите внимание, что 'count' здесь - это количество компаний в категории ПОСЛЕ фильтрации цен\n",
    "min_companies_in_category = 10\n",
    "grouped_price = grouped_price[grouped_price['count'] >= min_companies_in_category]\n",
    "print(f\"Количество категорий с числом компаний >= {min_companies_in_category} после фильтрации: {grouped_price.shape[0]}\")\n",
    "\n",
    "# Сортируем по медиане price_amount по убыванию и берем топ-10\n",
    "top_median_price = grouped_price.sort_values(by='median', ascending=False).head(10)\n",
    "\n",
    "# Среди топ-10 по медиане выбираем с наибольшим std (разбросом)\n",
    "top_categories_price = top_median_price.sort_values(by='std', ascending=False)\n",
    "\n",
    "print(\"\\nТоп-10 категорий по медианной цене приобретения (после фильтрации), отсортированные по std:\")\n",
    "print(top_categories_price)\n",
    "\n",
    "# Убираем категории с очень малым числом компаний (например, меньше 10), чтобы статистика была надёжнее\n",
    "grouped = grouped[grouped['count'] >= 10]\n",
    "\n",
    "# Сортируем по медиане fundingtotal по убыванию\n",
    "top_median = grouped.sort_values(by='median', ascending=False).head(10)\n",
    "\n",
    "# Среди топ-10 по медиане выбираем с наибольшим std (разбросом)\n",
    "top_categories = top_median.sort_values(by='std', ascending=False)\n",
    "\n",
    "print(top_categories)"
   ]
  },
  {
   "cell_type": "code",
   "execution_count": 206,
   "metadata": {
    "id": "jQ09dYUWrJg2",
    "vscode": {
     "languageId": "plaintext"
    }
   },
   "outputs": [
    {
     "data": {
      "image/png": "[encoded data removed]",
      "text/plain": [
       "<Figure size 1008x576 with 1 Axes>"
      ]
     },
     "metadata": {
      "needs_background": "light"
     },
     "output_type": "display_data"
    }
   ],
   "source": [
    "plt.figure(figsize=(14, 8))\n",
    "\n",
    "# Создаем scatter plot\n",
    "scatter = plt.scatter(\n",
    "    top_categories_price['median'],      \n",
    "    top_categories_price['std'],        \n",
    "    s=top_categories_price['count'] / 2,\n",
    "    alpha=0.7,                           \n",
    "    edgecolors='w',                     \n",
    "    linewidths=0.5                       \n",
    ")\n",
    "\n",
    "# Добавляем подписи к точкам (названия категорий)\n",
    "for i, row in top_categories_price.iterrows():\n",
    "    plt.annotate(\n",
    "        row['category_code'],\n",
    "        (row['median'], row['std']),\n",
    "        textcoords=\"offset points\",\n",
    "        xytext=(5,-5),\n",
    "        ha='left',\n",
    "        va='bottom',\n",
    "        fontsize=9\n",
    "    )\n",
    "\n",
    "plt.xscale('log')\n",
    "plt.yscale('log')\n",
    "\n",
    "plt.xlabel('Типичная цена приобретения (Медиана, лог. шкала)')\n",
    "plt.ylabel('Разброс цен приобретения (Стандартное отклонение, лог. шкала)')\n",
    "plt.title(f'Медиана vs. Стд цены приобретения для топ-10 категорий (исключая price_amount=0 и > 90-го квантиля)')\n",
    "plt.grid(True, which=\"both\", linestyle='--', linewidth=0.5)\n"
   ]
  },
  {
   "cell_type": "markdown",
   "metadata": {
    "id": "eF1aULm5FjfY"
   },
   "source": [
    "<font color='#777778'>Пояснения:</font>\n",
    "- Сортировка сначала по медиане fundingtotal выделяет категории с наиболее типичным высоким уровнем финансирования. Затем среди топ-10 берется разброс (стандартное отклонение), чтобы понять, в каких категориях финансирование наиболее вариативно — такие категории могут иметь интересные возможности или риски."
   ]
  },
  {
   "cell_type": "markdown",
   "metadata": {
    "id": "ADOfyVY_rJg3"
   },
   "source": [
    "\n",
    "### 3.5. Сколько раундов продержится стартап перед покупкой\n",
    "\n",
    "- Необходимо проанализировать столбец `funding_rounds`. Исследуйте значения столбца. Заказчика интересует типичное значение количества раундов для каждого возможного статуса стартапа.\n",
    "- Постройте график, который отображает, сколько в среднем раундов финансирования проходило для стартапов из каждой группы. Сделайте выводы."
   ]
  },
  {
   "cell_type": "code",
   "execution_count": 207,
   "metadata": {
    "id": "hgXMPC4WrJg3",
    "vscode": {
     "languageId": "plaintext"
    }
   },
   "outputs": [
    {
     "data": {
      "image/png": "[encoded data removed]",
      "text/plain": [
       "<Figure size 576x360 with 1 Axes>"
      ]
     },
     "metadata": {
      "needs_background": "light"
     },
     "output_type": "display_data"
    }
   ],
   "source": [
    "avg_rounds = filtered_companies.groupby('status')['funding_rounds'].mean().reset_index()\n",
    "\n",
    "plt.figure(figsize=(8,5))\n",
    "plt.bar(avg_rounds['status'], avg_rounds['funding_rounds'], color='skyblue')\n",
    "plt.xlabel('Статус стартапа')\n",
    "plt.ylabel('Среднее количество раундов финансирования')\n",
    "plt.title('Среднее количество раундов финансирования в зависимости от статуса стартапа')\n",
    "plt.xticks(rotation=45)\n",
    "plt.grid(axis='y', linestyle='--', alpha=0.7)\n",
    "plt.show()"
   ]
  },
  {
   "cell_type": "markdown",
   "metadata": {
    "id": "pV3e7kw5Fj1Y"
   },
   "source": [
    "<font color='#777778'>Пояснения:</font>\n",
    "- Стартапы со статусом, например, \"ipo\", имеют более высокое среднее количество раундов финансирования (около 2), так как они вышли на рынок и продолжают развиваться и привлекать инвестиции; это же касается и стартапов со статусом \"operating\" (1,5 раундов финансирования).\n",
    "- \"Acquired\" или \"closed\" стартапы имеют меньше раундов, поскольку процесс финансирования завершён (0,5 - среднее число раундов финансирования для \"acquired\" стартапов и 1,3 - для \"closed\" стартапов)."
   ]
  },
  {
   "cell_type": "markdown",
   "metadata": {
    "id": "VAFEZ2HBrJg3"
   },
   "source": [
    "\n",
    "## Шаг 4. Итоговый вывод и рекомендации\n",
    "\n",
    "Опишите, что было сделано в проекте, какие были сделаны выводы, подкрепляют ли они друг друга или заставляют сомневаться в полученных результатах."
   ]
  },
  {
   "cell_type": "markdown",
   "metadata": {},
   "source": [
    "###### В рамках проекта была выполнена подготовка и анализ данных стартапов с целью их предобработки и ответа на важные бизнес-вопросы заказчика.\n",
    "\n",
    "Основные шаги и выводы:\n",
    "\n",
    "1. Подготовка данных:\n",
    "- Проведена очистка датасета: удалены дубликаты, заполнены пропуски или отфильтрованы нерелевантные записи (например, категории с малым числом компаний).\n",
    "- Проверена целостность и уникальность данных, особенно по ключевым столбцам, пригодным для объединения таблиц (например, company_ID, category_code).\n",
    "- Определены столбцы для объединения данных из разных источников — главным образом, идентификаторы компаний и коды категорий.\n",
    "\n",
    "2. Надёжность данных о сотрудниках и образовании:\n",
    "- Данные об образовании сотрудников и их количестве следует анализировать с осторожностью из-за возможного неполного заполнения и неконсистентности — доверять им можно лишь после дополнительной валидации.\n",
    "- Рекомендуется подтвердить результаты с помощью внешних источников или статистических методов оценки качества данных.\n",
    "\n",
    "3. Интерпретация сделок за 0 или 1 доллар:\n",
    "- Такие сделки, как правило, отражают символическую передачу собственности, реструктуризацию или другие специфические условия, а не рыночную стоимость.\n",
    "- В бизнес-анализе их стоит рассматривать отдельно и не использовать напрямую для оценки стоимости стартапов.\n",
    "\n",
    "4. Анализ зависимости цены от категории стартапов и количества раундов финансирования:\n",
    "- Выявлена статистическая связь между медианой финансирования и категорией компаний — топовые категории отличаются значениями funding_total и разбросом инвестиций.\n",
    "- Среднее количество раундов финансирования различается по статусу стартапа, что указывает на динамику развития компаний перед покупкой.\n",
    "- Рекомендуется использовать эти показатели для прогноза цены при сделках и оценки возможностей стартапов.\n",
    "\n",
    "5. Рекомендации по расчету и визуализации:\n",
    "- Использованы агрегатные функции (медиана, среднее, стандартное отклонение) для численных показателей.\n",
    "- Построены графики распределения и сравнения по группам для наглядности вывода.\n",
    "- Для анализа динамики подходит временной ряд по датам финансирования и основания/закрытия компаний.\n",
    "\n",
    "Итог: проведенный анализ показал как сильные стороны данных (подробность по категориям и финансированию), так и ограничения (неоднородность и сомнительность отдельных показателей). Полученные выводы во многом подкрепляют друг друга и соответствуют ожиданиям бизнеса, однако вызывают необходимость аккуратного подхода к интерпретации и дальнейшей доработке данных."
   ]
  }
 ],
 "metadata": {
  "ExecuteTimeLog": [
   {
    "duration": 8790,
    "start_time": "2025-05-14T17:07:53.878Z"
   },
   {
    "duration": 130,
    "start_time": "2025-05-14T17:09:15.366Z"
   },
   {
    "duration": 1797,
    "start_time": "2025-05-14T17:09:30.185Z"
   },
   {
    "duration": 261,
    "start_time": "2025-05-14T17:09:41.751Z"
   },
   {
    "duration": 451,
    "start_time": "2025-05-14T17:09:51.430Z"
   },
   {
    "duration": 226,
    "start_time": "2025-05-14T17:10:00.815Z"
   },
   {
    "duration": 246,
    "start_time": "2025-05-14T17:10:45.919Z"
   },
   {
    "duration": 29,
    "start_time": "2025-05-14T17:11:24.167Z"
   },
   {
    "duration": 109,
    "start_time": "2025-05-14T17:11:54.765Z"
   },
   {
    "duration": 1348,
    "start_time": "2025-05-14T17:12:01.091Z"
   },
   {
    "duration": 104,
    "start_time": "2025-05-14T17:12:02.441Z"
   },
   {
    "duration": 308,
    "start_time": "2025-05-14T17:12:13.853Z"
   },
   {
    "duration": 20,
    "start_time": "2025-05-14T17:12:14.359Z"
   },
   {
    "duration": 550,
    "start_time": "2025-05-14T17:12:21.830Z"
   },
   {
    "duration": 38,
    "start_time": "2025-05-14T17:12:22.419Z"
   },
   {
    "duration": 318,
    "start_time": "2025-05-14T17:12:27.059Z"
   },
   {
    "duration": 25,
    "start_time": "2025-05-14T17:12:35.638Z"
   },
   {
    "duration": 344,
    "start_time": "2025-05-14T17:12:46.619Z"
   },
   {
    "duration": 25,
    "start_time": "2025-05-14T17:12:47.605Z"
   },
   {
    "duration": 83,
    "start_time": "2025-05-14T17:16:56.898Z"
   },
   {
    "duration": 13,
    "start_time": "2025-05-14T17:16:58.830Z"
   },
   {
    "duration": 279,
    "start_time": "2025-05-14T17:21:47.397Z"
   },
   {
    "duration": 24,
    "start_time": "2025-05-14T17:21:47.679Z"
   },
   {
    "duration": 408,
    "start_time": "2025-05-14T17:21:49.690Z"
   },
   {
    "duration": 182,
    "start_time": "2025-05-14T17:22:12.582Z"
   },
   {
    "duration": 14,
    "start_time": "2025-05-14T17:30:14.237Z"
   },
   {
    "duration": 7,
    "start_time": "2025-05-14T17:30:22.007Z"
   },
   {
    "duration": 12,
    "start_time": "2025-05-14T17:30:34.053Z"
   },
   {
    "duration": 1134,
    "start_time": "2025-05-14T17:32:33.748Z"
   },
   {
    "duration": 1153,
    "start_time": "2025-05-14T17:32:42.135Z"
   },
   {
    "duration": 1138,
    "start_time": "2025-05-14T17:33:07.372Z"
   },
   {
    "duration": 46,
    "start_time": "2025-05-14T17:33:45.215Z"
   },
   {
    "duration": 6,
    "start_time": "2025-05-14T17:33:45.864Z"
   },
   {
    "duration": 45,
    "start_time": "2025-05-14T17:34:15.263Z"
   },
   {
    "duration": 5914,
    "start_time": "2025-05-14T17:34:23.079Z"
   },
   {
    "duration": 75,
    "start_time": "2025-05-14T17:34:28.995Z"
   },
   {
    "duration": 13,
    "start_time": "2025-05-14T17:34:29.071Z"
   },
   {
    "duration": 1365,
    "start_time": "2025-05-14T17:34:29.086Z"
   },
   {
    "duration": 103,
    "start_time": "2025-05-14T17:34:30.452Z"
   },
   {
    "duration": 224,
    "start_time": "2025-05-14T17:34:30.561Z"
   },
   {
    "duration": 19,
    "start_time": "2025-05-14T17:34:30.787Z"
   },
   {
    "duration": 325,
    "start_time": "2025-05-14T17:34:31.983Z"
   },
   {
    "duration": 39,
    "start_time": "2025-05-14T17:34:32.864Z"
   },
   {
    "duration": 363,
    "start_time": "2025-05-14T17:34:34.024Z"
   },
   {
    "duration": 23,
    "start_time": "2025-05-14T17:34:34.486Z"
   },
   {
    "duration": 7,
    "start_time": "2025-05-14T17:34:37.368Z"
   },
   {
    "duration": 1162,
    "start_time": "2025-05-14T17:34:41.735Z"
   },
   {
    "duration": 1157,
    "start_time": "2025-05-14T17:34:50.865Z"
   },
   {
    "duration": 66,
    "start_time": "2025-05-14T17:34:59.334Z"
   },
   {
    "duration": 18,
    "start_time": "2025-05-14T17:35:31.966Z"
   },
   {
    "duration": 24,
    "start_time": "2025-05-14T17:43:48.793Z"
   },
   {
    "duration": 10,
    "start_time": "2025-05-14T18:23:57.875Z"
   },
   {
    "duration": 15,
    "start_time": "2025-05-14T18:24:54.763Z"
   },
   {
    "duration": 1106,
    "start_time": "2025-05-14T18:35:04.996Z"
   },
   {
    "duration": 51,
    "start_time": "2025-05-14T18:35:20.150Z"
   },
   {
    "duration": 1162,
    "start_time": "2025-05-14T18:35:28.567Z"
   },
   {
    "duration": 38,
    "start_time": "2025-05-14T18:35:43.734Z"
   },
   {
    "duration": 35,
    "start_time": "2025-05-14T18:35:54.501Z"
   },
   {
    "duration": 490,
    "start_time": "2025-05-14T18:36:49.506Z"
   },
   {
    "duration": 81,
    "start_time": "2025-05-14T18:46:40.721Z"
   },
   {
    "duration": 78,
    "start_time": "2025-05-14T18:47:07.329Z"
   },
   {
    "duration": 80,
    "start_time": "2025-05-14T18:47:36.443Z"
   },
   {
    "duration": 120,
    "start_time": "2025-05-14T18:48:03.445Z"
   },
   {
    "duration": 99,
    "start_time": "2025-05-14T18:48:13.363Z"
   },
   {
    "duration": 81,
    "start_time": "2025-05-14T18:48:51.768Z"
   },
   {
    "duration": 99,
    "start_time": "2025-05-14T18:49:18.187Z"
   },
   {
    "duration": 71,
    "start_time": "2025-05-14T18:49:49.164Z"
   },
   {
    "duration": 14,
    "start_time": "2025-05-14T18:50:24.356Z"
   },
   {
    "duration": 4,
    "start_time": "2025-05-14T18:50:37.718Z"
   },
   {
    "duration": 8,
    "start_time": "2025-05-14T18:51:04.494Z"
   },
   {
    "duration": 40,
    "start_time": "2025-05-14T18:51:25.369Z"
   },
   {
    "duration": 319,
    "start_time": "2025-05-14T18:51:26.055Z"
   },
   {
    "duration": 79,
    "start_time": "2025-05-14T18:52:38.019Z"
   },
   {
    "duration": 117,
    "start_time": "2025-05-14T18:53:11.937Z"
   },
   {
    "duration": 5,
    "start_time": "2025-05-14T18:53:52.908Z"
   },
   {
    "duration": 5,
    "start_time": "2025-05-14T18:55:59.517Z"
   },
   {
    "duration": 5,
    "start_time": "2025-05-14T18:56:18.588Z"
   },
   {
    "duration": 6,
    "start_time": "2025-05-14T18:56:33.565Z"
   },
   {
    "duration": 7,
    "start_time": "2025-05-14T18:56:44.286Z"
   },
   {
    "duration": 8,
    "start_time": "2025-05-14T18:56:50.976Z"
   },
   {
    "duration": 10,
    "start_time": "2025-05-14T18:57:56.521Z"
   },
   {
    "duration": 399,
    "start_time": "2025-05-14T19:05:29.494Z"
   },
   {
    "duration": 89,
    "start_time": "2025-05-14T19:05:36.839Z"
   },
   {
    "duration": 106,
    "start_time": "2025-05-14T19:05:43.958Z"
   },
   {
    "duration": 59,
    "start_time": "2025-05-14T19:05:54.987Z"
   },
   {
    "duration": 76,
    "start_time": "2025-05-14T19:06:15.995Z"
   },
   {
    "duration": 4775,
    "start_time": "2025-05-14T19:07:21.636Z"
   },
   {
    "duration": 67,
    "start_time": "2025-05-14T19:07:26.413Z"
   },
   {
    "duration": 13,
    "start_time": "2025-05-14T19:07:26.482Z"
   },
   {
    "duration": 1257,
    "start_time": "2025-05-14T19:07:26.497Z"
   },
   {
    "duration": 112,
    "start_time": "2025-05-14T19:07:27.756Z"
   },
   {
    "duration": 237,
    "start_time": "2025-05-14T19:07:27.870Z"
   },
   {
    "duration": 19,
    "start_time": "2025-05-14T19:07:28.109Z"
   },
   {
    "duration": 332,
    "start_time": "2025-05-14T19:07:28.129Z"
   },
   {
    "duration": 39,
    "start_time": "2025-05-14T19:07:28.463Z"
   },
   {
    "duration": 224,
    "start_time": "2025-05-14T19:07:28.504Z"
   },
   {
    "duration": 35,
    "start_time": "2025-05-14T19:07:28.730Z"
   },
   {
    "duration": 7,
    "start_time": "2025-05-14T19:07:28.767Z"
   },
   {
    "duration": 100,
    "start_time": "2025-05-14T19:07:28.775Z"
   },
   {
    "duration": 20,
    "start_time": "2025-05-14T19:07:28.877Z"
   },
   {
    "duration": 97,
    "start_time": "2025-05-14T19:07:28.898Z"
   },
   {
    "duration": 398,
    "start_time": "2025-05-14T19:07:28.997Z"
   },
   {
    "duration": 99,
    "start_time": "2025-05-14T19:07:29.398Z"
   },
   {
    "duration": 72,
    "start_time": "2025-05-14T19:08:49.692Z"
   },
   {
    "duration": 99,
    "start_time": "2025-05-14T19:09:18.771Z"
   },
   {
    "duration": 62,
    "start_time": "2025-05-14T19:10:01.455Z"
   },
   {
    "duration": 47,
    "start_time": "2025-05-15T03:56:01.205Z"
   },
   {
    "duration": 6,
    "start_time": "2025-05-15T03:56:07.617Z"
   },
   {
    "duration": 9,
    "start_time": "2025-05-15T03:56:08.129Z"
   },
   {
    "duration": 8650,
    "start_time": "2025-05-15T03:56:14.682Z"
   },
   {
    "duration": 121,
    "start_time": "2025-05-15T03:56:23.335Z"
   },
   {
    "duration": 68,
    "start_time": "2025-05-15T03:56:25.185Z"
   },
   {
    "duration": 13,
    "start_time": "2025-05-15T03:56:26.033Z"
   },
   {
    "duration": 1184,
    "start_time": "2025-05-15T03:56:27.585Z"
   },
   {
    "duration": 108,
    "start_time": "2025-05-15T03:56:28.771Z"
   },
   {
    "duration": 106,
    "start_time": "2025-05-15T03:56:29.906Z"
   },
   {
    "duration": 349,
    "start_time": "2025-05-15T03:59:33.282Z"
   },
   {
    "duration": 354,
    "start_time": "2025-05-15T04:00:02.714Z"
   },
   {
    "duration": 274,
    "start_time": "2025-05-15T04:00:04.308Z"
   },
   {
    "duration": 21,
    "start_time": "2025-05-15T04:00:07.146Z"
   },
   {
    "duration": 34,
    "start_time": "2025-05-15T04:00:14.492Z"
   },
   {
    "duration": 179,
    "start_time": "2025-05-15T04:03:02.725Z"
   },
   {
    "duration": 185,
    "start_time": "2025-05-15T04:03:17.258Z"
   },
   {
    "duration": 185,
    "start_time": "2025-05-15T04:03:23.561Z"
   },
   {
    "duration": 188,
    "start_time": "2025-05-15T04:03:29.857Z"
   },
   {
    "duration": 182,
    "start_time": "2025-05-15T04:03:43.500Z"
   },
   {
    "duration": 179,
    "start_time": "2025-05-15T04:03:47.602Z"
   },
   {
    "duration": 193,
    "start_time": "2025-05-15T04:03:57.809Z"
   },
   {
    "duration": 96,
    "start_time": "2025-05-15T04:04:04.130Z"
   },
   {
    "duration": 187,
    "start_time": "2025-05-15T04:04:04.961Z"
   },
   {
    "duration": 180,
    "start_time": "2025-05-15T04:04:13.369Z"
   },
   {
    "duration": 4,
    "start_time": "2025-05-15T04:04:26.412Z"
   },
   {
    "duration": 179,
    "start_time": "2025-05-15T04:04:36.698Z"
   },
   {
    "duration": 184,
    "start_time": "2025-05-15T04:04:57.611Z"
   },
   {
    "duration": 188,
    "start_time": "2025-05-15T04:05:30.323Z"
   },
   {
    "duration": 190,
    "start_time": "2025-05-15T04:05:45.652Z"
   },
   {
    "duration": 4622,
    "start_time": "2025-05-15T04:05:55.865Z"
   },
   {
    "duration": 76,
    "start_time": "2025-05-15T04:06:00.489Z"
   },
   {
    "duration": 14,
    "start_time": "2025-05-15T04:06:03.058Z"
   },
   {
    "duration": 1329,
    "start_time": "2025-05-15T04:06:04.515Z"
   },
   {
    "duration": 103,
    "start_time": "2025-05-15T04:06:05.846Z"
   },
   {
    "duration": 109,
    "start_time": "2025-05-15T04:06:07.299Z"
   },
   {
    "duration": 316,
    "start_time": "2025-05-15T04:06:18.442Z"
   },
   {
    "duration": 108,
    "start_time": "2025-05-15T04:06:38.675Z"
   },
   {
    "duration": 307,
    "start_time": "2025-05-15T04:06:39.222Z"
   },
   {
    "duration": 316,
    "start_time": "2025-05-15T04:06:41.018Z"
   },
   {
    "duration": 20,
    "start_time": "2025-05-15T04:06:42.026Z"
   },
   {
    "duration": 33,
    "start_time": "2025-05-15T04:06:42.818Z"
   },
   {
    "duration": 725,
    "start_time": "2025-05-15T04:06:46.922Z"
   },
   {
    "duration": 39,
    "start_time": "2025-05-15T04:06:48.227Z"
   },
   {
    "duration": 137,
    "start_time": "2025-05-15T04:07:02.595Z"
   },
   {
    "duration": 414,
    "start_time": "2025-05-15T04:07:09.707Z"
   },
   {
    "duration": 24,
    "start_time": "2025-05-15T04:07:12.203Z"
   },
   {
    "duration": 57,
    "start_time": "2025-05-15T04:07:20.123Z"
   },
   {
    "duration": 238,
    "start_time": "2025-05-15T04:09:50.962Z"
   },
   {
    "duration": 19,
    "start_time": "2025-05-15T04:09:51.905Z"
   },
   {
    "duration": 34,
    "start_time": "2025-05-15T04:09:52.537Z"
   },
   {
    "duration": 333,
    "start_time": "2025-05-15T04:09:53.905Z"
   },
   {
    "duration": 40,
    "start_time": "2025-05-15T04:10:01.709Z"
   },
   {
    "duration": 141,
    "start_time": "2025-05-15T04:10:02.097Z"
   },
   {
    "duration": 194,
    "start_time": "2025-05-15T04:10:03.329Z"
   },
   {
    "duration": 26,
    "start_time": "2025-05-15T04:10:05.041Z"
   },
   {
    "duration": 47,
    "start_time": "2025-05-15T04:10:06.697Z"
   },
   {
    "duration": 8,
    "start_time": "2025-05-15T04:10:14.889Z"
   },
   {
    "duration": 1194,
    "start_time": "2025-05-15T04:10:15.474Z"
   },
   {
    "duration": 0,
    "start_time": "2025-05-15T04:10:16.670Z"
   },
   {
    "duration": 86,
    "start_time": "2025-05-15T04:10:30.753Z"
   },
   {
    "duration": 13,
    "start_time": "2025-05-15T04:11:02.545Z"
   },
   {
    "duration": 139,
    "start_time": "2025-05-15T04:11:13.233Z"
   },
   {
    "duration": 43,
    "start_time": "2025-05-15T04:12:03.770Z"
   },
   {
    "duration": 71,
    "start_time": "2025-05-15T04:12:09.500Z"
   },
   {
    "duration": 34,
    "start_time": "2025-05-15T04:12:15.781Z"
   },
   {
    "duration": 153,
    "start_time": "2025-05-15T04:12:20.986Z"
   },
   {
    "duration": 15,
    "start_time": "2025-05-15T04:15:28.510Z"
   },
   {
    "duration": 181,
    "start_time": "2025-05-15T04:15:29.950Z"
   },
   {
    "duration": 33,
    "start_time": "2025-05-15T04:15:30.654Z"
   },
   {
    "duration": 70,
    "start_time": "2025-05-15T04:15:31.822Z"
   },
   {
    "duration": 47,
    "start_time": "2025-05-15T04:15:32.398Z"
   },
   {
    "duration": 14,
    "start_time": "2025-05-15T04:17:08.422Z"
   },
   {
    "duration": 71,
    "start_time": "2025-05-15T04:17:30.012Z"
   },
   {
    "duration": 369,
    "start_time": "2025-05-15T04:17:39.750Z"
   },
   {
    "duration": 16,
    "start_time": "2025-05-15T04:22:44.127Z"
   },
   {
    "duration": 68,
    "start_time": "2025-05-15T04:24:05.056Z"
   },
   {
    "duration": 67,
    "start_time": "2025-05-15T04:24:16.887Z"
   },
   {
    "duration": 71,
    "start_time": "2025-05-15T04:25:49.455Z"
   },
   {
    "duration": 66,
    "start_time": "2025-05-15T04:30:50.161Z"
   },
   {
    "duration": 91,
    "start_time": "2025-05-15T04:37:43.493Z"
   },
   {
    "duration": 70,
    "start_time": "2025-05-15T04:38:33.754Z"
   },
   {
    "duration": 70,
    "start_time": "2025-05-15T04:40:13.847Z"
   },
   {
    "duration": 75,
    "start_time": "2025-05-15T04:40:46.567Z"
   },
   {
    "duration": 74,
    "start_time": "2025-05-15T04:47:08.642Z"
   },
   {
    "duration": 73,
    "start_time": "2025-05-15T04:47:29.646Z"
   },
   {
    "duration": 84,
    "start_time": "2025-05-15T04:47:37.064Z"
   },
   {
    "duration": 74,
    "start_time": "2025-05-15T04:47:43.440Z"
   },
   {
    "duration": 74,
    "start_time": "2025-05-15T04:48:05.680Z"
   },
   {
    "duration": 67,
    "start_time": "2025-05-15T05:01:07.833Z"
   },
   {
    "duration": 74,
    "start_time": "2025-05-15T05:02:17.162Z"
   },
   {
    "duration": 36,
    "start_time": "2025-05-15T05:02:33.175Z"
   },
   {
    "duration": 88,
    "start_time": "2025-05-15T05:21:11.714Z"
   },
   {
    "duration": 20,
    "start_time": "2025-05-15T05:21:41.864Z"
   },
   {
    "duration": 31,
    "start_time": "2025-05-15T05:22:46.429Z"
   },
   {
    "duration": 51,
    "start_time": "2025-05-15T05:24:31.117Z"
   },
   {
    "duration": 42,
    "start_time": "2025-05-15T05:37:02.751Z"
   },
   {
    "duration": 34,
    "start_time": "2025-05-15T05:37:30.272Z"
   },
   {
    "duration": 11,
    "start_time": "2025-05-15T05:37:57.177Z"
   },
   {
    "duration": 32,
    "start_time": "2025-05-15T05:38:36.851Z"
   },
   {
    "duration": 4,
    "start_time": "2025-05-15T05:38:47.744Z"
   },
   {
    "duration": 17,
    "start_time": "2025-05-15T05:43:31.185Z"
   },
   {
    "duration": 14,
    "start_time": "2025-05-15T05:44:19.313Z"
   },
   {
    "duration": 20,
    "start_time": "2025-05-15T05:45:46.559Z"
   },
   {
    "duration": 4661,
    "start_time": "2025-05-15T05:46:35.146Z"
   },
   {
    "duration": 74,
    "start_time": "2025-05-15T05:46:39.809Z"
   },
   {
    "duration": 13,
    "start_time": "2025-05-15T05:46:39.885Z"
   },
   {
    "duration": 1108,
    "start_time": "2025-05-15T05:46:42.507Z"
   },
   {
    "duration": 101,
    "start_time": "2025-05-15T05:46:43.617Z"
   },
   {
    "duration": 109,
    "start_time": "2025-05-15T05:46:44.883Z"
   },
   {
    "duration": 317,
    "start_time": "2025-05-15T05:46:45.867Z"
   },
   {
    "duration": 228,
    "start_time": "2025-05-15T05:46:50.475Z"
   },
   {
    "duration": 22,
    "start_time": "2025-05-15T05:46:51.242Z"
   },
   {
    "duration": 34,
    "start_time": "2025-05-15T05:46:51.866Z"
   },
   {
    "duration": 409,
    "start_time": "2025-05-15T05:46:52.907Z"
   },
   {
    "duration": 39,
    "start_time": "2025-05-15T05:46:53.361Z"
   },
   {
    "duration": 141,
    "start_time": "2025-05-15T05:46:53.940Z"
   },
   {
    "duration": 214,
    "start_time": "2025-05-15T05:46:55.174Z"
   },
   {
    "duration": 26,
    "start_time": "2025-05-15T05:46:55.882Z"
   },
   {
    "duration": 45,
    "start_time": "2025-05-15T05:46:56.457Z"
   },
   {
    "duration": 8,
    "start_time": "2025-05-15T05:46:58.147Z"
   },
   {
    "duration": 84,
    "start_time": "2025-05-15T05:46:58.335Z"
   },
   {
    "duration": 17,
    "start_time": "2025-05-15T05:46:58.908Z"
   },
   {
    "duration": 16,
    "start_time": "2025-05-15T05:46:59.642Z"
   },
   {
    "duration": 163,
    "start_time": "2025-05-15T05:47:00.131Z"
   },
   {
    "duration": 24,
    "start_time": "2025-05-15T05:47:00.523Z"
   },
   {
    "duration": 68,
    "start_time": "2025-05-15T05:47:01.091Z"
   },
   {
    "duration": 43,
    "start_time": "2025-05-15T05:47:01.565Z"
   },
   {
    "duration": 72,
    "start_time": "2025-05-15T05:47:03.963Z"
   },
   {
    "duration": 375,
    "start_time": "2025-05-15T05:47:04.522Z"
   },
   {
    "duration": 69,
    "start_time": "2025-05-15T05:47:07.501Z"
   },
   {
    "duration": 98,
    "start_time": "2025-05-15T05:47:10.131Z"
   },
   {
    "duration": 69,
    "start_time": "2025-05-15T05:47:13.442Z"
   },
   {
    "duration": 216,
    "start_time": "2025-05-15T05:48:37.701Z"
   },
   {
    "duration": 47,
    "start_time": "2025-05-15T05:48:59.048Z"
   },
   {
    "duration": 15,
    "start_time": "2025-05-15T05:49:34.216Z"
   },
   {
    "duration": 46,
    "start_time": "2025-05-15T05:49:39.617Z"
   },
   {
    "duration": 7,
    "start_time": "2025-05-15T05:50:00.928Z"
   },
   {
    "duration": 20,
    "start_time": "2025-05-15T05:50:23.457Z"
   },
   {
    "duration": 13,
    "start_time": "2025-05-15T05:51:22.816Z"
   },
   {
    "duration": 52,
    "start_time": "2025-05-15T05:51:33.079Z"
   },
   {
    "duration": 7,
    "start_time": "2025-05-15T05:51:33.619Z"
   },
   {
    "duration": 21,
    "start_time": "2025-05-15T05:51:34.984Z"
   },
   {
    "duration": 64,
    "start_time": "2025-05-15T05:53:40.083Z"
   },
   {
    "duration": 65,
    "start_time": "2025-05-15T05:53:49.360Z"
   },
   {
    "duration": 86,
    "start_time": "2025-05-15T05:57:47.516Z"
   },
   {
    "duration": 49,
    "start_time": "2025-05-15T05:58:38.606Z"
   },
   {
    "duration": 9,
    "start_time": "2025-05-15T05:58:55.438Z"
   },
   {
    "duration": 10,
    "start_time": "2025-05-15T05:59:49.941Z"
   },
   {
    "duration": 37,
    "start_time": "2025-05-15T06:00:05.302Z"
   },
   {
    "duration": 53,
    "start_time": "2025-05-15T06:03:31.776Z"
   },
   {
    "duration": 68,
    "start_time": "2025-05-15T06:03:58.544Z"
   },
   {
    "duration": 204,
    "start_time": "2025-05-15T06:04:00.807Z"
   },
   {
    "duration": 228,
    "start_time": "2025-05-15T06:04:07.422Z"
   },
   {
    "duration": 48,
    "start_time": "2025-05-15T06:04:15.743Z"
   },
   {
    "duration": 49,
    "start_time": "2025-05-15T06:04:48.884Z"
   },
   {
    "duration": 242,
    "start_time": "2025-05-15T06:04:51.852Z"
   },
   {
    "duration": 44,
    "start_time": "2025-05-15T06:04:53.200Z"
   },
   {
    "duration": 50,
    "start_time": "2025-05-15T06:04:54.826Z"
   },
   {
    "duration": 77,
    "start_time": "2025-05-15T06:10:21.281Z"
   },
   {
    "duration": 60,
    "start_time": "2025-05-15T06:10:30.662Z"
   },
   {
    "duration": 18,
    "start_time": "2025-05-15T06:10:39.631Z"
   },
   {
    "duration": 239,
    "start_time": "2025-05-15T06:11:03.382Z"
   },
   {
    "duration": 19,
    "start_time": "2025-05-15T06:11:04.310Z"
   },
   {
    "duration": 49,
    "start_time": "2025-05-15T06:11:08.114Z"
   },
   {
    "duration": 50,
    "start_time": "2025-05-15T06:11:08.608Z"
   },
   {
    "duration": 4669,
    "start_time": "2025-05-15T06:14:33.972Z"
   },
   {
    "duration": 72,
    "start_time": "2025-05-15T06:14:38.644Z"
   },
   {
    "duration": 12,
    "start_time": "2025-05-15T06:14:38.718Z"
   },
   {
    "duration": 13,
    "start_time": "2025-05-15T06:14:45.378Z"
   },
   {
    "duration": 1337,
    "start_time": "2025-05-15T06:14:46.652Z"
   },
   {
    "duration": 110,
    "start_time": "2025-05-15T06:14:47.992Z"
   },
   {
    "duration": 116,
    "start_time": "2025-05-15T06:14:48.460Z"
   },
   {
    "duration": 317,
    "start_time": "2025-05-15T06:14:49.236Z"
   },
   {
    "duration": 345,
    "start_time": "2025-05-15T06:14:50.691Z"
   },
   {
    "duration": 20,
    "start_time": "2025-05-15T06:14:51.651Z"
   },
   {
    "duration": 35,
    "start_time": "2025-05-15T06:14:52.252Z"
   },
   {
    "duration": 387,
    "start_time": "2025-05-15T06:14:53.627Z"
   },
   {
    "duration": 40,
    "start_time": "2025-05-15T06:14:54.723Z"
   },
   {
    "duration": 139,
    "start_time": "2025-05-15T06:14:56.971Z"
   },
   {
    "duration": 239,
    "start_time": "2025-05-15T06:15:01.155Z"
   },
   {
    "duration": 25,
    "start_time": "2025-05-15T06:15:02.147Z"
   },
   {
    "duration": 42,
    "start_time": "2025-05-15T06:15:03.836Z"
   },
   {
    "duration": 7,
    "start_time": "2025-05-15T06:15:07.828Z"
   },
   {
    "duration": 83,
    "start_time": "2025-05-15T06:15:08.587Z"
   },
   {
    "duration": 18,
    "start_time": "2025-05-15T06:15:09.323Z"
   },
   {
    "duration": 16,
    "start_time": "2025-05-15T06:15:12.276Z"
   },
   {
    "duration": 156,
    "start_time": "2025-05-15T06:15:13.300Z"
   },
   {
    "duration": 24,
    "start_time": "2025-05-15T06:15:15.758Z"
   },
   {
    "duration": 69,
    "start_time": "2025-05-15T06:15:16.491Z"
   },
   {
    "duration": 42,
    "start_time": "2025-05-15T06:15:17.132Z"
   },
   {
    "duration": 80,
    "start_time": "2025-05-15T06:15:20.044Z"
   },
   {
    "duration": 35,
    "start_time": "2025-05-15T06:15:28.748Z"
   },
   {
    "duration": 343,
    "start_time": "2025-05-15T06:15:33.756Z"
   },
   {
    "duration": 71,
    "start_time": "2025-05-15T06:15:39.076Z"
   },
   {
    "duration": 89,
    "start_time": "2025-05-15T06:15:42.457Z"
   },
   {
    "duration": 58,
    "start_time": "2025-05-15T06:15:44.940Z"
   },
   {
    "duration": 215,
    "start_time": "2025-05-15T06:15:45.596Z"
   },
   {
    "duration": 250,
    "start_time": "2025-05-15T06:15:46.371Z"
   },
   {
    "duration": 19,
    "start_time": "2025-05-15T06:15:48.100Z"
   },
   {
    "duration": 47,
    "start_time": "2025-05-15T06:15:48.596Z"
   },
   {
    "duration": 50,
    "start_time": "2025-05-15T06:15:49.350Z"
   },
   {
    "duration": 43,
    "start_time": "2025-05-15T06:16:55.997Z"
   },
   {
    "duration": 33,
    "start_time": "2025-05-15T06:16:58.667Z"
   },
   {
    "duration": 19,
    "start_time": "2025-05-15T06:16:58.788Z"
   },
   {
    "duration": 11,
    "start_time": "2025-05-15T06:16:58.956Z"
   },
   {
    "duration": 17,
    "start_time": "2025-05-15T06:16:59.252Z"
   },
   {
    "duration": 152,
    "start_time": "2025-05-15T06:16:59.413Z"
   },
   {
    "duration": 30,
    "start_time": "2025-05-15T06:16:59.852Z"
   },
   {
    "duration": 79,
    "start_time": "2025-05-15T06:17:00.085Z"
   },
   {
    "duration": 45,
    "start_time": "2025-05-15T06:17:00.262Z"
   },
   {
    "duration": 38,
    "start_time": "2025-05-15T06:17:01.453Z"
   },
   {
    "duration": 344,
    "start_time": "2025-05-15T06:17:01.900Z"
   },
   {
    "duration": 72,
    "start_time": "2025-05-15T06:17:03.459Z"
   },
   {
    "duration": 73,
    "start_time": "2025-05-15T06:17:20.630Z"
   },
   {
    "duration": 60,
    "start_time": "2025-05-15T06:17:29.020Z"
   },
   {
    "duration": 213,
    "start_time": "2025-05-15T06:17:38.357Z"
   },
   {
    "duration": 229,
    "start_time": "2025-05-15T06:17:39.077Z"
   },
   {
    "duration": 18,
    "start_time": "2025-05-15T06:17:40.293Z"
   },
   {
    "duration": 47,
    "start_time": "2025-05-15T06:17:41.909Z"
   },
   {
    "duration": 51,
    "start_time": "2025-05-15T06:17:42.700Z"
   },
   {
    "duration": 7840,
    "start_time": "2025-05-15T08:47:05.670Z"
   },
   {
    "duration": 81,
    "start_time": "2025-05-15T08:47:13.512Z"
   },
   {
    "duration": 13,
    "start_time": "2025-05-15T08:47:13.596Z"
   },
   {
    "duration": 1193,
    "start_time": "2025-05-15T08:47:13.610Z"
   },
   {
    "duration": 103,
    "start_time": "2025-05-15T08:47:14.804Z"
   },
   {
    "duration": 114,
    "start_time": "2025-05-15T08:47:14.909Z"
   },
   {
    "duration": 342,
    "start_time": "2025-05-15T08:47:15.025Z"
   },
   {
    "duration": 206,
    "start_time": "2025-05-15T08:47:15.368Z"
   },
   {
    "duration": 18,
    "start_time": "2025-05-15T08:47:15.576Z"
   },
   {
    "duration": 35,
    "start_time": "2025-05-15T08:47:15.596Z"
   },
   {
    "duration": 399,
    "start_time": "2025-05-15T08:47:15.632Z"
   },
   {
    "duration": 45,
    "start_time": "2025-05-15T08:47:16.033Z"
   },
   {
    "duration": 154,
    "start_time": "2025-05-15T08:47:16.079Z"
   },
   {
    "duration": 201,
    "start_time": "2025-05-15T08:47:16.234Z"
   },
   {
    "duration": 32,
    "start_time": "2025-05-15T08:47:16.437Z"
   },
   {
    "duration": 41,
    "start_time": "2025-05-15T08:47:16.471Z"
   },
   {
    "duration": 7,
    "start_time": "2025-05-15T08:47:16.513Z"
   },
   {
    "duration": 118,
    "start_time": "2025-05-15T08:47:16.522Z"
   },
   {
    "duration": 21,
    "start_time": "2025-05-15T08:47:16.641Z"
   },
   {
    "duration": 50,
    "start_time": "2025-05-15T08:47:16.663Z"
   },
   {
    "duration": 174,
    "start_time": "2025-05-15T08:47:16.714Z"
   },
   {
    "duration": 34,
    "start_time": "2025-05-15T08:47:16.892Z"
   },
   {
    "duration": 83,
    "start_time": "2025-05-15T08:47:16.928Z"
   },
   {
    "duration": 54,
    "start_time": "2025-05-15T08:47:17.013Z"
   },
   {
    "duration": 71,
    "start_time": "2025-05-15T08:47:17.068Z"
   },
   {
    "duration": 359,
    "start_time": "2025-05-15T08:47:17.140Z"
   },
   {
    "duration": 149,
    "start_time": "2025-05-15T08:47:17.502Z"
   },
   {
    "duration": 135,
    "start_time": "2025-05-15T08:47:17.653Z"
   },
   {
    "duration": 86,
    "start_time": "2025-05-15T08:47:17.789Z"
   },
   {
    "duration": 245,
    "start_time": "2025-05-15T08:47:17.877Z"
   },
   {
    "duration": 234,
    "start_time": "2025-05-15T08:47:18.123Z"
   },
   {
    "duration": 28,
    "start_time": "2025-05-15T08:47:18.362Z"
   },
   {
    "duration": 51,
    "start_time": "2025-05-15T08:47:18.392Z"
   },
   {
    "duration": 63,
    "start_time": "2025-05-15T08:47:18.444Z"
   },
   {
    "duration": 18,
    "start_time": "2025-05-15T08:49:04.049Z"
   },
   {
    "duration": 21,
    "start_time": "2025-05-15T08:49:29.657Z"
   },
   {
    "duration": 5,
    "start_time": "2025-05-15T08:50:29.489Z"
   },
   {
    "duration": 16,
    "start_time": "2025-05-15T08:50:40.161Z"
   },
   {
    "duration": 4911,
    "start_time": "2025-05-16T15:37:58.972Z"
   },
   {
    "duration": 55,
    "start_time": "2025-05-16T15:39:20.037Z"
   },
   {
    "duration": 14,
    "start_time": "2025-05-16T15:40:05.297Z"
   },
   {
    "duration": 1191,
    "start_time": "2025-05-16T15:41:09.187Z"
   },
   {
    "duration": 105,
    "start_time": "2025-05-16T15:41:19.746Z"
   },
   {
    "duration": 119,
    "start_time": "2025-05-16T15:41:32.428Z"
   },
   {
    "duration": 100,
    "start_time": "2025-05-16T15:43:29.739Z"
   },
   {
    "duration": 355,
    "start_time": "2025-05-16T15:43:56.070Z"
   },
   {
    "duration": 201,
    "start_time": "2025-05-16T15:44:10.107Z"
   },
   {
    "duration": 240,
    "start_time": "2025-05-16T15:44:15.166Z"
   },
   {
    "duration": 21,
    "start_time": "2025-05-16T15:44:40.707Z"
   },
   {
    "duration": 36,
    "start_time": "2025-05-16T15:44:49.148Z"
   },
   {
    "duration": 281,
    "start_time": "2025-05-16T15:45:05.769Z"
   },
   {
    "duration": 42,
    "start_time": "2025-05-16T15:46:29.769Z"
   },
   {
    "duration": 145,
    "start_time": "2025-05-16T15:46:46.264Z"
   },
   {
    "duration": 255,
    "start_time": "2025-05-16T15:47:04.030Z"
   },
   {
    "duration": 49,
    "start_time": "2025-05-16T15:47:17.842Z"
   },
   {
    "duration": 9,
    "start_time": "2025-05-16T15:47:22.160Z"
   },
   {
    "duration": 27,
    "start_time": "2025-05-16T15:47:28.641Z"
   },
   {
    "duration": 1334,
    "start_time": "2025-05-16T15:48:30.226Z"
   },
   {
    "duration": 49,
    "start_time": "2025-05-16T15:48:57.213Z"
   },
   {
    "duration": 10940,
    "start_time": "2025-05-16T15:50:16.620Z"
   },
   {
    "duration": 74,
    "start_time": "2025-05-16T15:51:33.920Z"
   },
   {
    "duration": 59,
    "start_time": "2025-05-16T15:51:44.008Z"
   },
   {
    "duration": 2451,
    "start_time": "2025-05-16T15:52:54.744Z"
   },
   {
    "duration": 78,
    "start_time": "2025-05-16T15:55:27.998Z"
   },
   {
    "duration": 2544,
    "start_time": "2025-05-16T15:57:17.863Z"
   },
   {
    "duration": 72,
    "start_time": "2025-05-16T15:58:32.185Z"
   },
   {
    "duration": 177,
    "start_time": "2025-05-16T15:58:37.452Z"
   },
   {
    "duration": 147,
    "start_time": "2025-05-16T15:59:17.327Z"
   },
   {
    "duration": 10,
    "start_time": "2025-05-16T16:03:13.113Z"
   },
   {
    "duration": 15,
    "start_time": "2025-05-16T16:03:32.289Z"
   },
   {
    "duration": 7,
    "start_time": "2025-05-16T16:03:46.566Z"
   },
   {
    "duration": 123,
    "start_time": "2025-05-16T16:04:31.659Z"
   },
   {
    "duration": 20,
    "start_time": "2025-05-16T16:05:04.226Z"
   },
   {
    "duration": 10,
    "start_time": "2025-05-16T16:07:27.121Z"
   },
   {
    "duration": 10,
    "start_time": "2025-05-16T16:07:27.864Z"
   },
   {
    "duration": 57,
    "start_time": "2025-05-16T16:07:56.565Z"
   },
   {
    "duration": 179,
    "start_time": "2025-05-16T16:08:34.785Z"
   },
   {
    "duration": 25,
    "start_time": "2025-05-16T16:08:51.810Z"
   },
   {
    "duration": 83,
    "start_time": "2025-05-16T16:09:06.330Z"
   },
   {
    "duration": 48,
    "start_time": "2025-05-16T16:09:21.712Z"
   },
   {
    "duration": 2547,
    "start_time": "2025-05-16T16:10:40.490Z"
   },
   {
    "duration": 2381,
    "start_time": "2025-05-16T16:11:58.524Z"
   },
   {
    "duration": 1516,
    "start_time": "2025-05-16T16:13:53.994Z"
   },
   {
    "duration": 19,
    "start_time": "2025-05-16T16:27:20.362Z"
   },
   {
    "duration": 55,
    "start_time": "2025-05-16T16:28:22.796Z"
   },
   {
    "duration": 159,
    "start_time": "2025-05-16T16:28:34.327Z"
   },
   {
    "duration": 307,
    "start_time": "2025-05-16T16:28:36.441Z"
   },
   {
    "duration": 490,
    "start_time": "2025-05-16T16:32:38.901Z"
   },
   {
    "duration": 224,
    "start_time": "2025-05-16T16:34:03.608Z"
   },
   {
    "duration": 386,
    "start_time": "2025-05-16T16:34:42.897Z"
   },
   {
    "duration": 210,
    "start_time": "2025-05-16T16:35:36.417Z"
   },
   {
    "duration": 209,
    "start_time": "2025-05-16T16:36:48.506Z"
   },
   {
    "duration": 219,
    "start_time": "2025-05-16T16:37:40.699Z"
   },
   {
    "duration": 14,
    "start_time": "2025-05-16T16:40:13.068Z"
   },
   {
    "duration": 80,
    "start_time": "2025-05-16T16:41:08.553Z"
   },
   {
    "duration": 72,
    "start_time": "2025-05-16T16:46:56.997Z"
   },
   {
    "duration": 104,
    "start_time": "2025-05-16T16:48:17.769Z"
   },
   {
    "duration": 74,
    "start_time": "2025-05-16T16:49:10.666Z"
   },
   {
    "duration": 392,
    "start_time": "2025-05-16T16:50:04.411Z"
   },
   {
    "duration": 356,
    "start_time": "2025-05-16T16:50:38.866Z"
   },
   {
    "duration": 96,
    "start_time": "2025-05-16T16:52:27.277Z"
   },
   {
    "duration": 74,
    "start_time": "2025-05-16T16:55:12.641Z"
   },
   {
    "duration": 79,
    "start_time": "2025-05-16T16:57:41.779Z"
   },
   {
    "duration": 88,
    "start_time": "2025-05-16T16:58:22.483Z"
   },
   {
    "duration": 77,
    "start_time": "2025-05-16T16:58:51.468Z"
   },
   {
    "duration": 85,
    "start_time": "2025-05-16T17:01:00.989Z"
   },
   {
    "duration": 78,
    "start_time": "2025-05-16T17:01:42.150Z"
   },
   {
    "duration": 89,
    "start_time": "2025-05-16T17:02:37.609Z"
   },
   {
    "duration": 107,
    "start_time": "2025-05-16T17:04:05.763Z"
   },
   {
    "duration": 2508,
    "start_time": "2025-05-16T17:04:33.177Z"
   },
   {
    "duration": 2516,
    "start_time": "2025-05-16T17:04:40.594Z"
   },
   {
    "duration": 2473,
    "start_time": "2025-05-16T17:04:46.418Z"
   },
   {
    "duration": 2412,
    "start_time": "2025-05-16T17:04:51.610Z"
   },
   {
    "duration": 63,
    "start_time": "2025-05-16T17:04:55.650Z"
   },
   {
    "duration": 14,
    "start_time": "2025-05-16T17:04:57.285Z"
   },
   {
    "duration": 1149,
    "start_time": "2025-05-16T17:04:57.329Z"
   },
   {
    "duration": 1272,
    "start_time": "2025-05-16T17:08:14.182Z"
   },
   {
    "duration": 1328,
    "start_time": "2025-05-16T17:09:30.097Z"
   },
   {
    "duration": 1259,
    "start_time": "2025-05-16T17:09:45.202Z"
   },
   {
    "duration": 1262,
    "start_time": "2025-05-16T17:10:13.986Z"
   },
   {
    "duration": 3660,
    "start_time": "2025-05-16T17:10:23.688Z"
   },
   {
    "duration": 68,
    "start_time": "2025-05-16T17:10:27.351Z"
   },
   {
    "duration": 15,
    "start_time": "2025-05-16T17:10:27.421Z"
   },
   {
    "duration": 1277,
    "start_time": "2025-05-16T17:10:27.438Z"
   },
   {
    "duration": 114,
    "start_time": "2025-05-16T17:10:28.716Z"
   },
   {
    "duration": 226,
    "start_time": "2025-05-16T17:10:28.831Z"
   },
   {
    "duration": 437,
    "start_time": "2025-05-16T17:10:29.058Z"
   },
   {
    "duration": 217,
    "start_time": "2025-05-16T17:10:29.496Z"
   },
   {
    "duration": 29,
    "start_time": "2025-05-16T17:10:29.715Z"
   },
   {
    "duration": 65,
    "start_time": "2025-05-16T17:10:29.748Z"
   },
   {
    "duration": 354,
    "start_time": "2025-05-16T17:10:29.816Z"
   },
   {
    "duration": 175,
    "start_time": "2025-05-16T17:10:30.172Z"
   },
   {
    "duration": 248,
    "start_time": "2025-05-16T17:10:30.349Z"
   },
   {
    "duration": 26,
    "start_time": "2025-05-16T17:10:30.599Z"
   },
   {
    "duration": 67,
    "start_time": "2025-05-16T17:10:30.636Z"
   },
   {
    "duration": 159,
    "start_time": "2025-05-16T17:10:30.705Z"
   },
   {
    "duration": 8,
    "start_time": "2025-05-16T17:10:30.866Z"
   },
   {
    "duration": 130,
    "start_time": "2025-05-16T17:10:30.876Z"
   },
   {
    "duration": 17,
    "start_time": "2025-05-16T17:10:31.008Z"
   },
   {
    "duration": 68,
    "start_time": "2025-05-16T17:10:31.026Z"
   },
   {
    "duration": 185,
    "start_time": "2025-05-16T17:10:31.096Z"
   },
   {
    "duration": 26,
    "start_time": "2025-05-16T17:10:31.283Z"
   },
   {
    "duration": 127,
    "start_time": "2025-05-16T17:10:31.310Z"
   },
   {
    "duration": 46,
    "start_time": "2025-05-16T17:10:31.439Z"
   },
   {
    "duration": 2402,
    "start_time": "2025-05-16T17:10:31.486Z"
   },
   {
    "duration": 1569,
    "start_time": "2025-05-16T17:10:33.891Z"
   },
   {
    "duration": 175,
    "start_time": "2025-05-16T17:10:35.461Z"
   },
   {
    "duration": 115,
    "start_time": "2025-05-16T17:10:35.640Z"
   },
   {
    "duration": 0,
    "start_time": "2025-05-16T17:10:35.756Z"
   },
   {
    "duration": 0,
    "start_time": "2025-05-16T17:10:35.758Z"
   },
   {
    "duration": 0,
    "start_time": "2025-05-16T17:10:35.759Z"
   },
   {
    "duration": 0,
    "start_time": "2025-05-16T17:10:35.760Z"
   },
   {
    "duration": 0,
    "start_time": "2025-05-16T17:10:35.762Z"
   },
   {
    "duration": 0,
    "start_time": "2025-05-16T17:10:35.763Z"
   },
   {
    "duration": 0,
    "start_time": "2025-05-16T17:10:35.764Z"
   },
   {
    "duration": 0,
    "start_time": "2025-05-16T17:10:35.765Z"
   },
   {
    "duration": 101,
    "start_time": "2025-05-16T17:11:05.841Z"
   },
   {
    "duration": 86,
    "start_time": "2025-05-16T17:12:32.773Z"
   },
   {
    "duration": 82,
    "start_time": "2025-05-16T17:14:18.998Z"
   },
   {
    "duration": 100,
    "start_time": "2025-05-16T17:14:33.896Z"
   },
   {
    "duration": 90,
    "start_time": "2025-05-16T17:14:52.085Z"
   },
   {
    "duration": 120,
    "start_time": "2025-05-16T17:15:01.535Z"
   },
   {
    "duration": 80,
    "start_time": "2025-05-16T17:21:15.004Z"
   },
   {
    "duration": 104,
    "start_time": "2025-05-16T17:21:28.631Z"
   },
   {
    "duration": 79,
    "start_time": "2025-05-16T17:21:43.853Z"
   },
   {
    "duration": 1411,
    "start_time": "2025-05-16T17:26:05.730Z"
   },
   {
    "duration": 0,
    "start_time": "2025-05-16T17:26:07.143Z"
   },
   {
    "duration": 26,
    "start_time": "2025-05-16T17:26:28.572Z"
   },
   {
    "duration": 182,
    "start_time": "2025-05-16T17:26:51.811Z"
   },
   {
    "duration": 12,
    "start_time": "2025-05-16T17:27:34.060Z"
   },
   {
    "duration": 81,
    "start_time": "2025-05-16T17:28:50.724Z"
   },
   {
    "duration": 116,
    "start_time": "2025-05-16T17:29:47.344Z"
   },
   {
    "duration": 76,
    "start_time": "2025-05-16T17:29:51.829Z"
   },
   {
    "duration": 96,
    "start_time": "2025-05-16T17:30:21.089Z"
   },
   {
    "duration": 107,
    "start_time": "2025-05-16T17:30:29.172Z"
   },
   {
    "duration": 10,
    "start_time": "2025-05-16T17:31:28.131Z"
   },
   {
    "duration": 80,
    "start_time": "2025-05-16T17:31:56.717Z"
   },
   {
    "duration": 242,
    "start_time": "2025-05-16T17:32:08.707Z"
   },
   {
    "duration": 257,
    "start_time": "2025-05-16T17:32:09.152Z"
   },
   {
    "duration": 237,
    "start_time": "2025-05-16T17:32:26.522Z"
   },
   {
    "duration": 265,
    "start_time": "2025-05-16T17:32:27.377Z"
   },
   {
    "duration": 563,
    "start_time": "2025-05-16T17:34:24.261Z"
   },
   {
    "duration": 476,
    "start_time": "2025-05-16T17:34:34.784Z"
   },
   {
    "duration": 218,
    "start_time": "2025-05-16T17:34:42.661Z"
   },
   {
    "duration": 62,
    "start_time": "2025-05-16T17:34:49.684Z"
   },
   {
    "duration": 229,
    "start_time": "2025-05-16T17:34:50.491Z"
   },
   {
    "duration": 276,
    "start_time": "2025-05-16T17:35:12.253Z"
   },
   {
    "duration": 50,
    "start_time": "2025-05-16T17:35:39.170Z"
   },
   {
    "duration": 55,
    "start_time": "2025-05-16T17:35:40.155Z"
   },
   {
    "duration": 246,
    "start_time": "2025-05-16T17:36:00.703Z"
   },
   {
    "duration": 53,
    "start_time": "2025-05-16T17:36:08.396Z"
   },
   {
    "duration": 49,
    "start_time": "2025-05-16T17:36:14.518Z"
   },
   {
    "duration": 64,
    "start_time": "2025-05-16T17:36:56.177Z"
   },
   {
    "duration": 62,
    "start_time": "2025-05-16T17:37:07.399Z"
   },
   {
    "duration": 230,
    "start_time": "2025-05-16T17:37:08.151Z"
   },
   {
    "duration": 279,
    "start_time": "2025-05-16T17:37:13.223Z"
   },
   {
    "duration": 51,
    "start_time": "2025-05-16T17:37:15.753Z"
   },
   {
    "duration": 64,
    "start_time": "2025-05-16T17:37:16.374Z"
   },
   {
    "duration": 214,
    "start_time": "2025-05-16T18:07:51.394Z"
   },
   {
    "duration": 248,
    "start_time": "2025-05-16T18:07:52.503Z"
   },
   {
    "duration": 48,
    "start_time": "2025-05-16T18:07:55.392Z"
   },
   {
    "duration": 64,
    "start_time": "2025-05-16T18:07:56.704Z"
   },
   {
    "duration": 61,
    "start_time": "2025-05-16T18:08:17.920Z"
   },
   {
    "duration": 231,
    "start_time": "2025-05-16T18:08:18.464Z"
   },
   {
    "duration": 267,
    "start_time": "2025-05-16T18:08:20.178Z"
   },
   {
    "duration": 60,
    "start_time": "2025-05-16T18:08:30.345Z"
   },
   {
    "duration": 229,
    "start_time": "2025-05-16T18:08:30.864Z"
   },
   {
    "duration": 264,
    "start_time": "2025-05-16T18:08:31.992Z"
   },
   {
    "duration": 49,
    "start_time": "2025-05-16T18:08:33.528Z"
   },
   {
    "duration": 65,
    "start_time": "2025-05-16T18:08:34.153Z"
   },
   {
    "duration": 3753,
    "start_time": "2025-05-16T18:08:48.528Z"
   },
   {
    "duration": 63,
    "start_time": "2025-05-16T18:08:52.283Z"
   },
   {
    "duration": 14,
    "start_time": "2025-05-16T18:08:52.348Z"
   },
   {
    "duration": 1183,
    "start_time": "2025-05-16T18:08:52.364Z"
   },
   {
    "duration": 117,
    "start_time": "2025-05-16T18:08:53.548Z"
   },
   {
    "duration": 217,
    "start_time": "2025-05-16T18:08:53.667Z"
   },
   {
    "duration": 434,
    "start_time": "2025-05-16T18:08:53.886Z"
   },
   {
    "duration": 207,
    "start_time": "2025-05-16T18:08:54.322Z"
   },
   {
    "duration": 21,
    "start_time": "2025-05-16T18:08:54.531Z"
   },
   {
    "duration": 37,
    "start_time": "2025-05-16T18:08:54.555Z"
   },
   {
    "duration": 382,
    "start_time": "2025-05-16T18:08:54.594Z"
   },
   {
    "duration": 176,
    "start_time": "2025-05-16T18:08:54.977Z"
   },
   {
    "duration": 288,
    "start_time": "2025-05-16T18:08:55.155Z"
   },
   {
    "duration": 26,
    "start_time": "2025-05-16T18:08:55.445Z"
   },
   {
    "duration": 68,
    "start_time": "2025-05-16T18:08:55.473Z"
   },
   {
    "duration": 163,
    "start_time": "2025-05-16T18:08:55.543Z"
   },
   {
    "duration": 8,
    "start_time": "2025-05-16T18:08:55.708Z"
   },
   {
    "duration": 126,
    "start_time": "2025-05-16T18:08:55.718Z"
   },
   {
    "duration": 20,
    "start_time": "2025-05-16T18:08:55.846Z"
   },
   {
    "duration": 69,
    "start_time": "2025-05-16T18:08:55.868Z"
   },
   {
    "duration": 182,
    "start_time": "2025-05-16T18:08:55.939Z"
   },
   {
    "duration": 31,
    "start_time": "2025-05-16T18:08:56.123Z"
   },
   {
    "duration": 93,
    "start_time": "2025-05-16T18:08:56.157Z"
   },
   {
    "duration": 46,
    "start_time": "2025-05-16T18:08:56.252Z"
   },
   {
    "duration": 2365,
    "start_time": "2025-05-16T18:08:56.300Z"
   },
   {
    "duration": 1614,
    "start_time": "2025-05-16T18:08:58.667Z"
   },
   {
    "duration": 176,
    "start_time": "2025-05-16T18:09:00.283Z"
   },
   {
    "duration": 120,
    "start_time": "2025-05-16T18:09:00.464Z"
   },
   {
    "duration": 0,
    "start_time": "2025-05-16T18:09:00.587Z"
   },
   {
    "duration": 0,
    "start_time": "2025-05-16T18:09:00.588Z"
   },
   {
    "duration": 0,
    "start_time": "2025-05-16T18:09:00.590Z"
   },
   {
    "duration": 0,
    "start_time": "2025-05-16T18:09:00.591Z"
   },
   {
    "duration": 0,
    "start_time": "2025-05-16T18:09:00.593Z"
   },
   {
    "duration": 0,
    "start_time": "2025-05-16T18:09:00.595Z"
   },
   {
    "duration": 0,
    "start_time": "2025-05-16T18:09:00.596Z"
   },
   {
    "duration": 0,
    "start_time": "2025-05-16T18:09:00.598Z"
   },
   {
    "duration": 0,
    "start_time": "2025-05-16T18:09:00.599Z"
   },
   {
    "duration": 94,
    "start_time": "2025-05-16T18:09:07.288Z"
   },
   {
    "duration": 247,
    "start_time": "2025-05-16T18:09:08.169Z"
   },
   {
    "duration": 269,
    "start_time": "2025-05-16T18:09:09.081Z"
   },
   {
    "duration": 64,
    "start_time": "2025-05-16T18:09:37.081Z"
   },
   {
    "duration": 236,
    "start_time": "2025-05-16T18:09:37.969Z"
   },
   {
    "duration": 279,
    "start_time": "2025-05-16T18:09:39.162Z"
   },
   {
    "duration": 50,
    "start_time": "2025-05-16T18:09:41.394Z"
   },
   {
    "duration": 66,
    "start_time": "2025-05-16T18:09:42.922Z"
   },
   {
    "duration": 248,
    "start_time": "2025-05-16T18:10:48.090Z"
   },
   {
    "duration": 255,
    "start_time": "2025-05-16T18:11:08.236Z"
   },
   {
    "duration": 54,
    "start_time": "2025-05-16T18:11:23.602Z"
   },
   {
    "duration": 65,
    "start_time": "2025-05-16T18:11:24.026Z"
   },
   {
    "duration": 84,
    "start_time": "2025-05-16T18:12:22.405Z"
   },
   {
    "duration": 4,
    "start_time": "2025-05-16T18:13:01.644Z"
   },
   {
    "duration": 4,
    "start_time": "2025-05-16T18:13:13.027Z"
   },
   {
    "duration": 4,
    "start_time": "2025-05-16T18:13:21.803Z"
   },
   {
    "duration": 4,
    "start_time": "2025-05-16T18:13:35.660Z"
   },
   {
    "duration": 4,
    "start_time": "2025-05-16T18:13:49.932Z"
   },
   {
    "duration": 4,
    "start_time": "2025-05-16T18:13:59.064Z"
   },
   {
    "duration": 10,
    "start_time": "2025-05-16T18:15:29.652Z"
   },
   {
    "duration": 1291,
    "start_time": "2025-05-16T18:15:38.945Z"
   },
   {
    "duration": 40,
    "start_time": "2025-05-16T18:15:55.434Z"
   },
   {
    "duration": 1301,
    "start_time": "2025-05-16T18:16:18.705Z"
   },
   {
    "duration": 58,
    "start_time": "2025-05-16T18:16:35.849Z"
   },
   {
    "duration": 47,
    "start_time": "2025-05-16T18:16:55.916Z"
   },
   {
    "duration": 58,
    "start_time": "2025-05-16T18:17:14.746Z"
   },
   {
    "duration": 59,
    "start_time": "2025-05-16T18:17:24.771Z"
   },
   {
    "duration": 12,
    "start_time": "2025-05-16T18:20:24.356Z"
   },
   {
    "duration": 10,
    "start_time": "2025-05-16T18:20:33.720Z"
   },
   {
    "duration": 48,
    "start_time": "2025-05-16T18:20:45.387Z"
   },
   {
    "duration": 111,
    "start_time": "2025-05-16T18:24:50.354Z"
   },
   {
    "duration": 191,
    "start_time": "2025-05-16T18:25:10.883Z"
   },
   {
    "duration": 107,
    "start_time": "2025-05-16T18:25:22.492Z"
   },
   {
    "duration": 9,
    "start_time": "2025-05-16T18:27:44.265Z"
   },
   {
    "duration": 113,
    "start_time": "2025-05-16T18:28:30.169Z"
   },
   {
    "duration": 83,
    "start_time": "2025-05-16T18:39:55.859Z"
   },
   {
    "duration": 1321,
    "start_time": "2025-05-16T18:40:08.372Z"
   },
   {
    "duration": 16,
    "start_time": "2025-05-16T18:40:19.722Z"
   },
   {
    "duration": 17,
    "start_time": "2025-05-16T18:40:32.070Z"
   },
   {
    "duration": 11,
    "start_time": "2025-05-16T18:40:52.788Z"
   },
   {
    "duration": 110,
    "start_time": "2025-05-16T18:42:56.531Z"
   },
   {
    "duration": 77,
    "start_time": "2025-05-16T18:43:08.344Z"
   },
   {
    "duration": 75,
    "start_time": "2025-05-16T18:43:23.193Z"
   },
   {
    "duration": 17,
    "start_time": "2025-05-16T18:44:11.499Z"
   },
   {
    "duration": 16,
    "start_time": "2025-05-16T18:44:24.378Z"
   },
   {
    "duration": 12,
    "start_time": "2025-05-16T18:45:43.294Z"
   },
   {
    "duration": 112,
    "start_time": "2025-05-16T18:47:34.941Z"
   },
   {
    "duration": 12,
    "start_time": "2025-05-16T18:59:10.402Z"
   },
   {
    "duration": 118,
    "start_time": "2025-05-16T18:59:12.069Z"
   },
   {
    "duration": 14,
    "start_time": "2025-05-16T19:01:56.892Z"
   },
   {
    "duration": 118,
    "start_time": "2025-05-16T19:02:18.052Z"
   },
   {
    "duration": 125,
    "start_time": "2025-05-16T19:02:27.556Z"
   },
   {
    "duration": 112,
    "start_time": "2025-05-16T19:02:46.404Z"
   },
   {
    "duration": 120,
    "start_time": "2025-05-16T19:02:55.074Z"
   },
   {
    "duration": 12,
    "start_time": "2025-05-16T19:11:11.195Z"
   },
   {
    "duration": 17,
    "start_time": "2025-05-16T19:12:13.716Z"
   },
   {
    "duration": 41,
    "start_time": "2025-05-16T19:15:01.580Z"
   },
   {
    "duration": 58,
    "start_time": "2025-05-16T19:15:17.354Z"
   },
   {
    "duration": 3757,
    "start_time": "2025-05-16T19:15:29.385Z"
   },
   {
    "duration": 78,
    "start_time": "2025-05-16T19:15:33.145Z"
   },
   {
    "duration": 47,
    "start_time": "2025-05-16T19:15:33.225Z"
   },
   {
    "duration": 1599,
    "start_time": "2025-05-16T19:15:33.273Z"
   },
   {
    "duration": 120,
    "start_time": "2025-05-16T19:15:34.874Z"
   },
   {
    "duration": 202,
    "start_time": "2025-05-16T19:15:34.996Z"
   },
   {
    "duration": 437,
    "start_time": "2025-05-16T19:15:35.200Z"
   },
   {
    "duration": 186,
    "start_time": "2025-05-16T19:15:35.639Z"
   },
   {
    "duration": 25,
    "start_time": "2025-05-16T19:15:35.827Z"
   },
   {
    "duration": 39,
    "start_time": "2025-05-16T19:15:35.855Z"
   },
   {
    "duration": 351,
    "start_time": "2025-05-16T19:15:35.896Z"
   },
   {
    "duration": 173,
    "start_time": "2025-05-16T19:15:36.249Z"
   },
   {
    "duration": 216,
    "start_time": "2025-05-16T19:15:36.424Z"
   },
   {
    "duration": 28,
    "start_time": "2025-05-16T19:15:36.643Z"
   },
   {
    "duration": 73,
    "start_time": "2025-05-16T19:15:36.673Z"
   },
   {
    "duration": 247,
    "start_time": "2025-05-16T19:15:36.748Z"
   },
   {
    "duration": 8,
    "start_time": "2025-05-16T19:15:36.997Z"
   },
   {
    "duration": 240,
    "start_time": "2025-05-16T19:15:37.007Z"
   },
   {
    "duration": 22,
    "start_time": "2025-05-16T19:15:37.249Z"
   },
   {
    "duration": 188,
    "start_time": "2025-05-16T19:15:37.273Z"
   },
   {
    "duration": 178,
    "start_time": "2025-05-16T19:15:37.463Z"
   },
   {
    "duration": 29,
    "start_time": "2025-05-16T19:15:37.643Z"
   },
   {
    "duration": 105,
    "start_time": "2025-05-16T19:15:37.674Z"
   },
   {
    "duration": 43,
    "start_time": "2025-05-16T19:15:37.781Z"
   },
   {
    "duration": 2432,
    "start_time": "2025-05-16T19:15:37.837Z"
   },
   {
    "duration": 1508,
    "start_time": "2025-05-16T19:15:40.271Z"
   },
   {
    "duration": 185,
    "start_time": "2025-05-16T19:15:41.782Z"
   },
   {
    "duration": 129,
    "start_time": "2025-05-16T19:15:41.972Z"
   },
   {
    "duration": 0,
    "start_time": "2025-05-16T19:15:42.103Z"
   },
   {
    "duration": 0,
    "start_time": "2025-05-16T19:15:42.105Z"
   },
   {
    "duration": 1,
    "start_time": "2025-05-16T19:15:42.106Z"
   },
   {
    "duration": 0,
    "start_time": "2025-05-16T19:15:42.108Z"
   },
   {
    "duration": 0,
    "start_time": "2025-05-16T19:15:42.110Z"
   },
   {
    "duration": 0,
    "start_time": "2025-05-16T19:15:42.111Z"
   },
   {
    "duration": 0,
    "start_time": "2025-05-16T19:15:42.112Z"
   },
   {
    "duration": 0,
    "start_time": "2025-05-16T19:15:42.114Z"
   },
   {
    "duration": 0,
    "start_time": "2025-05-16T19:15:42.136Z"
   },
   {
    "duration": 0,
    "start_time": "2025-05-16T19:15:42.138Z"
   },
   {
    "duration": 0,
    "start_time": "2025-05-16T19:15:42.139Z"
   },
   {
    "duration": 0,
    "start_time": "2025-05-16T19:15:42.140Z"
   },
   {
    "duration": 0,
    "start_time": "2025-05-16T19:15:42.142Z"
   },
   {
    "duration": 12,
    "start_time": "2025-05-16T19:15:51.259Z"
   },
   {
    "duration": 77,
    "start_time": "2025-05-16T19:16:01.771Z"
   },
   {
    "duration": 103,
    "start_time": "2025-05-16T19:16:05.449Z"
   },
   {
    "duration": 105,
    "start_time": "2025-05-16T19:16:06.325Z"
   },
   {
    "duration": 74,
    "start_time": "2025-05-16T19:16:08.785Z"
   },
   {
    "duration": 265,
    "start_time": "2025-05-16T19:16:08.962Z"
   },
   {
    "duration": 268,
    "start_time": "2025-05-16T19:16:09.481Z"
   },
   {
    "duration": 52,
    "start_time": "2025-05-16T19:16:09.803Z"
   },
   {
    "duration": 65,
    "start_time": "2025-05-16T19:16:10.034Z"
   },
   {
    "duration": 46,
    "start_time": "2025-05-16T19:16:12.825Z"
   },
   {
    "duration": 115,
    "start_time": "2025-05-16T19:16:14.265Z"
   },
   {
    "duration": 15,
    "start_time": "2025-05-16T19:16:15.553Z"
   },
   {
    "duration": 2501,
    "start_time": "2025-05-16T19:16:29.649Z"
   },
   {
    "duration": 67,
    "start_time": "2025-05-16T19:16:32.153Z"
   },
   {
    "duration": 14,
    "start_time": "2025-05-16T19:16:33.193Z"
   },
   {
    "duration": 1069,
    "start_time": "2025-05-16T19:16:33.579Z"
   },
   {
    "duration": 109,
    "start_time": "2025-05-16T19:16:34.650Z"
   },
   {
    "duration": 122,
    "start_time": "2025-05-16T19:16:34.761Z"
   },
   {
    "duration": 365,
    "start_time": "2025-05-16T19:16:34.885Z"
   },
   {
    "duration": 341,
    "start_time": "2025-05-16T19:16:35.251Z"
   },
   {
    "duration": 21,
    "start_time": "2025-05-16T19:16:35.594Z"
   },
   {
    "duration": 142,
    "start_time": "2025-05-16T19:16:35.617Z"
   },
   {
    "duration": 308,
    "start_time": "2025-05-16T19:16:35.761Z"
   },
   {
    "duration": 152,
    "start_time": "2025-05-16T19:16:36.972Z"
   },
   {
    "duration": 218,
    "start_time": "2025-05-16T19:16:37.538Z"
   },
   {
    "duration": 28,
    "start_time": "2025-05-16T19:16:37.921Z"
   },
   {
    "duration": 51,
    "start_time": "2025-05-16T19:16:38.530Z"
   },
   {
    "duration": 155,
    "start_time": "2025-05-16T19:16:39.065Z"
   },
   {
    "duration": 8,
    "start_time": "2025-05-16T19:16:40.416Z"
   },
   {
    "duration": 90,
    "start_time": "2025-05-16T19:16:40.580Z"
   },
   {
    "duration": 17,
    "start_time": "2025-05-16T19:16:40.986Z"
   },
   {
    "duration": 17,
    "start_time": "2025-05-16T19:16:42.570Z"
   },
   {
    "duration": 166,
    "start_time": "2025-05-16T19:16:42.947Z"
   },
   {
    "duration": 26,
    "start_time": "2025-05-16T19:16:43.353Z"
   },
   {
    "duration": 72,
    "start_time": "2025-05-16T19:16:43.946Z"
   },
   {
    "duration": 46,
    "start_time": "2025-05-16T19:16:44.553Z"
   },
   {
    "duration": 2328,
    "start_time": "2025-05-16T19:16:44.920Z"
   },
   {
    "duration": 1424,
    "start_time": "2025-05-16T19:16:47.250Z"
   },
   {
    "duration": 84,
    "start_time": "2025-05-16T19:16:48.675Z"
   },
   {
    "duration": 74,
    "start_time": "2025-05-16T19:16:48.761Z"
   },
   {
    "duration": 74,
    "start_time": "2025-05-16T19:16:49.681Z"
   },
   {
    "duration": 111,
    "start_time": "2025-05-16T19:16:52.981Z"
   },
   {
    "duration": 116,
    "start_time": "2025-05-16T19:16:53.093Z"
   },
   {
    "duration": 81,
    "start_time": "2025-05-16T19:16:55.801Z"
   },
   {
    "duration": 246,
    "start_time": "2025-05-16T19:16:56.233Z"
   },
   {
    "duration": 267,
    "start_time": "2025-05-16T19:16:56.818Z"
   },
   {
    "duration": 59,
    "start_time": "2025-05-16T19:16:57.087Z"
   },
   {
    "duration": 65,
    "start_time": "2025-05-16T19:16:57.300Z"
   },
   {
    "duration": 55,
    "start_time": "2025-05-16T19:17:00.601Z"
   },
   {
    "duration": 290,
    "start_time": "2025-05-16T19:17:08.985Z"
   },
   {
    "duration": 50,
    "start_time": "2025-05-16T19:17:09.851Z"
   },
   {
    "duration": 66,
    "start_time": "2025-05-16T19:17:10.756Z"
   },
   {
    "duration": 47,
    "start_time": "2025-05-16T19:17:15.330Z"
   },
   {
    "duration": 238,
    "start_time": "2025-05-16T19:17:17.780Z"
   },
   {
    "duration": 47,
    "start_time": "2025-05-16T19:17:34.826Z"
   },
   {
    "duration": 110,
    "start_time": "2025-05-16T19:17:36.362Z"
   },
   {
    "duration": 16,
    "start_time": "2025-05-16T19:17:37.627Z"
   },
   {
    "duration": 3771,
    "start_time": "2025-05-16T19:19:14.507Z"
   },
   {
    "duration": 68,
    "start_time": "2025-05-16T19:19:18.280Z"
   },
   {
    "duration": 14,
    "start_time": "2025-05-16T19:19:18.350Z"
   },
   {
    "duration": 1233,
    "start_time": "2025-05-16T19:19:18.366Z"
   },
   {
    "duration": 110,
    "start_time": "2025-05-16T19:19:19.600Z"
   },
   {
    "duration": 129,
    "start_time": "2025-05-16T19:19:19.712Z"
   },
   {
    "duration": 391,
    "start_time": "2025-05-16T19:19:19.842Z"
   },
   {
    "duration": 165,
    "start_time": "2025-05-16T19:19:20.236Z"
   },
   {
    "duration": 33,
    "start_time": "2025-05-16T19:19:20.403Z"
   },
   {
    "duration": 37,
    "start_time": "2025-05-16T19:19:20.439Z"
   },
   {
    "duration": 308,
    "start_time": "2025-05-16T19:19:20.478Z"
   },
   {
    "duration": 169,
    "start_time": "2025-05-16T19:19:20.788Z"
   },
   {
    "duration": 245,
    "start_time": "2025-05-16T19:19:20.959Z"
   },
   {
    "duration": 34,
    "start_time": "2025-05-16T19:19:21.206Z"
   },
   {
    "duration": 47,
    "start_time": "2025-05-16T19:19:21.241Z"
   },
   {
    "duration": 175,
    "start_time": "2025-05-16T19:19:21.290Z"
   },
   {
    "duration": 8,
    "start_time": "2025-05-16T19:19:21.467Z"
   },
   {
    "duration": 124,
    "start_time": "2025-05-16T19:19:21.476Z"
   },
   {
    "duration": 19,
    "start_time": "2025-05-16T19:19:21.602Z"
   },
   {
    "duration": 69,
    "start_time": "2025-05-16T19:19:21.622Z"
   },
   {
    "duration": 206,
    "start_time": "2025-05-16T19:19:21.693Z"
   },
   {
    "duration": 38,
    "start_time": "2025-05-16T19:19:21.901Z"
   },
   {
    "duration": 75,
    "start_time": "2025-05-16T19:19:21.941Z"
   },
   {
    "duration": 55,
    "start_time": "2025-05-16T19:19:22.017Z"
   },
   {
    "duration": 2451,
    "start_time": "2025-05-16T19:19:22.074Z"
   },
   {
    "duration": 1573,
    "start_time": "2025-05-16T19:19:24.526Z"
   },
   {
    "duration": 181,
    "start_time": "2025-05-16T19:19:26.100Z"
   },
   {
    "duration": 123,
    "start_time": "2025-05-16T19:19:26.285Z"
   },
   {
    "duration": 0,
    "start_time": "2025-05-16T19:19:26.410Z"
   },
   {
    "duration": 0,
    "start_time": "2025-05-16T19:19:26.411Z"
   },
   {
    "duration": 0,
    "start_time": "2025-05-16T19:19:26.412Z"
   },
   {
    "duration": 0,
    "start_time": "2025-05-16T19:19:26.414Z"
   },
   {
    "duration": 0,
    "start_time": "2025-05-16T19:19:26.415Z"
   },
   {
    "duration": 0,
    "start_time": "2025-05-16T19:19:26.436Z"
   },
   {
    "duration": 0,
    "start_time": "2025-05-16T19:19:26.437Z"
   },
   {
    "duration": 0,
    "start_time": "2025-05-16T19:19:26.438Z"
   },
   {
    "duration": 0,
    "start_time": "2025-05-16T19:19:26.439Z"
   },
   {
    "duration": 0,
    "start_time": "2025-05-16T19:19:26.440Z"
   },
   {
    "duration": 0,
    "start_time": "2025-05-16T19:19:26.441Z"
   },
   {
    "duration": 0,
    "start_time": "2025-05-16T19:19:26.442Z"
   },
   {
    "duration": 0,
    "start_time": "2025-05-16T19:19:26.443Z"
   },
   {
    "duration": 11,
    "start_time": "2025-05-16T19:19:52.707Z"
   },
   {
    "duration": 10,
    "start_time": "2025-05-16T19:19:58.163Z"
   },
   {
    "duration": 105,
    "start_time": "2025-05-16T19:20:01.836Z"
   },
   {
    "duration": 258,
    "start_time": "2025-05-16T19:20:02.661Z"
   },
   {
    "duration": 273,
    "start_time": "2025-05-16T19:20:03.212Z"
   },
   {
    "duration": 53,
    "start_time": "2025-05-16T19:20:03.684Z"
   },
   {
    "duration": 65,
    "start_time": "2025-05-16T19:20:04.205Z"
   },
   {
    "duration": 44,
    "start_time": "2025-05-16T19:20:07.511Z"
   },
   {
    "duration": 48,
    "start_time": "2025-05-16T19:20:46.306Z"
   },
   {
    "duration": 78,
    "start_time": "2025-05-16T19:21:15.256Z"
   },
   {
    "duration": 238,
    "start_time": "2025-05-16T19:21:16.137Z"
   },
   {
    "duration": 265,
    "start_time": "2025-05-16T19:21:16.864Z"
   },
   {
    "duration": 53,
    "start_time": "2025-05-16T19:21:17.667Z"
   },
   {
    "duration": 66,
    "start_time": "2025-05-16T19:21:19.763Z"
   },
   {
    "duration": 48,
    "start_time": "2025-05-16T19:21:23.552Z"
   },
   {
    "duration": 52,
    "start_time": "2025-05-16T19:21:40.111Z"
   },
   {
    "duration": 64,
    "start_time": "2025-05-16T19:21:55.601Z"
   },
   {
    "duration": 53,
    "start_time": "2025-05-16T19:21:59.538Z"
   },
   {
    "duration": 236,
    "start_time": "2025-05-16T19:22:30.232Z"
   },
   {
    "duration": 267,
    "start_time": "2025-05-16T19:22:31.082Z"
   },
   {
    "duration": 226,
    "start_time": "2025-05-16T19:22:44.077Z"
   },
   {
    "duration": 293,
    "start_time": "2025-05-16T19:22:44.375Z"
   },
   {
    "duration": 263,
    "start_time": "2025-05-16T19:23:29.730Z"
   },
   {
    "duration": 111,
    "start_time": "2025-05-16T19:23:37.025Z"
   },
   {
    "duration": 102,
    "start_time": "2025-05-16T19:23:37.508Z"
   },
   {
    "duration": 63,
    "start_time": "2025-05-16T19:23:39.269Z"
   },
   {
    "duration": 241,
    "start_time": "2025-05-16T19:23:39.747Z"
   },
   {
    "duration": 280,
    "start_time": "2025-05-16T19:23:40.364Z"
   },
   {
    "duration": 295,
    "start_time": "2025-05-16T19:23:58.073Z"
   },
   {
    "duration": 257,
    "start_time": "2025-05-16T19:24:04.258Z"
   },
   {
    "duration": 271,
    "start_time": "2025-05-16T19:24:05.042Z"
   },
   {
    "duration": 267,
    "start_time": "2025-05-16T19:25:25.140Z"
   },
   {
    "duration": 51,
    "start_time": "2025-05-16T19:25:28.059Z"
   },
   {
    "duration": 65,
    "start_time": "2025-05-16T19:25:28.633Z"
   },
   {
    "duration": 53,
    "start_time": "2025-05-16T19:25:31.809Z"
   },
   {
    "duration": 48,
    "start_time": "2025-05-16T19:26:16.364Z"
   },
   {
    "duration": 116,
    "start_time": "2025-05-16T19:26:19.620Z"
   },
   {
    "duration": 13,
    "start_time": "2025-05-16T19:26:28.501Z"
   },
   {
    "duration": 127,
    "start_time": "2025-05-16T19:26:31.546Z"
   },
   {
    "duration": 18,
    "start_time": "2025-05-16T19:26:37.321Z"
   },
   {
    "duration": 157,
    "start_time": "2025-05-16T19:30:38.082Z"
   },
   {
    "duration": 3044,
    "start_time": "2025-05-16T19:40:13.594Z"
   },
   {
    "duration": 72,
    "start_time": "2025-05-16T19:40:16.641Z"
   },
   {
    "duration": 17,
    "start_time": "2025-05-16T19:40:19.192Z"
   },
   {
    "duration": 1072,
    "start_time": "2025-05-16T19:40:20.392Z"
   },
   {
    "duration": 104,
    "start_time": "2025-05-16T19:40:23.353Z"
   },
   {
    "duration": 113,
    "start_time": "2025-05-16T19:40:24.084Z"
   },
   {
    "duration": 355,
    "start_time": "2025-05-16T19:40:26.082Z"
   },
   {
    "duration": 235,
    "start_time": "2025-05-16T19:40:27.944Z"
   },
   {
    "duration": 25,
    "start_time": "2025-05-16T19:40:33.113Z"
   },
   {
    "duration": 39,
    "start_time": "2025-05-16T19:40:33.809Z"
   },
   {
    "duration": 401,
    "start_time": "2025-05-16T19:40:34.745Z"
   },
   {
    "duration": 163,
    "start_time": "2025-05-16T19:40:37.592Z"
   },
   {
    "duration": 239,
    "start_time": "2025-05-16T19:40:38.792Z"
   },
   {
    "duration": 27,
    "start_time": "2025-05-16T19:40:39.456Z"
   },
   {
    "duration": 53,
    "start_time": "2025-05-16T19:40:40.184Z"
   },
   {
    "duration": 152,
    "start_time": "2025-05-16T19:40:41.434Z"
   },
   {
    "duration": 7,
    "start_time": "2025-05-16T19:40:44.282Z"
   },
   {
    "duration": 89,
    "start_time": "2025-05-16T19:40:44.836Z"
   },
   {
    "duration": 18,
    "start_time": "2025-05-16T19:40:45.352Z"
   },
   {
    "duration": 18,
    "start_time": "2025-05-16T19:40:47.043Z"
   },
   {
    "duration": 170,
    "start_time": "2025-05-16T19:40:47.554Z"
   },
   {
    "duration": 28,
    "start_time": "2025-05-16T19:40:47.905Z"
   },
   {
    "duration": 75,
    "start_time": "2025-05-16T19:40:48.082Z"
   },
   {
    "duration": 46,
    "start_time": "2025-05-16T19:40:48.249Z"
   },
   {
    "duration": 2320,
    "start_time": "2025-05-16T19:40:49.176Z"
   },
   {
    "duration": 1574,
    "start_time": "2025-05-16T19:40:51.498Z"
   },
   {
    "duration": 85,
    "start_time": "2025-05-16T19:40:53.074Z"
   },
   {
    "duration": 147,
    "start_time": "2025-05-16T19:40:53.160Z"
   },
   {
    "duration": 71,
    "start_time": "2025-05-16T19:40:56.025Z"
   },
   {
    "duration": 126,
    "start_time": "2025-05-16T19:41:03.089Z"
   },
   {
    "duration": 108,
    "start_time": "2025-05-16T19:41:03.489Z"
   },
   {
    "duration": 63,
    "start_time": "2025-05-16T19:41:06.458Z"
   },
   {
    "duration": 227,
    "start_time": "2025-05-16T19:41:06.867Z"
   },
   {
    "duration": 277,
    "start_time": "2025-05-16T19:41:07.377Z"
   },
   {
    "duration": 53,
    "start_time": "2025-05-16T19:41:07.897Z"
   },
   {
    "duration": 63,
    "start_time": "2025-05-16T19:41:08.566Z"
   },
   {
    "duration": 106,
    "start_time": "2025-05-16T19:42:22.004Z"
   },
   {
    "duration": 105,
    "start_time": "2025-05-16T19:42:22.459Z"
   },
   {
    "duration": 74,
    "start_time": "2025-05-16T19:42:25.563Z"
   },
   {
    "duration": 231,
    "start_time": "2025-05-16T19:42:26.042Z"
   },
   {
    "duration": 304,
    "start_time": "2025-05-16T19:42:27.115Z"
   },
   {
    "duration": 52,
    "start_time": "2025-05-16T19:42:28.273Z"
   },
   {
    "duration": 66,
    "start_time": "2025-05-16T19:42:28.730Z"
   },
   {
    "duration": 54,
    "start_time": "2025-05-16T19:42:32.761Z"
   },
   {
    "duration": 112,
    "start_time": "2025-05-16T19:42:34.042Z"
   },
   {
    "duration": 17,
    "start_time": "2025-05-16T19:42:35.363Z"
   },
   {
    "duration": 128,
    "start_time": "2025-05-16T19:42:35.851Z"
   },
   {
    "duration": 26,
    "start_time": "2025-05-16T19:42:37.306Z"
   },
   {
    "duration": 178,
    "start_time": "2025-05-16T19:42:38.530Z"
   },
   {
    "duration": 17,
    "start_time": "2025-05-16T19:43:58.022Z"
   },
   {
    "duration": 15,
    "start_time": "2025-05-16T19:44:27.324Z"
   },
   {
    "duration": 15,
    "start_time": "2025-05-16T19:44:44.121Z"
   },
   {
    "duration": 16,
    "start_time": "2025-05-16T19:44:59.506Z"
   },
   {
    "duration": 20,
    "start_time": "2025-05-16T19:46:48.409Z"
   },
   {
    "duration": 16,
    "start_time": "2025-05-16T19:47:56.017Z"
   },
   {
    "duration": 370,
    "start_time": "2025-05-16T19:48:31.651Z"
   },
   {
    "duration": 73,
    "start_time": "2025-05-16T19:48:59.106Z"
   },
   {
    "duration": 17,
    "start_time": "2025-05-16T19:49:04.665Z"
   },
   {
    "duration": 75,
    "start_time": "2025-05-16T19:49:15.642Z"
   },
   {
    "duration": 464,
    "start_time": "2025-05-16T19:49:37.867Z"
   },
   {
    "duration": 3647,
    "start_time": "2025-05-16T19:52:03.889Z"
   },
   {
    "duration": 88,
    "start_time": "2025-05-16T19:52:07.538Z"
   },
   {
    "duration": 14,
    "start_time": "2025-05-16T19:52:07.628Z"
   },
   {
    "duration": 1207,
    "start_time": "2025-05-16T19:52:07.644Z"
   },
   {
    "duration": 120,
    "start_time": "2025-05-16T19:52:08.852Z"
   },
   {
    "duration": 226,
    "start_time": "2025-05-16T19:52:08.974Z"
   },
   {
    "duration": 445,
    "start_time": "2025-05-16T19:52:09.201Z"
   },
   {
    "duration": 252,
    "start_time": "2025-05-16T19:52:09.648Z"
   },
   {
    "duration": 23,
    "start_time": "2025-05-16T19:52:09.902Z"
   },
   {
    "duration": 37,
    "start_time": "2025-05-16T19:52:09.937Z"
   },
   {
    "duration": 395,
    "start_time": "2025-05-16T19:52:09.976Z"
   },
   {
    "duration": 177,
    "start_time": "2025-05-16T19:52:10.373Z"
   },
   {
    "duration": 284,
    "start_time": "2025-05-16T19:52:10.551Z"
   },
   {
    "duration": 25,
    "start_time": "2025-05-16T19:52:10.837Z"
   },
   {
    "duration": 48,
    "start_time": "2025-05-16T19:52:10.864Z"
   },
   {
    "duration": 178,
    "start_time": "2025-05-16T19:52:10.913Z"
   },
   {
    "duration": 8,
    "start_time": "2025-05-16T19:52:11.093Z"
   },
   {
    "duration": 127,
    "start_time": "2025-05-16T19:52:11.102Z"
   },
   {
    "duration": 20,
    "start_time": "2025-05-16T19:52:11.230Z"
   },
   {
    "duration": 59,
    "start_time": "2025-05-16T19:52:11.252Z"
   },
   {
    "duration": 191,
    "start_time": "2025-05-16T19:52:11.312Z"
   },
   {
    "duration": 33,
    "start_time": "2025-05-16T19:52:11.505Z"
   },
   {
    "duration": 121,
    "start_time": "2025-05-16T19:52:11.539Z"
   },
   {
    "duration": 43,
    "start_time": "2025-05-16T19:52:11.662Z"
   },
   {
    "duration": 2387,
    "start_time": "2025-05-16T19:52:11.706Z"
   },
   {
    "duration": 1523,
    "start_time": "2025-05-16T19:52:14.095Z"
   },
   {
    "duration": 173,
    "start_time": "2025-05-16T19:52:15.620Z"
   },
   {
    "duration": 119,
    "start_time": "2025-05-16T19:52:15.796Z"
   },
   {
    "duration": 0,
    "start_time": "2025-05-16T19:52:15.916Z"
   },
   {
    "duration": 0,
    "start_time": "2025-05-16T19:52:15.918Z"
   },
   {
    "duration": 0,
    "start_time": "2025-05-16T19:52:15.919Z"
   },
   {
    "duration": 0,
    "start_time": "2025-05-16T19:52:15.920Z"
   },
   {
    "duration": 0,
    "start_time": "2025-05-16T19:52:15.937Z"
   },
   {
    "duration": 0,
    "start_time": "2025-05-16T19:52:15.938Z"
   },
   {
    "duration": 0,
    "start_time": "2025-05-16T19:52:15.939Z"
   },
   {
    "duration": 0,
    "start_time": "2025-05-16T19:52:15.940Z"
   },
   {
    "duration": 0,
    "start_time": "2025-05-16T19:52:15.941Z"
   },
   {
    "duration": 0,
    "start_time": "2025-05-16T19:52:15.942Z"
   },
   {
    "duration": 0,
    "start_time": "2025-05-16T19:52:15.943Z"
   },
   {
    "duration": 0,
    "start_time": "2025-05-16T19:52:15.944Z"
   },
   {
    "duration": 0,
    "start_time": "2025-05-16T19:52:15.946Z"
   },
   {
    "duration": 0,
    "start_time": "2025-05-16T19:52:15.947Z"
   },
   {
    "duration": 0,
    "start_time": "2025-05-16T19:52:15.948Z"
   },
   {
    "duration": 2479,
    "start_time": "2025-05-16T19:52:31.760Z"
   },
   {
    "duration": 60,
    "start_time": "2025-05-16T19:52:34.242Z"
   },
   {
    "duration": 15,
    "start_time": "2025-05-16T19:52:35.689Z"
   },
   {
    "duration": 1837,
    "start_time": "2025-05-16T19:52:36.707Z"
   },
   {
    "duration": 111,
    "start_time": "2025-05-16T19:52:38.546Z"
   },
   {
    "duration": 128,
    "start_time": "2025-05-16T19:52:38.658Z"
   },
   {
    "duration": 363,
    "start_time": "2025-05-16T19:52:39.474Z"
   },
   {
    "duration": 192,
    "start_time": "2025-05-16T19:52:40.313Z"
   },
   {
    "duration": 21,
    "start_time": "2025-05-16T19:52:40.803Z"
   },
   {
    "duration": 39,
    "start_time": "2025-05-16T19:52:41.170Z"
   },
   {
    "duration": 321,
    "start_time": "2025-05-16T19:52:42.003Z"
   },
   {
    "duration": 153,
    "start_time": "2025-05-16T19:52:43.377Z"
   },
   {
    "duration": 277,
    "start_time": "2025-05-16T19:52:43.774Z"
   },
   {
    "duration": 27,
    "start_time": "2025-05-16T19:52:44.053Z"
   },
   {
    "duration": 52,
    "start_time": "2025-05-16T19:52:44.210Z"
   },
   {
    "duration": 158,
    "start_time": "2025-05-16T19:52:44.658Z"
   },
   {
    "duration": 7,
    "start_time": "2025-05-16T19:52:46.338Z"
   },
   {
    "duration": 91,
    "start_time": "2025-05-16T19:52:46.758Z"
   },
   {
    "duration": 18,
    "start_time": "2025-05-16T19:52:47.010Z"
   },
   {
    "duration": 17,
    "start_time": "2025-05-16T19:52:48.061Z"
   },
   {
    "duration": 167,
    "start_time": "2025-05-16T19:52:48.595Z"
   },
   {
    "duration": 29,
    "start_time": "2025-05-16T19:52:48.978Z"
   },
   {
    "duration": 75,
    "start_time": "2025-05-16T19:52:49.298Z"
   },
   {
    "duration": 45,
    "start_time": "2025-05-16T19:52:49.546Z"
   },
   {
    "duration": 2293,
    "start_time": "2025-05-16T19:52:50.404Z"
   },
   {
    "duration": 1526,
    "start_time": "2025-05-16T19:52:52.699Z"
   },
   {
    "duration": 78,
    "start_time": "2025-05-16T19:52:54.226Z"
   },
   {
    "duration": 33,
    "start_time": "2025-05-16T19:52:54.306Z"
   },
   {
    "duration": 38,
    "start_time": "2025-05-16T19:53:30.520Z"
   },
   {
    "duration": 14,
    "start_time": "2025-05-16T19:53:31.144Z"
   },
   {
    "duration": 37,
    "start_time": "2025-05-16T19:54:34.984Z"
   },
   {
    "duration": 15,
    "start_time": "2025-05-16T19:54:36.160Z"
   },
   {
    "duration": 18,
    "start_time": "2025-05-16T19:55:06.471Z"
   },
   {
    "duration": 10,
    "start_time": "2025-05-16T19:55:08.672Z"
   },
   {
    "duration": 10,
    "start_time": "2025-05-16T19:55:21.984Z"
   },
   {
    "duration": 13,
    "start_time": "2025-05-16T19:55:26.684Z"
   },
   {
    "duration": 14,
    "start_time": "2025-05-16T19:55:53.753Z"
   },
   {
    "duration": 39,
    "start_time": "2025-05-16T19:56:03.535Z"
   },
   {
    "duration": 15,
    "start_time": "2025-05-16T19:56:06.959Z"
   },
   {
    "duration": 21,
    "start_time": "2025-05-16T19:56:24.417Z"
   },
   {
    "duration": 9,
    "start_time": "2025-05-16T19:56:41.450Z"
   },
   {
    "duration": 11,
    "start_time": "2025-05-16T19:57:32.280Z"
   },
   {
    "duration": 3618,
    "start_time": "2025-05-16T19:58:22.913Z"
   },
   {
    "duration": 2467,
    "start_time": "2025-05-16T19:58:28.816Z"
   },
   {
    "duration": 79,
    "start_time": "2025-05-16T19:58:31.297Z"
   },
   {
    "duration": 14,
    "start_time": "2025-05-16T19:58:32.955Z"
   },
   {
    "duration": 1333,
    "start_time": "2025-05-16T19:58:33.897Z"
   },
   {
    "duration": 104,
    "start_time": "2025-05-16T19:58:35.236Z"
   },
   {
    "duration": 129,
    "start_time": "2025-05-16T19:58:35.342Z"
   },
   {
    "duration": 359,
    "start_time": "2025-05-16T19:58:36.328Z"
   },
   {
    "duration": 200,
    "start_time": "2025-05-16T19:58:37.257Z"
   },
   {
    "duration": 21,
    "start_time": "2025-05-16T19:58:37.689Z"
   },
   {
    "duration": 36,
    "start_time": "2025-05-16T19:58:38.233Z"
   },
   {
    "duration": 397,
    "start_time": "2025-05-16T19:58:39.249Z"
   },
   {
    "duration": 144,
    "start_time": "2025-05-16T19:58:41.449Z"
   },
   {
    "duration": 256,
    "start_time": "2025-05-16T19:58:42.265Z"
   },
   {
    "duration": 27,
    "start_time": "2025-05-16T19:58:42.873Z"
   },
   {
    "duration": 47,
    "start_time": "2025-05-16T19:58:43.720Z"
   },
   {
    "duration": 156,
    "start_time": "2025-05-16T19:58:44.682Z"
   },
   {
    "duration": 8,
    "start_time": "2025-05-16T19:58:47.136Z"
   },
   {
    "duration": 104,
    "start_time": "2025-05-16T19:58:47.553Z"
   },
   {
    "duration": 18,
    "start_time": "2025-05-16T19:58:48.193Z"
   },
   {
    "duration": 55,
    "start_time": "2025-05-16T19:58:50.641Z"
   },
   {
    "duration": 165,
    "start_time": "2025-05-16T19:58:51.498Z"
   },
   {
    "duration": 31,
    "start_time": "2025-05-16T19:58:51.897Z"
   },
   {
    "duration": 74,
    "start_time": "2025-05-16T19:58:52.498Z"
   },
   {
    "duration": 44,
    "start_time": "2025-05-16T19:58:53.065Z"
   },
   {
    "duration": 2304,
    "start_time": "2025-05-16T19:58:54.393Z"
   },
   {
    "duration": 1579,
    "start_time": "2025-05-16T19:58:56.699Z"
   },
   {
    "duration": 172,
    "start_time": "2025-05-16T19:58:58.280Z"
   },
   {
    "duration": 113,
    "start_time": "2025-05-16T19:58:58.453Z"
   },
   {
    "duration": 214,
    "start_time": "2025-05-16T19:59:15.739Z"
   },
   {
    "duration": 10,
    "start_time": "2025-05-16T19:59:21.921Z"
   },
   {
    "duration": 9,
    "start_time": "2025-05-16T19:59:44.857Z"
   },
   {
    "duration": 10,
    "start_time": "2025-05-16T20:00:00.098Z"
   },
   {
    "duration": 12,
    "start_time": "2025-05-16T20:00:00.773Z"
   },
   {
    "duration": 202,
    "start_time": "2025-05-16T20:00:09.434Z"
   },
   {
    "duration": 11,
    "start_time": "2025-05-16T20:00:17.660Z"
   },
   {
    "duration": 9,
    "start_time": "2025-05-16T20:00:51.050Z"
   },
   {
    "duration": 11,
    "start_time": "2025-05-16T20:01:31.670Z"
   },
   {
    "duration": 10,
    "start_time": "2025-05-16T20:01:37.542Z"
   },
   {
    "duration": 12,
    "start_time": "2025-05-16T20:02:00.543Z"
   },
   {
    "duration": 12,
    "start_time": "2025-05-16T20:02:34.158Z"
   },
   {
    "duration": 11,
    "start_time": "2025-05-16T20:02:59.849Z"
   },
   {
    "duration": 84,
    "start_time": "2025-05-16T20:03:37.031Z"
   },
   {
    "duration": 77,
    "start_time": "2025-05-16T20:03:43.364Z"
   },
   {
    "duration": 305,
    "start_time": "2025-05-16T20:03:47.615Z"
   },
   {
    "duration": 80,
    "start_time": "2025-05-16T20:05:33.928Z"
   },
   {
    "duration": 308,
    "start_time": "2025-05-16T20:05:34.601Z"
   },
   {
    "duration": 301,
    "start_time": "2025-05-16T20:05:45.224Z"
   },
   {
    "duration": 125,
    "start_time": "2025-05-16T20:05:50.255Z"
   },
   {
    "duration": 93,
    "start_time": "2025-05-16T20:05:53.336Z"
   },
   {
    "duration": 83,
    "start_time": "2025-05-16T20:05:58.985Z"
   },
   {
    "duration": 264,
    "start_time": "2025-05-16T20:05:59.544Z"
   },
   {
    "duration": 269,
    "start_time": "2025-05-16T20:06:00.873Z"
   },
   {
    "duration": 55,
    "start_time": "2025-05-16T20:06:04.016Z"
   },
   {
    "duration": 67,
    "start_time": "2025-05-16T20:06:04.497Z"
   },
   {
    "duration": 47,
    "start_time": "2025-05-16T20:06:08.336Z"
   },
   {
    "duration": 120,
    "start_time": "2025-05-16T20:06:11.535Z"
   },
   {
    "duration": 13,
    "start_time": "2025-05-16T20:06:15.048Z"
   },
   {
    "duration": 124,
    "start_time": "2025-05-16T20:06:15.626Z"
   },
   {
    "duration": 17,
    "start_time": "2025-05-16T20:06:17.504Z"
   },
   {
    "duration": 168,
    "start_time": "2025-05-16T20:06:19.055Z"
   },
   {
    "duration": 52,
    "start_time": "2025-05-17T08:11:10.823Z"
   },
   {
    "duration": 8,
    "start_time": "2025-05-17T08:11:42.672Z"
   },
   {
    "duration": 442,
    "start_time": "2025-05-17T08:11:50.794Z"
   },
   {
    "duration": 58,
    "start_time": "2025-05-17T08:11:51.815Z"
   },
   {
    "duration": 14,
    "start_time": "2025-05-17T08:11:52.797Z"
   },
   {
    "duration": 1306,
    "start_time": "2025-05-17T08:11:53.206Z"
   },
   {
    "duration": 117,
    "start_time": "2025-05-17T08:11:54.514Z"
   },
   {
    "duration": 164,
    "start_time": "2025-05-17T08:11:54.633Z"
   },
   {
    "duration": 385,
    "start_time": "2025-05-17T08:16:38.366Z"
   },
   {
    "duration": 189,
    "start_time": "2025-05-17T08:16:43.520Z"
   },
   {
    "duration": 23,
    "start_time": "2025-05-17T08:16:52.450Z"
   },
   {
    "duration": 36,
    "start_time": "2025-05-17T08:16:53.310Z"
   },
   {
    "duration": 369,
    "start_time": "2025-05-17T08:16:54.536Z"
   },
   {
    "duration": 160,
    "start_time": "2025-05-17T08:17:05.491Z"
   },
   {
    "duration": 382,
    "start_time": "2025-05-17T08:17:06.279Z"
   },
   {
    "duration": 38,
    "start_time": "2025-05-17T08:17:06.663Z"
   },
   {
    "duration": 51,
    "start_time": "2025-05-17T08:17:07.309Z"
   },
   {
    "duration": 1229,
    "start_time": "2025-05-17T08:17:08.372Z"
   },
   {
    "duration": 7,
    "start_time": "2025-05-17T08:17:14.606Z"
   },
   {
    "duration": 109,
    "start_time": "2025-05-17T08:17:14.968Z"
   },
   {
    "duration": 19,
    "start_time": "2025-05-17T08:17:15.168Z"
   },
   {
    "duration": 486,
    "start_time": "2025-05-17T08:17:19.551Z"
   },
   {
    "duration": 182,
    "start_time": "2025-05-17T08:17:20.040Z"
   },
   {
    "duration": 26,
    "start_time": "2025-05-17T08:17:20.313Z"
   },
   {
    "duration": 81,
    "start_time": "2025-05-17T08:17:20.792Z"
   },
   {
    "duration": 46,
    "start_time": "2025-05-17T08:17:21.269Z"
   },
   {
    "duration": 18,
    "start_time": "2025-05-17T08:17:22.839Z"
   },
   {
    "duration": 9,
    "start_time": "2025-05-17T08:17:23.918Z"
   },
   {
    "duration": 78,
    "start_time": "2025-05-17T08:17:52.950Z"
   },
   {
    "duration": 10,
    "start_time": "2025-05-17T08:18:11.111Z"
   },
   {
    "duration": 10,
    "start_time": "2025-05-17T08:18:35.038Z"
   },
   {
    "duration": 12727,
    "start_time": "2025-05-17T08:18:59.066Z"
   },
   {
    "duration": 72,
    "start_time": "2025-05-17T08:19:11.796Z"
   },
   {
    "duration": 15,
    "start_time": "2025-05-17T08:19:12.864Z"
   },
   {
    "duration": 1128,
    "start_time": "2025-05-17T08:19:13.657Z"
   },
   {
    "duration": 110,
    "start_time": "2025-05-17T08:19:14.787Z"
   },
   {
    "duration": 127,
    "start_time": "2025-05-17T08:19:14.898Z"
   },
   {
    "duration": 366,
    "start_time": "2025-05-17T08:19:15.384Z"
   },
   {
    "duration": 296,
    "start_time": "2025-05-17T08:19:15.857Z"
   },
   {
    "duration": 22,
    "start_time": "2025-05-17T08:19:16.156Z"
   },
   {
    "duration": 40,
    "start_time": "2025-05-17T08:19:16.303Z"
   },
   {
    "duration": 438,
    "start_time": "2025-05-17T08:19:16.823Z"
   },
   {
    "duration": 161,
    "start_time": "2025-05-17T08:19:17.669Z"
   },
   {
    "duration": 294,
    "start_time": "2025-05-17T08:19:19.126Z"
   },
   {
    "duration": 37,
    "start_time": "2025-05-17T08:19:19.422Z"
   },
   {
    "duration": 54,
    "start_time": "2025-05-17T08:19:19.758Z"
   },
   {
    "duration": 185,
    "start_time": "2025-05-17T08:19:20.408Z"
   },
   {
    "duration": 8,
    "start_time": "2025-05-17T08:19:22.310Z"
   },
   {
    "duration": 96,
    "start_time": "2025-05-17T08:19:22.549Z"
   },
   {
    "duration": 20,
    "start_time": "2025-05-17T08:19:22.985Z"
   },
   {
    "duration": 17,
    "start_time": "2025-05-17T08:19:24.645Z"
   },
   {
    "duration": 165,
    "start_time": "2025-05-17T08:19:25.070Z"
   },
   {
    "duration": 27,
    "start_time": "2025-05-17T08:19:25.238Z"
   },
   {
    "duration": 78,
    "start_time": "2025-05-17T08:19:25.420Z"
   },
   {
    "duration": 47,
    "start_time": "2025-05-17T08:19:25.617Z"
   },
   {
    "duration": 2355,
    "start_time": "2025-05-17T08:19:28.141Z"
   },
   {
    "duration": 1540,
    "start_time": "2025-05-17T08:19:33.801Z"
   },
   {
    "duration": 74,
    "start_time": "2025-05-17T08:20:02.758Z"
   },
   {
    "duration": 316,
    "start_time": "2025-05-17T08:20:03.737Z"
   },
   {
    "duration": 79,
    "start_time": "2025-05-17T08:20:15.735Z"
   },
   {
    "duration": 315,
    "start_time": "2025-05-17T08:20:26.345Z"
   },
   {
    "duration": 124,
    "start_time": "2025-05-17T08:20:31.132Z"
   },
   {
    "duration": 109,
    "start_time": "2025-05-17T08:20:33.616Z"
   },
   {
    "duration": 161,
    "start_time": "2025-05-17T08:22:46.037Z"
   },
   {
    "duration": 256,
    "start_time": "2025-05-17T08:24:48.610Z"
   },
   {
    "duration": 175,
    "start_time": "2025-05-17T08:24:53.895Z"
   },
   {
    "duration": 49,
    "start_time": "2025-05-17T08:26:12.510Z"
   },
   {
    "duration": 62,
    "start_time": "2025-05-17T08:26:32.687Z"
   },
   {
    "duration": 253,
    "start_time": "2025-05-17T08:26:36.289Z"
   },
   {
    "duration": 296,
    "start_time": "2025-05-17T08:26:37.410Z"
   },
   {
    "duration": 52,
    "start_time": "2025-05-17T08:26:40.321Z"
   },
   {
    "duration": 66,
    "start_time": "2025-05-17T08:26:40.807Z"
   },
   {
    "duration": 54,
    "start_time": "2025-05-17T08:26:52.585Z"
   },
   {
    "duration": 50,
    "start_time": "2025-05-17T08:28:08.807Z"
   },
   {
    "duration": 130,
    "start_time": "2025-05-17T08:28:17.403Z"
   },
   {
    "duration": 13,
    "start_time": "2025-05-17T08:29:30.119Z"
   },
   {
    "duration": 945,
    "start_time": "2025-05-17T08:29:52.574Z"
   },
   {
    "duration": 119,
    "start_time": "2025-05-17T08:30:26.572Z"
   },
   {
    "duration": 76,
    "start_time": "2025-05-17T08:30:59.982Z"
   },
   {
    "duration": 261,
    "start_time": "2025-05-17T08:31:02.281Z"
   },
   {
    "duration": 282,
    "start_time": "2025-05-17T08:31:03.620Z"
   },
   {
    "duration": 81,
    "start_time": "2025-05-17T08:31:05.339Z"
   },
   {
    "duration": 70,
    "start_time": "2025-05-17T08:31:05.734Z"
   },
   {
    "duration": 48,
    "start_time": "2025-05-17T08:31:15.436Z"
   },
   {
    "duration": 112,
    "start_time": "2025-05-17T08:31:19.387Z"
   },
   {
    "duration": 13,
    "start_time": "2025-05-17T08:31:22.527Z"
   },
   {
    "duration": 118,
    "start_time": "2025-05-17T08:31:24.941Z"
   },
   {
    "duration": 105,
    "start_time": "2025-05-17T08:34:48.349Z"
   },
   {
    "duration": 14,
    "start_time": "2025-05-17T08:42:09.817Z"
   },
   {
    "duration": 820,
    "start_time": "2025-05-17T08:43:41.224Z"
   },
   {
    "duration": 911,
    "start_time": "2025-05-17T08:45:24.452Z"
   },
   {
    "duration": 140,
    "start_time": "2025-05-17T08:45:25.366Z"
   },
   {
    "duration": 14,
    "start_time": "2025-05-17T08:45:40.018Z"
   },
   {
    "duration": 993,
    "start_time": "2025-05-17T08:45:42.580Z"
   },
   {
    "duration": 81,
    "start_time": "2025-05-17T08:49:14.923Z"
   },
   {
    "duration": 115,
    "start_time": "2025-05-17T08:49:23.830Z"
   },
   {
    "duration": 82,
    "start_time": "2025-05-17T08:49:33.443Z"
   },
   {
    "duration": 20,
    "start_time": "2025-05-17T08:50:34.952Z"
   },
   {
    "duration": 1248,
    "start_time": "2025-05-17T08:50:58.386Z"
   },
   {
    "duration": 15,
    "start_time": "2025-05-17T08:51:54.864Z"
   },
   {
    "duration": 869,
    "start_time": "2025-05-17T08:51:56.123Z"
   },
   {
    "duration": 1219,
    "start_time": "2025-05-17T08:53:30.141Z"
   },
   {
    "duration": 14,
    "start_time": "2025-05-17T08:57:24.290Z"
   },
   {
    "duration": 14,
    "start_time": "2025-05-17T08:58:03.834Z"
   },
   {
    "duration": 35,
    "start_time": "2025-05-17T08:58:45.058Z"
   },
   {
    "duration": 50,
    "start_time": "2025-05-17T08:59:14.232Z"
   },
   {
    "duration": 15,
    "start_time": "2025-05-17T09:04:29.656Z"
   },
   {
    "duration": 8,
    "start_time": "2025-05-17T09:04:52.973Z"
   },
   {
    "duration": 62,
    "start_time": "2025-05-17T09:06:34.142Z"
   },
   {
    "duration": 6,
    "start_time": "2025-05-17T09:06:35.719Z"
   },
   {
    "duration": 921,
    "start_time": "2025-05-17T09:06:37.552Z"
   },
   {
    "duration": 129,
    "start_time": "2025-05-17T09:06:38.877Z"
   },
   {
    "duration": 13,
    "start_time": "2025-05-17T09:10:11.108Z"
   },
   {
    "duration": 793,
    "start_time": "2025-05-17T09:10:25.934Z"
   },
   {
    "duration": 124,
    "start_time": "2025-05-17T09:10:26.730Z"
   },
   {
    "duration": 13,
    "start_time": "2025-05-17T09:11:01.021Z"
   },
   {
    "duration": 916,
    "start_time": "2025-05-17T09:11:06.741Z"
   },
   {
    "duration": 13,
    "start_time": "2025-05-17T09:11:18.289Z"
   },
   {
    "duration": 12,
    "start_time": "2025-05-17T09:11:33.975Z"
   },
   {
    "duration": 18,
    "start_time": "2025-05-17T09:16:36.694Z"
   },
   {
    "duration": 78,
    "start_time": "2025-05-17T09:19:04.400Z"
   },
   {
    "duration": 83,
    "start_time": "2025-05-17T09:19:21.149Z"
   },
   {
    "duration": 26,
    "start_time": "2025-05-17T09:24:13.757Z"
   },
   {
    "duration": 27,
    "start_time": "2025-05-17T09:26:20.567Z"
   },
   {
    "duration": 482,
    "start_time": "2025-05-17T09:28:08.868Z"
   },
   {
    "duration": 4929,
    "start_time": "2025-05-17T09:30:35.539Z"
   },
   {
    "duration": 76,
    "start_time": "2025-05-17T09:30:41.070Z"
   },
   {
    "duration": 15,
    "start_time": "2025-05-17T09:30:43.497Z"
   },
   {
    "duration": 1335,
    "start_time": "2025-05-17T09:30:44.697Z"
   },
   {
    "duration": 114,
    "start_time": "2025-05-17T09:30:46.034Z"
   },
   {
    "duration": 117,
    "start_time": "2025-05-17T09:30:46.348Z"
   },
   {
    "duration": 359,
    "start_time": "2025-05-17T09:30:50.057Z"
   },
   {
    "duration": 501,
    "start_time": "2025-05-17T09:30:51.563Z"
   },
   {
    "duration": 23,
    "start_time": "2025-05-17T09:30:52.108Z"
   },
   {
    "duration": 38,
    "start_time": "2025-05-17T09:30:52.663Z"
   },
   {
    "duration": 323,
    "start_time": "2025-05-17T09:30:53.859Z"
   },
   {
    "duration": 143,
    "start_time": "2025-05-17T09:30:56.343Z"
   },
   {
    "duration": 292,
    "start_time": "2025-05-17T09:30:57.375Z"
   },
   {
    "duration": 30,
    "start_time": "2025-05-17T09:30:58.014Z"
   },
   {
    "duration": 50,
    "start_time": "2025-05-17T09:30:58.853Z"
   },
   {
    "duration": 153,
    "start_time": "2025-05-17T09:31:00.237Z"
   },
   {
    "duration": 8,
    "start_time": "2025-05-17T09:31:04.925Z"
   },
   {
    "duration": 100,
    "start_time": "2025-05-17T09:31:05.562Z"
   },
   {
    "duration": 21,
    "start_time": "2025-05-17T09:31:06.183Z"
   },
   {
    "duration": 19,
    "start_time": "2025-05-17T09:31:09.461Z"
   },
   {
    "duration": 165,
    "start_time": "2025-05-17T09:31:09.982Z"
   },
   {
    "duration": 26,
    "start_time": "2025-05-17T09:31:10.491Z"
   },
   {
    "duration": 88,
    "start_time": "2025-05-17T09:31:11.163Z"
   },
   {
    "duration": 47,
    "start_time": "2025-05-17T09:31:11.469Z"
   },
   {
    "duration": 2336,
    "start_time": "2025-05-17T09:31:12.633Z"
   },
   {
    "duration": 5152,
    "start_time": "2025-05-17T09:38:32.501Z"
   },
   {
    "duration": 73,
    "start_time": "2025-05-17T09:38:37.656Z"
   },
   {
    "duration": 54,
    "start_time": "2025-05-17T09:38:39.586Z"
   },
   {
    "duration": 13,
    "start_time": "2025-05-17T09:38:41.764Z"
   },
   {
    "duration": 1058,
    "start_time": "2025-05-17T09:38:42.870Z"
   },
   {
    "duration": 105,
    "start_time": "2025-05-17T09:38:43.938Z"
   },
   {
    "duration": 279,
    "start_time": "2025-05-17T09:38:44.045Z"
   },
   {
    "duration": 371,
    "start_time": "2025-05-17T09:38:46.468Z"
   },
   {
    "duration": 234,
    "start_time": "2025-05-17T09:38:47.523Z"
   },
   {
    "duration": 22,
    "start_time": "2025-05-17T09:38:48.032Z"
   },
   {
    "duration": 39,
    "start_time": "2025-05-17T09:38:48.539Z"
   },
   {
    "duration": 902,
    "start_time": "2025-05-17T09:38:49.513Z"
   },
   {
    "duration": 153,
    "start_time": "2025-05-17T09:38:51.283Z"
   },
   {
    "duration": 324,
    "start_time": "2025-05-17T09:38:52.064Z"
   },
   {
    "duration": 27,
    "start_time": "2025-05-17T09:38:52.498Z"
   },
   {
    "duration": 53,
    "start_time": "2025-05-17T09:38:52.916Z"
   },
   {
    "duration": 148,
    "start_time": "2025-05-17T09:38:53.720Z"
   },
   {
    "duration": 7,
    "start_time": "2025-05-17T09:38:56.874Z"
   },
   {
    "duration": 109,
    "start_time": "2025-05-17T09:38:57.293Z"
   },
   {
    "duration": 19,
    "start_time": "2025-05-17T09:38:57.720Z"
   },
   {
    "duration": 17,
    "start_time": "2025-05-17T09:39:00.186Z"
   },
   {
    "duration": 168,
    "start_time": "2025-05-17T09:39:00.656Z"
   },
   {
    "duration": 32,
    "start_time": "2025-05-17T09:39:01.185Z"
   },
   {
    "duration": 81,
    "start_time": "2025-05-17T09:39:01.918Z"
   },
   {
    "duration": 48,
    "start_time": "2025-05-17T09:39:02.416Z"
   },
   {
    "duration": 2286,
    "start_time": "2025-05-17T09:39:03.377Z"
   },
   {
    "duration": 1606,
    "start_time": "2025-05-17T09:39:05.665Z"
   },
   {
    "duration": 81,
    "start_time": "2025-05-17T09:39:07.493Z"
   },
   {
    "duration": 224,
    "start_time": "2025-05-17T09:39:08.234Z"
   },
   {
    "duration": 90,
    "start_time": "2025-05-17T09:39:16.129Z"
   },
   {
    "duration": 348,
    "start_time": "2025-05-17T09:39:16.878Z"
   },
   {
    "duration": 292,
    "start_time": "2025-05-17T09:39:23.201Z"
   },
   {
    "duration": 181,
    "start_time": "2025-05-17T09:39:23.844Z"
   },
   {
    "duration": 75,
    "start_time": "2025-05-17T09:39:31.225Z"
   },
   {
    "duration": 254,
    "start_time": "2025-05-17T09:39:32.059Z"
   },
   {
    "duration": 285,
    "start_time": "2025-05-17T09:39:32.818Z"
   },
   {
    "duration": 53,
    "start_time": "2025-05-17T09:39:33.511Z"
   },
   {
    "duration": 64,
    "start_time": "2025-05-17T09:39:35.895Z"
   },
   {
    "duration": 116,
    "start_time": "2025-05-17T09:39:39.960Z"
   },
   {
    "duration": 113,
    "start_time": "2025-05-17T09:39:41.777Z"
   },
   {
    "duration": 105,
    "start_time": "2025-05-17T09:39:59.643Z"
   },
   {
    "duration": 56,
    "start_time": "2025-05-17T09:40:04.063Z"
   },
   {
    "duration": 263,
    "start_time": "2025-05-17T09:40:20.101Z"
   },
   {
    "duration": 50,
    "start_time": "2025-05-17T09:40:49.709Z"
   },
   {
    "duration": 134,
    "start_time": "2025-05-17T09:41:00.876Z"
   },
   {
    "duration": 112,
    "start_time": "2025-05-17T09:41:08.377Z"
   },
   {
    "duration": 109,
    "start_time": "2025-05-17T09:41:09.186Z"
   },
   {
    "duration": 899,
    "start_time": "2025-05-17T09:41:10.512Z"
   },
   {
    "duration": 65,
    "start_time": "2025-05-17T09:41:17.495Z"
   },
   {
    "duration": 7,
    "start_time": "2025-05-17T09:41:20.475Z"
   },
   {
    "duration": 13,
    "start_time": "2025-05-17T09:41:22.857Z"
   },
   {
    "duration": 14,
    "start_time": "2025-05-17T09:41:28.773Z"
   },
   {
    "duration": 863,
    "start_time": "2025-05-17T09:41:29.833Z"
   },
   {
    "duration": 145,
    "start_time": "2025-05-17T09:41:30.884Z"
   },
   {
    "duration": 28,
    "start_time": "2025-05-17T09:41:36.282Z"
   },
   {
    "duration": 430,
    "start_time": "2025-05-17T09:41:37.630Z"
   },
   {
    "duration": 171,
    "start_time": "2025-05-17T09:41:43.038Z"
   }
  ],
  "colab": {
   "provenance": []
  },
  "kernelspec": {
   "display_name": "Python 3 (ipykernel)",
   "language": "python",
   "name": "python3"
  },
  "language_info": {
   "codemirror_mode": {
    "name": "ipython",
    "version": 3
   },
   "file_extension": ".py",
   "mimetype": "text/x-python",
   "name": "python",
   "nbconvert_exporter": "python",
   "pygments_lexer": "ipython3",
   "version": "3.9.5"
  },
  "toc": {
   "base_numbering": 1,
   "nav_menu": {},
   "number_sections": true,
   "sideBar": true,
   "skip_h1_title": true,
   "title_cell": "Table of Contents",
   "title_sidebar": "Contents",
   "toc_cell": false,
   "toc_position": {},
   "toc_section_display": true,
   "toc_window_display": false
  }
 },
 "nbformat": 4,
 "nbformat_minor": 1
}
