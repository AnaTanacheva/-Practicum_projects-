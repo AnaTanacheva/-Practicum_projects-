{
 "cells": [
  {
   "cell_type": "markdown",
   "metadata": {
    "id": "LMuaGIE3lGcr"
   },
   "source": [
    "# Бронирование билетов на Яндекс Афиша в июне-октябре 2024 года"
   ]
  },
  {
   "cell_type": "markdown",
   "metadata": {
    "id": "LMuaGIE3lGcr"
   },
   "source": [
    "Автор: Анастасия Таначева\n",
    "\n",
    "Дата: 28.07.2025 - 29.07.2025"
   ]
  },
  {
   "cell_type": "markdown",
   "metadata": {
    "id": "LMuaGIE3lGcr"
   },
   "source": [
    "###### Цель: \n",
    "\n",
    "Выявить инсайты об изменении пользовательских предпочтений и популярности событий осенью 2024 года, а также проверить гипотезы о разнице в поведении пользователей с мобильными и стационарными устройствами."
   ]
  },
  {
   "cell_type": "markdown",
   "metadata": {
    "id": "LMuaGIE3lGcr"
   },
   "source": [
    "###### Задачи: \n",
    "\n",
    "I. Подготовка и исследовательский анализ данных \n",
    "\n",
    "II. Анализ пользовательских предпочтений и популярности событий\n",
    "\n",
    "III. Проверка гипотез о поведении пользователей с мобильных и стационарных устройств\n",
    "\n",
    "IV. Формулировка выводов и рекомендаций"
   ]
  },
  {
   "cell_type": "markdown",
   "metadata": {
    "id": "LMuaGIE3lGcr"
   },
   "source": [
    "# Описание данных"
   ]
  },
  {
   "cell_type": "markdown",
   "metadata": {
    "id": "LMuaGIE3lGcr"
   },
   "source": [
    "Первый датасет final_tickets_orders_df.csv включает информацию обо всех заказах билетов, совершённых с двух типов устройств — мобильных и стационарных. Поля датасета соответствуют таблице purchases, с которой вы работали в предыдущих заданиях:\n",
    "- order_id — уникальный идентификатор заказа.\n",
    "- user_id — уникальный идентификатор пользователя.\n",
    "- created_dt_msk — дата создания заказа (московское время).\n",
    "- created_ts_msk — дата и время создания заказа (московское время).\n",
    "- event_id — идентификатор мероприятия из таблицы events.\n",
    "- cinema_circuit — сеть кинотеатров. Если не применимо, то здесь будет значение 'нет'.\n",
    "- age_limit — возрастное ограничение мероприятия.\n",
    "- currency_code — валюта оплаты, например rub для российских рублей.\n",
    "- device_type_canonical — тип устройства, с которого был оформлен заказ, например mobile для мобильных устройств, desktop для стационарных.\n",
    "- revenue — выручка от заказа.\n",
    "- service_name — название билетного оператора.\n",
    "- tickets_count — количество купленных билетов.\n",
    "- total — общая сумма заказа."
   ]
  },
  {
   "cell_type": "markdown",
   "metadata": {
    "id": "LMuaGIE3lGcr"
   },
   "source": [
    "Второй датасет final_tickets_events_df содержит информацию о событиях, включая город и регион события, а также информацию о площадке проведения мероприятия. Обратите внимание, что из данных исключили фильмы, ведь, как было видно на дашборде, событий такого типа не так много. Датасет содержит такие поля:\n",
    "- event_id — уникальный идентификатор мероприятия.\n",
    "- event_name — название мероприятия. Аналог поля event_name_code из исходной базы данных.\n",
    "- event_type_description — описание типа мероприятия.\n",
    "- event_type_main — основной тип мероприятия: театральная постановка, концерт и так далее.\n",
    "- organizers — организаторы мероприятия.\n",
    "- region_name — название региона.\n",
    "- city_name — название города.\n",
    "- venue_id — уникальный идентификатор площадки.\n",
    "- venue_name — название площадки.\n",
    "- venue_address — адрес площадки."
   ]
  },
  {
   "cell_type": "markdown",
   "metadata": {
    "id": "LMuaGIE3lGcr"
   },
   "source": [
    "Анализ данных в предыдущей части проекта показал, что выручка от заказов представлена в двух валютах — российских рублях и казахстанских тенге. Для удобства решения было бы корректно привести данные к одной валюте, например к российским рублям. \n",
    "\n",
    "Для этого в нашем распоряжении будет датасет final_tickets_tenge_df.csv с информацией о курсе тенге к российскому рублю за 2024 год. Значения в рублях представлено для 100 тенге. Датасет содержит такие поля:\n",
    "- nominal — номинал (100 тенге).\n",
    "- data — дата.\n",
    "- curs — курс тенге к рублю.\n",
    "- cdx — обозначение валюты (kzt)."
   ]
  },
  {
   "cell_type": "markdown",
   "metadata": {
    "id": "LMuaGIE3lGcr"
   },
   "source": [
    "# Структура проекта"
   ]
  },
  {
   "cell_type": "markdown",
   "metadata": {
    "id": "LMuaGIE3lGcr"
   },
   "source": [
    "1) Загрузка данных и знакомство с ними\n",
    "\n",
    "2) Предобработка данных и подготовка их к исследованию\n",
    "\n",
    "3) Исследовательский анализ данных\n",
    "\n",
    "4) Статистический анализ данных\n",
    "\n",
    "5) Общий вывод и рекомендации"
   ]
  },
  {
   "cell_type": "markdown",
   "metadata": {
    "id": "LMuaGIE3lGcr"
   },
   "source": [
    "## Загрузка данных и знакомство с ними"
   ]
  },
  {
   "cell_type": "markdown",
   "metadata": {
    "id": "LMuaGIE3lGcr"
   },
   "source": [
    "### Импорт библиотек"
   ]
  },
  {
   "cell_type": "code",
   "execution_count": 149,
   "metadata": {
    "id": "LMuaGIE3lGcr"
   },
   "outputs": [],
   "source": [
    "import pandas as pd\n",
    "import numpy as np\n",
    "import matplotlib.pyplot as plt\n",
    "import seaborn as sns\n",
    "from scipy import stats"
   ]
  },
  {
   "cell_type": "markdown",
   "metadata": {
    "id": "LMuaGIE3lGcr"
   },
   "source": [
    "### Чтение данных"
   ]
  },
  {
   "cell_type": "code",
   "execution_count": 150,
   "metadata": {
    "id": "LMuaGIE3lGcr"
   },
   "outputs": [],
   "source": [
    "df_tickets = pd.read_csv('https://code.s3.yandex.net/datasets/final_tickets_orders_df.csv')\n",
    "df_events = pd.read_csv('https://code.s3.yandex.net/datasets/final_tickets_events_df.csv')"
   ]
  },
  {
   "cell_type": "markdown",
   "metadata": {
    "id": "LMuaGIE3lGcr"
   },
   "source": [
    "### Печать первых строк"
   ]
  },
  {
   "cell_type": "code",
   "execution_count": 151,
   "metadata": {
    "id": "LMuaGIE3lGcr",
    "scrolled": true
   },
   "outputs": [
    {
     "data": {
      "text/html": [
       "<div>\n",
       "<style scoped>\n",
       "    .dataframe tbody tr th:only-of-type {\n",
       "        vertical-align: middle;\n",
       "    }\n",
       "\n",
       "    .dataframe tbody tr th {\n",
       "        vertical-align: top;\n",
       "    }\n",
       "\n",
       "    .dataframe thead th {\n",
       "        text-align: right;\n",
       "    }\n",
       "</style>\n",
       "<table border=\"1\" class=\"dataframe\">\n",
       "  <thead>\n",
       "    <tr style=\"text-align: right;\">\n",
       "      <th></th>\n",
       "      <th>order_id</th>\n",
       "      <th>user_id</th>\n",
       "      <th>created_dt_msk</th>\n",
       "      <th>created_ts_msk</th>\n",
       "      <th>event_id</th>\n",
       "      <th>cinema_circuit</th>\n",
       "      <th>age_limit</th>\n",
       "      <th>currency_code</th>\n",
       "      <th>device_type_canonical</th>\n",
       "      <th>revenue</th>\n",
       "      <th>service_name</th>\n",
       "      <th>tickets_count</th>\n",
       "      <th>total</th>\n",
       "      <th>days_since_prev</th>\n",
       "    </tr>\n",
       "  </thead>\n",
       "  <tbody>\n",
       "    <tr>\n",
       "      <th>0</th>\n",
       "      <td>4359165</td>\n",
       "      <td>0002849b70a3ce2</td>\n",
       "      <td>2024-08-20</td>\n",
       "      <td>2024-08-20 16:08:03</td>\n",
       "      <td>169230</td>\n",
       "      <td>нет</td>\n",
       "      <td>16</td>\n",
       "      <td>rub</td>\n",
       "      <td>mobile</td>\n",
       "      <td>1521.94</td>\n",
       "      <td>Край билетов</td>\n",
       "      <td>4</td>\n",
       "      <td>10870.99</td>\n",
       "      <td>NaN</td>\n",
       "    </tr>\n",
       "    <tr>\n",
       "      <th>1</th>\n",
       "      <td>7965605</td>\n",
       "      <td>0005ca5e93f2cf4</td>\n",
       "      <td>2024-07-23</td>\n",
       "      <td>2024-07-23 18:36:24</td>\n",
       "      <td>237325</td>\n",
       "      <td>нет</td>\n",
       "      <td>0</td>\n",
       "      <td>rub</td>\n",
       "      <td>mobile</td>\n",
       "      <td>289.45</td>\n",
       "      <td>Мой билет</td>\n",
       "      <td>2</td>\n",
       "      <td>2067.51</td>\n",
       "      <td>NaN</td>\n",
       "    </tr>\n",
       "    <tr>\n",
       "      <th>2</th>\n",
       "      <td>7292370</td>\n",
       "      <td>0005ca5e93f2cf4</td>\n",
       "      <td>2024-10-06</td>\n",
       "      <td>2024-10-06 13:56:02</td>\n",
       "      <td>578454</td>\n",
       "      <td>нет</td>\n",
       "      <td>0</td>\n",
       "      <td>rub</td>\n",
       "      <td>mobile</td>\n",
       "      <td>1258.57</td>\n",
       "      <td>За билетом!</td>\n",
       "      <td>4</td>\n",
       "      <td>13984.16</td>\n",
       "      <td>75.0</td>\n",
       "    </tr>\n",
       "    <tr>\n",
       "      <th>3</th>\n",
       "      <td>1139875</td>\n",
       "      <td>000898990054619</td>\n",
       "      <td>2024-07-13</td>\n",
       "      <td>2024-07-13 19:40:48</td>\n",
       "      <td>387271</td>\n",
       "      <td>нет</td>\n",
       "      <td>0</td>\n",
       "      <td>rub</td>\n",
       "      <td>mobile</td>\n",
       "      <td>8.49</td>\n",
       "      <td>Лови билет!</td>\n",
       "      <td>2</td>\n",
       "      <td>212.28</td>\n",
       "      <td>NaN</td>\n",
       "    </tr>\n",
       "    <tr>\n",
       "      <th>4</th>\n",
       "      <td>972400</td>\n",
       "      <td>000898990054619</td>\n",
       "      <td>2024-10-04</td>\n",
       "      <td>2024-10-04 22:33:15</td>\n",
       "      <td>509453</td>\n",
       "      <td>нет</td>\n",
       "      <td>18</td>\n",
       "      <td>rub</td>\n",
       "      <td>mobile</td>\n",
       "      <td>1390.41</td>\n",
       "      <td>Билеты без проблем</td>\n",
       "      <td>3</td>\n",
       "      <td>10695.43</td>\n",
       "      <td>83.0</td>\n",
       "    </tr>\n",
       "  </tbody>\n",
       "</table>\n",
       "</div>"
      ],
      "text/plain": [
       "   order_id          user_id created_dt_msk       created_ts_msk  event_id  \\\n",
       "0   4359165  0002849b70a3ce2     2024-08-20  2024-08-20 16:08:03    169230   \n",
       "1   7965605  0005ca5e93f2cf4     2024-07-23  2024-07-23 18:36:24    237325   \n",
       "2   7292370  0005ca5e93f2cf4     2024-10-06  2024-10-06 13:56:02    578454   \n",
       "3   1139875  000898990054619     2024-07-13  2024-07-13 19:40:48    387271   \n",
       "4    972400  000898990054619     2024-10-04  2024-10-04 22:33:15    509453   \n",
       "\n",
       "  cinema_circuit  age_limit currency_code device_type_canonical  revenue  \\\n",
       "0            нет         16           rub                mobile  1521.94   \n",
       "1            нет          0           rub                mobile   289.45   \n",
       "2            нет          0           rub                mobile  1258.57   \n",
       "3            нет          0           rub                mobile     8.49   \n",
       "4            нет         18           rub                mobile  1390.41   \n",
       "\n",
       "         service_name  tickets_count     total  days_since_prev  \n",
       "0        Край билетов              4  10870.99              NaN  \n",
       "1           Мой билет              2   2067.51              NaN  \n",
       "2         За билетом!              4  13984.16             75.0  \n",
       "3         Лови билет!              2    212.28              NaN  \n",
       "4  Билеты без проблем              3  10695.43             83.0  "
      ]
     },
     "metadata": {},
     "output_type": "display_data"
    },
    {
     "data": {
      "text/html": [
       "<div>\n",
       "<style scoped>\n",
       "    .dataframe tbody tr th:only-of-type {\n",
       "        vertical-align: middle;\n",
       "    }\n",
       "\n",
       "    .dataframe tbody tr th {\n",
       "        vertical-align: top;\n",
       "    }\n",
       "\n",
       "    .dataframe thead th {\n",
       "        text-align: right;\n",
       "    }\n",
       "</style>\n",
       "<table border=\"1\" class=\"dataframe\">\n",
       "  <thead>\n",
       "    <tr style=\"text-align: right;\">\n",
       "      <th></th>\n",
       "      <th>event_id</th>\n",
       "      <th>event_name</th>\n",
       "      <th>event_type_description</th>\n",
       "      <th>event_type_main</th>\n",
       "      <th>organizers</th>\n",
       "      <th>region_name</th>\n",
       "      <th>city_name</th>\n",
       "      <th>city_id</th>\n",
       "      <th>venue_id</th>\n",
       "      <th>venue_name</th>\n",
       "      <th>venue_address</th>\n",
       "    </tr>\n",
       "  </thead>\n",
       "  <tbody>\n",
       "    <tr>\n",
       "      <th>0</th>\n",
       "      <td>4436</td>\n",
       "      <td>e4f26fba-da77-4c61-928a-6c3e434d793f</td>\n",
       "      <td>спектакль</td>\n",
       "      <td>театр</td>\n",
       "      <td>№4893</td>\n",
       "      <td>Североярская область</td>\n",
       "      <td>Озёрск</td>\n",
       "      <td>2</td>\n",
       "      <td>1600</td>\n",
       "      <td>Кладбище искусств \"Проблема\" и партнеры</td>\n",
       "      <td>наб. Загородная, д. 785</td>\n",
       "    </tr>\n",
       "    <tr>\n",
       "      <th>1</th>\n",
       "      <td>5785</td>\n",
       "      <td>5cc08a60-fdea-4186-9bb2-bffc3603fb77</td>\n",
       "      <td>спектакль</td>\n",
       "      <td>театр</td>\n",
       "      <td>№1931</td>\n",
       "      <td>Светополянский округ</td>\n",
       "      <td>Глиноград</td>\n",
       "      <td>54</td>\n",
       "      <td>2196</td>\n",
       "      <td>Лекции по искусству \"Свет\" Групп</td>\n",
       "      <td>ул. Ягодная, д. 942</td>\n",
       "    </tr>\n",
       "    <tr>\n",
       "      <th>2</th>\n",
       "      <td>8817</td>\n",
       "      <td>8e379a89-3a10-4811-ba06-ec22ebebe989</td>\n",
       "      <td>спектакль</td>\n",
       "      <td>театр</td>\n",
       "      <td>№4896</td>\n",
       "      <td>Североярская область</td>\n",
       "      <td>Озёрск</td>\n",
       "      <td>2</td>\n",
       "      <td>4043</td>\n",
       "      <td>Кинокомитет \"Золотая\" Инк</td>\n",
       "      <td>ш. Коммуны, д. 92 стр. 6</td>\n",
       "    </tr>\n",
       "    <tr>\n",
       "      <th>3</th>\n",
       "      <td>8849</td>\n",
       "      <td>682e3129-6a32-4952-9d8a-ef7f60d4c247</td>\n",
       "      <td>спектакль</td>\n",
       "      <td>театр</td>\n",
       "      <td>№4960</td>\n",
       "      <td>Каменевский регион</td>\n",
       "      <td>Глиногорск</td>\n",
       "      <td>213</td>\n",
       "      <td>1987</td>\n",
       "      <td>Выставка ремесел \"Свет\" Лтд</td>\n",
       "      <td>пер. Набережный, д. 35</td>\n",
       "    </tr>\n",
       "    <tr>\n",
       "      <th>4</th>\n",
       "      <td>8850</td>\n",
       "      <td>d6e99176-c77f-4af0-9222-07c571f6c624</td>\n",
       "      <td>спектакль</td>\n",
       "      <td>театр</td>\n",
       "      <td>№4770</td>\n",
       "      <td>Лесодальний край</td>\n",
       "      <td>Родниковец</td>\n",
       "      <td>55</td>\n",
       "      <td>4230</td>\n",
       "      <td>Фестивальный проект \"Листья\" Групп</td>\n",
       "      <td>пер. Проезжий, д. 9</td>\n",
       "    </tr>\n",
       "  </tbody>\n",
       "</table>\n",
       "</div>"
      ],
      "text/plain": [
       "   event_id                            event_name event_type_description  \\\n",
       "0      4436  e4f26fba-da77-4c61-928a-6c3e434d793f              спектакль   \n",
       "1      5785  5cc08a60-fdea-4186-9bb2-bffc3603fb77              спектакль   \n",
       "2      8817  8e379a89-3a10-4811-ba06-ec22ebebe989              спектакль   \n",
       "3      8849  682e3129-6a32-4952-9d8a-ef7f60d4c247              спектакль   \n",
       "4      8850  d6e99176-c77f-4af0-9222-07c571f6c624              спектакль   \n",
       "\n",
       "  event_type_main organizers           region_name   city_name  city_id  \\\n",
       "0           театр      №4893  Североярская область      Озёрск        2   \n",
       "1           театр      №1931  Светополянский округ   Глиноград       54   \n",
       "2           театр      №4896  Североярская область      Озёрск        2   \n",
       "3           театр      №4960    Каменевский регион  Глиногорск      213   \n",
       "4           театр      №4770      Лесодальний край  Родниковец       55   \n",
       "\n",
       "   venue_id                               venue_name             venue_address  \n",
       "0      1600  Кладбище искусств \"Проблема\" и партнеры   наб. Загородная, д. 785  \n",
       "1      2196         Лекции по искусству \"Свет\" Групп       ул. Ягодная, д. 942  \n",
       "2      4043                Кинокомитет \"Золотая\" Инк  ш. Коммуны, д. 92 стр. 6  \n",
       "3      1987              Выставка ремесел \"Свет\" Лтд    пер. Набережный, д. 35  \n",
       "4      4230       Фестивальный проект \"Листья\" Групп       пер. Проезжий, д. 9  "
      ]
     },
     "metadata": {},
     "output_type": "display_data"
    }
   ],
   "source": [
    "display(df_tickets.head())\n",
    "display(df_events.head())"
   ]
  },
  {
   "cell_type": "markdown",
   "metadata": {
    "id": "LMuaGIE3lGcr"
   },
   "source": [
    "### Подсчет строк"
   ]
  },
  {
   "cell_type": "code",
   "execution_count": 152,
   "metadata": {
    "id": "LMuaGIE3lGcr"
   },
   "outputs": [
    {
     "data": {
      "text/plain": [
       "290849"
      ]
     },
     "metadata": {},
     "output_type": "display_data"
    },
    {
     "data": {
      "text/plain": [
       "22427"
      ]
     },
     "metadata": {},
     "output_type": "display_data"
    }
   ],
   "source": [
    "rows_tickets = df_tickets.shape[0]\n",
    "rows_events = df_events.shape[0]\n",
    "\n",
    "display(rows_tickets, rows_events)"
   ]
  },
  {
   "cell_type": "markdown",
   "metadata": {
    "id": "LMuaGIE3lGcr"
   },
   "source": [
    "Вывод: в датафрейме, содержащем информацию о билетах, содержится 290849 строк, в датафрейме с информацией о событиях - 22427 строк."
   ]
  },
  {
   "cell_type": "markdown",
   "metadata": {
    "id": "LMuaGIE3lGcr"
   },
   "source": [
    "Датафрейм df_tickets включает информацию об идентификаторе заказа и пользователя, дате и времени создания заказа, идентификаторе события, типе устройства, выручке, названии сервиса, количестве билетов и общей сумме заказа. Также есть информация о количестве дней с предыдущего заказа пользователя, но есть пропуски. Требуется преобразование столбцов дат в соответствующий тип данных и обработка пропусков. В целом данные надлежащего качества.\n",
    "\n",
    "Датафрейм df_events содержит информацию о событиях, включая идентификатор события, название события, описание типа события, основной тип события, информацию об организаторах, регионе, городе, идентификаторе города, идентификаторе места проведения и адресе места проведения. Данные выглядят в основном полными, но может потребоваться преобразование типа данных для столбца organizers и анализ столбцов с текстовой информацией."
   ]
  },
  {
   "cell_type": "markdown",
   "metadata": {
    "id": "LMuaGIE3lGcr"
   },
   "source": [
    "## Предобработка данных и подготовка их к исследованию"
   ]
  },
  {
   "cell_type": "markdown",
   "metadata": {
    "id": "LMuaGIE3lGcr"
   },
   "source": [
    "### Определение типов данных"
   ]
  },
  {
   "cell_type": "code",
   "execution_count": 153,
   "metadata": {
    "id": "LMuaGIE3lGcr"
   },
   "outputs": [
    {
     "data": {
      "text/plain": [
       "order_id                   int64\n",
       "user_id                   object\n",
       "created_dt_msk            object\n",
       "created_ts_msk            object\n",
       "event_id                   int64\n",
       "cinema_circuit            object\n",
       "age_limit                  int64\n",
       "currency_code             object\n",
       "device_type_canonical     object\n",
       "revenue                  float64\n",
       "service_name              object\n",
       "tickets_count              int64\n",
       "total                    float64\n",
       "days_since_prev          float64\n",
       "dtype: object"
      ]
     },
     "metadata": {},
     "output_type": "display_data"
    },
    {
     "data": {
      "text/plain": [
       "event_id                   int64\n",
       "event_name                object\n",
       "event_type_description    object\n",
       "event_type_main           object\n",
       "organizers                object\n",
       "region_name               object\n",
       "city_name                 object\n",
       "city_id                    int64\n",
       "venue_id                   int64\n",
       "venue_name                object\n",
       "venue_address             object\n",
       "dtype: object"
      ]
     },
     "metadata": {},
     "output_type": "display_data"
    }
   ],
   "source": [
    "display(df_tickets.dtypes)\n",
    "\n",
    "display(df_events.dtypes)"
   ]
  },
  {
   "cell_type": "markdown",
   "metadata": {
    "id": "LMuaGIE3lGcr"
   },
   "source": [
    "Вывод: в датафрейме df_tickets стоит привести столбцы created_dt_msk и created_ts_msk к типу данных datetime. В датафрейме df_events тип данных во всех столбцах оптимальный."
   ]
  },
  {
   "cell_type": "markdown",
   "metadata": {
    "id": "LMuaGIE3lGcr"
   },
   "source": [
    "### Преобразование формата даты"
   ]
  },
  {
   "cell_type": "code",
   "execution_count": 154,
   "metadata": {
    "id": "LMuaGIE3lGcr"
   },
   "outputs": [],
   "source": [
    "df_tickets['created_dt_msk'] = pd.to_datetime(df_tickets['created_dt_msk'])\n",
    "df_tickets['created_ts_msk'] = pd.to_datetime(df_tickets['created_ts_msk'])"
   ]
  },
  {
   "cell_type": "markdown",
   "metadata": {
    "id": "LMuaGIE3lGcr"
   },
   "source": [
    "### Поиск явных дубликатов и пропусков"
   ]
  },
  {
   "cell_type": "code",
   "execution_count": 155,
   "metadata": {
    "id": "LMuaGIE3lGcr"
   },
   "outputs": [
    {
     "name": "stdout",
     "output_type": "stream",
     "text": [
      "21940 0\n"
     ]
    }
   ],
   "source": [
    "missing_values = df_tickets.isnull().sum().sum()\n",
    "duplicates = df_tickets.duplicated().sum()\n",
    "print(missing_values, duplicates)"
   ]
  },
  {
   "cell_type": "code",
   "execution_count": 156,
   "metadata": {
    "id": "LMuaGIE3lGcr"
   },
   "outputs": [
    {
     "name": "stdout",
     "output_type": "stream",
     "text": [
      "0 0\n"
     ]
    }
   ],
   "source": [
    "missing_values = df_events.isnull().sum().sum()\n",
    "duplicates = df_events.duplicated().sum()\n",
    "print(missing_values, duplicates)"
   ]
  },
  {
   "cell_type": "markdown",
   "metadata": {
    "id": "LMuaGIE3lGcr"
   },
   "source": [
    "Вывод: датафрейм df_tickets содержит 21940 пропусков (явных дубликатов нет), в датафрейме df_events пропусков и дубликатов не обнаружено."
   ]
  },
  {
   "cell_type": "markdown",
   "metadata": {
    "id": "LMuaGIE3lGcr"
   },
   "source": [
    "### Проверим, в каком столбце есть пропуски"
   ]
  },
  {
   "cell_type": "code",
   "execution_count": 157,
   "metadata": {
    "id": "LMuaGIE3lGcr"
   },
   "outputs": [
    {
     "data": {
      "text/plain": [
       "order_id                     0\n",
       "user_id                      0\n",
       "created_dt_msk               0\n",
       "created_ts_msk               0\n",
       "event_id                     0\n",
       "cinema_circuit               0\n",
       "age_limit                    0\n",
       "currency_code                0\n",
       "device_type_canonical        0\n",
       "revenue                      0\n",
       "service_name                 0\n",
       "tickets_count                0\n",
       "total                        0\n",
       "days_since_prev          21940\n",
       "dtype: int64"
      ]
     },
     "execution_count": 157,
     "metadata": {},
     "output_type": "execute_result"
    }
   ],
   "source": [
    "df_tickets.isnull().sum()"
   ]
  },
  {
   "cell_type": "markdown",
   "metadata": {
    "id": "LMuaGIE3lGcr"
   },
   "source": [
    "Вывод: как и оговаривалось изначально, пропуски есть только в столбце days_since_prev. Их число невелико (относительно кол-ва строк в датафрейме), поэтому оставим пропуски как есть."
   ]
  },
  {
   "cell_type": "code",
   "execution_count": 158,
   "metadata": {
    "id": "LMuaGIE3lGcr"
   },
   "outputs": [
    {
     "name": "stdout",
     "output_type": "stream",
     "text": [
      "Анализ revenue (RUB):\n",
      "count    285780.000000\n",
      "mean        547.568333\n",
      "std         871.524559\n",
      "min         -90.760000\n",
      "25%         113.827500\n",
      "50%         346.100000\n",
      "75%         791.700000\n",
      "max       81174.540000\n",
      "Name: revenue, dtype: float64\n"
     ]
    }
   ],
   "source": [
    "df_rub = df_tickets[df_tickets['currency_code'] == 'rub'].copy()\n",
    "df_kzt = df_tickets[df_tickets['currency_code'] == 'kzt'].copy()\n",
    "print(\"Анализ revenue (RUB):\")\n",
    "print(df_rub['revenue'].describe())"
   ]
  },
  {
   "cell_type": "code",
   "execution_count": 159,
   "metadata": {
    "id": "LMuaGIE3lGcr"
   },
   "outputs": [
    {
     "data": {
      "image/png": "[encoded data removed]",
      "text/plain": [
       "<Figure size 720x432 with 1 Axes>"
      ]
     },
     "metadata": {
      "needs_background": "light"
     },
     "output_type": "display_data"
    },
    {
     "data": {
      "image/png": "[encoded data removed]",
      "text/plain": [
       "<Figure size 576x288 with 1 Axes>"
      ]
     },
     "metadata": {
      "needs_background": "light"
     },
     "output_type": "display_data"
    }
   ],
   "source": [
    "# Гистограмма распределения revenue (рубли)\n",
    "plt.figure(figsize=(10, 6))\n",
    "sns.histplot(df_rub['revenue'], kde=True)\n",
    "plt.title(\"Распределение revenue (RUB)\")\n",
    "plt.xlabel(\"revenue\")\n",
    "plt.ylabel(\"Количество\")\n",
    "plt.show()\n",
    "\n",
    "# Диаграмма размаха revenue (рубли)\n",
    "plt.figure(figsize=(8, 4))\n",
    "sns.boxplot(x=df_rub['revenue'])\n",
    "plt.title(\"Диаграмма размаха revenue (RUB)\")\n",
    "plt.show()"
   ]
  },
  {
   "cell_type": "markdown",
   "metadata": {
    "id": "LMuaGIE3lGcr"
   },
   "source": [
    "Вывод: \n",
    "1) Диаграмма \"Распределение revenue (RUB)\":\n",
    "\n",
    "•  Распределение сильно скошено вправо. Это означает, что большинство значений выручки сосредоточены в левой части графика (близко к 0), а меньшее количество значений простирается вправо на более высокие значения выручки.\n",
    "\n",
    "•  Имеется пик (мода) в районе 0 - 5 000 RUB. Это указывает на то, что большинство заказов приносят относительно небольшую выручку.\n",
    "\n",
    "•  По мере продвижения вправо по оси X (увеличения выручки) количество наблюдений быстро уменьшается.\n",
    "\n",
    "•  Есть небольшое количество заказов с очень высокой выручкой (далеко справа на оси X), но они встречаются крайне редко.\n",
    "\n",
    "2) Диаграмма размаха\n",
    "\n",
    "•  Медиана: медиана находится в районе 1000-2000.\n",
    "\n",
    "•  Ящик: ящик довольно узкий, и находится в районе до 5000. Это означает, что 50% данных (между Q1 и Q3) сконцентрированы в этом узком диапазоне.\n",
    "\n",
    "•  Усы: ус слева начинается около 0 и упирается в левую границу ящика, т.к. там и сконцентрировано большинство данных. Ус справа тянется до 10000.\n",
    "\n",
    "•  Выбросы: диаграмма содержит значительное количество выбросов за пределами усов, простирающихся вплоть до 80 000. Это означает, что либо существуют заказы со значительно более высокой выручкой, чем у большинства, либо в данных содержатся ошибки, вызванные скорее всего тем, что в базу данные были внесены неправильно."
   ]
  },
  {
   "cell_type": "code",
   "execution_count": 160,
   "metadata": {
    "id": "LMuaGIE3lGcr"
   },
   "outputs": [
    {
     "name": "stdout",
     "output_type": "stream",
     "text": [
      "n99-й процентиль revenue (RUB): 2569.5942000000005\n",
      "nРазмер DataFrame до фильтрации revenue (RUB): 285780\n",
      "Размер DataFrame после фильтрации revenue (RUB): 282922\n"
     ]
    }
   ],
   "source": [
    "# Выбросы revenue (рубли) - отбор по 99-му процентилю\n",
    "revenue_99_rub = df_rub['revenue'].quantile(0.99)\n",
    "print(f\"n99-й процентиль revenue (RUB): {revenue_99_rub}\")\n",
    "\n",
    "df_rub_filtered = df_rub[df_rub['revenue'] <= revenue_99_rub]\n",
    "print(\"nРазмер DataFrame до фильтрации revenue (RUB):\", len(df_rub))\n",
    "print(\"Размер DataFrame после фильтрации revenue (RUB):\", len(df_rub_filtered))"
   ]
  },
  {
   "cell_type": "code",
   "execution_count": 161,
   "metadata": {
    "id": "LMuaGIE3lGcr"
   },
   "outputs": [
    {
     "name": "stdout",
     "output_type": "stream",
     "text": [
      "nАнализ tickets_count (RUB):\n",
      "count    285780.000000\n",
      "mean          2.754077\n",
      "std           1.171419\n",
      "min           1.000000\n",
      "25%           2.000000\n",
      "50%           3.000000\n",
      "75%           4.000000\n",
      "max          57.000000\n",
      "Name: tickets_count, dtype: float64\n"
     ]
    }
   ],
   "source": [
    "# 3. Анализ tickets_count (рубли)\n",
    "print(\"nАнализ tickets_count (RUB):\")\n",
    "print(df_rub['tickets_count'].describe())"
   ]
  },
  {
   "cell_type": "code",
   "execution_count": 162,
   "metadata": {
    "id": "LMuaGIE3lGcr"
   },
   "outputs": [
    {
     "data": {
      "image/png": "[encoded data removed]",
      "text/plain": [
       "<Figure size 720x432 with 1 Axes>"
      ]
     },
     "metadata": {
      "needs_background": "light"
     },
     "output_type": "display_data"
    },
    {
     "data": {
      "image/png": "[encoded data removed]",
      "text/plain": [
       "<Figure size 576x288 with 1 Axes>"
      ]
     },
     "metadata": {
      "needs_background": "light"
     },
     "output_type": "display_data"
    }
   ],
   "source": [
    "# Гистограмма распределения tickets_count (рубли)\n",
    "plt.figure(figsize=(10, 6))\n",
    "sns.histplot(df_rub['tickets_count'], kde=True)\n",
    "plt.title(\"Распределение tickets_count (RUB)\")\n",
    "plt.xlabel(\"tickets_count\")\n",
    "plt.ylabel(\"Количество\")\n",
    "plt.show()\n",
    "\n",
    "# Диаграмма размаха tickets_count (рубли)\n",
    "plt.figure(figsize=(8, 4))\n",
    "sns.boxplot(x=df_rub['tickets_count'])\n",
    "plt.title(\"Диаграмма размаха tickets_count (RUB)\")\n",
    "plt.show()"
   ]
  },
  {
   "cell_type": "markdown",
   "metadata": {
    "id": "LMuaGIE3lGcr"
   },
   "source": [
    "Выводы:\n",
    "\n",
    "1) Диаграмма \"Распределение tickets_count (RUB)\":\n",
    "\n",
    "Анализ распределения:\n",
    "\n",
    "График показывает распределение количества билетов (tickets_count). Видно, что большая часть значений сосредоточена в начале графика (то есть, небольшое количество билетов). Пики показывают, что есть определенные значения количества билетов, которые встречаются чаще других.\n",
    "\n",
    "2) Диаграмма размаха:\n",
    "\n",
    "•  Ящик диаграммы расположен близко к значению 0, что указывает на то, что большая часть данных о количестве билетов сосредоточена в этом диапазоне.\n",
    "\n",
    "•  Множество выбросов свидетельствует о наличии случаев с большим количеством билетов, которые можно считать нетипичными."
   ]
  },
  {
   "cell_type": "code",
   "execution_count": 163,
   "metadata": {
    "id": "LMuaGIE3lGcr"
   },
   "outputs": [
    {
     "name": "stdout",
     "output_type": "stream",
     "text": [
      "nАнализ revenue (KZT):\n",
      "count     5069.000000\n",
      "mean      4995.206767\n",
      "std       4916.752776\n",
      "min          0.000000\n",
      "25%        518.100000\n",
      "50%       3698.830000\n",
      "75%       7397.660000\n",
      "max      26425.860000\n",
      "Name: revenue, dtype: float64\n"
     ]
    },
    {
     "data": {
      "image/png": "[encoded data removed]",
      "text/plain": [
       "<Figure size 720x432 with 1 Axes>"
      ]
     },
     "metadata": {
      "needs_background": "light"
     },
     "output_type": "display_data"
    },
    {
     "data": {
      "image/png": "[encoded data removed]",
      "text/plain": [
       "<Figure size 576x288 with 1 Axes>"
      ]
     },
     "metadata": {
      "needs_background": "light"
     },
     "output_type": "display_data"
    },
    {
     "name": "stdout",
     "output_type": "stream",
     "text": [
      "n99-й процентиль revenue (KZT): 17617.24\n",
      "nРазмер DataFrame до фильтрации revenue (KZT): 5069\n",
      "Размер DataFrame после фильтрации revenue (KZT): 5040\n"
     ]
    }
   ],
   "source": [
    "# Анализ revenue (тенге)\n",
    "print(\"nАнализ revenue (KZT):\")\n",
    "print(df_kzt['revenue'].describe())\n",
    "\n",
    "# Гистограмма распределения revenue (тенге)\n",
    "plt.figure(figsize=(10, 6))\n",
    "sns.histplot(df_kzt['revenue'], kde=True)\n",
    "plt.title(\"Распределение revenue (KZT)\")\n",
    "plt.xlabel(\"revenue\")\n",
    "plt.ylabel(\"Количество\")\n",
    "plt.show()\n",
    "\n",
    "# Диаграмма размаха revenue (тенге)\n",
    "plt.figure(figsize=(8, 4))\n",
    "sns.boxplot(x=df_kzt['revenue'])\n",
    "plt.title(\"Диаграмма размаха revenue (KZT)\")\n",
    "plt.show()\n",
    "\n",
    "# Выбросы revenue (тенге) - отбор по 99-му процентилю\n",
    "revenue_99_kzt = df_kzt['revenue'].quantile(0.99)\n",
    "print(f\"n99-й процентиль revenue (KZT): {revenue_99_kzt}\")\n",
    "\n",
    "df_kzt_filtered = df_kzt[df_kzt['revenue'] <= revenue_99_kzt]\n",
    "print(\"nРазмер DataFrame до фильтрации revenue (KZT):\", len(df_kzt))\n",
    "print(\"Размер DataFrame после фильтрации revenue (KZT):\", len(df_kzt_filtered))"
   ]
  },
  {
   "cell_type": "markdown",
   "metadata": {
    "id": "LMuaGIE3lGcr"
   },
   "source": [
    "Выводы:\n",
    "\n",
    "1) Диаграмма \"Распределение revenue (KZT)\":\n",
    "\n",
    "•  Распределение revenue имеет высокую частоту для низких значений доходов.\n",
    "\n",
    "•  В начале диаграммы (0-5000) видна большая колонка, а далее по мере увеличения дохода колонок становится всё меньше и меньше.\n",
    "\n",
    "•  Видна кривая, наложенная на гистограмму, которая помогает визуализировать общую форму распределения.\n",
    "\n",
    "2) Диаграмма размаха:\n",
    "\n",
    "Диаграмма размаха показывает, что основная часть значений доходов (revenue) находится в диапазоне от 0 до примерно 5000. Есть выбросы с более высокими значениями. Фильтрация данных привела к незначительному сокращению количества строк, возможно, из-за удаления некоторых экстремальных значений."
   ]
  },
  {
   "cell_type": "code",
   "execution_count": 164,
   "metadata": {
    "id": "LMuaGIE3lGcr"
   },
   "outputs": [
    {
     "name": "stdout",
     "output_type": "stream",
     "text": [
      "nАнализ tickets_count (KZT):\n",
      "count    5069.000000\n",
      "mean        2.762872\n",
      "std         1.115558\n",
      "min         1.000000\n",
      "25%         2.000000\n",
      "50%         3.000000\n",
      "75%         4.000000\n",
      "max         6.000000\n",
      "Name: tickets_count, dtype: float64\n"
     ]
    },
    {
     "data": {
      "image/png": "[encoded data removed]",
      "text/plain": [
       "<Figure size 720x432 with 1 Axes>"
      ]
     },
     "metadata": {
      "needs_background": "light"
     },
     "output_type": "display_data"
    },
    {
     "data": {
      "image/png": "[encoded data removed]",
      "text/plain": [
       "<Figure size 576x288 with 1 Axes>"
      ]
     },
     "metadata": {
      "needs_background": "light"
     },
     "output_type": "display_data"
    }
   ],
   "source": [
    "print(\"nАнализ tickets_count (KZT):\")\n",
    "print(df_kzt['tickets_count'].describe())\n",
    "\n",
    "# Гистограмма распределения tickets_count (тенге)\n",
    "plt.figure(figsize=(10, 6))\n",
    "sns.histplot(df_kzt['tickets_count'], kde=True)\n",
    "plt.title(\"Распределение tickets_count (KZT)\")\n",
    "plt.xlabel(\"tickets_count\")\n",
    "plt.ylabel(\"Количество\")\n",
    "plt.show()\n",
    "\n",
    "# Диаграмма размаха tickets_count (тенге)\n",
    "plt.figure(figsize=(8, 4))\n",
    "sns.boxplot(x=df_kzt['tickets_count'])\n",
    "plt.title(\"Диаграмма размаха tickets_count (KZT)\")\n",
    "plt.show()"
   ]
  },
  {
   "cell_type": "markdown",
   "metadata": {
    "id": "LMuaGIE3lGcr"
   },
   "source": [
    "Выводы:\n",
    "\n",
    "1) Диаграмма \"Распределение tickets_count (KZT)\":\n",
    "\n",
    "Анализ распределения:\n",
    "\n",
    "График показывает, что большинство пользователей предпочитают покупать небольшое количество билетов (2 или 3). Покупки 1 или 4 билетов тоже довольно распространены, в то время как покупки 5 или 6 билетов являются редкими. Судя по мультимодальности, возможно, есть несколько различных групп пользователей с разными паттернами покупок.\n",
    "\n",
    "2) Диаграмма размаха:\n",
    "\n",
    "Диаграмма размаха предоставляет краткую информацию о распределении количества билетов. Она подтверждает, что большинство покупателей заказывают от 2 до 4 билетов, и в целом распределение довольно симметричное."
   ]
  },
  {
   "cell_type": "markdown",
   "metadata": {
    "id": "LMuaGIE3lGcr"
   },
   "source": [
    "### Поиск неявных дубликатов"
   ]
  },
  {
   "cell_type": "code",
   "execution_count": 165,
   "metadata": {
    "id": "LMuaGIE3lGcr",
    "scrolled": true
   },
   "outputs": [
    {
     "name": "stdout",
     "output_type": "stream",
     "text": [
      "Количество уникальных бронирований (booking_signature): 290807\n",
      "\n",
      "Неявные дубликаты бронирований (booking_signature):\n",
      " 7eb4fc207ecc10f_2024-08-23 00:00:00_2024-08-23 14:08:19_298035_нет_6_rub_mobile_126.84_Билеты без проблем_3170.95        3\n",
      "fd4d47438ebb946_2024-06-19 00:00:00_2024-06-19 15:40:56_489843_нет_18_rub_desktop_1319.43_Билеты без проблем_14660.31    3\n",
      "c2c6d35ff678ca6_2024-08-06 00:00:00_2024-08-06 13:26:42_379268_нет_0_rub_mobile_87.02_Билеты без проблем_4350.98         3\n",
      "8d6c1ff89fac35f_2024-10-31 00:00:00_2024-10-31 22:28:57_589624_нет_16_rub_desktop_41.83_Мой билет_1045.75                2\n",
      "cfd21a3210b5a35_2024-10-07 00:00:00_2024-10-07 12:15:35_546910_нет_16_rub_mobile_884.73_Весь в билетах_8847.26           2\n",
      "3ee7dc2e115847f_2024-06-25 00:00:00_2024-06-25 07:32:08_277504_нет_6_rub_mobile_59.19_Билеты в руки_739.85               2\n",
      "7eb4fc207ecc10f_2024-10-26 00:00:00_2024-10-26 09:39:03_418836_нет_0_rub_mobile_294.85_Лови билет!_4914.21               2\n",
      "7eb4fc207ecc10f_2024-09-21 00:00:00_2024-09-21 11:43:58_448579_нет_0_rub_mobile_2.54_Лови билет!_84.82                   2\n",
      "d0a6e985454ab9a_2024-08-03 00:00:00_2024-08-03 20:13:10_539694_нет_0_rub_mobile_65.47_Лови билет!_1636.67                2\n",
      "cbe06d8837e87fb_2024-10-01 00:00:00_2024-10-01 11:11:17_574431_нет_0_rub_desktop_155.99_Билеты в руки_3899.74            2\n",
      "e3e0135339e67e9_2024-10-27 00:00:00_2024-10-27 04:32:03_314894_нет_6_rub_mobile_2594.44_Билеты без проблем_17296.25      2\n",
      "9103be7b790235f_2024-08-03 00:00:00_2024-08-03 15:01:56_410465_нет_0_rub_mobile_685.12_Мой билет_5709.34                 2\n",
      "8f95286aa5fd8d7_2024-06-20 00:00:00_2024-06-20 10:57:19_244875_нет_0_rub_mobile_15.73_Лови билет!_524.39                 2\n",
      "c68f202c21433f7_2024-10-09 00:00:00_2024-10-09 13:58:42_578715_нет_12_rub_mobile_38.21_Билеты без проблем_764.25         2\n",
      "7b525118ae656af_2024-10-28 00:00:00_2024-10-28 08:33:04_588203_нет_0_rub_mobile_26.96_Лучшие билеты_674.12               2\n",
      "822151183d916c4_2024-06-14 00:00:00_2024-06-14 23:56:46_536728_нет_16_rub_mobile_0.0_Билеты без проблем_0.0              2\n",
      "549a72ac7daba6a_2024-08-02 00:00:00_2024-08-02 11:51:24_553623_нет_18_rub_mobile_0.0_Билеты без проблем_0.0              2\n",
      "0dc525d7bacbb0d_2024-07-31 00:00:00_2024-07-31 13:26:11_393430_нет_18_rub_desktop_1556.05_Лови билет!_19450.63           2\n",
      "2ecf0a4e24cae13_2024-10-17 00:00:00_2024-10-17 15:25:33_481392_нет_18_rub_mobile_40.33_Билеты без проблем_1008.14        2\n",
      "35c4c43710a1e8c_2024-09-28 00:00:00_2024-09-28 13:43:54_568022_нет_12_rub_mobile_1891.93_Мир касс_18919.32               2\n",
      "9402cc20d69d44f_2024-09-30 00:00:00_2024-09-30 21:35:37_540784_нет_6_rub_desktop_177.04_За билетом!_2529.11              2\n",
      "cbe06d8837e87fb_2024-10-01 00:00:00_2024-10-01 11:20:05_574431_нет_0_rub_desktop_155.99_Билеты в руки_3899.74            2\n",
      "a6e25611c394f8c_2024-10-04 00:00:00_2024-10-04 10:11:25_514735_нет_12_rub_mobile_259.64_Лучшие билеты_2596.43            2\n",
      "c2c6d35ff678ca6_2024-08-06 00:00:00_2024-08-06 13:26:42_379268_нет_0_rub_mobile_108.77_Билеты без проблем_5438.72        2\n",
      "ae8e3d5af3036a6_2024-07-30 00:00:00_2024-07-30 11:20:46_533803_нет_16_kzt_mobile_1849.41_Мой билет_30823.58              2\n",
      "fd4d47438ebb946_2024-06-19 00:00:00_2024-06-19 15:40:56_489843_нет_18_rub_desktop_989.57_Билеты без проблем_10995.23     2\n",
      "de88a121becea97_2024-09-21 00:00:00_2024-09-21 17:21:18_571963_нет_6_rub_mobile_1065.84_Мой билет_8881.97                2\n",
      "a0384c26d91e09e_2024-08-24 00:00:00_2024-08-24 00:07:14_534657_нет_16_rub_mobile_679.21_Быстробилет_5224.7               2\n",
      "c96b961916a84fb_2024-10-26 00:00:00_2024-10-26 15:06:16_551137_нет_12_rub_mobile_1044.19_Билеты без проблем_13052.41     2\n",
      "c68f202c21433f7_2024-10-09 00:00:00_2024-10-09 13:58:41_578715_нет_12_rub_mobile_38.21_Билеты без проблем_764.25         2\n",
      "da789c3c9d02285_2024-09-09 00:00:00_2024-09-09 09:16:02_560939_нет_6_rub_mobile_39.25_Билеты в руки_981.15               2\n",
      "cdbc02c6ad8087a_2024-10-01 00:00:00_2024-10-01 11:36:30_574431_нет_0_rub_desktop_116.99_Билеты в руки_2924.8             2\n",
      "c68f202c21433f7_2024-10-16 00:00:00_2024-10-16 17:20:16_469657_нет_6_rub_mobile_12.64_Билеты без проблем_421.17          2\n",
      "e333b28575ed7f9_2024-07-28 00:00:00_2024-07-28 12:50:38_81165_нет_12_rub_mobile_40.84_Тебе билет!_510.46                 2\n",
      "fd4d47438ebb946_2024-06-19 00:00:00_2024-06-19 15:40:50_489843_нет_18_rub_desktop_989.57_Билеты без проблем_10995.23     2\n",
      "c7a762e320f0def_2024-06-19 00:00:00_2024-06-19 11:07:59_538926_нет_18_rub_mobile_0.0_Билеты без проблем_0.0              2\n",
      "2564e3703075008_2024-10-30 00:00:00_2024-10-30 10:04:15_589005_нет_6_rub_mobile_11.23_Лови билет!_280.81                 2\n",
      "06eb7897f65b433_2024-08-13 00:00:00_2024-08-13 16:31:07_183706_нет_18_rub_mobile_69.82_Билеты в руки_997.48              2\n",
      "206ea45ec11d478_2024-10-29 00:00:00_2024-10-29 16:46:54_442183_нет_16_rub_mobile_601.69_Билеты в руки_6016.94            2\n",
      "Name: booking_signature, dtype: int64\n",
      "\n",
      "Строки, соответствующие неявным дубликатам:\n",
      "         order_id          user_id created_dt_msk      created_ts_msk  \\\n",
      "11777    1123983  06eb7897f65b433     2024-08-13 2024-08-13 16:31:07   \n",
      "11778    1123867  06eb7897f65b433     2024-08-13 2024-08-13 16:31:07   \n",
      "26894    1930705  0dc525d7bacbb0d     2024-07-31 2024-07-31 13:26:11   \n",
      "26896    1930763  0dc525d7bacbb0d     2024-07-31 2024-07-31 13:26:11   \n",
      "53715    1935113  206ea45ec11d478     2024-10-29 2024-10-29 16:46:54   \n",
      "...          ...              ...            ...                 ...   \n",
      "285615   8548012  fd4d47438ebb946     2024-06-19 2024-06-19 15:40:56   \n",
      "285617   8548041  fd4d47438ebb946     2024-06-19 2024-06-19 15:40:50   \n",
      "285618   8548070  fd4d47438ebb946     2024-06-19 2024-06-19 15:40:50   \n",
      "285619   8548099  fd4d47438ebb946     2024-06-19 2024-06-19 15:40:56   \n",
      "285622   8547867  fd4d47438ebb946     2024-06-19 2024-06-19 15:40:56   \n",
      "\n",
      "        event_id cinema_circuit  age_limit currency_code  \\\n",
      "11777     183706            нет         18           rub   \n",
      "11778     183706            нет         18           rub   \n",
      "26894     393430            нет         18           rub   \n",
      "26896     393430            нет         18           rub   \n",
      "53715     442183            нет         16           rub   \n",
      "...          ...            ...        ...           ...   \n",
      "285615    489843            нет         18           rub   \n",
      "285617    489843            нет         18           rub   \n",
      "285618    489843            нет         18           rub   \n",
      "285619    489843            нет         18           rub   \n",
      "285622    489843            нет         18           rub   \n",
      "\n",
      "       device_type_canonical  revenue        service_name  tickets_count  \\\n",
      "11777                 mobile    69.82       Билеты в руки              1   \n",
      "11778                 mobile    69.82       Билеты в руки              1   \n",
      "26894                desktop  1556.05         Лови билет!              3   \n",
      "26896                desktop  1556.05         Лови билет!              3   \n",
      "53715                 mobile   601.69       Билеты в руки              2   \n",
      "...                      ...      ...                 ...            ...   \n",
      "285615               desktop  1319.43  Билеты без проблем              4   \n",
      "285617               desktop   989.57  Билеты без проблем              3   \n",
      "285618               desktop   989.57  Билеты без проблем              3   \n",
      "285619               desktop   989.57  Билеты без проблем              3   \n",
      "285622               desktop  1319.43  Билеты без проблем              4   \n",
      "\n",
      "           total  days_since_prev  \\\n",
      "11777     997.48              0.0   \n",
      "11778     997.48              0.0   \n",
      "26894   19450.63             11.0   \n",
      "26896   19450.63              0.0   \n",
      "53715    6016.94             32.0   \n",
      "...          ...              ...   \n",
      "285615  14660.31              0.0   \n",
      "285617  10995.23              0.0   \n",
      "285618  10995.23              0.0   \n",
      "285619  10995.23              0.0   \n",
      "285622  14660.31              0.0   \n",
      "\n",
      "                                        booking_signature  \n",
      "11777   06eb7897f65b433_2024-08-13 00:00:00_2024-08-13...  \n",
      "11778   06eb7897f65b433_2024-08-13 00:00:00_2024-08-13...  \n",
      "26894   0dc525d7bacbb0d_2024-07-31 00:00:00_2024-07-31...  \n",
      "26896   0dc525d7bacbb0d_2024-07-31 00:00:00_2024-07-31...  \n",
      "53715   206ea45ec11d478_2024-10-29 00:00:00_2024-10-29...  \n",
      "...                                                   ...  \n",
      "285615  fd4d47438ebb946_2024-06-19 00:00:00_2024-06-19...  \n",
      "285617  fd4d47438ebb946_2024-06-19 00:00:00_2024-06-19...  \n",
      "285618  fd4d47438ebb946_2024-06-19 00:00:00_2024-06-19...  \n",
      "285619  fd4d47438ebb946_2024-06-19 00:00:00_2024-06-19...  \n",
      "285622  fd4d47438ebb946_2024-06-19 00:00:00_2024-06-19...  \n",
      "\n",
      "[81 rows x 15 columns]\n"
     ]
    }
   ],
   "source": [
    "booking_columns = ['user_id', 'created_dt_msk', 'created_ts_msk', 'event_id',\n",
    "                   'cinema_circuit', 'age_limit', 'currency_code',\n",
    "                   'device_type_canonical', 'revenue', 'service_name','total']\n",
    "\n",
    "# Создаем новый столбец, объединяющий значения выбранных столбцов в одну строку\n",
    "df_tickets['booking_signature'] = df_tickets[booking_columns].astype(str).apply(lambda x: '_'.join(x), axis=1)\n",
    "\n",
    "# Считаем количество уникальных значений в столбце booking_signature\n",
    "print(\"Количество уникальных бронирований (booking_signature):\", df_tickets['booking_signature'].nunique())\n",
    "\n",
    "# Считаем, сколько раз встречается каждая booking_signature\n",
    "booking_counts = df_tickets['booking_signature'].value_counts()\n",
    "\n",
    "# Выводим booking_signatures, которые встречаются более одного раза (неявные дубликаты)\n",
    "duplicate_bookings = booking_counts[booking_counts > 1]\n",
    "print(\"\\nНеявные дубликаты бронирований (booking_signature):\\n\", duplicate_bookings)\n",
    "\n",
    "# Выводим строки, которые соответствуют неявным дубликатам\n",
    "duplicate_rows = df_tickets[df_tickets['booking_signature'].isin(duplicate_bookings.index)]\n",
    "print(\"\\nСтроки, соответствующие неявным дубликатам:\\n\", duplicate_rows)"
   ]
  },
  {
   "cell_type": "code",
   "execution_count": 166,
   "metadata": {
    "id": "LMuaGIE3lGcr",
    "scrolled": true
   },
   "outputs": [
    {
     "name": "stdout",
     "output_type": "stream",
     "text": [
      "Количество уникальных бронирований (booking_events): 22427\n",
      "\n",
      "Неявные дубликаты бронирований (booking_signature):\n",
      " Series([], Name: booking_events, dtype: int64)\n",
      "\n",
      "Строки, соответствующие неявным дубликатам:\n",
      " Empty DataFrame\n",
      "Columns: [event_id, event_name, event_type_description, event_type_main, organizers, region_name, city_name, city_id, venue_id, venue_name, venue_address, booking_events]\n",
      "Index: []\n"
     ]
    }
   ],
   "source": [
    "# Определяем столбцы, которые описывают бронирование (без order_id)\n",
    "booking_columns = ['event_id', 'event_name', 'event_type_description', 'event_type_main', 'organizers', 'region_name', 'city_name', 'venue_id', 'venue_name', 'venue_address']\n",
    "\n",
    "# Создаем новый столбец, объединяющий значения выбранных столбцов в одну строку\n",
    "df_events['booking_events'] = df_events[booking_columns].astype(str).apply(lambda x: '_'.join(x), axis=1)\n",
    "\n",
    "# Считаем количество уникальных значений в столбце booking_signature\n",
    "print(\"Количество уникальных бронирований (booking_events):\", df_events['booking_events'].nunique())\n",
    "\n",
    "# Считаем, сколько раз встречается каждая booking_signature\n",
    "booking_counts = df_events['booking_events'].value_counts()\n",
    "\n",
    "# Выводим booking_signatures, которые встречаются более одного раза (неявные дубликаты)\n",
    "duplicate_bookings = booking_counts[booking_counts > 1]\n",
    "print(\"\\nНеявные дубликаты бронирований (booking_signature):\\n\", duplicate_bookings)\n",
    "\n",
    "# Выводим строки, которые соответствуют неявным дубликатам\n",
    "duplicate_rows = df_events[df_events['booking_events'].isin(duplicate_bookings.index)]\n",
    "print(\"\\nСтроки, соответствующие неявным дубликатам:\\n\", duplicate_rows)"
   ]
  },
  {
   "cell_type": "code",
   "execution_count": 167,
   "metadata": {
    "id": "LMuaGIE3lGcr",
    "scrolled": true
   },
   "outputs": [
    {
     "name": "stdout",
     "output_type": "stream",
     "text": [
      "\n",
      "Размер DataFrame после удаления неявных дубликатов: 290807\n"
     ]
    }
   ],
   "source": [
    "# В датафрейме df_tickets выявлено 42 дубликата, удалим их\n",
    "df_tickets_1 = df_tickets.drop_duplicates(subset=['booking_signature'], keep='first')\n",
    "print(\"\\nРазмер DataFrame после удаления неявных дубликатов:\", len(df_tickets_1))"
   ]
  },
  {
   "cell_type": "markdown",
   "metadata": {},
   "source": [
    "### Обратимся к третьему датафрейму final_tickets_tenge_df.csv "
   ]
  },
  {
   "cell_type": "code",
   "execution_count": 168,
   "metadata": {},
   "outputs": [],
   "source": [
    "df_tenge = pd.read_csv('https://code.s3.yandex.net/datasets/final_tickets_tenge_df.csv')\n",
    "\n",
    "df_tenge['data'] = pd.to_datetime(df_tenge['data'], errors='coerce')"
   ]
  },
  {
   "cell_type": "code",
   "execution_count": 169,
   "metadata": {},
   "outputs": [],
   "source": [
    "# 1. Приведение выручки к рублям\n",
    "df_tickets_2 = df_tickets_1.copy()\n",
    "\n",
    "def convert_to_rub(row):\n",
    "    if row['currency_code'] == 'rub':\n",
    "        return row['revenue']\n",
    "    elif row['currency_code'] == 'kzt':\n",
    "        # Находим курс тенге на дату заказа\n",
    "        rate = df_tenge[df_tenge['data'] == row['created_dt_msk']]['curs'].values\n",
    "        if len(rate) > 0:\n",
    "            return row['revenue'] / 100 * rate[0]  # Делим на 100, т.к. курс за 100 тенге\n",
    "        else:\n",
    "            return None  # Если курс не найден, возвращаем None\n",
    "    else:\n",
    "        return None\n",
    "\n",
    "# Применяем функцию для создания столбца revenue_rub\n",
    "df_tickets_2['revenue_rub'] = df_tickets_2.apply(convert_to_rub, axis=1)"
   ]
  },
  {
   "cell_type": "code",
   "execution_count": 170,
   "metadata": {},
   "outputs": [],
   "source": [
    "# 2. Выручка с одного билета (one_ticket_revenue_rub)\n",
    "df_tickets_2['one_ticket_revenue_rub'] = df_tickets_2['revenue_rub'] / df_tickets_2['tickets_count'].copy()"
   ]
  },
  {
   "cell_type": "code",
   "execution_count": 171,
   "metadata": {},
   "outputs": [],
   "source": [
    "# 3. Месяц оформления заказа (month)\n",
    "df_tickets_2['month'] = df_tickets_2['created_dt_msk'].dt.month.copy()"
   ]
  },
  {
   "cell_type": "code",
   "execution_count": 172,
   "metadata": {},
   "outputs": [],
   "source": [
    "# 4. Сезон (season)\n",
    "def get_season(month):\n",
    "    if 3 <= month <= 5:\n",
    "        return 'весна'\n",
    "    elif 6 <= month <= 8:\n",
    "        return 'лето'\n",
    "    elif 9 <= month <= 11:\n",
    "        return 'осень'\n",
    "    else:\n",
    "        return 'зима'\n",
    "\n",
    "df_tickets_2['season'] = df_tickets_2['month'].apply(get_season)"
   ]
  },
  {
   "cell_type": "code",
   "execution_count": 173,
   "metadata": {},
   "outputs": [
    {
     "data": {
      "text/plain": [
       "'\\nИнформация о DataFrame после преобразований:'"
      ]
     },
     "metadata": {},
     "output_type": "display_data"
    },
    {
     "name": "stdout",
     "output_type": "stream",
     "text": [
      "<class 'pandas.core.frame.DataFrame'>\n",
      "Int64Index: 290807 entries, 0 to 290848\n",
      "Data columns (total 19 columns):\n",
      " #   Column                  Non-Null Count   Dtype         \n",
      "---  ------                  --------------   -----         \n",
      " 0   order_id                290807 non-null  int64         \n",
      " 1   user_id                 290807 non-null  object        \n",
      " 2   created_dt_msk          290807 non-null  datetime64[ns]\n",
      " 3   created_ts_msk          290807 non-null  datetime64[ns]\n",
      " 4   event_id                290807 non-null  int64         \n",
      " 5   cinema_circuit          290807 non-null  object        \n",
      " 6   age_limit               290807 non-null  int64         \n",
      " 7   currency_code           290807 non-null  object        \n",
      " 8   device_type_canonical   290807 non-null  object        \n",
      " 9   revenue                 290807 non-null  float64       \n",
      " 10  service_name            290807 non-null  object        \n",
      " 11  tickets_count           290807 non-null  int64         \n",
      " 12  total                   290807 non-null  float64       \n",
      " 13  days_since_prev         268867 non-null  float64       \n",
      " 14  booking_signature       290807 non-null  object        \n",
      " 15  revenue_rub             290807 non-null  float64       \n",
      " 16  one_ticket_revenue_rub  290807 non-null  float64       \n",
      " 17  month                   290807 non-null  int64         \n",
      " 18  season                  290807 non-null  object        \n",
      "dtypes: datetime64[ns](2), float64(5), int64(5), object(7)\n",
      "memory usage: 44.4+ MB\n"
     ]
    },
    {
     "data": {
      "text/plain": [
       "None"
      ]
     },
     "metadata": {},
     "output_type": "display_data"
    },
    {
     "data": {
      "text/plain": [
       "'\\nПервые 5 строк DataFrame после преобразований:'"
      ]
     },
     "metadata": {},
     "output_type": "display_data"
    },
    {
     "data": {
      "text/html": [
       "<div>\n",
       "<style scoped>\n",
       "    .dataframe tbody tr th:only-of-type {\n",
       "        vertical-align: middle;\n",
       "    }\n",
       "\n",
       "    .dataframe tbody tr th {\n",
       "        vertical-align: top;\n",
       "    }\n",
       "\n",
       "    .dataframe thead th {\n",
       "        text-align: right;\n",
       "    }\n",
       "</style>\n",
       "<table border=\"1\" class=\"dataframe\">\n",
       "  <thead>\n",
       "    <tr style=\"text-align: right;\">\n",
       "      <th></th>\n",
       "      <th>order_id</th>\n",
       "      <th>user_id</th>\n",
       "      <th>created_dt_msk</th>\n",
       "      <th>created_ts_msk</th>\n",
       "      <th>event_id</th>\n",
       "      <th>cinema_circuit</th>\n",
       "      <th>age_limit</th>\n",
       "      <th>currency_code</th>\n",
       "      <th>device_type_canonical</th>\n",
       "      <th>revenue</th>\n",
       "      <th>service_name</th>\n",
       "      <th>tickets_count</th>\n",
       "      <th>total</th>\n",
       "      <th>days_since_prev</th>\n",
       "      <th>booking_signature</th>\n",
       "      <th>revenue_rub</th>\n",
       "      <th>one_ticket_revenue_rub</th>\n",
       "      <th>month</th>\n",
       "      <th>season</th>\n",
       "    </tr>\n",
       "  </thead>\n",
       "  <tbody>\n",
       "    <tr>\n",
       "      <th>0</th>\n",
       "      <td>4359165</td>\n",
       "      <td>0002849b70a3ce2</td>\n",
       "      <td>2024-08-20</td>\n",
       "      <td>2024-08-20 16:08:03</td>\n",
       "      <td>169230</td>\n",
       "      <td>нет</td>\n",
       "      <td>16</td>\n",
       "      <td>rub</td>\n",
       "      <td>mobile</td>\n",
       "      <td>1521.94</td>\n",
       "      <td>Край билетов</td>\n",
       "      <td>4</td>\n",
       "      <td>10870.99</td>\n",
       "      <td>NaN</td>\n",
       "      <td>0002849b70a3ce2_2024-08-20 00:00:00_2024-08-20...</td>\n",
       "      <td>1521.94</td>\n",
       "      <td>380.4850</td>\n",
       "      <td>8</td>\n",
       "      <td>лето</td>\n",
       "    </tr>\n",
       "    <tr>\n",
       "      <th>1</th>\n",
       "      <td>7965605</td>\n",
       "      <td>0005ca5e93f2cf4</td>\n",
       "      <td>2024-07-23</td>\n",
       "      <td>2024-07-23 18:36:24</td>\n",
       "      <td>237325</td>\n",
       "      <td>нет</td>\n",
       "      <td>0</td>\n",
       "      <td>rub</td>\n",
       "      <td>mobile</td>\n",
       "      <td>289.45</td>\n",
       "      <td>Мой билет</td>\n",
       "      <td>2</td>\n",
       "      <td>2067.51</td>\n",
       "      <td>NaN</td>\n",
       "      <td>0005ca5e93f2cf4_2024-07-23 00:00:00_2024-07-23...</td>\n",
       "      <td>289.45</td>\n",
       "      <td>144.7250</td>\n",
       "      <td>7</td>\n",
       "      <td>лето</td>\n",
       "    </tr>\n",
       "    <tr>\n",
       "      <th>2</th>\n",
       "      <td>7292370</td>\n",
       "      <td>0005ca5e93f2cf4</td>\n",
       "      <td>2024-10-06</td>\n",
       "      <td>2024-10-06 13:56:02</td>\n",
       "      <td>578454</td>\n",
       "      <td>нет</td>\n",
       "      <td>0</td>\n",
       "      <td>rub</td>\n",
       "      <td>mobile</td>\n",
       "      <td>1258.57</td>\n",
       "      <td>За билетом!</td>\n",
       "      <td>4</td>\n",
       "      <td>13984.16</td>\n",
       "      <td>75.0</td>\n",
       "      <td>0005ca5e93f2cf4_2024-10-06 00:00:00_2024-10-06...</td>\n",
       "      <td>1258.57</td>\n",
       "      <td>314.6425</td>\n",
       "      <td>10</td>\n",
       "      <td>осень</td>\n",
       "    </tr>\n",
       "    <tr>\n",
       "      <th>3</th>\n",
       "      <td>1139875</td>\n",
       "      <td>000898990054619</td>\n",
       "      <td>2024-07-13</td>\n",
       "      <td>2024-07-13 19:40:48</td>\n",
       "      <td>387271</td>\n",
       "      <td>нет</td>\n",
       "      <td>0</td>\n",
       "      <td>rub</td>\n",
       "      <td>mobile</td>\n",
       "      <td>8.49</td>\n",
       "      <td>Лови билет!</td>\n",
       "      <td>2</td>\n",
       "      <td>212.28</td>\n",
       "      <td>NaN</td>\n",
       "      <td>000898990054619_2024-07-13 00:00:00_2024-07-13...</td>\n",
       "      <td>8.49</td>\n",
       "      <td>4.2450</td>\n",
       "      <td>7</td>\n",
       "      <td>лето</td>\n",
       "    </tr>\n",
       "    <tr>\n",
       "      <th>4</th>\n",
       "      <td>972400</td>\n",
       "      <td>000898990054619</td>\n",
       "      <td>2024-10-04</td>\n",
       "      <td>2024-10-04 22:33:15</td>\n",
       "      <td>509453</td>\n",
       "      <td>нет</td>\n",
       "      <td>18</td>\n",
       "      <td>rub</td>\n",
       "      <td>mobile</td>\n",
       "      <td>1390.41</td>\n",
       "      <td>Билеты без проблем</td>\n",
       "      <td>3</td>\n",
       "      <td>10695.43</td>\n",
       "      <td>83.0</td>\n",
       "      <td>000898990054619_2024-10-04 00:00:00_2024-10-04...</td>\n",
       "      <td>1390.41</td>\n",
       "      <td>463.4700</td>\n",
       "      <td>10</td>\n",
       "      <td>осень</td>\n",
       "    </tr>\n",
       "  </tbody>\n",
       "</table>\n",
       "</div>"
      ],
      "text/plain": [
       "   order_id          user_id created_dt_msk      created_ts_msk  event_id  \\\n",
       "0   4359165  0002849b70a3ce2     2024-08-20 2024-08-20 16:08:03    169230   \n",
       "1   7965605  0005ca5e93f2cf4     2024-07-23 2024-07-23 18:36:24    237325   \n",
       "2   7292370  0005ca5e93f2cf4     2024-10-06 2024-10-06 13:56:02    578454   \n",
       "3   1139875  000898990054619     2024-07-13 2024-07-13 19:40:48    387271   \n",
       "4    972400  000898990054619     2024-10-04 2024-10-04 22:33:15    509453   \n",
       "\n",
       "  cinema_circuit  age_limit currency_code device_type_canonical  revenue  \\\n",
       "0            нет         16           rub                mobile  1521.94   \n",
       "1            нет          0           rub                mobile   289.45   \n",
       "2            нет          0           rub                mobile  1258.57   \n",
       "3            нет          0           rub                mobile     8.49   \n",
       "4            нет         18           rub                mobile  1390.41   \n",
       "\n",
       "         service_name  tickets_count     total  days_since_prev  \\\n",
       "0        Край билетов              4  10870.99              NaN   \n",
       "1           Мой билет              2   2067.51              NaN   \n",
       "2         За билетом!              4  13984.16             75.0   \n",
       "3         Лови билет!              2    212.28              NaN   \n",
       "4  Билеты без проблем              3  10695.43             83.0   \n",
       "\n",
       "                                   booking_signature  revenue_rub  \\\n",
       "0  0002849b70a3ce2_2024-08-20 00:00:00_2024-08-20...      1521.94   \n",
       "1  0005ca5e93f2cf4_2024-07-23 00:00:00_2024-07-23...       289.45   \n",
       "2  0005ca5e93f2cf4_2024-10-06 00:00:00_2024-10-06...      1258.57   \n",
       "3  000898990054619_2024-07-13 00:00:00_2024-07-13...         8.49   \n",
       "4  000898990054619_2024-10-04 00:00:00_2024-10-04...      1390.41   \n",
       "\n",
       "   one_ticket_revenue_rub  month season  \n",
       "0                380.4850      8   лето  \n",
       "1                144.7250      7   лето  \n",
       "2                314.6425     10  осень  \n",
       "3                  4.2450      7   лето  \n",
       "4                463.4700     10  осень  "
      ]
     },
     "metadata": {},
     "output_type": "display_data"
    }
   ],
   "source": [
    "display(\"\\nИнформация о DataFrame после преобразований:\")\n",
    "display(df_tickets_2.info())\n",
    "\n",
    "display(\"\\nПервые 5 строк DataFrame после преобразований:\")\n",
    "display(df_tickets_2.head())"
   ]
  },
  {
   "cell_type": "code",
   "execution_count": 174,
   "metadata": {},
   "outputs": [],
   "source": [
    "# Объединим датафреймы df_tickets_1 и df_events\n",
    "df_merged = pd.merge(df_tickets_2, df_events, on='event_id', how='left')"
   ]
  },
  {
   "cell_type": "markdown",
   "metadata": {},
   "source": [
    "Вывод: к исходному датафрейму добавились такие столбцы, как booking_signature, revenue_rub (содержит данные о выручке с заказа в рублях), one_ticket_revenue_rub  (выручка с продажи одного билета), month (месяц оформления заказа), season (данные о сезонности).\n",
    "\n",
    "После добавления новых столбцов в очищенный датафрейм df_tickets_2 объединили его с датафреймом df_events."
   ]
  },
  {
   "cell_type": "code",
   "execution_count": 175,
   "metadata": {},
   "outputs": [
    {
     "name": "stdout",
     "output_type": "stream",
     "text": [
      "Доля удалённых строк после предобработки: 0.01%\n"
     ]
    }
   ],
   "source": [
    "initial_rows = len(df_tickets)\n",
    "processed_rows = len(df_tickets_2)\n",
    "\n",
    "rows_difference = initial_rows - processed_rows\n",
    "percentage_removed = (rows_difference / initial_rows) * 100\n",
    "\n",
    "print(f\"Доля удалённых строк после предобработки: {percentage_removed:.2f}%\")"
   ]
  },
  {
   "cell_type": "markdown",
   "metadata": {},
   "source": [
    "## Исследовательский анализ данных"
   ]
  },
  {
   "cell_type": "markdown",
   "metadata": {},
   "source": [
    "### 3.1. Анализ распределения заказов по сегментам и их сезонные изменения"
   ]
  },
  {
   "cell_type": "code",
   "execution_count": 176,
   "metadata": {
    "id": "LMuaGIE3lGcr"
   },
   "outputs": [
    {
     "name": "stdout",
     "output_type": "stream",
     "text": [
      "\n",
      "Количество заказов по месяцам:\n",
      " month\n",
      "6      34675\n",
      "7      40922\n",
      "8      45034\n",
      "9      69971\n",
      "10    100205\n",
      "Name: order_id, dtype: int64\n"
     ]
    },
    {
     "data": {
      "image/png": "[encoded data removed]",
      "text/plain": [
       "<Figure size 864x432 with 1 Axes>"
      ]
     },
     "metadata": {
      "needs_background": "light"
     },
     "output_type": "display_data"
    }
   ],
   "source": [
    "# 2. Группировка по месяцам и подсчет количества заказов\n",
    "orders_per_month = df_merged.groupby('month')['order_id'].count()\n",
    "\n",
    "print(\"\\nКоличество заказов по месяцам:\\n\", orders_per_month)\n",
    "\n",
    "# 3. Визуализация результатов\n",
    "plt.figure(figsize=(12, 6))\n",
    "sns.barplot(x=orders_per_month.index, y=orders_per_month.values, color='skyblue')\n",
    "plt.title(\"Количество заказов по месяцам\")\n",
    "plt.xlabel(\"Месяц\")\n",
    "plt.ylabel(\"Количество заказов\")\n",
    "plt.xticks(range(1, 13))\n",
    "plt.show()"
   ]
  },
  {
   "cell_type": "markdown",
   "metadata": {},
   "source": [
    "Пояснение: количество заказов увеличивается от месяца к месяцу, достигая максимума в октябре.\n",
    "\n",
    "- Месяцы:\n",
    "\n",
    "•  Июнь (6): около 35 000 заказов.\n",
    "\n",
    "•  Июль (7): около 40 000 заказов.\n",
    "\n",
    "•  Август (8): около 45 000 заказов.\n",
    "\n",
    "•  Сентябрь (9): около 70 000 заказов.\n",
    "\n",
    "•  Октябрь (10): около 100 000 заказов.\n",
    "\n",
    "Вывод: наблюдается выраженная сезонность: количество заказов значительно увеличивается в осенние месяцы, достигая пика в октябре. Спрос также увеличивается в течение осеннего периода."
   ]
  },
  {
   "cell_type": "code",
   "execution_count": 177,
   "metadata": {},
   "outputs": [
    {
     "data": {
      "image/png": "[encoded data removed]",
      "text/plain": [
       "<Figure size 864x432 with 1 Axes>"
      ]
     },
     "metadata": {
      "needs_background": "light"
     },
     "output_type": "display_data"
    },
    {
     "data": {
      "image/png": "[encoded data removed]",
      "text/plain": [
       "<Figure size 864x432 with 1 Axes>"
      ]
     },
     "metadata": {
      "needs_background": "light"
     },
     "output_type": "display_data"
    },
    {
     "data": {
      "image/png": "[encoded data removed]",
      "text/plain": [
       "<Figure size 864x432 with 1 Axes>"
      ]
     },
     "metadata": {
      "needs_background": "light"
     },
     "output_type": "display_data"
    }
   ],
   "source": [
    "# 1. Определение категорий для анализа\n",
    "categories = {\n",
    "    'event_type_main': 'Тип мероприятия',\n",
    "    'device_type_canonical': 'Тип устройства',\n",
    "    'age_limit': 'Категория мероприятия по возрастному рейтингу'\n",
    "}\n",
    "\n",
    "# 2. Фильтрация данных по сезонам\n",
    "df_summer = df_merged[df_merged['season'] == 'лето']\n",
    "df_autumn = df_merged[df_merged['season'] == 'осень']\n",
    "\n",
    "# 3. Анализ и визуализация для каждой категории\n",
    "for column, label in categories.items():\n",
    "    # Расчет долей для лета\n",
    "    summer_counts = df_summer[column].value_counts(normalize=True)\n",
    "    summer_counts = summer_counts.sort_index()\n",
    "\n",
    "    # Расчет долей для осени\n",
    "    autumn_counts = df_autumn[column].value_counts(normalize=True)\n",
    "    autumn_counts = autumn_counts.sort_index()\n",
    "\n",
    "    # Объединение данных для визуализации\n",
    "    df_comparison = pd.DataFrame({\n",
    "        'Лето': summer_counts,\n",
    "        'Осень': autumn_counts\n",
    "    })\n",
    "\n",
    "    # Визуализация (столбчатая диаграмма)\n",
    "    df_comparison.plot(kind='bar', figsize=(12, 6), rot=45)\n",
    "    plt.title(f'Сравнение распределения заказов по {label} (Лето vs Осень)')\n",
    "    plt.xlabel(label)\n",
    "    plt.ylabel('Доля заказов')\n",
    "    plt.tight_layout()\n",
    "    plt.show()"
   ]
  },
  {
   "cell_type": "markdown",
   "metadata": {},
   "source": [
    "Пояснения: \n",
    "\n",
    "1) Диаграмма \"Сравнение распределения заказов по типу мероприятия\"\n",
    "\n",
    "Диаграмма сравнивает долю заказов на различные типы мероприятий летом и осенью.\n",
    "\n",
    "•  Концерты: явно преобладают летом, доля заказов на концерты значительно выше, чем осенью.\n",
    "\n",
    "•  Театр: доля заказов на театр значительно выше осенью, чем летом.\n",
    "\n",
    "•  Другое: высокая доля заказов на \"другие\" мероприятия летом, осенью доля чуть меньше.\n",
    "\n",
    "•  Спорт: большая доля заказов осенью по сравнению с летом.\n",
    "\n",
    "•  Выставки, Стендап, Елки: небольшая доля заказов и летом, и осенью, но для \"ёлок\" доля осенью немного больше.\n",
    "\n",
    "\n",
    "Выводы:\n",
    "\n",
    "    •  Наблюдаются значительные изменения в предпочтениях по типу мероприятий в зависимости от сезона.\n",
    "\n",
    "    •  Концерты более популярны летом, а театр, спорт - осенью.\n",
    "\n",
    "    •  \"Другое\" имеет достаточно высокую долю как летом, так и осенью.\n",
    "    \n",
    "\n",
    "2) Диаграмма \"Сравнение распределения заказов по типу устройства\"\n",
    "\n",
    "Диаграмма сравнивает доли заказов, сделанных с разных типов устройств, летом и осенью.\n",
    "\n",
    "•  Mobile: доля заказов с мобильных устройств значительно выше, чем с десктопов, и летом, и осенью.\n",
    "\n",
    "•  Desktop: доля заказов с десктопов значительно ниже, чем с мобильных, и летом, и осенью.\n",
    "\n",
    "•  Сезонность: доля заказов с мобильных устройств немного выше осенью, чем летом. Доля заказов с десктопов осенью чуть меньше, чем летом.\n",
    "\n",
    "\n",
    "Выводы:\n",
    "\n",
    "    •  Мобильные устройства являются основным каналом для заказов, доля заказов с мобильных устройств значительно больше, чем с десктопов.\n",
    "\n",
    "    •  Доля заказов с мобильных устройств немного увеличивается осенью, что может говорить об увеличении активности пользователей мобильных устройств в осенний период.\n",
    "    \n",
    "\n",
    "3) Диаграмма \"Сравнение распределения заказов по возрастному рейтингу\"\n",
    "\n",
    "Диаграмма сравнивает доли заказов на мероприятия с разными возрастными рейтингами летом и осенью.\n",
    "\n",
    "•  Рейтинг 0: доля заказов выше осенью, чем летом.\n",
    "\n",
    "•  Рейтинг 16: самая высокая доля заказов летом, осенью доля немного меньше, но все равно остается высокой.\n",
    "\n",
    "•  Рейтинги 6, 12: доли заказов примерно одинаковые летом и осенью.\n",
    "\n",
    "•  Рейтинг 18: доля заказов меньше, чем у других рейтингов, но летом доля выше, чем осенью.\n",
    "\n",
    "\n",
    "Выводы:\n",
    "\n",
    "    •  Наблюдаются различия в предпочтениях по возрастному рейтингу мероприятий в зависимости от сезона.\n",
    "\n",
    "    •  Мероприятия с рейтингом 0 (без возрастных ограничений), возможно, более популярны осенью.\n",
    "\n",
    "    •  Мероприятия с рейтингом 16 наиболее популярны, а летом доля таких мероприятий выше, чем осенью."
   ]
  },
  {
   "cell_type": "code",
   "execution_count": 178,
   "metadata": {},
   "outputs": [
    {
     "data": {
      "image/png": "[encoded data removed]",
      "text/plain": [
       "<Figure size 720x432 with 2 Axes>"
      ]
     },
     "metadata": {
      "needs_background": "light"
     },
     "output_type": "display_data"
    },
    {
     "name": "stdout",
     "output_type": "stream",
     "text": [
      "\n",
      "Средняя выручка с билета по категориям и сезонам:\n",
      " season                 лето       осень  relative_change\n",
      "event_type_main                                         \n",
      "выставки          86.416198   91.066619         5.381423\n",
      "другое            81.097332   77.097947        -4.931586\n",
      "концерты         319.075261  286.756736       -10.128809\n",
      "спорт             54.112065   52.139437        -3.645448\n",
      "стендап          227.070677  249.963862        10.081964\n",
      "театр            222.524554  183.061214       -17.734375\n",
      "ёлки             276.388228  234.503838       -15.154187\n"
     ]
    }
   ],
   "source": [
    "# 1. Расчет средней выручки с билета по категориям мероприятий и сезонам\n",
    "seasonal_revenue = df_merged.groupby(['event_type_main', 'season'])['one_ticket_revenue_rub'].mean().unstack()\n",
    "\n",
    "# 2. Расчет относительного изменения выручки (осень vs лето)\n",
    "seasonal_revenue['relative_change'] = ((seasonal_revenue['осень'] - seasonal_revenue['лето']) / seasonal_revenue['лето']) * 100\n",
    "\n",
    "# 3. Визуализация результатов\n",
    "\n",
    "# 3.1 Столбчатая диаграмма для сравнения средней выручки\n",
    "fig, ax1 = plt.subplots(figsize=(10, 6))\n",
    "seasonal_revenue[['лето', 'осень']].plot(kind='bar', rot=0, ax=ax1, width=0.8)\n",
    "ax1.set_title('Средняя выручка с билета по категориям и сезонам')\n",
    "ax1.set_xlabel('Категория мероприятия')\n",
    "ax1.set_ylabel('Средняя выручка (руб)')\n",
    "ax1.legend(title='Сезон')\n",
    "\n",
    "# 3.2 Столбчатая диаграмма для относительного изменения (справа)\n",
    "ax2 = ax1.twinx()  # Создаем вторую ось, разделяющую X\n",
    "seasonal_revenue['relative_change'].plot(kind='line', rot=0, ax=ax2, color='red', marker='o')\n",
    "ax2.set_ylabel('Относительное изменение (%)', color='red')\n",
    "ax2.tick_params(axis='y', labelcolor='red')\n",
    "\n",
    "plt.tight_layout()\n",
    "plt.show()\n",
    "\n",
    "\n",
    "# 4. Вывод результатов\n",
    "print(\"\\nСредняя выручка с билета по категориям и сезонам:\\n\", seasonal_revenue)"
   ]
  },
  {
   "cell_type": "markdown",
   "metadata": {},
   "source": [
    "Пояснения:\n",
    "\n",
    "Диаграмма показывает среднюю выручку с билета для разных категорий мероприятий летом и осенью, а также относительное изменение выручки между сезонами.\n",
    "\n",
    "•  Высокая выручка: самая высокая средняя выручка с билета наблюдается на \"концертах\" и \"ёлках\".\n",
    "\n",
    "•  Низкая выручка: самая низкая средняя выручка с билета наблюдается на \"спорте\".\n",
    "\n",
    "•  Относительное изменение: красная линия (относительное изменение) показывает:\n",
    "\n",
    "    •  Увеличение выручки осенью по сравнению с летом на \"выставках\", \"стендапе\" и \"ёлках\".\n",
    "\n",
    "    •  Уменьшение выручки осенью по сравнению с летом на \"другом\", \"концертах\" и \"театре\".\n",
    "\n",
    "    •  Выручка на \"спорте\" практически не изменилась между сезонами.\n",
    "\n",
    "Выводы:\n",
    "\n",
    "    •  Концерты и Ёлки, в среднем, приносят наибольшую выручку с билета.\n",
    "\n",
    "    •  Наблюдаются значительные сезонные различия в выручке для разных категорий мероприятий.\n",
    "\n",
    "    •  В некоторых категориях (\"выставки\", \"стендап\", \"ёлки\") выручка с билета осенью выше, чем летом. В других (\"другое\", \"концерты\", \"театр\") - ниже."
   ]
  },
  {
   "cell_type": "markdown",
   "metadata": {
    "id": "LMuaGIE3lGcr"
   },
   "source": [
    "### 3.2. Осенняя активность пользователей"
   ]
  },
  {
   "cell_type": "code",
   "execution_count": 179,
   "metadata": {},
   "outputs": [
    {
     "data": {
      "image/png": "[encoded data removed]",
      "text/plain": [
       "<Figure size 864x1152 with 4 Axes>"
      ]
     },
     "metadata": {
      "needs_background": "light"
     },
     "output_type": "display_data"
    },
    {
     "name": "stdout",
     "output_type": "stream",
     "text": [
      "                total_orders  unique_users  total_revenue  orders_per_user  \\\n",
      "created_dt_msk                                                               \n",
      "2024-09-01              1348           569  280542.410424         2.369069   \n",
      "2024-09-02              1391           580  271990.700672         2.398276   \n",
      "2024-09-03              5124           783  420656.984619         6.544061   \n",
      "2024-09-04              1785           688  328445.984143         2.594477   \n",
      "2024-09-05              1960           745  381245.801635         2.630872   \n",
      "...                      ...           ...            ...              ...   \n",
      "2024-10-27              2865          1039  546322.838926         2.757459   \n",
      "2024-10-28              2859           988  505424.894779         2.893725   \n",
      "2024-10-29              2888          1005  548864.344588         2.873632   \n",
      "2024-10-30              2960          1050  559276.119368         2.819048   \n",
      "2024-10-31              5991          1282  922062.404307         4.673167   \n",
      "\n",
      "                avg_ticket_price  \n",
      "created_dt_msk                    \n",
      "2024-09-01            208.117515  \n",
      "2024-09-02            195.536090  \n",
      "2024-09-03             82.095430  \n",
      "2024-09-04            184.003352  \n",
      "2024-09-05            194.513164  \n",
      "...                          ...  \n",
      "2024-10-27            190.688600  \n",
      "2024-10-28            176.783804  \n",
      "2024-10-29            190.049981  \n",
      "2024-10-30            188.944635  \n",
      "2024-10-31            153.907929  \n",
      "\n",
      "[61 rows x 5 columns]\n"
     ]
    }
   ],
   "source": [
    "# 1. Предобработка данных\n",
    "# Фильтруем данные, оставляя только осенние месяцы 2024 года (сентябрь и октябрь)\n",
    "df = df_merged[(df_merged['created_dt_msk'].dt.year == 2024) & (df_merged['created_dt_msk'].dt.month.isin([9, 10]))]\n",
    "\n",
    "# 2. Создание сводной таблицы\n",
    "# Группируем данные по дням и считаем необходимые показатели\n",
    "daily_summary = df.groupby(df['created_dt_msk'].dt.date).agg(\n",
    "    total_orders=('order_id', 'count'),\n",
    "    unique_users=('user_id', 'nunique'),       \n",
    "    total_revenue=('one_ticket_revenue_rub', 'sum'),\n",
    ")\n",
    "\n",
    "# Рассчитываем среднее число заказов на одного пользователя\n",
    "daily_summary['orders_per_user'] = daily_summary['total_orders'] / daily_summary['unique_users']\n",
    "\n",
    "# Рассчитываем среднюю стоимость одного билета\n",
    "daily_summary['avg_ticket_price'] = daily_summary['total_revenue'] / daily_summary['total_orders']\n",
    "\n",
    "# 3. Визуализация данных\n",
    "fig, axes = plt.subplots(4, 1, figsize=(12, 16))\n",
    "\n",
    "# График общего числа заказов\n",
    "axes[0].plot(daily_summary.index, daily_summary['total_orders'])\n",
    "axes[0].set_title('Общее число заказов по дням')\n",
    "axes[0].set_xlabel('Дата')\n",
    "axes[0].set_ylabel('Число заказов')\n",
    "axes[0].tick_params(axis='x', rotation=45)\n",
    "\n",
    "# График количества активных пользователей (DAU)\n",
    "axes[1].plot(daily_summary.index, daily_summary['unique_users'])\n",
    "axes[1].set_title('Количество активных пользователей (DAU) по дням')\n",
    "axes[1].set_xlabel('Дата')\n",
    "axes[1].set_ylabel('DAU')\n",
    "axes[1].tick_params(axis='x', rotation=45)\n",
    "\n",
    "# График среднего числа заказов на одного пользователя\n",
    "axes[2].plot(daily_summary.index, daily_summary['orders_per_user'])\n",
    "axes[2].set_title('Среднее число заказов на одного пользователя по дням')\n",
    "axes[2].set_xlabel('Дата')\n",
    "axes[2].set_ylabel('Заказов на пользователя')\n",
    "axes[2].tick_params(axis='x', rotation=45)\n",
    "\n",
    "# График средней стоимости одного билета\n",
    "axes[3].plot(daily_summary.index, daily_summary['avg_ticket_price'])\n",
    "axes[3].set_title('Средняя стоимость одного билета по дням')\n",
    "axes[3].set_xlabel('Дата')\n",
    "axes[3].set_ylabel('Стоимость билета (руб)')\n",
    "axes[3].tick_params(axis='x', rotation=45)\n",
    "\n",
    "plt.tight_layout()\n",
    "plt.show()\n",
    "\n",
    "# 4. Вывод результатов (опционально)\n",
    "print(daily_summary)"
   ]
  },
  {
   "cell_type": "markdown",
   "metadata": {},
   "source": [
    "Пояснения:\n",
    "\n",
    "1) Диаграмма \"Общее число заказов по дням\"\n",
    "\n",
    "Диаграмма показывает динамику общего числа заказов по дням в течение осеннего периода 2024 года.\n",
    "\n",
    "•  Общий тренд: наблюдается общее увеличение числа заказов к концу периода.\n",
    "\n",
    "•  Пики: присутствуют несколько пиков в числе заказов в разные дни, самые большие 1 октября и 1 ноября.\n",
    "\n",
    "•  Волатильность: наблюдается некоторая волатильность (колебания) в количестве заказов изо дня в день.\n",
    "\n",
    "\n",
    "Выводы:\n",
    "\n",
    "    •  Общее число заказов имеет тенденцию к росту в течение осеннего периода.\n",
    "\n",
    "    •  Присутствуют пики в определенные дни, что может указывать на события или активности, приводящие к увеличению спроса.\n",
    "\n",
    "    •  Анализ динамики числа заказов по дням позволяет выявить факторы, влияющие на спрос и планировать маркетинговые активности.\n",
    "    \n",
    "    \n",
    "2) Диаграмма \"Количество активных пользователей по дням\"\n",
    "\n",
    "Диаграмма отображает динамику ежедневной активной аудитории (DAU) в течение осеннего периода 2024 года.\n",
    "\n",
    "•  Общий тренд: наблюдается общий восходящий тренд, то есть DAU увеличивается со временем.\n",
    "\n",
    "•  Волатильность: присутствуют колебания DAU изо дня в день.\n",
    "\n",
    "•  Рост к концу периода: к концу рассматриваемого периода (октябрь-начало ноября) наблюдается более выраженный рост DAU.\n",
    "\n",
    "Выводы:\n",
    "\n",
    "    •  Ежедневная активная аудитория демонстрирует положительную динамику в течение осеннего периода.\n",
    "\n",
    "    •  Рост DAU указывает на увеличение интереса пользователей к платформе или сервису.\n",
    "\n",
    "    •  Динамика DAU позволяет оценить эффективность маркетинговых кампаний и других активностей, направленных на привлечение и удержание пользователей.\n",
    "    \n",
    "    \n",
    "3) Диаграмма \"Среднее число заказов на одного пользователя по дням\"\n",
    "\n",
    "Диаграмма отображает динамику среднего количества заказов на одного пользователя в течение осеннего периода 2024 года.\n",
    "\n",
    "•  Общий тренд: наблюдается относительно стабильное среднее число заказов на пользователя, с несколькими пиками.\n",
    "\n",
    "•  Пики: присутствуют два явных пика 1 сентября и 1 октября, когда среднее количество заказов на пользователя было значительно выше.\n",
    "\n",
    "•  Волатильность: в остальное время наблюдаются незначительные колебания среднего количества заказов на пользователя.\n",
    "\n",
    "• Рост к концу периода: наблюдается рост среднего числа заказов на пользователя к концу периода.\n",
    "\n",
    "\n",
    "Выводы:\n",
    "\n",
    "    •  Активность пользователей (в плане количества заказов) в среднем стабильна, с несколькими днями повышенной активности.\n",
    "    \n",
    "    •  Высокие пики на 1 сентября и 1 октября могут указывать на успешные маркетинговые акции, или начало продаж.\n",
    "    \n",
    "    •  Необходимо анализировать факторы, влияющие на среднее количество заказов на пользователя, чтобы оптимизировать маркетинговые стратегии и повысить вовлеченность пользователей.\n",
    "    \n",
    "    \n",
    "4) Диаграмма \"Средняя стоимость одного билета по дням\"\n",
    "\n",
    "Диаграмма показывает динамику средней стоимости одного билета в течение осеннего периода 2024 года.\n",
    "\n",
    "•  Общий тренд: средняя стоимость билета относительно стабильна, с небольшими колебаниями.\n",
    "\n",
    "•  Волатильность: присутствуют колебания средней стоимости билета изо дня в день, а также резкие изменения.\n",
    "\n",
    "•  Пики и падения: есть два заметных падения средней стоимости билета (1 сентября и 1 октября), и также пик (в районе 22 сентября).\n",
    "\n",
    "\n",
    "Выводы:\n",
    "\n",
    "    •  Средняя стоимость билета в целом относительно стабильна, но подвержена колебаниям.\n",
    "\n",
    "    •  Резкие падения и скачки средней стоимости билета могут указывать на изменение цен на билеты (акции, скидки) или изменения в структуре приобретаемых билетов (например, более дешевые билеты на определенные мероприятия).\n",
    "    \n",
    "    •  Анализ динамики средней стоимости билета позволяет оценить ценовую политику и ее влияние на доходы."
   ]
  },
  {
   "cell_type": "code",
   "execution_count": 180,
   "metadata": {},
   "outputs": [
    {
     "name": "stderr",
     "output_type": "stream",
     "text": [
      "/tmp/ipykernel_71/1618333280.py:4: SettingWithCopyWarning: \n",
      "A value is trying to be set on a copy of a slice from a DataFrame.\n",
      "Try using .loc[row_indexer,col_indexer] = value instead\n",
      "\n",
      "See the caveats in the documentation: https://pandas.pydata.org/pandas-docs/stable/user_guide/indexing.html#returning-a-view-versus-a-copy\n",
      "  df['day_of_week'] = df['created_dt_msk'].dt.dayofweek.copy()\n",
      "/tmp/ipykernel_71/1618333280.py:7: SettingWithCopyWarning: \n",
      "A value is trying to be set on a copy of a slice from a DataFrame.\n",
      "Try using .loc[row_indexer,col_indexer] = value instead\n",
      "\n",
      "See the caveats in the documentation: https://pandas.pydata.org/pandas-docs/stable/user_guide/indexing.html#returning-a-view-versus-a-copy\n",
      "  df['is_weekend'] = df['day_of_week'].isin([5, 6]).copy()\n"
     ]
    },
    {
     "data": {
      "image/png": "[encoded data removed]",
      "text/plain": [
       "<Figure size 720x432 with 1 Axes>"
      ]
     },
     "metadata": {
      "needs_background": "light"
     },
     "output_type": "display_data"
    },
    {
     "data": {
      "image/png": "[encoded data removed]",
      "text/plain": [
       "<Figure size 432x288 with 1 Axes>"
      ]
     },
     "metadata": {
      "needs_background": "light"
     },
     "output_type": "display_data"
    },
    {
     "data": {
      "image/png": "[encoded data removed]",
      "text/plain": [
       "<Figure size 432x288 with 1 Axes>"
      ]
     },
     "metadata": {
      "needs_background": "light"
     },
     "output_type": "display_data"
    },
    {
     "name": "stdout",
     "output_type": "stream",
     "text": [
      "\n",
      "Активность по дням недели:\n",
      " day_of_week\n",
      "0    21711\n",
      "1    31735\n",
      "2    23125\n",
      "3    27393\n",
      "4    25090\n",
      "5    21543\n",
      "6    19579\n",
      "Name: order_id, dtype: int64\n",
      "\n",
      "Активность в будни и выходные:\n",
      " is_weekend\n",
      "False    129054\n",
      "True      41122\n",
      "Name: order_id, dtype: int64\n",
      "\n",
      "Средняя выручка в будни и выходные:\n",
      " is_weekend\n",
      "False    183.543052\n",
      "True     204.306429\n",
      "Name: one_ticket_revenue_rub, dtype: float64\n"
     ]
    }
   ],
   "source": [
    "# 1. Предобработка данных\n",
    "\n",
    "# Выделяем день недели (0 - понедельник, 6 - воскресенье)\n",
    "df['day_of_week'] = df['created_dt_msk'].dt.dayofweek.copy()\n",
    "\n",
    "# Определяем, является ли день недели выходным (5 - суббота, 6 - воскресенье)\n",
    "df['is_weekend'] = df['day_of_week'].isin([5, 6]).copy()\n",
    "\n",
    "# 2. Анализ активности по дням недели\n",
    "# Группируем данные по дню недели и считаем количество заказов\n",
    "weekday_activity = df.groupby('day_of_week')['order_id'].count()\n",
    "\n",
    "# Визуализация активности по дням недели\n",
    "plt.figure(figsize=(10, 6))\n",
    "sns.barplot(x=weekday_activity.index, y=weekday_activity.values, color='skyblue')\n",
    "plt.title('Активность пользователей по дням недели')\n",
    "plt.xlabel('День недели (0 - Пн, 6 - Вс)')\n",
    "plt.ylabel('Число заказов')\n",
    "plt.xticks(range(7))\n",
    "plt.show()\n",
    "\n",
    "# 3. Сравнение активности в будни и выходные\n",
    "# Группируем данные по признаку выходного дня и считаем количество заказов\n",
    "weekend_activity = df.groupby('is_weekend')['order_id'].count()\n",
    "\n",
    "# Визуализация активности в будни и выходные\n",
    "plt.figure(figsize=(6, 4))\n",
    "sns.barplot(x=weekend_activity.index, y=weekend_activity.values)\n",
    "plt.title('Активность пользователей в будни и выходные')\n",
    "plt.xlabel('Выходной (True - выходной, False - будний)')\n",
    "plt.ylabel('Число заказов')\n",
    "plt.xticks([0, 1], ['Будни', 'Выходные'])\n",
    "plt.show()\n",
    "\n",
    "# 4. Сравнение средней выручки в будни и выходные\n",
    "\n",
    "weekday_revenue = df.groupby('is_weekend')['one_ticket_revenue_rub'].mean()\n",
    "\n",
    "# Визуализация средней выручки в будни и выходные\n",
    "plt.figure(figsize=(6, 4))\n",
    "sns.barplot(x=weekday_revenue.index, y=weekday_revenue.values)\n",
    "plt.title('Средняя выручка в будни и выходные')\n",
    "plt.xlabel('Выходной (True - выходной, False - будний)')\n",
    "plt.ylabel('Средняя выручка')\n",
    "plt.xticks([0, 1], ['Будни', 'Выходные'])\n",
    "plt.show()\n",
    "\n",
    "# 5. Вывод результатов\n",
    "print(\"\\nАктивность по дням недели:\\n\", weekday_activity)\n",
    "print(\"\\nАктивность в будни и выходные:\\n\", weekend_activity)\n",
    "print(\"\\nСредняя выручка в будни и выходные:\\n\", weekday_revenue)"
   ]
  },
  {
   "cell_type": "markdown",
   "metadata": {},
   "source": [
    "Пояснения:\n",
    "\n",
    "1) Диаграмма \"Активность пользователей по дням недели\"\n",
    "\n",
    "Диаграмма отображает активность пользователей по дням недели, выраженную в количестве заказов.\n",
    "\n",
    "•  Наибольшая активность: наибольшее количество заказов приходится на вторник (день 1).\n",
    "\n",
    "•  Высокая активность: четверг (день 3) и Среда (день 2) показывают достаточно высокий уровень активности.\n",
    "\n",
    "•  Низкая активность: наименьшее количество заказов приходится на выходные (дни 5 и 6).\n",
    "\n",
    "Выводы:\n",
    "\n",
    "    •  Активность пользователей сильно зависит от дня недели.\n",
    "\n",
    "    •  Наибольшая активность наблюдается в середине рабочей недели (вторник, среда, четверг).\n",
    "    \n",
    "    •  В выходные дни (суббота и воскресенье) активность пользователей снижается.\n",
    "    \n",
    "2) Диаграмма \"Активность пользователей в будни и выходные\"\n",
    "\n",
    "Диаграмма сравнивает активность пользователей (в количестве заказов) в будние и выходные дни.\n",
    "\n",
    "•  Преобладающая активность в будни: количество заказов в будние дни значительно выше, чем в выходные.\n",
    "\n",
    "•  Низкая активность в выходные: количество заказов в выходные дни значительно меньше, чем в будние.\n",
    "\n",
    "Выводы:\n",
    "\n",
    "    •  Большая часть активности пользователей (по заказам) приходится на рабочие дни.\n",
    "\n",
    "    •  В выходные дни активность пользователей значительно снижается.\n",
    "    \n",
    "3) Диаграмма \"Средняя выручка в будни и выходные\"\n",
    "\n",
    "Диаграмма сравнивает среднюю выручку с одного заказа в будние и выходные дни.\n",
    "\n",
    "•  Высокая выручка в выходные: средняя выручка с одного заказа в выходные дни немного выше, чем в будние.\n",
    "\n",
    "•  Выручка в будни: средняя выручка с одного заказа в будни чуть меньше, чем в выходные.\n",
    "\n",
    "Выводы:\n",
    "\n",
    "    •  Хотя в будние дни совершается больше заказов, средний доход с каждого заказа в выходные дни несколько выше.\n",
    "\n",
    "    •  Это может указывать на то, что в выходные дни пользователи склонны покупать более дорогие билеты или делать более крупные заказы."
   ]
  },
  {
   "cell_type": "markdown",
   "metadata": {},
   "source": [
    "### 3.3. Популярные события и партнёры"
   ]
  },
  {
   "cell_type": "code",
   "execution_count": 181,
   "metadata": {},
   "outputs": [
    {
     "name": "stdout",
     "output_type": "stream",
     "text": [
      "\n",
      "Анализ по регионам:\n",
      "                 region_name  unique_events  total_orders  event_share  \\\n",
      "23        Каменевский регион           3946         47512     0.247802   \n",
      "59      Североярская область           2622         20897     0.164657   \n",
      "75       Широковская область            803          8739     0.050427   \n",
      "56      Светополянский округ            764          4839     0.047978   \n",
      "51       Речиновская область            529          3576     0.033220   \n",
      "..                       ...            ...           ...          ...   \n",
      "17            Залесский край              4            56     0.000251   \n",
      "47      Островогорский округ              4            18     0.000251   \n",
      "5          Верхозёрский край              2            11     0.000126   \n",
      "55         Светолесский край              2            18     0.000126   \n",
      "65  Сосноводолинская область              1             9     0.000063   \n",
      "\n",
      "    order_share  \n",
      "23     0.279229  \n",
      "59     0.122812  \n",
      "75     0.051359  \n",
      "56     0.028439  \n",
      "51     0.021016  \n",
      "..          ...  \n",
      "17     0.000329  \n",
      "47     0.000106  \n",
      "5      0.000065  \n",
      "55     0.000106  \n",
      "65     0.000053  \n",
      "\n",
      "[79 rows x 5 columns]\n"
     ]
    },
    {
     "data": {
      "image/png": "[encoded data removed]",
      "text/plain": [
       "<Figure size 864x432 with 1 Axes>"
      ]
     },
     "metadata": {
      "needs_background": "light"
     },
     "output_type": "display_data"
    },
    {
     "data": {
      "image/png": "[encoded data removed]",
      "text/plain": [
       "<Figure size 864x432 with 1 Axes>"
      ]
     },
     "metadata": {
      "needs_background": "light"
     },
     "output_type": "display_data"
    }
   ],
   "source": [
    "# 1. Подсчет уникальных мероприятий и общего числа заказов по регионам\n",
    "region_summary = df.groupby('region_name')['event_id'].nunique().reset_index()\n",
    "region_summary.rename(columns={'event_id': 'unique_events'}, inplace=True)\n",
    "region_summary['total_orders'] = df.groupby('region_name')['order_id'].count().reset_index()['order_id']\n",
    "\n",
    "# 2. Вычисление доли мероприятий и заказов по регионам\n",
    "total_events = region_summary['unique_events'].sum()\n",
    "total_orders = region_summary['total_orders'].sum()\n",
    "region_summary['event_share'] = region_summary['unique_events'] / total_events\n",
    "region_summary['order_share'] = region_summary['total_orders'] / total_orders\n",
    "\n",
    "# 3. Сортировка по количеству уникальных мероприятий\n",
    "region_summary = region_summary.sort_values(by='unique_events', ascending=False)\n",
    "\n",
    "print(\"\\nАнализ по регионам:\")\n",
    "print(region_summary)\n",
    "\n",
    "\n",
    "# Добавляем визуализацию топ-n регионов:\n",
    "n = 10\n",
    "\n",
    "# Выбираем топ-n регионов\n",
    "top_n_regions = region_summary.head(n)\n",
    "\n",
    "# Визуализация доли мероприятий по регионам\n",
    "plt.figure(figsize=(12, 6))\n",
    "sns.barplot(x='region_name', y='event_share', data=top_n_regions, color='skyblue')\n",
    "plt.title(f\"Доля уникальных мероприятий по топ-{n} регионам\")\n",
    "plt.xlabel(\"Регион\")\n",
    "plt.ylabel(\"Доля уникальных мероприятий\")\n",
    "plt.xticks(rotation=45, ha=\"right\")\n",
    "plt.tight_layout()\n",
    "plt.show()\n",
    "\n",
    "\n",
    "# Визуализация доли заказов по регионам\n",
    "plt.figure(figsize=(12, 6))\n",
    "sns.barplot(x='region_name', y='order_share', data=top_n_regions, color='skyblue')\n",
    "plt.title(f\"Доля заказов по топ-{n} регионам\")\n",
    "plt.xlabel(\"Регион\")\n",
    "plt.ylabel(\"Доля заказов\")\n",
    "plt.xticks(rotation=45, ha=\"right\")\n",
    "plt.tight_layout()\n",
    "plt.show()"
   ]
  },
  {
   "cell_type": "markdown",
   "metadata": {},
   "source": [
    "1) Диаграмма \"Доля уникальных мероприятий по топ-10 регионам\" показывает долю уникальных мероприятий в каждом из топ-10 регионов. Столбцы диаграммы отображают долю уникальных мероприятий для каждого региона. Высота столбца соответствует доле, указанной на оси Y.\n",
    "\n",
    "Анализ:\n",
    "\n",
    "•  Лидеры: Каменевский регион значительно выделяется, занимая самую большую долю уникальных мероприятий (около 25%). Североярская область также имеет значительную долю, но меньше, чем Каменевский регион (около 16%).\n",
    "\n",
    "•  Остальные регионы: Остальные 8 регионов имеют значительно меньшую долю уникальных мероприятий (в диапазоне от 0.025 до 0.05).\n",
    "\n",
    "•  Вывод: Каменевский регион является лидером по количеству уникальных мероприятий.\n",
    "\n",
    "2) Диаграмма \"Доля заказов по топ-10 регионам\" отображает долю заказов, приходящихся на каждый из топ-10 регионов. Высота каждого столбца соответствует доле заказов для соответствующего региона.\n",
    "\n",
    "Анализ:\n",
    "\n",
    "•  Явный лидер: Каменевский регион занимает доминирующее положение, генерируя значительно большую долю заказов (около 28%), чем любой другой регион.\n",
    "\n",
    "•  Второй по величине: Североярская область занимает второе место по доле заказов (около 12%).\n",
    "\n",
    "•  Остальные: Доли остальных восьми регионов относительно невелики (все они ниже 0.06), что говорит о том, что основная часть заказов сосредоточена в двух лидирующих регионах."
   ]
  },
  {
   "cell_type": "code",
   "execution_count": 182,
   "metadata": {
    "scrolled": false
   },
   "outputs": [
    {
     "name": "stdout",
     "output_type": "stream",
     "text": [
      "\n",
      "Анализ по билетным партнерам:\n",
      "              service_name  unique_events  total_orders  total_revenue  \\\n",
      "3       Билеты без проблем           2855         32786    15042107.84   \n",
      "21             Лови билет!           3626         25871    10644953.26   \n",
      "5            Билеты в руки           2474         25762     7715339.47   \n",
      "24               Мой билет           1013         19682    12595098.84   \n",
      "25                 Облачко           1413         15616    12459031.35   \n",
      "22           Лучшие билеты           1397         12466     1742753.39   \n",
      "8           Весь в билетах            608          9641    10169704.53   \n",
      "26               Прачечная            728          5831     2647691.55   \n",
      "30             Тебе билет!            859          3779     2223909.32   \n",
      "34                  Яблоко            538          3496     2831861.44   \n",
      "19            Край билетов            194          3062     3222585.25   \n",
      "13            Дом культуры            192          1798     1869152.73   \n",
      "15             За билетом!            200          1743     1222610.75   \n",
      "12  Городской дом культуры            289          1738     1054292.87   \n",
      "1              Show_ticket            204          1351     1101160.76   \n",
      "6              Быстробилет            133          1171      954898.62   \n",
      "23                Мир касс            132          1001      872564.17   \n",
      "11          Выступления.ру             81           921      636954.16   \n",
      "0            Crazy ticket!            178           550      319451.55   \n",
      "33         Шоу начинается!             11           439      525061.72   \n",
      "9                Восьмёрка             92           395      252551.70   \n",
      "27            Радио ticket              7           322       44719.95   \n",
      "29                Росбилет             47           242      521959.65   \n",
      "31               Телебилет             12           206      113377.05   \n",
      "17              КарандашРУ             28            69       13689.57   \n",
      "14                 Дырокол              2            66      100648.16   \n",
      "2        Билет по телефону             10            50       37807.82   \n",
      "18              Кино билет              1            48       81729.24   \n",
      "10                 Вперёд!             21            38       14540.02   \n",
      "28                  Реестр              4            16       15271.47   \n",
      "7           Быстрый кассир              1             8        7780.71   \n",
      "32               Тех билет              2             5        1722.63   \n",
      "4       Билеты в интернете              1             4         548.23   \n",
      "16                Зе Бест!              1             2          30.01   \n",
      "20                  Лимоны              1             1         119.93   \n",
      "\n",
      "    order_share  revenue_share  \n",
      "3      0.192659   1.651932e-01  \n",
      "21     0.152025   1.169034e-01  \n",
      "5      0.151384   8.473024e-02  \n",
      "24     0.115657   1.383200e-01  \n",
      "25     0.091764   1.368257e-01  \n",
      "22     0.073254   1.913901e-02  \n",
      "8      0.056653   1.116842e-01  \n",
      "26     0.034265   2.907708e-02  \n",
      "30     0.022206   2.442308e-02  \n",
      "34     0.020543   3.109964e-02  \n",
      "19     0.017993   3.539059e-02  \n",
      "13     0.010566   2.052713e-02  \n",
      "15     0.010242   1.342677e-02  \n",
      "12     0.010213   1.157830e-02  \n",
      "1      0.007939   1.209300e-02  \n",
      "6      0.006881   1.048674e-02  \n",
      "23     0.005882   9.582543e-03  \n",
      "11     0.005412   6.995062e-03  \n",
      "0      0.003232   3.508233e-03  \n",
      "33     0.002580   5.766254e-03  \n",
      "9      0.002321   2.773535e-03  \n",
      "27     0.001892   4.911167e-04  \n",
      "29     0.001422   5.732187e-03  \n",
      "31     0.001211   1.245112e-03  \n",
      "17     0.000405   1.503395e-04  \n",
      "14     0.000388   1.105323e-03  \n",
      "2      0.000294   4.152074e-04  \n",
      "18     0.000282   8.975546e-04  \n",
      "10     0.000223   1.596792e-04  \n",
      "28     0.000094   1.677120e-04  \n",
      "7      0.000047   8.544815e-05  \n",
      "32     0.000029   1.891801e-05  \n",
      "4      0.000024   6.020689e-06  \n",
      "16     0.000012   3.295713e-07  \n",
      "20     0.000006   1.317077e-06  \n"
     ]
    },
    {
     "data": {
      "image/png": "[encoded data removed]",
      "text/plain": [
       "<Figure size 864x432 with 1 Axes>"
      ]
     },
     "metadata": {
      "needs_background": "light"
     },
     "output_type": "display_data"
    },
    {
     "data": {
      "image/png": "[encoded data removed]",
      "text/plain": [
       "<Figure size 864x432 with 1 Axes>"
      ]
     },
     "metadata": {
      "needs_background": "light"
     },
     "output_type": "display_data"
    }
   ],
   "source": [
    "# 1. Подсчет уникальных мероприятий, заказов и выручки по партнерам\n",
    "partner_summary = df.groupby('service_name').agg(\n",
    "    unique_events=('event_id', lambda x: len(pd.unique(x))), \n",
    "    total_orders=('order_id', 'count'),                   \n",
    "    total_revenue=('revenue', 'sum')                      \n",
    ").reset_index()\n",
    "\n",
    "# 2. Вычисление доли заказов и выручки по партнерам\n",
    "total_orders_all = partner_summary['total_orders'].sum()\n",
    "total_revenue_all = partner_summary['total_revenue'].sum()\n",
    "partner_summary['order_share'] = partner_summary['total_orders'] / total_orders_all\n",
    "partner_summary['revenue_share'] = partner_summary['total_revenue'] / total_revenue_all\n",
    "\n",
    "# 3. Добавление информации о названии партнера\n",
    "if 'ticket_partners' in locals():\n",
    "    partner_summary = pd.merge(partner_summary, ticket_partners, on='organizers', how='left')\n",
    "    partner_summary = partner_summary[['organizers', 'unique_events', 'total_orders', 'total_revenue', 'order_share', 'revenue_share']]\n",
    "\n",
    "# 4. Сортировка по общему количеству заказов (или выручке)\n",
    "partner_summary = partner_summary.sort_values(by='total_orders', ascending=False)\n",
    "\n",
    "print(\"\\nАнализ по билетным партнерам:\")\n",
    "print(partner_summary)\n",
    "\n",
    "n = 10\n",
    "\n",
    "# Выбираем топ-n партнеров\n",
    "top_n_partners = partner_summary.head(n)\n",
    "\n",
    "# Визуализация доли заказов по партнерам\n",
    "plt.figure(figsize=(12, 6))\n",
    "sns.barplot(x='service_name', y='order_share', data=top_n_partners, color='skyblue')\n",
    "plt.title(f\"Доля заказов по топ-{n} билетным партнерам\")\n",
    "plt.xlabel(\"Билетный партнер\")\n",
    "plt.ylabel(\"Доля заказов\")\n",
    "plt.xticks(rotation=45, ha=\"right\")\n",
    "plt.tight_layout()\n",
    "plt.show()\n",
    "\n",
    "# Визуализация доли выручки по партнерам\n",
    "plt.figure(figsize=(12, 6))\n",
    "sns.barplot(x='service_name', y='revenue_share', data=top_n_partners, color='skyblue')\n",
    "plt.title(f\"Доля выручки по топ-{n} билетным партнерам\")\n",
    "plt.xlabel(\"Билетный партнер\")\n",
    "plt.ylabel(\"Доля выручки\")\n",
    "plt.xticks(rotation=45, ha=\"right\")\n",
    "plt.tight_layout()\n",
    "plt.show()"
   ]
  },
  {
   "cell_type": "markdown",
   "metadata": {},
   "source": [
    "1) Диаграмма \"Доля заказов по топ-10 билетным партнерам\" показывает долю заказов, приходящихся на каждого из топ-10 билетных партнеров. Высота каждого столбца соответствует доле заказов для соответствующего партнера.\n",
    "\n",
    "Анализ:\n",
    "\n",
    "•  Лидер: билетный партнер \"Билеты без проблем\" выделяется значительно, имея наибольшую долю заказов (около 19,26%).\n",
    "\n",
    "•  Второй по величине: билетный партнер \"Лови билет!\" занимает второе место по доле заказов (около 15,2%).\n",
    "\n",
    "•  Остальные: доли заказов, приходящихся на остальных 8 партнеров, относительно невелики (все они составляют примерно 11% или  меньше).\n",
    "\n",
    "2) Диаграмма \"Доля выручки по топ-10 билетным партнерам\" отображает долю выручки, приходящуюся на каждого из топ-10 билетных партнеров. Высота каждого столбца соответствует доле выручки для соответствующего партнера.\n",
    "\n",
    "Анализ:\n",
    "\n",
    "•  Выделяющиеся партнеры: билетные партнеры \"Лови билет!\", \"Облачко\", \"Мой билет\" и \"Весь в билетах\" приносят наибольшую долю выручки (примерно от 0.015 до 0.02). Это ключевые партнеры с точки зрения генерации дохода.\n",
    "\n",
    "•  Заметный вклад: билетный партнер \"Билеты без проблем\", который лидировал по доле заказов, по выручке не является лидером, занимая долю примерно 0.011.\n",
    "\n",
    "•  Остальные: остальные партнеры приносят меньшую долю выручки (ниже 0.01). В особенности это касается \"Тебе билет!\" и \"Лучшие билеты\"."
   ]
  },
  {
   "cell_type": "markdown",
   "metadata": {},
   "source": [
    "## Статистический анализ данных"
   ]
  },
  {
   "cell_type": "markdown",
   "metadata": {},
   "source": [
    "Гипотеза 1: Среднее количество заказов на одного пользователя\n",
    "\n",
    "•   Описание контекста (Обоснование выбора гипотезы): компания хочет оптимизировать маркетинговые усилия и пользовательский опыт для разных типов устройств. Предполагается, что пользователи мобильного приложения могут чаще совершать заказы из-за удобства и доступности. Проверка этой гипотезы поможет понять, стоит ли вкладывать больше ресурсов в мобильную платформу.  Например, если пользователи мобильного приложения действительно делают заказы чаще, можно сфокусироваться на улучшении мобильного UX, push-уведомлениях, и специальных акциях для мобильных пользователей.\n",
    "\n",
    "- Нулевая гипотеза (H0): Среднее количество заказов на одного пользователя мобильного приложения *не выше*, чем среднее количество заказов на одного пользователя стационарного устройства.  mu\\_mobile <= mu\\_desktop\n",
    "- Альтернативная гипотеза (H1): Среднее количество заказов на одного пользователя мобильного приложения *выше*, чем среднее количество заказов на одного пользователя стационарного устройства.  mu\\_mobile > mu\\_desktop (Односторонняя гипотеза)\n",
    "\n",
    "Анализ и выбор теста:\n",
    "\n",
    "1.  Сравнение двух групп: Мы сравниваем две независимые группы пользователей (мобильные и стационарные).\n",
    "2.  Данные: кол-во заказов на пользователя: Данные представляют собой количество заказов для каждого пользователя, то есть, количественные данные.\n",
    "\n",
    "3.  Исследовательский анализ данных (EDA) и проверка предположений:\n",
    "    *   Визуализация распределений: *Прежде* чем выбирать статистический тест, важно изучить распределение данных в каждой группе.  Это поможет оценить, насколько вероятно, что данные соответствуют нормальному распределению, а также выявить потенциальные выбросы.  Для этого можно использовать:\n",
    "        *   Гистограммы:  Показывают частоту встречаемости различных значений.\n",
    "        *   Ящики с усами (Boxplots):  Показывают медиану, квартили и выбросы.\n",
    "        *   Q-Q графики (Quantile-Quantile plots):  Сравнивают распределение данных с теоретическим нормальным распределением.  Если точки на графике лежат близко к прямой линии, это говорит о том, что распределение данных близко к нормальному.\n",
    "    *   Формальный тест на нормальность: Для более формальной проверки можно использовать статистические тесты, такие как:\n",
    "        *   Тест Шапиро-Уилка (Shapiro-Wilk test):  Один из наиболее мощных тестов на нормальность, особенно для небольших выборок.\n",
    "        *   Тест Д'Агостино-Пирсона (D'Agostino-Pearson test): Хорошо работает для выборок разного размера.\n",
    "\n",
    "4.  Выбор статистического теста:\n",
    "    *   Если данные в обеих группах *нормально распределены* и имеют *примерно равные дисперсии*, можно использовать *t-тест Стьюдента для независимых выборок* (Student's t-test). T-тест является параметрическим тестом и требует соблюдения этих предположений.\n",
    "    *   Если данные *не соответствуют нормальному распределению* или *дисперсии значительно различаются*, следует использовать *непараметрический тест*. В данном случае, как и в исходном варианте, мы выбираем:\n",
    "        *   U-критерий Манна-Уитни (Mann-Whitney U test):  Этот тест сравнивает ранги значений в двух группах и не требует нормальности распределения. Он также менее чувствителен к выбросам, чем t-тест. *Мы выбираем U-критерий Манна-Уитни, потому что, даже если формальные тесты покажут близость к нормальному распределению, небольшое количество данных и потенциальное наличие выбросов делают этот тест более надежным.*\n",
    "\n",
    "Решение: U-критерий Манна-Уитни (Mann-Whitney U test).  Несмотря на возможность проведения тестов на нормальность, мы выбираем U-критерий Манна-Уитни, так как он не требует нормальности распределения данных и менее чувствителен к выбросам. Учитывая небольшой размер выборки, даже при наличии формальных признаков нормальности, U-критерий"
   ]
  },
  {
   "cell_type": "code",
   "execution_count": 183,
   "metadata": {},
   "outputs": [
    {
     "name": "stdout",
     "output_type": "stream",
     "text": [
      "Количество пользователей, использующих оба типа устройств: 3274\n",
      "\n",
      "Гипотеза 1: Среднее количество заказов на пользователя\n",
      "U-статистика: 10630578.0\n",
      "P-значение: 5.5459811039692874e-40\n",
      "Отвергаем нулевую гипотезу. Есть статистически значимые доказательства того, что среднее количество заказов на одного пользователя мобильного приложения выше, чем на стационарном устройстве.\n"
     ]
    }
   ],
   "source": [
    "# 1. Подсчет количества заказов на каждого пользователя для каждого типа устройства\n",
    "user_order_counts = df.groupby(['user_id', 'device_type_canonical'])['order_id'].count().reset_index()\n",
    "user_order_counts.rename(columns={'order_id': 'order_count'}, inplace=True)\n",
    "\n",
    "# 2. Определение пользователей, которые есть в обеих группах\n",
    "mobile_users = user_order_counts[user_order_counts['device_type_canonical'] == 'mobile']['user_id'].unique()\n",
    "desktop_users = user_order_counts[user_order_counts['device_type_canonical'] == 'desktop']['user_id'].unique()\n",
    "\n",
    "common_users = set(mobile_users) & set(desktop_users)\n",
    "\n",
    "print(f\"Количество пользователей, использующих оба типа устройств: {len(common_users)}\")\n",
    "\n",
    "# 3. Исключение пользователей, которые есть в обеих группах\n",
    "user_order_counts_filtered = user_order_counts[~user_order_counts['user_id'].isin(common_users)]\n",
    "\n",
    "# 4. Разделение данных на группы (мобильные и стационарные)\n",
    "mobile_orders = user_order_counts_filtered[user_order_counts_filtered['device_type_canonical'] == 'mobile']['order_count']\n",
    "desktop_orders = user_order_counts_filtered[user_order_counts_filtered['device_type_canonical'] == 'desktop']['order_count']\n",
    "\n",
    "# 5. Проверка U-критерием Манна-Уитни (односторонний)\n",
    "u_statistic, p_value = stats.mannwhitneyu(mobile_orders, desktop_orders, alternative='greater')\n",
    "\n",
    "print(\"\\nГипотеза 1: Среднее количество заказов на пользователя\")\n",
    "print(f\"U-статистика: {u_statistic}\")\n",
    "print(f\"P-значение: {p_value}\")\n",
    "\n",
    "alpha = 0.05  # Уровень значимости\n",
    "\n",
    "if p_value < alpha:\n",
    "    print(\"Отвергаем нулевую гипотезу. Есть статистически значимые доказательства того, что среднее количество заказов на одного пользователя мобильного приложения выше, чем на стационарном устройстве.\")\n",
    "else:\n",
    "    print(\"Не отвергаем нулевую гипотезу. Нет статистически значимых доказательств того, что среднее количество заказов на одного пользователя мобильного приложения выше, чем на стационарном устройстве.\")\n"
   ]
  },
  {
   "cell_type": "markdown",
   "metadata": {},
   "source": [
    "Гипотеза 2: Среднее время между заказами\n",
    "\n",
    "•   Описание контекста (Обоснование выбора гипотезы): Если пользователи мобильного приложения совершают заказы чаще (как предполагает первая гипотеза), то, логично предположить, что среднее время между их заказами будет меньше. Проверка этой гипотезы важна для понимания паттернов использования разных типов устройств и разработки стратегий удержания клиентов.  Например, если выяснится, что пользователи мобильного приложения делают заказы чаще и время между их заказами меньше, то можно сфокусироваться на персонализированных предложениях, акциях и push-уведомлениях для мобильных устройств, чтобы максимизировать их вовлеченность. А для пользователей стационарных устройств можно использовать другие стратегии, чтобы стимулировать их к повторным покупкам.\n",
    "\n",
    "- Нулевая гипотеза (H0): Среднее время между заказами пользователей мобильного приложения *не выше*, чем среднее время между заказами пользователей стационарного устройства. mu\\_mobile <= mu\\_desktop\n",
    "\n",
    "- Альтернативная гипотеза (H1): Среднее время между заказами пользователей мобильного приложения *выше*, чем среднее время между заказами пользователей стационарного устройства. mu\\_mobile > mu\\_desktop (Односторонняя гипотеза)\n",
    "\n",
    "**Анализ и выбор теста:**\n",
    "\n",
    "1.  Сравнение двух групп: Мы сравниваем две независимые группы пользователей (мобильные и стационарные).\n",
    "2.  Данные: время между заказами: Данные представляют собой интервалы времени, то есть, количественные данные.\n",
    "3.  Исследовательский анализ данных (EDA) и проверка предположений:\n",
    "    *   Визуализация распределений: *Прежде* чем выбирать статистический тест, важно изучить распределение данных в каждой группе.  Это поможет оценить, насколько вероятно, что данные соответствуют нормальному распределению, а также выявить потенциальные выбросы.  Для этого можно использовать:\n",
    "        *   Гистограммы:  Показывают частоту встречаемости различных значений интервалов времени между заказами.\n",
    "        *   Ящики с усами (Boxplots):  Показывают медиану, квартили и выбросы.\n",
    "        *   Q-Q графики (Quantile-Quantile plots): Сравнивают распределение данных с теоретическим нормальным распределением.\n",
    "    \n",
    "    *   Формальный тест на нормальность: Для более формальной проверки можно использовать статистические тесты, такие как:\n",
    "        *   Тест Шапиро-Уилка (Shapiro-Wilk test):\n",
    "        *   Тест Д'Агостино-Пирсона (D'Agostino-Pearson test):\n",
    "\n",
    "\n",
    "4.  Выбор статистического теста:\n",
    "    *   Если данные в обеих группах *нормально распределены* и имеют *примерно равные дисперсии*, можно использовать *t-тест Стьюдента для независимых выборок* (Student's t-test).\n",
    "    *   Если данные *не соответствуют нормальному распределению* или *дисперсии значительно различаются*, следует использовать *непараметрический тест*. В данном случае мы выбираем:\n",
    "        *   U-критерий Манна-Уитни (Mann-Whitney U test):  Он сравнивает ранги значений и не требует нормальности распределения. Он также менее чувствителен к выбросам, чем t-тест. *Мы выбираем U-критерий Манна-Уитни, потому что, даже если формальные тесты покажут близость к нормальному распределению, мы ожидаем, что распределение времени между заказами будет смещено вправо, и этот тест будет более подходящим.*\n",
    "\n",
    "Решение: U-критерий Манна-Уитни (Mann-Whitney U test). Несмотря на возможность проведения тестов на нормальность, мы выбираем U-критерий Манна-Уитни, так как распределение времени между заказами часто не является нормальным (смещено вправо). U-критерий более устойчив к таким отклонениям от нормальности."
   ]
  },
  {
   "cell_type": "code",
   "execution_count": 184,
   "metadata": {
    "scrolled": false
   },
   "outputs": [
    {
     "name": "stdout",
     "output_type": "stream",
     "text": [
      "Количество пользователей, использующих оба типа устройств: 1905\n",
      "\n",
      "Гипотеза 2: Среднее время между заказами\n",
      "U-статистика: 3487737.5\n",
      "P-значение: 3.9776566629135056e-52\n",
      "Отвергаем нулевую гипотезу. Есть статистически значимые доказательства того, что среднее время между заказами пользователей мобильного приложения выше, чем на стационарном устройстве.\n"
     ]
    }
   ],
   "source": [
    "# Функция для вычисления среднего времени между заказами для каждого пользователя\n",
    "def calculate_avg_time_between_orders(user_orders):\n",
    "    if len(user_orders) < 2:\n",
    "        return None\n",
    "    time_diffs = np.diff(user_orders.sort_values())\n",
    "    return time_diffs.mean()\n",
    "\n",
    "# Вычисление среднего времени между заказами для каждого пользователя и типа устройства\n",
    "user_time_diffs = df.groupby(['user_id', 'device_type_canonical'])['created_dt_msk'].apply(calculate_avg_time_between_orders).reset_index()\n",
    "user_time_diffs.rename(columns={'created_dt_msk': 'avg_time_between_orders'}, inplace=True)\n",
    "user_time_diffs = user_time_diffs.dropna()\n",
    "\n",
    "# Определение пользователей, которые есть в обеих группах\n",
    "mobile_users = user_time_diffs[user_time_diffs['device_type_canonical'] == 'mobile']['user_id'].unique()\n",
    "desktop_users = user_time_diffs[user_time_diffs['device_type_canonical'] == 'desktop']['user_id'].unique()\n",
    "\n",
    "common_users = set(mobile_users) & set(desktop_users)\n",
    "\n",
    "print(f\"Количество пользователей, использующих оба типа устройств: {len(common_users)}\")\n",
    "\n",
    "# Исключение пользователей, которые есть в обеих группах\n",
    "user_time_diffs_filtered = user_time_diffs[~user_time_diffs['user_id'].isin(common_users)]\n",
    "\n",
    "# Разделение данных на группы (мобильные и стационарные)\n",
    "mobile_time_diffs = user_time_diffs_filtered[user_time_diffs_filtered['device_type_canonical'] == 'mobile']['avg_time_between_orders']\n",
    "desktop_time_diffs = user_time_diffs_filtered[user_time_diffs_filtered['device_type_canonical'] == 'desktop']['avg_time_between_orders']\n",
    "\n",
    "# Проверка U-критерием Манна-Уитни (односторонний)\n",
    "u_statistic_time, p_value_time = stats.mannwhitneyu(mobile_time_diffs, desktop_time_diffs, alternative='greater')\n",
    "\n",
    "print(\"\\nГипотеза 2: Среднее время между заказами\")\n",
    "print(f\"U-статистика: {u_statistic_time}\")\n",
    "print(f\"P-значение: {p_value_time}\")\n",
    "\n",
    "alpha = 0.05\n",
    "\n",
    "if p_value_time < alpha:\n",
    "    print(\"Отвергаем нулевую гипотезу. Есть статистически значимые доказательства того, что среднее время между заказами пользователей мобильного приложения выше, чем на стационарном устройстве.\")\n",
    "else:\n",
    "    print(\"Не отвергаем нулевую гипотезу. Нет статистически значимых доказательств того, что среднее время между заказами пользователей мобильного приложения выше, чем на стационарном устройстве.\")"
   ]
  },
  {
   "cell_type": "markdown",
   "metadata": {},
   "source": [
    "## Общий вывод и рекомендации"
   ]
  },
  {
   "cell_type": "markdown",
   "metadata": {},
   "source": [
    "Описание данных\n",
    "\n",
    "Первый датасет final_tickets_orders_df.csv включает информацию обо всех заказах билетов, совершённых с двух типов устройств — мобильных и стационарных. Поля датасета (включая добавленные в процессе работы над проектом):\n",
    "\n",
    "- order_id — уникальный идентификатор заказа.\n",
    "- user_id — уникальный идентификатор пользователя.\n",
    "- created_dt_msk — дата создания заказа (московское время).\n",
    "- created_ts_msk — дата и время создания заказа (московское время).\n",
    "- event_id — идентификатор мероприятия из таблицы events.\n",
    "- cinema_circuit — сеть кинотеатров. Если не применимо, то здесь будет значение 'нет'.\n",
    "- age_limit — возрастное ограничение мероприятия.\n",
    "- currency_code — валюта оплаты, например rub для российских рублей.\n",
    "- device_type_canonical — тип устройства, с которого был оформлен заказ, например mobile для мобильных устройств, desktop для \n",
    "стационарных.\n",
    "- revenue — выручка от заказа.\n",
    "- service_name — название билетного оператора.\n",
    "- tickets_count — количество купленных билетов.\n",
    "- total — общая сумма заказа.\n",
    "- one_ticket_revenue_rub — выручка с одного заказа.\n",
    "- month — месяц оформления заказа.\n",
    "- season — сезон оформления заказа.\n",
    "\n",
    "Второй датасет final_tickets_events_df содержит информацию о событиях, включая город и регион события, а также информацию о площадке проведения мероприятия. Обратите внимание, что из данных исключили фильмы, ведь, как было видно на дашборде, событий такого типа не так много. Датасет содержит такие поля:\n",
    "\n",
    "- event_id — уникальный идентификатор мероприятия.\n",
    "- event_name — название мероприятия. Аналог поля event_name_code из исходной базы данных.\n",
    "- event_type_description — описание типа мероприятия.\n",
    "- event_type_main — основной тип мероприятия: театральная постановка, концерт и так далее.\n",
    "- organizers — организаторы мероприятия.\n",
    "- region_name — название региона.\n",
    "- city_name — название города.\n",
    "- venue_id — уникальный идентификатор площадки.\n",
    "- venue_name — название площадки.\n",
    "- venue_address — адрес площадки.\n",
    "\n",
    "В процессе работы над проектом вся выручка была переведена в российские рубли для удобства анализа.\n",
    "\n",
    "\n",
    "I. Общие выводы по проекту:\n",
    "\n",
    "•   Сезонность и предпочтения по типу мероприятий:\n",
    "\n",
    "    *   Наблюдается четко выраженная сезонность: количество заказов значительно возрастает в осенние месяцы (сентябрь-октябрь), с пиком в октябре.\n",
    "    \n",
    "    *   Летние и осенние периоды характеризуются различиями в предпочтениях по типам мероприятий: концерты популярны летом, в то время как театр и спорт - осенью. Мероприятия, не входящие в конкретную категорию (\"другое\"), пользуются стабильным спросом в течение всего года. Ёлки больше пользуются спросом осенью.\n",
    "    \n",
    "    *   Возрастной рейтинг также влияет на популярность мероприятий в разное время года. Мероприятия с рейтингом 0 пользуются наибольшим спросом осенью, а мероприятия с рейтингом 16 - как летом, так и осенью.\n",
    "    \n",
    "•   Тип устройства и активность пользователей:\n",
    "\n",
    "    *   Подавляющее большинство заказов совершается с мобильных устройств, как летом, так и осенью.\n",
    "    \n",
    "    *   Активность пользователей в будни значительно выше, чем в выходные.\n",
    "    \n",
    "    *   Средняя выручка с заказа в выходные дни немного выше, чем в будние.\n",
    "    \n",
    "•   Ценовая политика:\n",
    "\n",
    "    *   Средняя стоимость билета относительно стабильна в течение осеннего периода, но с небольшими колебаниями.\n",
    "    \n",
    "•  Подтвержденные гипотезы:\n",
    "\n",
    "    *   Среднее количество заказов на одного пользователя мобильного приложения статистически значимо выше, чем на стационарном устройстве.\n",
    "    \n",
    "    *   Среднее время между заказами пользователей мобильного приложения статистически значимо выше, чем на стационарном устройстве."
   ]
  },
  {
   "cell_type": "markdown",
   "metadata": {},
   "source": [
    "II. Общие рекомендации:\n",
    "\n",
    "•   Маркетинговые стратегии с учетом сезонности:\n",
    "    \n",
    "    *   Разработать маркетинговые кампании, ориентированные на продвижение концертов летом и театральных и спортивных мероприятий осенью.\n",
    "    \n",
    "    *   Предлагать скидки и акции на мероприятия с рейтингом 0 в осенний период.\n",
    "    \n",
    "    *   Готовиться к пиковому спросу в октябре, планируя рекламные акции и обеспечивая наличие билетов на популярные мероприятия.\n",
    "    \n",
    "•   Оптимизация мобильного приложения:\n",
    "\n",
    "    *   Учитывая высокую активность пользователей мобильных устройств, необходимо постоянно оптимизировать и улучшать мобильное приложение.\n",
    "    \n",
    "    *   Сделать акцент на удержании мобильных пользователей, так как они совершают заказы реже, чем пользователи на десктопе.\n",
    "    \n",
    "    *   Разработать целевые рекламные кампании для привлечения пользователей мобильного приложения и стимулирования их активности.\n",
    "    \n",
    "•   Стимулирование активности в выходные дни:\n",
    "    \n",
    "    *   Предлагать специальные скидки и акции на мероприятия, проходящие в выходные дни, чтобы стимулировать активность пользователей.\n",
    "    \n",
    "    *   Увеличить ассортимент мероприятий, подходящих для посещения в выходные (например, семейные мероприятия, детские представления).\n",
    "    \n",
    "•   Анализ ценовой политики:\n",
    "    \n",
    "    *   Постоянно мониторить среднюю стоимость билета и адаптировать ценовую политику в зависимости от спроса, типа мероприятия и сезона.\n",
    "    \n",
    "    *   Предлагать гибкие цены, адаптированные к активности пользователей (например, скидки в будни).\n",
    "    \n",
    "•   Таргетирование рекламы:\n",
    "    \n",
    "    *   Разрабатывать таргетированные рекламные кампании на основе предпочтений пользователей (тип устройства, тип мероприятия, возрастные ограничения) и времени года.\n",
    "    \n",
    "    *   Использовать ремаркетинг для возврата пользователей, которые давно не совершали заказы.\n",
    "    \n",
    "• Категория \"Другое\":\n",
    "\n",
    "    * Проанализировать, какие события входят в категорию Другое, возможно ее следует декомпозировать, или продвигать, потому что есть хороший трафик по этой категории."
   ]
  }
 ],
 "metadata": {
  "ExecuteTimeLog": [
   {
    "duration": 457,
    "start_time": "2025-07-28T10:35:44.791Z"
   },
   {
    "duration": 1951,
    "start_time": "2025-07-28T10:35:46.108Z"
   },
   {
    "duration": 112,
    "start_time": "2025-07-28T10:35:48.061Z"
   },
   {
    "duration": 0,
    "start_time": "2025-07-28T10:35:48.175Z"
   },
   {
    "duration": 20,
    "start_time": "2025-07-28T10:35:55.863Z"
   },
   {
    "duration": 3,
    "start_time": "2025-07-28T10:36:33.059Z"
   },
   {
    "duration": 3,
    "start_time": "2025-07-28T10:36:39.301Z"
   },
   {
    "duration": 3,
    "start_time": "2025-07-28T10:36:58.072Z"
   },
   {
    "duration": 14,
    "start_time": "2025-07-28T10:38:06.796Z"
   },
   {
    "duration": 2,
    "start_time": "2025-07-28T10:38:15.702Z"
   },
   {
    "duration": 4,
    "start_time": "2025-07-28T10:38:17.440Z"
   },
   {
    "duration": 14,
    "start_time": "2025-07-28T10:38:59.037Z"
   },
   {
    "duration": 1644,
    "start_time": "2025-07-28T10:40:30.823Z"
   },
   {
    "duration": 76,
    "start_time": "2025-07-28T10:43:59.855Z"
   },
   {
    "duration": 132,
    "start_time": "2025-07-28T10:44:25.285Z"
   },
   {
    "duration": 304,
    "start_time": "2025-07-28T10:45:06.178Z"
   },
   {
    "duration": 69,
    "start_time": "2025-07-28T10:49:23.071Z"
   },
   {
    "duration": 3,
    "start_time": "2025-07-28T10:51:07.563Z"
   },
   {
    "duration": 1234,
    "start_time": "2025-07-28T10:51:07.569Z"
   },
   {
    "duration": 15,
    "start_time": "2025-07-28T10:51:08.805Z"
   },
   {
    "duration": 6,
    "start_time": "2025-07-28T10:51:08.822Z"
   },
   {
    "duration": 5,
    "start_time": "2025-07-28T10:51:08.964Z"
   },
   {
    "duration": 141,
    "start_time": "2025-07-28T10:51:08.970Z"
   },
   {
    "duration": 285,
    "start_time": "2025-07-28T10:51:09.122Z"
   },
   {
    "duration": 80,
    "start_time": "2025-07-28T10:51:09.409Z"
   },
   {
    "duration": 15,
    "start_time": "2025-07-28T10:51:09.491Z"
   },
   {
    "duration": 15,
    "start_time": "2025-07-28T10:51:10.065Z"
   },
   {
    "duration": 910,
    "start_time": "2025-07-28T10:55:30.521Z"
   },
   {
    "duration": 1409,
    "start_time": "2025-07-28T10:56:06.115Z"
   },
   {
    "duration": 16,
    "start_time": "2025-07-28T10:56:07.525Z"
   },
   {
    "duration": 9,
    "start_time": "2025-07-28T10:56:07.542Z"
   },
   {
    "duration": 21,
    "start_time": "2025-07-28T10:56:07.553Z"
   },
   {
    "duration": 144,
    "start_time": "2025-07-28T10:56:07.576Z"
   },
   {
    "duration": 279,
    "start_time": "2025-07-28T10:56:07.722Z"
   },
   {
    "duration": 71,
    "start_time": "2025-07-28T10:56:08.003Z"
   },
   {
    "duration": 15,
    "start_time": "2025-07-28T10:56:08.207Z"
   },
   {
    "duration": 15,
    "start_time": "2025-07-28T10:56:08.359Z"
   },
   {
    "duration": 14,
    "start_time": "2025-07-28T10:56:08.517Z"
   },
   {
    "duration": 15,
    "start_time": "2025-07-28T10:56:08.740Z"
   },
   {
    "duration": 70,
    "start_time": "2025-07-28T10:56:47.930Z"
   },
   {
    "duration": 59,
    "start_time": "2025-07-28T10:57:21.524Z"
   },
   {
    "duration": 57,
    "start_time": "2025-07-28T10:57:32.824Z"
   },
   {
    "duration": 74,
    "start_time": "2025-07-28T10:57:39.733Z"
   },
   {
    "duration": 6694,
    "start_time": "2025-07-28T10:58:26.054Z"
   },
   {
    "duration": 7240,
    "start_time": "2025-07-28T10:59:44.952Z"
   },
   {
    "duration": 29,
    "start_time": "2025-07-28T11:00:23.761Z"
   },
   {
    "duration": 14,
    "start_time": "2025-07-28T11:00:49.089Z"
   },
   {
    "duration": 3185,
    "start_time": "2025-07-28T11:01:07.234Z"
   },
   {
    "duration": 319,
    "start_time": "2025-07-28T11:01:23.234Z"
   },
   {
    "duration": 326,
    "start_time": "2025-07-28T11:01:46.710Z"
   },
   {
    "duration": 312,
    "start_time": "2025-07-28T11:01:53.579Z"
   },
   {
    "duration": 3,
    "start_time": "2025-07-28T11:02:31.861Z"
   },
   {
    "duration": 1412,
    "start_time": "2025-07-28T11:02:32.155Z"
   },
   {
    "duration": 23,
    "start_time": "2025-07-28T11:02:33.569Z"
   },
   {
    "duration": 31,
    "start_time": "2025-07-28T11:02:33.594Z"
   },
   {
    "duration": 5,
    "start_time": "2025-07-28T11:02:35.358Z"
   },
   {
    "duration": 122,
    "start_time": "2025-07-28T11:02:36.561Z"
   },
   {
    "duration": 271,
    "start_time": "2025-07-28T11:02:37.071Z"
   },
   {
    "duration": 69,
    "start_time": "2025-07-28T11:02:38.222Z"
   },
   {
    "duration": 78,
    "start_time": "2025-07-28T11:02:38.884Z"
   },
   {
    "duration": 7086,
    "start_time": "2025-07-28T11:02:39.342Z"
   },
   {
    "duration": 29,
    "start_time": "2025-07-28T11:02:46.430Z"
   },
   {
    "duration": 175,
    "start_time": "2025-07-28T11:02:46.461Z"
   },
   {
    "duration": 3123,
    "start_time": "2025-07-28T11:02:52.409Z"
   },
   {
    "duration": 451,
    "start_time": "2025-07-28T11:02:55.534Z"
   },
   {
    "duration": 317,
    "start_time": "2025-07-28T11:02:55.990Z"
   },
   {
    "duration": 16,
    "start_time": "2025-07-28T11:02:56.309Z"
   },
   {
    "duration": 437,
    "start_time": "2025-07-28T11:04:25.667Z"
   },
   {
    "duration": 4319,
    "start_time": "2025-07-28T11:05:24.555Z"
   },
   {
    "duration": 198,
    "start_time": "2025-07-28T11:06:25.554Z"
   },
   {
    "duration": 210,
    "start_time": "2025-07-28T11:07:05.485Z"
   },
   {
    "duration": 1565,
    "start_time": "2025-07-28T11:09:21.315Z"
   },
   {
    "duration": 29,
    "start_time": "2025-07-28T11:09:37.370Z"
   },
   {
    "duration": 46,
    "start_time": "2025-07-28T11:09:51.653Z"
   },
   {
    "duration": 4215,
    "start_time": "2025-07-28T11:10:30.446Z"
   },
   {
    "duration": 3454,
    "start_time": "2025-07-28T11:10:53.053Z"
   },
   {
    "duration": 7162,
    "start_time": "2025-07-28T11:11:37.971Z"
   },
   {
    "duration": 7186,
    "start_time": "2025-07-28T11:11:55.124Z"
   },
   {
    "duration": 6,
    "start_time": "2025-07-28T11:12:04.513Z"
   },
   {
    "duration": 27,
    "start_time": "2025-07-28T11:12:24.156Z"
   },
   {
    "duration": 111,
    "start_time": "2025-07-28T11:12:54.332Z"
   },
   {
    "duration": 76,
    "start_time": "2025-07-28T11:13:00.255Z"
   },
   {
    "duration": 271,
    "start_time": "2025-07-28T11:13:03.696Z"
   },
   {
    "duration": 114,
    "start_time": "2025-07-28T11:13:52.235Z"
   },
   {
    "duration": 1501,
    "start_time": "2025-07-28T11:14:58.213Z"
   },
   {
    "duration": 4177,
    "start_time": "2025-07-28T11:15:18.827Z"
   },
   {
    "duration": 208,
    "start_time": "2025-07-28T11:15:23.006Z"
   },
   {
    "duration": 34,
    "start_time": "2025-07-28T11:15:23.216Z"
   },
   {
    "duration": 7234,
    "start_time": "2025-07-28T11:15:25.162Z"
   },
   {
    "duration": 5,
    "start_time": "2025-07-28T11:15:32.398Z"
   },
   {
    "duration": 147,
    "start_time": "2025-07-28T11:15:32.404Z"
   },
   {
    "duration": 181,
    "start_time": "2025-07-28T11:15:32.553Z"
   },
   {
    "duration": 927,
    "start_time": "2025-07-28T11:15:59.653Z"
   },
   {
    "duration": 4360,
    "start_time": "2025-07-28T11:16:00.582Z"
   },
   {
    "duration": 269,
    "start_time": "2025-07-28T11:16:04.944Z"
   },
   {
    "duration": 43,
    "start_time": "2025-07-28T11:16:05.898Z"
   },
   {
    "duration": 7380,
    "start_time": "2025-07-28T11:16:06.978Z"
   },
   {
    "duration": 5,
    "start_time": "2025-07-28T11:16:14.360Z"
   },
   {
    "duration": 139,
    "start_time": "2025-07-28T11:16:14.367Z"
   },
   {
    "duration": 212,
    "start_time": "2025-07-28T11:16:14.509Z"
   },
   {
    "duration": 136,
    "start_time": "2025-07-28T11:16:14.982Z"
   },
   {
    "duration": 159,
    "start_time": "2025-07-28T11:20:28.599Z"
   },
   {
    "duration": 18,
    "start_time": "2025-07-28T11:20:40.175Z"
   },
   {
    "duration": 161,
    "start_time": "2025-07-28T11:21:06.301Z"
   },
   {
    "duration": 7360,
    "start_time": "2025-07-28T11:21:28.698Z"
   },
   {
    "duration": 5,
    "start_time": "2025-07-28T11:21:36.060Z"
   },
   {
    "duration": 121,
    "start_time": "2025-07-28T11:21:36.066Z"
   },
   {
    "duration": 143,
    "start_time": "2025-07-28T11:21:36.189Z"
   },
   {
    "duration": 134,
    "start_time": "2025-07-28T11:21:36.334Z"
   },
   {
    "duration": 180,
    "start_time": "2025-07-28T11:21:36.469Z"
   },
   {
    "duration": 1661,
    "start_time": "2025-07-28T11:23:30.098Z"
   },
   {
    "duration": 1686,
    "start_time": "2025-07-28T11:24:10.404Z"
   },
   {
    "duration": 25,
    "start_time": "2025-07-28T11:26:07.462Z"
   },
   {
    "duration": 3,
    "start_time": "2025-07-28T11:26:20.517Z"
   },
   {
    "duration": 1712,
    "start_time": "2025-07-28T11:26:21.515Z"
   },
   {
    "duration": 23,
    "start_time": "2025-07-28T11:26:23.229Z"
   },
   {
    "duration": 9,
    "start_time": "2025-07-28T11:26:57.212Z"
   },
   {
    "duration": 10,
    "start_time": "2025-07-28T11:27:02.854Z"
   },
   {
    "duration": 4,
    "start_time": "2025-07-28T11:27:14.430Z"
   },
   {
    "duration": 10,
    "start_time": "2025-07-28T11:27:27.223Z"
   },
   {
    "duration": 6,
    "start_time": "2025-07-28T11:27:37.602Z"
   },
   {
    "duration": 38,
    "start_time": "2025-07-28T11:28:07.691Z"
   },
   {
    "duration": 81,
    "start_time": "2025-07-28T11:28:17.472Z"
   },
   {
    "duration": 6959,
    "start_time": "2025-07-28T11:28:18.361Z"
   },
   {
    "duration": 31,
    "start_time": "2025-07-28T11:29:22.499Z"
   },
   {
    "duration": 13,
    "start_time": "2025-07-28T11:29:23.016Z"
   },
   {
    "duration": 3079,
    "start_time": "2025-07-28T11:29:23.414Z"
   },
   {
    "duration": 337,
    "start_time": "2025-07-28T11:29:26.495Z"
   },
   {
    "duration": 307,
    "start_time": "2025-07-28T11:29:26.833Z"
   },
   {
    "duration": 532,
    "start_time": "2025-07-28T11:29:27.142Z"
   },
   {
    "duration": 3598,
    "start_time": "2025-07-28T11:29:28.866Z"
   },
   {
    "duration": 209,
    "start_time": "2025-07-28T11:29:32.465Z"
   },
   {
    "duration": 1011,
    "start_time": "2025-07-28T11:30:25.101Z"
   },
   {
    "duration": 248,
    "start_time": "2025-07-28T11:33:43.286Z"
   },
   {
    "duration": 12,
    "start_time": "2025-07-28T11:34:01.238Z"
   },
   {
    "duration": 133,
    "start_time": "2025-07-28T11:34:12.213Z"
   },
   {
    "duration": 15,
    "start_time": "2025-07-28T11:34:12.724Z"
   },
   {
    "duration": 241,
    "start_time": "2025-07-28T11:34:13.327Z"
   },
   {
    "duration": 13,
    "start_time": "2025-07-28T11:34:14.295Z"
   },
   {
    "duration": 470,
    "start_time": "2025-07-28T11:34:25.987Z"
   },
   {
    "duration": 184,
    "start_time": "2025-07-28T11:34:26.460Z"
   },
   {
    "duration": 15,
    "start_time": "2025-07-28T11:34:26.645Z"
   },
   {
    "duration": 0,
    "start_time": "2025-07-28T11:34:26.661Z"
   },
   {
    "duration": 60,
    "start_time": "2025-07-28T11:34:26.709Z"
   },
   {
    "duration": 31,
    "start_time": "2025-07-28T11:34:26.847Z"
   },
   {
    "duration": 5595,
    "start_time": "2025-07-28T11:34:27.122Z"
   },
   {
    "duration": 5,
    "start_time": "2025-07-28T11:34:32.719Z"
   },
   {
    "duration": 113,
    "start_time": "2025-07-28T11:34:32.725Z"
   },
   {
    "duration": 0,
    "start_time": "2025-07-28T11:34:32.840Z"
   },
   {
    "duration": 0,
    "start_time": "2025-07-28T11:34:32.841Z"
   },
   {
    "duration": 0,
    "start_time": "2025-07-28T11:34:32.842Z"
   },
   {
    "duration": 0,
    "start_time": "2025-07-28T11:34:32.843Z"
   },
   {
    "duration": 14,
    "start_time": "2025-07-28T11:34:55.080Z"
   },
   {
    "duration": 1193,
    "start_time": "2025-07-28T11:35:14.627Z"
   },
   {
    "duration": 2042,
    "start_time": "2025-07-28T11:35:15.821Z"
   },
   {
    "duration": 33,
    "start_time": "2025-07-28T11:35:17.864Z"
   },
   {
    "duration": 3,
    "start_time": "2025-07-28T11:35:17.899Z"
   },
   {
    "duration": 20,
    "start_time": "2025-07-28T11:35:17.904Z"
   },
   {
    "duration": 173,
    "start_time": "2025-07-28T11:35:17.926Z"
   },
   {
    "duration": 325,
    "start_time": "2025-07-28T11:35:18.103Z"
   },
   {
    "duration": 37,
    "start_time": "2025-07-28T11:35:18.430Z"
   },
   {
    "duration": 194,
    "start_time": "2025-07-28T11:35:18.468Z"
   },
   {
    "duration": 81,
    "start_time": "2025-07-28T11:35:18.665Z"
   },
   {
    "duration": 7193,
    "start_time": "2025-07-28T11:35:18.748Z"
   },
   {
    "duration": 35,
    "start_time": "2025-07-28T11:35:25.942Z"
   },
   {
    "duration": 17,
    "start_time": "2025-07-28T11:35:25.990Z"
   },
   {
    "duration": 3120,
    "start_time": "2025-07-28T11:35:26.009Z"
   },
   {
    "duration": 336,
    "start_time": "2025-07-28T11:35:29.130Z"
   },
   {
    "duration": 308,
    "start_time": "2025-07-28T11:35:29.467Z"
   },
   {
    "duration": 527,
    "start_time": "2025-07-28T11:35:29.776Z"
   },
   {
    "duration": 115,
    "start_time": "2025-07-28T11:35:30.305Z"
   },
   {
    "duration": 0,
    "start_time": "2025-07-28T11:35:30.422Z"
   },
   {
    "duration": 0,
    "start_time": "2025-07-28T11:35:30.423Z"
   },
   {
    "duration": 0,
    "start_time": "2025-07-28T11:35:30.425Z"
   },
   {
    "duration": 0,
    "start_time": "2025-07-28T11:35:30.426Z"
   },
   {
    "duration": 0,
    "start_time": "2025-07-28T11:35:30.427Z"
   },
   {
    "duration": 0,
    "start_time": "2025-07-28T11:35:30.428Z"
   },
   {
    "duration": 0,
    "start_time": "2025-07-28T11:35:30.429Z"
   },
   {
    "duration": 0,
    "start_time": "2025-07-28T11:35:30.430Z"
   },
   {
    "duration": 0,
    "start_time": "2025-07-28T11:35:30.431Z"
   },
   {
    "duration": 0,
    "start_time": "2025-07-28T11:35:30.432Z"
   },
   {
    "duration": 15,
    "start_time": "2025-07-28T11:36:39.439Z"
   },
   {
    "duration": 52,
    "start_time": "2025-07-28T11:36:48.611Z"
   },
   {
    "duration": 15,
    "start_time": "2025-07-28T11:36:49.144Z"
   },
   {
    "duration": 95,
    "start_time": "2025-07-28T11:36:56.331Z"
   },
   {
    "duration": 14,
    "start_time": "2025-07-28T11:36:57.177Z"
   },
   {
    "duration": 249,
    "start_time": "2025-07-28T11:37:03.527Z"
   },
   {
    "duration": 12,
    "start_time": "2025-07-28T11:37:05.579Z"
   },
   {
    "duration": 15,
    "start_time": "2025-07-28T11:39:00.678Z"
   },
   {
    "duration": 245,
    "start_time": "2025-07-28T11:39:01.616Z"
   },
   {
    "duration": 12,
    "start_time": "2025-07-28T11:39:04.051Z"
   },
   {
    "duration": 31,
    "start_time": "2025-07-28T11:39:05.209Z"
   },
   {
    "duration": 138,
    "start_time": "2025-07-28T11:39:22.208Z"
   },
   {
    "duration": 14,
    "start_time": "2025-07-28T11:39:23.279Z"
   },
   {
    "duration": 251,
    "start_time": "2025-07-28T11:39:24.734Z"
   },
   {
    "duration": 14,
    "start_time": "2025-07-28T11:40:10.434Z"
   },
   {
    "duration": 2715,
    "start_time": "2025-07-28T11:40:10.588Z"
   },
   {
    "duration": 327,
    "start_time": "2025-07-28T11:40:13.305Z"
   },
   {
    "duration": 449,
    "start_time": "2025-07-28T11:40:13.634Z"
   },
   {
    "duration": 164,
    "start_time": "2025-07-28T11:40:14.089Z"
   },
   {
    "duration": 48,
    "start_time": "2025-07-28T11:40:14.255Z"
   },
   {
    "duration": 0,
    "start_time": "2025-07-28T11:40:14.305Z"
   },
   {
    "duration": 12,
    "start_time": "2025-07-28T11:40:16.235Z"
   },
   {
    "duration": 3,
    "start_time": "2025-07-28T11:40:56.129Z"
   },
   {
    "duration": 1850,
    "start_time": "2025-07-28T11:40:58.043Z"
   },
   {
    "duration": 22,
    "start_time": "2025-07-28T11:40:59.895Z"
   },
   {
    "duration": 4,
    "start_time": "2025-07-28T11:41:01.060Z"
   },
   {
    "duration": 6,
    "start_time": "2025-07-28T11:41:03.329Z"
   },
   {
    "duration": 125,
    "start_time": "2025-07-28T11:41:04.930Z"
   },
   {
    "duration": 286,
    "start_time": "2025-07-28T11:41:06.189Z"
   },
   {
    "duration": 41,
    "start_time": "2025-07-28T11:41:06.908Z"
   },
   {
    "duration": 69,
    "start_time": "2025-07-28T11:41:09.336Z"
   },
   {
    "duration": 81,
    "start_time": "2025-07-28T11:41:10.839Z"
   },
   {
    "duration": 6990,
    "start_time": "2025-07-28T11:41:12.132Z"
   },
   {
    "duration": 28,
    "start_time": "2025-07-28T11:41:19.124Z"
   },
   {
    "duration": 13,
    "start_time": "2025-07-28T11:41:36.470Z"
   },
   {
    "duration": 3116,
    "start_time": "2025-07-28T11:41:36.949Z"
   },
   {
    "duration": 328,
    "start_time": "2025-07-28T11:41:40.067Z"
   },
   {
    "duration": 331,
    "start_time": "2025-07-28T11:41:40.397Z"
   },
   {
    "duration": 488,
    "start_time": "2025-07-28T11:41:40.731Z"
   },
   {
    "duration": 15,
    "start_time": "2025-07-28T11:41:41.221Z"
   },
   {
    "duration": 15,
    "start_time": "2025-07-28T11:42:15.455Z"
   },
   {
    "duration": 247,
    "start_time": "2025-07-28T11:42:16.179Z"
   },
   {
    "duration": 12,
    "start_time": "2025-07-28T11:42:20.393Z"
   },
   {
    "duration": 39,
    "start_time": "2025-07-28T11:42:21.916Z"
   },
   {
    "duration": 12,
    "start_time": "2025-07-28T11:42:23.542Z"
   },
   {
    "duration": 9,
    "start_time": "2025-07-28T11:42:24.309Z"
   },
   {
    "duration": 16,
    "start_time": "2025-07-28T11:44:08.656Z"
   },
   {
    "duration": 135,
    "start_time": "2025-07-28T11:44:33.692Z"
   },
   {
    "duration": 16,
    "start_time": "2025-07-28T11:44:35.148Z"
   },
   {
    "duration": 2707,
    "start_time": "2025-07-28T11:44:41.065Z"
   },
   {
    "duration": 326,
    "start_time": "2025-07-28T11:44:43.774Z"
   },
   {
    "duration": 459,
    "start_time": "2025-07-28T11:44:44.101Z"
   },
   {
    "duration": 151,
    "start_time": "2025-07-28T11:44:44.561Z"
   },
   {
    "duration": 14,
    "start_time": "2025-07-28T11:44:48.913Z"
   },
   {
    "duration": 249,
    "start_time": "2025-07-28T11:45:02.072Z"
   },
   {
    "duration": 12,
    "start_time": "2025-07-28T11:45:04.042Z"
   },
   {
    "duration": 14,
    "start_time": "2025-07-28T11:45:23.641Z"
   },
   {
    "duration": 239,
    "start_time": "2025-07-28T11:45:27.065Z"
   },
   {
    "duration": 3,
    "start_time": "2025-07-28T11:46:10.093Z"
   },
   {
    "duration": 1816,
    "start_time": "2025-07-28T11:46:11.465Z"
   },
   {
    "duration": 29,
    "start_time": "2025-07-28T11:46:16.001Z"
   },
   {
    "duration": 3,
    "start_time": "2025-07-28T11:46:19.103Z"
   },
   {
    "duration": 5,
    "start_time": "2025-07-28T11:46:21.509Z"
   },
   {
    "duration": 120,
    "start_time": "2025-07-28T11:46:22.906Z"
   },
   {
    "duration": 273,
    "start_time": "2025-07-28T11:46:23.473Z"
   },
   {
    "duration": 37,
    "start_time": "2025-07-28T11:46:25.873Z"
   },
   {
    "duration": 71,
    "start_time": "2025-07-28T11:46:27.526Z"
   },
   {
    "duration": 80,
    "start_time": "2025-07-28T11:46:30.027Z"
   },
   {
    "duration": 7276,
    "start_time": "2025-07-28T11:46:31.137Z"
   },
   {
    "duration": 28,
    "start_time": "2025-07-28T11:46:38.414Z"
   },
   {
    "duration": 13,
    "start_time": "2025-07-28T11:46:39.140Z"
   },
   {
    "duration": 2599,
    "start_time": "2025-07-28T11:46:40.087Z"
   },
   {
    "duration": 333,
    "start_time": "2025-07-28T11:46:42.688Z"
   },
   {
    "duration": 315,
    "start_time": "2025-07-28T11:46:43.023Z"
   },
   {
    "duration": 502,
    "start_time": "2025-07-28T11:46:44.935Z"
   },
   {
    "duration": 15,
    "start_time": "2025-07-28T11:46:46.693Z"
   },
   {
    "duration": 3899,
    "start_time": "2025-07-28T11:47:10.445Z"
   },
   {
    "duration": 244,
    "start_time": "2025-07-28T11:47:19.743Z"
   },
   {
    "duration": 193,
    "start_time": "2025-07-28T11:47:21.829Z"
   },
   {
    "duration": 51,
    "start_time": "2025-07-28T11:47:23.682Z"
   },
   {
    "duration": 7110,
    "start_time": "2025-07-28T11:47:25.760Z"
   },
   {
    "duration": 5,
    "start_time": "2025-07-28T11:47:32.872Z"
   },
   {
    "duration": 81,
    "start_time": "2025-07-28T11:47:32.878Z"
   },
   {
    "duration": 71,
    "start_time": "2025-07-28T11:47:32.961Z"
   },
   {
    "duration": 133,
    "start_time": "2025-07-28T11:47:35.891Z"
   },
   {
    "duration": 307,
    "start_time": "2025-07-28T11:49:37.667Z"
   },
   {
    "duration": 155,
    "start_time": "2025-07-28T11:49:44.441Z"
   },
   {
    "duration": 1647,
    "start_time": "2025-07-28T11:49:49.852Z"
   },
   {
    "duration": 227,
    "start_time": "2025-07-28T11:50:19.884Z"
   },
   {
    "duration": 1298,
    "start_time": "2025-07-28T11:50:46.480Z"
   },
   {
    "duration": 1549,
    "start_time": "2025-07-28T11:52:53.568Z"
   },
   {
    "duration": 23,
    "start_time": "2025-07-28T11:55:10.848Z"
   },
   {
    "duration": 21,
    "start_time": "2025-07-28T11:55:45.223Z"
   },
   {
    "duration": 23,
    "start_time": "2025-07-28T11:56:01.401Z"
   },
   {
    "duration": 23,
    "start_time": "2025-07-28T11:56:23.319Z"
   },
   {
    "duration": 1542,
    "start_time": "2025-07-28T11:56:37.593Z"
   },
   {
    "duration": 1759,
    "start_time": "2025-07-28T11:57:47.652Z"
   },
   {
    "duration": 1640,
    "start_time": "2025-07-28T11:58:17.443Z"
   },
   {
    "duration": 1108,
    "start_time": "2025-07-28T11:58:29.119Z"
   },
   {
    "duration": 1800,
    "start_time": "2025-07-28T11:58:31.435Z"
   },
   {
    "duration": 79,
    "start_time": "2025-07-28T11:58:39.633Z"
   },
   {
    "duration": 133,
    "start_time": "2025-07-28T11:58:40.702Z"
   },
   {
    "duration": 354,
    "start_time": "2025-07-28T11:58:41.736Z"
   },
   {
    "duration": 161,
    "start_time": "2025-07-28T11:58:44.172Z"
   },
   {
    "duration": 1329,
    "start_time": "2025-07-28T11:58:45.942Z"
   },
   {
    "duration": 1859,
    "start_time": "2025-07-28T11:58:47.951Z"
   },
   {
    "duration": 157,
    "start_time": "2025-07-28T12:03:54.390Z"
   },
   {
    "duration": 1170,
    "start_time": "2025-07-28T12:03:55.500Z"
   },
   {
    "duration": 1866,
    "start_time": "2025-07-28T12:03:58.502Z"
   },
   {
    "duration": 1932,
    "start_time": "2025-07-28T12:07:08.540Z"
   },
   {
    "duration": 1117,
    "start_time": "2025-07-28T12:09:58.875Z"
   },
   {
    "duration": 15,
    "start_time": "2025-07-28T12:10:20.468Z"
   },
   {
    "duration": 17,
    "start_time": "2025-07-28T12:11:24.259Z"
   },
   {
    "duration": 488,
    "start_time": "2025-07-28T12:11:47.356Z"
   },
   {
    "duration": 16,
    "start_time": "2025-07-28T12:14:39.326Z"
   },
   {
    "duration": 39,
    "start_time": "2025-07-28T12:15:08.331Z"
   },
   {
    "duration": 1340,
    "start_time": "2025-07-28T12:15:24.387Z"
   },
   {
    "duration": 425,
    "start_time": "2025-07-28T12:17:17.271Z"
   },
   {
    "duration": 13,
    "start_time": "2025-07-28T12:18:12.445Z"
   },
   {
    "duration": 55,
    "start_time": "2025-07-28T12:18:45.032Z"
   },
   {
    "duration": 11,
    "start_time": "2025-07-28T12:21:22.917Z"
   },
   {
    "duration": 450,
    "start_time": "2025-07-28T12:22:55.692Z"
   },
   {
    "duration": 12,
    "start_time": "2025-07-28T12:22:56.404Z"
   },
   {
    "duration": 52,
    "start_time": "2025-07-28T12:23:57.122Z"
   },
   {
    "duration": 61,
    "start_time": "2025-07-28T12:24:06.030Z"
   },
   {
    "duration": 17,
    "start_time": "2025-07-28T12:24:52.604Z"
   },
   {
    "duration": 196,
    "start_time": "2025-07-28T12:26:31.360Z"
   },
   {
    "duration": 219,
    "start_time": "2025-07-28T12:26:44.997Z"
   },
   {
    "duration": 3,
    "start_time": "2025-07-28T12:34:59.380Z"
   },
   {
    "duration": 1954,
    "start_time": "2025-07-28T12:35:06.760Z"
   },
   {
    "duration": 24,
    "start_time": "2025-07-28T12:35:12.557Z"
   },
   {
    "duration": 4,
    "start_time": "2025-07-28T12:35:15.176Z"
   },
   {
    "duration": 4,
    "start_time": "2025-07-28T12:35:21.930Z"
   },
   {
    "duration": 5,
    "start_time": "2025-07-28T12:35:42.744Z"
   },
   {
    "duration": 126,
    "start_time": "2025-07-28T12:35:44.162Z"
   },
   {
    "duration": 24,
    "start_time": "2025-07-28T12:35:52.170Z"
   },
   {
    "duration": 274,
    "start_time": "2025-07-28T12:35:52.803Z"
   },
   {
    "duration": 39,
    "start_time": "2025-07-28T12:35:53.341Z"
   },
   {
    "duration": 76,
    "start_time": "2025-07-28T12:35:54.750Z"
   },
   {
    "duration": 72,
    "start_time": "2025-07-28T12:36:02.398Z"
   },
   {
    "duration": 76,
    "start_time": "2025-07-28T12:36:10.550Z"
   },
   {
    "duration": 7249,
    "start_time": "2025-07-28T12:36:11.201Z"
   },
   {
    "duration": 27,
    "start_time": "2025-07-28T12:36:18.452Z"
   },
   {
    "duration": 149,
    "start_time": "2025-07-28T12:36:18.490Z"
   },
   {
    "duration": 3185,
    "start_time": "2025-07-28T12:36:18.643Z"
   },
   {
    "duration": 343,
    "start_time": "2025-07-28T12:36:21.830Z"
   },
   {
    "duration": 492,
    "start_time": "2025-07-28T12:36:22.175Z"
   },
   {
    "duration": 487,
    "start_time": "2025-07-28T12:36:22.669Z"
   },
   {
    "duration": 4123,
    "start_time": "2025-07-28T12:36:23.158Z"
   },
   {
    "duration": 279,
    "start_time": "2025-07-28T12:36:27.289Z"
   },
   {
    "duration": 210,
    "start_time": "2025-07-28T12:36:27.571Z"
   },
   {
    "duration": 78,
    "start_time": "2025-07-28T12:36:27.782Z"
   },
   {
    "duration": 7576,
    "start_time": "2025-07-28T12:36:27.862Z"
   },
   {
    "duration": 5,
    "start_time": "2025-07-28T12:36:35.440Z"
   },
   {
    "duration": 69,
    "start_time": "2025-07-28T12:36:35.447Z"
   },
   {
    "duration": 89,
    "start_time": "2025-07-28T12:36:35.518Z"
   },
   {
    "duration": 133,
    "start_time": "2025-07-28T12:36:35.608Z"
   },
   {
    "duration": 324,
    "start_time": "2025-07-28T12:36:35.742Z"
   },
   {
    "duration": 195,
    "start_time": "2025-07-28T12:36:44.569Z"
   },
   {
    "duration": 1347,
    "start_time": "2025-07-28T12:36:46.931Z"
   },
   {
    "duration": 488,
    "start_time": "2025-07-28T12:36:49.720Z"
   },
   {
    "duration": 1113,
    "start_time": "2025-07-28T12:37:09.486Z"
   },
   {
    "duration": 490,
    "start_time": "2025-07-28T12:37:25.073Z"
   },
   {
    "duration": 1062,
    "start_time": "2025-07-28T12:37:32.261Z"
   },
   {
    "duration": 438,
    "start_time": "2025-07-28T12:37:33.846Z"
   },
   {
    "duration": 58,
    "start_time": "2025-07-28T12:37:34.965Z"
   },
   {
    "duration": 1116,
    "start_time": "2025-07-28T12:38:07.173Z"
   },
   {
    "duration": 452,
    "start_time": "2025-07-28T12:38:08.291Z"
   },
   {
    "duration": 97,
    "start_time": "2025-07-28T12:38:08.745Z"
   },
   {
    "duration": 58,
    "start_time": "2025-07-28T12:38:16.878Z"
   },
   {
    "duration": 185,
    "start_time": "2025-07-28T12:38:17.958Z"
   },
   {
    "duration": 3,
    "start_time": "2025-07-28T12:39:27.996Z"
   },
   {
    "duration": 190,
    "start_time": "2025-07-28T12:39:48.784Z"
   },
   {
    "duration": 90,
    "start_time": "2025-07-28T12:43:42.193Z"
   },
   {
    "duration": 7260,
    "start_time": "2025-07-28T12:43:42.618Z"
   },
   {
    "duration": 51,
    "start_time": "2025-07-28T12:43:49.879Z"
   },
   {
    "duration": 15,
    "start_time": "2025-07-28T12:43:49.931Z"
   },
   {
    "duration": 3120,
    "start_time": "2025-07-28T12:43:49.947Z"
   },
   {
    "duration": 510,
    "start_time": "2025-07-28T12:43:53.068Z"
   },
   {
    "duration": 333,
    "start_time": "2025-07-28T12:43:53.579Z"
   },
   {
    "duration": 910,
    "start_time": "2025-07-28T12:43:53.914Z"
   },
   {
    "duration": 4163,
    "start_time": "2025-07-28T12:43:54.827Z"
   },
   {
    "duration": 282,
    "start_time": "2025-07-28T12:43:58.991Z"
   },
   {
    "duration": 217,
    "start_time": "2025-07-28T12:43:59.275Z"
   },
   {
    "duration": 34,
    "start_time": "2025-07-28T12:43:59.495Z"
   },
   {
    "duration": 7895,
    "start_time": "2025-07-28T12:43:59.531Z"
   },
   {
    "duration": 5,
    "start_time": "2025-07-28T12:44:07.427Z"
   },
   {
    "duration": 45,
    "start_time": "2025-07-28T12:44:07.434Z"
   },
   {
    "duration": 85,
    "start_time": "2025-07-28T12:44:07.480Z"
   },
   {
    "duration": 152,
    "start_time": "2025-07-28T12:44:07.568Z"
   },
   {
    "duration": 314,
    "start_time": "2025-07-28T12:44:07.722Z"
   },
   {
    "duration": 184,
    "start_time": "2025-07-28T12:44:08.038Z"
   },
   {
    "duration": 1369,
    "start_time": "2025-07-28T12:44:08.224Z"
   },
   {
    "duration": 1117,
    "start_time": "2025-07-28T12:44:28.465Z"
   },
   {
    "duration": 1091,
    "start_time": "2025-07-28T12:45:35.240Z"
   },
   {
    "duration": 452,
    "start_time": "2025-07-28T12:45:36.333Z"
   },
   {
    "duration": 71,
    "start_time": "2025-07-28T12:45:36.790Z"
   },
   {
    "duration": 44,
    "start_time": "2025-07-28T12:47:59.931Z"
   },
   {
    "duration": 1553,
    "start_time": "2025-07-28T12:48:19.923Z"
   },
   {
    "duration": 58,
    "start_time": "2025-07-28T12:48:44.170Z"
   },
   {
    "duration": 15,
    "start_time": "2025-07-28T12:50:43.899Z"
   },
   {
    "duration": 60,
    "start_time": "2025-07-28T12:51:34.854Z"
   },
   {
    "duration": 15,
    "start_time": "2025-07-28T12:52:48.268Z"
   },
   {
    "duration": 4131,
    "start_time": "2025-07-28T12:53:24.585Z"
   },
   {
    "duration": 4345,
    "start_time": "2025-07-28T12:53:32.635Z"
   },
   {
    "duration": 2705,
    "start_time": "2025-07-28T12:54:03.990Z"
   },
   {
    "duration": 3,
    "start_time": "2025-07-28T13:02:31.017Z"
   },
   {
    "duration": 1833,
    "start_time": "2025-07-28T13:02:32.466Z"
   },
   {
    "duration": 24,
    "start_time": "2025-07-28T13:02:36.637Z"
   },
   {
    "duration": 4,
    "start_time": "2025-07-28T13:02:40.368Z"
   },
   {
    "duration": 6,
    "start_time": "2025-07-28T13:03:25.699Z"
   },
   {
    "duration": 128,
    "start_time": "2025-07-28T13:05:01.755Z"
   },
   {
    "duration": 116,
    "start_time": "2025-07-28T13:06:11.559Z"
   },
   {
    "duration": 268,
    "start_time": "2025-07-28T13:07:04.783Z"
   },
   {
    "duration": 40,
    "start_time": "2025-07-28T13:07:06.173Z"
   },
   {
    "duration": 72,
    "start_time": "2025-07-28T13:07:08.775Z"
   },
   {
    "duration": 84,
    "start_time": "2025-07-28T13:09:20.109Z"
   },
   {
    "duration": 54,
    "start_time": "2025-07-28T13:13:16.022Z"
   },
   {
    "duration": 15,
    "start_time": "2025-07-28T13:13:16.716Z"
   },
   {
    "duration": 2737,
    "start_time": "2025-07-28T13:13:17.990Z"
   },
   {
    "duration": 357,
    "start_time": "2025-07-28T13:13:20.741Z"
   },
   {
    "duration": 283,
    "start_time": "2025-07-28T13:16:37.228Z"
   },
   {
    "duration": 39,
    "start_time": "2025-07-28T13:16:37.513Z"
   },
   {
    "duration": 73,
    "start_time": "2025-07-28T13:16:37.818Z"
   },
   {
    "duration": 77,
    "start_time": "2025-07-28T13:16:38.221Z"
   },
   {
    "duration": 7158,
    "start_time": "2025-07-28T13:16:38.742Z"
   },
   {
    "duration": 27,
    "start_time": "2025-07-28T13:16:45.902Z"
   },
   {
    "duration": 28,
    "start_time": "2025-07-28T13:16:45.931Z"
   },
   {
    "duration": 3100,
    "start_time": "2025-07-28T13:16:45.961Z"
   },
   {
    "duration": 501,
    "start_time": "2025-07-28T13:16:49.063Z"
   },
   {
    "duration": 310,
    "start_time": "2025-07-28T13:16:49.566Z"
   },
   {
    "duration": 472,
    "start_time": "2025-07-28T13:17:03.572Z"
   },
   {
    "duration": 278,
    "start_time": "2025-07-28T13:17:28.098Z"
   },
   {
    "duration": 49,
    "start_time": "2025-07-28T13:17:28.378Z"
   },
   {
    "duration": 74,
    "start_time": "2025-07-28T13:17:28.676Z"
   },
   {
    "duration": 74,
    "start_time": "2025-07-28T13:17:28.962Z"
   },
   {
    "duration": 7366,
    "start_time": "2025-07-28T13:17:29.128Z"
   },
   {
    "duration": 27,
    "start_time": "2025-07-28T13:17:36.497Z"
   },
   {
    "duration": 216,
    "start_time": "2025-07-28T13:17:36.526Z"
   },
   {
    "duration": 3526,
    "start_time": "2025-07-28T13:17:36.744Z"
   },
   {
    "duration": 339,
    "start_time": "2025-07-28T13:17:40.272Z"
   },
   {
    "duration": 320,
    "start_time": "2025-07-28T13:17:40.613Z"
   },
   {
    "duration": 490,
    "start_time": "2025-07-28T13:17:41.422Z"
   },
   {
    "duration": 4298,
    "start_time": "2025-07-28T13:17:56.442Z"
   },
   {
    "duration": 278,
    "start_time": "2025-07-28T13:18:00.742Z"
   },
   {
    "duration": 216,
    "start_time": "2025-07-28T13:18:06.447Z"
   },
   {
    "duration": 26,
    "start_time": "2025-07-28T13:18:53.498Z"
   },
   {
    "duration": 7692,
    "start_time": "2025-07-28T13:19:02.610Z"
   },
   {
    "duration": 5,
    "start_time": "2025-07-28T13:19:10.304Z"
   },
   {
    "duration": 29,
    "start_time": "2025-07-28T13:19:11.666Z"
   },
   {
    "duration": 79,
    "start_time": "2025-07-28T13:19:12.253Z"
   },
   {
    "duration": 132,
    "start_time": "2025-07-28T13:19:15.414Z"
   },
   {
    "duration": 167,
    "start_time": "2025-07-28T13:23:03.203Z"
   },
   {
    "duration": 48,
    "start_time": "2025-07-29T07:21:40.481Z"
   },
   {
    "duration": 1422,
    "start_time": "2025-07-29T07:21:59.599Z"
   },
   {
    "duration": 2102,
    "start_time": "2025-07-29T07:22:02.006Z"
   },
   {
    "duration": 38,
    "start_time": "2025-07-29T07:22:06.090Z"
   },
   {
    "duration": 4,
    "start_time": "2025-07-29T07:22:08.857Z"
   },
   {
    "duration": 5,
    "start_time": "2025-07-29T07:22:18.880Z"
   },
   {
    "duration": 164,
    "start_time": "2025-07-29T07:22:30.174Z"
   },
   {
    "duration": 340,
    "start_time": "2025-07-29T07:22:32.575Z"
   },
   {
    "duration": 37,
    "start_time": "2025-07-29T07:22:38.260Z"
   },
   {
    "duration": 67,
    "start_time": "2025-07-29T07:22:51.900Z"
   },
   {
    "duration": 82,
    "start_time": "2025-07-29T07:23:15.947Z"
   },
   {
    "duration": 7023,
    "start_time": "2025-07-29T07:23:21.636Z"
   },
   {
    "duration": 35,
    "start_time": "2025-07-29T07:26:00.826Z"
   },
   {
    "duration": 16,
    "start_time": "2025-07-29T07:26:06.120Z"
   },
   {
    "duration": 3060,
    "start_time": "2025-07-29T07:26:09.878Z"
   },
   {
    "duration": 331,
    "start_time": "2025-07-29T07:26:56.538Z"
   },
   {
    "duration": 298,
    "start_time": "2025-07-29T07:26:57.299Z"
   },
   {
    "duration": 42,
    "start_time": "2025-07-29T07:32:55.030Z"
   },
   {
    "duration": 14,
    "start_time": "2025-07-29T07:32:56.347Z"
   },
   {
    "duration": 2726,
    "start_time": "2025-07-29T07:33:00.327Z"
   },
   {
    "duration": 304,
    "start_time": "2025-07-29T07:35:29.917Z"
   },
   {
    "duration": 3940,
    "start_time": "2025-07-29T07:36:10.001Z"
   },
   {
    "duration": 276,
    "start_time": "2025-07-29T07:38:54.989Z"
   },
   {
    "duration": 205,
    "start_time": "2025-07-29T07:40:42.024Z"
   },
   {
    "duration": 54,
    "start_time": "2025-07-29T07:40:47.076Z"
   },
   {
    "duration": 6761,
    "start_time": "2025-07-29T07:40:55.345Z"
   },
   {
    "duration": 6,
    "start_time": "2025-07-29T07:41:02.108Z"
   },
   {
    "duration": 79,
    "start_time": "2025-07-29T07:41:02.115Z"
   },
   {
    "duration": 73,
    "start_time": "2025-07-29T07:41:02.196Z"
   },
   {
    "duration": 130,
    "start_time": "2025-07-29T07:41:02.271Z"
   },
   {
    "duration": 312,
    "start_time": "2025-07-29T07:41:55.835Z"
   },
   {
    "duration": 161,
    "start_time": "2025-07-29T07:42:05.040Z"
   },
   {
    "duration": 1272,
    "start_time": "2025-07-29T07:42:15.329Z"
   },
   {
    "duration": 1194,
    "start_time": "2025-07-29T07:44:49.173Z"
   },
   {
    "duration": 412,
    "start_time": "2025-07-29T07:46:03.797Z"
   },
   {
    "duration": 54,
    "start_time": "2025-07-29T07:46:50.275Z"
   },
   {
    "duration": 187,
    "start_time": "2025-07-29T07:46:51.815Z"
   },
   {
    "duration": 64,
    "start_time": "2025-07-29T07:46:56.891Z"
   },
   {
    "duration": 2389,
    "start_time": "2025-07-29T07:46:59.165Z"
   },
   {
    "duration": 1241,
    "start_time": "2025-07-29T09:01:58.615Z"
   },
   {
    "duration": 3664,
    "start_time": "2025-07-29T09:01:59.859Z"
   },
   {
    "duration": 40,
    "start_time": "2025-07-29T09:02:03.525Z"
   },
   {
    "duration": 5,
    "start_time": "2025-07-29T09:02:03.568Z"
   },
   {
    "duration": 28,
    "start_time": "2025-07-29T09:02:03.576Z"
   },
   {
    "duration": 195,
    "start_time": "2025-07-29T09:02:03.605Z"
   },
   {
    "duration": 354,
    "start_time": "2025-07-29T09:02:03.802Z"
   },
   {
    "duration": 34,
    "start_time": "2025-07-29T09:02:04.157Z"
   },
   {
    "duration": 90,
    "start_time": "2025-07-29T09:02:04.193Z"
   },
   {
    "duration": 95,
    "start_time": "2025-07-29T09:02:04.285Z"
   },
   {
    "duration": 7335,
    "start_time": "2025-07-29T09:02:04.383Z"
   },
   {
    "duration": 44,
    "start_time": "2025-07-29T09:02:11.720Z"
   },
   {
    "duration": 21,
    "start_time": "2025-07-29T09:02:11.765Z"
   },
   {
    "duration": 3264,
    "start_time": "2025-07-29T09:02:11.790Z"
   },
   {
    "duration": 409,
    "start_time": "2025-07-29T09:02:15.057Z"
   },
   {
    "duration": 321,
    "start_time": "2025-07-29T09:02:15.468Z"
   },
   {
    "duration": 4153,
    "start_time": "2025-07-29T09:02:15.791Z"
   },
   {
    "duration": 265,
    "start_time": "2025-07-29T09:02:19.948Z"
   },
   {
    "duration": 206,
    "start_time": "2025-07-29T09:02:20.214Z"
   },
   {
    "duration": 62,
    "start_time": "2025-07-29T09:02:20.422Z"
   },
   {
    "duration": 7721,
    "start_time": "2025-07-29T09:02:20.486Z"
   },
   {
    "duration": 6,
    "start_time": "2025-07-29T09:02:28.209Z"
   },
   {
    "duration": 80,
    "start_time": "2025-07-29T09:02:28.217Z"
   },
   {
    "duration": 87,
    "start_time": "2025-07-29T09:02:28.299Z"
   },
   {
    "duration": 137,
    "start_time": "2025-07-29T09:02:28.388Z"
   },
   {
    "duration": 320,
    "start_time": "2025-07-29T09:02:28.536Z"
   },
   {
    "duration": 176,
    "start_time": "2025-07-29T09:02:28.861Z"
   },
   {
    "duration": 1282,
    "start_time": "2025-07-29T09:02:29.038Z"
   },
   {
    "duration": 526,
    "start_time": "2025-07-29T09:02:30.322Z"
   },
   {
    "duration": 1237,
    "start_time": "2025-07-29T09:02:30.849Z"
   },
   {
    "duration": 479,
    "start_time": "2025-07-29T09:02:32.088Z"
   },
   {
    "duration": 102,
    "start_time": "2025-07-29T09:02:32.569Z"
   },
   {
    "duration": 208,
    "start_time": "2025-07-29T09:02:32.673Z"
   },
   {
    "duration": 78,
    "start_time": "2025-07-29T09:02:32.883Z"
   },
   {
    "duration": 2614,
    "start_time": "2025-07-29T09:02:32.963Z"
   },
   {
    "duration": 50,
    "start_time": "2025-07-31T08:45:31.043Z"
   },
   {
    "duration": 1321,
    "start_time": "2025-07-31T08:51:17.111Z"
   },
   {
    "duration": 1742,
    "start_time": "2025-07-31T08:51:18.434Z"
   },
   {
    "duration": 25,
    "start_time": "2025-07-31T08:51:20.651Z"
   },
   {
    "duration": 4,
    "start_time": "2025-07-31T08:51:22.023Z"
   },
   {
    "duration": 6,
    "start_time": "2025-07-31T08:51:26.453Z"
   },
   {
    "duration": 156,
    "start_time": "2025-07-31T08:51:28.858Z"
   },
   {
    "duration": 314,
    "start_time": "2025-07-31T08:51:42.606Z"
   },
   {
    "duration": 35,
    "start_time": "2025-07-31T08:51:43.921Z"
   },
   {
    "duration": 66,
    "start_time": "2025-07-31T08:51:48.953Z"
   },
   {
    "duration": 6,
    "start_time": "2025-07-31T08:52:05.289Z"
   },
   {
    "duration": 31,
    "start_time": "2025-07-31T08:52:05.807Z"
   },
   {
    "duration": 294,
    "start_time": "2025-07-31T08:52:06.856Z"
   },
   {
    "duration": 33,
    "start_time": "2025-07-31T08:52:07.419Z"
   },
   {
    "duration": 65,
    "start_time": "2025-07-31T08:52:09.726Z"
   },
   {
    "duration": 78,
    "start_time": "2025-07-31T08:55:05.432Z"
   },
   {
    "duration": 6555,
    "start_time": "2025-07-31T08:55:37.082Z"
   },
   {
    "duration": 46,
    "start_time": "2025-07-31T08:55:43.639Z"
   },
   {
    "duration": 16,
    "start_time": "2025-07-31T08:55:43.686Z"
   },
   {
    "duration": 2885,
    "start_time": "2025-07-31T08:55:43.704Z"
   },
   {
    "duration": 294,
    "start_time": "2025-07-31T08:55:47.356Z"
   },
   {
    "duration": 105,
    "start_time": "2025-07-31T08:58:14.761Z"
   },
   {
    "duration": 83,
    "start_time": "2025-07-31T08:58:27.496Z"
   },
   {
    "duration": 6558,
    "start_time": "2025-07-31T09:02:20.697Z"
   },
   {
    "duration": 30,
    "start_time": "2025-07-31T09:02:27.257Z"
   },
   {
    "duration": 14,
    "start_time": "2025-07-31T09:02:27.289Z"
   },
   {
    "duration": 2913,
    "start_time": "2025-07-31T09:02:27.305Z"
   },
   {
    "duration": 39,
    "start_time": "2025-07-31T09:03:45.358Z"
   },
   {
    "duration": 67,
    "start_time": "2025-07-31T09:03:51.461Z"
   },
   {
    "duration": 3780,
    "start_time": "2025-07-31T09:04:00.228Z"
   },
   {
    "duration": 250,
    "start_time": "2025-07-31T09:04:04.010Z"
   },
   {
    "duration": 208,
    "start_time": "2025-07-31T09:04:04.261Z"
   },
   {
    "duration": 40,
    "start_time": "2025-07-31T09:04:04.472Z"
   },
   {
    "duration": 6862,
    "start_time": "2025-07-31T09:04:04.934Z"
   },
   {
    "duration": 35,
    "start_time": "2025-07-31T09:04:41.400Z"
   },
   {
    "duration": 248,
    "start_time": "2025-07-31T09:05:02.678Z"
   },
   {
    "duration": 207,
    "start_time": "2025-07-31T09:05:02.928Z"
   },
   {
    "duration": 31,
    "start_time": "2025-07-31T09:05:04.331Z"
   },
   {
    "duration": 6782,
    "start_time": "2025-07-31T09:05:07.672Z"
   },
   {
    "duration": 5,
    "start_time": "2025-07-31T09:05:14.456Z"
   },
   {
    "duration": 27,
    "start_time": "2025-07-31T09:05:14.952Z"
   },
   {
    "duration": 68,
    "start_time": "2025-07-31T09:05:18.702Z"
   },
   {
    "duration": 44,
    "start_time": "2025-07-31T09:05:40.964Z"
   },
   {
    "duration": 6722,
    "start_time": "2025-07-31T09:05:41.009Z"
   },
   {
    "duration": 5,
    "start_time": "2025-07-31T09:05:47.733Z"
   },
   {
    "duration": 77,
    "start_time": "2025-07-31T09:05:47.739Z"
   },
   {
    "duration": 69,
    "start_time": "2025-07-31T09:05:47.817Z"
   },
   {
    "duration": 124,
    "start_time": "2025-07-31T09:05:47.888Z"
   },
   {
    "duration": 148,
    "start_time": "2025-07-31T09:06:05.792Z"
   },
   {
    "duration": 6511,
    "start_time": "2025-07-31T09:06:19.567Z"
   },
   {
    "duration": 31,
    "start_time": "2025-07-31T09:06:26.080Z"
   },
   {
    "duration": 26,
    "start_time": "2025-07-31T09:06:26.113Z"
   },
   {
    "duration": 2797,
    "start_time": "2025-07-31T09:06:26.141Z"
   },
   {
    "duration": 327,
    "start_time": "2025-07-31T09:06:28.939Z"
   },
   {
    "duration": 284,
    "start_time": "2025-07-31T09:06:29.277Z"
   },
   {
    "duration": 3838,
    "start_time": "2025-07-31T09:06:29.563Z"
   },
   {
    "duration": 253,
    "start_time": "2025-07-31T09:06:33.403Z"
   },
   {
    "duration": 241,
    "start_time": "2025-07-31T09:06:33.658Z"
   },
   {
    "duration": 37,
    "start_time": "2025-07-31T09:06:33.902Z"
   },
   {
    "duration": 7036,
    "start_time": "2025-07-31T09:06:33.941Z"
   },
   {
    "duration": 7,
    "start_time": "2025-07-31T09:06:40.979Z"
   },
   {
    "duration": 30,
    "start_time": "2025-07-31T09:06:40.987Z"
   },
   {
    "duration": 92,
    "start_time": "2025-07-31T09:06:41.019Z"
   },
   {
    "duration": 149,
    "start_time": "2025-07-31T09:06:41.113Z"
   },
   {
    "duration": 294,
    "start_time": "2025-07-31T09:06:57.640Z"
   },
   {
    "duration": 162,
    "start_time": "2025-07-31T09:08:28.676Z"
   },
   {
    "duration": 151,
    "start_time": "2025-07-31T09:09:06.036Z"
   },
   {
    "duration": 314,
    "start_time": "2025-07-31T09:09:23.938Z"
   },
   {
    "duration": 152,
    "start_time": "2025-07-31T09:09:25.570Z"
   },
   {
    "duration": 158,
    "start_time": "2025-07-31T09:10:47.762Z"
   },
   {
    "duration": 1298,
    "start_time": "2025-07-31T09:10:50.772Z"
   },
   {
    "duration": 470,
    "start_time": "2025-07-31T09:10:55.600Z"
   },
   {
    "duration": 1097,
    "start_time": "2025-07-31T09:10:59.489Z"
   },
   {
    "duration": 392,
    "start_time": "2025-07-31T09:11:02.698Z"
   },
   {
    "duration": 57,
    "start_time": "2025-07-31T09:11:06.115Z"
   },
   {
    "duration": 172,
    "start_time": "2025-07-31T09:11:08.524Z"
   },
   {
    "duration": 389,
    "start_time": "2025-07-31T09:12:37.315Z"
   },
   {
    "duration": 737,
    "start_time": "2025-07-31T09:14:19.780Z"
   },
   {
    "duration": 707,
    "start_time": "2025-07-31T09:14:34.353Z"
   },
   {
    "duration": 705,
    "start_time": "2025-07-31T09:14:41.684Z"
   },
   {
    "duration": 676,
    "start_time": "2025-07-31T09:17:57.487Z"
   },
   {
    "duration": 695,
    "start_time": "2025-07-31T09:19:46.262Z"
   },
   {
    "duration": 756,
    "start_time": "2025-07-31T09:20:38.489Z"
   },
   {
    "duration": 798,
    "start_time": "2025-07-31T09:20:53.755Z"
   },
   {
    "duration": 550,
    "start_time": "2025-07-31T09:27:22.854Z"
   },
   {
    "duration": 416,
    "start_time": "2025-07-31T09:27:52.065Z"
   },
   {
    "duration": 1044,
    "start_time": "2025-07-31T09:27:57.009Z"
   },
   {
    "duration": 490,
    "start_time": "2025-07-31T09:27:58.056Z"
   },
   {
    "duration": 1121,
    "start_time": "2025-07-31T09:28:00.200Z"
   },
   {
    "duration": 416,
    "start_time": "2025-07-31T09:28:02.298Z"
   },
   {
    "duration": 694,
    "start_time": "2025-07-31T09:28:04.675Z"
   },
   {
    "duration": 780,
    "start_time": "2025-07-31T09:28:34.370Z"
   },
   {
    "duration": 63,
    "start_time": "2025-07-31T09:36:51.682Z"
   },
   {
    "duration": 63,
    "start_time": "2025-07-31T09:37:18.761Z"
   },
   {
    "duration": 65,
    "start_time": "2025-07-31T09:39:55.993Z"
   },
   {
    "duration": 2802,
    "start_time": "2025-07-31T09:40:52.824Z"
   },
   {
    "duration": 2344,
    "start_time": "2025-07-31T09:41:40.912Z"
   },
   {
    "duration": 419,
    "start_time": "2025-07-31T09:46:11.707Z"
   },
   {
    "duration": 675,
    "start_time": "2025-07-31T09:46:17.292Z"
   },
   {
    "duration": 816,
    "start_time": "2025-07-31T09:47:22.052Z"
   },
   {
    "duration": 888,
    "start_time": "2025-07-31T09:47:37.965Z"
   },
   {
    "duration": 35,
    "start_time": "2025-07-31T09:53:16.405Z"
   },
   {
    "duration": 6856,
    "start_time": "2025-07-31T09:53:18.394Z"
   },
   {
    "duration": 7039,
    "start_time": "2025-07-31T09:53:48.000Z"
   },
   {
    "duration": 3,
    "start_time": "2025-07-31T09:58:39.877Z"
   },
   {
    "duration": 1872,
    "start_time": "2025-07-31T09:58:41.750Z"
   },
   {
    "duration": 22,
    "start_time": "2025-07-31T09:58:43.624Z"
   },
   {
    "duration": 3,
    "start_time": "2025-07-31T09:58:45.326Z"
   },
   {
    "duration": 5,
    "start_time": "2025-07-31T09:59:18.769Z"
   },
   {
    "duration": 7,
    "start_time": "2025-07-31T09:59:39.742Z"
   },
   {
    "duration": 117,
    "start_time": "2025-07-31T09:59:46.075Z"
   },
   {
    "duration": 264,
    "start_time": "2025-07-31T09:59:47.585Z"
   },
   {
    "duration": 36,
    "start_time": "2025-07-31T09:59:48.945Z"
   },
   {
    "duration": 68,
    "start_time": "2025-07-31T09:59:53.031Z"
   },
   {
    "duration": 106,
    "start_time": "2025-07-31T09:59:58.427Z"
   },
   {
    "duration": 6710,
    "start_time": "2025-07-31T10:00:01.799Z"
   },
   {
    "duration": 27,
    "start_time": "2025-07-31T10:00:08.510Z"
   },
   {
    "duration": 13,
    "start_time": "2025-07-31T10:00:08.539Z"
   },
   {
    "duration": 3061,
    "start_time": "2025-07-31T10:00:08.554Z"
   },
   {
    "duration": 333,
    "start_time": "2025-07-31T10:00:11.617Z"
   },
   {
    "duration": 329,
    "start_time": "2025-07-31T10:00:11.952Z"
   },
   {
    "duration": 3823,
    "start_time": "2025-07-31T10:00:12.284Z"
   },
   {
    "duration": 255,
    "start_time": "2025-07-31T10:00:16.110Z"
   },
   {
    "duration": 212,
    "start_time": "2025-07-31T10:00:16.367Z"
   },
   {
    "duration": 42,
    "start_time": "2025-07-31T10:00:16.581Z"
   },
   {
    "duration": 7152,
    "start_time": "2025-07-31T10:00:17.746Z"
   },
   {
    "duration": 6,
    "start_time": "2025-07-31T10:00:24.900Z"
   },
   {
    "duration": 148,
    "start_time": "2025-07-31T10:00:24.907Z"
   },
   {
    "duration": 96,
    "start_time": "2025-07-31T10:00:25.057Z"
   },
   {
    "duration": 136,
    "start_time": "2025-07-31T10:00:25.155Z"
   },
   {
    "duration": 312,
    "start_time": "2025-07-31T10:00:32.212Z"
   },
   {
    "duration": 4,
    "start_time": "2025-07-31T10:01:10.285Z"
   },
   {
    "duration": 4,
    "start_time": "2025-07-31T10:01:27.524Z"
   },
   {
    "duration": 4,
    "start_time": "2025-07-31T10:03:07.510Z"
   },
   {
    "duration": 3747,
    "start_time": "2025-07-31T10:03:14.546Z"
   },
   {
    "duration": 256,
    "start_time": "2025-07-31T10:03:18.296Z"
   },
   {
    "duration": 207,
    "start_time": "2025-07-31T10:03:18.554Z"
   },
   {
    "duration": 35,
    "start_time": "2025-07-31T10:03:18.763Z"
   },
   {
    "duration": 7003,
    "start_time": "2025-07-31T10:03:18.799Z"
   },
   {
    "duration": 5,
    "start_time": "2025-07-31T10:03:25.804Z"
   },
   {
    "duration": 118,
    "start_time": "2025-07-31T10:03:25.810Z"
   },
   {
    "duration": 72,
    "start_time": "2025-07-31T10:03:25.930Z"
   },
   {
    "duration": 142,
    "start_time": "2025-07-31T10:03:26.004Z"
   },
   {
    "duration": 374,
    "start_time": "2025-07-31T10:03:26.148Z"
   },
   {
    "duration": 5,
    "start_time": "2025-07-31T10:03:26.524Z"
   },
   {
    "duration": 147,
    "start_time": "2025-07-31T10:04:37.327Z"
   },
   {
    "duration": 1265,
    "start_time": "2025-07-31T10:04:40.476Z"
   },
   {
    "duration": 428,
    "start_time": "2025-07-31T10:04:42.408Z"
   },
   {
    "duration": 1026,
    "start_time": "2025-07-31T10:04:44.715Z"
   },
   {
    "duration": 404,
    "start_time": "2025-07-31T10:04:46.593Z"
   },
   {
    "duration": 663,
    "start_time": "2025-07-31T10:04:49.907Z"
   },
   {
    "duration": 748,
    "start_time": "2025-07-31T10:04:54.010Z"
   },
   {
    "duration": 3,
    "start_time": "2025-07-31T10:34:52.341Z"
   },
   {
    "duration": 1675,
    "start_time": "2025-07-31T10:34:53.774Z"
   },
   {
    "duration": 31,
    "start_time": "2025-07-31T10:34:55.451Z"
   },
   {
    "duration": 3,
    "start_time": "2025-07-31T10:34:57.111Z"
   },
   {
    "duration": 6,
    "start_time": "2025-07-31T10:35:05.466Z"
   },
   {
    "duration": 8,
    "start_time": "2025-07-31T10:35:10.044Z"
   },
   {
    "duration": 117,
    "start_time": "2025-07-31T10:35:12.443Z"
   },
   {
    "duration": 262,
    "start_time": "2025-07-31T10:35:14.560Z"
   },
   {
    "duration": 38,
    "start_time": "2025-07-31T10:35:15.921Z"
   },
   {
    "duration": 65,
    "start_time": "2025-07-31T10:35:18.415Z"
   },
   {
    "duration": 85,
    "start_time": "2025-07-31T10:35:22.323Z"
   },
   {
    "duration": 6452,
    "start_time": "2025-07-31T10:35:24.187Z"
   },
   {
    "duration": 36,
    "start_time": "2025-07-31T10:35:30.641Z"
   },
   {
    "duration": 14,
    "start_time": "2025-07-31T10:35:30.678Z"
   },
   {
    "duration": 3001,
    "start_time": "2025-07-31T10:35:30.694Z"
   },
   {
    "duration": 322,
    "start_time": "2025-07-31T10:35:33.697Z"
   },
   {
    "duration": 468,
    "start_time": "2025-07-31T10:35:34.021Z"
   },
   {
    "duration": 3685,
    "start_time": "2025-07-31T10:35:35.576Z"
   },
   {
    "duration": 244,
    "start_time": "2025-07-31T10:35:39.263Z"
   },
   {
    "duration": 201,
    "start_time": "2025-07-31T10:35:39.509Z"
   },
   {
    "duration": 30,
    "start_time": "2025-07-31T10:35:39.712Z"
   },
   {
    "duration": 6879,
    "start_time": "2025-07-31T10:35:39.815Z"
   },
   {
    "duration": 5,
    "start_time": "2025-07-31T10:35:46.696Z"
   },
   {
    "duration": 122,
    "start_time": "2025-07-31T10:35:46.703Z"
   },
   {
    "duration": 72,
    "start_time": "2025-07-31T10:35:46.828Z"
   },
   {
    "duration": 140,
    "start_time": "2025-07-31T10:35:46.902Z"
   },
   {
    "duration": 294,
    "start_time": "2025-07-31T10:35:47.941Z"
   },
   {
    "duration": 155,
    "start_time": "2025-07-31T10:35:51.789Z"
   },
   {
    "duration": 1275,
    "start_time": "2025-07-31T10:35:55.052Z"
   },
   {
    "duration": 473,
    "start_time": "2025-07-31T10:35:57.152Z"
   },
   {
    "duration": 1054,
    "start_time": "2025-07-31T10:35:59.892Z"
   },
   {
    "duration": 439,
    "start_time": "2025-07-31T10:36:01.730Z"
   },
   {
    "duration": 670,
    "start_time": "2025-07-31T10:36:04.516Z"
   },
   {
    "duration": 800,
    "start_time": "2025-07-31T10:36:07.548Z"
   },
   {
    "duration": 65,
    "start_time": "2025-07-31T10:36:18.612Z"
   },
   {
    "duration": 2390,
    "start_time": "2025-07-31T10:36:20.249Z"
   },
   {
    "duration": 1396,
    "start_time": "2025-08-01T08:25:53.329Z"
   },
   {
    "duration": 2024,
    "start_time": "2025-08-01T08:25:54.728Z"
   },
   {
    "duration": 31,
    "start_time": "2025-08-01T08:25:56.754Z"
   },
   {
    "duration": 5,
    "start_time": "2025-08-01T08:25:58.118Z"
   },
   {
    "duration": 7,
    "start_time": "2025-08-01T08:26:07.256Z"
   },
   {
    "duration": 158,
    "start_time": "2025-08-01T08:26:10.008Z"
   },
   {
    "duration": 326,
    "start_time": "2025-08-01T08:26:11.521Z"
   },
   {
    "duration": 45,
    "start_time": "2025-08-01T08:26:11.849Z"
   },
   {
    "duration": 67,
    "start_time": "2025-08-01T08:26:18.016Z"
   },
   {
    "duration": 122,
    "start_time": "2025-08-01T08:26:21.523Z"
   },
   {
    "duration": 6876,
    "start_time": "2025-08-01T08:26:23.808Z"
   },
   {
    "duration": 31,
    "start_time": "2025-08-01T08:26:30.687Z"
   },
   {
    "duration": 71,
    "start_time": "2025-08-01T08:26:30.720Z"
   },
   {
    "duration": 3126,
    "start_time": "2025-08-01T08:26:30.793Z"
   },
   {
    "duration": 328,
    "start_time": "2025-08-01T08:26:33.921Z"
   },
   {
    "duration": 301,
    "start_time": "2025-08-01T08:26:34.250Z"
   },
   {
    "duration": 3777,
    "start_time": "2025-08-01T08:26:35.087Z"
   },
   {
    "duration": 244,
    "start_time": "2025-08-01T08:26:38.876Z"
   },
   {
    "duration": 213,
    "start_time": "2025-08-01T08:26:39.121Z"
   },
   {
    "duration": 37,
    "start_time": "2025-08-01T08:26:39.945Z"
   },
   {
    "duration": 6942,
    "start_time": "2025-08-01T08:26:42.494Z"
   },
   {
    "duration": 5,
    "start_time": "2025-08-01T08:26:51.091Z"
   },
   {
    "duration": 83,
    "start_time": "2025-08-01T08:26:51.098Z"
   },
   {
    "duration": 78,
    "start_time": "2025-08-01T08:26:51.183Z"
   },
   {
    "duration": 138,
    "start_time": "2025-08-01T08:26:51.263Z"
   },
   {
    "duration": 316,
    "start_time": "2025-08-01T08:26:51.403Z"
   },
   {
    "duration": 4,
    "start_time": "2025-08-01T08:28:00.034Z"
   },
   {
    "duration": 4,
    "start_time": "2025-08-01T08:29:16.559Z"
   },
   {
    "duration": 31,
    "start_time": "2025-08-01T08:32:15.278Z"
   },
   {
    "duration": 6802,
    "start_time": "2025-08-01T08:32:17.208Z"
   },
   {
    "duration": 6,
    "start_time": "2025-08-01T08:32:51.497Z"
   },
   {
    "duration": 6867,
    "start_time": "2025-08-01T08:33:13.972Z"
   },
   {
    "duration": 6,
    "start_time": "2025-08-01T08:33:20.840Z"
   },
   {
    "duration": 51,
    "start_time": "2025-08-01T08:33:20.848Z"
   },
   {
    "duration": 167,
    "start_time": "2025-08-01T08:33:20.901Z"
   },
   {
    "duration": 193,
    "start_time": "2025-08-01T08:33:21.069Z"
   },
   {
    "duration": 288,
    "start_time": "2025-08-01T08:33:24.772Z"
   },
   {
    "duration": 3,
    "start_time": "2025-08-01T08:33:35.269Z"
   },
   {
    "duration": 98,
    "start_time": "2025-08-01T08:34:05.285Z"
   },
   {
    "duration": 10,
    "start_time": "2025-08-01T08:38:43.490Z"
   },
   {
    "duration": 4,
    "start_time": "2025-08-01T08:39:07.403Z"
   },
   {
    "duration": 4,
    "start_time": "2025-08-01T08:39:39.997Z"
   },
   {
    "duration": 4,
    "start_time": "2025-08-01T08:43:17.430Z"
   },
   {
    "duration": 3,
    "start_time": "2025-08-01T08:43:47.052Z"
   },
   {
    "duration": 48,
    "start_time": "2025-08-01T08:45:52.153Z"
   },
   {
    "duration": 182,
    "start_time": "2025-08-01T08:45:56.161Z"
   },
   {
    "duration": 328,
    "start_time": "2025-08-01T08:45:56.344Z"
   },
   {
    "duration": 34,
    "start_time": "2025-08-01T08:45:56.676Z"
   },
   {
    "duration": 84,
    "start_time": "2025-08-01T08:45:56.712Z"
   },
   {
    "duration": 117,
    "start_time": "2025-08-01T08:45:56.798Z"
   },
   {
    "duration": 7086,
    "start_time": "2025-08-01T08:45:56.916Z"
   },
   {
    "duration": 31,
    "start_time": "2025-08-01T08:46:04.004Z"
   },
   {
    "duration": 64,
    "start_time": "2025-08-01T08:46:04.036Z"
   },
   {
    "duration": 3091,
    "start_time": "2025-08-01T08:46:04.104Z"
   },
   {
    "duration": 324,
    "start_time": "2025-08-01T08:46:07.197Z"
   },
   {
    "duration": 307,
    "start_time": "2025-08-01T08:46:07.523Z"
   },
   {
    "duration": 3798,
    "start_time": "2025-08-01T08:46:07.832Z"
   },
   {
    "duration": 256,
    "start_time": "2025-08-01T08:46:11.632Z"
   },
   {
    "duration": 225,
    "start_time": "2025-08-01T08:46:11.889Z"
   },
   {
    "duration": 29,
    "start_time": "2025-08-01T08:46:12.116Z"
   },
   {
    "duration": 7111,
    "start_time": "2025-08-01T08:46:12.146Z"
   },
   {
    "duration": 7,
    "start_time": "2025-08-01T08:46:19.258Z"
   },
   {
    "duration": 59,
    "start_time": "2025-08-01T08:46:19.277Z"
   },
   {
    "duration": 70,
    "start_time": "2025-08-01T08:46:19.338Z"
   },
   {
    "duration": 136,
    "start_time": "2025-08-01T08:46:19.409Z"
   },
   {
    "duration": 301,
    "start_time": "2025-08-01T08:46:19.547Z"
   },
   {
    "duration": 0,
    "start_time": "2025-08-01T08:46:19.993Z"
   },
   {
    "duration": 0,
    "start_time": "2025-08-01T08:46:19.993Z"
   },
   {
    "duration": 0,
    "start_time": "2025-08-01T08:46:19.995Z"
   },
   {
    "duration": 0,
    "start_time": "2025-08-01T08:46:19.996Z"
   },
   {
    "duration": 0,
    "start_time": "2025-08-01T08:46:19.997Z"
   },
   {
    "duration": 0,
    "start_time": "2025-08-01T08:46:19.998Z"
   },
   {
    "duration": 0,
    "start_time": "2025-08-01T08:46:19.999Z"
   },
   {
    "duration": 0,
    "start_time": "2025-08-01T08:46:20.001Z"
   },
   {
    "duration": 4,
    "start_time": "2025-08-01T08:46:28.446Z"
   },
   {
    "duration": 14,
    "start_time": "2025-08-01T08:46:38.121Z"
   },
   {
    "duration": 35,
    "start_time": "2025-08-01T08:50:28.863Z"
   },
   {
    "duration": 354,
    "start_time": "2025-08-01T08:50:33.077Z"
   },
   {
    "duration": 35,
    "start_time": "2025-08-01T08:50:36.399Z"
   },
   {
    "duration": 98,
    "start_time": "2025-08-01T08:50:39.135Z"
   },
   {
    "duration": 120,
    "start_time": "2025-08-01T08:50:43.996Z"
   },
   {
    "duration": 6927,
    "start_time": "2025-08-01T08:50:46.754Z"
   },
   {
    "duration": 32,
    "start_time": "2025-08-01T08:50:53.683Z"
   },
   {
    "duration": 13,
    "start_time": "2025-08-01T08:50:53.717Z"
   },
   {
    "duration": 2598,
    "start_time": "2025-08-01T08:50:53.732Z"
   },
   {
    "duration": 329,
    "start_time": "2025-08-01T08:50:56.332Z"
   },
   {
    "duration": 314,
    "start_time": "2025-08-01T08:50:56.662Z"
   },
   {
    "duration": 3187,
    "start_time": "2025-08-01T08:51:02.296Z"
   },
   {
    "duration": 248,
    "start_time": "2025-08-01T08:51:05.485Z"
   },
   {
    "duration": 202,
    "start_time": "2025-08-01T08:51:06.139Z"
   },
   {
    "duration": 37,
    "start_time": "2025-08-01T08:51:09.770Z"
   },
   {
    "duration": 5264,
    "start_time": "2025-08-01T08:51:11.438Z"
   },
   {
    "duration": 5,
    "start_time": "2025-08-01T08:51:20.739Z"
   },
   {
    "duration": 14,
    "start_time": "2025-08-01T08:51:21.647Z"
   },
   {
    "duration": 3,
    "start_time": "2025-08-01T08:53:39.649Z"
   },
   {
    "duration": 1526,
    "start_time": "2025-08-01T08:53:41.685Z"
   },
   {
    "duration": 22,
    "start_time": "2025-08-01T08:53:43.213Z"
   },
   {
    "duration": 5,
    "start_time": "2025-08-01T08:53:48.611Z"
   },
   {
    "duration": 9,
    "start_time": "2025-08-01T08:53:53.808Z"
   },
   {
    "duration": 111,
    "start_time": "2025-08-01T08:54:02.468Z"
   },
   {
    "duration": 264,
    "start_time": "2025-08-01T08:54:07.678Z"
   },
   {
    "duration": 36,
    "start_time": "2025-08-01T08:54:08.133Z"
   },
   {
    "duration": 65,
    "start_time": "2025-08-01T08:54:11.586Z"
   },
   {
    "duration": 92,
    "start_time": "2025-08-01T08:54:15.086Z"
   },
   {
    "duration": 6820,
    "start_time": "2025-08-01T08:54:17.609Z"
   },
   {
    "duration": 30,
    "start_time": "2025-08-01T08:54:24.431Z"
   },
   {
    "duration": 14,
    "start_time": "2025-08-01T08:54:24.475Z"
   },
   {
    "duration": 2983,
    "start_time": "2025-08-01T08:54:24.491Z"
   },
   {
    "duration": 335,
    "start_time": "2025-08-01T08:54:27.971Z"
   },
   {
    "duration": 297,
    "start_time": "2025-08-01T08:54:41.057Z"
   },
   {
    "duration": 3839,
    "start_time": "2025-08-01T08:54:43.048Z"
   },
   {
    "duration": 244,
    "start_time": "2025-08-01T08:54:46.889Z"
   },
   {
    "duration": 207,
    "start_time": "2025-08-01T08:54:53.534Z"
   },
   {
    "duration": 29,
    "start_time": "2025-08-01T08:54:56.344Z"
   },
   {
    "duration": 7082,
    "start_time": "2025-08-01T08:54:58.452Z"
   },
   {
    "duration": 6,
    "start_time": "2025-08-01T08:55:05.536Z"
   },
   {
    "duration": 65,
    "start_time": "2025-08-01T08:55:05.543Z"
   },
   {
    "duration": 66,
    "start_time": "2025-08-01T08:55:05.611Z"
   },
   {
    "duration": 155,
    "start_time": "2025-08-01T08:55:05.679Z"
   },
   {
    "duration": 283,
    "start_time": "2025-08-01T08:55:11.141Z"
   },
   {
    "duration": 4,
    "start_time": "2025-08-01T08:55:23.485Z"
   },
   {
    "duration": 13,
    "start_time": "2025-08-01T08:56:41.603Z"
   },
   {
    "duration": 275,
    "start_time": "2025-08-01T08:57:08.640Z"
   },
   {
    "duration": 3,
    "start_time": "2025-08-01T08:57:11.433Z"
   },
   {
    "duration": 159,
    "start_time": "2025-08-01T08:57:14.601Z"
   },
   {
    "duration": 157,
    "start_time": "2025-08-01T08:58:33.595Z"
   },
   {
    "duration": 1237,
    "start_time": "2025-08-01T08:58:37.530Z"
   },
   {
    "duration": 457,
    "start_time": "2025-08-01T08:58:49.500Z"
   },
   {
    "duration": 1184,
    "start_time": "2025-08-01T08:58:54.749Z"
   },
   {
    "duration": 1095,
    "start_time": "2025-08-01T08:59:03.451Z"
   },
   {
    "duration": 438,
    "start_time": "2025-08-01T08:59:07.026Z"
   },
   {
    "duration": 415,
    "start_time": "2025-08-01T08:59:30.534Z"
   },
   {
    "duration": 727,
    "start_time": "2025-08-01T08:59:41.442Z"
   },
   {
    "duration": 717,
    "start_time": "2025-08-01T08:59:59.773Z"
   },
   {
    "duration": 816,
    "start_time": "2025-08-01T09:00:51.563Z"
   },
   {
    "duration": 802,
    "start_time": "2025-08-01T09:01:08.259Z"
   },
   {
    "duration": 961,
    "start_time": "2025-08-01T09:02:09.101Z"
   },
   {
    "duration": 65,
    "start_time": "2025-08-01T09:02:20.753Z"
   },
   {
    "duration": 2403,
    "start_time": "2025-08-01T09:02:22.802Z"
   },
   {
    "duration": 775,
    "start_time": "2025-08-01T09:04:03.592Z"
   },
   {
    "duration": 1489,
    "start_time": "2025-08-01T09:16:31.582Z"
   },
   {
    "duration": 59,
    "start_time": "2025-08-01T09:18:11.451Z"
   },
   {
    "duration": 59,
    "start_time": "2025-08-01T09:18:41.352Z"
   },
   {
    "duration": 680,
    "start_time": "2025-08-01T09:18:56.518Z"
   },
   {
    "duration": 64,
    "start_time": "2025-08-01T09:20:55.007Z"
   },
   {
    "duration": 2543,
    "start_time": "2025-08-01T09:20:55.352Z"
   },
   {
    "duration": 2,
    "start_time": "2025-08-01T09:24:45.022Z"
   },
   {
    "duration": 3884,
    "start_time": "2025-08-01T09:24:47.151Z"
   },
   {
    "duration": 24,
    "start_time": "2025-08-01T09:24:51.037Z"
   },
   {
    "duration": 5,
    "start_time": "2025-08-01T09:24:56.070Z"
   },
   {
    "duration": 9,
    "start_time": "2025-08-01T09:25:04.364Z"
   },
   {
    "duration": 115,
    "start_time": "2025-08-01T09:25:07.532Z"
   },
   {
    "duration": 273,
    "start_time": "2025-08-01T09:25:10.776Z"
   },
   {
    "duration": 37,
    "start_time": "2025-08-01T09:25:11.969Z"
   },
   {
    "duration": 68,
    "start_time": "2025-08-01T09:25:15.568Z"
   },
   {
    "duration": 71,
    "start_time": "2025-08-01T09:25:31.885Z"
   },
   {
    "duration": 91,
    "start_time": "2025-08-01T09:25:36.472Z"
   },
   {
    "duration": 6825,
    "start_time": "2025-08-01T09:25:40.955Z"
   },
   {
    "duration": 26,
    "start_time": "2025-08-01T09:25:47.782Z"
   },
   {
    "duration": 31,
    "start_time": "2025-08-01T09:25:47.810Z"
   },
   {
    "duration": 3064,
    "start_time": "2025-08-01T09:25:47.844Z"
   },
   {
    "duration": 331,
    "start_time": "2025-08-01T09:25:50.910Z"
   },
   {
    "duration": 305,
    "start_time": "2025-08-01T09:25:51.243Z"
   },
   {
    "duration": 3719,
    "start_time": "2025-08-01T09:25:52.728Z"
   },
   {
    "duration": 240,
    "start_time": "2025-08-01T09:25:59.557Z"
   },
   {
    "duration": 196,
    "start_time": "2025-08-01T09:26:01.201Z"
   },
   {
    "duration": 30,
    "start_time": "2025-08-01T09:26:05.323Z"
   },
   {
    "duration": 6963,
    "start_time": "2025-08-01T09:26:06.576Z"
   },
   {
    "duration": 6,
    "start_time": "2025-08-01T09:33:01.103Z"
   },
   {
    "duration": 25,
    "start_time": "2025-08-01T09:33:02.308Z"
   },
   {
    "duration": 69,
    "start_time": "2025-08-01T09:33:03.200Z"
   },
   {
    "duration": 141,
    "start_time": "2025-08-01T09:33:04.221Z"
   },
   {
    "duration": 321,
    "start_time": "2025-08-01T09:33:09.713Z"
   },
   {
    "duration": 3,
    "start_time": "2025-08-01T09:34:02.742Z"
   },
   {
    "duration": 187,
    "start_time": "2025-08-01T09:35:31.946Z"
   },
   {
    "duration": 1208,
    "start_time": "2025-08-01T09:35:43.937Z"
   },
   {
    "duration": 471,
    "start_time": "2025-08-01T09:35:52.489Z"
   },
   {
    "duration": 1202,
    "start_time": "2025-08-01T09:35:55.644Z"
   },
   {
    "duration": 445,
    "start_time": "2025-08-01T09:36:09.449Z"
   },
   {
    "duration": 677,
    "start_time": "2025-08-01T09:37:52.192Z"
   },
   {
    "duration": 797,
    "start_time": "2025-08-01T09:38:10.468Z"
   },
   {
    "duration": 81,
    "start_time": "2025-08-01T09:53:37.676Z"
   },
   {
    "duration": 2575,
    "start_time": "2025-08-01T09:53:39.335Z"
   },
   {
    "duration": 3,
    "start_time": "2025-08-01T09:54:09.342Z"
   },
   {
    "duration": 1572,
    "start_time": "2025-08-01T09:54:11.041Z"
   },
   {
    "duration": 22,
    "start_time": "2025-08-01T09:54:12.616Z"
   },
   {
    "duration": 6,
    "start_time": "2025-08-01T09:54:14.501Z"
   },
   {
    "duration": 9,
    "start_time": "2025-08-01T09:54:18.250Z"
   },
   {
    "duration": 124,
    "start_time": "2025-08-01T09:54:19.779Z"
   },
   {
    "duration": 279,
    "start_time": "2025-08-01T09:54:21.101Z"
   },
   {
    "duration": 38,
    "start_time": "2025-08-01T09:54:21.577Z"
   },
   {
    "duration": 67,
    "start_time": "2025-08-01T09:54:23.916Z"
   },
   {
    "duration": 90,
    "start_time": "2025-08-01T09:54:26.910Z"
   },
   {
    "duration": 7207,
    "start_time": "2025-08-01T09:54:28.543Z"
   },
   {
    "duration": 35,
    "start_time": "2025-08-01T09:54:35.752Z"
   },
   {
    "duration": 14,
    "start_time": "2025-08-01T09:54:35.789Z"
   },
   {
    "duration": 3354,
    "start_time": "2025-08-01T09:54:35.805Z"
   },
   {
    "duration": 396,
    "start_time": "2025-08-01T09:54:39.161Z"
   },
   {
    "duration": 305,
    "start_time": "2025-08-01T09:54:39.559Z"
   },
   {
    "duration": 3870,
    "start_time": "2025-08-01T09:54:39.866Z"
   },
   {
    "duration": 261,
    "start_time": "2025-08-01T09:54:43.739Z"
   },
   {
    "duration": 208,
    "start_time": "2025-08-01T09:54:44.003Z"
   },
   {
    "duration": 54,
    "start_time": "2025-08-01T09:54:44.213Z"
   },
   {
    "duration": 7062,
    "start_time": "2025-08-01T09:54:44.269Z"
   },
   {
    "duration": 5,
    "start_time": "2025-08-01T09:54:51.332Z"
   },
   {
    "duration": 183,
    "start_time": "2025-08-01T09:54:51.339Z"
   },
   {
    "duration": 102,
    "start_time": "2025-08-01T09:54:51.524Z"
   },
   {
    "duration": 126,
    "start_time": "2025-08-01T09:54:51.628Z"
   },
   {
    "duration": 329,
    "start_time": "2025-08-01T09:54:51.756Z"
   },
   {
    "duration": 5,
    "start_time": "2025-08-01T09:54:52.087Z"
   },
   {
    "duration": 152,
    "start_time": "2025-08-01T09:54:55.443Z"
   },
   {
    "duration": 1331,
    "start_time": "2025-08-01T09:55:00.854Z"
   },
   {
    "duration": 498,
    "start_time": "2025-08-01T09:55:10.245Z"
   },
   {
    "duration": 1197,
    "start_time": "2025-08-01T09:55:12.369Z"
   },
   {
    "duration": 397,
    "start_time": "2025-08-01T09:55:19.798Z"
   },
   {
    "duration": 765,
    "start_time": "2025-08-01T09:55:22.169Z"
   },
   {
    "duration": 670,
    "start_time": "2025-08-01T09:55:27.728Z"
   },
   {
    "duration": 68,
    "start_time": "2025-08-01T09:56:12.567Z"
   },
   {
    "duration": 2545,
    "start_time": "2025-08-01T09:56:14.141Z"
   }
  ],
  "colab": {
   "provenance": []
  },
  "kernelspec": {
   "display_name": "Python 3 (ipykernel)",
   "language": "python",
   "name": "python3"
  },
  "language_info": {
   "codemirror_mode": {
    "name": "ipython",
    "version": 3
   },
   "file_extension": ".py",
   "mimetype": "text/x-python",
   "name": "python",
   "nbconvert_exporter": "python",
   "pygments_lexer": "ipython3",
   "version": "3.9.5"
  },
  "toc": {
   "base_numbering": 1,
   "nav_menu": {},
   "number_sections": true,
   "sideBar": true,
   "skip_h1_title": true,
   "title_cell": "Table of Contents",
   "title_sidebar": "Contents",
   "toc_cell": false,
   "toc_position": {
    "height": "calc(100% - 180px)",
    "left": "10px",
    "top": "150px",
    "width": "165px"
   },
   "toc_section_display": true,
   "toc_window_display": true
  }
 },
 "nbformat": 4,
 "nbformat_minor": 1
}
