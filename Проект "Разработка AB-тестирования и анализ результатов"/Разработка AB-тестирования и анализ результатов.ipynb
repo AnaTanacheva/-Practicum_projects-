{
 "cells": [
  {
   "cell_type": "markdown",
   "metadata": {},
   "source": [
    "# Об авторе\n",
    "ФИ: Таначева Анастасия\n",
    "\n",
    "Дата: 29.06.2025"
   ]
  },
  {
   "cell_type": "markdown",
   "metadata": {
    "id": "u98L9TgH0eMk"
   },
   "source": [
    "# Разработка A/B-тестирования и анализ результатов\n",
    "\n",
    "Вы работаете продуктовым аналитиком в компании, которая разрабатывает развлекательное приложение с функцией «бесконечной» ленты, как, например, в приложениях с короткими видео. В вашем приложении существует две модели монетизации: первая — ежемесячная платная подписка, которая позволяет пользователям смотреть ленту без рекламы, вторая — демонстрация рекламы для пользователей, которые ещё не оформили подписку.\n",
    "\n",
    "Команда разработчиков рекомендательных систем создала новый алгоритм рекомендаций, который, по их мнению, будет показывать более интересный контент для каждого пользователя. Вас, как аналитика, просят помочь рассчитать параметры A/B-теста, который позволит проверить эту гипотезу, и проанализировать его результаты."
   ]
  },
  {
   "cell_type": "markdown",
   "metadata": {
    "id": "LJBRALHs0eMf"
   },
   "source": [
    "## Описание данных\n",
    "\n",
    "Вы будете работать с тремя таблицами:\n",
    "\n",
    "- `sessions_project_history.csv` — таблица с историческими данными по сессиям пользователей на период с 2025-08-11 по 2025-09-23. Путь к файлу: `/datasets/sessions_project_history.csv`.\n",
    "\n",
    "- `sessions_project_test_part.csv` — таблица с данными за первый день проведения A/B-теста, то есть за 2025-10-14. Путь к файлу: `/datasets/sessions_project_test_part.csv`.\n",
    "\n",
    "- `sessions_project_test.csv` — таблица с данными за весь период проведения A/B-теста, то есть с 2025-10-14 по 2025-11-02. Путь к файлу: `/datasets/sessions_project_test.csv`.\n",
    "\n",
    "У этих таблиц почти совпадает структура и содержание колонок, различаются лишь периоды наблюдения.\n",
    "\n",
    "Поля таблиц `sessions_project_history.csv`, `sessions_project_test.csv`, `sessions_project_test_part.csv`:\n",
    "\n",
    "- `user_id` — идентификатор пользователя;\n",
    "\n",
    "- `session_id` — идентификатор сессии в приложении;\n",
    "\n",
    "- `session_date` — дата сессии;\n",
    "\n",
    "- `session_start_ts` — дата и время начала сессии;\n",
    "\n",
    "- `install_date` — дата установки приложения;\n",
    "\n",
    "- `session_number` — порядковый номер сессии для конкретного пользователя;\n",
    "\n",
    "- `registration_flag` — является ли пользователь зарегистрированным;\n",
    "\n",
    "- `page_counter` — количество просмотренных страниц во время сессии;\n",
    "\n",
    "- `region` — регион пользователя;\n",
    "\n",
    "- `device` — тип устройства пользователя;\n",
    "\n",
    "- `test_group` — тестовая группа (в таблице с историческими данными этого столбца нет).\n",
    "\n",
    "\n",
    "## Что нужно сделать\n",
    "Ваши задачи: рассчитать параметры теста, оценить корректность его проведения и проанализировать результаты эксперимента."
   ]
  },
  {
   "cell_type": "markdown",
   "metadata": {
    "id": "UpOucjID0eMl"
   },
   "source": [
    "###### Особенности A/B теста: \n",
    "Метрика, по которой ожидается изменение, - доля успешных сессий (отношение количества успешных сессий к общему количеству сессий)\n",
    "\n",
    "Другие метрики, которые будут тестироваться, - количество пользователей и регистраций, количество просматриваемых страниц.\n",
    "\n",
    "Ожидаемый эффект - пользователи, которым будут показаны рекомендации на основе нового алгоритма, будут более вовлечены в использвоание приложения (проведут большее количество сессий). "
   ]
  },
  {
   "cell_type": "markdown",
   "metadata": {
    "id": "UpOucjID0eMl"
   },
   "source": [
    "### 1. Работа с историческими данными (EDA)"
   ]
  },
  {
   "cell_type": "markdown",
   "metadata": {
    "id": "8iJMtL-30eMl"
   },
   "source": [
    "#### 1.1. Загрузка исторических данных\n",
    "На первом этапе поработайте с историческими данными приложения:\n",
    "\n",
    "- Импортируйте библиотеку pandas.\n",
    "\n",
    "- Считайте и сохраните в датафрейм `sessions_history` CSV-файл с историческими данными о сессиях пользователей `sessions_project_history.csv`.\n",
    "\n",
    "Выведите на экран первые пять строк полученного датафрейма."
   ]
  },
  {
   "cell_type": "code",
   "execution_count": 1,
   "metadata": {
    "id": "6TPR2-1RPboT"
   },
   "outputs": [],
   "source": [
    "import pandas as pd\n",
    "import matplotlib.pyplot as plt\n",
    "from statsmodels.stats.power import NormalIndPower\n",
    "from statsmodels.stats.proportion import proportion_effectsize\n",
    "from math import ceil\n",
    "import seaborn as sns\n",
    "import statsmodels.stats.proportion as proportion"
   ]
  },
  {
   "cell_type": "code",
   "execution_count": 2,
   "metadata": {
    "id": "6TPR2-1RPboT"
   },
   "outputs": [],
   "source": [
    "sessions_history = pd.read_csv('https://code.s3.yandex.net/datasets/sessions_project_history.csv')"
   ]
  },
  {
   "cell_type": "code",
   "execution_count": 3,
   "metadata": {
    "id": "6TPR2-1RPboT",
    "scrolled": false
   },
   "outputs": [
    {
     "data": {
      "text/html": [
       "<div>\n",
       "<style scoped>\n",
       "    .dataframe tbody tr th:only-of-type {\n",
       "        vertical-align: middle;\n",
       "    }\n",
       "\n",
       "    .dataframe tbody tr th {\n",
       "        vertical-align: top;\n",
       "    }\n",
       "\n",
       "    .dataframe thead th {\n",
       "        text-align: right;\n",
       "    }\n",
       "</style>\n",
       "<table border=\"1\" class=\"dataframe\">\n",
       "  <thead>\n",
       "    <tr style=\"text-align: right;\">\n",
       "      <th></th>\n",
       "      <th>user_id</th>\n",
       "      <th>session_id</th>\n",
       "      <th>session_date</th>\n",
       "      <th>session_start_ts</th>\n",
       "      <th>install_date</th>\n",
       "      <th>session_number</th>\n",
       "      <th>registration_flag</th>\n",
       "      <th>page_counter</th>\n",
       "      <th>region</th>\n",
       "      <th>device</th>\n",
       "    </tr>\n",
       "  </thead>\n",
       "  <tbody>\n",
       "    <tr>\n",
       "      <th>0</th>\n",
       "      <td>E302123B7000BFE4</td>\n",
       "      <td>F9AF61A0C2023832</td>\n",
       "      <td>2025-08-15</td>\n",
       "      <td>2025-08-15 17:47:35</td>\n",
       "      <td>2025-08-15</td>\n",
       "      <td>1</td>\n",
       "      <td>0</td>\n",
       "      <td>3</td>\n",
       "      <td>CIS</td>\n",
       "      <td>iPhone</td>\n",
       "    </tr>\n",
       "    <tr>\n",
       "      <th>1</th>\n",
       "      <td>2530F72E221829FB</td>\n",
       "      <td>85003A206CBDAC6F</td>\n",
       "      <td>2025-08-15</td>\n",
       "      <td>2025-08-15 16:42:14</td>\n",
       "      <td>2025-08-15</td>\n",
       "      <td>1</td>\n",
       "      <td>0</td>\n",
       "      <td>4</td>\n",
       "      <td>MENA</td>\n",
       "      <td>Android</td>\n",
       "    </tr>\n",
       "    <tr>\n",
       "      <th>2</th>\n",
       "      <td>876E020A4FC512F5</td>\n",
       "      <td>3677423E49D72DEE</td>\n",
       "      <td>2025-08-15</td>\n",
       "      <td>2025-08-15 12:30:00</td>\n",
       "      <td>2025-08-15</td>\n",
       "      <td>1</td>\n",
       "      <td>0</td>\n",
       "      <td>4</td>\n",
       "      <td>EU</td>\n",
       "      <td>PC</td>\n",
       "    </tr>\n",
       "    <tr>\n",
       "      <th>3</th>\n",
       "      <td>2640B349E1D81584</td>\n",
       "      <td>956B45F5915CA225</td>\n",
       "      <td>2025-08-15</td>\n",
       "      <td>2025-08-15 15:31:31</td>\n",
       "      <td>2025-08-15</td>\n",
       "      <td>1</td>\n",
       "      <td>0</td>\n",
       "      <td>4</td>\n",
       "      <td>CIS</td>\n",
       "      <td>Android</td>\n",
       "    </tr>\n",
       "    <tr>\n",
       "      <th>4</th>\n",
       "      <td>94E1CBFAEF1F5EE9</td>\n",
       "      <td>83BF0DA35F9F1F40</td>\n",
       "      <td>2025-08-15</td>\n",
       "      <td>2025-08-15 21:33:53</td>\n",
       "      <td>2025-08-15</td>\n",
       "      <td>1</td>\n",
       "      <td>0</td>\n",
       "      <td>3</td>\n",
       "      <td>CIS</td>\n",
       "      <td>Android</td>\n",
       "    </tr>\n",
       "  </tbody>\n",
       "</table>\n",
       "</div>"
      ],
      "text/plain": [
       "            user_id        session_id session_date     session_start_ts  \\\n",
       "0  E302123B7000BFE4  F9AF61A0C2023832   2025-08-15  2025-08-15 17:47:35   \n",
       "1  2530F72E221829FB  85003A206CBDAC6F   2025-08-15  2025-08-15 16:42:14   \n",
       "2  876E020A4FC512F5  3677423E49D72DEE   2025-08-15  2025-08-15 12:30:00   \n",
       "3  2640B349E1D81584  956B45F5915CA225   2025-08-15  2025-08-15 15:31:31   \n",
       "4  94E1CBFAEF1F5EE9  83BF0DA35F9F1F40   2025-08-15  2025-08-15 21:33:53   \n",
       "\n",
       "  install_date  session_number  registration_flag  page_counter region  \\\n",
       "0   2025-08-15               1                  0             3    CIS   \n",
       "1   2025-08-15               1                  0             4   MENA   \n",
       "2   2025-08-15               1                  0             4     EU   \n",
       "3   2025-08-15               1                  0             4    CIS   \n",
       "4   2025-08-15               1                  0             3    CIS   \n",
       "\n",
       "    device  \n",
       "0   iPhone  \n",
       "1  Android  \n",
       "2       PC  \n",
       "3  Android  \n",
       "4  Android  "
      ]
     },
     "metadata": {},
     "output_type": "display_data"
    }
   ],
   "source": [
    "display(sessions_history.head())"
   ]
  },
  {
   "cell_type": "markdown",
   "metadata": {
    "id": "qTDoiODz0eMo"
   },
   "source": [
    "#### 1.2. Знакомство с данными\n",
    "- Для каждого уникального пользователя `user_id` рассчитайте количество уникальных сессий `session_id`.\n",
    "\n",
    "- Выведите на экран все данные из таблицы `sessions_history` для одного пользователя с наибольшим количеством сессий. Если таких пользователей несколько, выберите любого из них.\n",
    "\n",
    "- Изучите таблицу для одного пользователя, чтобы лучше понять логику формирования каждого столбца данных.\n",
    "\n"
   ]
  },
  {
   "cell_type": "code",
   "execution_count": 4,
   "metadata": {
    "id": "PWZO9vTIPbPN"
   },
   "outputs": [
    {
     "data": {
      "text/html": [
       "<div>\n",
       "<style scoped>\n",
       "    .dataframe tbody tr th:only-of-type {\n",
       "        vertical-align: middle;\n",
       "    }\n",
       "\n",
       "    .dataframe tbody tr th {\n",
       "        vertical-align: top;\n",
       "    }\n",
       "\n",
       "    .dataframe thead th {\n",
       "        text-align: right;\n",
       "    }\n",
       "</style>\n",
       "<table border=\"1\" class=\"dataframe\">\n",
       "  <thead>\n",
       "    <tr style=\"text-align: right;\">\n",
       "      <th></th>\n",
       "      <th>user_id</th>\n",
       "      <th>session_id</th>\n",
       "      <th>session_date</th>\n",
       "      <th>session_start_ts</th>\n",
       "      <th>install_date</th>\n",
       "      <th>session_number</th>\n",
       "      <th>registration_flag</th>\n",
       "      <th>page_counter</th>\n",
       "      <th>region</th>\n",
       "      <th>device</th>\n",
       "    </tr>\n",
       "  </thead>\n",
       "  <tbody>\n",
       "    <tr>\n",
       "      <th>115558</th>\n",
       "      <td>10E0DEFC1ABDBBE0</td>\n",
       "      <td>B8F0423BBFFCF5DC</td>\n",
       "      <td>2025-08-14</td>\n",
       "      <td>2025-08-14 13:57:39</td>\n",
       "      <td>2025-08-14</td>\n",
       "      <td>1</td>\n",
       "      <td>0</td>\n",
       "      <td>4</td>\n",
       "      <td>CIS</td>\n",
       "      <td>Android</td>\n",
       "    </tr>\n",
       "    <tr>\n",
       "      <th>191751</th>\n",
       "      <td>10E0DEFC1ABDBBE0</td>\n",
       "      <td>87CA2FA549473837</td>\n",
       "      <td>2025-08-15</td>\n",
       "      <td>2025-08-15 16:42:10</td>\n",
       "      <td>2025-08-14</td>\n",
       "      <td>2</td>\n",
       "      <td>0</td>\n",
       "      <td>3</td>\n",
       "      <td>CIS</td>\n",
       "      <td>Android</td>\n",
       "    </tr>\n",
       "    <tr>\n",
       "      <th>239370</th>\n",
       "      <td>10E0DEFC1ABDBBE0</td>\n",
       "      <td>4ADD8011DCDCE318</td>\n",
       "      <td>2025-08-16</td>\n",
       "      <td>2025-08-16 19:53:21</td>\n",
       "      <td>2025-08-14</td>\n",
       "      <td>3</td>\n",
       "      <td>0</td>\n",
       "      <td>3</td>\n",
       "      <td>CIS</td>\n",
       "      <td>Android</td>\n",
       "    </tr>\n",
       "    <tr>\n",
       "      <th>274629</th>\n",
       "      <td>10E0DEFC1ABDBBE0</td>\n",
       "      <td>DF0FD0E09BF1F3D7</td>\n",
       "      <td>2025-08-17</td>\n",
       "      <td>2025-08-17 15:03:43</td>\n",
       "      <td>2025-08-14</td>\n",
       "      <td>4</td>\n",
       "      <td>0</td>\n",
       "      <td>1</td>\n",
       "      <td>CIS</td>\n",
       "      <td>Android</td>\n",
       "    </tr>\n",
       "    <tr>\n",
       "      <th>302501</th>\n",
       "      <td>10E0DEFC1ABDBBE0</td>\n",
       "      <td>3C221774B4DE6885</td>\n",
       "      <td>2025-08-18</td>\n",
       "      <td>2025-08-18 17:29:14</td>\n",
       "      <td>2025-08-14</td>\n",
       "      <td>5</td>\n",
       "      <td>0</td>\n",
       "      <td>4</td>\n",
       "      <td>CIS</td>\n",
       "      <td>Android</td>\n",
       "    </tr>\n",
       "    <tr>\n",
       "      <th>325557</th>\n",
       "      <td>10E0DEFC1ABDBBE0</td>\n",
       "      <td>031BD7A67048105B</td>\n",
       "      <td>2025-08-19</td>\n",
       "      <td>2025-08-19 13:23:55</td>\n",
       "      <td>2025-08-14</td>\n",
       "      <td>6</td>\n",
       "      <td>0</td>\n",
       "      <td>2</td>\n",
       "      <td>CIS</td>\n",
       "      <td>Android</td>\n",
       "    </tr>\n",
       "    <tr>\n",
       "      <th>345336</th>\n",
       "      <td>10E0DEFC1ABDBBE0</td>\n",
       "      <td>FF4315CF4AD4B100</td>\n",
       "      <td>2025-08-20</td>\n",
       "      <td>2025-08-20 19:31:54</td>\n",
       "      <td>2025-08-14</td>\n",
       "      <td>7</td>\n",
       "      <td>0</td>\n",
       "      <td>2</td>\n",
       "      <td>CIS</td>\n",
       "      <td>Android</td>\n",
       "    </tr>\n",
       "    <tr>\n",
       "      <th>377532</th>\n",
       "      <td>10E0DEFC1ABDBBE0</td>\n",
       "      <td>4045FEA0747203B4</td>\n",
       "      <td>2025-08-22</td>\n",
       "      <td>2025-08-22 17:54:13</td>\n",
       "      <td>2025-08-14</td>\n",
       "      <td>8</td>\n",
       "      <td>0</td>\n",
       "      <td>2</td>\n",
       "      <td>CIS</td>\n",
       "      <td>Android</td>\n",
       "    </tr>\n",
       "    <tr>\n",
       "      <th>403538</th>\n",
       "      <td>10E0DEFC1ABDBBE0</td>\n",
       "      <td>344B086C421C7F37</td>\n",
       "      <td>2025-08-24</td>\n",
       "      <td>2025-08-24 14:46:13</td>\n",
       "      <td>2025-08-14</td>\n",
       "      <td>9</td>\n",
       "      <td>0</td>\n",
       "      <td>2</td>\n",
       "      <td>CIS</td>\n",
       "      <td>Android</td>\n",
       "    </tr>\n",
       "    <tr>\n",
       "      <th>414743</th>\n",
       "      <td>10E0DEFC1ABDBBE0</td>\n",
       "      <td>054F20BA371E4C9D</td>\n",
       "      <td>2025-08-25</td>\n",
       "      <td>2025-08-25 18:36:41</td>\n",
       "      <td>2025-08-14</td>\n",
       "      <td>10</td>\n",
       "      <td>0</td>\n",
       "      <td>3</td>\n",
       "      <td>CIS</td>\n",
       "      <td>Android</td>\n",
       "    </tr>\n",
       "  </tbody>\n",
       "</table>\n",
       "</div>"
      ],
      "text/plain": [
       "                 user_id        session_id session_date     session_start_ts  \\\n",
       "115558  10E0DEFC1ABDBBE0  B8F0423BBFFCF5DC   2025-08-14  2025-08-14 13:57:39   \n",
       "191751  10E0DEFC1ABDBBE0  87CA2FA549473837   2025-08-15  2025-08-15 16:42:10   \n",
       "239370  10E0DEFC1ABDBBE0  4ADD8011DCDCE318   2025-08-16  2025-08-16 19:53:21   \n",
       "274629  10E0DEFC1ABDBBE0  DF0FD0E09BF1F3D7   2025-08-17  2025-08-17 15:03:43   \n",
       "302501  10E0DEFC1ABDBBE0  3C221774B4DE6885   2025-08-18  2025-08-18 17:29:14   \n",
       "325557  10E0DEFC1ABDBBE0  031BD7A67048105B   2025-08-19  2025-08-19 13:23:55   \n",
       "345336  10E0DEFC1ABDBBE0  FF4315CF4AD4B100   2025-08-20  2025-08-20 19:31:54   \n",
       "377532  10E0DEFC1ABDBBE0  4045FEA0747203B4   2025-08-22  2025-08-22 17:54:13   \n",
       "403538  10E0DEFC1ABDBBE0  344B086C421C7F37   2025-08-24  2025-08-24 14:46:13   \n",
       "414743  10E0DEFC1ABDBBE0  054F20BA371E4C9D   2025-08-25  2025-08-25 18:36:41   \n",
       "\n",
       "       install_date  session_number  registration_flag  page_counter region  \\\n",
       "115558   2025-08-14               1                  0             4    CIS   \n",
       "191751   2025-08-14               2                  0             3    CIS   \n",
       "239370   2025-08-14               3                  0             3    CIS   \n",
       "274629   2025-08-14               4                  0             1    CIS   \n",
       "302501   2025-08-14               5                  0             4    CIS   \n",
       "325557   2025-08-14               6                  0             2    CIS   \n",
       "345336   2025-08-14               7                  0             2    CIS   \n",
       "377532   2025-08-14               8                  0             2    CIS   \n",
       "403538   2025-08-14               9                  0             2    CIS   \n",
       "414743   2025-08-14              10                  0             3    CIS   \n",
       "\n",
       "         device  \n",
       "115558  Android  \n",
       "191751  Android  \n",
       "239370  Android  \n",
       "274629  Android  \n",
       "302501  Android  \n",
       "325557  Android  \n",
       "345336  Android  \n",
       "377532  Android  \n",
       "403538  Android  \n",
       "414743  Android  "
      ]
     },
     "metadata": {},
     "output_type": "display_data"
    }
   ],
   "source": [
    "# Рассчитаем кол-во уникальных сессий для каждого пользователя\n",
    "user_session_counts = sessions_history.groupby('user_id')['session_id'].nunique()\n",
    "\n",
    "# Найдем пользователя с наибольшим кол-вом сессий\n",
    "user_with_max_sessions = user_session_counts.idxmax()\n",
    "\n",
    "# Выведем все данные для такого пользователя\n",
    "user_data = sessions_history[sessions_history['user_id'] == user_with_max_sessions]\n",
    "\n",
    "display(user_data)"
   ]
  },
  {
   "cell_type": "markdown",
   "metadata": {
    "id": "CmcGpJTP0eMq"
   },
   "source": [
    "#### 1.3. Анализ числа регистраций\n",
    "Одна из важнейших метрик продукта — число зарегистрированных пользователей. Используя исторические данные, визуализируйте, как менялось число регистраций в приложении за время его существования.\n",
    "\n",
    "- Агрегируйте исторические данные и рассчитайте число уникальных пользователей и число зарегистрированных пользователей для каждого дня наблюдения. Для простоты считайте, что у пользователя в течение дня бывает одна сессия максимум и статус регистрации в течение одного дня не может измениться.\n",
    "\n",
    "- Постройте линейные графики общего числа пользователей и общего числа зарегистрированных пользователей по дням. Отобразите их на одном графике.\n",
    "\n",
    "- Постройте отдельный линейный график доли зарегистрированных пользователей от всех пользователей по дням.\n",
    "\n",
    "- На обоих графиках должны быть заголовок, подписанные оси X и Y, сетка и легенда."
   ]
  },
  {
   "cell_type": "code",
   "execution_count": 5,
   "metadata": {
    "id": "tN_6Ml3EPatS",
    "scrolled": false
   },
   "outputs": [
    {
     "data": {
      "image/png": "[encoded data removed]",
      "text/plain": [
       "<Figure size 864x432 with 1 Axes>"
      ]
     },
     "metadata": {
      "needs_background": "light"
     },
     "output_type": "display_data"
    },
    {
     "data": {
      "image/png": "[encoded data removed]",
      "text/plain": [
       "<Figure size 864x432 with 1 Axes>"
      ]
     },
     "metadata": {
      "needs_background": "light"
     },
     "output_type": "display_data"
    }
   ],
   "source": [
    "# Преобразование типов данных\n",
    "sessions_history['session_date'] = pd.to_datetime(sessions_history['session_date'])\n",
    "sessions_history['install_date'] = pd.to_datetime(sessions_history['install_date'])\n",
    "sessions_history['session_start_ts'] = pd.to_datetime(sessions_history['session_start_ts'])\n",
    "\n",
    "\n",
    "# Агрегация данных по дням\n",
    "daily_metrics = sessions_history.groupby('session_date').agg(\n",
    "    total_users=('user_id', 'nunique'),\n",
    "    registered_users=('registration_flag', 'sum')\n",
    ")\n",
    "\n",
    "# Расчет доли зарегистрированных пользователей\n",
    "daily_metrics['registration_rate'] = daily_metrics['registered_users'] / daily_metrics['total_users']\n",
    "\n",
    "# Построение графика общего числа пользователей и зарегистрированных пользователей\n",
    "plt.figure(figsize=(12, 6))\n",
    "plt.plot(daily_metrics.index, daily_metrics['total_users'], label='Всего пользователей')\n",
    "plt.plot(daily_metrics.index, daily_metrics['registered_users'], label='Зарегистрированные пользователи')\n",
    "plt.title('Динамика общего числа пользователей и зарегистрированных пользователей по дням')\n",
    "plt.xlabel('Дата')\n",
    "plt.ylabel('Количество пользователей')\n",
    "plt.grid(True)\n",
    "plt.legend()\n",
    "plt.xticks(rotation=45)\n",
    "plt.tight_layout()\n",
    "plt.show()\n",
    "\n",
    "# Построение графика доли зарегистрированных пользователей\n",
    "plt.figure(figsize=(12, 6))\n",
    "plt.plot(daily_metrics.index, daily_metrics['registration_rate'], label='Доля зарегистрированных пользователей')\n",
    "plt.title('Динамика доли зарегистрированных пользователей от всех пользователей по дням')\n",
    "plt.xlabel('Дата')\n",
    "plt.ylabel('Доля зарегистрированных пользователей')\n",
    "plt.grid(True)\n",
    "plt.legend()\n",
    "plt.xticks(rotation=45)\n",
    "plt.tight_layout()\n",
    "plt.show()"
   ]
  },
  {
   "cell_type": "markdown",
   "metadata": {
    "id": "tN_6Ml3EPatS",
    "scrolled": false
   },
   "source": [
    "###### Выводы:\n",
    "- число зарегистрированных пользователей было примерно на одном уровне (1,25 тыс. человек) с 15 августа по 8 сентября 2025 года. После 8 сентября наблюдался спад.\n",
    "\n",
    "- что касается общего числа пользователей, оно было нестабильным. Пиковые значения пришлись на следующие даты: 15, 22, 30 августа, 5 и 10 сентября. После достижения пикового значения в эти даты наблюдался спад, затем - снова рост. Увеличение числа пользователей наблюдалось ближе к концу недели. Максимальное количество пользователей, посетивших сайт, составило 17500 человек.\n",
    "\n",
    "- доля зарегистрированных пользователей росла неравномерно. Чаще всего пользователи регистрировались в середине недели. "
   ]
  },
  {
   "cell_type": "markdown",
   "metadata": {
    "id": "UR7D7RhF0eMr"
   },
   "source": [
    "#### 1.4. Анализ числа просмотренных страниц\n",
    "Другая важная метрика продукта — число просмотренных страниц в приложении. Чем больше страниц просмотрено, тем сильнее пользователь увлечён контентом, а значит, выше шансы, что он зарегистрируется и оплатит подписку.\n",
    "\n",
    "- Найдите количество сессий для каждого значения количества просмотренных страниц. Например: одну страницу просмотрели в 29 160 сессиях, две страницы — в 105 536 сессиях и так далее.\n",
    "\n",
    "- Постройте столбчатую диаграмму, где по оси X будет число просмотренных страниц, по оси Y — количество сессий.\n",
    "\n",
    "- На диаграмме должны быть заголовок, подписанные оси X и Y."
   ]
  },
  {
   "cell_type": "code",
   "execution_count": 6,
   "metadata": {
    "id": "cb6hPlVzPaSf"
   },
   "outputs": [
    {
     "data": {
      "image/png": "[encoded data removed]",
      "text/plain": [
       "<Figure size 864x432 with 1 Axes>"
      ]
     },
     "metadata": {
      "needs_background": "light"
     },
     "output_type": "display_data"
    }
   ],
   "source": [
    "# Группировка данных по количеству просмотренных страниц и подсчет количества сессий\n",
    "page_views_sessions = sessions_history.groupby('page_counter')['session_id'].count().reset_index()\n",
    "page_views_sessions.rename(columns={'session_id': 'session_count'}, inplace=True)\n",
    "\n",
    "# Построение столбчатой диаграммы\n",
    "plt.figure(figsize=(12, 6))\n",
    "plt.bar(page_views_sessions['page_counter'], page_views_sessions['session_count'])\n",
    "plt.xlabel('Количество просмотренных страниц')\n",
    "plt.ylabel('Количество сессий')\n",
    "plt.title('Количество сессий для каждого значения количества просмотренных страниц')\n",
    "plt.grid(axis='y', alpha=0.75)\n",
    "plt.xticks(rotation=45)  \n",
    "plt.tight_layout()         \n",
    "plt.show()"
   ]
  },
  {
   "cell_type": "markdown",
   "metadata": {
    "id": "cb6hPlVzPaSf"
   },
   "source": [
    "###### Выводы:\n",
    "- чаще всего пользователи просматривали три страницы (больше 16 тыс. сессий). \n",
    "\n",
    "- число сессий для просмотренных двух и четырех страниц превышает 10 тыс.\n",
    "\n",
    "- одну страницу просматривали в 30 тыс. сессиях, пять страниц - в 25 тыс. сессиях. Шесть страниц просматривали в незначительном количестве сессий, семь страниц не просматривали вообще.  "
   ]
  },
  {
   "cell_type": "markdown",
   "metadata": {
    "id": "xDltSpVP0eMr"
   },
   "source": [
    "#### 1.5. Доля пользователей, просмотревших более четырёх страниц\n",
    "Продуктовая команда продукта считает, что сессии, в рамках которых пользователь просмотрел 4 и более страниц, говорят об удовлетворённости контентом и алгоритмами рекомендаций. Этот показатель является важной прокси-метрикой для продукта.\n",
    "\n",
    "- В датафрейме `sessions_history` создайте дополнительный столбец `good_session`. В него войдёт значение `1`, если за одну сессию было просмотрено 4 и более страниц, и значение `0`, если было просмотрено меньше.\n",
    "\n",
    "- Постройте график со средним значением доли успешных сессий от всех сессий по дням за весь период наблюдения."
   ]
  },
  {
   "cell_type": "code",
   "execution_count": 7,
   "metadata": {
    "id": "iygaPfixPYMW",
    "scrolled": false
   },
   "outputs": [
    {
     "data": {
      "image/png": "[encoded data removed]",
      "text/plain": [
       "<Figure size 864x432 with 1 Axes>"
      ]
     },
     "metadata": {
      "needs_background": "light"
     },
     "output_type": "display_data"
    }
   ],
   "source": [
    "# Создание столбца 'good_session'\n",
    "sessions_history['good_session'] = (sessions_history['page_counter'] >= 4).astype(int)\n",
    "\n",
    "# Агрегация данных по дням и расчет доли успешных сессий\n",
    "daily_good_session_rate = sessions_history.groupby('session_date')['good_session'].mean()\n",
    "\n",
    "# Построение графика\n",
    "plt.figure(figsize=(12, 6))\n",
    "plt.plot(daily_good_session_rate.index, daily_good_session_rate.values)\n",
    "plt.title('Среднее значение доли успешных сессий от всех сессий по дням')\n",
    "plt.xlabel('Дата')\n",
    "plt.ylabel('Доля успешных сессий')\n",
    "plt.grid(True)\n",
    "plt.xticks(rotation=45)\n",
    "plt.tight_layout()\n",
    "plt.show()"
   ]
  },
  {
   "cell_type": "markdown",
   "metadata": {
    "id": "iygaPfixPYMW",
    "scrolled": false
   },
   "source": [
    "###### Выводы: \n",
    "- среднее значение доли успешных сессий от общего количества сессий по дням было достаточно не стабильным - на каждой неделе наблюдается как спад, так и рост. Так, на 15 августа доля успешных сессий составила 0,305 об общего числа, тогда как на неделе до 22 августа показатель достигал 0,317. 22 августа доля успешных сессий снизилась до 0,313, через неделю, 1 сентября, достигла того же уровня, хотя на неделе, в целом, наблюдался спад. Несмотря на рост доли успешных сессий до 8 сентября (пиковое значение здесь достигло 0,315), 8 сентября доля успешных сессий уменьшилась до 0,308. \n",
    "\n",
    "- общее пиковое значение пришлось на неделю с 15 по 22 сентября и достигло 0,32."
   ]
  },
  {
   "cell_type": "markdown",
   "metadata": {
    "id": "21JcG77Y0eMt"
   },
   "source": [
    "### 2. Подготовка к тесту\n",
    "При планировании теста необходимо проделать несколько важных шагов:\n",
    "\n",
    "- Сформулировать нулевую и альтернативную гипотезы\n",
    "\n",
    "- Определиться с целевой метрикой.\n",
    "\n",
    "- Рассчитать необходимый размер выборки.\n",
    "\n",
    "- Исходя из текущих значений трафика рассчитать необходимую длительность проведения теста."
   ]
  },
  {
   "cell_type": "markdown",
   "metadata": {
    "id": "kXdcwkjf859k"
   },
   "source": [
    "#### 2.1 Формулировка нулевой и альтернативной гипотез\n",
    "\n",
    "Перед тем как проводить А/B-тест, необходимо сформулировать нулевую и альтернативную гипотезы. Напомним изначальное условие: команда разработчиков рекомендательных систем создала новый алгоритм, который, по их мнению, будет показывать более интересный контент для каждого пользователя.\n",
    "\n",
    "О какой метрике идёт речь? Как она будет учтена в формулировке гипотез?"
   ]
  },
  {
   "cell_type": "markdown",
   "metadata": {
    "id": "RiKI8eT49h3F"
   },
   "source": [
    "Сформулируйте нулевую и альтернативную гипотезы:\n",
    "\n",
    "\n",
    "\n",
    "\n"
   ]
  },
  {
   "cell_type": "markdown",
   "metadata": {
    "id": "6TPR2-1RPboT"
   },
   "source": [
    "###### Нулевая гипотеза\n",
    "Новый алгоритм рекомендаций не оказывает статистически значимого влияния на долю успешных сессий. Это значит, что средняя доля успешных сессий в тестовой группе (с новым алгоритмом) равна средней доле успешных сессий в контрольной группе (со старым алгоритмом).\n",
    "\n",
    "μ_тестовая = μ_контрольная"
   ]
  },
  {
   "cell_type": "markdown",
   "metadata": {
    "id": "6TPR2-1RPboT"
   },
   "source": [
    "###### Альтернативная гипотеза\n",
    "Новый алгоритм рекомендаций оказывает статистически значимое положительное влияние на долю успешных сессий. То есть, средняя доля успешных сессий в тестовой группе (с новым алгоритмом) выше, чем средняя доля успешных сессий в контрольной группе (со старым алгоритмом).\n",
    "\n",
    "μ_тестовая > μ_контрольная"
   ]
  },
  {
   "cell_type": "markdown",
   "metadata": {
    "id": "uzaeln270eMt"
   },
   "source": [
    "#### 2.2. Расчёт размера выборки\n",
    "В рамках курса вы уже рассчитывали размеры выборки и  использовали для этого онлайн-калькулятор. В этом задании предлагаем воспользоваться готовым кодом и рассчитать необходимое для вашего эксперимента количество пользователей.\n",
    "\n",
    "Для этого установите в коде ниже следующие параметры:\n",
    "\n",
    "- Уровень значимости — 0.05.\n",
    "\n",
    "- Вероятность ошибки второго рода — 0.2.\n",
    "\n",
    "- Мощность теста.\n",
    "\n",
    "- Минимальный детектируемый эффект, или MDE, — 3%. Обратите внимание, что здесь нужно указать десятичную дробь, а не процент.\n",
    "\n",
    "При расчёте размера выборки используйте метод `solve_power()` из класса `power.NormalIndPower` модуля `statsmodels.stats`.\n",
    "\n",
    "Запустите ячейку и изучите полученное значение."
   ]
  },
  {
   "cell_type": "code",
   "execution_count": 8,
   "metadata": {
    "id": "zSxJyPGPNdaI",
    "scrolled": true
   },
   "outputs": [
    {
     "name": "stdout",
     "output_type": "stream",
     "text": [
      "Необходимый размер выборки для каждой группы: 41040\n"
     ]
    }
   ],
   "source": [
    "# Задаём параметры\n",
    "alpha = 0.05  # Уровень значимости\n",
    "beta = 0.2  # Ошибка второго рода, часто 1 - мощность\n",
    "power = 1 - beta  # Мощность теста\n",
    "p1 = 0.3  # Базовый уровень доли\n",
    "mde = 0.03 # Минимальный детектируемый эффект\n",
    "effect_size = proportion_effectsize(p1, p1 + (mde * p1))\n",
    "\n",
    "# Инициализируем класс NormalIndPower\n",
    "power_analysis = NormalIndPower()\n",
    "\n",
    "# Рассчитываем размер выборки\n",
    "sample_size = power_analysis.solve_power(\n",
    "    effect_size = effect_size,\n",
    "    power = power,\n",
    "    alpha = alpha,\n",
    "    ratio = 1 # Равномерное распределение выборок\n",
    ")\n",
    "\n",
    "print(f\"Необходимый размер выборки для каждой группы: {int(sample_size)}\")"
   ]
  },
  {
   "cell_type": "markdown",
   "metadata": {
    "id": "qLEv4RoV0eMu"
   },
   "source": [
    "#### 2.3. Расчёт длительности A/B-теста\n",
    "\n",
    "Используйте данные о количестве пользователей в каждой выборке и среднем количестве пользователей приложения. Рассчитайте длительность теста, разделив одно на другое.\n",
    "\n",
    "- Рассчитайте среднее количество уникальных пользователей приложения в день.\n",
    "\n",
    "- Определите длительность теста исходя из рассчитанного значения размера выборок и среднего дневного трафика приложения. Количество дней округлите в большую сторону."
   ]
  },
  {
   "cell_type": "code",
   "execution_count": 9,
   "metadata": {
    "id": "KZDRbryDOGHa"
   },
   "outputs": [
    {
     "name": "stdout",
     "output_type": "stream",
     "text": [
      "Рассчитанная длительность A/B-теста при текущем уровне трафика в 9907.36 пользователей в день составит 9 дней\n"
     ]
    }
   ],
   "source": [
    "# Среднее количество пользователей приложения в день по историческим данным\n",
    "avg_daily_users = sessions_history.groupby('session_date')['user_id'].nunique().mean()\n",
    "\n",
    "# Рассчитываем длительность теста в днях как отношение размера выборки к среднему числу пользователей\n",
    "test_duration = ceil(sample_size*2 / avg_daily_users)\n",
    "\n",
    "print(f\"Рассчитанная длительность A/B-теста при текущем уровне трафика в {avg_daily_users:.2f} пользователей в день составит {test_duration} дней\")"
   ]
  },
  {
   "cell_type": "markdown",
   "metadata": {
    "id": "ZuvtAdha0eMv"
   },
   "source": [
    "### 3. Мониторинг А/В-теста"
   ]
  },
  {
   "cell_type": "markdown",
   "metadata": {
    "id": "jq5sE3Ya0eMv"
   },
   "source": [
    "#### 3.1. Проверка распределения пользователей\n",
    "\n",
    "A/B-тест успешно запущен, и уже доступны данные за первые три дня. На этом этапе нужно убедиться, что всё идёт хорошо: пользователи разделены правильным образом, а интересующие вас метрики корректно считаются.\n",
    "\n",
    "- Считайте и сохраните в датафрейм `sessions_test_part` CSV-файл с историческими данными о сессиях пользователей `sessions_project_test_part.csv`.\n",
    "\n",
    "- Рассчитайте количество уникальных пользователей в каждой из экспериментальных групп для одного дня наблюдения.\n",
    "\n",
    "- Рассчитайте и выведите на экран процентную разницу в количестве пользователей в группах A и B. Постройте любую удобную визуализацию, на которой будет видно возможное различие двух групп.\n",
    "\n",
    "Для расчёта процентной разницы воспользуйтесь формулой:\n",
    "$$P = 100 \\cdot  \\frac{|A − B|}{A}$$"
   ]
  },
  {
   "cell_type": "code",
   "execution_count": 10,
   "metadata": {
    "id": "G1bqIzDJOUiz"
   },
   "outputs": [
    {
     "name": "stdout",
     "output_type": "stream",
     "text": [
      "Количество уникальных пользователей в каждой группе:\n",
      "test_group\n",
      "A    1477\n",
      "B    1466\n",
      "Name: user_id, dtype: int64\n",
      "\n",
      "Процентная разница в количестве пользователей между группами A и B: 0.74%\n"
     ]
    },
    {
     "data": {
      "image/png": "[encoded data removed]",
      "text/plain": [
       "<Figure size 576x432 with 1 Axes>"
      ]
     },
     "metadata": {
      "needs_background": "light"
     },
     "output_type": "display_data"
    }
   ],
   "source": [
    "sessions_test_part = pd.read_csv('https://code.s3.yandex.net/datasets/sessions_project_test_part.csv')\n",
    "\n",
    "# Рассчитайте количество уникальных пользователей в каждой из экспериментальных групп\n",
    "user_counts = sessions_test_part.groupby('test_group')['user_id'].nunique()\n",
    "\n",
    "print(\"Количество уникальных пользователей в каждой группе:\")\n",
    "print(user_counts)\n",
    "\n",
    "# Рассчитайте процентную разницу в количестве пользователей в группах A и B\n",
    "group_a_count = user_counts['A']\n",
    "group_b_count = user_counts['B']\n",
    "\n",
    "percentage_difference = 100 * abs(group_a_count - group_b_count) / group_a_count\n",
    "\n",
    "print(f\"\\nПроцентная разница в количестве пользователей между группами A и B: {percentage_difference:.2f}%\")\n",
    "\n",
    "# Постройте визуализацию (столбчатая диаграмма)\n",
    "plt.figure(figsize=(8, 6))\n",
    "sns.barplot(x=user_counts.index, y=user_counts.values)\n",
    "plt.title('Количество уникальных пользователей в группах A и B')\n",
    "plt.xlabel('Тестовая группа')\n",
    "plt.ylabel('Количество уникальных пользователей')\n",
    "plt.show()"
   ]
  },
  {
   "cell_type": "markdown",
   "metadata": {
    "id": "sgpNY5bv0eM0"
   },
   "source": [
    "#### 3.2. Проверка пересечений пользователей\n",
    "Помимо проверки равенства количества пользователей в группах, полезно убедиться в том, что группы независимы. Для этого нужно убедиться, что никто из пользователей случайно не попал в обе группы одновременно.\n",
    "\n",
    "- Рассчитайте количество пользователей, которые встречаются одновременно в группах A и B, или убедитесь, что таких нет."
   ]
  },
  {
   "cell_type": "code",
   "execution_count": 11,
   "metadata": {
    "id": "E72ozN9FOX1u"
   },
   "outputs": [
    {
     "name": "stdout",
     "output_type": "stream",
     "text": [
      "Не обнаружено пользователей, которые одновременно присутствуют в обеих группах (A и B).\n"
     ]
    }
   ],
   "source": [
    "# Создание отдельных списков пользователей для каждой группы\n",
    "group_a_users = sessions_test_part[sessions_test_part['test_group'] == 'A']['user_id'].unique()\n",
    "group_b_users = sessions_test_part[sessions_test_part['test_group'] == 'B']['user_id'].unique()\n",
    "\n",
    "# Поиск пересечения между списками пользователей\n",
    "common_users = set(group_a_users) & set(group_b_users)\n",
    "\n",
    "# Вывод результата\n",
    "if len(common_users) > 0:\n",
    "    print(f\"Обнаружены пользователи, которые присутствуют в обеих группах (A и B): {len(common_users)} пользователей\")\n",
    "    print(f\"Список этих пользователей: {common_users}\")\n",
    "else:\n",
    "    print(\"Не обнаружено пользователей, которые одновременно присутствуют в обеих группах (A и B).\")"
   ]
  },
  {
   "cell_type": "markdown",
   "metadata": {
    "id": "6RvkNLrg0eM1"
   },
   "source": [
    "#### 3.3. Равномерность разделения пользователей по устройствам\n",
    "Полезно также убедиться в том, что пользователи равномерно распределены по всем доступным категориальным переменным — типам устройств и регионам.\n",
    "\n",
    "Постройте две диаграммы:\n",
    "\n",
    "- доля каждого типа устройства для пользователей из группы A,\n",
    "\n",
    "- доля каждого типа устройства для пользователей из группы B.\n",
    "\n",
    "Постарайтесь добавить на диаграммы все необходимые подписи, пояснения и заголовки, которые позволят сделать вывод о том, совпадает ли распределение устройств в группах A и B.\n"
   ]
  },
  {
   "cell_type": "code",
   "execution_count": 12,
   "metadata": {
    "id": "x_IP6PUNPWHC"
   },
   "outputs": [
    {
     "data": {
      "image/png": "[encoded data removed]",
      "text/plain": [
       "<Figure size 1152x432 with 2 Axes>"
      ]
     },
     "metadata": {},
     "output_type": "display_data"
    }
   ],
   "source": [
    "# Подсчет уникальных пользователей)\n",
    "device_distribution_a = sessions_test_part[sessions_test_part['test_group'] == 'A'].groupby('device')['user_id'].nunique()\n",
    "device_distribution_b = sessions_test_part[sessions_test_part['test_group'] == 'B'].groupby('device')['user_id'].nunique()\n",
    "\n",
    "# Рассчитываем общую сумму уникальных пользователей для каждой группы\n",
    "total_users_a = sessions_test_part[sessions_test_part['test_group'] == 'A']['user_id'].nunique()\n",
    "total_users_b = sessions_test_part[sessions_test_part['test_group'] == 'B']['user_id'].nunique()\n",
    "\n",
    "# Пересчитываем доли с учетом общего числа пользователей в группе\n",
    "device_distribution_a = (device_distribution_a / total_users_a) * 100\n",
    "device_distribution_b = (device_distribution_b / total_users_b) * 100\n",
    "\n",
    "\n",
    "# Создание графиков\n",
    "fig, axes = plt.subplots(1, 2, figsize=(16, 6))\n",
    "\n",
    "# График для группы A\n",
    "axes[0].pie(device_distribution_a, labels=device_distribution_a.index, autopct='%1.1f%%', startangle=140)\n",
    "axes[0].set_title('Доля типов устройств в группе A')\n",
    "\n",
    "# График для группы B\n",
    "axes[1].pie(device_distribution_b, labels=device_distribution_b.index, autopct='%1.1f%%', startangle=140)\n",
    "axes[1].set_title('Доля типов устройств в группе B')\n",
    "\n",
    "plt.suptitle('Распределение типов устройств в группах A и B', fontsize=16)\n",
    "plt.tight_layout(rect=[0, 0.03, 1, 0.95])\n",
    "plt.show()"
   ]
  },
  {
   "cell_type": "markdown",
   "metadata": {
    "id": "gAgmP6vo0eM1"
   },
   "source": [
    "#### 3.4. Равномерность распределения пользователей по регионам\n",
    "Теперь убедитесь, что пользователи равномерно распределены по регионам.\n",
    "\n",
    "Постройте две диаграммы:\n",
    "\n",
    "- доля каждого региона для пользователей из группы A,\n",
    "\n",
    "- доля каждого региона для пользователей из группы B.\n",
    "\n",
    "Постарайтесь добавить на диаграммы все необходимые подписи, пояснения и заголовки, которые позволят сделать вывод о том, совпадает ли распределение регионов в группах A и B. Постарайтесь использовать другой тип диаграммы, не тот, что в прошлом задании.\n"
   ]
  },
  {
   "cell_type": "code",
   "execution_count": 13,
   "metadata": {
    "id": "3hAq-FG4OdYM"
   },
   "outputs": [
    {
     "data": {
      "image/png": "[encoded data removed]",
      "text/plain": [
       "<Figure size 1152x576 with 2 Axes>"
      ]
     },
     "metadata": {
      "needs_background": "light"
     },
     "output_type": "display_data"
    }
   ],
   "source": [
    "#  Считаем количество уникальных пользователей по регионам для каждой группы\n",
    "region_distribution_a = sessions_test_part[sessions_test_part['test_group'] == 'A'].groupby('region')['user_id'].nunique()\n",
    "region_distribution_b = sessions_test_part[sessions_test_part['test_group'] == 'B'].groupby('region')['user_id'].nunique()\n",
    "\n",
    "\n",
    "# Рассчитываем общую сумму уникальных пользователей для каждой группы\n",
    "total_users_a = sessions_test_part[sessions_test_part['test_group'] == 'A']['user_id'].nunique()\n",
    "total_users_b = sessions_test_part[sessions_test_part['test_group'] == 'B']['user_id'].nunique()\n",
    "\n",
    "# Пересчитываем доли с учетом общего числа пользователей в группе\n",
    "region_distribution_a = (region_distribution_a / total_users_a) * 100\n",
    "region_distribution_b = (region_distribution_b / total_users_b) * 100\n",
    "\n",
    "\n",
    "# Создание графиков (горизонтальные столбчатые диаграммы)\n",
    "fig, axes = plt.subplots(1, 2, figsize=(16, 8))  # Увеличим высоту для большего количества регионов\n",
    "\n",
    "# График для группы A\n",
    "sns.barplot(x=region_distribution_a.values, y=region_distribution_a.index, ax=axes[0], color='skyblue')\n",
    "axes[0].set_title('Распределение регионов в группе A')\n",
    "axes[0].set_xlabel('Доля (%)')\n",
    "axes[0].set_ylabel('Регион')\n",
    "\n",
    "# График для группы B\n",
    "sns.barplot(x=region_distribution_b.values, y=region_distribution_b.index, ax=axes[1], color='lightgreen')\n",
    "axes[1].set_title('Распределение регионов в группе B')\n",
    "axes[1].set_xlabel('Доля (%)')\n",
    "axes[1].set_ylabel('Регион')\n",
    "\n",
    "plt.suptitle('Распределение регионов в группах A и B', fontsize=16)\n",
    "plt.tight_layout(rect=[0, 0.03, 1, 0.95])\n",
    "plt.show()"
   ]
  },
  {
   "cell_type": "markdown",
   "metadata": {
    "id": "X2WSZ-sDrSUi"
   },
   "source": [
    "#### 3.5. Вывод после проверки A/B-теста\n",
    "\n",
    "На основе проведённого анализа A/B-теста сформулируйте и запишите свои выводы. В выводе обязательно укажите:\n",
    "\n",
    "- Было ли обнаружено различие в количестве пользователей в двух группах.\n",
    "\n",
    "- Являются ли выборки независимыми. Было ли обнаружено пересечение пользователей из тестовой и контрольной групп.\n",
    "\n",
    "- Сохраняется ли равномерное распределение пользователей тестовой и контрольной групп по категориальным переменным: устройствам и регионам.\n",
    "\n",
    "Сделайте заключение: корректно ли проходит A/B-тест, или наблюдаются какие-либо нарушения."
   ]
  },
  {
   "cell_type": "markdown",
   "metadata": {
    "id": "dDELHlAcOi8d"
   },
   "source": [
    "###### Промежуточный вывод\n",
    "A/B-тест проходит корректно, так как:\n",
    "- не было обнаружено статистически значимого различия между количеством пользователей в двух группах (1477 - в группе A, 1466 - в группе B);\n",
    "\n",
    "- не было обнаружено пользователей, которые одновременно присутствуют в обеих группах (A и B);\n",
    "\n",
    "- можно говорить о равномерном распределении пользователей двух групп по устройствам. Так, например в группе A 10,6% пользователей используют Mac, в группе B их относительное число равно 10,1%. Android в группе A пользуются 44,4%, в группе B - 45,6%, PC в группе А - 25%, в группе B - 26%, iPhone в группе A - 20%, в группе B - 18,3%;  \n",
    "\n",
    "- что касается распределения по регионам, то его тоже можно назвать равномерным. Так, 43,6% пользователей группы A проживают в CIS, что незначительно ниже числа пользователей из группы B (44%). Также для группы A характерно, что 41,2% пользователей проживают в Mena, как и 41,2% пользователей группы B. Количество проживающих в EU в обеих группах равно и составляет 15,2% (группа A) и 14,8% (группа B)."
   ]
  },
  {
   "cell_type": "markdown",
   "metadata": {
    "id": "nudRr_BQ0eM2"
   },
   "source": [
    "### 4. Проверка результатов A/B-теста\n",
    "\n",
    "A/B-тест завершён, и у вас есть результаты за все дни проведения эксперимента. Необходимо убедиться в корректности теста и верно интерпретировать результаты."
   ]
  },
  {
   "cell_type": "markdown",
   "metadata": {
    "id": "JVve-YBB0eM2"
   },
   "source": [
    "#### 4.1. Получение результатов теста и подсчёт основной метрики\n",
    "\n",
    "- Считайте и сохраните в датафрейм `sessions_test` CSV-файл с историческими данными о сессиях пользователей `sessions_project_test.csv`.\n",
    "\n",
    "- В датафрейме `sessions_test` создайте дополнительный столбец `good_session`. В него войдёт значение `1`, если за одну сессию было просмотрено 4 и более страниц, и значение `0`, если просмотрено меньше."
   ]
  },
  {
   "cell_type": "code",
   "execution_count": 14,
   "metadata": {
    "id": "EqRlwMtKPTir"
   },
   "outputs": [
    {
     "data": {
      "text/html": [
       "<div>\n",
       "<style scoped>\n",
       "    .dataframe tbody tr th:only-of-type {\n",
       "        vertical-align: middle;\n",
       "    }\n",
       "\n",
       "    .dataframe tbody tr th {\n",
       "        vertical-align: top;\n",
       "    }\n",
       "\n",
       "    .dataframe thead th {\n",
       "        text-align: right;\n",
       "    }\n",
       "</style>\n",
       "<table border=\"1\" class=\"dataframe\">\n",
       "  <thead>\n",
       "    <tr style=\"text-align: right;\">\n",
       "      <th></th>\n",
       "      <th>user_id</th>\n",
       "      <th>session_id</th>\n",
       "      <th>session_date</th>\n",
       "      <th>session_start_ts</th>\n",
       "      <th>install_date</th>\n",
       "      <th>session_number</th>\n",
       "      <th>registration_flag</th>\n",
       "      <th>page_counter</th>\n",
       "      <th>region</th>\n",
       "      <th>device</th>\n",
       "      <th>test_group</th>\n",
       "      <th>good_session</th>\n",
       "    </tr>\n",
       "  </thead>\n",
       "  <tbody>\n",
       "    <tr>\n",
       "      <th>0</th>\n",
       "      <td>6DAE3B3654DA738E</td>\n",
       "      <td>C69249E26E58F6E2</td>\n",
       "      <td>2025-10-26</td>\n",
       "      <td>2025-10-26 18:15:05</td>\n",
       "      <td>2025-10-16</td>\n",
       "      <td>3</td>\n",
       "      <td>0</td>\n",
       "      <td>3</td>\n",
       "      <td>MENA</td>\n",
       "      <td>Android</td>\n",
       "      <td>A</td>\n",
       "      <td>0</td>\n",
       "    </tr>\n",
       "    <tr>\n",
       "      <th>1</th>\n",
       "      <td>0A3FE5D1DD59110A</td>\n",
       "      <td>66D66D7C9F5181B7</td>\n",
       "      <td>2025-10-21</td>\n",
       "      <td>2025-10-21 17:04:53</td>\n",
       "      <td>2025-10-15</td>\n",
       "      <td>2</td>\n",
       "      <td>1</td>\n",
       "      <td>2</td>\n",
       "      <td>CIS</td>\n",
       "      <td>Android</td>\n",
       "      <td>B</td>\n",
       "      <td>0</td>\n",
       "    </tr>\n",
       "    <tr>\n",
       "      <th>2</th>\n",
       "      <td>2041F1D7AA740B88</td>\n",
       "      <td>50DE51D42215E74C</td>\n",
       "      <td>2025-10-23</td>\n",
       "      <td>2025-10-23 17:39:29</td>\n",
       "      <td>2025-10-19</td>\n",
       "      <td>3</td>\n",
       "      <td>0</td>\n",
       "      <td>2</td>\n",
       "      <td>MENA</td>\n",
       "      <td>Android</td>\n",
       "      <td>A</td>\n",
       "      <td>0</td>\n",
       "    </tr>\n",
       "    <tr>\n",
       "      <th>3</th>\n",
       "      <td>43D7585009168086</td>\n",
       "      <td>5763C0C353C22263</td>\n",
       "      <td>2025-10-24</td>\n",
       "      <td>2025-10-24 15:01:57</td>\n",
       "      <td>2025-10-18</td>\n",
       "      <td>4</td>\n",
       "      <td>0</td>\n",
       "      <td>1</td>\n",
       "      <td>CIS</td>\n",
       "      <td>iPhone</td>\n",
       "      <td>B</td>\n",
       "      <td>0</td>\n",
       "    </tr>\n",
       "    <tr>\n",
       "      <th>4</th>\n",
       "      <td>15AD68B14D62D88C</td>\n",
       "      <td>B1AD09F93C1053BC</td>\n",
       "      <td>2025-10-17</td>\n",
       "      <td>2025-10-17 17:34:39</td>\n",
       "      <td>2025-10-17</td>\n",
       "      <td>1</td>\n",
       "      <td>0</td>\n",
       "      <td>2</td>\n",
       "      <td>MENA</td>\n",
       "      <td>Android</td>\n",
       "      <td>B</td>\n",
       "      <td>0</td>\n",
       "    </tr>\n",
       "  </tbody>\n",
       "</table>\n",
       "</div>"
      ],
      "text/plain": [
       "            user_id        session_id session_date     session_start_ts  \\\n",
       "0  6DAE3B3654DA738E  C69249E26E58F6E2   2025-10-26  2025-10-26 18:15:05   \n",
       "1  0A3FE5D1DD59110A  66D66D7C9F5181B7   2025-10-21  2025-10-21 17:04:53   \n",
       "2  2041F1D7AA740B88  50DE51D42215E74C   2025-10-23  2025-10-23 17:39:29   \n",
       "3  43D7585009168086  5763C0C353C22263   2025-10-24  2025-10-24 15:01:57   \n",
       "4  15AD68B14D62D88C  B1AD09F93C1053BC   2025-10-17  2025-10-17 17:34:39   \n",
       "\n",
       "  install_date  session_number  registration_flag  page_counter region  \\\n",
       "0   2025-10-16               3                  0             3   MENA   \n",
       "1   2025-10-15               2                  1             2    CIS   \n",
       "2   2025-10-19               3                  0             2   MENA   \n",
       "3   2025-10-18               4                  0             1    CIS   \n",
       "4   2025-10-17               1                  0             2   MENA   \n",
       "\n",
       "    device test_group  good_session  \n",
       "0  Android          A             0  \n",
       "1  Android          B             0  \n",
       "2  Android          A             0  \n",
       "3   iPhone          B             0  \n",
       "4  Android          B             0  "
      ]
     },
     "metadata": {},
     "output_type": "display_data"
    }
   ],
   "source": [
    "sessions_test = pd.read_csv('https://code.s3.yandex.net/datasets/sessions_project_test.csv')\n",
    "\n",
    "# Создание столбца 'good_session'\n",
    "sessions_test['good_session'] = (sessions_test['page_counter'] >= 4).astype(int)\n",
    "\n",
    "display(sessions_test.head())"
   ]
  },
  {
   "cell_type": "markdown",
   "metadata": {
    "id": "aeYhrMYy0eM2"
   },
   "source": [
    "#### 4.2. Проверка корректности результатов теста\n",
    "\n",
    "Прежде чем приступать к анализу ключевых продуктовых метрик, необходимо убедиться, что тест проведён корректно и вы будете сравнивать две сопоставимые группы.\n",
    "\n",
    "- Рассчитайте количество уникальных сессий для каждого дня и обеих тестовых групп, используя группировку.\n",
    "\n",
    "- Проверьте, что количество уникальных дневных сессий в двух выборках не различается или различия не статистически значимыми. Используйте статистический тест, который позволит сделать вывод о равенстве средних двух выборок.\n",
    "\n",
    "- В качестве ответа выведите на экран полученное значение p-value и интерпретируйте его."
   ]
  },
  {
   "cell_type": "code",
   "execution_count": 15,
   "metadata": {
    "id": "5NUlcltkTTSU"
   },
   "outputs": [
    {
     "name": "stdout",
     "output_type": "stream",
     "text": [
      "P-value: 0.9382195854082714\n",
      "Различие в количестве уникальных сессий между группами статистически незначимо.\n",
      "Нет оснований отвергать нулевую гипотезу.\n"
     ]
    }
   ],
   "source": [
    "from scipy import stats\n",
    "\n",
    "# Преобразование типов данных\n",
    "sessions_test['session_date'] = pd.to_datetime(sessions_test['session_date'])\n",
    "\n",
    "# Рассчитайте количество уникальных сессий для каждого дня и обеих тестовых групп\n",
    "daily_sessions = sessions_test.groupby(['session_date', 'test_group'])['session_id'].nunique().unstack()\n",
    "\n",
    "# Проверьте, что количество уникальных дневных сессий в двух выборках не различается статистически значимо\n",
    "# Используем t-тест Стьюдента для независимых выборок\n",
    "t_statistic, p_value = stats.ttest_ind(daily_sessions['A'].dropna(), daily_sessions['B'].dropna(), equal_var=False)\n",
    "\n",
    "print(f\"P-value: {p_value}\")\n",
    "\n",
    "# Интерпретируйте p-value\n",
    "alpha = 0.05  # Уровень значимости\n",
    "if p_value < alpha:\n",
    "    print(\"Различие в количестве уникальных сессий между группами статистически значимо.\")\n",
    "    print(\"Нулевая гипотеза о равенстве средних отвергается.\")\n",
    "else:\n",
    "    print(\"Различие в количестве уникальных сессий между группами статистически незначимо.\")\n",
    "    print(\"Нет оснований отвергать нулевую гипотезу.\")\n"
   ]
  },
  {
   "cell_type": "markdown",
   "metadata": {
    "id": "7kwRxzg70eM3"
   },
   "source": [
    "#### 4.3. Сравнение доли успешных сессий\n",
    "\n",
    "Когда вы убедились, что количество сессий в обеих выборках не различалось, можно переходить к анализу ключевой метрики — доли успешных сессий.\n",
    "\n",
    "Используйте созданный на первом шаге задания столбец `good_session` и рассчитайте долю успешных сессий для выборок A и B, а также разницу в этом показателе. Полученный вывод отобразите на экране."
   ]
  },
  {
   "cell_type": "code",
   "execution_count": 16,
   "metadata": {
    "id": "Uku-V1CpPRCz"
   },
   "outputs": [
    {
     "name": "stdout",
     "output_type": "stream",
     "text": [
      "Доля успешных сессий в группе A: 0.3077233557344958\n",
      "Доля успешных сессий в группе B: 0.31828992745867524\n",
      "Разница в доле успешных сессий (B - A): 0.010566571724179463\n"
     ]
    }
   ],
   "source": [
    "# Рассчитайте долю успешных сессий для выборок A и B\n",
    "good_session_rate = sessions_test.groupby('test_group')['good_session'].mean()\n",
    "\n",
    "# Рассчитайте разницу в доле успешных сессий\n",
    "difference = good_session_rate['B'] - good_session_rate['A']\n",
    "\n",
    "# Вывод результатов на экран\n",
    "print(\"Доля успешных сессий в группе A:\", good_session_rate['A'])\n",
    "print(\"Доля успешных сессий в группе B:\", good_session_rate['B'])\n",
    "print(\"Разница в доле успешных сессий (B - A):\", difference)"
   ]
  },
  {
   "cell_type": "markdown",
   "metadata": {
    "id": "9fMFuja10eM4"
   },
   "source": [
    "#### 4.4. Насколько статистически значимо изменение ключевой метрики\n",
    "\n",
    "На предыдущем шаге вы убедились, что количество успешных сессий в тестовой выборке примерно на 1.1% выше, чем в контрольной, но делать выводы только на основе этого значения будет некорректно. Для принятия решения всегда необходимо отвечать на вопрос: является ли это изменение статистически значимым.\n",
    "\n",
    "- Используя статистический тест, рассчитайте, является ли изменение в метрике доли успешных сессий статистически значимым.\n",
    "\n",
    "- Выведите на экран полученное значение p-value и свои выводы о статистической значимости. Напомним, что уровень значимости в эксперименте был выбран на уровне 0.05."
   ]
  },
  {
   "cell_type": "code",
   "execution_count": 17,
   "metadata": {
    "id": "gFvhRGwlPLS0"
   },
   "outputs": [
    {
     "name": "stdout",
     "output_type": "stream",
     "text": [
      "P-value: 0.0001574739988036123\n",
      "Изменение в доле успешных сессий статистически значимо.\n",
      "Отвергаем нулевую гипотезу о равенстве долей.\n",
      "Новый алгоритм (группа B) имеет статистически значимое положительное влияние на долю успешных сессий.\n"
     ]
    }
   ],
   "source": [
    "# Рассчитайте количество успешных сессий и общее количество сессий для каждой группы\n",
    "successes_a = sessions_test[sessions_test['test_group'] == 'A']['good_session'].sum()\n",
    "successes_b = sessions_test[sessions_test['test_group'] == 'B']['good_session'].sum()\n",
    "n_a = len(sessions_test[sessions_test['test_group'] == 'A'])\n",
    "n_b = len(sessions_test[sessions_test['test_group'] == 'B'])\n",
    "\n",
    "# Проведите z-тест для пропорций\n",
    "z_statistic, p_value = proportion.proportions_ztest([successes_b, successes_a], [n_b, n_a], alternative='larger')\n",
    "\n",
    "print(f\"P-value: {p_value}\")\n",
    "\n",
    "# Сравните p-value с уровнем значимости и сделайте выводы\n",
    "alpha = 0.05\n",
    "if p_value < alpha:\n",
    "    print(\"Изменение в доле успешных сессий статистически значимо.\")\n",
    "    print(\"Отвергаем нулевую гипотезу о равенстве долей.\")\n",
    "    print(\"Новый алгоритм (группа B) имеет статистически значимое положительное влияние на долю успешных сессий.\")\n",
    "else:\n",
    "    print(\"Изменение в доле успешных сессий статистически незначимо.\")\n",
    "    print(\"Нет оснований отвергать нулевую гипотезу о равенстве долей.\")\n",
    "    print(\"Недостаточно оснований утверждать, что новый алгоритм (группа B) оказывает статистически значимое влияние на долю успешных сессий.\")"
   ]
  },
  {
   "cell_type": "markdown",
   "metadata": {
    "id": "GnJrkY9Q63zS"
   },
   "source": [
    "#### 4.5. Вывод по результатам A/B-эксперимента\n",
    "\n",
    "На основе проведённого анализа результатов теста сформулируйте и запишите свои выводы для команды разработки приложения. В выводе обязательно укажите:\n",
    "\n",
    "- Характеристики проведённого эксперимента, количество задействованных пользователей и длительность эксперимента.\n",
    "\n",
    "- Повлияло ли внедрение нового алгоритма рекомендаций на рост ключевой метрики и как.\n",
    "\n",
    "- Каким получилось значение p-value для оценки статистической значимости выявленного эффекта.\n",
    "\n",
    "- Стоит ли внедрять нововведение в приложение."
   ]
  },
  {
   "cell_type": "markdown",
   "metadata": {
    "id": "rri8KRIgPMrW"
   },
   "source": [
    "###### Характеристики эксперимента:\n",
    "\n",
    "- Цель эксперимента: оценка влияния нового алгоритма рекомендаций на долю успешных сессий в приложении. Успешной сессией считается сессия, в которой пользователь просмотрел 4 и более страниц.\n",
    "\n",
    "- Метрика: доля успешных сессий (отношение количества успешных сессий к общему количеству сессий).\n",
    "\n",
    "- Продолжительность эксперимента: 9 дней.\n",
    "\n",
    "-  Количество задействованных пользователей: 41040 (для каждой группы)\n",
    "\n",
    "-  Группы:\n",
    "  - Группа A (контрольная группа): Пользователи, которым показывается контент на основе старого алгоритма рекомендаций.\n",
    "  -  Группа B (тестовая группа): Пользователи, которым показывается контент на основе нового алгоритма рекомендаций.\n",
    "\n",
    "-  Уровень значимости (alpha): 0.05\n",
    "\n",
    "Результаты эксперимента:\n",
    "\n",
    "-  Размер групп: статистически значимых различий в количестве сессий между группами A и B выявлено не было (p-value = 0.9382). Это означает, что трафик был разделен между группами корректно.\n",
    "\n",
    "-  Доля успешных сессий:\n",
    "  -  В группе A (старый алгоритм) доля успешных сессий составила 0.3077 (30.77%).\n",
    "  -  В группе B (новый алгоритм) доля успешных сессий составила 0.3183 (31.83%).\n",
    "  -  Разница между группами: Доля успешных сессий в группе B на 0.0106 (1.06 процентных пункта) выше, чем в группе A.\n",
    "\n",
    "-  Статистическая значимость: Результаты z-теста для пропорций показали, что изменение в доле успешных сессий статистически значимо (p-value = 0.000157). Так как p-value меньше установленного уровня значимости (0.05), мы отвергаем нулевую гипотезу о равенстве долей и можем заключить, что новый алгоритм оказывает статистически значимое влияние на долю успешных сессий.\n"
   ]
  },
  {
   "cell_type": "markdown",
   "metadata": {},
   "source": [
    "###### Рекомендация:\n",
    "\n",
    "На основе результатов проведенного A/B-теста, рекомендуется внедрить новый алгоритм рекомендаций в приложение.\n",
    "\n",
    "Новый алгоритм статистически значимо увеличивает долю успешных сессий на 1.06 процентных пункта. Несмотря на то что это изменение может показаться небольшим, статистическая значимость этого результата позволяет с уверенностью говорить о том, что новый алгоритм действительно оказывает положительное влияние на вовлеченность пользователей. Увеличение доли успешных сессий может привести к увеличению времени, проводимого пользователями в приложении, увеличению количества просмотренных страниц и, как следствие, к увеличению конверсии в регистрацию и подписку.\n",
    "\n",
    "В целом, A/B-тест показал положительный эффект от внедрения нового алгоритма рекомендаций. Принятие решения о внедрении нововведения подкреплено статистической значимостью полученных результатов и потенциальным положительным влиянием на ключевые бизнес-показатели."
   ]
  }
 ],
 "metadata": {
  "ExecuteTimeLog": [
   {
    "duration": 408,
    "start_time": "2025-06-29T06:47:03.221Z"
   },
   {
    "duration": 6,
    "start_time": "2025-06-29T06:47:21.634Z"
   },
   {
    "duration": 68,
    "start_time": "2025-06-29T06:50:27.529Z"
   },
   {
    "duration": 3,
    "start_time": "2025-06-29T06:50:30.925Z"
   },
   {
    "duration": 2066,
    "start_time": "2025-06-29T06:50:31.439Z"
   },
   {
    "duration": 16,
    "start_time": "2025-06-29T06:50:33.507Z"
   },
   {
    "duration": 7,
    "start_time": "2025-06-29T06:54:42.455Z"
   },
   {
    "duration": 10,
    "start_time": "2025-06-29T06:54:46.685Z"
   },
   {
    "duration": 8,
    "start_time": "2025-06-29T06:54:47.974Z"
   },
   {
    "duration": 3,
    "start_time": "2025-06-29T06:55:04.247Z"
   },
   {
    "duration": 2068,
    "start_time": "2025-06-29T06:55:04.761Z"
   },
   {
    "duration": 22,
    "start_time": "2025-06-29T06:55:06.831Z"
   },
   {
    "duration": 532,
    "start_time": "2025-06-29T06:55:17.600Z"
   },
   {
    "duration": 525,
    "start_time": "2025-06-29T06:55:30.276Z"
   },
   {
    "duration": 7,
    "start_time": "2025-06-29T06:55:53.975Z"
   },
   {
    "duration": 2,
    "start_time": "2025-06-29T06:55:56.948Z"
   },
   {
    "duration": 2162,
    "start_time": "2025-06-29T06:55:57.459Z"
   },
   {
    "duration": 13,
    "start_time": "2025-06-29T06:55:59.623Z"
   },
   {
    "duration": 529,
    "start_time": "2025-06-29T06:56:00.954Z"
   },
   {
    "duration": 427,
    "start_time": "2025-06-29T07:03:41.005Z"
   },
   {
    "duration": 1820,
    "start_time": "2025-06-29T07:03:42.033Z"
   },
   {
    "duration": 10,
    "start_time": "2025-06-29T07:03:43.855Z"
   },
   {
    "duration": 553,
    "start_time": "2025-06-29T07:03:44.257Z"
   },
   {
    "duration": 2314,
    "start_time": "2025-06-29T07:03:46.639Z"
   },
   {
    "duration": 11,
    "start_time": "2025-06-29T07:04:15.708Z"
   },
   {
    "duration": 531,
    "start_time": "2025-06-29T07:04:25.519Z"
   },
   {
    "duration": 949,
    "start_time": "2025-06-29T07:11:53.921Z"
   },
   {
    "duration": 2,
    "start_time": "2025-06-29T07:12:53.879Z"
   },
   {
    "duration": 2,
    "start_time": "2025-06-29T07:12:54.461Z"
   },
   {
    "duration": 1928,
    "start_time": "2025-06-29T07:12:55.123Z"
   },
   {
    "duration": 10,
    "start_time": "2025-06-29T07:12:57.269Z"
   },
   {
    "duration": 524,
    "start_time": "2025-06-29T07:12:59.456Z"
   },
   {
    "duration": 870,
    "start_time": "2025-06-29T07:13:02.084Z"
   },
   {
    "duration": 1227,
    "start_time": "2025-06-29T07:14:48.428Z"
   },
   {
    "duration": 856,
    "start_time": "2025-06-29T07:15:39.052Z"
   },
   {
    "duration": 351,
    "start_time": "2025-06-29T07:17:04.634Z"
   },
   {
    "duration": 333,
    "start_time": "2025-06-29T07:17:48.454Z"
   },
   {
    "duration": 916,
    "start_time": "2025-06-29T07:18:27.439Z"
   },
   {
    "duration": 325,
    "start_time": "2025-06-29T07:18:29.882Z"
   },
   {
    "duration": 307,
    "start_time": "2025-06-29T07:20:00.847Z"
   },
   {
    "duration": 80,
    "start_time": "2025-06-29T07:25:17.813Z"
   },
   {
    "duration": 478,
    "start_time": "2025-06-29T07:26:58.350Z"
   },
   {
    "duration": 13,
    "start_time": "2025-06-29T07:27:13.090Z"
   },
   {
    "duration": 73,
    "start_time": "2025-06-29T07:27:50.188Z"
   },
   {
    "duration": 338,
    "start_time": "2025-06-29T07:28:02.873Z"
   },
   {
    "duration": 341,
    "start_time": "2025-06-29T07:28:05.309Z"
   },
   {
    "duration": 14,
    "start_time": "2025-06-29T07:28:09.357Z"
   },
   {
    "duration": 83,
    "start_time": "2025-06-29T07:29:40.149Z"
   },
   {
    "duration": 14,
    "start_time": "2025-06-29T07:29:44.300Z"
   },
   {
    "duration": 74,
    "start_time": "2025-06-29T07:29:45.723Z"
   },
   {
    "duration": 77,
    "start_time": "2025-06-29T07:30:18.227Z"
   },
   {
    "duration": 95,
    "start_time": "2025-06-29T07:30:33.335Z"
   },
   {
    "duration": 77,
    "start_time": "2025-06-29T07:30:41.826Z"
   },
   {
    "duration": 81,
    "start_time": "2025-06-29T07:30:53.535Z"
   },
   {
    "duration": 452,
    "start_time": "2025-06-29T07:31:16.132Z"
   },
   {
    "duration": 238,
    "start_time": "2025-06-29T07:31:16.586Z"
   },
   {
    "duration": 2043,
    "start_time": "2025-06-29T07:31:16.825Z"
   },
   {
    "duration": 14,
    "start_time": "2025-06-29T07:31:18.869Z"
   },
   {
    "duration": 580,
    "start_time": "2025-06-29T07:31:18.884Z"
   },
   {
    "duration": 1265,
    "start_time": "2025-06-29T07:31:19.465Z"
   },
   {
    "duration": 323,
    "start_time": "2025-06-29T07:31:20.735Z"
   },
   {
    "duration": 311,
    "start_time": "2025-06-29T07:31:21.060Z"
   },
   {
    "duration": 505,
    "start_time": "2025-06-29T07:31:21.372Z"
   },
   {
    "duration": 78,
    "start_time": "2025-06-29T07:31:21.879Z"
   },
   {
    "duration": 193,
    "start_time": "2025-06-29T07:33:18.313Z"
   },
   {
    "duration": 106,
    "start_time": "2025-06-29T07:33:32.679Z"
   },
   {
    "duration": 79,
    "start_time": "2025-06-29T07:34:33.440Z"
   },
   {
    "duration": 1787,
    "start_time": "2025-06-29T07:37:27.084Z"
   },
   {
    "duration": 11,
    "start_time": "2025-06-29T07:37:28.873Z"
   },
   {
    "duration": 572,
    "start_time": "2025-06-29T07:37:28.885Z"
   },
   {
    "duration": 1160,
    "start_time": "2025-06-29T07:37:29.459Z"
   },
   {
    "duration": 344,
    "start_time": "2025-06-29T07:37:30.620Z"
   },
   {
    "duration": 406,
    "start_time": "2025-06-29T07:37:30.965Z"
   },
   {
    "duration": 15,
    "start_time": "2025-06-29T07:37:31.647Z"
   },
   {
    "duration": 110,
    "start_time": "2025-06-29T07:37:32.811Z"
   },
   {
    "duration": 214,
    "start_time": "2025-06-29T07:38:27.881Z"
   },
   {
    "duration": 8,
    "start_time": "2025-06-29T07:41:52.801Z"
   },
   {
    "duration": 8,
    "start_time": "2025-06-29T07:42:06.723Z"
   },
   {
    "duration": 10,
    "start_time": "2025-06-29T07:43:13.269Z"
   },
   {
    "duration": 378,
    "start_time": "2025-06-29T07:43:46.980Z"
   },
   {
    "duration": 327,
    "start_time": "2025-06-29T07:44:06.265Z"
   },
   {
    "duration": 367,
    "start_time": "2025-06-29T07:44:56.192Z"
   },
   {
    "duration": 403,
    "start_time": "2025-06-29T07:45:34.267Z"
   },
   {
    "duration": 1766,
    "start_time": "2025-06-29T07:48:19.624Z"
   },
   {
    "duration": 11,
    "start_time": "2025-06-29T07:48:21.392Z"
   },
   {
    "duration": 610,
    "start_time": "2025-06-29T07:48:21.404Z"
   },
   {
    "duration": 1102,
    "start_time": "2025-06-29T07:48:22.016Z"
   },
   {
    "duration": 334,
    "start_time": "2025-06-29T07:48:23.120Z"
   },
   {
    "duration": 396,
    "start_time": "2025-06-29T07:48:23.460Z"
   },
   {
    "duration": 13,
    "start_time": "2025-06-29T07:48:23.858Z"
   },
   {
    "duration": 132,
    "start_time": "2025-06-29T07:48:23.923Z"
   },
   {
    "duration": 169,
    "start_time": "2025-06-29T07:48:24.448Z"
   },
   {
    "duration": 9,
    "start_time": "2025-06-29T07:48:26.287Z"
   },
   {
    "duration": 440,
    "start_time": "2025-06-29T07:48:28.107Z"
   },
   {
    "duration": 395,
    "start_time": "2025-06-29T07:48:30.063Z"
   },
   {
    "duration": 649,
    "start_time": "2025-06-29T07:49:23.718Z"
   },
   {
    "duration": 346,
    "start_time": "2025-06-29T07:50:06.983Z"
   },
   {
    "duration": 781,
    "start_time": "2025-06-29T07:50:30.185Z"
   },
   {
    "duration": 436,
    "start_time": "2025-06-29T07:50:47.480Z"
   },
   {
    "duration": 64,
    "start_time": "2025-06-29T07:52:51.930Z"
   },
   {
    "duration": 12,
    "start_time": "2025-06-29T07:54:42.047Z"
   },
   {
    "duration": 12,
    "start_time": "2025-06-29T07:54:48.610Z"
   },
   {
    "duration": 13,
    "start_time": "2025-06-29T07:55:31.940Z"
   },
   {
    "duration": 72,
    "start_time": "2025-06-29T07:56:31.544Z"
   },
   {
    "duration": 63,
    "start_time": "2025-06-29T07:56:56.433Z"
   },
   {
    "duration": 119,
    "start_time": "2025-06-29T08:00:27.064Z"
   },
   {
    "duration": 3,
    "start_time": "2025-06-29T08:08:34.720Z"
   },
   {
    "duration": 3,
    "start_time": "2025-06-29T08:08:35.315Z"
   },
   {
    "duration": 1827,
    "start_time": "2025-06-29T08:08:35.931Z"
   },
   {
    "duration": 12,
    "start_time": "2025-06-29T08:08:37.760Z"
   },
   {
    "duration": 557,
    "start_time": "2025-06-29T08:08:39.671Z"
   },
   {
    "duration": 1147,
    "start_time": "2025-06-29T08:08:43.506Z"
   },
   {
    "duration": 384,
    "start_time": "2025-06-29T08:08:47.034Z"
   },
   {
    "duration": 347,
    "start_time": "2025-06-29T08:08:49.100Z"
   },
   {
    "duration": 16,
    "start_time": "2025-06-29T08:08:59.970Z"
   },
   {
    "duration": 139,
    "start_time": "2025-06-29T08:09:14.101Z"
   },
   {
    "duration": 158,
    "start_time": "2025-06-29T08:09:18.994Z"
   },
   {
    "duration": 164,
    "start_time": "2025-06-29T08:09:28.760Z"
   },
   {
    "duration": 21,
    "start_time": "2025-06-29T08:09:42.831Z"
   },
   {
    "duration": 113,
    "start_time": "2025-06-29T08:09:45.473Z"
   },
   {
    "duration": 188,
    "start_time": "2025-06-29T08:10:36.387Z"
   },
   {
    "duration": 390,
    "start_time": "2025-06-29T08:11:18.082Z"
   },
   {
    "duration": 485,
    "start_time": "2025-06-29T08:11:38.911Z"
   },
   {
    "duration": 386,
    "start_time": "2025-06-29T08:21:33.698Z"
   },
   {
    "duration": 103,
    "start_time": "2025-06-29T08:21:38.834Z"
   },
   {
    "duration": 406,
    "start_time": "2025-06-29T08:21:56.893Z"
   },
   {
    "duration": 397,
    "start_time": "2025-06-29T08:23:07.808Z"
   },
   {
    "duration": 407,
    "start_time": "2025-06-29T08:23:21.767Z"
   },
   {
    "duration": 401,
    "start_time": "2025-06-29T08:26:03.715Z"
   },
   {
    "duration": 254,
    "start_time": "2025-06-29T08:26:04.118Z"
   },
   {
    "duration": 1421,
    "start_time": "2025-06-29T08:26:04.374Z"
   },
   {
    "duration": 15,
    "start_time": "2025-06-29T08:26:05.797Z"
   },
   {
    "duration": 652,
    "start_time": "2025-06-29T08:26:05.814Z"
   },
   {
    "duration": 1296,
    "start_time": "2025-06-29T08:26:06.468Z"
   },
   {
    "duration": 355,
    "start_time": "2025-06-29T08:26:07.766Z"
   },
   {
    "duration": 329,
    "start_time": "2025-06-29T08:26:08.123Z"
   },
   {
    "duration": 509,
    "start_time": "2025-06-29T08:26:08.453Z"
   },
   {
    "duration": 126,
    "start_time": "2025-06-29T08:26:08.966Z"
   },
   {
    "duration": 234,
    "start_time": "2025-06-29T08:26:09.094Z"
   },
   {
    "duration": 18,
    "start_time": "2025-06-29T08:26:09.335Z"
   },
   {
    "duration": 317,
    "start_time": "2025-06-29T08:26:09.355Z"
   },
   {
    "duration": 391,
    "start_time": "2025-06-29T08:26:09.673Z"
   },
   {
    "duration": 435,
    "start_time": "2025-06-29T08:26:10.066Z"
   },
   {
    "duration": 71,
    "start_time": "2025-06-29T08:26:10.503Z"
   },
   {
    "duration": 11,
    "start_time": "2025-06-29T08:26:10.575Z"
   },
   {
    "duration": 77,
    "start_time": "2025-06-29T08:26:10.587Z"
   },
   {
    "duration": 3,
    "start_time": "2025-06-29T08:26:59.425Z"
   },
   {
    "duration": 3,
    "start_time": "2025-06-29T08:27:00.117Z"
   },
   {
    "duration": 2498,
    "start_time": "2025-06-29T08:27:00.795Z"
   },
   {
    "duration": 10,
    "start_time": "2025-06-29T08:27:07.412Z"
   },
   {
    "duration": 560,
    "start_time": "2025-06-29T08:27:10.525Z"
   },
   {
    "duration": 1153,
    "start_time": "2025-06-29T08:27:12.813Z"
   },
   {
    "duration": 345,
    "start_time": "2025-06-29T08:27:15.644Z"
   },
   {
    "duration": 337,
    "start_time": "2025-06-29T08:27:18.572Z"
   },
   {
    "duration": 15,
    "start_time": "2025-06-29T08:27:23.271Z"
   },
   {
    "duration": 113,
    "start_time": "2025-06-29T08:27:25.358Z"
   },
   {
    "duration": 172,
    "start_time": "2025-06-29T08:27:27.605Z"
   },
   {
    "duration": 15,
    "start_time": "2025-06-29T08:27:28.939Z"
   },
   {
    "duration": 331,
    "start_time": "2025-06-29T08:27:30.135Z"
   },
   {
    "duration": 350,
    "start_time": "2025-06-29T08:27:31.952Z"
   },
   {
    "duration": 380,
    "start_time": "2025-06-29T08:27:36.307Z"
   },
   {
    "duration": 462,
    "start_time": "2025-06-29T08:27:41.024Z"
   },
   {
    "duration": 67,
    "start_time": "2025-06-29T08:27:42.411Z"
   },
   {
    "duration": 12,
    "start_time": "2025-06-29T08:27:43.795Z"
   },
   {
    "duration": 68,
    "start_time": "2025-06-29T08:27:45.194Z"
   },
   {
    "duration": 434,
    "start_time": "2025-06-29T08:28:34.042Z"
   },
   {
    "duration": 67,
    "start_time": "2025-06-29T08:28:35.284Z"
   },
   {
    "duration": 11,
    "start_time": "2025-06-29T08:28:36.369Z"
   },
   {
    "duration": 72,
    "start_time": "2025-06-29T08:28:37.458Z"
   },
   {
    "duration": 433,
    "start_time": "2025-06-29T20:30:46.311Z"
   },
   {
    "duration": 244,
    "start_time": "2025-06-29T20:30:46.746Z"
   },
   {
    "duration": 2361,
    "start_time": "2025-06-29T20:30:46.992Z"
   },
   {
    "duration": 14,
    "start_time": "2025-06-29T20:30:49.355Z"
   },
   {
    "duration": 895,
    "start_time": "2025-06-29T20:30:49.371Z"
   },
   {
    "duration": 1286,
    "start_time": "2025-06-29T20:30:50.268Z"
   },
   {
    "duration": 349,
    "start_time": "2025-06-29T20:30:51.556Z"
   },
   {
    "duration": 335,
    "start_time": "2025-06-29T20:30:51.907Z"
   },
   {
    "duration": 539,
    "start_time": "2025-06-29T20:30:52.244Z"
   },
   {
    "duration": 124,
    "start_time": "2025-06-29T20:30:52.785Z"
   },
   {
    "duration": 229,
    "start_time": "2025-06-29T20:30:52.911Z"
   },
   {
    "duration": 10,
    "start_time": "2025-06-29T20:30:53.142Z"
   },
   {
    "duration": 327,
    "start_time": "2025-06-29T20:30:53.153Z"
   },
   {
    "duration": 413,
    "start_time": "2025-06-29T20:30:53.482Z"
   },
   {
    "duration": 617,
    "start_time": "2025-06-29T20:30:53.897Z"
   },
   {
    "duration": 69,
    "start_time": "2025-06-29T20:30:54.516Z"
   },
   {
    "duration": 11,
    "start_time": "2025-06-29T20:30:54.587Z"
   },
   {
    "duration": 78,
    "start_time": "2025-06-29T20:30:54.600Z"
   },
   {
    "duration": 97,
    "start_time": "2025-06-29T20:37:54.323Z"
   },
   {
    "duration": 155,
    "start_time": "2025-06-29T20:38:06.237Z"
   },
   {
    "duration": 66,
    "start_time": "2025-06-29T20:39:14.136Z"
   },
   {
    "duration": 66,
    "start_time": "2025-06-29T20:40:44.730Z"
   },
   {
    "duration": 1202,
    "start_time": "2025-06-30T05:44:32.506Z"
   },
   {
    "duration": 2039,
    "start_time": "2025-06-30T05:44:34.248Z"
   },
   {
    "duration": 15,
    "start_time": "2025-06-30T05:44:36.289Z"
   },
   {
    "duration": 604,
    "start_time": "2025-06-30T05:44:40.173Z"
   },
   {
    "duration": 1286,
    "start_time": "2025-06-30T05:46:23.236Z"
   },
   {
    "duration": 336,
    "start_time": "2025-06-30T06:05:25.994Z"
   },
   {
    "duration": 18,
    "start_time": "2025-06-30T06:12:53.159Z"
   },
   {
    "duration": 137,
    "start_time": "2025-06-30T06:13:00.103Z"
   },
   {
    "duration": 135,
    "start_time": "2025-06-30T06:14:07.842Z"
   },
   {
    "duration": 155,
    "start_time": "2025-06-30T06:15:59.489Z"
   },
   {
    "duration": 99,
    "start_time": "2025-06-30T06:20:15.597Z"
   },
   {
    "duration": 158,
    "start_time": "2025-06-30T06:20:23.731Z"
   },
   {
    "duration": 171,
    "start_time": "2025-06-30T06:20:28.850Z"
   },
   {
    "duration": 9,
    "start_time": "2025-06-30T06:20:33.254Z"
   },
   {
    "duration": 338,
    "start_time": "2025-06-30T06:20:35.826Z"
   },
   {
    "duration": 319,
    "start_time": "2025-06-30T06:21:21.540Z"
   },
   {
    "duration": 372,
    "start_time": "2025-06-30T06:25:52.802Z"
   },
   {
    "duration": 420,
    "start_time": "2025-06-30T06:31:32.062Z"
   },
   {
    "duration": 381,
    "start_time": "2025-06-30T06:31:34.663Z"
   },
   {
    "duration": 594,
    "start_time": "2025-06-30T06:31:40.401Z"
   },
   {
    "duration": 70,
    "start_time": "2025-06-30T06:31:43.440Z"
   },
   {
    "duration": 51,
    "start_time": "2025-06-30T06:32:52.898Z"
   },
   {
    "duration": 69,
    "start_time": "2025-06-30T06:35:35.899Z"
   },
   {
    "duration": 67,
    "start_time": "2025-06-30T06:35:54.154Z"
   },
   {
    "duration": 70,
    "start_time": "2025-06-30T06:37:01.098Z"
   },
   {
    "duration": 12,
    "start_time": "2025-06-30T06:37:10.324Z"
   },
   {
    "duration": 67,
    "start_time": "2025-06-30T06:37:13.522Z"
   },
   {
    "duration": 64,
    "start_time": "2025-06-30T06:38:40.841Z"
   },
   {
    "duration": 3,
    "start_time": "2025-06-30T06:46:05.475Z"
   },
   {
    "duration": 1909,
    "start_time": "2025-06-30T06:46:08.769Z"
   },
   {
    "duration": 12,
    "start_time": "2025-06-30T06:46:10.680Z"
   },
   {
    "duration": 588,
    "start_time": "2025-06-30T06:46:12.463Z"
   },
   {
    "duration": 1142,
    "start_time": "2025-06-30T06:46:16.022Z"
   },
   {
    "duration": 325,
    "start_time": "2025-06-30T06:46:24.240Z"
   },
   {
    "duration": 320,
    "start_time": "2025-06-30T06:46:28.107Z"
   },
   {
    "duration": 17,
    "start_time": "2025-06-30T06:46:47.635Z"
   },
   {
    "duration": 149,
    "start_time": "2025-06-30T06:46:50.606Z"
   },
   {
    "duration": 202,
    "start_time": "2025-06-30T06:46:56.245Z"
   },
   {
    "duration": 9,
    "start_time": "2025-06-30T06:46:58.791Z"
   },
   {
    "duration": 333,
    "start_time": "2025-06-30T06:47:01.523Z"
   },
   {
    "duration": 399,
    "start_time": "2025-06-30T06:47:07.192Z"
   },
   {
    "duration": 587,
    "start_time": "2025-06-30T06:49:48.890Z"
   },
   {
    "duration": 66,
    "start_time": "2025-06-30T06:49:51.618Z"
   },
   {
    "duration": 13,
    "start_time": "2025-06-30T06:49:54.894Z"
   },
   {
    "duration": 67,
    "start_time": "2025-06-30T06:49:57.074Z"
   },
   {
    "duration": 1233,
    "start_time": "2025-06-30T12:21:21.793Z"
   },
   {
    "duration": 2130,
    "start_time": "2025-06-30T12:21:23.027Z"
   },
   {
    "duration": 21,
    "start_time": "2025-06-30T12:21:25.162Z"
   },
   {
    "duration": 701,
    "start_time": "2025-06-30T12:21:25.185Z"
   },
   {
    "duration": 1405,
    "start_time": "2025-06-30T12:21:25.889Z"
   },
   {
    "duration": 349,
    "start_time": "2025-06-30T12:21:27.296Z"
   },
   {
    "duration": 342,
    "start_time": "2025-06-30T12:21:27.647Z"
   },
   {
    "duration": 15,
    "start_time": "2025-06-30T12:21:27.990Z"
   },
   {
    "duration": 193,
    "start_time": "2025-06-30T12:21:28.007Z"
   },
   {
    "duration": 207,
    "start_time": "2025-06-30T12:21:28.202Z"
   },
   {
    "duration": 8,
    "start_time": "2025-06-30T12:21:28.411Z"
   },
   {
    "duration": 387,
    "start_time": "2025-06-30T12:21:28.421Z"
   },
   {
    "duration": 425,
    "start_time": "2025-06-30T12:21:28.810Z"
   },
   {
    "duration": 423,
    "start_time": "2025-06-30T12:21:29.239Z"
   },
   {
    "duration": 66,
    "start_time": "2025-06-30T12:21:29.664Z"
   },
   {
    "duration": 62,
    "start_time": "2025-06-30T12:21:29.732Z"
   },
   {
    "duration": 144,
    "start_time": "2025-06-30T12:21:29.795Z"
   }
  ],
  "colab": {
   "provenance": []
  },
  "kernelspec": {
   "display_name": "Python 3 (ipykernel)",
   "language": "python",
   "name": "python3"
  },
  "language_info": {
   "codemirror_mode": {
    "name": "ipython",
    "version": 3
   },
   "file_extension": ".py",
   "mimetype": "text/x-python",
   "name": "python",
   "nbconvert_exporter": "python",
   "pygments_lexer": "ipython3",
   "version": "3.9.5"
  },
  "toc": {
   "base_numbering": 1,
   "nav_menu": {},
   "number_sections": true,
   "sideBar": true,
   "skip_h1_title": true,
   "title_cell": "Table of Contents",
   "title_sidebar": "Contents",
   "toc_cell": false,
   "toc_position": {
    "height": "calc(100% - 180px)",
    "left": "10px",
    "top": "150px",
    "width": "321.038px"
   },
   "toc_section_display": true,
   "toc_window_display": true
  }
 },
 "nbformat": 4,
 "nbformat_minor": 1
}
